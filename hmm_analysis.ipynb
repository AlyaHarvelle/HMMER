{
 "cells": [
  {
   "cell_type": "markdown",
   "metadata": {},
   "source": [
    "This is the notebook related to HMM data analysis. To run this, please uncomment all the cells an press \"Run all\" button."
   ]
  },
  {
   "cell_type": "code",
   "execution_count": 1,
   "metadata": {},
   "outputs": [],
   "source": [
    "# Set the path and input parameters\n",
    "import os\n",
    "directory = os.getcwd() # the main directory of the project\n",
    "\n",
    "# The credentials for the remote cluster\n",
    "name = 'alina'\n",
    "server = 'ecate'"
   ]
  },
  {
   "cell_type": "code",
   "execution_count": 2,
   "metadata": {
    "ExecuteTime": {
     "end_time": "2023-08-28T18:44:32.788268Z",
     "start_time": "2023-08-28T18:44:28.819948Z"
    }
   },
   "outputs": [],
   "source": [
    "# Importing the libraries and functions\n",
    "from functions import *"
   ]
  },
  {
   "cell_type": "markdown",
   "metadata": {
    "ExecuteTime": {
     "end_time": "2023-05-23T07:50:02.095781Z",
     "start_time": "2023-05-23T07:50:00.613949Z"
    }
   },
   "source": [
    "# HMM analysis\n",
    "\n",
    "Here we will construct and analyze HMM models retrieved from MSAs. We will utilize several databases as sources to enhance our analysis and gain valuable insights from the generated HMM profiles.\n",
    "- Reference Proteome 75%: the database of protein sequences.\n",
    "- Interpro: the database of protein domains."
   ]
  },
  {
   "cell_type": "markdown",
   "metadata": {
    "ExecuteTime": {
     "end_time": "2023-07-12T15:11:40.550153Z",
     "start_time": "2023-07-12T15:11:40.547321Z"
    }
   },
   "source": [
    "## 1. hmmsearch results analysis\n",
    "\n",
    "After performing `hmmsearch` against `RP 75%`, we retrieve the dataframe `hmmsearch_results_clustal` with the statistics."
   ]
  },
  {
   "cell_type": "code",
   "execution_count": 3,
   "metadata": {},
   "outputs": [
    {
     "name": "stdout",
     "output_type": "stream",
     "text": [
      "The number of generated HMMs for the 35 alignments: 45\n"
     ]
    },
    {
     "data": {
      "text/html": [
       "<div>\n",
       "<style scoped>\n",
       "    .dataframe tbody tr th:only-of-type {\n",
       "        vertical-align: middle;\n",
       "    }\n",
       "\n",
       "    .dataframe tbody tr th {\n",
       "        vertical-align: top;\n",
       "    }\n",
       "\n",
       "    .dataframe thead th {\n",
       "        text-align: right;\n",
       "    }\n",
       "</style>\n",
       "<table border=\"1\" class=\"dataframe\">\n",
       "  <thead>\n",
       "    <tr style=\"text-align: right;\">\n",
       "      <th></th>\n",
       "      <th>E-value</th>\n",
       "      <th>score</th>\n",
       "      <th>bias</th>\n",
       "      <th>exp</th>\n",
       "      <th>N</th>\n",
       "      <th>query_id</th>\n",
       "      <th>hmm_id</th>\n",
       "      <th>Sequence</th>\n",
       "      <th>hmm_from</th>\n",
       "      <th>hmm_to</th>\n",
       "      <th>hmm_length</th>\n",
       "      <th>ali_from</th>\n",
       "      <th>ali_to</th>\n",
       "      <th>ali_length</th>\n",
       "      <th>env_from</th>\n",
       "      <th>env_to</th>\n",
       "      <th>env_length</th>\n",
       "    </tr>\n",
       "  </thead>\n",
       "  <tbody>\n",
       "    <tr>\n",
       "      <th>0</th>\n",
       "      <td>3.800000e-32</td>\n",
       "      <td>122.0</td>\n",
       "      <td>13.1</td>\n",
       "      <td>1.0</td>\n",
       "      <td>1</td>\n",
       "      <td>Q8IW19</td>\n",
       "      <td>Q8IW19_450-511</td>\n",
       "      <td>A0A8C7BFT3</td>\n",
       "      <td>1</td>\n",
       "      <td>61</td>\n",
       "      <td>61</td>\n",
       "      <td>9</td>\n",
       "      <td>69</td>\n",
       "      <td>61</td>\n",
       "      <td>9</td>\n",
       "      <td>70</td>\n",
       "      <td>62</td>\n",
       "    </tr>\n",
       "    <tr>\n",
       "      <th>1</th>\n",
       "      <td>2.400000e-31</td>\n",
       "      <td>119.5</td>\n",
       "      <td>13.6</td>\n",
       "      <td>2.2</td>\n",
       "      <td>1</td>\n",
       "      <td>Q8IW19</td>\n",
       "      <td>Q8IW19_450-511</td>\n",
       "      <td>A0A3Q7NSQ2</td>\n",
       "      <td>1</td>\n",
       "      <td>62</td>\n",
       "      <td>62</td>\n",
       "      <td>352</td>\n",
       "      <td>413</td>\n",
       "      <td>62</td>\n",
       "      <td>352</td>\n",
       "      <td>413</td>\n",
       "      <td>62</td>\n",
       "    </tr>\n",
       "    <tr>\n",
       "      <th>2</th>\n",
       "      <td>3.000000e-31</td>\n",
       "      <td>119.2</td>\n",
       "      <td>13.6</td>\n",
       "      <td>2.3</td>\n",
       "      <td>1</td>\n",
       "      <td>Q8IW19</td>\n",
       "      <td>Q8IW19_450-511</td>\n",
       "      <td>A0A2U3ZCX9</td>\n",
       "      <td>1</td>\n",
       "      <td>62</td>\n",
       "      <td>62</td>\n",
       "      <td>451</td>\n",
       "      <td>512</td>\n",
       "      <td>62</td>\n",
       "      <td>451</td>\n",
       "      <td>512</td>\n",
       "      <td>62</td>\n",
       "    </tr>\n",
       "    <tr>\n",
       "      <th>3</th>\n",
       "      <td>3.000000e-31</td>\n",
       "      <td>119.1</td>\n",
       "      <td>13.6</td>\n",
       "      <td>2.2</td>\n",
       "      <td>1</td>\n",
       "      <td>Q8IW19</td>\n",
       "      <td>Q8IW19_450-511</td>\n",
       "      <td>A0A2U3VQT6</td>\n",
       "      <td>1</td>\n",
       "      <td>62</td>\n",
       "      <td>62</td>\n",
       "      <td>454</td>\n",
       "      <td>515</td>\n",
       "      <td>62</td>\n",
       "      <td>454</td>\n",
       "      <td>515</td>\n",
       "      <td>62</td>\n",
       "    </tr>\n",
       "    <tr>\n",
       "      <th>4</th>\n",
       "      <td>3.100000e-31</td>\n",
       "      <td>119.1</td>\n",
       "      <td>13.6</td>\n",
       "      <td>2.2</td>\n",
       "      <td>1</td>\n",
       "      <td>Q8IW19</td>\n",
       "      <td>Q8IW19_450-511</td>\n",
       "      <td>A0A3Q7P1S3</td>\n",
       "      <td>1</td>\n",
       "      <td>62</td>\n",
       "      <td>62</td>\n",
       "      <td>451</td>\n",
       "      <td>512</td>\n",
       "      <td>62</td>\n",
       "      <td>451</td>\n",
       "      <td>512</td>\n",
       "      <td>62</td>\n",
       "    </tr>\n",
       "  </tbody>\n",
       "</table>\n",
       "</div>"
      ],
      "text/plain": [
       "        E-value  score  bias  exp  N query_id          hmm_id    Sequence  \\\n",
       "0  3.800000e-32  122.0  13.1  1.0  1   Q8IW19  Q8IW19_450-511  A0A8C7BFT3   \n",
       "1  2.400000e-31  119.5  13.6  2.2  1   Q8IW19  Q8IW19_450-511  A0A3Q7NSQ2   \n",
       "2  3.000000e-31  119.2  13.6  2.3  1   Q8IW19  Q8IW19_450-511  A0A2U3ZCX9   \n",
       "3  3.000000e-31  119.1  13.6  2.2  1   Q8IW19  Q8IW19_450-511  A0A2U3VQT6   \n",
       "4  3.100000e-31  119.1  13.6  2.2  1   Q8IW19  Q8IW19_450-511  A0A3Q7P1S3   \n",
       "\n",
       "   hmm_from  hmm_to  hmm_length  ali_from  ali_to  ali_length  env_from  \\\n",
       "0         1      61          61         9      69          61         9   \n",
       "1         1      62          62       352     413          62       352   \n",
       "2         1      62          62       451     512          62       451   \n",
       "3         1      62          62       454     515          62       454   \n",
       "4         1      62          62       451     512          62       451   \n",
       "\n",
       "   env_to  env_length  \n",
       "0      70          62  \n",
       "1     413          62  \n",
       "2     512          62  \n",
       "3     515          62  \n",
       "4     512          62  "
      ]
     },
     "execution_count": 3,
     "metadata": {},
     "output_type": "execute_result"
    }
   ],
   "source": [
    "# Retrieve the dataframe with the hmmsearch results\n",
    "hmmsearch_results_clustal = pd.read_csv('{}/results/hmms/hmmsearch/hmmsearch_results_clustal.csv'.format(directory))\n",
    "num_ali = hmmsearch_results_clustal['query_id'].nunique()\n",
    "num_hmm = hmmsearch_results_clustal['hmm_id'].nunique()\n",
    "print('The number of generated HMMs for the {} alignments: {}'.format(num_ali, num_hmm))\n",
    "hmmsearch_results_clustal.head()"
   ]
  },
  {
   "cell_type": "code",
   "execution_count": 4,
   "metadata": {},
   "outputs": [
    {
     "data": {
      "image/png": "[encoded data removed]",
      "text/plain": [
       "<Figure size 576x288 with 1 Axes>"
      ]
     },
     "metadata": {
      "needs_background": "light"
     },
     "output_type": "display_data"
    }
   ],
   "source": [
    "# Plot the distribution of hmmsearch hits for each HMM\n",
    "plt.figure(figsize=(8, 4))\n",
    "sequence_counts = hmmsearch_results_clustal.groupby('hmm_id')['Sequence'].nunique()\n",
    "sequence_counts.plot(kind='bar', color='lightcoral', edgecolor='black', width=0.8)\n",
    "plt.title('Distribution of proteins found by hmmsearch for each DisProt-HMM')\n",
    "plt.xlabel('DisProt-HMM ID')\n",
    "plt.ylabel('Number of unique sequences')\n",
    "plt.xticks(fontsize=8, rotation=90)\n",
    "plt.grid(color='lightgray')\n",
    "plt.show()"
   ]
  },
  {
   "cell_type": "markdown",
   "metadata": {},
   "source": [
    "Here we compare the length of HMM and the corresponding length of the alignment. There can be 3 options: they are equal or one of them longer or shorter than another because of some insertions/deletions of the alignment."
   ]
  },
  {
   "cell_type": "code",
   "execution_count": 5,
   "metadata": {},
   "outputs": [
    {
     "name": "stdout",
     "output_type": "stream",
     "text": [
      "The number of instances: 211312, from which hmm regions:\n",
      "- matching the alignment length: 99892 (47.27%)\n",
      "- longer than the alignment length: 27117 (24.34%)\n",
      "- shorter than the alignment length: 84303 (75.66%)\n"
     ]
    }
   ],
   "source": [
    "# Compare HMMs and alignments lengths\n",
    "hmms = len(hmmsearch_results_clustal)\n",
    "match_hmms = len(hmmsearch_results_clustal[hmmsearch_results_clustal['hmm_length'] == hmmsearch_results_clustal['ali_length']])\n",
    "longer_hmms = len(hmmsearch_results_clustal[hmmsearch_results_clustal['hmm_length'] > hmmsearch_results_clustal['ali_length']])\n",
    "shorter_hmms = len(hmmsearch_results_clustal[hmmsearch_results_clustal['hmm_length'] < hmmsearch_results_clustal['ali_length']])\n",
    "\n",
    "print('The number of instances: {}, from which hmm regions:'.format(hmms))\n",
    "print('- matching the alignment length: {} ({:.2f}%)'.format(match_hmms, match_hmms/hmms * 100))\n",
    "print('- longer than the alignment length: {} ({:.2f}%)'.format(longer_hmms, longer_hmms/(hmms - match_hmms) * 100))\n",
    "print('- shorter than the alignment length: {} ({:.2f}%)'.format(shorter_hmms, shorter_hmms/(hmms - match_hmms) * 100))"
   ]
  },
  {
   "cell_type": "markdown",
   "metadata": {},
   "source": [
    "The number of HMMs matching the length of the alignment and not are more or less equal in proportion **(47,3% and 52,7% respectively)**. Out of non-matching the proportion of the longer HMMs and shorter HMMs is different **(24,3% and 75,7%)**. \n",
    "\n",
    "So, mostly we are dealing with the cases where the length of the alignment is longer than the HMM."
   ]
  },
  {
   "cell_type": "code",
   "execution_count": 6,
   "metadata": {},
   "outputs": [
    {
     "name": "stderr",
     "output_type": "stream",
     "text": [
      "/var/folders/lp/74jh9r6s4zx_dyg2_78l67dw0000gn/T/ipykernel_7077/2507002335.py:3: SettingWithCopyWarning: \n",
      "A value is trying to be set on a copy of a slice from a DataFrame.\n",
      "Try using .loc[row_indexer,col_indexer] = value instead\n",
      "\n",
      "See the caveats in the documentation: https://pandas.pydata.org/pandas-docs/stable/user_guide/indexing.html#returning-a-view-versus-a-copy\n",
      "  longer_clustal['hmm_ali_diff'] = longer_clustal['hmm_length'] - longer_clustal['ali_length']\n"
     ]
    },
    {
     "data": {
      "text/html": [
       "<div>\n",
       "<style scoped>\n",
       "    .dataframe tbody tr th:only-of-type {\n",
       "        vertical-align: middle;\n",
       "    }\n",
       "\n",
       "    .dataframe tbody tr th {\n",
       "        vertical-align: top;\n",
       "    }\n",
       "\n",
       "    .dataframe thead th {\n",
       "        text-align: right;\n",
       "    }\n",
       "</style>\n",
       "<table border=\"1\" class=\"dataframe\">\n",
       "  <thead>\n",
       "    <tr style=\"text-align: right;\">\n",
       "      <th></th>\n",
       "      <th>E-value</th>\n",
       "      <th>score</th>\n",
       "      <th>bias</th>\n",
       "      <th>exp</th>\n",
       "      <th>N</th>\n",
       "      <th>query_id</th>\n",
       "      <th>hmm_id</th>\n",
       "      <th>Sequence</th>\n",
       "      <th>hmm_from</th>\n",
       "      <th>hmm_to</th>\n",
       "      <th>hmm_length</th>\n",
       "      <th>ali_from</th>\n",
       "      <th>ali_to</th>\n",
       "      <th>ali_length</th>\n",
       "      <th>env_from</th>\n",
       "      <th>env_to</th>\n",
       "      <th>env_length</th>\n",
       "      <th>hmm_ali_diff</th>\n",
       "    </tr>\n",
       "  </thead>\n",
       "  <tbody>\n",
       "    <tr>\n",
       "      <th>63</th>\n",
       "      <td>7.300000e-29</td>\n",
       "      <td>111.5</td>\n",
       "      <td>13.0</td>\n",
       "      <td>2.2</td>\n",
       "      <td>1</td>\n",
       "      <td>Q8IW19</td>\n",
       "      <td>Q8IW19_450-511</td>\n",
       "      <td>A0A8J6A1V4</td>\n",
       "      <td>1</td>\n",
       "      <td>62</td>\n",
       "      <td>62</td>\n",
       "      <td>444</td>\n",
       "      <td>504</td>\n",
       "      <td>61</td>\n",
       "      <td>444</td>\n",
       "      <td>504</td>\n",
       "      <td>61</td>\n",
       "      <td>1</td>\n",
       "    </tr>\n",
       "    <tr>\n",
       "      <th>80</th>\n",
       "      <td>5.000000e-28</td>\n",
       "      <td>108.8</td>\n",
       "      <td>14.7</td>\n",
       "      <td>2.5</td>\n",
       "      <td>1</td>\n",
       "      <td>Q8IW19</td>\n",
       "      <td>Q8IW19_450-511</td>\n",
       "      <td>A0A8C9H9L8</td>\n",
       "      <td>1</td>\n",
       "      <td>62</td>\n",
       "      <td>62</td>\n",
       "      <td>445</td>\n",
       "      <td>505</td>\n",
       "      <td>61</td>\n",
       "      <td>445</td>\n",
       "      <td>505</td>\n",
       "      <td>61</td>\n",
       "      <td>1</td>\n",
       "    </tr>\n",
       "    <tr>\n",
       "      <th>87</th>\n",
       "      <td>3.100000e-27</td>\n",
       "      <td>106.3</td>\n",
       "      <td>14.4</td>\n",
       "      <td>2.1</td>\n",
       "      <td>1</td>\n",
       "      <td>Q8IW19</td>\n",
       "      <td>Q8IW19_450-511</td>\n",
       "      <td>A0A8C8YAS1</td>\n",
       "      <td>1</td>\n",
       "      <td>62</td>\n",
       "      <td>62</td>\n",
       "      <td>451</td>\n",
       "      <td>511</td>\n",
       "      <td>61</td>\n",
       "      <td>451</td>\n",
       "      <td>511</td>\n",
       "      <td>61</td>\n",
       "      <td>1</td>\n",
       "    </tr>\n",
       "    <tr>\n",
       "      <th>106</th>\n",
       "      <td>3.900000e-26</td>\n",
       "      <td>102.7</td>\n",
       "      <td>15.2</td>\n",
       "      <td>2.2</td>\n",
       "      <td>1</td>\n",
       "      <td>Q8IW19</td>\n",
       "      <td>Q8IW19_450-511</td>\n",
       "      <td>A0A6G1AVP8</td>\n",
       "      <td>1</td>\n",
       "      <td>62</td>\n",
       "      <td>62</td>\n",
       "      <td>437</td>\n",
       "      <td>497</td>\n",
       "      <td>61</td>\n",
       "      <td>437</td>\n",
       "      <td>497</td>\n",
       "      <td>61</td>\n",
       "      <td>1</td>\n",
       "    </tr>\n",
       "    <tr>\n",
       "      <th>115</th>\n",
       "      <td>1.600000e-25</td>\n",
       "      <td>100.8</td>\n",
       "      <td>12.6</td>\n",
       "      <td>2.0</td>\n",
       "      <td>1</td>\n",
       "      <td>Q8IW19</td>\n",
       "      <td>Q8IW19_450-511</td>\n",
       "      <td>A0A8B7VRK7</td>\n",
       "      <td>2</td>\n",
       "      <td>62</td>\n",
       "      <td>61</td>\n",
       "      <td>423</td>\n",
       "      <td>481</td>\n",
       "      <td>59</td>\n",
       "      <td>422</td>\n",
       "      <td>481</td>\n",
       "      <td>60</td>\n",
       "      <td>2</td>\n",
       "    </tr>\n",
       "  </tbody>\n",
       "</table>\n",
       "</div>"
      ],
      "text/plain": [
       "          E-value  score  bias  exp  N query_id          hmm_id    Sequence  \\\n",
       "63   7.300000e-29  111.5  13.0  2.2  1   Q8IW19  Q8IW19_450-511  A0A8J6A1V4   \n",
       "80   5.000000e-28  108.8  14.7  2.5  1   Q8IW19  Q8IW19_450-511  A0A8C9H9L8   \n",
       "87   3.100000e-27  106.3  14.4  2.1  1   Q8IW19  Q8IW19_450-511  A0A8C8YAS1   \n",
       "106  3.900000e-26  102.7  15.2  2.2  1   Q8IW19  Q8IW19_450-511  A0A6G1AVP8   \n",
       "115  1.600000e-25  100.8  12.6  2.0  1   Q8IW19  Q8IW19_450-511  A0A8B7VRK7   \n",
       "\n",
       "     hmm_from  hmm_to  hmm_length  ali_from  ali_to  ali_length  env_from  \\\n",
       "63          1      62          62       444     504          61       444   \n",
       "80          1      62          62       445     505          61       445   \n",
       "87          1      62          62       451     511          61       451   \n",
       "106         1      62          62       437     497          61       437   \n",
       "115         2      62          61       423     481          59       422   \n",
       "\n",
       "     env_to  env_length  hmm_ali_diff  \n",
       "63      504          61             1  \n",
       "80      505          61             1  \n",
       "87      511          61             1  \n",
       "106     497          61             1  \n",
       "115     481          60             2  "
      ]
     },
     "execution_count": 6,
     "metadata": {},
     "output_type": "execute_result"
    }
   ],
   "source": [
    "# Longer HMMs analysis\n",
    "longer_clustal = hmmsearch_results_clustal[hmmsearch_results_clustal['hmm_length'] > hmmsearch_results_clustal['ali_length']]\n",
    "longer_clustal['hmm_ali_diff'] = longer_clustal['hmm_length'] - longer_clustal['ali_length']\n",
    "longer_clustal.head()"
   ]
  },
  {
   "cell_type": "code",
   "execution_count": 7,
   "metadata": {},
   "outputs": [
    {
     "name": "stderr",
     "output_type": "stream",
     "text": [
      "/var/folders/lp/74jh9r6s4zx_dyg2_78l67dw0000gn/T/ipykernel_7077/2833219787.py:3: SettingWithCopyWarning: \n",
      "A value is trying to be set on a copy of a slice from a DataFrame.\n",
      "Try using .loc[row_indexer,col_indexer] = value instead\n",
      "\n",
      "See the caveats in the documentation: https://pandas.pydata.org/pandas-docs/stable/user_guide/indexing.html#returning-a-view-versus-a-copy\n",
      "  shorter_clustal['hmm_ali_diff'] = shorter_clustal['ali_length'] - shorter_clustal['hmm_length']\n"
     ]
    },
    {
     "data": {
      "text/html": [
       "<div>\n",
       "<style scoped>\n",
       "    .dataframe tbody tr th:only-of-type {\n",
       "        vertical-align: middle;\n",
       "    }\n",
       "\n",
       "    .dataframe tbody tr th {\n",
       "        vertical-align: top;\n",
       "    }\n",
       "\n",
       "    .dataframe thead th {\n",
       "        text-align: right;\n",
       "    }\n",
       "</style>\n",
       "<table border=\"1\" class=\"dataframe\">\n",
       "  <thead>\n",
       "    <tr style=\"text-align: right;\">\n",
       "      <th></th>\n",
       "      <th>E-value</th>\n",
       "      <th>score</th>\n",
       "      <th>bias</th>\n",
       "      <th>exp</th>\n",
       "      <th>N</th>\n",
       "      <th>query_id</th>\n",
       "      <th>hmm_id</th>\n",
       "      <th>Sequence</th>\n",
       "      <th>hmm_from</th>\n",
       "      <th>hmm_to</th>\n",
       "      <th>hmm_length</th>\n",
       "      <th>ali_from</th>\n",
       "      <th>ali_to</th>\n",
       "      <th>ali_length</th>\n",
       "      <th>env_from</th>\n",
       "      <th>env_to</th>\n",
       "      <th>env_length</th>\n",
       "      <th>hmm_ali_diff</th>\n",
       "    </tr>\n",
       "  </thead>\n",
       "  <tbody>\n",
       "    <tr>\n",
       "      <th>132</th>\n",
       "      <td>7.100000e-23</td>\n",
       "      <td>92.3</td>\n",
       "      <td>11.6</td>\n",
       "      <td>3.1</td>\n",
       "      <td>2</td>\n",
       "      <td>Q8IW19</td>\n",
       "      <td>Q8IW19_450-511</td>\n",
       "      <td>F6XLV7</td>\n",
       "      <td>1</td>\n",
       "      <td>62</td>\n",
       "      <td>62</td>\n",
       "      <td>480</td>\n",
       "      <td>542</td>\n",
       "      <td>63</td>\n",
       "      <td>480</td>\n",
       "      <td>542</td>\n",
       "      <td>63</td>\n",
       "      <td>1</td>\n",
       "    </tr>\n",
       "    <tr>\n",
       "      <th>133</th>\n",
       "      <td>1.600000e-22</td>\n",
       "      <td>91.2</td>\n",
       "      <td>16.1</td>\n",
       "      <td>2.4</td>\n",
       "      <td>1</td>\n",
       "      <td>Q8IW19</td>\n",
       "      <td>Q8IW19_450-511</td>\n",
       "      <td>A0A1A6HSD7</td>\n",
       "      <td>2</td>\n",
       "      <td>62</td>\n",
       "      <td>61</td>\n",
       "      <td>244</td>\n",
       "      <td>306</td>\n",
       "      <td>63</td>\n",
       "      <td>243</td>\n",
       "      <td>306</td>\n",
       "      <td>64</td>\n",
       "      <td>2</td>\n",
       "    </tr>\n",
       "    <tr>\n",
       "      <th>139</th>\n",
       "      <td>5.600000e-21</td>\n",
       "      <td>86.2</td>\n",
       "      <td>15.6</td>\n",
       "      <td>2.0</td>\n",
       "      <td>1</td>\n",
       "      <td>Q8IW19</td>\n",
       "      <td>Q8IW19_450-511</td>\n",
       "      <td>G3HIE4</td>\n",
       "      <td>2</td>\n",
       "      <td>62</td>\n",
       "      <td>61</td>\n",
       "      <td>448</td>\n",
       "      <td>510</td>\n",
       "      <td>63</td>\n",
       "      <td>447</td>\n",
       "      <td>510</td>\n",
       "      <td>64</td>\n",
       "      <td>2</td>\n",
       "    </tr>\n",
       "    <tr>\n",
       "      <th>141</th>\n",
       "      <td>1.400000e-20</td>\n",
       "      <td>85.0</td>\n",
       "      <td>16.6</td>\n",
       "      <td>1.8</td>\n",
       "      <td>1</td>\n",
       "      <td>Q8IW19</td>\n",
       "      <td>Q8IW19_450-511</td>\n",
       "      <td>A0A6J0DUB0</td>\n",
       "      <td>1</td>\n",
       "      <td>62</td>\n",
       "      <td>62</td>\n",
       "      <td>461</td>\n",
       "      <td>525</td>\n",
       "      <td>65</td>\n",
       "      <td>461</td>\n",
       "      <td>525</td>\n",
       "      <td>65</td>\n",
       "      <td>3</td>\n",
       "    </tr>\n",
       "    <tr>\n",
       "      <th>142</th>\n",
       "      <td>1.500000e-20</td>\n",
       "      <td>84.9</td>\n",
       "      <td>16.6</td>\n",
       "      <td>1.7</td>\n",
       "      <td>1</td>\n",
       "      <td>Q8IW19</td>\n",
       "      <td>Q8IW19_450-511</td>\n",
       "      <td>A0A6J0DV05</td>\n",
       "      <td>1</td>\n",
       "      <td>62</td>\n",
       "      <td>62</td>\n",
       "      <td>467</td>\n",
       "      <td>531</td>\n",
       "      <td>65</td>\n",
       "      <td>467</td>\n",
       "      <td>531</td>\n",
       "      <td>65</td>\n",
       "      <td>3</td>\n",
       "    </tr>\n",
       "  </tbody>\n",
       "</table>\n",
       "</div>"
      ],
      "text/plain": [
       "          E-value  score  bias  exp  N query_id          hmm_id    Sequence  \\\n",
       "132  7.100000e-23   92.3  11.6  3.1  2   Q8IW19  Q8IW19_450-511      F6XLV7   \n",
       "133  1.600000e-22   91.2  16.1  2.4  1   Q8IW19  Q8IW19_450-511  A0A1A6HSD7   \n",
       "139  5.600000e-21   86.2  15.6  2.0  1   Q8IW19  Q8IW19_450-511      G3HIE4   \n",
       "141  1.400000e-20   85.0  16.6  1.8  1   Q8IW19  Q8IW19_450-511  A0A6J0DUB0   \n",
       "142  1.500000e-20   84.9  16.6  1.7  1   Q8IW19  Q8IW19_450-511  A0A6J0DV05   \n",
       "\n",
       "     hmm_from  hmm_to  hmm_length  ali_from  ali_to  ali_length  env_from  \\\n",
       "132         1      62          62       480     542          63       480   \n",
       "133         2      62          61       244     306          63       243   \n",
       "139         2      62          61       448     510          63       447   \n",
       "141         1      62          62       461     525          65       461   \n",
       "142         1      62          62       467     531          65       467   \n",
       "\n",
       "     env_to  env_length  hmm_ali_diff  \n",
       "132     542          63             1  \n",
       "133     306          64             2  \n",
       "139     510          64             2  \n",
       "141     525          65             3  \n",
       "142     531          65             3  "
      ]
     },
     "execution_count": 7,
     "metadata": {},
     "output_type": "execute_result"
    }
   ],
   "source": [
    "# Shorter HMMs analysis\n",
    "shorter_clustal = hmmsearch_results_clustal[hmmsearch_results_clustal['hmm_length'] < hmmsearch_results_clustal['ali_length']]\n",
    "shorter_clustal['hmm_ali_diff'] = shorter_clustal['ali_length'] - shorter_clustal['hmm_length']\n",
    "shorter_clustal.head()"
   ]
  },
  {
   "cell_type": "code",
   "execution_count": 8,
   "metadata": {},
   "outputs": [
    {
     "data": {
      "image/png": "[encoded data removed]",
      "text/plain": [
       "<Figure size 720x288 with 2 Axes>"
      ]
     },
     "metadata": {
      "needs_background": "light"
     },
     "output_type": "display_data"
    }
   ],
   "source": [
    "# Plot the histogram of residues difference distribution\n",
    "fig, (ax1, ax2) = plt.subplots(1, 2, figsize=(10, 4))\n",
    "ax1.hist(longer_clustal['hmm_ali_diff'], bins=20, color='navy', edgecolor='gray', density=True)\n",
    "ax2.hist(shorter_clustal['hmm_ali_diff'], bins=20, color='firebrick', edgecolor='gray', density=True)\n",
    "\n",
    "plt.suptitle('The distribution of length difference between HMM and the alignment')\n",
    "ax1.set_title('Longer HMMs (HMM - Ali)')\n",
    "ax2.set_title('Shorter HMMs (Ali - HMM)')\n",
    "ax1.set_xlabel('Number of residues')\n",
    "ax2.set_xlabel('Number of residues')\n",
    "ax1.set_ylabel('Frequency')\n",
    "ax2.set_ylabel('Frequency')\n",
    "ax1.set_yscale('log')\n",
    "ax2.set_yscale('log')\n",
    "plt.show()"
   ]
  },
  {
   "cell_type": "code",
   "execution_count": 9,
   "metadata": {},
   "outputs": [
    {
     "data": {
      "image/png": "[encoded data removed]",
      "text/plain": [
       "<Figure size 432x288 with 2 Axes>"
      ]
     },
     "metadata": {
      "needs_background": "light"
     },
     "output_type": "display_data"
    }
   ],
   "source": [
    "# Plot the boxplot of residues difference distribution\n",
    "fig, (ax1, ax2) = plt.subplots(1, 2, figsize=(6, 4))\n",
    "box1 = ax1.boxplot(longer_clustal['hmm_ali_diff'])\n",
    "box2 = ax2.boxplot(shorter_clustal['hmm_ali_diff'])\n",
    "plt.suptitle('The boxplots of length difference between HMM and the alignment')\n",
    "ax1.set_xlabel('Longer HMMs (HMM - Ali)')\n",
    "ax2.set_xlabel('Shorter HMMs (Ali - HMM)')\n",
    "ax1.set_ylabel('Number of residues')\n",
    "ax2.set_ylabel('Number of residues')\n",
    "ax1.set_xticks(ax1.get_xticks()[1:])\n",
    "ax2.set_xticks(ax2.get_xticks()[1:])\n",
    "ax1.set_yscale('log')\n",
    "ax2.set_yscale('log')\n",
    "plt.show()"
   ]
  },
  {
   "cell_type": "code",
   "execution_count": 10,
   "metadata": {},
   "outputs": [
    {
     "name": "stdout",
     "output_type": "stream",
     "text": [
      "Outliers in the longer HMMs (more than 6 residues): 11.0%\n",
      "Outliers in the shorter HMMs (more than 6 residues): 7.9%\n"
     ]
    }
   ],
   "source": [
    "# Calculate the outliers proportion in the data frames\n",
    "threshold_long = box1['whiskers'][1].get_ydata()[1]\n",
    "threshold_short = box2['whiskers'][1].get_ydata()[1]\n",
    "long_outl = len(longer_clustal[longer_clustal['hmm_ali_diff'] >= threshold_long])\n",
    "short_outl = len(shorter_clustal[shorter_clustal['hmm_ali_diff'] >= threshold_short])\n",
    "\n",
    "print('Outliers in the longer HMMs (more than {} residues): {:.1f}%'.format(int(threshold_long), long_outl/longer_hmms * 100))\n",
    "print('Outliers in the shorter HMMs (more than {} residues): {:.1f}%'.format(int(threshold_short), short_outl/shorter_hmms * 100))"
   ]
  },
  {
   "cell_type": "markdown",
   "metadata": {},
   "source": [
    "Retrieving outliers is an important step in our case. Since we cannot use fields `hmm_from/hmm_to` as it doesn't capture the actual position, we need to analyse if the `ali_from/ali_to` are the reliable fields. In case the difference between HMMs and the alignments is huge, we need to find a solution. If the difference is not so big in general, we can rely on the alignment information from the `hmmsearch` results.\n",
    "\n",
    "Thus, obtaining less than 5% of instances with a huge difference between HMMs and the alignments, we can use the `ali_from/ali_to` columns for the further comparison with Pfam."
   ]
  },
  {
   "cell_type": "markdown",
   "metadata": {},
   "source": [
    "## 2. HMM and Pfam comparison\n",
    "\n",
    "We took the results of `hmmsearch` and performed a search against Interpro database. Thus we obtained the Pfam domains corresponding to the results from `hmmsearch`."
   ]
  },
  {
   "cell_type": "markdown",
   "metadata": {},
   "source": [
    "In the following dataframes I directly compared two models: Pfam-HMM and DisProt-HMM. \n",
    "\n",
    "3 types of overlap were calculated:\n",
    "- the common part divided by *Pfam-HMM* length (`overl_pfam`)\n",
    "- the common part divided by *DisProt-HMM* length (`overl_hmm`)\n",
    "- and the overall overlap: the common part divided by the **maximum length** combined by Pfam-HMM and DisProt-HMM lengths together (`overl_perc`).\n",
    "\n",
    "The column `overlap_sym` serves as a quality estimator. If it's less or equal than one, then we calculated the other kinds of overlap correctly."
   ]
  },
  {
   "cell_type": "code",
   "execution_count": 11,
   "metadata": {},
   "outputs": [
    {
     "name": "stdout",
     "output_type": "stream",
     "text": [
      "The number of instances for the hmmsearch results in Interpro: 1110208\n",
      "The number of unique Pfam domains: 869\n"
     ]
    },
    {
     "data": {
      "text/html": [
       "<div>\n",
       "<style scoped>\n",
       "    .dataframe tbody tr th:only-of-type {\n",
       "        vertical-align: middle;\n",
       "    }\n",
       "\n",
       "    .dataframe tbody tr th {\n",
       "        vertical-align: top;\n",
       "    }\n",
       "\n",
       "    .dataframe thead th {\n",
       "        text-align: right;\n",
       "    }\n",
       "</style>\n",
       "<table border=\"1\" class=\"dataframe\">\n",
       "  <thead>\n",
       "    <tr style=\"text-align: right;\">\n",
       "      <th></th>\n",
       "      <th>uniprot_id</th>\n",
       "      <th>pfam_id</th>\n",
       "      <th>ipr_id</th>\n",
       "      <th>start_pfam</th>\n",
       "      <th>end_pfam</th>\n",
       "      <th>length_pfam</th>\n",
       "      <th>query_id</th>\n",
       "      <th>hmm_id</th>\n",
       "      <th>hmm_from</th>\n",
       "      <th>hmm_to</th>\n",
       "      <th>...</th>\n",
       "      <th>ali_length</th>\n",
       "      <th>env_from</th>\n",
       "      <th>env_to</th>\n",
       "      <th>env_length</th>\n",
       "      <th>overl_len</th>\n",
       "      <th>overl_pfam</th>\n",
       "      <th>overl_ali</th>\n",
       "      <th>non_overl_len</th>\n",
       "      <th>overl_perc</th>\n",
       "      <th>overlap_sym</th>\n",
       "    </tr>\n",
       "  </thead>\n",
       "  <tbody>\n",
       "    <tr>\n",
       "      <th>0</th>\n",
       "      <td>A0A010Q304</td>\n",
       "      <td>PF02775</td>\n",
       "      <td>IPR011766</td>\n",
       "      <td>499</td>\n",
       "      <td>646</td>\n",
       "      <td>148</td>\n",
       "      <td>P07342</td>\n",
       "      <td>P07342_580-595</td>\n",
       "      <td>1</td>\n",
       "      <td>16</td>\n",
       "      <td>...</td>\n",
       "      <td>16</td>\n",
       "      <td>583</td>\n",
       "      <td>598</td>\n",
       "      <td>16</td>\n",
       "      <td>16</td>\n",
       "      <td>10.81</td>\n",
       "      <td>100.0</td>\n",
       "      <td>133</td>\n",
       "      <td>10.81</td>\n",
       "      <td>19.51</td>\n",
       "    </tr>\n",
       "    <tr>\n",
       "      <th>1</th>\n",
       "      <td>A0A010Q304</td>\n",
       "      <td>PF02775</td>\n",
       "      <td>IPR011766</td>\n",
       "      <td>499</td>\n",
       "      <td>646</td>\n",
       "      <td>148</td>\n",
       "      <td>P07342</td>\n",
       "      <td>P07342_647-687</td>\n",
       "      <td>1</td>\n",
       "      <td>40</td>\n",
       "      <td>...</td>\n",
       "      <td>40</td>\n",
       "      <td>650</td>\n",
       "      <td>690</td>\n",
       "      <td>41</td>\n",
       "      <td>0</td>\n",
       "      <td>0.00</td>\n",
       "      <td>0.0</td>\n",
       "      <td>195</td>\n",
       "      <td>0.00</td>\n",
       "      <td>0.00</td>\n",
       "    </tr>\n",
       "    <tr>\n",
       "      <th>2</th>\n",
       "      <td>A0A010Q304</td>\n",
       "      <td>PF00205</td>\n",
       "      <td>IPR012000</td>\n",
       "      <td>289</td>\n",
       "      <td>434</td>\n",
       "      <td>146</td>\n",
       "      <td>P07342</td>\n",
       "      <td>P07342_580-595</td>\n",
       "      <td>1</td>\n",
       "      <td>16</td>\n",
       "      <td>...</td>\n",
       "      <td>16</td>\n",
       "      <td>583</td>\n",
       "      <td>598</td>\n",
       "      <td>16</td>\n",
       "      <td>0</td>\n",
       "      <td>0.00</td>\n",
       "      <td>0.0</td>\n",
       "      <td>459</td>\n",
       "      <td>0.00</td>\n",
       "      <td>0.00</td>\n",
       "    </tr>\n",
       "    <tr>\n",
       "      <th>3</th>\n",
       "      <td>A0A010Q304</td>\n",
       "      <td>PF00205</td>\n",
       "      <td>IPR012000</td>\n",
       "      <td>289</td>\n",
       "      <td>434</td>\n",
       "      <td>146</td>\n",
       "      <td>P07342</td>\n",
       "      <td>P07342_647-687</td>\n",
       "      <td>1</td>\n",
       "      <td>40</td>\n",
       "      <td>...</td>\n",
       "      <td>40</td>\n",
       "      <td>650</td>\n",
       "      <td>690</td>\n",
       "      <td>41</td>\n",
       "      <td>0</td>\n",
       "      <td>0.00</td>\n",
       "      <td>0.0</td>\n",
       "      <td>617</td>\n",
       "      <td>0.00</td>\n",
       "      <td>0.00</td>\n",
       "    </tr>\n",
       "    <tr>\n",
       "      <th>4</th>\n",
       "      <td>A0A010Q304</td>\n",
       "      <td>PF02776</td>\n",
       "      <td>IPR012001</td>\n",
       "      <td>91</td>\n",
       "      <td>205</td>\n",
       "      <td>115</td>\n",
       "      <td>P07342</td>\n",
       "      <td>P07342_580-595</td>\n",
       "      <td>1</td>\n",
       "      <td>16</td>\n",
       "      <td>...</td>\n",
       "      <td>16</td>\n",
       "      <td>583</td>\n",
       "      <td>598</td>\n",
       "      <td>16</td>\n",
       "      <td>0</td>\n",
       "      <td>0.00</td>\n",
       "      <td>0.0</td>\n",
       "      <td>886</td>\n",
       "      <td>0.00</td>\n",
       "      <td>0.00</td>\n",
       "    </tr>\n",
       "  </tbody>\n",
       "</table>\n",
       "<p>5 rows × 23 columns</p>\n",
       "</div>"
      ],
      "text/plain": [
       "   uniprot_id  pfam_id     ipr_id  start_pfam  end_pfam  length_pfam query_id  \\\n",
       "0  A0A010Q304  PF02775  IPR011766         499       646          148   P07342   \n",
       "1  A0A010Q304  PF02775  IPR011766         499       646          148   P07342   \n",
       "2  A0A010Q304  PF00205  IPR012000         289       434          146   P07342   \n",
       "3  A0A010Q304  PF00205  IPR012000         289       434          146   P07342   \n",
       "4  A0A010Q304  PF02776  IPR012001          91       205          115   P07342   \n",
       "\n",
       "           hmm_id  hmm_from  hmm_to  ...  ali_length  env_from  env_to  \\\n",
       "0  P07342_580-595         1      16  ...          16       583     598   \n",
       "1  P07342_647-687         1      40  ...          40       650     690   \n",
       "2  P07342_580-595         1      16  ...          16       583     598   \n",
       "3  P07342_647-687         1      40  ...          40       650     690   \n",
       "4  P07342_580-595         1      16  ...          16       583     598   \n",
       "\n",
       "   env_length  overl_len  overl_pfam  overl_ali  non_overl_len  overl_perc  \\\n",
       "0          16         16       10.81      100.0            133       10.81   \n",
       "1          41          0        0.00        0.0            195        0.00   \n",
       "2          16          0        0.00        0.0            459        0.00   \n",
       "3          41          0        0.00        0.0            617        0.00   \n",
       "4          16          0        0.00        0.0            886        0.00   \n",
       "\n",
       "   overlap_sym  \n",
       "0        19.51  \n",
       "1         0.00  \n",
       "2         0.00  \n",
       "3         0.00  \n",
       "4         0.00  \n",
       "\n",
       "[5 rows x 23 columns]"
      ]
     },
     "execution_count": 11,
     "metadata": {},
     "output_type": "execute_result"
    }
   ],
   "source": [
    "# Load a dataframe of Pfam regions\n",
    "pfam_clustal = pd.read_csv('{}/results/pfam/pfam_overlap/pfam_clustal.csv'.format(directory))\n",
    "num_pfam_domains = pfam_clustal['pfam_id'].nunique()\n",
    "print('The number of instances for the hmmsearch results in Interpro: {}'.format(len(pfam_clustal)))\n",
    "print('The number of unique Pfam domains: {}'.format(num_pfam_domains))\n",
    "pfam_clustal.head()"
   ]
  },
  {
   "cell_type": "markdown",
   "metadata": {},
   "source": [
    "Here we will extract the information about Pfam domains which do not overlap **any** of DisProt-HMMs. For this we build a data frame `grouped_pfam` where we sum up all the overlap length for each of the Pfam ID, and then select only the values with 0. \n",
    "\n",
    "A simple filtering of the column `overl_len` by 0 shows only the accidental 0 overlap for a combination of a protein and a Pfam domain, but not the domains without overlaps."
   ]
  },
  {
   "cell_type": "code",
   "execution_count": 12,
   "metadata": {},
   "outputs": [
    {
     "name": "stdout",
     "output_type": "stream",
     "text": [
      "The total number of Pfam domains: 869\n",
      "- Non-overlapping DisProt-HMMs: 773\n",
      "- Overlapping DisProt-HMMs: 96\n"
     ]
    }
   ],
   "source": [
    "# Compare overlapping and non-overlapping Pfam IDs\n",
    "grouped_pfam = pfam_clustal.groupby('pfam_id')['overl_len'].sum().reset_index() # count all overl_len for each pfam_id\n",
    "pfam_ids_no_overl = grouped_pfam[grouped_pfam['overl_len'] == 0]['pfam_id'].unique()\n",
    "pfam_ids_overl = grouped_pfam[grouped_pfam['overl_len'] != 0]['pfam_id'].unique()\n",
    "print('The total number of Pfam domains:', len(set(pfam_clustal['pfam_id'])))\n",
    "print('- Non-overlapping DisProt-HMMs:', len(pfam_ids_no_overl))\n",
    "print('- Overlapping DisProt-HMMs:', len(pfam_ids_overl))"
   ]
  },
  {
   "cell_type": "code",
   "execution_count": 13,
   "metadata": {},
   "outputs": [
    {
     "data": {
      "image/png": "[encoded data removed]",
      "text/plain": [
       "<Figure size 432x288 with 1 Axes>"
      ]
     },
     "metadata": {},
     "output_type": "display_data"
    }
   ],
   "source": [
    "# Plot the pie chart\n",
    "pfam_domains = [len(pfam_ids_no_overl), len(pfam_ids_overl)]\n",
    "labels = ['No overlap', 'Overlap']\n",
    "colors = ['dodgerblue', 'skyblue']\n",
    "plt.pie(pfam_domains, labels=labels, colors=colors,\n",
    "        autopct=lambda p: '{:.1f}%\\n({:.0f})'.format(p, p * sum(pfam_domains) / 100))\n",
    "plt.title('Pfam-HMM overlap with DisProt-HMM')\n",
    "plt.show()"
   ]
  },
  {
   "cell_type": "markdown",
   "metadata": {},
   "source": [
    "There have been extracted 89% of non-overlapping with DisProt-HMM Pfam domains."
   ]
  },
  {
   "cell_type": "code",
   "execution_count": 14,
   "metadata": {},
   "outputs": [],
   "source": [
    "# no_pfam_df = hmmsearch_results_clustal[hmmsearch_results_clustal['hmm_id'].isin(['A8AZZ3_24-44', 'A8AZZ3_116-134', 'A8AZZ3_146-195', 'P01097_28-50', 'P04370-5_1-169'])]\n",
    "# no_pfam_df.head()"
   ]
  },
  {
   "cell_type": "code",
   "execution_count": 15,
   "metadata": {},
   "outputs": [
    {
     "data": {
      "image/png": "[encoded data removed]",
      "text/plain": [
       "<Figure size 864x288 with 2 Axes>"
      ]
     },
     "metadata": {
      "needs_background": "light"
     },
     "output_type": "display_data"
    }
   ],
   "source": [
    "# Plot the percentage distribution of overlaps: Pfam-HMM and DisProt-HMM\n",
    "overlap_total_df = pfam_clustal[pfam_clustal['overl_len'] != 0] # select non-zero overlap instances\n",
    "\n",
    "fig, (ax1, ax2) = plt.subplots(1, 2, figsize=(12, 4))\n",
    "ax1.hist(overlap_total_df['overl_pfam'], bins=30, edgecolor='black', color='darkslategray', alpha=1, label='Overlapping')\n",
    "ax2.hist(overlap_total_df['overl_ali'], bins=30, edgecolor='black', color='mediumorchid', alpha=1, label='Overlapping')\n",
    "ax1.set_title('Pfam-HMM')\n",
    "ax2.set_title('DisProt-HMM')\n",
    "ax1.set_xlabel('Percentage, %')\n",
    "ax2.set_xlabel('Percentage, %')\n",
    "ax1.set_ylabel('Counts')\n",
    "ax2.set_ylabel('Counts')\n",
    "ax1.grid(color='lightgray')\n",
    "ax2.grid(color='lightgray')\n",
    "plt.suptitle('Overlap percentage distribution (zeros excluded)')\n",
    "plt.show()"
   ]
  },
  {
   "cell_type": "code",
   "execution_count": 16,
   "metadata": {},
   "outputs": [],
   "source": [
    "# # Plot the percentage distribution grouped by hmm_id\n",
    "# fig, (ax1, ax2) = plt.subplots(1, 2, figsize=(12, 4))\n",
    "# overlap_pfam_grouped = overlap_total_df.groupby('hmm_id')['overl_pfam']\n",
    "# overlap_ali_grouped = overlap_total_df.groupby('hmm_id')['overl_ali']\n",
    "\n",
    "# ax1.hist(overlap_pfam_grouped.mean(), bins=20, edgecolor='black', color='darkslategray', alpha=1, label='Overlapping')\n",
    "# ax2.hist(overlap_ali_grouped.mean(), bins=20, edgecolor='black', color='mediumorchid', alpha=1, label='Overlapping')\n",
    "\n",
    "# ax1.set_title('Pfam-HMM')\n",
    "# ax2.set_title('DisProt-HMM')\n",
    "# ax1.set_xlabel('Mean percentage, %')\n",
    "# ax2.set_xlabel('Mean percentage, %')\n",
    "# ax1.set_ylabel('Counts')\n",
    "# ax2.set_ylabel('Counts')\n",
    "# plt.suptitle('Mean overlap percentage distribution for each DisProt-HMM')\n",
    "# plt.show()"
   ]
  },
  {
   "cell_type": "code",
   "execution_count": 17,
   "metadata": {},
   "outputs": [
    {
     "data": {
      "image/png": "[encoded data removed]",
      "text/plain": [
       "<Figure size 432x288 with 1 Axes>"
      ]
     },
     "metadata": {
      "needs_background": "light"
     },
     "output_type": "display_data"
    }
   ],
   "source": [
    "# Plot the histogram of overlaps % for Pfam and HMM\n",
    "plt.rcParams['figure.figsize'] = [6, 4]\n",
    "\n",
    "plt.hist([pfam_clustal['overl_pfam'], pfam_clustal['overl_ali']],\n",
    "             bins=10, alpha=0.5, color=['green', 'purple'],\n",
    "             label=['Pfam-HMM', 'DisProt-HMM'])\n",
    "\n",
    "plt.xlabel('Overlap percentage')\n",
    "plt.ylabel('Number of instances')\n",
    "plt.legend()\n",
    "plt.grid()\n",
    "plt.title('The overlaps distribution (Pfam-HMM and DisProt-HMM) across the ClustalOmega hmmsearch results (RP 75%)')\n",
    "plt.tight_layout()\n",
    "plt.show()"
   ]
  }
 ],
 "metadata": {
  "kernelspec": {
   "display_name": "Python 3 (ipykernel)",
   "language": "python",
   "name": "python3"
  },
  "language_info": {
   "codemirror_mode": {
    "name": "ipython",
    "version": 3
   },
   "file_extension": ".py",
   "mimetype": "text/x-python",
   "name": "python",
   "nbconvert_exporter": "python",
   "pygments_lexer": "ipython3",
   "version": "3.9.12"
  }
 },
 "nbformat": 4,
 "nbformat_minor": 1
}
