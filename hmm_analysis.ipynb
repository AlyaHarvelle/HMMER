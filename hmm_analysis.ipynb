{
 "cells": [
  {
   "cell_type": "markdown",
   "metadata": {
    "ExecuteTime": {
     "end_time": "2023-05-23T07:50:02.095781Z",
     "start_time": "2023-05-23T07:50:00.613949Z"
    }
   },
   "source": [
    "# HMM analysis\n",
    "\n",
    "Here we will construct and analyze HMM models retrieved from MSAs. We will utilize several databases as sources to enhance our analysis and gain valuable insights from the generated HMM profiles.\n",
    "\n",
    "## 1. Load the data\n",
    "\n",
    "We are working only with the disordered regions, thus we should keep only the related information.\n"
   ]
  },
  {
   "cell_type": "code",
   "execution_count": 15,
   "metadata": {
    "ExecuteTime": {
     "end_time": "2023-08-28T18:44:32.788268Z",
     "start_time": "2023-08-28T18:44:28.819948Z"
    }
   },
   "outputs": [],
   "source": [
    "# Importing the libraries and functions\n",
    "from functions import *"
   ]
  },
  {
   "cell_type": "code",
   "execution_count": 16,
   "metadata": {
    "ExecuteTime": {
     "end_time": "2023-08-28T18:49:50.795658Z",
     "start_time": "2023-08-28T18:49:50.763027Z"
    }
   },
   "outputs": [
    {
     "name": "stdout",
     "output_type": "stream",
     "text": [
      "The number of disordered regions in the Q86FP8 protein: 1\n"
     ]
    },
    {
     "data": {
      "text/html": [
       "<div>\n",
       "<style scoped>\n",
       "    .dataframe tbody tr th:only-of-type {\n",
       "        vertical-align: middle;\n",
       "    }\n",
       "\n",
       "    .dataframe tbody tr th {\n",
       "        vertical-align: top;\n",
       "    }\n",
       "\n",
       "    .dataframe thead th {\n",
       "        text-align: right;\n",
       "    }\n",
       "</style>\n",
       "<table border=\"1\" class=\"dataframe\">\n",
       "  <thead>\n",
       "    <tr style=\"text-align: right;\">\n",
       "      <th></th>\n",
       "      <th>acc</th>\n",
       "      <th>evidence</th>\n",
       "      <th>feature</th>\n",
       "      <th>source</th>\n",
       "      <th>start</th>\n",
       "      <th>end</th>\n",
       "      <th>length</th>\n",
       "      <th>region</th>\n",
       "    </tr>\n",
       "  </thead>\n",
       "  <tbody>\n",
       "    <tr>\n",
       "      <th>894</th>\n",
       "      <td>Q86FP8</td>\n",
       "      <td>curated</td>\n",
       "      <td>disorder</td>\n",
       "      <td>disprot</td>\n",
       "      <td>20</td>\n",
       "      <td>80</td>\n",
       "      <td>61</td>\n",
       "      <td>Q86FP8_20-80</td>\n",
       "    </tr>\n",
       "  </tbody>\n",
       "</table>\n",
       "</div>"
      ],
      "text/plain": [
       "        acc evidence   feature   source  start  end  length        region\n",
       "894  Q86FP8  curated  disorder  disprot     20   80      61  Q86FP8_20-80"
      ]
     },
     "execution_count": 16,
     "metadata": {},
     "output_type": "execute_result"
    }
   ],
   "source": [
    "# Obtain the information about one Uniprot query ID\n",
    "%store -r id_dis i\n",
    "id_dis = id_dis\n",
    "i = i\n",
    "curated_disprot = pd.read_csv(\"curated_disprot.csv\")\n",
    "curated_query = curated_disprot[curated_disprot['acc'] == id_dis]\n",
    "\n",
    "print(f\"The number of disordered regions in the {id_dis} protein: {len(curated_query)}\")\n",
    "curated_query"
   ]
  },
  {
   "cell_type": "markdown",
   "metadata": {
    "ExecuteTime": {
     "end_time": "2023-07-12T15:11:40.550153Z",
     "start_time": "2023-07-12T15:11:40.547321Z"
    }
   },
   "source": [
    "## 2. hmmsearch results analysis\n",
    "\n",
    "After performing `hmmsearch` against RP 15% and RP 75%, we retrieve the dataframe `hmmsearch_results` with the statistics."
   ]
  },
  {
   "cell_type": "code",
   "execution_count": 17,
   "metadata": {},
   "outputs": [],
   "source": [
    "# # Retrieve the dataframe with the hmmsearch results RP 15%\n",
    "# %store -r hmmsearch_results_rp_15\n",
    "# print(f\"Number of hmmsearch hits against RP 15% for the {i} disordered region of the {id_dis} protein:\", len(hmmsearch_results_rp_15))\n",
    "# hmmsearch_results_rp_15.head()"
   ]
  },
  {
   "cell_type": "code",
   "execution_count": 18,
   "metadata": {},
   "outputs": [],
   "source": [
    "# # Retrieve the dataframe with the hmmsearch results RP 75%\n",
    "# %store -r hmmsearch_results_rp_75\n",
    "# print(f\"Number of hmmsearch hits against RP 75% for the {i} disordered region of the {id_dis} protein:\", len(hmmsearch_results_rp_75))\n",
    "# hmmsearch_results_rp_75.head()"
   ]
  },
  {
   "cell_type": "markdown",
   "metadata": {},
   "source": [
    "## 3. HMM and Pfam comparison\n",
    "### 3.1 One MSA\n",
    "\n",
    "We took the results of `hmmsearch` and performed a search against Interpro database. Thus we obtained the Pfam domains corresponding to the results from `hmmsearch`."
   ]
  },
  {
   "cell_type": "code",
   "execution_count": 19,
   "metadata": {
    "ExecuteTime": {
     "end_time": "2023-08-28T18:49:59.781977Z",
     "start_time": "2023-08-28T18:49:59.749166Z"
    }
   },
   "outputs": [
    {
     "name": "stdout",
     "output_type": "stream",
     "text": [
      "The number of regions for the 1 disordered region of the Q86FP8 protein in Interpro (RP 15%): 556\n",
      "The retrieved Pfam domains: ['PF00096', 'PF00561', 'PF00089', 'PF02582', 'PF00724', 'PF01380', 'PF13537', 'PF02463']\n"
     ]
    },
    {
     "data": {
      "text/html": [
       "<div>\n",
       "<style scoped>\n",
       "    .dataframe tbody tr th:only-of-type {\n",
       "        vertical-align: middle;\n",
       "    }\n",
       "\n",
       "    .dataframe tbody tr th {\n",
       "        vertical-align: top;\n",
       "    }\n",
       "\n",
       "    .dataframe thead th {\n",
       "        text-align: right;\n",
       "    }\n",
       "</style>\n",
       "<table border=\"1\" class=\"dataframe\">\n",
       "  <thead>\n",
       "    <tr style=\"text-align: right;\">\n",
       "      <th></th>\n",
       "      <th>uniprot_id</th>\n",
       "      <th>pfam_id</th>\n",
       "      <th>ipr_id</th>\n",
       "      <th>start_pfam</th>\n",
       "      <th>end_pfam</th>\n",
       "      <th>length_pfam</th>\n",
       "      <th>ali_from</th>\n",
       "      <th>ali_to</th>\n",
       "      <th>ali_length</th>\n",
       "      <th>overl_len</th>\n",
       "      <th>overl_pfam</th>\n",
       "      <th>overl_hmm</th>\n",
       "      <th>non_overl_len</th>\n",
       "      <th>overl_perc</th>\n",
       "    </tr>\n",
       "  </thead>\n",
       "  <tbody>\n",
       "    <tr>\n",
       "      <th>0</th>\n",
       "      <td>A0A016UWB3</td>\n",
       "      <td>PF01380</td>\n",
       "      <td>IPR001347</td>\n",
       "      <td>173</td>\n",
       "      <td>300</td>\n",
       "      <td>128</td>\n",
       "      <td>104</td>\n",
       "      <td>155</td>\n",
       "      <td>52</td>\n",
       "      <td>0</td>\n",
       "      <td>0.0</td>\n",
       "      <td>0.0</td>\n",
       "      <td>215</td>\n",
       "      <td>0.0</td>\n",
       "    </tr>\n",
       "    <tr>\n",
       "      <th>1</th>\n",
       "      <td>A0A016UWB3</td>\n",
       "      <td>PF01380</td>\n",
       "      <td>IPR001347</td>\n",
       "      <td>343</td>\n",
       "      <td>432</td>\n",
       "      <td>90</td>\n",
       "      <td>104</td>\n",
       "      <td>155</td>\n",
       "      <td>52</td>\n",
       "      <td>0</td>\n",
       "      <td>0.0</td>\n",
       "      <td>0.0</td>\n",
       "      <td>517</td>\n",
       "      <td>0.0</td>\n",
       "    </tr>\n",
       "    <tr>\n",
       "      <th>2</th>\n",
       "      <td>A0A016UWX5</td>\n",
       "      <td>PF01380</td>\n",
       "      <td>IPR001347</td>\n",
       "      <td>202</td>\n",
       "      <td>329</td>\n",
       "      <td>128</td>\n",
       "      <td>133</td>\n",
       "      <td>184</td>\n",
       "      <td>52</td>\n",
       "      <td>0</td>\n",
       "      <td>0.0</td>\n",
       "      <td>0.0</td>\n",
       "      <td>215</td>\n",
       "      <td>0.0</td>\n",
       "    </tr>\n",
       "    <tr>\n",
       "      <th>3</th>\n",
       "      <td>A0A016UWX5</td>\n",
       "      <td>PF01380</td>\n",
       "      <td>IPR001347</td>\n",
       "      <td>372</td>\n",
       "      <td>461</td>\n",
       "      <td>90</td>\n",
       "      <td>133</td>\n",
       "      <td>184</td>\n",
       "      <td>52</td>\n",
       "      <td>0</td>\n",
       "      <td>0.0</td>\n",
       "      <td>0.0</td>\n",
       "      <td>517</td>\n",
       "      <td>0.0</td>\n",
       "    </tr>\n",
       "    <tr>\n",
       "      <th>4</th>\n",
       "      <td>A0A059LFS6</td>\n",
       "      <td>PF01380</td>\n",
       "      <td>IPR001347</td>\n",
       "      <td>155</td>\n",
       "      <td>283</td>\n",
       "      <td>129</td>\n",
       "      <td>92</td>\n",
       "      <td>140</td>\n",
       "      <td>49</td>\n",
       "      <td>0</td>\n",
       "      <td>0.0</td>\n",
       "      <td>0.0</td>\n",
       "      <td>207</td>\n",
       "      <td>0.0</td>\n",
       "    </tr>\n",
       "  </tbody>\n",
       "</table>\n",
       "</div>"
      ],
      "text/plain": [
       "   uniprot_id  pfam_id     ipr_id  start_pfam  end_pfam  length_pfam  \\\n",
       "0  A0A016UWB3  PF01380  IPR001347         173       300          128   \n",
       "1  A0A016UWB3  PF01380  IPR001347         343       432           90   \n",
       "2  A0A016UWX5  PF01380  IPR001347         202       329          128   \n",
       "3  A0A016UWX5  PF01380  IPR001347         372       461           90   \n",
       "4  A0A059LFS6  PF01380  IPR001347         155       283          129   \n",
       "\n",
       "   ali_from  ali_to  ali_length  overl_len  overl_pfam  overl_hmm  \\\n",
       "0       104     155          52          0         0.0        0.0   \n",
       "1       104     155          52          0         0.0        0.0   \n",
       "2       133     184          52          0         0.0        0.0   \n",
       "3       133     184          52          0         0.0        0.0   \n",
       "4        92     140          49          0         0.0        0.0   \n",
       "\n",
       "   non_overl_len  overl_perc  \n",
       "0            215         0.0  \n",
       "1            517         0.0  \n",
       "2            215         0.0  \n",
       "3            517         0.0  \n",
       "4            207         0.0  "
      ]
     },
     "execution_count": 19,
     "metadata": {},
     "output_type": "execute_result"
    }
   ],
   "source": [
    "# Create a dataframe of Pfam regions (RP 15%) - for one MSA\n",
    "pfam_overlap_rp_15 = pd.read_csv(f\"results/pfam/pfam_overlap/rp_15/pfam_rp_15_{id_dis}_{i}.csv\")\n",
    "print(f\"The number of regions for the {i} disordered region of the {id_dis} protein in Interpro (RP 15%):\", len(pfam_overlap_rp_15))\n",
    "print(\"The retrieved Pfam domains:\", list(set(pfam_overlap_rp_15['pfam_id'])))\n",
    "pfam_overlap_rp_15.head()"
   ]
  },
  {
   "cell_type": "code",
   "execution_count": 20,
   "metadata": {},
   "outputs": [
    {
     "name": "stdout",
     "output_type": "stream",
     "text": [
      "The number of regions for the 1 disordered region of the Q86FP8 protein in Interpro (RP 75%): 2565\n",
      "The retrieved Pfam domains: ['PF00096', 'PF00004', 'PF00085', 'PF02737', 'PF16450', 'PF12936', 'PF07714', 'PF00078', 'PF17862', 'PF00069', 'PF00725', 'PF01380', 'PF13537']\n"
     ]
    },
    {
     "data": {
      "text/html": [
       "<div>\n",
       "<style scoped>\n",
       "    .dataframe tbody tr th:only-of-type {\n",
       "        vertical-align: middle;\n",
       "    }\n",
       "\n",
       "    .dataframe tbody tr th {\n",
       "        vertical-align: top;\n",
       "    }\n",
       "\n",
       "    .dataframe thead th {\n",
       "        text-align: right;\n",
       "    }\n",
       "</style>\n",
       "<table border=\"1\" class=\"dataframe\">\n",
       "  <thead>\n",
       "    <tr style=\"text-align: right;\">\n",
       "      <th></th>\n",
       "      <th>uniprot_id</th>\n",
       "      <th>pfam_id</th>\n",
       "      <th>ipr_id</th>\n",
       "      <th>start_pfam</th>\n",
       "      <th>end_pfam</th>\n",
       "      <th>length_pfam</th>\n",
       "      <th>ali_from</th>\n",
       "      <th>ali_to</th>\n",
       "      <th>ali_length</th>\n",
       "      <th>overl_len</th>\n",
       "      <th>overl_pfam</th>\n",
       "      <th>overl_hmm</th>\n",
       "      <th>non_overl_len</th>\n",
       "      <th>overl_perc</th>\n",
       "    </tr>\n",
       "  </thead>\n",
       "  <tbody>\n",
       "    <tr>\n",
       "      <th>0</th>\n",
       "      <td>A0A010QN55</td>\n",
       "      <td>PF01380</td>\n",
       "      <td>IPR001347</td>\n",
       "      <td>381</td>\n",
       "      <td>508</td>\n",
       "      <td>128</td>\n",
       "      <td>330</td>\n",
       "      <td>362</td>\n",
       "      <td>33</td>\n",
       "      <td>0</td>\n",
       "      <td>0.0</td>\n",
       "      <td>0.0</td>\n",
       "      <td>198</td>\n",
       "      <td>0.0</td>\n",
       "    </tr>\n",
       "    <tr>\n",
       "      <th>1</th>\n",
       "      <td>A0A010QN55</td>\n",
       "      <td>PF01380</td>\n",
       "      <td>IPR001347</td>\n",
       "      <td>553</td>\n",
       "      <td>682</td>\n",
       "      <td>130</td>\n",
       "      <td>330</td>\n",
       "      <td>362</td>\n",
       "      <td>33</td>\n",
       "      <td>0</td>\n",
       "      <td>0.0</td>\n",
       "      <td>0.0</td>\n",
       "      <td>544</td>\n",
       "      <td>0.0</td>\n",
       "    </tr>\n",
       "    <tr>\n",
       "      <th>2</th>\n",
       "      <td>A0A016UWB3</td>\n",
       "      <td>PF01380</td>\n",
       "      <td>IPR001347</td>\n",
       "      <td>173</td>\n",
       "      <td>300</td>\n",
       "      <td>128</td>\n",
       "      <td>104</td>\n",
       "      <td>155</td>\n",
       "      <td>52</td>\n",
       "      <td>0</td>\n",
       "      <td>0.0</td>\n",
       "      <td>0.0</td>\n",
       "      <td>215</td>\n",
       "      <td>0.0</td>\n",
       "    </tr>\n",
       "    <tr>\n",
       "      <th>3</th>\n",
       "      <td>A0A016UWB3</td>\n",
       "      <td>PF01380</td>\n",
       "      <td>IPR001347</td>\n",
       "      <td>343</td>\n",
       "      <td>432</td>\n",
       "      <td>90</td>\n",
       "      <td>104</td>\n",
       "      <td>155</td>\n",
       "      <td>52</td>\n",
       "      <td>0</td>\n",
       "      <td>0.0</td>\n",
       "      <td>0.0</td>\n",
       "      <td>517</td>\n",
       "      <td>0.0</td>\n",
       "    </tr>\n",
       "    <tr>\n",
       "      <th>4</th>\n",
       "      <td>A0A016UWX5</td>\n",
       "      <td>PF01380</td>\n",
       "      <td>IPR001347</td>\n",
       "      <td>202</td>\n",
       "      <td>329</td>\n",
       "      <td>128</td>\n",
       "      <td>133</td>\n",
       "      <td>184</td>\n",
       "      <td>52</td>\n",
       "      <td>0</td>\n",
       "      <td>0.0</td>\n",
       "      <td>0.0</td>\n",
       "      <td>215</td>\n",
       "      <td>0.0</td>\n",
       "    </tr>\n",
       "  </tbody>\n",
       "</table>\n",
       "</div>"
      ],
      "text/plain": [
       "   uniprot_id  pfam_id     ipr_id  start_pfam  end_pfam  length_pfam  \\\n",
       "0  A0A010QN55  PF01380  IPR001347         381       508          128   \n",
       "1  A0A010QN55  PF01380  IPR001347         553       682          130   \n",
       "2  A0A016UWB3  PF01380  IPR001347         173       300          128   \n",
       "3  A0A016UWB3  PF01380  IPR001347         343       432           90   \n",
       "4  A0A016UWX5  PF01380  IPR001347         202       329          128   \n",
       "\n",
       "   ali_from  ali_to  ali_length  overl_len  overl_pfam  overl_hmm  \\\n",
       "0       330     362          33          0         0.0        0.0   \n",
       "1       330     362          33          0         0.0        0.0   \n",
       "2       104     155          52          0         0.0        0.0   \n",
       "3       104     155          52          0         0.0        0.0   \n",
       "4       133     184          52          0         0.0        0.0   \n",
       "\n",
       "   non_overl_len  overl_perc  \n",
       "0            198         0.0  \n",
       "1            544         0.0  \n",
       "2            215         0.0  \n",
       "3            517         0.0  \n",
       "4            215         0.0  "
      ]
     },
     "execution_count": 20,
     "metadata": {},
     "output_type": "execute_result"
    }
   ],
   "source": [
    "# Create a dataframe of Pfam regions (RP 75%) - for one MSA\n",
    "pfam_overlap_rp_75 = pd.read_csv(f\"results/pfam/pfam_overlap/rp_75/pfam_rp_75_{id_dis}_{i}.csv\")\n",
    "print(f\"The number of regions for the {i} disordered region of the {id_dis} protein in Interpro (RP 75%):\", len(pfam_overlap_rp_75))\n",
    "print(\"The retrieved Pfam domains:\", list(set(pfam_overlap_rp_75['pfam_id'])))\n",
    "pfam_overlap_rp_75.head()"
   ]
  },
  {
   "cell_type": "markdown",
   "metadata": {},
   "source": [
    "Then we compare the HMM and Pfam model length with the Disprot."
   ]
  },
  {
   "cell_type": "code",
   "execution_count": 21,
   "metadata": {},
   "outputs": [
    {
     "name": "stdout",
     "output_type": "stream",
     "text": [
      "The length of the 1 region of the Q86FP8: 61\n"
     ]
    }
   ],
   "source": [
    "# Get the length of the disordered region\n",
    "length = curated_query['length'].iloc[i-1]\n",
    "print(f\"The length of the {i} region of the {id_dis}:\", length)"
   ]
  },
  {
   "cell_type": "code",
   "execution_count": 22,
   "metadata": {},
   "outputs": [
    {
     "data": {
      "image/png": "[encoded data removed]",
      "text/plain": [
       "<Figure size 720x432 with 2 Axes>"
      ]
     },
     "metadata": {
      "needs_background": "light"
     },
     "output_type": "display_data"
    }
   ],
   "source": [
    "# One query\n",
    "plt.rcParams['figure.figsize'] = [10, 6]\n",
    "fig, ax = plt.subplots(2, 1, sharey=True)\n",
    "\n",
    "# Subplot 1: RP 15%\n",
    "ax[0].vlines(pfam_overlap_rp_15['uniprot_id'], pfam_overlap_rp_15['start_pfam'], pfam_overlap_rp_15['end_pfam'],\n",
    "             alpha=0.5, color='blue', label='Pfam-HMM')\n",
    "\n",
    "ax[0].vlines(pfam_overlap_rp_15['uniprot_id'], pfam_overlap_rp_15['ali_from'], pfam_overlap_rp_15['ali_to'],\n",
    "             alpha=0.5, color='red', label='DisProt-HMM')\n",
    "\n",
    "ax[0].set_ylabel('Uniprot ID')\n",
    "ax[0].set_xlabel('Position')\n",
    "ax[0].set_title('RP 15%')\n",
    "ax[0].legend()\n",
    "\n",
    "# Subplot 2: RP 75%\n",
    "ax[1].vlines(pfam_overlap_rp_75['uniprot_id'], pfam_overlap_rp_75['start_pfam'], pfam_overlap_rp_75['end_pfam'],\n",
    "             alpha=0.5, color='blue', label='Pfam-HMM')\n",
    "\n",
    "ax[1].vlines(pfam_overlap_rp_75['uniprot_id'], pfam_overlap_rp_75['ali_from'], pfam_overlap_rp_75['ali_to'],\n",
    "             alpha=0.5, color='red', label='DisProt-HMM')\n",
    "\n",
    "ax[1].set_xlabel('Position')\n",
    "ax[1].set_title('RP 75%')\n",
    "ax[1].legend()\n",
    "\n",
    "plt.suptitle(f\"Comparison of Pfam-HMM and DisProt-HMM for RP 15% and RP 75% for {id_dis}\")\n",
    "plt.tight_layout()\n",
    "plt.show()"
   ]
  },
  {
   "cell_type": "markdown",
   "metadata": {},
   "source": [
    "### 3.2 Analysis of all results\n",
    "### 3.2.1 RP 15%"
   ]
  },
  {
   "cell_type": "code",
   "execution_count": 23,
   "metadata": {},
   "outputs": [
    {
     "name": "stdout",
     "output_type": "stream",
     "text": [
      "The number of hmmsearch results for RP 15%: 1655\n"
     ]
    }
   ],
   "source": [
    "# Load the pfam_hmm_rp_15 dataframe - including curated DisProt\n",
    "pfam_hmm_rp_15 = pd.read_csv('results/pfam/pfam_hmm_rp_15.csv')\n",
    "pfam_hmm_rp_15_1 = pd.read_csv('results/pfam/pfam_hmm_rp_15_1.csv')\n",
    "print(\"The number of hmmsearch results for RP 15%:\", len(pfam_hmm_rp_15))\n",
    "# pfam_hmm_rp_15.head()"
   ]
  },
  {
   "cell_type": "code",
   "execution_count": 24,
   "metadata": {},
   "outputs": [
    {
     "name": "stdout",
     "output_type": "stream",
     "text": [
      "The number of hmmsearch results for RP 15%: 23010\n"
     ]
    }
   ],
   "source": [
    "# Load the pfam_hmm_rp_75 dataframe - including curated DisProt\n",
    "pfam_hmm_rp_75 = pd.read_csv('results/pfam/pfam_hmm_rp_75.csv')\n",
    "pfam_hmm_rp_75_1 = pd.read_csv('results/pfam/pfam_hmm_rp_75_1.csv')\n",
    "print(\"The number of hmmsearch results for RP 15%:\", len(pfam_hmm_rp_75))\n",
    "# pfam_hmm_rp_75.head()"
   ]
  },
  {
   "cell_type": "markdown",
   "metadata": {},
   "source": [
    "In the following dataframes I directly compared two models: Pfam-HMM and DisProt-HMM. \n",
    "\n",
    "3 types of overlap were calculated:\n",
    "- the common part divided by Pfam-HMM length (`overl_pfam`)\n",
    "- the common part divided by DisProt-HMM length (`overl_hmm`)\n",
    "- and the overall overlap: the common part divided by the **maximum length** combined by Pfam-HMM and DisProt-HMM lengths together (`overl_perc`)."
   ]
  },
  {
   "cell_type": "code",
   "execution_count": 25,
   "metadata": {},
   "outputs": [
    {
     "data": {
      "text/html": [
       "<div>\n",
       "<style scoped>\n",
       "    .dataframe tbody tr th:only-of-type {\n",
       "        vertical-align: middle;\n",
       "    }\n",
       "\n",
       "    .dataframe tbody tr th {\n",
       "        vertical-align: top;\n",
       "    }\n",
       "\n",
       "    .dataframe thead th {\n",
       "        text-align: right;\n",
       "    }\n",
       "</style>\n",
       "<table border=\"1\" class=\"dataframe\">\n",
       "  <thead>\n",
       "    <tr style=\"text-align: right;\">\n",
       "      <th></th>\n",
       "      <th>uniprot_id</th>\n",
       "      <th>pfam_id</th>\n",
       "      <th>ipr_id</th>\n",
       "      <th>start_pfam</th>\n",
       "      <th>end_pfam</th>\n",
       "      <th>length_pfam</th>\n",
       "      <th>ali_from</th>\n",
       "      <th>ali_to</th>\n",
       "      <th>ali_length</th>\n",
       "      <th>overl_len</th>\n",
       "      <th>overl_pfam</th>\n",
       "      <th>overl_hmm</th>\n",
       "      <th>non_overl_len</th>\n",
       "      <th>overl_perc</th>\n",
       "    </tr>\n",
       "  </thead>\n",
       "  <tbody>\n",
       "    <tr>\n",
       "      <th>0</th>\n",
       "      <td>A0A2K5X283</td>\n",
       "      <td>PF16959</td>\n",
       "      <td>IPR031588</td>\n",
       "      <td>617</td>\n",
       "      <td>770</td>\n",
       "      <td>154</td>\n",
       "      <td>769</td>\n",
       "      <td>805</td>\n",
       "      <td>37</td>\n",
       "      <td>2</td>\n",
       "      <td>1.30</td>\n",
       "      <td>5.41</td>\n",
       "      <td>188</td>\n",
       "      <td>1.06</td>\n",
       "    </tr>\n",
       "    <tr>\n",
       "      <th>1</th>\n",
       "      <td>A0A2K6SBD4</td>\n",
       "      <td>PF16959</td>\n",
       "      <td>IPR031588</td>\n",
       "      <td>618</td>\n",
       "      <td>770</td>\n",
       "      <td>153</td>\n",
       "      <td>769</td>\n",
       "      <td>805</td>\n",
       "      <td>37</td>\n",
       "      <td>2</td>\n",
       "      <td>1.31</td>\n",
       "      <td>5.41</td>\n",
       "      <td>187</td>\n",
       "      <td>1.06</td>\n",
       "    </tr>\n",
       "    <tr>\n",
       "      <th>2</th>\n",
       "      <td>A0A6J7ZVR2</td>\n",
       "      <td>PF00754</td>\n",
       "      <td>IPR000421</td>\n",
       "      <td>16</td>\n",
       "      <td>86</td>\n",
       "      <td>71</td>\n",
       "      <td>173</td>\n",
       "      <td>189</td>\n",
       "      <td>17</td>\n",
       "      <td>0</td>\n",
       "      <td>0.00</td>\n",
       "      <td>0.00</td>\n",
       "      <td>261</td>\n",
       "      <td>0.00</td>\n",
       "    </tr>\n",
       "    <tr>\n",
       "      <th>3</th>\n",
       "      <td>A0A6J7ZVR2</td>\n",
       "      <td>PF00754</td>\n",
       "      <td>IPR000421</td>\n",
       "      <td>149</td>\n",
       "      <td>255</td>\n",
       "      <td>107</td>\n",
       "      <td>173</td>\n",
       "      <td>189</td>\n",
       "      <td>17</td>\n",
       "      <td>17</td>\n",
       "      <td>15.89</td>\n",
       "      <td>100.00</td>\n",
       "      <td>91</td>\n",
       "      <td>15.89</td>\n",
       "    </tr>\n",
       "    <tr>\n",
       "      <th>4</th>\n",
       "      <td>A0A6J7ZVR2</td>\n",
       "      <td>PF00754</td>\n",
       "      <td>IPR000421</td>\n",
       "      <td>294</td>\n",
       "      <td>400</td>\n",
       "      <td>107</td>\n",
       "      <td>173</td>\n",
       "      <td>189</td>\n",
       "      <td>17</td>\n",
       "      <td>0</td>\n",
       "      <td>0.00</td>\n",
       "      <td>0.00</td>\n",
       "      <td>333</td>\n",
       "      <td>0.00</td>\n",
       "    </tr>\n",
       "  </tbody>\n",
       "</table>\n",
       "</div>"
      ],
      "text/plain": [
       "   uniprot_id  pfam_id     ipr_id  start_pfam  end_pfam  length_pfam  \\\n",
       "0  A0A2K5X283  PF16959  IPR031588         617       770          154   \n",
       "1  A0A2K6SBD4  PF16959  IPR031588         618       770          153   \n",
       "2  A0A6J7ZVR2  PF00754  IPR000421          16        86           71   \n",
       "3  A0A6J7ZVR2  PF00754  IPR000421         149       255          107   \n",
       "4  A0A6J7ZVR2  PF00754  IPR000421         294       400          107   \n",
       "\n",
       "   ali_from  ali_to  ali_length  overl_len  overl_pfam  overl_hmm  \\\n",
       "0       769     805          37          2        1.30       5.41   \n",
       "1       769     805          37          2        1.31       5.41   \n",
       "2       173     189          17          0        0.00       0.00   \n",
       "3       173     189          17         17       15.89     100.00   \n",
       "4       173     189          17          0        0.00       0.00   \n",
       "\n",
       "   non_overl_len  overl_perc  \n",
       "0            188        1.06  \n",
       "1            187        1.06  \n",
       "2            261        0.00  \n",
       "3             91       15.89  \n",
       "4            333        0.00  "
      ]
     },
     "execution_count": 25,
     "metadata": {},
     "output_type": "execute_result"
    }
   ],
   "source": [
    "# RP 15%, overlap between Pfam-HMM and DisProt-HMM\n",
    "pfam_hmm_rp_15_1.head()"
   ]
  },
  {
   "cell_type": "code",
   "execution_count": 26,
   "metadata": {},
   "outputs": [
    {
     "data": {
      "text/html": [
       "<div>\n",
       "<style scoped>\n",
       "    .dataframe tbody tr th:only-of-type {\n",
       "        vertical-align: middle;\n",
       "    }\n",
       "\n",
       "    .dataframe tbody tr th {\n",
       "        vertical-align: top;\n",
       "    }\n",
       "\n",
       "    .dataframe thead th {\n",
       "        text-align: right;\n",
       "    }\n",
       "</style>\n",
       "<table border=\"1\" class=\"dataframe\">\n",
       "  <thead>\n",
       "    <tr style=\"text-align: right;\">\n",
       "      <th></th>\n",
       "      <th>uniprot_id</th>\n",
       "      <th>pfam_id</th>\n",
       "      <th>ipr_id</th>\n",
       "      <th>start_pfam</th>\n",
       "      <th>end_pfam</th>\n",
       "      <th>length_pfam</th>\n",
       "      <th>ali_from</th>\n",
       "      <th>ali_to</th>\n",
       "      <th>ali_length</th>\n",
       "      <th>overl_len</th>\n",
       "      <th>overl_pfam</th>\n",
       "      <th>overl_hmm</th>\n",
       "      <th>non_overl_len</th>\n",
       "      <th>overl_perc</th>\n",
       "    </tr>\n",
       "  </thead>\n",
       "  <tbody>\n",
       "    <tr>\n",
       "      <th>0</th>\n",
       "      <td>A0A060VYC8</td>\n",
       "      <td>PF07686</td>\n",
       "      <td>IPR013106</td>\n",
       "      <td>21</td>\n",
       "      <td>101</td>\n",
       "      <td>81</td>\n",
       "      <td>15</td>\n",
       "      <td>110</td>\n",
       "      <td>96</td>\n",
       "      <td>81</td>\n",
       "      <td>100.0</td>\n",
       "      <td>84.38</td>\n",
       "      <td>16</td>\n",
       "      <td>84.38</td>\n",
       "    </tr>\n",
       "    <tr>\n",
       "      <th>1</th>\n",
       "      <td>A0A060VYC8</td>\n",
       "      <td>PF08205</td>\n",
       "      <td>IPR013162</td>\n",
       "      <td>119</td>\n",
       "      <td>197</td>\n",
       "      <td>79</td>\n",
       "      <td>15</td>\n",
       "      <td>110</td>\n",
       "      <td>96</td>\n",
       "      <td>0</td>\n",
       "      <td>0.0</td>\n",
       "      <td>0.00</td>\n",
       "      <td>192</td>\n",
       "      <td>0.00</td>\n",
       "    </tr>\n",
       "    <tr>\n",
       "      <th>2</th>\n",
       "      <td>A0A060W1A4</td>\n",
       "      <td>PF07686</td>\n",
       "      <td>IPR013106</td>\n",
       "      <td>23</td>\n",
       "      <td>99</td>\n",
       "      <td>77</td>\n",
       "      <td>18</td>\n",
       "      <td>110</td>\n",
       "      <td>93</td>\n",
       "      <td>77</td>\n",
       "      <td>100.0</td>\n",
       "      <td>82.80</td>\n",
       "      <td>17</td>\n",
       "      <td>82.80</td>\n",
       "    </tr>\n",
       "    <tr>\n",
       "      <th>3</th>\n",
       "      <td>A0A060W1A4</td>\n",
       "      <td>PF08205</td>\n",
       "      <td>IPR013162</td>\n",
       "      <td>118</td>\n",
       "      <td>195</td>\n",
       "      <td>78</td>\n",
       "      <td>18</td>\n",
       "      <td>110</td>\n",
       "      <td>93</td>\n",
       "      <td>0</td>\n",
       "      <td>0.0</td>\n",
       "      <td>0.00</td>\n",
       "      <td>186</td>\n",
       "      <td>0.00</td>\n",
       "    </tr>\n",
       "    <tr>\n",
       "      <th>4</th>\n",
       "      <td>A0A060WNT4</td>\n",
       "      <td>PF07686</td>\n",
       "      <td>IPR013106</td>\n",
       "      <td>27</td>\n",
       "      <td>108</td>\n",
       "      <td>82</td>\n",
       "      <td>21</td>\n",
       "      <td>116</td>\n",
       "      <td>96</td>\n",
       "      <td>82</td>\n",
       "      <td>100.0</td>\n",
       "      <td>85.42</td>\n",
       "      <td>15</td>\n",
       "      <td>85.42</td>\n",
       "    </tr>\n",
       "  </tbody>\n",
       "</table>\n",
       "</div>"
      ],
      "text/plain": [
       "   uniprot_id  pfam_id     ipr_id  start_pfam  end_pfam  length_pfam  \\\n",
       "0  A0A060VYC8  PF07686  IPR013106          21       101           81   \n",
       "1  A0A060VYC8  PF08205  IPR013162         119       197           79   \n",
       "2  A0A060W1A4  PF07686  IPR013106          23        99           77   \n",
       "3  A0A060W1A4  PF08205  IPR013162         118       195           78   \n",
       "4  A0A060WNT4  PF07686  IPR013106          27       108           82   \n",
       "\n",
       "   ali_from  ali_to  ali_length  overl_len  overl_pfam  overl_hmm  \\\n",
       "0        15     110          96         81       100.0      84.38   \n",
       "1        15     110          96          0         0.0       0.00   \n",
       "2        18     110          93         77       100.0      82.80   \n",
       "3        18     110          93          0         0.0       0.00   \n",
       "4        21     116          96         82       100.0      85.42   \n",
       "\n",
       "   non_overl_len  overl_perc  \n",
       "0             16       84.38  \n",
       "1            192        0.00  \n",
       "2             17       82.80  \n",
       "3            186        0.00  \n",
       "4             15       85.42  "
      ]
     },
     "execution_count": 26,
     "metadata": {},
     "output_type": "execute_result"
    }
   ],
   "source": [
    "# RP 75%, overlap between Pfam-HMM and DisProt-HMM\n",
    "pfam_hmm_rp_75_1.head()"
   ]
  },
  {
   "cell_type": "markdown",
   "metadata": {},
   "source": [
    "### Models comparison (Pfam-HMM and DisProt-HMM)"
   ]
  },
  {
   "cell_type": "code",
   "execution_count": 88,
   "metadata": {},
   "outputs": [
    {
     "data": {
      "image/png": "[encoded data removed]",
      "text/plain": [
       "<Figure size 864x288 with 2 Axes>"
      ]
     },
     "metadata": {
      "needs_background": "light"
     },
     "output_type": "display_data"
    }
   ],
   "source": [
    "# Plot the histogram of overlaps % for Pfam and HMM\n",
    "plt.rcParams['figure.figsize'] = [12, 4]\n",
    "fig, ax = plt.subplots(1, 2, sharex=True)\n",
    "\n",
    "ax[0].hist([pfam_hmm_rp_15_1['overl_pfam'], pfam_hmm_rp_15_1['overl_hmm']],\n",
    "             bins=10, alpha=0.5, color=['blue', 'red'],\n",
    "             label=['Pfam', 'HMM'])\n",
    "\n",
    "ax[1].hist([pfam_hmm_rp_75_1['overl_pfam'], pfam_hmm_rp_75_1['overl_hmm']],\n",
    "             bins=10, alpha=0.5, color=['green', 'purple'],\n",
    "             label=['Pfam', 'HMM'])\n",
    "\n",
    "ax[0].set_xlabel('Overlap percentage')\n",
    "ax[1].set_xlabel('Overlap percentage')\n",
    "ax[0].set_ylabel('Number of instances')\n",
    "ax[1].set_ylabel('Number of instances')\n",
    "\n",
    "ax[0].set_title('RP 15%')\n",
    "ax[1].set_title('Percentage distribution of the overlap between Pfam-HMM and Disprot-HMM')\n",
    "\n",
    "ax[0].legend()\n",
    "ax[1].legend()\n",
    "\n",
    "ax[0].grid(True)\n",
    "ax[1].grid(True)\n",
    "\n",
    "plt.suptitle(\"The overlaps distribution (Pfam and HMM) across the hmmsearch results against RP 15% and RP 75%\")\n",
    "plt.tight_layout()\n",
    "plt.show()"
   ]
  },
  {
   "cell_type": "code",
   "execution_count": 91,
   "metadata": {},
   "outputs": [
    {
     "data": {
      "image/png": "[encoded data removed]",
      "text/plain": [
       "<Figure size 432x288 with 1 Axes>"
      ]
     },
     "metadata": {
      "needs_background": "light"
     },
     "output_type": "display_data"
    }
   ],
   "source": [
    "# Plot the histogram of overlaps % for Pfam and HMM\n",
    "plt.rcParams['figure.figsize'] = [6, 4]\n",
    "\n",
    "plt.hist([pfam_hmm_rp_75_1['overl_pfam'], pfam_hmm_rp_75_1['overl_hmm']],\n",
    "             bins=10, alpha=0.5, color=['green', 'purple'],\n",
    "             label=['Pfam', 'HMM'])\n",
    "\n",
    "plt.xlabel('Overlap percentage')\n",
    "plt.ylabel('Number of instances')\n",
    "plt.title('Overlap % distribution between Pfam-HMM and Disprot-HMM')\n",
    "plt.legend()\n",
    "plt.grid(True)\n",
    "plt.tight_layout()\n",
    "plt.show()"
   ]
  },
  {
   "cell_type": "code",
   "execution_count": 65,
   "metadata": {},
   "outputs": [
    {
     "name": "stdout",
     "output_type": "stream",
     "text": [
      "Non-overlapping models count (RP 15%): 1336 \n",
      "The share of non-overlapping models (RP 15%): 80.92%\n",
      "Non-overlapping models count (RP 75%): 16959 \n",
      "The share of non-overlapping models (RP 75%): 73.70%\n"
     ]
    }
   ],
   "source": [
    "# Calculate how many models do not overlap\n",
    "zero_count_rp_15 = (pfam_hmm_rp_15_1['overl_perc'] == 0).sum()\n",
    "total_count_rp_15 = len(pfam_hmm_rp_15_1)\n",
    "percentage_rp_15 = \"{:.2f}\".format((zero_count_rp_15 / total_count_rp_15) * 100)\n",
    "\n",
    "zero_count_rp_75 = (pfam_hmm_rp_75_1['overl_perc'] == 0).sum()\n",
    "total_count_rp_75 = len(pfam_hmm_rp_75_1)\n",
    "percentage_rp_75 = \"{:.2f}\".format((zero_count_rp_75 / total_count_rp_75) * 100)\n",
    "\n",
    "print(f\"Non-overlapping models count (RP 15%): {zero_count_rp_15}\", \"\\n\"\n",
    "     f\"The share of non-overlapping models (RP 15%): {percentage_rp_15}%\")\n",
    "print(f\"Non-overlapping models count (RP 75%): {zero_count_rp_75}\", \"\\n\"\n",
    "     f\"The share of non-overlapping models (RP 75%): {percentage_rp_75}%\")"
   ]
  },
  {
   "cell_type": "code",
   "execution_count": 67,
   "metadata": {},
   "outputs": [
    {
     "name": "stdout",
     "output_type": "stream",
     "text": [
      "The number of overlapping models: 315\n"
     ]
    },
    {
     "data": {
      "text/html": [
       "<div>\n",
       "<style scoped>\n",
       "    .dataframe tbody tr th:only-of-type {\n",
       "        vertical-align: middle;\n",
       "    }\n",
       "\n",
       "    .dataframe tbody tr th {\n",
       "        vertical-align: top;\n",
       "    }\n",
       "\n",
       "    .dataframe thead th {\n",
       "        text-align: right;\n",
       "    }\n",
       "</style>\n",
       "<table border=\"1\" class=\"dataframe\">\n",
       "  <thead>\n",
       "    <tr style=\"text-align: right;\">\n",
       "      <th></th>\n",
       "      <th>uniprot_id</th>\n",
       "      <th>pfam_id</th>\n",
       "      <th>ipr_id</th>\n",
       "      <th>start_pfam</th>\n",
       "      <th>end_pfam</th>\n",
       "      <th>length_pfam</th>\n",
       "      <th>ali_from</th>\n",
       "      <th>ali_to</th>\n",
       "      <th>ali_length</th>\n",
       "      <th>overl_len</th>\n",
       "      <th>overl_pfam</th>\n",
       "      <th>overl_hmm</th>\n",
       "      <th>non_overl_len</th>\n",
       "      <th>overl_perc</th>\n",
       "    </tr>\n",
       "  </thead>\n",
       "  <tbody>\n",
       "    <tr>\n",
       "      <th>0</th>\n",
       "      <td>A0A2K5X283</td>\n",
       "      <td>PF16959</td>\n",
       "      <td>IPR031588</td>\n",
       "      <td>617</td>\n",
       "      <td>770</td>\n",
       "      <td>154</td>\n",
       "      <td>769</td>\n",
       "      <td>805</td>\n",
       "      <td>37</td>\n",
       "      <td>2</td>\n",
       "      <td>1.30</td>\n",
       "      <td>5.41</td>\n",
       "      <td>188</td>\n",
       "      <td>1.06</td>\n",
       "    </tr>\n",
       "    <tr>\n",
       "      <th>1</th>\n",
       "      <td>A0A2K6SBD4</td>\n",
       "      <td>PF16959</td>\n",
       "      <td>IPR031588</td>\n",
       "      <td>618</td>\n",
       "      <td>770</td>\n",
       "      <td>153</td>\n",
       "      <td>769</td>\n",
       "      <td>805</td>\n",
       "      <td>37</td>\n",
       "      <td>2</td>\n",
       "      <td>1.31</td>\n",
       "      <td>5.41</td>\n",
       "      <td>187</td>\n",
       "      <td>1.06</td>\n",
       "    </tr>\n",
       "    <tr>\n",
       "      <th>3</th>\n",
       "      <td>A0A6J7ZVR2</td>\n",
       "      <td>PF00754</td>\n",
       "      <td>IPR000421</td>\n",
       "      <td>149</td>\n",
       "      <td>255</td>\n",
       "      <td>107</td>\n",
       "      <td>173</td>\n",
       "      <td>189</td>\n",
       "      <td>17</td>\n",
       "      <td>17</td>\n",
       "      <td>15.89</td>\n",
       "      <td>100.00</td>\n",
       "      <td>91</td>\n",
       "      <td>15.89</td>\n",
       "    </tr>\n",
       "    <tr>\n",
       "      <th>6</th>\n",
       "      <td>A0A6J8A0D7</td>\n",
       "      <td>PF00754</td>\n",
       "      <td>IPR000421</td>\n",
       "      <td>149</td>\n",
       "      <td>255</td>\n",
       "      <td>107</td>\n",
       "      <td>173</td>\n",
       "      <td>189</td>\n",
       "      <td>17</td>\n",
       "      <td>17</td>\n",
       "      <td>15.89</td>\n",
       "      <td>100.00</td>\n",
       "      <td>91</td>\n",
       "      <td>15.89</td>\n",
       "    </tr>\n",
       "    <tr>\n",
       "      <th>8</th>\n",
       "      <td>C7ECU5</td>\n",
       "      <td>PF16959</td>\n",
       "      <td>IPR031588</td>\n",
       "      <td>617</td>\n",
       "      <td>770</td>\n",
       "      <td>154</td>\n",
       "      <td>769</td>\n",
       "      <td>805</td>\n",
       "      <td>37</td>\n",
       "      <td>2</td>\n",
       "      <td>1.30</td>\n",
       "      <td>5.41</td>\n",
       "      <td>188</td>\n",
       "      <td>1.06</td>\n",
       "    </tr>\n",
       "  </tbody>\n",
       "</table>\n",
       "</div>"
      ],
      "text/plain": [
       "   uniprot_id  pfam_id     ipr_id  start_pfam  end_pfam  length_pfam  \\\n",
       "0  A0A2K5X283  PF16959  IPR031588         617       770          154   \n",
       "1  A0A2K6SBD4  PF16959  IPR031588         618       770          153   \n",
       "3  A0A6J7ZVR2  PF00754  IPR000421         149       255          107   \n",
       "6  A0A6J8A0D7  PF00754  IPR000421         149       255          107   \n",
       "8      C7ECU5  PF16959  IPR031588         617       770          154   \n",
       "\n",
       "   ali_from  ali_to  ali_length  overl_len  overl_pfam  overl_hmm  \\\n",
       "0       769     805          37          2        1.30       5.41   \n",
       "1       769     805          37          2        1.31       5.41   \n",
       "3       173     189          17         17       15.89     100.00   \n",
       "6       173     189          17         17       15.89     100.00   \n",
       "8       769     805          37          2        1.30       5.41   \n",
       "\n",
       "   non_overl_len  overl_perc  \n",
       "0            188        1.06  \n",
       "1            187        1.06  \n",
       "3             91       15.89  \n",
       "6             91       15.89  \n",
       "8            188        1.06  "
      ]
     },
     "execution_count": 67,
     "metadata": {},
     "output_type": "execute_result"
    }
   ],
   "source": [
    "nz_rp_15 = pfam_hmm_rp_15_1[pfam_hmm_rp_15_1['overl_perc'] != 0]\n",
    "print(\"The number of overlapping models (RP 15%):\", len(nz_rp_15))\n",
    "nz_rp_15.head()"
   ]
  },
  {
   "cell_type": "code",
   "execution_count": 78,
   "metadata": {},
   "outputs": [
    {
     "data": {
      "image/png": "[encoded data removed]",
      "text/plain": [
       "<Figure size 576x288 with 1 Axes>"
      ]
     },
     "metadata": {
      "needs_background": "light"
     },
     "output_type": "display_data"
    }
   ],
   "source": [
    "plt.bar(nz_rp_15['pfam_id'], nz_rp_15['overl_perc'])\n",
    "plt.xticks(rotation=90)\n",
    "plt.title(\"Pfam instances intersecting with Disprot-HMM (RP 15%)\")\n",
    "plt.xlabel(\"Pfam ID\")\n",
    "plt.ylabel(\"Intersection percentage, %\")\n",
    "plt.show()"
   ]
  },
  {
   "cell_type": "code",
   "execution_count": 68,
   "metadata": {},
   "outputs": [
    {
     "name": "stdout",
     "output_type": "stream",
     "text": [
      "The number of overlapping models (RP 75%): 6051\n"
     ]
    },
    {
     "data": {
      "text/html": [
       "<div>\n",
       "<style scoped>\n",
       "    .dataframe tbody tr th:only-of-type {\n",
       "        vertical-align: middle;\n",
       "    }\n",
       "\n",
       "    .dataframe tbody tr th {\n",
       "        vertical-align: top;\n",
       "    }\n",
       "\n",
       "    .dataframe thead th {\n",
       "        text-align: right;\n",
       "    }\n",
       "</style>\n",
       "<table border=\"1\" class=\"dataframe\">\n",
       "  <thead>\n",
       "    <tr style=\"text-align: right;\">\n",
       "      <th></th>\n",
       "      <th>uniprot_id</th>\n",
       "      <th>pfam_id</th>\n",
       "      <th>ipr_id</th>\n",
       "      <th>start_pfam</th>\n",
       "      <th>end_pfam</th>\n",
       "      <th>length_pfam</th>\n",
       "      <th>ali_from</th>\n",
       "      <th>ali_to</th>\n",
       "      <th>ali_length</th>\n",
       "      <th>overl_len</th>\n",
       "      <th>overl_pfam</th>\n",
       "      <th>overl_hmm</th>\n",
       "      <th>non_overl_len</th>\n",
       "      <th>overl_perc</th>\n",
       "    </tr>\n",
       "  </thead>\n",
       "  <tbody>\n",
       "    <tr>\n",
       "      <th>0</th>\n",
       "      <td>A0A060VYC8</td>\n",
       "      <td>PF07686</td>\n",
       "      <td>IPR013106</td>\n",
       "      <td>21</td>\n",
       "      <td>101</td>\n",
       "      <td>81</td>\n",
       "      <td>15</td>\n",
       "      <td>110</td>\n",
       "      <td>96</td>\n",
       "      <td>81</td>\n",
       "      <td>100.00</td>\n",
       "      <td>84.38</td>\n",
       "      <td>16</td>\n",
       "      <td>84.38</td>\n",
       "    </tr>\n",
       "    <tr>\n",
       "      <th>2</th>\n",
       "      <td>A0A060W1A4</td>\n",
       "      <td>PF07686</td>\n",
       "      <td>IPR013106</td>\n",
       "      <td>23</td>\n",
       "      <td>99</td>\n",
       "      <td>77</td>\n",
       "      <td>18</td>\n",
       "      <td>110</td>\n",
       "      <td>93</td>\n",
       "      <td>77</td>\n",
       "      <td>100.00</td>\n",
       "      <td>82.80</td>\n",
       "      <td>17</td>\n",
       "      <td>82.80</td>\n",
       "    </tr>\n",
       "    <tr>\n",
       "      <th>4</th>\n",
       "      <td>A0A060WNT4</td>\n",
       "      <td>PF07686</td>\n",
       "      <td>IPR013106</td>\n",
       "      <td>27</td>\n",
       "      <td>108</td>\n",
       "      <td>82</td>\n",
       "      <td>21</td>\n",
       "      <td>116</td>\n",
       "      <td>96</td>\n",
       "      <td>82</td>\n",
       "      <td>100.00</td>\n",
       "      <td>85.42</td>\n",
       "      <td>15</td>\n",
       "      <td>85.42</td>\n",
       "    </tr>\n",
       "    <tr>\n",
       "      <th>6</th>\n",
       "      <td>A0A060X0X8</td>\n",
       "      <td>PF00047</td>\n",
       "      <td>IPR013151</td>\n",
       "      <td>17</td>\n",
       "      <td>105</td>\n",
       "      <td>89</td>\n",
       "      <td>17</td>\n",
       "      <td>96</td>\n",
       "      <td>80</td>\n",
       "      <td>80</td>\n",
       "      <td>89.89</td>\n",
       "      <td>100.00</td>\n",
       "      <td>10</td>\n",
       "      <td>89.89</td>\n",
       "    </tr>\n",
       "    <tr>\n",
       "      <th>8</th>\n",
       "      <td>A0A060X911</td>\n",
       "      <td>PF07686</td>\n",
       "      <td>IPR013106</td>\n",
       "      <td>31</td>\n",
       "      <td>112</td>\n",
       "      <td>82</td>\n",
       "      <td>25</td>\n",
       "      <td>120</td>\n",
       "      <td>96</td>\n",
       "      <td>82</td>\n",
       "      <td>100.00</td>\n",
       "      <td>85.42</td>\n",
       "      <td>15</td>\n",
       "      <td>85.42</td>\n",
       "    </tr>\n",
       "  </tbody>\n",
       "</table>\n",
       "</div>"
      ],
      "text/plain": [
       "   uniprot_id  pfam_id     ipr_id  start_pfam  end_pfam  length_pfam  \\\n",
       "0  A0A060VYC8  PF07686  IPR013106          21       101           81   \n",
       "2  A0A060W1A4  PF07686  IPR013106          23        99           77   \n",
       "4  A0A060WNT4  PF07686  IPR013106          27       108           82   \n",
       "6  A0A060X0X8  PF00047  IPR013151          17       105           89   \n",
       "8  A0A060X911  PF07686  IPR013106          31       112           82   \n",
       "\n",
       "   ali_from  ali_to  ali_length  overl_len  overl_pfam  overl_hmm  \\\n",
       "0        15     110          96         81      100.00      84.38   \n",
       "2        18     110          93         77      100.00      82.80   \n",
       "4        21     116          96         82      100.00      85.42   \n",
       "6        17      96          80         80       89.89     100.00   \n",
       "8        25     120          96         82      100.00      85.42   \n",
       "\n",
       "   non_overl_len  overl_perc  \n",
       "0             16       84.38  \n",
       "2             17       82.80  \n",
       "4             15       85.42  \n",
       "6             10       89.89  \n",
       "8             15       85.42  "
      ]
     },
     "execution_count": 68,
     "metadata": {},
     "output_type": "execute_result"
    }
   ],
   "source": [
    "nz_rp_75 = pfam_hmm_rp_75_1[pfam_hmm_rp_75_1['overl_perc'] != 0]\n",
    "print(\"The number of overlapping models (RP 75%):\", len(nz_rp_75))\n",
    "nz_rp_75.head()"
   ]
  },
  {
   "cell_type": "code",
   "execution_count": 79,
   "metadata": {},
   "outputs": [
    {
     "data": {
      "image/png": "[encoded data removed]",
      "text/plain": [
       "<Figure size 576x288 with 1 Axes>"
      ]
     },
     "metadata": {
      "needs_background": "light"
     },
     "output_type": "display_data"
    }
   ],
   "source": [
    "plt.bar(nz_rp_75['pfam_id'], nz_rp_75['overl_perc'])\n",
    "plt.xticks(rotation=90)\n",
    "plt.title(\"Pfam instances intersecting with Disprot-HMM (RP 75%)\")\n",
    "plt.xlabel(\"Pfam ID\")\n",
    "plt.ylabel(\"Intersection percentage, %\")\n",
    "plt.show()"
   ]
  },
  {
   "cell_type": "markdown",
   "metadata": {},
   "source": [
    "### Models comparison with DisProt\n",
    "In this part I've taken into account the overlap between two models (Pfam-HMM and DisProt-HMM) with the regions given in the curated DisProt database."
   ]
  },
  {
   "cell_type": "code",
   "execution_count": 28,
   "metadata": {},
   "outputs": [
    {
     "data": {
      "image/png": "[encoded data removed]",
      "text/plain": [
       "<Figure size 864x288 with 2 Axes>"
      ]
     },
     "metadata": {
      "needs_background": "light"
     },
     "output_type": "display_data"
    }
   ],
   "source": [
    "# Plot the histogram of overlaps % for Pfam and HMM\n",
    "plt.rcParams['figure.figsize'] = [12, 4]\n",
    "fig, ax = plt.subplots(1, 2, sharex=True)\n",
    "\n",
    "ax[0].hist([pfam_hmm_rp_15['overlap_pfam_%'], pfam_hmm_rp_15['overlap_hmm_%']],\n",
    "             bins=10, alpha=0.5, color=['blue', 'red'],\n",
    "             label=['Pfam', 'HMM'])\n",
    "\n",
    "ax[1].hist([pfam_hmm_rp_75['overlap_pfam_%'], pfam_hmm_rp_75['overlap_hmm_%']],\n",
    "             bins=10, alpha=0.5, color=['green', 'purple'],\n",
    "             label=['Pfam', 'HMM'])\n",
    "\n",
    "ax[0].set_ylabel('Number of instances')\n",
    "ax[1].set_ylabel('Number of instances')\n",
    "\n",
    "ax[0].set_title('RP 15%')\n",
    "ax[1].set_title('RP 75%')\n",
    "\n",
    "ax[0].legend()\n",
    "ax[1].legend()\n",
    "\n",
    "ax[0].grid(True)\n",
    "ax[1].grid(True)\n",
    "\n",
    "plt.suptitle(\"The overlaps distribution (Pfam and HMM) across the hmmsearch results against RP 15% and RP 75%\")\n",
    "plt.tight_layout()\n",
    "plt.show()"
   ]
  },
  {
   "cell_type": "code",
   "execution_count": 84,
   "metadata": {},
   "outputs": [
    {
     "data": {
      "text/plain": [
       "16.481287266406163"
      ]
     },
     "execution_count": 84,
     "metadata": {},
     "output_type": "execute_result"
    }
   ],
   "source": [
    "pfam_hmm_rp_75['overlap_pfam_%'].mean()"
   ]
  },
  {
   "cell_type": "code",
   "execution_count": 85,
   "metadata": {},
   "outputs": [
    {
     "data": {
      "text/plain": [
       "50.633791829639634"
      ]
     },
     "execution_count": 85,
     "metadata": {},
     "output_type": "execute_result"
    }
   ],
   "source": [
    "pfam_hmm_rp_75['overlap_hmm_%'].mean()"
   ]
  },
  {
   "cell_type": "code",
   "execution_count": 86,
   "metadata": {},
   "outputs": [
    {
     "data": {
      "text/plain": [
       "34.15250456323347"
      ]
     },
     "execution_count": 86,
     "metadata": {},
     "output_type": "execute_result"
    }
   ],
   "source": [
    "pfam_hmm_rp_75['overlap_hmm_%'].mean() - pfam_hmm_rp_75['overlap_pfam_%'].mean()"
   ]
  },
  {
   "cell_type": "code",
   "execution_count": 83,
   "metadata": {},
   "outputs": [
    {
     "data": {
      "image/png": "[encoded data removed]",
      "text/plain": [
       "<Figure size 576x288 with 1 Axes>"
      ]
     },
     "metadata": {
      "needs_background": "light"
     },
     "output_type": "display_data"
    }
   ],
   "source": [
    "plt.hist(pfam_hmm_rp_75['overlap_pfam_%'])\n",
    "plt.show()"
   ]
  },
  {
   "cell_type": "code",
   "execution_count": 82,
   "metadata": {},
   "outputs": [
    {
     "data": {
      "image/png": "[encoded data removed]",
      "text/plain": [
       "<Figure size 576x288 with 1 Axes>"
      ]
     },
     "metadata": {
      "needs_background": "light"
     },
     "output_type": "display_data"
    }
   ],
   "source": [
    "plt.hist(pfam_hmm_rp_75['overlap_hmm_%'])\n",
    "plt.show()"
   ]
  }
 ],
 "metadata": {
  "kernelspec": {
   "display_name": "Python 3 (ipykernel)",
   "language": "python",
   "name": "python3"
  },
  "language_info": {
   "codemirror_mode": {
    "name": "ipython",
    "version": 3
   },
   "file_extension": ".py",
   "mimetype": "text/x-python",
   "name": "python",
   "nbconvert_exporter": "python",
   "pygments_lexer": "ipython3",
   "version": "3.9.12"
  }
 },
 "nbformat": 4,
 "nbformat_minor": 1
}
