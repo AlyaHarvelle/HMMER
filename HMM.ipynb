{
 "cells": [
  {
   "cell_type": "markdown",
   "metadata": {
    "ExecuteTime": {
     "end_time": "2023-05-23T07:50:02.095781Z",
     "start_time": "2023-05-23T07:50:00.613949Z"
    }
   },
   "source": [
    "# HMM build and analysis\n",
    "\n",
    "Here we will construct and analyze HMM models using MSA as the input data. We will utilize several databases as sources to enhance our analysis and gain valuable insights from the generated HMM profiles.\n"
   ]
  },
  {
   "cell_type": "code",
   "execution_count": 112,
   "metadata": {
    "ExecuteTime": {
     "end_time": "2023-07-06T13:41:35.704770Z",
     "start_time": "2023-07-06T13:41:35.699998Z"
    }
   },
   "outputs": [],
   "source": [
    "import os\n",
    "import re\n",
    "import json\n",
    "import subprocess\n",
    "import pandas as pd\n",
    "import matplotlib.pyplot as plt\n",
    "from matplotlib.pyplot import figure\n",
    "import seaborn as sns\n",
    "import ipywidgets as widgets\n",
    "from functions import *"
   ]
  },
  {
   "cell_type": "code",
   "execution_count": 113,
   "metadata": {
    "ExecuteTime": {
     "end_time": "2023-07-06T13:41:37.509494Z",
     "start_time": "2023-07-06T13:41:37.504972Z"
    }
   },
   "outputs": [],
   "source": [
    "# Set the path\n",
    "local_path = os.getcwd()"
   ]
  },
  {
   "cell_type": "code",
   "execution_count": 114,
   "outputs": [
    {
     "name": "stdout",
     "output_type": "stream",
     "text": [
      "The number of the Curated Disprot database instances: 3151\n"
     ]
    },
    {
     "data": {
      "text/plain": "         acc evidence   feature   source  start  end  length\n6927  P03265  curated  disorder  disprot    294  334      41\n6928  P03265  curated  disorder  disprot    454  464      11\n6929  P49913  curated  disorder  disprot    134  170      37\n6930  P03045  curated  disorder  disprot      1  107     107\n6931  P00004  curated  disorder  disprot      1  105     105",
      "text/html": "<div>\n<style scoped>\n    .dataframe tbody tr th:only-of-type {\n        vertical-align: middle;\n    }\n\n    .dataframe tbody tr th {\n        vertical-align: top;\n    }\n\n    .dataframe thead th {\n        text-align: right;\n    }\n</style>\n<table border=\"1\" class=\"dataframe\">\n  <thead>\n    <tr style=\"text-align: right;\">\n      <th></th>\n      <th>acc</th>\n      <th>evidence</th>\n      <th>feature</th>\n      <th>source</th>\n      <th>start</th>\n      <th>end</th>\n      <th>length</th>\n    </tr>\n  </thead>\n  <tbody>\n    <tr>\n      <th>6927</th>\n      <td>P03265</td>\n      <td>curated</td>\n      <td>disorder</td>\n      <td>disprot</td>\n      <td>294</td>\n      <td>334</td>\n      <td>41</td>\n    </tr>\n    <tr>\n      <th>6928</th>\n      <td>P03265</td>\n      <td>curated</td>\n      <td>disorder</td>\n      <td>disprot</td>\n      <td>454</td>\n      <td>464</td>\n      <td>11</td>\n    </tr>\n    <tr>\n      <th>6929</th>\n      <td>P49913</td>\n      <td>curated</td>\n      <td>disorder</td>\n      <td>disprot</td>\n      <td>134</td>\n      <td>170</td>\n      <td>37</td>\n    </tr>\n    <tr>\n      <th>6930</th>\n      <td>P03045</td>\n      <td>curated</td>\n      <td>disorder</td>\n      <td>disprot</td>\n      <td>1</td>\n      <td>107</td>\n      <td>107</td>\n    </tr>\n    <tr>\n      <th>6931</th>\n      <td>P00004</td>\n      <td>curated</td>\n      <td>disorder</td>\n      <td>disprot</td>\n      <td>1</td>\n      <td>105</td>\n      <td>105</td>\n    </tr>\n  </tbody>\n</table>\n</div>"
     },
     "execution_count": 114,
     "metadata": {},
     "output_type": "execute_result"
    }
   ],
   "source": [
    "# Create a dataframe from curated.mjson\n",
    "data = list()\n",
    "\n",
    "with open('curated.mjson', 'r') as file:\n",
    "    for line in file:\n",
    "        obj = json.loads(line)\n",
    "        rows = json_parser(obj)\n",
    "        data.extend(rows)\n",
    "\n",
    "curated_disprot = pd.DataFrame(data)\n",
    "\n",
    "# Calculate the length of disordered regions\n",
    "curated_disprot['length'] = curated_disprot['end'] - curated_disprot['start'] + 1\n",
    "curated_disprot = curated_disprot[(curated_disprot['feature'] == 'disorder') & (curated_disprot['source'] == 'disprot')]\n",
    "\n",
    "print(f\"The number of the Curated Disprot database instances: {len(curated_disprot)}\")\n",
    "curated_disprot.head(5)"
   ],
   "metadata": {
    "collapsed": false,
    "ExecuteTime": {
     "end_time": "2023-07-06T13:41:37.782466Z",
     "start_time": "2023-07-06T13:41:37.717013Z"
    }
   }
  },
  {
   "cell_type": "code",
   "execution_count": 110,
   "metadata": {
    "ExecuteTime": {
     "end_time": "2023-07-06T13:41:26.439781Z",
     "start_time": "2023-07-06T13:41:26.375139Z"
    }
   },
   "outputs": [
    {
     "data": {
      "text/plain": "  query_id  subject_id  query_len  hsp_len  \\\n0   Q9H832  A0A6J2FM24        354      356   \n1   Q9H832  A0A3Q7W6Y2        354      356   \n2   Q9H832  A0A2U3VK69        354      356   \n3   Q9H832  A0A2Y9JVH5        354      358   \n4   Q9H832  A0A8C7ALE4        354      358   \n\n                                           query_seq  \\\n0  MAESPTEEAATA--GAGAAGPGASSVAGVVGVSGSGGGFGPPFLPD...   \n1  MAESPTEEAATA--GAGAAGPGASSVAGVVGVSGSGGGFGPPFLPD...   \n2  MAESPTEEAATA--GAGAAGPGASSVAGVVGVSGSGGGFGPPFLPD...   \n3  MAESPTEEAATA----GAGAAGPGASSVAGVVGVSGSGGGFGPPFL...   \n4  MAESPTEEAATA----GAGAAGPGASSVAGVVGVSGSGGGFGPPFL...   \n\n                                           match_seq  \\\n0  MAESPTEEAATA  GAGAAGPGAS V GVVGVSGSG  FGPPFLPD...   \n1  MAESPTEEAATA  GAGA GPGAS VAGVVGVSGSG  FGPPFLPD...   \n2  MAESPTEEAATA  GAGAAGPGAS V GVVGVSGSG  FGPPFLPD...   \n3  MAESPTEEAATA    GAGAAGPGAS VAGVVGVSGSG  FGPPFL...   \n4  MAESPTEEAATA    GAGAAGPGAS VAGVVGVSGSG  FGPPFL...   \n\n                                         subject_seq  query_start  query_end  \\\n0  MAESPTEEAATATAGAGAAGPGASGVTGVVGVSGSG--FGPPFLPD...            1        354   \n1  MAESPTEEAATATAGAGATGPGASGVAGVVGVSGSG--FGPPFLPD...            1        354   \n2  MAESPTEEAATATAGAGAAGPGASGVTGVVGVSGSG--FGPPFLPD...            1        354   \n3  MAESPTEEAATATATAGAGAAGPGASGVAGVVGVSGSG--FGPPFL...            1        354   \n4  MAESPTEEAATATATAGAGAAGPGASGVAGVVGVSGSG--FGPPFL...            1        354   \n\n   subject_start  subject_end  identity  positive  gaps  eval  bit_score  \\\n0              1          354       350       350     4   0.0     1851.0   \n1              1          354       350       350     4   0.0     1851.0   \n2              1          354       350       350     4   0.0     1851.0   \n3              1          356       351       351     6   0.0     1854.0   \n4              1          356       351       351     6   0.0     1854.0   \n\n   count  \n0    200  \n1    200  \n2    200  \n3    200  \n4    200  ",
      "text/html": "<div>\n<style scoped>\n    .dataframe tbody tr th:only-of-type {\n        vertical-align: middle;\n    }\n\n    .dataframe tbody tr th {\n        vertical-align: top;\n    }\n\n    .dataframe thead th {\n        text-align: right;\n    }\n</style>\n<table border=\"1\" class=\"dataframe\">\n  <thead>\n    <tr style=\"text-align: right;\">\n      <th></th>\n      <th>query_id</th>\n      <th>subject_id</th>\n      <th>query_len</th>\n      <th>hsp_len</th>\n      <th>query_seq</th>\n      <th>match_seq</th>\n      <th>subject_seq</th>\n      <th>query_start</th>\n      <th>query_end</th>\n      <th>subject_start</th>\n      <th>subject_end</th>\n      <th>identity</th>\n      <th>positive</th>\n      <th>gaps</th>\n      <th>eval</th>\n      <th>bit_score</th>\n      <th>count</th>\n    </tr>\n  </thead>\n  <tbody>\n    <tr>\n      <th>0</th>\n      <td>Q9H832</td>\n      <td>A0A6J2FM24</td>\n      <td>354</td>\n      <td>356</td>\n      <td>MAESPTEEAATA--GAGAAGPGASSVAGVVGVSGSGGGFGPPFLPD...</td>\n      <td>MAESPTEEAATA  GAGAAGPGAS V GVVGVSGSG  FGPPFLPD...</td>\n      <td>MAESPTEEAATATAGAGAAGPGASGVTGVVGVSGSG--FGPPFLPD...</td>\n      <td>1</td>\n      <td>354</td>\n      <td>1</td>\n      <td>354</td>\n      <td>350</td>\n      <td>350</td>\n      <td>4</td>\n      <td>0.0</td>\n      <td>1851.0</td>\n      <td>200</td>\n    </tr>\n    <tr>\n      <th>1</th>\n      <td>Q9H832</td>\n      <td>A0A3Q7W6Y2</td>\n      <td>354</td>\n      <td>356</td>\n      <td>MAESPTEEAATA--GAGAAGPGASSVAGVVGVSGSGGGFGPPFLPD...</td>\n      <td>MAESPTEEAATA  GAGA GPGAS VAGVVGVSGSG  FGPPFLPD...</td>\n      <td>MAESPTEEAATATAGAGATGPGASGVAGVVGVSGSG--FGPPFLPD...</td>\n      <td>1</td>\n      <td>354</td>\n      <td>1</td>\n      <td>354</td>\n      <td>350</td>\n      <td>350</td>\n      <td>4</td>\n      <td>0.0</td>\n      <td>1851.0</td>\n      <td>200</td>\n    </tr>\n    <tr>\n      <th>2</th>\n      <td>Q9H832</td>\n      <td>A0A2U3VK69</td>\n      <td>354</td>\n      <td>356</td>\n      <td>MAESPTEEAATA--GAGAAGPGASSVAGVVGVSGSGGGFGPPFLPD...</td>\n      <td>MAESPTEEAATA  GAGAAGPGAS V GVVGVSGSG  FGPPFLPD...</td>\n      <td>MAESPTEEAATATAGAGAAGPGASGVTGVVGVSGSG--FGPPFLPD...</td>\n      <td>1</td>\n      <td>354</td>\n      <td>1</td>\n      <td>354</td>\n      <td>350</td>\n      <td>350</td>\n      <td>4</td>\n      <td>0.0</td>\n      <td>1851.0</td>\n      <td>200</td>\n    </tr>\n    <tr>\n      <th>3</th>\n      <td>Q9H832</td>\n      <td>A0A2Y9JVH5</td>\n      <td>354</td>\n      <td>358</td>\n      <td>MAESPTEEAATA----GAGAAGPGASSVAGVVGVSGSGGGFGPPFL...</td>\n      <td>MAESPTEEAATA    GAGAAGPGAS VAGVVGVSGSG  FGPPFL...</td>\n      <td>MAESPTEEAATATATAGAGAAGPGASGVAGVVGVSGSG--FGPPFL...</td>\n      <td>1</td>\n      <td>354</td>\n      <td>1</td>\n      <td>356</td>\n      <td>351</td>\n      <td>351</td>\n      <td>6</td>\n      <td>0.0</td>\n      <td>1854.0</td>\n      <td>200</td>\n    </tr>\n    <tr>\n      <th>4</th>\n      <td>Q9H832</td>\n      <td>A0A8C7ALE4</td>\n      <td>354</td>\n      <td>358</td>\n      <td>MAESPTEEAATA----GAGAAGPGASSVAGVVGVSGSGGGFGPPFL...</td>\n      <td>MAESPTEEAATA    GAGAAGPGAS VAGVVGVSGSG  FGPPFL...</td>\n      <td>MAESPTEEAATATATAGAGAAGPGASGVAGVVGVSGSG--FGPPFL...</td>\n      <td>1</td>\n      <td>354</td>\n      <td>1</td>\n      <td>356</td>\n      <td>351</td>\n      <td>351</td>\n      <td>6</td>\n      <td>0.0</td>\n      <td>1854.0</td>\n      <td>200</td>\n    </tr>\n  </tbody>\n</table>\n</div>"
     },
     "execution_count": 110,
     "metadata": {},
     "output_type": "execute_result"
    }
   ],
   "source": [
    "# Upload the dataframe with the disordered regions only\n",
    "disordered = pd.read_csv(\"disordered_df.csv\")\n",
    "disordered.head()"
   ]
  },
  {
   "cell_type": "code",
   "execution_count": 10,
   "metadata": {
    "ExecuteTime": {
     "end_time": "2023-07-06T08:13:19.913970Z",
     "start_time": "2023-07-06T08:13:19.902540Z"
    }
   },
   "outputs": [
    {
     "data": {
      "text/plain": "Select(description='Query ID: ', layout=Layout(width='max-content'), options=('Q9H832', 'Q8IW19', 'Q99967', 'Q…",
      "application/vnd.jupyter.widget-view+json": {
       "version_major": 2,
       "version_minor": 0,
       "model_id": "b68ec1c014a64405b87a6ccc713856c1"
      }
     },
     "metadata": {},
     "output_type": "display_data"
    }
   ],
   "source": [
    "# Dropdown list of query IDs for disordered regions\n",
    "output = widgets.Select(\n",
    "    options=disordered[\"query_id\"].unique(),\n",
    "    rows=10,\n",
    "    description='Query ID: ',\n",
    "    layout={'width': 'max-content'},\n",
    "    disabled=False\n",
    ")\n",
    "display(output)"
   ]
  },
  {
   "cell_type": "code",
   "execution_count": 323,
   "metadata": {
    "ExecuteTime": {
     "end_time": "2023-07-06T15:22:59.928207Z",
     "start_time": "2023-07-06T15:22:59.921468Z"
    }
   },
   "outputs": [],
   "source": [
    "# Input parameters\n",
    "q_id = output.value\n",
    "name = 'alina'\n",
    "server = 'ecate'\n",
    "i = 1 # change the number if there are several regions in one MSA\n",
    "hmm_file = f'{local_path}/results/disordered/hmmbuild/{q_id}_{i}.hmm'\n",
    "align_file = f'{local_path}/results/alignments/output_files/disordered/{q_id}_{i}.fasta'"
   ]
  },
  {
   "cell_type": "code",
   "execution_count": 324,
   "outputs": [
    {
     "data": {
      "text/plain": "         acc evidence   feature   source  start  end  length\n7799  Q9H832  curated  disorder  disprot      1   99      99\n7800  Q9H832  curated  disorder  disprot    327  354      28",
      "text/html": "<div>\n<style scoped>\n    .dataframe tbody tr th:only-of-type {\n        vertical-align: middle;\n    }\n\n    .dataframe tbody tr th {\n        vertical-align: top;\n    }\n\n    .dataframe thead th {\n        text-align: right;\n    }\n</style>\n<table border=\"1\" class=\"dataframe\">\n  <thead>\n    <tr style=\"text-align: right;\">\n      <th></th>\n      <th>acc</th>\n      <th>evidence</th>\n      <th>feature</th>\n      <th>source</th>\n      <th>start</th>\n      <th>end</th>\n      <th>length</th>\n    </tr>\n  </thead>\n  <tbody>\n    <tr>\n      <th>7799</th>\n      <td>Q9H832</td>\n      <td>curated</td>\n      <td>disorder</td>\n      <td>disprot</td>\n      <td>1</td>\n      <td>99</td>\n      <td>99</td>\n    </tr>\n    <tr>\n      <th>7800</th>\n      <td>Q9H832</td>\n      <td>curated</td>\n      <td>disorder</td>\n      <td>disprot</td>\n      <td>327</td>\n      <td>354</td>\n      <td>28</td>\n    </tr>\n  </tbody>\n</table>\n</div>"
     },
     "execution_count": 324,
     "metadata": {},
     "output_type": "execute_result"
    }
   ],
   "source": [
    "# Filter the curated_disprot dataframe based on selected_id\n",
    "filtered_curated = curated_disprot[curated_disprot['acc'] == q_id]\n",
    "filtered_curated.head(5)"
   ],
   "metadata": {
    "collapsed": false,
    "ExecuteTime": {
     "end_time": "2023-07-06T15:23:00.269277Z",
     "start_time": "2023-07-06T15:23:00.263909Z"
    }
   }
  },
  {
   "cell_type": "markdown",
   "metadata": {},
   "source": [
    "Using the MSA in .fasta format as an input data, we generate HMM model with `hmmbuild` command."
   ]
  },
  {
   "cell_type": "code",
   "execution_count": 325,
   "metadata": {
    "ExecuteTime": {
     "end_time": "2023-07-06T15:23:11.836286Z",
     "start_time": "2023-07-06T15:23:11.593289Z"
    }
   },
   "outputs": [
    {
     "name": "stdout",
     "output_type": "stream",
     "text": [
      "# hmmbuild :: profile HMM construction from multiple sequence alignments\r\n",
      "# HMMER 3.3.2 (Nov 2020); http://hmmer.org/\r\n",
      "# Copyright (C) 2020 Howard Hughes Medical Institute.\r\n",
      "# Freely distributed under the BSD open source license.\r\n",
      "# - - - - - - - - - - - - - - - - - - - - - - - - - - - - - - - - - - - -\r\n",
      "# input alignment file:             /Users/alina/HMM/results/alignments/output_files/disordered/Q9H832_1.fasta\r\n",
      "# output HMM file:                  /Users/alina/HMM/results/disordered/hmmbuild/Q9H832_1.hmm\r\n",
      "# - - - - - - - - - - - - - - - - - - - - - - - - - - - - - - - - - - - -\r\n",
      "\r\n",
      "# idx name                  nseq  alen  mlen eff_nseq re/pos description\r\n",
      "#---- -------------------- ----- ----- ----- -------- ------ -----------\r\n",
      "1     Q9H832_1               201    99    99     2.96  0.590 \r\n",
      "\r\n",
      "# CPU time: 0.04u 0.01s 00:00:00.05 Elapsed: 00:00:00.05\r\n"
     ]
    }
   ],
   "source": [
    "# Build HMM \n",
    "!hmmbuild {hmm_file} {align_file}"
   ]
  },
  {
   "cell_type": "markdown",
   "metadata": {},
   "source": [
    "Here we should pay attention at the occasional difference between the values of `alen` and `mlen` which stand for aligned sequence and consensus sequence lengths respectfully. If they differ, we handle the sequences with the deletions."
   ]
  },
  {
   "cell_type": "code",
   "execution_count": 326,
   "metadata": {
    "ExecuteTime": {
     "end_time": "2023-07-06T15:23:13.454481Z",
     "start_time": "2023-07-06T15:23:13.296304Z"
    }
   },
   "outputs": [
    {
     "name": "stdout",
     "output_type": "stream",
     "text": [
      "# hmmstat :: display summary statistics for a profile file\r\n",
      "# HMMER 3.3.2 (Nov 2020); http://hmmer.org/\r\n",
      "# Copyright (C) 2020 Howard Hughes Medical Institute.\r\n",
      "# Freely distributed under the BSD open source license.\r\n",
      "# - - - - - - - - - - - - - - - - - - - - - - - - - - - - - - - - - - - -\r\n",
      "#\r\n",
      "# idx  name                 accession        nseq eff_nseq      M relent   info p relE compKL\r\n",
      "# ---- -------------------- ------------ -------- -------- ------ ------ ------ ------ ------\r\n",
      "1      Q9H832_1             -                 201     2.96     99   0.59   0.61   0.54   0.06\r\n"
     ]
    }
   ],
   "source": [
    "# Analysis of the model\n",
    "!hmmstat {hmm_file}"
   ]
  },
  {
   "cell_type": "markdown",
   "metadata": {},
   "source": [
    "In this part, we analyze the statistics of the generated HMM and focus on key metrics:\n",
    "- `eff_nseq`: effective sequence number. The smaller value is suggesting a relatively low similarity among the sequences.\n",
    "- `relent`: relative entropy of the match state. The value is 0.59, indicating a moderate conservation of residues.\n",
    "- `compKL`: Kullback-Leibler divergence from the average composition. The value is low, indicating a better alignment fit with the background model. "
   ]
  },
  {
   "cell_type": "markdown",
   "metadata": {},
   "source": [
    "## 1. HMMsearch\n",
    "\n",
    "After building the model, our objective is to assess if overlaps with the profiles in Reference Proteome exist. Then, we enrich the model by utilizing a protein database such as the Reference Proteome. For both databases, we generate dataframes containing the most significant sequences, utilizing a default E-value threshold of 0.01.\n",
    "\n",
    "### Reference Proteome\n",
    "\n",
    "The objective here is to enhance the quality of the model by conducting additional model training using a larger set of homologous sequences."
   ]
  },
  {
   "cell_type": "code",
   "execution_count": 299,
   "metadata": {
    "ExecuteTime": {
     "end_time": "2023-07-06T14:11:11.031927Z",
     "start_time": "2023-07-06T14:11:10.320358Z"
    }
   },
   "outputs": [
    {
     "name": "stdout",
     "output_type": "stream",
     "text": [
      "Q8IW19_2.hmm                                  100%   29KB   6.6MB/s   00:00    \r\n"
     ]
    }
   ],
   "source": [
    "# Copy the file to remote computer\n",
    "!scp {local_path}/results/disordered/hmmbuild/{q_id}_{i}.hmm {name}@{server}:~/{q_id}_{i}.hmm"
   ]
  },
  {
   "cell_type": "code",
   "execution_count": 303,
   "metadata": {
    "ExecuteTime": {
     "end_time": "2023-07-06T14:12:59.231436Z",
     "start_time": "2023-07-06T14:11:36.200216Z"
    }
   },
   "outputs": [],
   "source": [
    "# HMM search against Reference Proteome 15%\n",
    "!ssh {name}@{server} \"/software/packages/hmmer/hmmer-3.3.2/usr/bin/hmmsearch {q_id}_{i}.hmm /db/rp/rp-seqs-15.fasta.gz > hmmsearch_rp_15_{q_id}_{i}.txt\""
   ]
  },
  {
   "cell_type": "code",
   "execution_count": 304,
   "metadata": {
    "ExecuteTime": {
     "end_time": "2023-07-06T14:25:28.584052Z",
     "start_time": "2023-07-06T14:12:59.239018Z"
    }
   },
   "outputs": [],
   "source": [
    "# HMM search against Reference Proteome 75%\n",
    "!ssh {name}@{server} \"/software/packages/hmmer/hmmer-3.3.2/usr/bin/hmmsearch {q_id}_{i}.hmm /db/rp/rp-seqs-75.fasta.gz > hmmsearch_rp_75_{q_id}_{i}.txt\""
   ]
  },
  {
   "cell_type": "code",
   "execution_count": 305,
   "metadata": {
    "ExecuteTime": {
     "end_time": "2023-07-06T14:25:43.806148Z",
     "start_time": "2023-07-06T14:25:42.313557Z"
    }
   },
   "outputs": [
    {
     "name": "stdout",
     "output_type": "stream",
     "text": [
      "hmmsearch_rp_15_Q8IW19_2.txt                  100%   61KB   6.1MB/s   00:00    \r\n",
      "hmmsearch_rp_75_Q8IW19_2.txt                  100%  525KB  10.3MB/s   00:00    \r\n"
     ]
    }
   ],
   "source": [
    "# Copy results to the local folder\n",
    "!scp {name}@{server}:~/hmmsearch_rp_15_{q_id}_{i}.txt {local_path}/results/disordered/hmmsearch/\n",
    "!scp {name}@{server}:~/hmmsearch_rp_75_{q_id}_{i}.txt {local_path}/results/disordered/hmmsearch/"
   ]
  },
  {
   "cell_type": "code",
   "execution_count": 306,
   "metadata": {
    "ExecuteTime": {
     "end_time": "2023-07-06T14:25:48.208504Z",
     "start_time": "2023-07-06T14:25:48.146658Z"
    }
   },
   "outputs": [
    {
     "name": "stdout",
     "output_type": "stream",
     "text": [
      "The total number of Reference Proteome hits: 27, the number of unique sequences: 27\n"
     ]
    },
    {
     "data": {
      "text/plain": "    E-value  score  bias  E-value  score  bias  exp  N    Sequence  \\\n0   2.9e-32  119.6  20.4  2.9e-32  119.6  20.4  2.5  2      Q8IW19   \n1   7.4e-32  118.3  20.4  7.4e-32  118.3  20.4  2.3  1  A0A2K5VR45   \n2   9.2e-28  105.2  25.4  3.4e-27  103.4  25.4  2.0  1  A0A2K6T215   \n3   1.2e-26  101.6  12.5  3.1e-26  100.3  12.5  1.7  1      S9WGV8   \n4   4.3e-22   87.0  16.7  5.6e-22   86.7  16.7  1.1  1  A0A2I0TBL0   \n5   7.2e-22   86.3  18.3  7.2e-22   86.3  18.3  2.8  2      E1BU46   \n6   7.3e-22   86.3  18.3  7.3e-22   86.3  18.3  2.8  2  A0A3Q2TSM9   \n7   3.5e-21   84.1  21.3  3.5e-21   84.1  21.3  2.2  1      M7B3V9   \n8   2.3e-17   71.9  19.3  3.6e-17   71.3  19.3  1.3  1  A0A2G9SCZ2   \n9   3.3e-17   71.4  18.6    1e-16   69.8  18.6  1.9  1  A0A8I6AU35   \n10  3.6e-17   71.3  18.6  1.1e-16   69.7  18.6  1.9  1      F6Q5G6   \n11  1.7e-16   69.1  17.6  1.7e-16   69.1  17.6  2.1  1      V8P505   \n12  5.1e-16   67.6  15.2  7.1e-16   67.1  15.2  1.1  1  A0A662YM54   \n13  2.8e-12   55.6  11.4  2.8e-12   55.6  11.4  3.2  1  A0A4W3K9L2   \n14  4.9e-12   54.8  22.2  1.5e-11   53.3  22.2  1.9  1      Q9D842   \n15  1.3e-07   40.7   9.9  1.6e-07   40.4   9.9  1.1  1  A0A5B7IHU6   \n16  1.4e-07   40.6  12.3  1.4e-07   40.6  12.3  6.7  2  A0A2G8JLS5   \n17    2e-07   40.0   5.0    2e-07   40.0   5.0  2.0  1  A0A8J4Y9Y7   \n18  8.1e-07   38.1  10.0  8.1e-07   38.1  10.0  5.1  2  A0A6P4Z3F2   \n19  8.2e-07   38.1  10.0  8.2e-07   38.1  10.0  5.1  2  A0A6P4ZN83   \n20  8.3e-07   38.1   7.1  8.3e-07   38.1   7.1  3.0  1  A0A8M3ASX0   \n21  8.3e-07   38.1   7.1  8.3e-07   38.1   7.1  3.0  1  A0A8M3AL87   \n22  2.7e-05   33.3  10.0  2.7e-05   33.3  10.0  5.4  1      V4AS51   \n23  6.1e-05   32.1   9.4  6.1e-05   32.1   9.4  8.5  2  A0A8B8DW22   \n24  7.1e-05   31.9   4.8  7.1e-05   31.9   4.8  3.3  1  A0A8J5JFU8   \n25  0.00013   31.1   9.6  0.00013   31.1   9.6  4.3  3  A0A3R7LYC0   \n26  0.00027   30.0  13.2  0.00027   30.0  13.2  3.8  2  A0A653CTT0   \n\n                                          Description  \n0   APLF_HUMAN^|^^|^Aprataxin and PNK-like factor {EC  \n1   A0A2K5VR45_MACFA^|^^|^Aprataxin and PNKP like fac  \n2   A0A2K6T215_SAIBB^|^^|^Aprataxin and PNKP like fac  \n3   S9WGV8_CAMFR^|^^|^zf-CCHH domain-containing prote  \n4   A0A2I0TBL0_LIMLA^|^^|^Uncharacterized protein {EC  \n5   E1BU46_CHICK^|^^|^Uncharacterized protein {ECO:00  \n6   A0A3Q2TSM9_CHICK^|^^|^Uncharacterized protein {EC  \n7   M7B3V9_CHEMY^|^^|^Aprataxin and PNK-like factor {  \n8   A0A2G9SCZ2_LITCT^|^^|^Uncharacterized protein {EC  \n9   A0A8I6AU35_RAT^|^^|^Aprataxin and PNKP like facto  \n10  F6Q5G6_RAT^|^^|^Aprataxin and PNKP-like factor {E  \n11  V8P505_OPHHA^|^^|^Aprataxin and PNK-like factor {  \n12  A0A662YM54_ACIRT^|^^|^Aprataxin and PNK-like fact  \n13  A0A4W3K9L2_CALMI^|^^|^Uncharacterized protein {EC  \n14  APLF_MOUSE^|^^|^Aprataxin and PNK-like factor^|^^  \n15  A0A5B7IHU6_PORTR^|^^|^Uncharacterized protein {EC  \n16  A0A2G8JLS5_STIJA^|^^|^Putative aprataxin and PNK-  \n17  A0A8J4Y9Y7_CHIOP^|^^|^Aprataxin and PNK-like fact  \n18  A0A6P4Z3F2_BRABE^|^^|^aprataxin and PNK-like fact  \n19  A0A6P4ZN83_BRABE^|^^|^aprataxin and PNK-like fact  \n20  A0A8M3ASX0_DANRE^|^^|^aprataxin and PNK-like fact  \n21  A0A8M3AL87_DANRE^|^^|^aprataxin and PNK-like fact  \n22  V4AS51_LOTGI^|^^|^Uncharacterized protein {ECO:00  \n23  A0A8B8DW22_CRAVI^|^^|^aprataxin and PNK-like fact  \n24  A0A8J5JFU8_HOMAM^|^^|^Aprataxin and PNK-like fact  \n25  A0A3R7LYC0_PENVA^|^^|^Putative aprataxin and PNK-  \n26  A0A653CTT0_CALMS^|^^|^FHA domain-containing prote  ",
      "text/html": "<div>\n<style scoped>\n    .dataframe tbody tr th:only-of-type {\n        vertical-align: middle;\n    }\n\n    .dataframe tbody tr th {\n        vertical-align: top;\n    }\n\n    .dataframe thead th {\n        text-align: right;\n    }\n</style>\n<table border=\"1\" class=\"dataframe\">\n  <thead>\n    <tr style=\"text-align: right;\">\n      <th></th>\n      <th>E-value</th>\n      <th>score</th>\n      <th>bias</th>\n      <th>E-value</th>\n      <th>score</th>\n      <th>bias</th>\n      <th>exp</th>\n      <th>N</th>\n      <th>Sequence</th>\n      <th>Description</th>\n    </tr>\n  </thead>\n  <tbody>\n    <tr>\n      <th>0</th>\n      <td>2.9e-32</td>\n      <td>119.6</td>\n      <td>20.4</td>\n      <td>2.9e-32</td>\n      <td>119.6</td>\n      <td>20.4</td>\n      <td>2.5</td>\n      <td>2</td>\n      <td>Q8IW19</td>\n      <td>APLF_HUMAN^|^^|^Aprataxin and PNK-like factor {EC</td>\n    </tr>\n    <tr>\n      <th>1</th>\n      <td>7.4e-32</td>\n      <td>118.3</td>\n      <td>20.4</td>\n      <td>7.4e-32</td>\n      <td>118.3</td>\n      <td>20.4</td>\n      <td>2.3</td>\n      <td>1</td>\n      <td>A0A2K5VR45</td>\n      <td>A0A2K5VR45_MACFA^|^^|^Aprataxin and PNKP like fac</td>\n    </tr>\n    <tr>\n      <th>2</th>\n      <td>9.2e-28</td>\n      <td>105.2</td>\n      <td>25.4</td>\n      <td>3.4e-27</td>\n      <td>103.4</td>\n      <td>25.4</td>\n      <td>2.0</td>\n      <td>1</td>\n      <td>A0A2K6T215</td>\n      <td>A0A2K6T215_SAIBB^|^^|^Aprataxin and PNKP like fac</td>\n    </tr>\n    <tr>\n      <th>3</th>\n      <td>1.2e-26</td>\n      <td>101.6</td>\n      <td>12.5</td>\n      <td>3.1e-26</td>\n      <td>100.3</td>\n      <td>12.5</td>\n      <td>1.7</td>\n      <td>1</td>\n      <td>S9WGV8</td>\n      <td>S9WGV8_CAMFR^|^^|^zf-CCHH domain-containing prote</td>\n    </tr>\n    <tr>\n      <th>4</th>\n      <td>4.3e-22</td>\n      <td>87.0</td>\n      <td>16.7</td>\n      <td>5.6e-22</td>\n      <td>86.7</td>\n      <td>16.7</td>\n      <td>1.1</td>\n      <td>1</td>\n      <td>A0A2I0TBL0</td>\n      <td>A0A2I0TBL0_LIMLA^|^^|^Uncharacterized protein {EC</td>\n    </tr>\n    <tr>\n      <th>5</th>\n      <td>7.2e-22</td>\n      <td>86.3</td>\n      <td>18.3</td>\n      <td>7.2e-22</td>\n      <td>86.3</td>\n      <td>18.3</td>\n      <td>2.8</td>\n      <td>2</td>\n      <td>E1BU46</td>\n      <td>E1BU46_CHICK^|^^|^Uncharacterized protein {ECO:00</td>\n    </tr>\n    <tr>\n      <th>6</th>\n      <td>7.3e-22</td>\n      <td>86.3</td>\n      <td>18.3</td>\n      <td>7.3e-22</td>\n      <td>86.3</td>\n      <td>18.3</td>\n      <td>2.8</td>\n      <td>2</td>\n      <td>A0A3Q2TSM9</td>\n      <td>A0A3Q2TSM9_CHICK^|^^|^Uncharacterized protein {EC</td>\n    </tr>\n    <tr>\n      <th>7</th>\n      <td>3.5e-21</td>\n      <td>84.1</td>\n      <td>21.3</td>\n      <td>3.5e-21</td>\n      <td>84.1</td>\n      <td>21.3</td>\n      <td>2.2</td>\n      <td>1</td>\n      <td>M7B3V9</td>\n      <td>M7B3V9_CHEMY^|^^|^Aprataxin and PNK-like factor {</td>\n    </tr>\n    <tr>\n      <th>8</th>\n      <td>2.3e-17</td>\n      <td>71.9</td>\n      <td>19.3</td>\n      <td>3.6e-17</td>\n      <td>71.3</td>\n      <td>19.3</td>\n      <td>1.3</td>\n      <td>1</td>\n      <td>A0A2G9SCZ2</td>\n      <td>A0A2G9SCZ2_LITCT^|^^|^Uncharacterized protein {EC</td>\n    </tr>\n    <tr>\n      <th>9</th>\n      <td>3.3e-17</td>\n      <td>71.4</td>\n      <td>18.6</td>\n      <td>1e-16</td>\n      <td>69.8</td>\n      <td>18.6</td>\n      <td>1.9</td>\n      <td>1</td>\n      <td>A0A8I6AU35</td>\n      <td>A0A8I6AU35_RAT^|^^|^Aprataxin and PNKP like facto</td>\n    </tr>\n    <tr>\n      <th>10</th>\n      <td>3.6e-17</td>\n      <td>71.3</td>\n      <td>18.6</td>\n      <td>1.1e-16</td>\n      <td>69.7</td>\n      <td>18.6</td>\n      <td>1.9</td>\n      <td>1</td>\n      <td>F6Q5G6</td>\n      <td>F6Q5G6_RAT^|^^|^Aprataxin and PNKP-like factor {E</td>\n    </tr>\n    <tr>\n      <th>11</th>\n      <td>1.7e-16</td>\n      <td>69.1</td>\n      <td>17.6</td>\n      <td>1.7e-16</td>\n      <td>69.1</td>\n      <td>17.6</td>\n      <td>2.1</td>\n      <td>1</td>\n      <td>V8P505</td>\n      <td>V8P505_OPHHA^|^^|^Aprataxin and PNK-like factor {</td>\n    </tr>\n    <tr>\n      <th>12</th>\n      <td>5.1e-16</td>\n      <td>67.6</td>\n      <td>15.2</td>\n      <td>7.1e-16</td>\n      <td>67.1</td>\n      <td>15.2</td>\n      <td>1.1</td>\n      <td>1</td>\n      <td>A0A662YM54</td>\n      <td>A0A662YM54_ACIRT^|^^|^Aprataxin and PNK-like fact</td>\n    </tr>\n    <tr>\n      <th>13</th>\n      <td>2.8e-12</td>\n      <td>55.6</td>\n      <td>11.4</td>\n      <td>2.8e-12</td>\n      <td>55.6</td>\n      <td>11.4</td>\n      <td>3.2</td>\n      <td>1</td>\n      <td>A0A4W3K9L2</td>\n      <td>A0A4W3K9L2_CALMI^|^^|^Uncharacterized protein {EC</td>\n    </tr>\n    <tr>\n      <th>14</th>\n      <td>4.9e-12</td>\n      <td>54.8</td>\n      <td>22.2</td>\n      <td>1.5e-11</td>\n      <td>53.3</td>\n      <td>22.2</td>\n      <td>1.9</td>\n      <td>1</td>\n      <td>Q9D842</td>\n      <td>APLF_MOUSE^|^^|^Aprataxin and PNK-like factor^|^^</td>\n    </tr>\n    <tr>\n      <th>15</th>\n      <td>1.3e-07</td>\n      <td>40.7</td>\n      <td>9.9</td>\n      <td>1.6e-07</td>\n      <td>40.4</td>\n      <td>9.9</td>\n      <td>1.1</td>\n      <td>1</td>\n      <td>A0A5B7IHU6</td>\n      <td>A0A5B7IHU6_PORTR^|^^|^Uncharacterized protein {EC</td>\n    </tr>\n    <tr>\n      <th>16</th>\n      <td>1.4e-07</td>\n      <td>40.6</td>\n      <td>12.3</td>\n      <td>1.4e-07</td>\n      <td>40.6</td>\n      <td>12.3</td>\n      <td>6.7</td>\n      <td>2</td>\n      <td>A0A2G8JLS5</td>\n      <td>A0A2G8JLS5_STIJA^|^^|^Putative aprataxin and PNK-</td>\n    </tr>\n    <tr>\n      <th>17</th>\n      <td>2e-07</td>\n      <td>40.0</td>\n      <td>5.0</td>\n      <td>2e-07</td>\n      <td>40.0</td>\n      <td>5.0</td>\n      <td>2.0</td>\n      <td>1</td>\n      <td>A0A8J4Y9Y7</td>\n      <td>A0A8J4Y9Y7_CHIOP^|^^|^Aprataxin and PNK-like fact</td>\n    </tr>\n    <tr>\n      <th>18</th>\n      <td>8.1e-07</td>\n      <td>38.1</td>\n      <td>10.0</td>\n      <td>8.1e-07</td>\n      <td>38.1</td>\n      <td>10.0</td>\n      <td>5.1</td>\n      <td>2</td>\n      <td>A0A6P4Z3F2</td>\n      <td>A0A6P4Z3F2_BRABE^|^^|^aprataxin and PNK-like fact</td>\n    </tr>\n    <tr>\n      <th>19</th>\n      <td>8.2e-07</td>\n      <td>38.1</td>\n      <td>10.0</td>\n      <td>8.2e-07</td>\n      <td>38.1</td>\n      <td>10.0</td>\n      <td>5.1</td>\n      <td>2</td>\n      <td>A0A6P4ZN83</td>\n      <td>A0A6P4ZN83_BRABE^|^^|^aprataxin and PNK-like fact</td>\n    </tr>\n    <tr>\n      <th>20</th>\n      <td>8.3e-07</td>\n      <td>38.1</td>\n      <td>7.1</td>\n      <td>8.3e-07</td>\n      <td>38.1</td>\n      <td>7.1</td>\n      <td>3.0</td>\n      <td>1</td>\n      <td>A0A8M3ASX0</td>\n      <td>A0A8M3ASX0_DANRE^|^^|^aprataxin and PNK-like fact</td>\n    </tr>\n    <tr>\n      <th>21</th>\n      <td>8.3e-07</td>\n      <td>38.1</td>\n      <td>7.1</td>\n      <td>8.3e-07</td>\n      <td>38.1</td>\n      <td>7.1</td>\n      <td>3.0</td>\n      <td>1</td>\n      <td>A0A8M3AL87</td>\n      <td>A0A8M3AL87_DANRE^|^^|^aprataxin and PNK-like fact</td>\n    </tr>\n    <tr>\n      <th>22</th>\n      <td>2.7e-05</td>\n      <td>33.3</td>\n      <td>10.0</td>\n      <td>2.7e-05</td>\n      <td>33.3</td>\n      <td>10.0</td>\n      <td>5.4</td>\n      <td>1</td>\n      <td>V4AS51</td>\n      <td>V4AS51_LOTGI^|^^|^Uncharacterized protein {ECO:00</td>\n    </tr>\n    <tr>\n      <th>23</th>\n      <td>6.1e-05</td>\n      <td>32.1</td>\n      <td>9.4</td>\n      <td>6.1e-05</td>\n      <td>32.1</td>\n      <td>9.4</td>\n      <td>8.5</td>\n      <td>2</td>\n      <td>A0A8B8DW22</td>\n      <td>A0A8B8DW22_CRAVI^|^^|^aprataxin and PNK-like fact</td>\n    </tr>\n    <tr>\n      <th>24</th>\n      <td>7.1e-05</td>\n      <td>31.9</td>\n      <td>4.8</td>\n      <td>7.1e-05</td>\n      <td>31.9</td>\n      <td>4.8</td>\n      <td>3.3</td>\n      <td>1</td>\n      <td>A0A8J5JFU8</td>\n      <td>A0A8J5JFU8_HOMAM^|^^|^Aprataxin and PNK-like fact</td>\n    </tr>\n    <tr>\n      <th>25</th>\n      <td>0.00013</td>\n      <td>31.1</td>\n      <td>9.6</td>\n      <td>0.00013</td>\n      <td>31.1</td>\n      <td>9.6</td>\n      <td>4.3</td>\n      <td>3</td>\n      <td>A0A3R7LYC0</td>\n      <td>A0A3R7LYC0_PENVA^|^^|^Putative aprataxin and PNK-</td>\n    </tr>\n    <tr>\n      <th>26</th>\n      <td>0.00027</td>\n      <td>30.0</td>\n      <td>13.2</td>\n      <td>0.00027</td>\n      <td>30.0</td>\n      <td>13.2</td>\n      <td>3.8</td>\n      <td>2</td>\n      <td>A0A653CTT0</td>\n      <td>A0A653CTT0_CALMS^|^^|^FHA domain-containing prote</td>\n    </tr>\n  </tbody>\n</table>\n</div>"
     },
     "execution_count": 306,
     "metadata": {},
     "output_type": "execute_result"
    }
   ],
   "source": [
    "# Retrieve a dataframe with the statistics of the RP 15%\n",
    "stats_rp_15 = process_hmmsearch_file(f\"{local_path}/results/disordered/hmmsearch/hmmsearch_rp_15_{q_id}_{i}.txt\")\n",
    "stats_rp_15.to_csv(f\"{local_path}/results/disordered/hmmsearch/stats/stats_rp_15_{q_id}_{i}.csv\")\n",
    "stats_rp_15"
   ]
  },
  {
   "cell_type": "code",
   "execution_count": 327,
   "metadata": {
    "ExecuteTime": {
     "end_time": "2023-07-06T15:23:19.174981Z",
     "start_time": "2023-07-06T15:23:19.133991Z"
    }
   },
   "outputs": [
    {
     "name": "stdout",
     "output_type": "stream",
     "text": [
      "The total number of Reference Proteome hits: 289, the number of unique sequences: 289\n"
     ]
    },
    {
     "data": {
      "text/plain": "     E-value  score  bias  E-value  score  bias  exp  N    Sequence  \\\n0    1.4e-46  169.6  18.6  2.2e-46  168.9  18.6  1.4  1      K7BAZ7   \n1    1.4e-46  169.6  18.6  2.2e-46  168.9  18.6  1.4  1      Q9H832   \n2    1.5e-46  169.4  18.5  2.4e-46  168.7  18.5  1.4  1  A0A2K5RV48   \n3    1.5e-46  169.4  18.5  2.4e-46  168.7  18.5  1.4  1  A0A6J3I1K6   \n4    1.5e-46  169.4  18.5  2.4e-46  168.7  18.5  1.4  1  A0A8I5UEF8   \n..       ...    ...   ...      ...    ...   ...  ... ..         ...   \n284   0.0067   29.4   0.4   0.0086   29.0   0.4  1.2  1  A0A851F956   \n285   0.0071   29.3   4.5    0.012   28.6   4.5  1.4  1  A0A6G0HWG6   \n286   0.0081   29.1   2.0    0.014   28.4   2.0  1.4  1  A0A7N8YCX3   \n287   0.0083   29.1   1.0    0.019   27.9   1.0  1.6  1  A0A6P5JNS4   \n288   0.0094   28.9   4.1   0.0094   28.9   4.1  2.3  1  A0A8C8BKU5   \n\n                                           Description  \n0    K7BAZ7_PANTR^|^^|^Ubiquitin conjugating enzyme E2  \n1     UBE2Z_HUMAN^|^^|^Ubiquitin-conjugating enzyme E2  \n2    A0A2K5RV48_CEBIM^|^^|^Ubiquitin conjugating enzym  \n3    A0A6J3I1K6_SAPAP^|^^|^ubiquitin-conjugating enzym  \n4    A0A8I5UEF8_PONAB^|^^|^Ubiquitin conjugating enzym  \n..                                                 ...  \n284  A0A851F956_PITSO^|^^|^UBE2Z enzyme {ECO:0000313|E  \n285  A0A6G0HWG6_LARCR^|^^|^Ubiquitin-conjugating enzym  \n286  A0A7N8YCX3_9TELE^|^^|^Ubiquitin-conjugating enzym  \n287  A0A6P5JNS4_PHACI^|^^|^LOW QUALITY PROTEIN: ubiqui  \n288  A0A8C8BKU5_9STRI^|^^|^Ubiquitin conjugating enzym  \n\n[289 rows x 10 columns]",
      "text/html": "<div>\n<style scoped>\n    .dataframe tbody tr th:only-of-type {\n        vertical-align: middle;\n    }\n\n    .dataframe tbody tr th {\n        vertical-align: top;\n    }\n\n    .dataframe thead th {\n        text-align: right;\n    }\n</style>\n<table border=\"1\" class=\"dataframe\">\n  <thead>\n    <tr style=\"text-align: right;\">\n      <th></th>\n      <th>E-value</th>\n      <th>score</th>\n      <th>bias</th>\n      <th>E-value</th>\n      <th>score</th>\n      <th>bias</th>\n      <th>exp</th>\n      <th>N</th>\n      <th>Sequence</th>\n      <th>Description</th>\n    </tr>\n  </thead>\n  <tbody>\n    <tr>\n      <th>0</th>\n      <td>1.4e-46</td>\n      <td>169.6</td>\n      <td>18.6</td>\n      <td>2.2e-46</td>\n      <td>168.9</td>\n      <td>18.6</td>\n      <td>1.4</td>\n      <td>1</td>\n      <td>K7BAZ7</td>\n      <td>K7BAZ7_PANTR^|^^|^Ubiquitin conjugating enzyme E2</td>\n    </tr>\n    <tr>\n      <th>1</th>\n      <td>1.4e-46</td>\n      <td>169.6</td>\n      <td>18.6</td>\n      <td>2.2e-46</td>\n      <td>168.9</td>\n      <td>18.6</td>\n      <td>1.4</td>\n      <td>1</td>\n      <td>Q9H832</td>\n      <td>UBE2Z_HUMAN^|^^|^Ubiquitin-conjugating enzyme E2</td>\n    </tr>\n    <tr>\n      <th>2</th>\n      <td>1.5e-46</td>\n      <td>169.4</td>\n      <td>18.5</td>\n      <td>2.4e-46</td>\n      <td>168.7</td>\n      <td>18.5</td>\n      <td>1.4</td>\n      <td>1</td>\n      <td>A0A2K5RV48</td>\n      <td>A0A2K5RV48_CEBIM^|^^|^Ubiquitin conjugating enzym</td>\n    </tr>\n    <tr>\n      <th>3</th>\n      <td>1.5e-46</td>\n      <td>169.4</td>\n      <td>18.5</td>\n      <td>2.4e-46</td>\n      <td>168.7</td>\n      <td>18.5</td>\n      <td>1.4</td>\n      <td>1</td>\n      <td>A0A6J3I1K6</td>\n      <td>A0A6J3I1K6_SAPAP^|^^|^ubiquitin-conjugating enzym</td>\n    </tr>\n    <tr>\n      <th>4</th>\n      <td>1.5e-46</td>\n      <td>169.4</td>\n      <td>18.5</td>\n      <td>2.4e-46</td>\n      <td>168.7</td>\n      <td>18.5</td>\n      <td>1.4</td>\n      <td>1</td>\n      <td>A0A8I5UEF8</td>\n      <td>A0A8I5UEF8_PONAB^|^^|^Ubiquitin conjugating enzym</td>\n    </tr>\n    <tr>\n      <th>...</th>\n      <td>...</td>\n      <td>...</td>\n      <td>...</td>\n      <td>...</td>\n      <td>...</td>\n      <td>...</td>\n      <td>...</td>\n      <td>...</td>\n      <td>...</td>\n      <td>...</td>\n    </tr>\n    <tr>\n      <th>284</th>\n      <td>0.0067</td>\n      <td>29.4</td>\n      <td>0.4</td>\n      <td>0.0086</td>\n      <td>29.0</td>\n      <td>0.4</td>\n      <td>1.2</td>\n      <td>1</td>\n      <td>A0A851F956</td>\n      <td>A0A851F956_PITSO^|^^|^UBE2Z enzyme {ECO:0000313|E</td>\n    </tr>\n    <tr>\n      <th>285</th>\n      <td>0.0071</td>\n      <td>29.3</td>\n      <td>4.5</td>\n      <td>0.012</td>\n      <td>28.6</td>\n      <td>4.5</td>\n      <td>1.4</td>\n      <td>1</td>\n      <td>A0A6G0HWG6</td>\n      <td>A0A6G0HWG6_LARCR^|^^|^Ubiquitin-conjugating enzym</td>\n    </tr>\n    <tr>\n      <th>286</th>\n      <td>0.0081</td>\n      <td>29.1</td>\n      <td>2.0</td>\n      <td>0.014</td>\n      <td>28.4</td>\n      <td>2.0</td>\n      <td>1.4</td>\n      <td>1</td>\n      <td>A0A7N8YCX3</td>\n      <td>A0A7N8YCX3_9TELE^|^^|^Ubiquitin-conjugating enzym</td>\n    </tr>\n    <tr>\n      <th>287</th>\n      <td>0.0083</td>\n      <td>29.1</td>\n      <td>1.0</td>\n      <td>0.019</td>\n      <td>27.9</td>\n      <td>1.0</td>\n      <td>1.6</td>\n      <td>1</td>\n      <td>A0A6P5JNS4</td>\n      <td>A0A6P5JNS4_PHACI^|^^|^LOW QUALITY PROTEIN: ubiqui</td>\n    </tr>\n    <tr>\n      <th>288</th>\n      <td>0.0094</td>\n      <td>28.9</td>\n      <td>4.1</td>\n      <td>0.0094</td>\n      <td>28.9</td>\n      <td>4.1</td>\n      <td>2.3</td>\n      <td>1</td>\n      <td>A0A8C8BKU5</td>\n      <td>A0A8C8BKU5_9STRI^|^^|^Ubiquitin conjugating enzym</td>\n    </tr>\n  </tbody>\n</table>\n<p>289 rows × 10 columns</p>\n</div>"
     },
     "execution_count": 327,
     "metadata": {},
     "output_type": "execute_result"
    }
   ],
   "source": [
    "# Retrieve a dataframe with the statistics of the RP 75%\n",
    "stats_rp_75 = process_hmmsearch_file(f\"{local_path}/results/disordered/hmmsearch/hmmsearch_rp_75_{q_id}_{i}.txt\")\n",
    "stats_rp_75.to_csv(f\"{local_path}/results/disordered/hmmsearch/stats/stats_rp_75_{q_id}_{i}.csv\")\n",
    "stats_rp_75"
   ]
  },
  {
   "cell_type": "code",
   "execution_count": 309,
   "outputs": [
    {
     "name": "stdout",
     "output_type": "stream",
     "text": [
      "stats_rp_15_Q8IW19_2.csv                      100% 2874     2.0MB/s   00:00    \r\n",
      "stats_rp_75_Q8IW19_2.csv                      100%   53KB   5.7MB/s   00:00    \r\n"
     ]
    }
   ],
   "source": [
    "# Copy again the new files to the remote computer\n",
    "!scp {local_path}/results/disordered/hmmsearch/stats/stats_rp_15_{q_id}_{i}.csv {name}@{server}:~/stats_rp_15_{q_id}_{i}.csv\n",
    "!scp {local_path}/results/disordered/hmmsearch/stats/stats_rp_75_{q_id}_{i}.csv {name}@{server}:~/stats_rp_75_{q_id}_{i}.csv"
   ],
   "metadata": {
    "collapsed": false,
    "ExecuteTime": {
     "end_time": "2023-07-06T14:26:00.222762Z",
     "start_time": "2023-07-06T14:25:58.737611Z"
    }
   }
  },
  {
   "cell_type": "code",
   "execution_count": 290,
   "outputs": [],
   "source": [
    "# Check the overlapping of the retrieved regions in RP and those from protein2ipr database\n",
    "# !ssh {name}@{server} \"/home/alina/protein2ipr_iterator.py stats_rp_15_{q_id}_{i}.csv /db/interpro/protein2ipr.dat.gz protein2ipr_rp_15_{q_id}_{i}.txt\""
   ],
   "metadata": {
    "collapsed": false,
    "ExecuteTime": {
     "end_time": "2023-07-06T14:10:12.221164Z",
     "start_time": "2023-07-06T14:10:12.212774Z"
    }
   }
  },
  {
   "cell_type": "code",
   "execution_count": 310,
   "outputs": [],
   "source": [
    "!ssh {name}@{server} \"/home/alina/priter.py stats_rp_15_{q_id}_{i}.csv /db/interpro/protein2ipr.dat.gz protein2ipr_rp_15_{q_id}_{i}.txt\""
   ],
   "metadata": {
    "collapsed": false,
    "ExecuteTime": {
     "end_time": "2023-07-06T15:10:04.487810Z",
     "start_time": "2023-07-06T14:26:13.962589Z"
    }
   }
  },
  {
   "cell_type": "code",
   "execution_count": 311,
   "outputs": [
    {
     "name": "stdout",
     "output_type": "stream",
     "text": [
      "protein2ipr_rp_15_Q8IW19_2.txt                100% 7266     1.4MB/s   00:00    \r\n"
     ]
    }
   ],
   "source": [
    "# Copy the files with overlapping regions to the local folder\n",
    "!scp {name}@{server}:~/protein2ipr_rp_15_{q_id}_{i}.txt {local_path}/results/disordered/hmmsearch/protein2ipr"
   ],
   "metadata": {
    "collapsed": false,
    "ExecuteTime": {
     "end_time": "2023-07-06T15:14:12.534755Z",
     "start_time": "2023-07-06T15:14:11.256327Z"
    }
   }
  },
  {
   "cell_type": "code",
   "execution_count": 328,
   "outputs": [
    {
     "name": "stdout",
     "output_type": "stream",
     "text": [
      "The number of unique Pfam IDs for a Q9H832_1 disordered region: 1\n",
      "The number of hits: 6\n"
     ]
    },
    {
     "data": {
      "text/plain": "   uniprot_id     ipr_id                      description  pfam_id  start_pos  \\\n0  A0A2K5VU74  IPR000608  Ubiquitin-conjugating enzyme E2  PF00179         90   \n1  A0A4Z2GIF1  IPR000608  Ubiquitin-conjugating enzyme E2  PF00179        133   \n2  A0A7N9CX17  IPR000608  Ubiquitin-conjugating enzyme E2  PF00179        103   \n3      Q3B7D1  IPR000608  Ubiquitin-conjugating enzyme E2  PF00179        105   \n4      Q3UE37  IPR000608  Ubiquitin-conjugating enzyme E2  PF00179        105   \n5      Q9H832  IPR000608  Ubiquitin-conjugating enzyme E2  PF00179        103   \n\n   end_pos  length  \n0      218     129  \n1      264     132  \n2      231     129  \n3      233     129  \n4      233     129  \n5      231     129  ",
      "text/html": "<div>\n<style scoped>\n    .dataframe tbody tr th:only-of-type {\n        vertical-align: middle;\n    }\n\n    .dataframe tbody tr th {\n        vertical-align: top;\n    }\n\n    .dataframe thead th {\n        text-align: right;\n    }\n</style>\n<table border=\"1\" class=\"dataframe\">\n  <thead>\n    <tr style=\"text-align: right;\">\n      <th></th>\n      <th>uniprot_id</th>\n      <th>ipr_id</th>\n      <th>description</th>\n      <th>pfam_id</th>\n      <th>start_pos</th>\n      <th>end_pos</th>\n      <th>length</th>\n    </tr>\n  </thead>\n  <tbody>\n    <tr>\n      <th>0</th>\n      <td>A0A2K5VU74</td>\n      <td>IPR000608</td>\n      <td>Ubiquitin-conjugating enzyme E2</td>\n      <td>PF00179</td>\n      <td>90</td>\n      <td>218</td>\n      <td>129</td>\n    </tr>\n    <tr>\n      <th>1</th>\n      <td>A0A4Z2GIF1</td>\n      <td>IPR000608</td>\n      <td>Ubiquitin-conjugating enzyme E2</td>\n      <td>PF00179</td>\n      <td>133</td>\n      <td>264</td>\n      <td>132</td>\n    </tr>\n    <tr>\n      <th>2</th>\n      <td>A0A7N9CX17</td>\n      <td>IPR000608</td>\n      <td>Ubiquitin-conjugating enzyme E2</td>\n      <td>PF00179</td>\n      <td>103</td>\n      <td>231</td>\n      <td>129</td>\n    </tr>\n    <tr>\n      <th>3</th>\n      <td>Q3B7D1</td>\n      <td>IPR000608</td>\n      <td>Ubiquitin-conjugating enzyme E2</td>\n      <td>PF00179</td>\n      <td>105</td>\n      <td>233</td>\n      <td>129</td>\n    </tr>\n    <tr>\n      <th>4</th>\n      <td>Q3UE37</td>\n      <td>IPR000608</td>\n      <td>Ubiquitin-conjugating enzyme E2</td>\n      <td>PF00179</td>\n      <td>105</td>\n      <td>233</td>\n      <td>129</td>\n    </tr>\n    <tr>\n      <th>5</th>\n      <td>Q9H832</td>\n      <td>IPR000608</td>\n      <td>Ubiquitin-conjugating enzyme E2</td>\n      <td>PF00179</td>\n      <td>103</td>\n      <td>231</td>\n      <td>129</td>\n    </tr>\n  </tbody>\n</table>\n</div>"
     },
     "execution_count": 328,
     "metadata": {},
     "output_type": "execute_result"
    }
   ],
   "source": [
    "data = []\n",
    "with open(f\"{local_path}/results/disordered/hmmsearch/protein2ipr/protein2ipr_rp_15_{q_id}_{i}.txt\") as file:\n",
    "    for line in file:\n",
    "        row = line.strip().split(\"\\t\")\n",
    "        if len(row) >= 5:\n",
    "            uniprot_id = row[0]\n",
    "            ipr_id = row[1]\n",
    "            description = row[2]\n",
    "            pfam_id = row[3]\n",
    "            start_pos = row[4]\n",
    "            end_pos = row[5]\n",
    "\n",
    "            if pfam_id.startswith(\"PF\"):\n",
    "                data.append([uniprot_id, ipr_id, description, pfam_id, start_pos, end_pos])\n",
    "\n",
    "# Create a DataFrame from the collected data\n",
    "pfam = pd.DataFrame(data, columns=[\"uniprot_id\", \"ipr_id\", \"description\", \"pfam_id\", \"start_pos\", \"end_pos\"])\n",
    "pfam[\"start_pos\"] = pd.to_numeric(pfam[\"start_pos\"])\n",
    "pfam[\"end_pos\"] = pd.to_numeric(pfam[\"end_pos\"])\n",
    "pfam['length'] = pfam['end_pos'] - pfam['start_pos'] + 1\n",
    "print(f\"The number of unique Pfam IDs for a {q_id}_{i} disordered region:\", len(set(pfam['pfam_id'])))\n",
    "print(\"The number of hits:\", len(pfam))\n",
    "pfam"
   ],
   "metadata": {
    "collapsed": false,
    "ExecuteTime": {
     "end_time": "2023-07-06T15:23:27.245699Z",
     "start_time": "2023-07-06T15:23:27.203468Z"
    }
   }
  },
  {
   "cell_type": "code",
   "execution_count": 331,
   "outputs": [
    {
     "data": {
      "text/plain": "<Figure size 720x108 with 1 Axes>",
      "image/png": "[encoded data removed]"
     },
     "metadata": {},
     "output_type": "display_data"
    }
   ],
   "source": [
    "# Create a figure and axis\n",
    "fig, ax = plt.subplots(figsize=(10, 0.25 * len(pfam['uniprot_id'].unique())))\n",
    "\n",
    "# Get the unique Pfam IDs\n",
    "unique_pfam_ids = pfam['pfam_id'].unique()\n",
    "\n",
    "# Check the number of unique Pfam IDs\n",
    "if len(unique_pfam_ids) == 1:\n",
    "    # Only one unique Pfam ID\n",
    "    pfam_id = unique_pfam_ids[0]\n",
    "\n",
    "    # Filter the data for the specific Pfam ID\n",
    "    data = pfam[pfam['pfam_id'] == pfam_id]\n",
    "\n",
    "    # Plot the region as a horizontal line segment\n",
    "    ax.hlines(data['uniprot_id'], data['start_pos'], data['end_pos'], linewidth=10)\n",
    "\n",
    "    # Set the y-axis tick labels as UniProt IDs\n",
    "    ax.set_yticks(data['uniprot_id'])\n",
    "    ax.set_yticklabels(data['uniprot_id'])\n",
    "else:\n",
    "    # Multiple unique Pfam IDs\n",
    "    for pfam_id in unique_pfam_ids:\n",
    "        # Filter the data for the current Pfam ID\n",
    "        data = pfam[pfam['pfam_id'] == pfam_id]\n",
    "\n",
    "        # Plot the region as horizontal line segments\n",
    "        ax.hlines(data['uniprot_id'], data['start_pos'], data['end_pos'], linewidth=10)\n",
    "\n",
    "    # Set the y-axis ticks as the UniProt IDs\n",
    "    ax.set_yticks(range(len(pfam['uniprot_id'].unique())))\n",
    "    ax.set_yticklabels(pfam['uniprot_id'].unique())\n",
    "\n",
    "# Set the x-axis limits based on the maximum start and end positions\n",
    "ax.set_xlim(pfam['start_pos'].astype(int).min(), pfam['end_pos'].astype(int).max())\n",
    "\n",
    "# Add the background color for the region of interest\n",
    "start_pos = filtered_curated['start'].iloc[0] # 0 if 1st region, 1 if 2nd\n",
    "end_pos = filtered_curated['end'].iloc[0] # 0 if 1st region, 1 if 2nd\n",
    "ax.axvspan(start_pos, end_pos, facecolor='yellow', alpha=0.5)\n",
    "\n",
    "# Set the plot title and axis labels\n",
    "plt.title('Distribution of Regions by UniProt ID')\n",
    "plt.xlabel('Position')\n",
    "plt.ylabel('UniProt ID')\n",
    "\n",
    "# Show the plot\n",
    "plt.show()"
   ],
   "metadata": {
    "collapsed": false,
    "ExecuteTime": {
     "end_time": "2023-07-06T15:24:18.234164Z",
     "start_time": "2023-07-06T15:24:18.124204Z"
    }
   }
  },
  {
   "cell_type": "markdown",
   "metadata": {},
   "source": [
    "## 2. HHblits\n",
    "\n",
    "HHblits is used for profile-profile sequence alignment. It compares a profile against a target sequence database to find homologous sequences."
   ]
  },
  {
   "cell_type": "code",
   "execution_count": 19,
   "metadata": {
    "ExecuteTime": {
     "end_time": "2023-07-06T08:15:34.130503Z",
     "start_time": "2023-07-06T08:15:33.406126Z"
    }
   },
   "outputs": [
    {
     "name": "stdout",
     "output_type": "stream",
     "text": [
      "Q9H832_1.fasta                                100%   22KB   4.5MB/s   00:00    \r\n"
     ]
    }
   ],
   "source": [
    "!scp {align_file} alina@{server}:~/{q_id}_{i}.fasta"
   ]
  },
  {
   "cell_type": "code",
   "execution_count": 20,
   "metadata": {
    "ExecuteTime": {
     "end_time": "2023-07-06T08:15:38.205089Z",
     "start_time": "2023-07-06T08:15:36.383535Z"
    }
   },
   "outputs": [
    {
     "name": "stdout",
     "output_type": "stream",
     "text": [
      "- 10:15:37.215 INFO: Searching 19632 column state sequences.\r\n",
      "\r\n",
      "- 10:15:37.323 INFO: Q9H832_1.fasta is in A2M, A3M or FASTA format\r\n",
      "\r\n",
      "- 10:15:37.326 INFO: Iteration 1\r\n",
      "\r\n",
      "- 10:15:37.417 INFO: Prefiltering database\r\n",
      "\r\n",
      "- 10:15:37.558 INFO: HMMs passed 1st prefilter (gapless profile-profile alignment)  : 100\r\n",
      "\r\n",
      "- 10:15:37.559 INFO: HMMs passed 2nd prefilter (gapped profile-profile alignment)   : 100\r\n",
      "\r\n",
      "- 10:15:37.559 INFO: HMMs passed 2nd prefilter and not found in previous iterations : 100\r\n",
      "\r\n",
      "- 10:15:37.559 INFO: Scoring 100 HMMs using HMM-HMM Viterbi alignment\r\n",
      "\r\n",
      "- 10:15:37.597 INFO: Alternative alignment: 0\r\n",
      "\r\n",
      "- 10:15:38.062 INFO: 100 alignments done\r\n",
      "\r\n",
      "- 10:15:38.062 INFO: Stop after DB-HHM: 100 because early stop  0.53099 < filter cutoff 1\r\n",
      "\r\n",
      "- 10:15:38.062 INFO: Alternative alignment: 1\r\n",
      "\r\n",
      "- 10:15:38.063 INFO: 2 alignments done\r\n",
      "\r\n",
      "- 10:15:38.063 INFO: Alternative alignment: 2\r\n",
      "\r\n",
      "- 10:15:38.063 INFO: Alternative alignment: 3\r\n",
      "\r\n",
      "- 10:15:38.081 INFO: No new hits found in iteration 1 => Stop searching\r\n",
      "\r\n",
      "- 10:15:38.081 INFO: Realigning 10 HMM-HMM alignments using Maximum Accuracy algorithm\r\n",
      "\r\n",
      "- 10:15:38.097 INFO: 0 sequences belonging to 0 database HMMs found with an E-value < 0.001\r\n",
      "\r\n",
      "- 10:15:38.097 INFO: Number of effective sequences of resulting query HMM: Neff = 3.56458\r\n",
      "\r\n",
      "Query         Q9H832\r\n",
      "Match_columns 99\r\n",
      "No_of_seqs    41 out of 201\r\n",
      "Neff          3.56458\r\n",
      "Searched_HMMs 100\r\n",
      "Date          Thu Jul  6 10:15:38 2023\r\n",
      "Command       /software/packages/hhsuite/hhsuite-3.0-beta.3-Linux/bin/hhblits -i Q9H832_1.fasta -o hhblits_pfam_Q9H832_1.txt -d /db/hhblits/pfamA_35.0/pfam \r\n",
      "\r\n",
      " No Hit                             Prob E-value P-value  Score    SS Cols Query HMM  Template HMM\r\n",
      "  1 PF18633.4 ; zf-CCCH_8 ; Zinc-f  27.2     3.8 0.00067   19.6   0.0    7   39-45      1-7   (28)\r\n",
      "  2 PF08958.13 ; DUF1871 ; Domain   10.7      12  0.0029   17.9   0.0   10   78-87      4-13  (77)\r\n",
      "  3 PF14443.9 ; DBC1 ; DBC1          9.5      16  0.0034   20.9   0.0   14   37-50     85-98  (119)\r\n",
      "  4 PF10051.12 ; DUF2286 ; Unchara   4.7      43  0.0084   20.3   0.0   11   78-88     32-42  (163)\r\n",
      "  5 PF13955.9 ; Fst_toxin ; Toxin    4.4      48  0.0093   13.6   0.0    7   77-83     14-20  (21)\r\n",
      "  6 PF19937.2 ; GldC-like ; Glidin   4.2      49  0.0097   17.9   0.0   12   76-87     19-30  (89)\r\n",
      "  7 PF07896.15 ; DUF1674 ; Protein   3.5      59   0.012   15.2   0.0   13   82-94     32-44  (50)\r\n",
      "  8 PF05829.15 ; Adeno_PX ; Adenov   2.7      96   0.017   15.1   0.0   16   34-49     11-26  (42)\r\n",
      "  9 PF18513.4 ; Pro_sub2 ; Prodoma   2.1 1.3E+02   0.023   16.5   0.0   16   32-47     50-65  (88)\r\n",
      " 10 PF16643.8 ; cNMPbd_u2 ; Unstru   2.0 1.1E+02   0.024   17.4   0.0   12   84-95     84-95  (168)\r\n",
      "\r\n"
     ]
    }
   ],
   "source": [
    "# HHblits against Pfam\n",
    "!ssh {name}@{server} \"/software/packages/hhsuite/hhsuite-3.0-beta.3-Linux/bin/hhblits -i {q_id}_{i}.fasta -o hhblits_pfam_{q_id}_{i}.txt -d /db/hhblits/pfamA_35.0/pfam\" # against Pfam HMM database"
   ]
  },
  {
   "cell_type": "code",
   "execution_count": 21,
   "outputs": [
    {
     "name": "stdout",
     "output_type": "stream",
     "text": [
      "- 10:15:40.928 ERROR: In /home/mmeier/hh-suite/src/hhdatabase.cpp:35: FFindexDatabase:\r\n",
      "\r\n",
      "- 10:15:40.928 ERROR: \tcould not open file '/db/rp/rp-seqs-15.fasta.gz_cs219.ffdata'\r\n",
      "\r\n"
     ]
    }
   ],
   "source": [
    "!ssh {name}@{server} \"/software/packages/hhsuite/hhsuite-3.0-beta.3-Linux/bin/hhblits -i {q_id}_{i}.fasta -o hhblits_rp_15_{q_id}_{i}.txt -d /db/rp/rp-seqs-15.fasta.gz\""
   ],
   "metadata": {
    "collapsed": false,
    "ExecuteTime": {
     "end_time": "2023-07-06T08:15:41.011935Z",
     "start_time": "2023-07-06T08:15:40.335259Z"
    }
   }
  },
  {
   "cell_type": "code",
   "execution_count": 22,
   "outputs": [
    {
     "name": "stdout",
     "output_type": "stream",
     "text": [
      "scp: ~/hhblits_rp_15_Q9H832_1.txt: No such file or directory\r\n"
     ]
    }
   ],
   "source": [
    "# Copy results to the local folder\n",
    "!scp {name}@{server}:~/hhblits_rp_15_{q_id}_{i}.txt {local_path}/results/disordered/hhblits/"
   ],
   "metadata": {
    "collapsed": false,
    "ExecuteTime": {
     "end_time": "2023-07-06T08:15:47.532741Z",
     "start_time": "2023-07-06T08:15:46.854691Z"
    }
   }
  },
  {
   "cell_type": "markdown",
   "metadata": {},
   "source": [
    "- `Hit`: contains information about Pfam identifier (starts with PF...), the abbreviated and full name of the domain.\n",
    "- `Prob`: the probability of the match between the query sequence and the template sequence.\n",
    "- `E-value`: the expected number of false positive matches that could occur by chance.\n",
    "- `P-value`: the probability of obtaining a match with a score as good as or better than the observed score purely by chance.\n",
    "Similar as `E-value`, the lower `P-value` indicate more significant matches.\n",
    "- `Score`: the quality of the alignment between the query and template sequences.\n",
    "- `SS (Secondary Structure)`: the predicted secondary structure of the aligned residues in the template sequence.\n",
    "- `Cols`: the number of aligned columns or residues in the alignment between the query and template sequences.\n",
    "- `Query HMM`: indicates position matches within HMM profile (input).\n",
    "- `Template HMM`: indicates position matches within HMM profile (database).\n",
    "Usually the length of template HMM is bigger than the length of query HMM."
   ]
  },
  {
   "cell_type": "code",
   "execution_count": 23,
   "metadata": {
    "ExecuteTime": {
     "end_time": "2023-07-06T08:15:54.141840Z",
     "start_time": "2023-07-06T08:15:54.112746Z"
    }
   },
   "outputs": [
    {
     "name": "stdout",
     "output_type": "stream",
     "text": [
      "The total number of HHblits hits on Pfam: 10, the number of unique domains: 10\n"
     ]
    },
    {
     "data": {
      "text/plain": "   No         Hit    Prob E-value P-value Score     SS   Cols Query HMM  \\\n0   1   PF15773.8    22.9     4.1  0.0009  22.7    0.0     13      7-19   \n1   2   PF19869.2    13.6      11  0.0021  18.0    0.0     21      8-28   \n2   3   PF15761.8      17  0.0032    17.0   0.0      7   9-15     50-56   \n3   4  PF07055.15  0.0041    14.9     0.0     9  20-28    1-9      (64)   \n4   5   PF13066.9      24  0.0041    15.7   0.0     10  17-26     39-48   \n5   6   PF15201.9      32  0.0057    14.6   0.0     10  16-25     37-46   \n6   7   PF15337.9      37  0.0074    15.1   0.0     11   9-19     84-95   \n7   8   PF15551.9     4.0      52    0.01  17.8    0.0     14     12-25   \n8   9   PF17702.4     3.9      61   0.011  16.4    0.0     11     18-28   \n9  10  PF10976.11      53   0.011    13.2   0.0      5  21-25     60-64   \n\n    Template HMM             Name  \n0    15-27 (504)            DAAP1  \n1      3-23 (99)          DUF6342  \n2          (101)             IMUP  \n3                 Eno-Rase_FAD_bd  \n4           (64)          DUF3929  \n5           (54)   Rod_cone_degen  \n6           (98)         Vasculin  \n7  339-352 (359)          DUF4656  \n8  102-112 (177)          DUF5548  \n9           (78)          DUF2790  ",
      "text/html": "<div>\n<style scoped>\n    .dataframe tbody tr th:only-of-type {\n        vertical-align: middle;\n    }\n\n    .dataframe tbody tr th {\n        vertical-align: top;\n    }\n\n    .dataframe thead th {\n        text-align: right;\n    }\n</style>\n<table border=\"1\" class=\"dataframe\">\n  <thead>\n    <tr style=\"text-align: right;\">\n      <th></th>\n      <th>No</th>\n      <th>Hit</th>\n      <th>Prob</th>\n      <th>E-value</th>\n      <th>P-value</th>\n      <th>Score</th>\n      <th>SS</th>\n      <th>Cols</th>\n      <th>Query HMM</th>\n      <th>Template HMM</th>\n      <th>Name</th>\n    </tr>\n  </thead>\n  <tbody>\n    <tr>\n      <th>0</th>\n      <td>1</td>\n      <td>PF15773.8</td>\n      <td>22.9</td>\n      <td>4.1</td>\n      <td>0.0009</td>\n      <td>22.7</td>\n      <td>0.0</td>\n      <td>13</td>\n      <td>7-19</td>\n      <td>15-27 (504)</td>\n      <td>DAAP1</td>\n    </tr>\n    <tr>\n      <th>1</th>\n      <td>2</td>\n      <td>PF19869.2</td>\n      <td>13.6</td>\n      <td>11</td>\n      <td>0.0021</td>\n      <td>18.0</td>\n      <td>0.0</td>\n      <td>21</td>\n      <td>8-28</td>\n      <td>3-23 (99)</td>\n      <td>DUF6342</td>\n    </tr>\n    <tr>\n      <th>2</th>\n      <td>3</td>\n      <td>PF15761.8</td>\n      <td>17</td>\n      <td>0.0032</td>\n      <td>17.0</td>\n      <td>0.0</td>\n      <td>7</td>\n      <td>9-15</td>\n      <td>50-56</td>\n      <td>(101)</td>\n      <td>IMUP</td>\n    </tr>\n    <tr>\n      <th>3</th>\n      <td>4</td>\n      <td>PF07055.15</td>\n      <td>0.0041</td>\n      <td>14.9</td>\n      <td>0.0</td>\n      <td>9</td>\n      <td>20-28</td>\n      <td>1-9</td>\n      <td>(64)</td>\n      <td></td>\n      <td>Eno-Rase_FAD_bd</td>\n    </tr>\n    <tr>\n      <th>4</th>\n      <td>5</td>\n      <td>PF13066.9</td>\n      <td>24</td>\n      <td>0.0041</td>\n      <td>15.7</td>\n      <td>0.0</td>\n      <td>10</td>\n      <td>17-26</td>\n      <td>39-48</td>\n      <td>(64)</td>\n      <td>DUF3929</td>\n    </tr>\n    <tr>\n      <th>5</th>\n      <td>6</td>\n      <td>PF15201.9</td>\n      <td>32</td>\n      <td>0.0057</td>\n      <td>14.6</td>\n      <td>0.0</td>\n      <td>10</td>\n      <td>16-25</td>\n      <td>37-46</td>\n      <td>(54)</td>\n      <td>Rod_cone_degen</td>\n    </tr>\n    <tr>\n      <th>6</th>\n      <td>7</td>\n      <td>PF15337.9</td>\n      <td>37</td>\n      <td>0.0074</td>\n      <td>15.1</td>\n      <td>0.0</td>\n      <td>11</td>\n      <td>9-19</td>\n      <td>84-95</td>\n      <td>(98)</td>\n      <td>Vasculin</td>\n    </tr>\n    <tr>\n      <th>7</th>\n      <td>8</td>\n      <td>PF15551.9</td>\n      <td>4.0</td>\n      <td>52</td>\n      <td>0.01</td>\n      <td>17.8</td>\n      <td>0.0</td>\n      <td>14</td>\n      <td>12-25</td>\n      <td>339-352 (359)</td>\n      <td>DUF4656</td>\n    </tr>\n    <tr>\n      <th>8</th>\n      <td>9</td>\n      <td>PF17702.4</td>\n      <td>3.9</td>\n      <td>61</td>\n      <td>0.011</td>\n      <td>16.4</td>\n      <td>0.0</td>\n      <td>11</td>\n      <td>18-28</td>\n      <td>102-112 (177)</td>\n      <td>DUF5548</td>\n    </tr>\n    <tr>\n      <th>9</th>\n      <td>10</td>\n      <td>PF10976.11</td>\n      <td>53</td>\n      <td>0.011</td>\n      <td>13.2</td>\n      <td>0.0</td>\n      <td>5</td>\n      <td>21-25</td>\n      <td>60-64</td>\n      <td>(78)</td>\n      <td>DUF2790</td>\n    </tr>\n  </tbody>\n</table>\n</div>"
     },
     "execution_count": 23,
     "metadata": {},
     "output_type": "execute_result"
    }
   ],
   "source": [
    "with open(f'{local_path}/results/disordered/hhblits/hhblits_rp_15_{q_id}_{i}.txt', 'r') as file:\n",
    "    lines = file.readlines()\n",
    "\n",
    "# Extract the column names\n",
    "column_names = lines[8].split()[:-4] + ['Query HMM', 'Template HMM']\n",
    "\n",
    "# Extract the data rows\n",
    "data_rows = [line.split() for line in lines[9:19]] \n",
    "data_rows = [[row[0]] + [' '.join(row[1:4])] + row[7:14] + [' '.join(row[14:16])] \n",
    "             for row in data_rows]\n",
    "\n",
    "# Create the DataFrame\n",
    "hhblits_stats = pd.DataFrame(data_rows, columns=column_names)\n",
    "hhblits_stats[[\"Hit\", \"Name\"]] = hhblits_stats[\"Hit\"].str.split(\" ; \", expand=True)\n",
    "print(f\"The total number of HHblits hits on Pfam: {len(hhblits_stats)}, the number of unique domains: {hhblits_stats.Hit.nunique()}\")\n",
    "hhblits_stats"
   ]
  },
  {
   "cell_type": "code",
   "execution_count": 536,
   "metadata": {
    "ExecuteTime": {
     "end_time": "2023-05-29T15:28:49.862543Z",
     "start_time": "2023-05-29T15:28:49.860819Z"
    }
   },
   "outputs": [],
   "source": []
  }
 ],
 "metadata": {
  "kernelspec": {
   "display_name": "Python 3 (ipykernel)",
   "language": "python",
   "name": "python3"
  },
  "language_info": {
   "codemirror_mode": {
    "name": "ipython",
    "version": 3
   },
   "file_extension": ".py",
   "mimetype": "text/x-python",
   "name": "python",
   "nbconvert_exporter": "python",
   "pygments_lexer": "ipython3",
   "version": "3.9.12"
  }
 },
 "nbformat": 4,
 "nbformat_minor": 1
}
