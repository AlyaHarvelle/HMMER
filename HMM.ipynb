{
 "cells": [
  {
   "cell_type": "markdown",
   "metadata": {
    "ExecuteTime": {
     "end_time": "2023-05-23T07:50:02.095781Z",
     "start_time": "2023-05-23T07:50:00.613949Z"
    }
   },
   "source": [
    "# HMM build and analysis\n",
    "\n",
    "Here we will construct and analyze HMM models using MSA as the input data. We will utilize several databases as sources to enhance our analysis and gain valuable insights from the generated HMM profiles.\n"
   ]
  },
  {
   "cell_type": "code",
   "execution_count": 1,
   "metadata": {
    "ExecuteTime": {
     "end_time": "2023-06-23T10:50:55.595366Z",
     "start_time": "2023-06-23T10:50:55.521969Z"
    }
   },
   "outputs": [],
   "source": [
    "import os\n",
    "import re\n",
    "import subprocess\n",
    "import pandas as pd\n",
    "import matplotlib.pyplot as plt\n",
    "from matplotlib.pyplot import figure\n",
    "import seaborn as sns\n",
    "import ipywidgets as widgets\n",
    "from functions import get_fasta, process_hmmsearch_file"
   ]
  },
  {
   "cell_type": "code",
   "execution_count": 2,
   "metadata": {
    "ExecuteTime": {
     "end_time": "2023-06-23T10:50:55.610782Z",
     "start_time": "2023-06-23T10:50:55.597408Z"
    }
   },
   "outputs": [
    {
     "data": {
      "text/plain": "'/Users/alina/HMM'"
     },
     "execution_count": 2,
     "metadata": {},
     "output_type": "execute_result"
    }
   ],
   "source": [
    "local_path = os.getcwd()\n",
    "local_path"
   ]
  },
  {
   "cell_type": "code",
   "execution_count": 28,
   "metadata": {
    "ExecuteTime": {
     "end_time": "2023-06-23T11:14:04.262533Z",
     "start_time": "2023-06-23T11:14:04.184940Z"
    }
   },
   "outputs": [
    {
     "data": {
      "text/plain": "  query_id  subject_id  query_len  hsp_len  \\\n0   Q9H832  A0A6J2FM24        354      356   \n1   Q9H832  A0A3Q7W6Y2        354      356   \n2   Q9H832  A0A2U3VK69        354      356   \n3   Q9H832  A0A2Y9JVH5        354      358   \n4   Q9H832  A0A8C7ALE4        354      358   \n\n                                           query_seq  \\\n0  MAESPTEEAATA--GAGAAGPGASSVAGVVGVSGSGGGFGPPFLPD...   \n1  MAESPTEEAATA--GAGAAGPGASSVAGVVGVSGSGGGFGPPFLPD...   \n2  MAESPTEEAATA--GAGAAGPGASSVAGVVGVSGSGGGFGPPFLPD...   \n3  MAESPTEEAATA----GAGAAGPGASSVAGVVGVSGSGGGFGPPFL...   \n4  MAESPTEEAATA----GAGAAGPGASSVAGVVGVSGSGGGFGPPFL...   \n\n                                           match_seq  \\\n0  MAESPTEEAATA  GAGAAGPGAS V GVVGVSGSG  FGPPFLPD...   \n1  MAESPTEEAATA  GAGA GPGAS VAGVVGVSGSG  FGPPFLPD...   \n2  MAESPTEEAATA  GAGAAGPGAS V GVVGVSGSG  FGPPFLPD...   \n3  MAESPTEEAATA    GAGAAGPGAS VAGVVGVSGSG  FGPPFL...   \n4  MAESPTEEAATA    GAGAAGPGAS VAGVVGVSGSG  FGPPFL...   \n\n                                         subject_seq  query_start  query_end  \\\n0  MAESPTEEAATATAGAGAAGPGASGVTGVVGVSGSG--FGPPFLPD...            1        354   \n1  MAESPTEEAATATAGAGATGPGASGVAGVVGVSGSG--FGPPFLPD...            1        354   \n2  MAESPTEEAATATAGAGAAGPGASGVTGVVGVSGSG--FGPPFLPD...            1        354   \n3  MAESPTEEAATATATAGAGAAGPGASGVAGVVGVSGSG--FGPPFL...            1        354   \n4  MAESPTEEAATATATAGAGAAGPGASGVAGVVGVSGSG--FGPPFL...            1        354   \n\n   subject_start  subject_end  identity  positive  gaps  eval  bit_score  \\\n0              1          354       350       350     4   0.0     1851.0   \n1              1          354       350       350     4   0.0     1851.0   \n2              1          354       350       350     4   0.0     1851.0   \n3              1          356       351       351     6   0.0     1854.0   \n4              1          356       351       351     6   0.0     1854.0   \n\n   count  \n0    200  \n1    200  \n2    200  \n3    200  \n4    200  ",
      "text/html": "<div>\n<style scoped>\n    .dataframe tbody tr th:only-of-type {\n        vertical-align: middle;\n    }\n\n    .dataframe tbody tr th {\n        vertical-align: top;\n    }\n\n    .dataframe thead th {\n        text-align: right;\n    }\n</style>\n<table border=\"1\" class=\"dataframe\">\n  <thead>\n    <tr style=\"text-align: right;\">\n      <th></th>\n      <th>query_id</th>\n      <th>subject_id</th>\n      <th>query_len</th>\n      <th>hsp_len</th>\n      <th>query_seq</th>\n      <th>match_seq</th>\n      <th>subject_seq</th>\n      <th>query_start</th>\n      <th>query_end</th>\n      <th>subject_start</th>\n      <th>subject_end</th>\n      <th>identity</th>\n      <th>positive</th>\n      <th>gaps</th>\n      <th>eval</th>\n      <th>bit_score</th>\n      <th>count</th>\n    </tr>\n  </thead>\n  <tbody>\n    <tr>\n      <th>0</th>\n      <td>Q9H832</td>\n      <td>A0A6J2FM24</td>\n      <td>354</td>\n      <td>356</td>\n      <td>MAESPTEEAATA--GAGAAGPGASSVAGVVGVSGSGGGFGPPFLPD...</td>\n      <td>MAESPTEEAATA  GAGAAGPGAS V GVVGVSGSG  FGPPFLPD...</td>\n      <td>MAESPTEEAATATAGAGAAGPGASGVTGVVGVSGSG--FGPPFLPD...</td>\n      <td>1</td>\n      <td>354</td>\n      <td>1</td>\n      <td>354</td>\n      <td>350</td>\n      <td>350</td>\n      <td>4</td>\n      <td>0.0</td>\n      <td>1851.0</td>\n      <td>200</td>\n    </tr>\n    <tr>\n      <th>1</th>\n      <td>Q9H832</td>\n      <td>A0A3Q7W6Y2</td>\n      <td>354</td>\n      <td>356</td>\n      <td>MAESPTEEAATA--GAGAAGPGASSVAGVVGVSGSGGGFGPPFLPD...</td>\n      <td>MAESPTEEAATA  GAGA GPGAS VAGVVGVSGSG  FGPPFLPD...</td>\n      <td>MAESPTEEAATATAGAGATGPGASGVAGVVGVSGSG--FGPPFLPD...</td>\n      <td>1</td>\n      <td>354</td>\n      <td>1</td>\n      <td>354</td>\n      <td>350</td>\n      <td>350</td>\n      <td>4</td>\n      <td>0.0</td>\n      <td>1851.0</td>\n      <td>200</td>\n    </tr>\n    <tr>\n      <th>2</th>\n      <td>Q9H832</td>\n      <td>A0A2U3VK69</td>\n      <td>354</td>\n      <td>356</td>\n      <td>MAESPTEEAATA--GAGAAGPGASSVAGVVGVSGSGGGFGPPFLPD...</td>\n      <td>MAESPTEEAATA  GAGAAGPGAS V GVVGVSGSG  FGPPFLPD...</td>\n      <td>MAESPTEEAATATAGAGAAGPGASGVTGVVGVSGSG--FGPPFLPD...</td>\n      <td>1</td>\n      <td>354</td>\n      <td>1</td>\n      <td>354</td>\n      <td>350</td>\n      <td>350</td>\n      <td>4</td>\n      <td>0.0</td>\n      <td>1851.0</td>\n      <td>200</td>\n    </tr>\n    <tr>\n      <th>3</th>\n      <td>Q9H832</td>\n      <td>A0A2Y9JVH5</td>\n      <td>354</td>\n      <td>358</td>\n      <td>MAESPTEEAATA----GAGAAGPGASSVAGVVGVSGSGGGFGPPFL...</td>\n      <td>MAESPTEEAATA    GAGAAGPGAS VAGVVGVSGSG  FGPPFL...</td>\n      <td>MAESPTEEAATATATAGAGAAGPGASGVAGVVGVSGSG--FGPPFL...</td>\n      <td>1</td>\n      <td>354</td>\n      <td>1</td>\n      <td>356</td>\n      <td>351</td>\n      <td>351</td>\n      <td>6</td>\n      <td>0.0</td>\n      <td>1854.0</td>\n      <td>200</td>\n    </tr>\n    <tr>\n      <th>4</th>\n      <td>Q9H832</td>\n      <td>A0A8C7ALE4</td>\n      <td>354</td>\n      <td>358</td>\n      <td>MAESPTEEAATA----GAGAAGPGASSVAGVVGVSGSGGGFGPPFL...</td>\n      <td>MAESPTEEAATA    GAGAAGPGAS VAGVVGVSGSG  FGPPFL...</td>\n      <td>MAESPTEEAATATATAGAGAAGPGASGVAGVVGVSGSG--FGPPFL...</td>\n      <td>1</td>\n      <td>354</td>\n      <td>1</td>\n      <td>356</td>\n      <td>351</td>\n      <td>351</td>\n      <td>6</td>\n      <td>0.0</td>\n      <td>1854.0</td>\n      <td>200</td>\n    </tr>\n  </tbody>\n</table>\n</div>"
     },
     "execution_count": 28,
     "metadata": {},
     "output_type": "execute_result"
    }
   ],
   "source": [
    "disordered = pd.read_csv(\"disordered_df.csv\")\n",
    "disordered.head()"
   ]
  },
  {
   "cell_type": "code",
   "execution_count": 29,
   "metadata": {
    "ExecuteTime": {
     "end_time": "2023-06-23T11:14:05.855913Z",
     "start_time": "2023-06-23T11:14:05.834427Z"
    }
   },
   "outputs": [
    {
     "data": {
      "text/plain": "Select(description='Query ID: ', layout=Layout(width='max-content'), options=('Q9H832', 'Q8IW19', 'Q99967', 'Q…",
      "application/vnd.jupyter.widget-view+json": {
       "version_major": 2,
       "version_minor": 0,
       "model_id": "5da0b331003f4650b330e67cce6980b2"
      }
     },
     "metadata": {},
     "output_type": "display_data"
    }
   ],
   "source": [
    "# Dropdown list of query IDs for disordered regions\n",
    "output = widgets.Select(\n",
    "    options=disordered[\"query_id\"].unique(),\n",
    "    rows=10,\n",
    "    description='Query ID: ',\n",
    "    layout={'width': 'max-content'},\n",
    "    disabled=False\n",
    ")\n",
    "display(output)"
   ]
  },
  {
   "cell_type": "code",
   "execution_count": 147,
   "metadata": {
    "ExecuteTime": {
     "end_time": "2023-06-23T14:26:10.721367Z",
     "start_time": "2023-06-23T14:26:10.690520Z"
    }
   },
   "outputs": [],
   "source": [
    "# Input parameters\n",
    "q_id = output.value\n",
    "i = 1\n",
    "hmm_file = f'{local_path}/results/disordered/hmmbuild/{q_id}_{i}.hmm'\n",
    "align_file = f'{local_path}/results/alignments/output_files/disordered/{q_id}_{i}.fasta'"
   ]
  },
  {
   "cell_type": "markdown",
   "metadata": {},
   "source": [
    "Using the MSA in .fasta format as an input data, we generate HMM model with `hmmbuild` command."
   ]
  },
  {
   "cell_type": "code",
   "execution_count": 148,
   "metadata": {
    "ExecuteTime": {
     "end_time": "2023-06-23T14:26:13.389583Z",
     "start_time": "2023-06-23T14:26:13.231735Z"
    }
   },
   "outputs": [
    {
     "name": "stdout",
     "output_type": "stream",
     "text": [
      "# hmmbuild :: profile HMM construction from multiple sequence alignments\r\n",
      "# HMMER 3.3.2 (Nov 2020); http://hmmer.org/\r\n",
      "# Copyright (C) 2020 Howard Hughes Medical Institute.\r\n",
      "# Freely distributed under the BSD open source license.\r\n",
      "# - - - - - - - - - - - - - - - - - - - - - - - - - - - - - - - - - - - -\r\n",
      "# input alignment file:             /Users/alina/HMM/results/alignments/output_files/disordered/Q99967_1.fasta\r\n",
      "# output HMM file:                  /Users/alina/HMM/results/disordered/hmmbuild/Q99967_1.hmm\r\n",
      "# - - - - - - - - - - - - - - - - - - - - - - - - - - - - - - - - - - - -\r\n",
      "\r\n",
      "# idx name                  nseq  alen  mlen eff_nseq re/pos description\r\n",
      "#---- -------------------- ----- ----- ----- -------- ------ -----------\r\n",
      "1     Q99967_1               201    50    50     0.82  1.105 \r\n",
      "\r\n",
      "# CPU time: 0.02u 0.00s 00:00:00.02 Elapsed: 00:00:00.02\r\n"
     ]
    }
   ],
   "source": [
    "# Build HMM \n",
    "!hmmbuild {hmm_file} {align_file}"
   ]
  },
  {
   "cell_type": "markdown",
   "metadata": {},
   "source": [
    "Here we should pay attention at the occasional difference between the values of `alen` and `mlen` which stand for aligned sequence and consensus sequence lengths respectfully. If they differ, we handle the sequences with the deletions."
   ]
  },
  {
   "cell_type": "code",
   "execution_count": 149,
   "metadata": {
    "ExecuteTime": {
     "end_time": "2023-06-23T14:26:15.312177Z",
     "start_time": "2023-06-23T14:26:15.156870Z"
    }
   },
   "outputs": [
    {
     "name": "stdout",
     "output_type": "stream",
     "text": [
      "# hmmstat :: display summary statistics for a profile file\r\n",
      "# HMMER 3.3.2 (Nov 2020); http://hmmer.org/\r\n",
      "# Copyright (C) 2020 Howard Hughes Medical Institute.\r\n",
      "# Freely distributed under the BSD open source license.\r\n",
      "# - - - - - - - - - - - - - - - - - - - - - - - - - - - - - - - - - - - -\r\n",
      "#\r\n",
      "# idx  name                 accession        nseq eff_nseq      M relent   info p relE compKL\r\n",
      "# ---- -------------------- ------------ -------- -------- ------ ------ ------ ------ ------\r\n",
      "1      Q99967_1             -                 201     0.82     50   1.10   1.07   1.05   0.05\r\n"
     ]
    }
   ],
   "source": [
    "# Analysis of the model\n",
    "!hmmstat {hmm_file}"
   ]
  },
  {
   "cell_type": "markdown",
   "metadata": {},
   "source": [
    "In this part, we analyze the statistics of the generated HMM and focus on key metrics:\n",
    "- `eff_nseq`: effective sequence number. The smaller value is suggesting a relatively low similarity among the sequences.\n",
    "- `relent`: relative entropy of the match state. The value is 0.59, indicating a moderate conservation of residues.\n",
    "- `compKL`: Kullback-Leibler divergence from the average composition. The value is low, indicating a better alignment fit with the background model. "
   ]
  },
  {
   "cell_type": "markdown",
   "metadata": {},
   "source": [
    "## 1. HMMsearch\n",
    "\n",
    "After building the model, our objective is to assess if overlaps with the profiles in Reference Proteome exist. Then, we enrich the model by utilizing a protein database such as the Reference Proteome. For both databases, we generate dataframes containing the most significant sequences, utilizing a default E-value threshold of 0.01.\n",
    "\n",
    "### Reference Proteome\n",
    "\n",
    "The objective here is to enhance the quality of the model by conducting additional model training using a larger set of homologous sequences."
   ]
  },
  {
   "cell_type": "code",
   "execution_count": 154,
   "metadata": {
    "ExecuteTime": {
     "end_time": "2023-06-23T14:26:43.399607Z",
     "start_time": "2023-06-23T14:26:42.392189Z"
    }
   },
   "outputs": [
    {
     "name": "stdout",
     "output_type": "stream",
     "text": [
      "Q99967_1.hmm                                  100%   24KB   4.3MB/s   00:00    \r\n"
     ]
    }
   ],
   "source": [
    "# Copy the file to remote computer\n",
    "!scp {local_path}/results/disordered/hmmbuild/{q_id}_{i}.hmm alina@echidna:~/{q_id}_{i}.hmm"
   ]
  },
  {
   "cell_type": "code",
   "execution_count": 155,
   "metadata": {
    "ExecuteTime": {
     "end_time": "2023-06-23T14:28:03.030294Z",
     "start_time": "2023-06-23T14:26:44.078662Z"
    }
   },
   "outputs": [],
   "source": [
    "# HMM search against Reference Proteome 15%\n",
    "!ssh alina@echidna \"/software/packages/hmmer/hmmer-3.3.1/usr/bin/hmmsearch {q_id}_{i}.hmm /db/rp/rp-seqs-15.fasta.gz > hmmsearch_rp_15_{q_id}_{i}.txt\""
   ]
  },
  {
   "cell_type": "code",
   "execution_count": 156,
   "metadata": {
    "ExecuteTime": {
     "end_time": "2023-06-23T14:39:25.228571Z",
     "start_time": "2023-06-23T14:28:03.040152Z"
    }
   },
   "outputs": [],
   "source": [
    "# HMM search against Reference Proteome 75%\n",
    "!ssh alina@echidna \"/software/packages/hmmer/hmmer-3.3.1/usr/bin/hmmsearch {q_id}_{i}.hmm /db/rp/rp-seqs-75.fasta.gz > hmmsearch_rp_75_{q_id}_{i}.txt\""
   ]
  },
  {
   "cell_type": "code",
   "execution_count": 157,
   "metadata": {
    "ExecuteTime": {
     "end_time": "2023-06-23T14:39:27.769980Z",
     "start_time": "2023-06-23T14:39:25.241500Z"
    }
   },
   "outputs": [
    {
     "name": "stdout",
     "output_type": "stream",
     "text": [
      "hmmsearch_rp_15_Q99967_1.txt                  100%  166KB   6.6MB/s   00:00    \r\n",
      "hmmsearch_rp_75_Q99967_1.txt                  100% 1300KB  10.6MB/s   00:00    \r\n"
     ]
    }
   ],
   "source": [
    "# Copy results to the local folder\n",
    "!scp alina@echidna:~/hmmsearch_rp_15_{q_id}_{i}.txt {local_path}/results/disordered/hmmsearch/\n",
    "!scp alina@echidna:~/hmmsearch_rp_75_{q_id}_{i}.txt {local_path}/results/disordered/hmmsearch/"
   ]
  },
  {
   "cell_type": "code",
   "execution_count": 158,
   "metadata": {
    "ExecuteTime": {
     "end_time": "2023-06-23T14:39:41.498019Z",
     "start_time": "2023-06-23T14:39:41.452461Z"
    }
   },
   "outputs": [
    {
     "name": "stdout",
     "output_type": "stream",
     "text": [
      "The total number of Reference Proteome hits: 53, the number of unique sequences: 53\n"
     ]
    },
    {
     "data": {
      "text/plain": "    E-value  score bias  E-value  score bias  exp  N    Sequence  \\\n0   8.6e-37  133.7  1.3  1.1e-36  133.3  1.3  1.2  1      M7BZC1   \n1   1.5e-36  132.9  1.3    2e-36  132.5  1.3  1.1  1      S9WIN3   \n2   2.1e-36  132.5  1.3  3.8e-36  131.6  1.3  1.5  1      F1R408   \n3   2.1e-36  132.5  1.3  3.8e-36  131.6  1.3  1.5  1      Q5XJD6   \n4   2.1e-36  132.4  1.3  3.4e-36  131.8  1.3  1.3  1  A0A7N9IHM0   \n5   2.1e-36  132.4  1.3  3.2e-36  131.9  1.3  1.3  1  A0A7N9CLV6   \n6   2.6e-36  132.2  1.3  4.2e-36  131.5  1.3  1.4  1  A0A2K6SUZ1   \n7   2.8e-36  132.0  1.3  4.3e-36  131.4  1.3  1.3  1  A0A444U6U9   \n8   2.9e-36  132.0  1.3  4.2e-36  131.5  1.3  1.3  1      Q9DDW4   \n9   2.9e-36  132.0  1.3  4.5e-36  131.4  1.3  1.3  1  A0A2I0THR9   \n10  3.4e-36  131.8  1.3  5.3e-36  131.2  1.3  1.3  1      O35740   \n11  3.4e-36  131.8  1.3  5.3e-36  131.2  1.3  1.3  1      Q99MA1   \n12  3.4e-36  131.8  1.3  5.5e-36  131.1  1.3  1.3  1  A0A2K6SUX1   \n13  3.4e-36  131.8  1.3  5.3e-36  131.2  1.3  1.3  1      Q99967   \n14  1.2e-32  120.5  1.3  1.8e-32  119.9  1.3  1.3  1  A0A2G9RGG5   \n15  2.2e-29  110.0  0.6  3.2e-29  109.5  0.6  1.2  1  A0A4W3GLQ2   \n16  9.7e-26   98.3  1.1  1.5e-25   97.7  0.7  1.5  1  A0A4Z2J7K6   \n17  3.1e-25   96.7  0.9    5e-25   96.0  0.9  1.3  1      Q1L8S4   \n18  3.2e-25   96.7  0.9    5e-25   96.0  0.9  1.3  1      Q08CF6   \n19  4.8e-25   96.1  0.4  6.2e-25   95.7  0.4  1.1  1  A0A444V2X1   \n20  1.6e-24   94.4  0.3  2.6e-24   93.7  0.3  1.3  1      Q9I8K7   \n21  3.2e-24   93.4  0.3  5.4e-24   92.7  0.3  1.4  1  A0A2I0TT05   \n22    4e-24   93.1  0.6  6.2e-24   92.5  0.6  1.3  1  A0A4Z2JGS4   \n23  7.1e-24   92.3  0.4  1.4e-23   91.4  0.4  1.5  1  A0A8M1PCE9   \n24  7.1e-24   92.3  0.4  1.4e-23   91.4  0.4  1.5  1      A8E5L7   \n25  7.1e-24   92.3  0.4  1.4e-23   91.4  0.4  1.5  1      Q789M2   \n26  8.8e-24   92.0  0.3  1.3e-23   91.5  0.3  1.2  1      M7BCS7   \n27  1.1e-22   88.5  0.3  2.1e-22   87.6  0.3  1.5  1  A0A4W3JFP2   \n28  8.2e-21   82.5  0.3  1.3e-20   81.9  0.3  1.3  1      V8P574   \n29  1.5e-19   78.5  0.2  1.9e-19   78.1  0.2  1.1  1      T0NNF7   \n30  6.2e-19   76.5  0.1  9.1e-19   76.0  0.1  1.2  1      M7CEA0   \n31  1.3e-18   75.4  0.2    2e-18   74.9  0.2  1.2  1      Q99966   \n32  1.5e-18   75.3  0.2  2.2e-18   74.7  0.2  1.2  1  A0A2K6S775   \n33  1.5e-18   75.3  0.2  2.3e-18   74.7  0.2  1.2  1      P97769   \n34  1.6e-18   75.2  0.2  2.3e-18   74.7  0.2  1.2  1      Q4V8P1   \n35  1.8e-18   75.1  0.2  2.7e-18   74.5  0.2  1.2  1  A0A2K6S786   \n36  1.9e-18   75.0  0.2    3e-18   74.3  0.2  1.3  1  A0A0G2JVK0   \n37  2.3e-18   74.7  0.3  3.2e-18   74.2  0.3  1.2  1  A0A444V061   \n38  3.1e-18   74.3  0.3  4.7e-18   73.7  0.3  1.2  1  A0A662YN44   \n39  3.1e-18   74.3  0.3  4.6e-18   73.7  0.3  1.2  1      B1AAP0   \n40  3.4e-18   74.1  0.3  5.2e-18   73.6  0.3  1.2  1      F1QI18   \n41  3.5e-18   74.1  0.3    6e-18   73.4  0.3  1.4  1      H3AZK9   \n42  2.1e-17   71.6  1.5  3.2e-17   71.0  1.5  1.2  1      H3ASX6   \n43  5.8e-17   70.2  0.1  1.1e-16   69.3  0.1  1.4  1  A0A8J4UB31   \n44  2.1e-13   58.8  0.2    3e-13   58.3  0.2  1.2  1  A0A8C4QB40   \n45  2.9e-10   48.7  0.0  4.1e-10   48.3  0.0  1.1  1      Q9WUL8   \n46  5.4e-10   47.9  0.3  1.2e-09   46.8  0.3  1.6  1  A0A6P5AXY3   \n47  7.7e-10   47.4  0.0  1.1e-09   46.9  0.0  1.2  1      Q99MA0   \n48  8.1e-10   47.3  0.0  1.2e-09   46.8  0.0  1.2  1      Q96RK1   \n49  0.00026   29.7  6.7   0.0039   25.9  6.7  2.2  1  A0A8I5ZVC9   \n50  0.00026   29.7  6.7    0.004   25.9  6.7  2.2  1  A0A8I6GGY6   \n51  0.00039   29.1  4.1  1.7e+03    7.9  0.0  5.7  5  A0A7J7B172   \n52   0.0024   26.6  3.4  1.4e+02   11.4  0.0  4.1  4  A0A0B4S2Z9   \n\n                                          Description  \n0   M7BZC1_CHEMY^|^^|^Uncharacterized protein {ECO:00  \n1   S9WIN3_CAMFR^|^^|^Cbp/p300-interacting transactiv  \n2   F1R408_DANRE^|^^|^Cbp/p300-interacting transactiv  \n3   Q5XJD6_DANRE^|^^|^Zgc:103418 {ECO:0000313|EMBL:AA  \n4   A0A7N9IHM0_MACFA^|^^|^Uncharacterized protein {EC  \n5   A0A7N9CLV6_MACFA^|^^|^Cbp/p300 interacting transa  \n6   A0A2K6SUZ1_SAIBB^|^^|^Cbp/p300 interacting transa  \n7   A0A444U6U9_ACIRT^|^^|^Cbp/p300-interacting transa  \n8   Q9DDW4_CHICK^|^^|^Cited2/melanocyte specific gene  \n9   A0A2I0THR9_LIMLA^|^^|^Uncharacterized protein {EC  \n10  CITE2_MOUSE^|^^|^Cbp/p300-interacting transactiva  \n11  Q99MA1_RAT^|^^|^Cbp/p300-interacting transactivat  \n12  A0A2K6SUX1_SAIBB^|^^|^Cbp/p300 interacting transa  \n13  CITE2_HUMAN^|^^|^Cbp/p300-interacting transactiva  \n14  A0A2G9RGG5_LITCT^|^^|^Uncharacterized protein {EC  \n15  A0A4W3GLQ2_CALMI^|^^|^Uncharacterized protein {EC  \n16  A0A4Z2J7K6_9TELE^|^^|^Cbp/p300-interacting transa  \n17  Q1L8S4_DANRE^|^^|^Cbp/p300-interacting transactiv  \n18  Q08CF6_DANRE^|^^|^Cbp/p300-interacting transactiv  \n19  A0A444V2X1_ACIRT^|^^|^Cbp/p300-interacting transa  \n20  CITE3_CHICK^|^^|^Cbp/p300-interacting transactiva  \n21  A0A2I0TT05_LIMLA^|^^|^Uncharacterized protein {EC  \n22  A0A4Z2JGS4_9TELE^|^^|^Cbp/p300-interacting transa  \n23  A0A8M1PCE9_DANRE^|^^|^Cbp/p300-interacting transa  \n24  A8E5L7_DANRE^|^^|^Cbp/p300-interacting transactiv  \n25  Q789M2_DANRE^|^^|^CBP/p300-interacting transactiv  \n26  M7BCS7_CHEMY^|^^|^Uncharacterized protein {ECO:00  \n27  A0A4W3JFP2_CALMI^|^^|^Uncharacterized protein {EC  \n28   V8P574_OPHHA^|^^|^Cbp-interacting transactivator  \n29  T0NNF7_CAMFR^|^^|^Uncharacterized protein {ECO:00  \n30  M7CEA0_CHEMY^|^^|^Uncharacterized protein {ECO:00  \n31  CITE1_HUMAN^|^JC6114^|^Cbp/p300-interacting trans  \n32  A0A2K6S775_SAIBB^|^^|^Cbp/p300 interacting transa  \n33  CITE1_MOUSE^|^JC6113^|^Cbp/p300-interacting trans  \n34  Q4V8P1_RAT^|^^|^Cbp/p300-interacting transactivat  \n35  A0A2K6S786_SAIBB^|^^|^Cbp/p300 interacting transa  \n36  A0A0G2JVK0_RAT^|^^|^Cbp/p300-interacting transact  \n37  A0A444V061_ACIRT^|^^|^Cbp/p300-interacting transa  \n38  A0A662YN44_ACIRT^|^^|^Cbp/p300-interacting transa  \n39  B1AAP0_DANRE^|^^|^Cited1 isoform a {ECO:0000313|E  \n40  F1QI18_DANRE^|^^|^Cbp/p300-interacting transactiv  \n41  H3AZK9_LATCH^|^^|^Uncharacterized protein {ECO:00  \n42  H3ASX6_LATCH^|^^|^Cbp/p300 interacting transactiv  \n43  A0A8J4UB31_CLAMG^|^^|^40S ribosomal protein S4, X  \n44  A0A8C4QB40_EPTBU^|^^|^Uncharacterized protein {EC  \n45  CITE4_MOUSE^|^^|^Cbp/p300-interacting transactiva  \n46  A0A6P5AXY3_BRABE^|^^|^cbp/p300-interacting transa  \n47  CITE4_RAT^|^^|^Cbp/p300-interacting transactivato  \n48  CITE4_HUMAN^|^^|^Cbp/p300-interacting transactiva  \n49  A0A8I5ZVC9_RAT^|^^|^Uncharacterized protein {ECO:  \n50  A0A8I6GGY6_RAT^|^^|^Uncharacterized protein {ECO:  \n51  A0A7J7B172_9COLE^|^^|^Uncharacterized protein {EC  \n52  A0A0B4S2Z9_9FIRM^|^^|^Uncharacterized protein {EC  ",
      "text/html": "<div>\n<style scoped>\n    .dataframe tbody tr th:only-of-type {\n        vertical-align: middle;\n    }\n\n    .dataframe tbody tr th {\n        vertical-align: top;\n    }\n\n    .dataframe thead th {\n        text-align: right;\n    }\n</style>\n<table border=\"1\" class=\"dataframe\">\n  <thead>\n    <tr style=\"text-align: right;\">\n      <th></th>\n      <th>E-value</th>\n      <th>score</th>\n      <th>bias</th>\n      <th>E-value</th>\n      <th>score</th>\n      <th>bias</th>\n      <th>exp</th>\n      <th>N</th>\n      <th>Sequence</th>\n      <th>Description</th>\n    </tr>\n  </thead>\n  <tbody>\n    <tr>\n      <th>0</th>\n      <td>8.6e-37</td>\n      <td>133.7</td>\n      <td>1.3</td>\n      <td>1.1e-36</td>\n      <td>133.3</td>\n      <td>1.3</td>\n      <td>1.2</td>\n      <td>1</td>\n      <td>M7BZC1</td>\n      <td>M7BZC1_CHEMY^|^^|^Uncharacterized protein {ECO:00</td>\n    </tr>\n    <tr>\n      <th>1</th>\n      <td>1.5e-36</td>\n      <td>132.9</td>\n      <td>1.3</td>\n      <td>2e-36</td>\n      <td>132.5</td>\n      <td>1.3</td>\n      <td>1.1</td>\n      <td>1</td>\n      <td>S9WIN3</td>\n      <td>S9WIN3_CAMFR^|^^|^Cbp/p300-interacting transactiv</td>\n    </tr>\n    <tr>\n      <th>2</th>\n      <td>2.1e-36</td>\n      <td>132.5</td>\n      <td>1.3</td>\n      <td>3.8e-36</td>\n      <td>131.6</td>\n      <td>1.3</td>\n      <td>1.5</td>\n      <td>1</td>\n      <td>F1R408</td>\n      <td>F1R408_DANRE^|^^|^Cbp/p300-interacting transactiv</td>\n    </tr>\n    <tr>\n      <th>3</th>\n      <td>2.1e-36</td>\n      <td>132.5</td>\n      <td>1.3</td>\n      <td>3.8e-36</td>\n      <td>131.6</td>\n      <td>1.3</td>\n      <td>1.5</td>\n      <td>1</td>\n      <td>Q5XJD6</td>\n      <td>Q5XJD6_DANRE^|^^|^Zgc:103418 {ECO:0000313|EMBL:AA</td>\n    </tr>\n    <tr>\n      <th>4</th>\n      <td>2.1e-36</td>\n      <td>132.4</td>\n      <td>1.3</td>\n      <td>3.4e-36</td>\n      <td>131.8</td>\n      <td>1.3</td>\n      <td>1.3</td>\n      <td>1</td>\n      <td>A0A7N9IHM0</td>\n      <td>A0A7N9IHM0_MACFA^|^^|^Uncharacterized protein {EC</td>\n    </tr>\n    <tr>\n      <th>5</th>\n      <td>2.1e-36</td>\n      <td>132.4</td>\n      <td>1.3</td>\n      <td>3.2e-36</td>\n      <td>131.9</td>\n      <td>1.3</td>\n      <td>1.3</td>\n      <td>1</td>\n      <td>A0A7N9CLV6</td>\n      <td>A0A7N9CLV6_MACFA^|^^|^Cbp/p300 interacting transa</td>\n    </tr>\n    <tr>\n      <th>6</th>\n      <td>2.6e-36</td>\n      <td>132.2</td>\n      <td>1.3</td>\n      <td>4.2e-36</td>\n      <td>131.5</td>\n      <td>1.3</td>\n      <td>1.4</td>\n      <td>1</td>\n      <td>A0A2K6SUZ1</td>\n      <td>A0A2K6SUZ1_SAIBB^|^^|^Cbp/p300 interacting transa</td>\n    </tr>\n    <tr>\n      <th>7</th>\n      <td>2.8e-36</td>\n      <td>132.0</td>\n      <td>1.3</td>\n      <td>4.3e-36</td>\n      <td>131.4</td>\n      <td>1.3</td>\n      <td>1.3</td>\n      <td>1</td>\n      <td>A0A444U6U9</td>\n      <td>A0A444U6U9_ACIRT^|^^|^Cbp/p300-interacting transa</td>\n    </tr>\n    <tr>\n      <th>8</th>\n      <td>2.9e-36</td>\n      <td>132.0</td>\n      <td>1.3</td>\n      <td>4.2e-36</td>\n      <td>131.5</td>\n      <td>1.3</td>\n      <td>1.3</td>\n      <td>1</td>\n      <td>Q9DDW4</td>\n      <td>Q9DDW4_CHICK^|^^|^Cited2/melanocyte specific gene</td>\n    </tr>\n    <tr>\n      <th>9</th>\n      <td>2.9e-36</td>\n      <td>132.0</td>\n      <td>1.3</td>\n      <td>4.5e-36</td>\n      <td>131.4</td>\n      <td>1.3</td>\n      <td>1.3</td>\n      <td>1</td>\n      <td>A0A2I0THR9</td>\n      <td>A0A2I0THR9_LIMLA^|^^|^Uncharacterized protein {EC</td>\n    </tr>\n    <tr>\n      <th>10</th>\n      <td>3.4e-36</td>\n      <td>131.8</td>\n      <td>1.3</td>\n      <td>5.3e-36</td>\n      <td>131.2</td>\n      <td>1.3</td>\n      <td>1.3</td>\n      <td>1</td>\n      <td>O35740</td>\n      <td>CITE2_MOUSE^|^^|^Cbp/p300-interacting transactiva</td>\n    </tr>\n    <tr>\n      <th>11</th>\n      <td>3.4e-36</td>\n      <td>131.8</td>\n      <td>1.3</td>\n      <td>5.3e-36</td>\n      <td>131.2</td>\n      <td>1.3</td>\n      <td>1.3</td>\n      <td>1</td>\n      <td>Q99MA1</td>\n      <td>Q99MA1_RAT^|^^|^Cbp/p300-interacting transactivat</td>\n    </tr>\n    <tr>\n      <th>12</th>\n      <td>3.4e-36</td>\n      <td>131.8</td>\n      <td>1.3</td>\n      <td>5.5e-36</td>\n      <td>131.1</td>\n      <td>1.3</td>\n      <td>1.3</td>\n      <td>1</td>\n      <td>A0A2K6SUX1</td>\n      <td>A0A2K6SUX1_SAIBB^|^^|^Cbp/p300 interacting transa</td>\n    </tr>\n    <tr>\n      <th>13</th>\n      <td>3.4e-36</td>\n      <td>131.8</td>\n      <td>1.3</td>\n      <td>5.3e-36</td>\n      <td>131.2</td>\n      <td>1.3</td>\n      <td>1.3</td>\n      <td>1</td>\n      <td>Q99967</td>\n      <td>CITE2_HUMAN^|^^|^Cbp/p300-interacting transactiva</td>\n    </tr>\n    <tr>\n      <th>14</th>\n      <td>1.2e-32</td>\n      <td>120.5</td>\n      <td>1.3</td>\n      <td>1.8e-32</td>\n      <td>119.9</td>\n      <td>1.3</td>\n      <td>1.3</td>\n      <td>1</td>\n      <td>A0A2G9RGG5</td>\n      <td>A0A2G9RGG5_LITCT^|^^|^Uncharacterized protein {EC</td>\n    </tr>\n    <tr>\n      <th>15</th>\n      <td>2.2e-29</td>\n      <td>110.0</td>\n      <td>0.6</td>\n      <td>3.2e-29</td>\n      <td>109.5</td>\n      <td>0.6</td>\n      <td>1.2</td>\n      <td>1</td>\n      <td>A0A4W3GLQ2</td>\n      <td>A0A4W3GLQ2_CALMI^|^^|^Uncharacterized protein {EC</td>\n    </tr>\n    <tr>\n      <th>16</th>\n      <td>9.7e-26</td>\n      <td>98.3</td>\n      <td>1.1</td>\n      <td>1.5e-25</td>\n      <td>97.7</td>\n      <td>0.7</td>\n      <td>1.5</td>\n      <td>1</td>\n      <td>A0A4Z2J7K6</td>\n      <td>A0A4Z2J7K6_9TELE^|^^|^Cbp/p300-interacting transa</td>\n    </tr>\n    <tr>\n      <th>17</th>\n      <td>3.1e-25</td>\n      <td>96.7</td>\n      <td>0.9</td>\n      <td>5e-25</td>\n      <td>96.0</td>\n      <td>0.9</td>\n      <td>1.3</td>\n      <td>1</td>\n      <td>Q1L8S4</td>\n      <td>Q1L8S4_DANRE^|^^|^Cbp/p300-interacting transactiv</td>\n    </tr>\n    <tr>\n      <th>18</th>\n      <td>3.2e-25</td>\n      <td>96.7</td>\n      <td>0.9</td>\n      <td>5e-25</td>\n      <td>96.0</td>\n      <td>0.9</td>\n      <td>1.3</td>\n      <td>1</td>\n      <td>Q08CF6</td>\n      <td>Q08CF6_DANRE^|^^|^Cbp/p300-interacting transactiv</td>\n    </tr>\n    <tr>\n      <th>19</th>\n      <td>4.8e-25</td>\n      <td>96.1</td>\n      <td>0.4</td>\n      <td>6.2e-25</td>\n      <td>95.7</td>\n      <td>0.4</td>\n      <td>1.1</td>\n      <td>1</td>\n      <td>A0A444V2X1</td>\n      <td>A0A444V2X1_ACIRT^|^^|^Cbp/p300-interacting transa</td>\n    </tr>\n    <tr>\n      <th>20</th>\n      <td>1.6e-24</td>\n      <td>94.4</td>\n      <td>0.3</td>\n      <td>2.6e-24</td>\n      <td>93.7</td>\n      <td>0.3</td>\n      <td>1.3</td>\n      <td>1</td>\n      <td>Q9I8K7</td>\n      <td>CITE3_CHICK^|^^|^Cbp/p300-interacting transactiva</td>\n    </tr>\n    <tr>\n      <th>21</th>\n      <td>3.2e-24</td>\n      <td>93.4</td>\n      <td>0.3</td>\n      <td>5.4e-24</td>\n      <td>92.7</td>\n      <td>0.3</td>\n      <td>1.4</td>\n      <td>1</td>\n      <td>A0A2I0TT05</td>\n      <td>A0A2I0TT05_LIMLA^|^^|^Uncharacterized protein {EC</td>\n    </tr>\n    <tr>\n      <th>22</th>\n      <td>4e-24</td>\n      <td>93.1</td>\n      <td>0.6</td>\n      <td>6.2e-24</td>\n      <td>92.5</td>\n      <td>0.6</td>\n      <td>1.3</td>\n      <td>1</td>\n      <td>A0A4Z2JGS4</td>\n      <td>A0A4Z2JGS4_9TELE^|^^|^Cbp/p300-interacting transa</td>\n    </tr>\n    <tr>\n      <th>23</th>\n      <td>7.1e-24</td>\n      <td>92.3</td>\n      <td>0.4</td>\n      <td>1.4e-23</td>\n      <td>91.4</td>\n      <td>0.4</td>\n      <td>1.5</td>\n      <td>1</td>\n      <td>A0A8M1PCE9</td>\n      <td>A0A8M1PCE9_DANRE^|^^|^Cbp/p300-interacting transa</td>\n    </tr>\n    <tr>\n      <th>24</th>\n      <td>7.1e-24</td>\n      <td>92.3</td>\n      <td>0.4</td>\n      <td>1.4e-23</td>\n      <td>91.4</td>\n      <td>0.4</td>\n      <td>1.5</td>\n      <td>1</td>\n      <td>A8E5L7</td>\n      <td>A8E5L7_DANRE^|^^|^Cbp/p300-interacting transactiv</td>\n    </tr>\n    <tr>\n      <th>25</th>\n      <td>7.1e-24</td>\n      <td>92.3</td>\n      <td>0.4</td>\n      <td>1.4e-23</td>\n      <td>91.4</td>\n      <td>0.4</td>\n      <td>1.5</td>\n      <td>1</td>\n      <td>Q789M2</td>\n      <td>Q789M2_DANRE^|^^|^CBP/p300-interacting transactiv</td>\n    </tr>\n    <tr>\n      <th>26</th>\n      <td>8.8e-24</td>\n      <td>92.0</td>\n      <td>0.3</td>\n      <td>1.3e-23</td>\n      <td>91.5</td>\n      <td>0.3</td>\n      <td>1.2</td>\n      <td>1</td>\n      <td>M7BCS7</td>\n      <td>M7BCS7_CHEMY^|^^|^Uncharacterized protein {ECO:00</td>\n    </tr>\n    <tr>\n      <th>27</th>\n      <td>1.1e-22</td>\n      <td>88.5</td>\n      <td>0.3</td>\n      <td>2.1e-22</td>\n      <td>87.6</td>\n      <td>0.3</td>\n      <td>1.5</td>\n      <td>1</td>\n      <td>A0A4W3JFP2</td>\n      <td>A0A4W3JFP2_CALMI^|^^|^Uncharacterized protein {EC</td>\n    </tr>\n    <tr>\n      <th>28</th>\n      <td>8.2e-21</td>\n      <td>82.5</td>\n      <td>0.3</td>\n      <td>1.3e-20</td>\n      <td>81.9</td>\n      <td>0.3</td>\n      <td>1.3</td>\n      <td>1</td>\n      <td>V8P574</td>\n      <td>V8P574_OPHHA^|^^|^Cbp-interacting transactivator</td>\n    </tr>\n    <tr>\n      <th>29</th>\n      <td>1.5e-19</td>\n      <td>78.5</td>\n      <td>0.2</td>\n      <td>1.9e-19</td>\n      <td>78.1</td>\n      <td>0.2</td>\n      <td>1.1</td>\n      <td>1</td>\n      <td>T0NNF7</td>\n      <td>T0NNF7_CAMFR^|^^|^Uncharacterized protein {ECO:00</td>\n    </tr>\n    <tr>\n      <th>30</th>\n      <td>6.2e-19</td>\n      <td>76.5</td>\n      <td>0.1</td>\n      <td>9.1e-19</td>\n      <td>76.0</td>\n      <td>0.1</td>\n      <td>1.2</td>\n      <td>1</td>\n      <td>M7CEA0</td>\n      <td>M7CEA0_CHEMY^|^^|^Uncharacterized protein {ECO:00</td>\n    </tr>\n    <tr>\n      <th>31</th>\n      <td>1.3e-18</td>\n      <td>75.4</td>\n      <td>0.2</td>\n      <td>2e-18</td>\n      <td>74.9</td>\n      <td>0.2</td>\n      <td>1.2</td>\n      <td>1</td>\n      <td>Q99966</td>\n      <td>CITE1_HUMAN^|^JC6114^|^Cbp/p300-interacting trans</td>\n    </tr>\n    <tr>\n      <th>32</th>\n      <td>1.5e-18</td>\n      <td>75.3</td>\n      <td>0.2</td>\n      <td>2.2e-18</td>\n      <td>74.7</td>\n      <td>0.2</td>\n      <td>1.2</td>\n      <td>1</td>\n      <td>A0A2K6S775</td>\n      <td>A0A2K6S775_SAIBB^|^^|^Cbp/p300 interacting transa</td>\n    </tr>\n    <tr>\n      <th>33</th>\n      <td>1.5e-18</td>\n      <td>75.3</td>\n      <td>0.2</td>\n      <td>2.3e-18</td>\n      <td>74.7</td>\n      <td>0.2</td>\n      <td>1.2</td>\n      <td>1</td>\n      <td>P97769</td>\n      <td>CITE1_MOUSE^|^JC6113^|^Cbp/p300-interacting trans</td>\n    </tr>\n    <tr>\n      <th>34</th>\n      <td>1.6e-18</td>\n      <td>75.2</td>\n      <td>0.2</td>\n      <td>2.3e-18</td>\n      <td>74.7</td>\n      <td>0.2</td>\n      <td>1.2</td>\n      <td>1</td>\n      <td>Q4V8P1</td>\n      <td>Q4V8P1_RAT^|^^|^Cbp/p300-interacting transactivat</td>\n    </tr>\n    <tr>\n      <th>35</th>\n      <td>1.8e-18</td>\n      <td>75.1</td>\n      <td>0.2</td>\n      <td>2.7e-18</td>\n      <td>74.5</td>\n      <td>0.2</td>\n      <td>1.2</td>\n      <td>1</td>\n      <td>A0A2K6S786</td>\n      <td>A0A2K6S786_SAIBB^|^^|^Cbp/p300 interacting transa</td>\n    </tr>\n    <tr>\n      <th>36</th>\n      <td>1.9e-18</td>\n      <td>75.0</td>\n      <td>0.2</td>\n      <td>3e-18</td>\n      <td>74.3</td>\n      <td>0.2</td>\n      <td>1.3</td>\n      <td>1</td>\n      <td>A0A0G2JVK0</td>\n      <td>A0A0G2JVK0_RAT^|^^|^Cbp/p300-interacting transact</td>\n    </tr>\n    <tr>\n      <th>37</th>\n      <td>2.3e-18</td>\n      <td>74.7</td>\n      <td>0.3</td>\n      <td>3.2e-18</td>\n      <td>74.2</td>\n      <td>0.3</td>\n      <td>1.2</td>\n      <td>1</td>\n      <td>A0A444V061</td>\n      <td>A0A444V061_ACIRT^|^^|^Cbp/p300-interacting transa</td>\n    </tr>\n    <tr>\n      <th>38</th>\n      <td>3.1e-18</td>\n      <td>74.3</td>\n      <td>0.3</td>\n      <td>4.7e-18</td>\n      <td>73.7</td>\n      <td>0.3</td>\n      <td>1.2</td>\n      <td>1</td>\n      <td>A0A662YN44</td>\n      <td>A0A662YN44_ACIRT^|^^|^Cbp/p300-interacting transa</td>\n    </tr>\n    <tr>\n      <th>39</th>\n      <td>3.1e-18</td>\n      <td>74.3</td>\n      <td>0.3</td>\n      <td>4.6e-18</td>\n      <td>73.7</td>\n      <td>0.3</td>\n      <td>1.2</td>\n      <td>1</td>\n      <td>B1AAP0</td>\n      <td>B1AAP0_DANRE^|^^|^Cited1 isoform a {ECO:0000313|E</td>\n    </tr>\n    <tr>\n      <th>40</th>\n      <td>3.4e-18</td>\n      <td>74.1</td>\n      <td>0.3</td>\n      <td>5.2e-18</td>\n      <td>73.6</td>\n      <td>0.3</td>\n      <td>1.2</td>\n      <td>1</td>\n      <td>F1QI18</td>\n      <td>F1QI18_DANRE^|^^|^Cbp/p300-interacting transactiv</td>\n    </tr>\n    <tr>\n      <th>41</th>\n      <td>3.5e-18</td>\n      <td>74.1</td>\n      <td>0.3</td>\n      <td>6e-18</td>\n      <td>73.4</td>\n      <td>0.3</td>\n      <td>1.4</td>\n      <td>1</td>\n      <td>H3AZK9</td>\n      <td>H3AZK9_LATCH^|^^|^Uncharacterized protein {ECO:00</td>\n    </tr>\n    <tr>\n      <th>42</th>\n      <td>2.1e-17</td>\n      <td>71.6</td>\n      <td>1.5</td>\n      <td>3.2e-17</td>\n      <td>71.0</td>\n      <td>1.5</td>\n      <td>1.2</td>\n      <td>1</td>\n      <td>H3ASX6</td>\n      <td>H3ASX6_LATCH^|^^|^Cbp/p300 interacting transactiv</td>\n    </tr>\n    <tr>\n      <th>43</th>\n      <td>5.8e-17</td>\n      <td>70.2</td>\n      <td>0.1</td>\n      <td>1.1e-16</td>\n      <td>69.3</td>\n      <td>0.1</td>\n      <td>1.4</td>\n      <td>1</td>\n      <td>A0A8J4UB31</td>\n      <td>A0A8J4UB31_CLAMG^|^^|^40S ribosomal protein S4, X</td>\n    </tr>\n    <tr>\n      <th>44</th>\n      <td>2.1e-13</td>\n      <td>58.8</td>\n      <td>0.2</td>\n      <td>3e-13</td>\n      <td>58.3</td>\n      <td>0.2</td>\n      <td>1.2</td>\n      <td>1</td>\n      <td>A0A8C4QB40</td>\n      <td>A0A8C4QB40_EPTBU^|^^|^Uncharacterized protein {EC</td>\n    </tr>\n    <tr>\n      <th>45</th>\n      <td>2.9e-10</td>\n      <td>48.7</td>\n      <td>0.0</td>\n      <td>4.1e-10</td>\n      <td>48.3</td>\n      <td>0.0</td>\n      <td>1.1</td>\n      <td>1</td>\n      <td>Q9WUL8</td>\n      <td>CITE4_MOUSE^|^^|^Cbp/p300-interacting transactiva</td>\n    </tr>\n    <tr>\n      <th>46</th>\n      <td>5.4e-10</td>\n      <td>47.9</td>\n      <td>0.3</td>\n      <td>1.2e-09</td>\n      <td>46.8</td>\n      <td>0.3</td>\n      <td>1.6</td>\n      <td>1</td>\n      <td>A0A6P5AXY3</td>\n      <td>A0A6P5AXY3_BRABE^|^^|^cbp/p300-interacting transa</td>\n    </tr>\n    <tr>\n      <th>47</th>\n      <td>7.7e-10</td>\n      <td>47.4</td>\n      <td>0.0</td>\n      <td>1.1e-09</td>\n      <td>46.9</td>\n      <td>0.0</td>\n      <td>1.2</td>\n      <td>1</td>\n      <td>Q99MA0</td>\n      <td>CITE4_RAT^|^^|^Cbp/p300-interacting transactivato</td>\n    </tr>\n    <tr>\n      <th>48</th>\n      <td>8.1e-10</td>\n      <td>47.3</td>\n      <td>0.0</td>\n      <td>1.2e-09</td>\n      <td>46.8</td>\n      <td>0.0</td>\n      <td>1.2</td>\n      <td>1</td>\n      <td>Q96RK1</td>\n      <td>CITE4_HUMAN^|^^|^Cbp/p300-interacting transactiva</td>\n    </tr>\n    <tr>\n      <th>49</th>\n      <td>0.00026</td>\n      <td>29.7</td>\n      <td>6.7</td>\n      <td>0.0039</td>\n      <td>25.9</td>\n      <td>6.7</td>\n      <td>2.2</td>\n      <td>1</td>\n      <td>A0A8I5ZVC9</td>\n      <td>A0A8I5ZVC9_RAT^|^^|^Uncharacterized protein {ECO:</td>\n    </tr>\n    <tr>\n      <th>50</th>\n      <td>0.00026</td>\n      <td>29.7</td>\n      <td>6.7</td>\n      <td>0.004</td>\n      <td>25.9</td>\n      <td>6.7</td>\n      <td>2.2</td>\n      <td>1</td>\n      <td>A0A8I6GGY6</td>\n      <td>A0A8I6GGY6_RAT^|^^|^Uncharacterized protein {ECO:</td>\n    </tr>\n    <tr>\n      <th>51</th>\n      <td>0.00039</td>\n      <td>29.1</td>\n      <td>4.1</td>\n      <td>1.7e+03</td>\n      <td>7.9</td>\n      <td>0.0</td>\n      <td>5.7</td>\n      <td>5</td>\n      <td>A0A7J7B172</td>\n      <td>A0A7J7B172_9COLE^|^^|^Uncharacterized protein {EC</td>\n    </tr>\n    <tr>\n      <th>52</th>\n      <td>0.0024</td>\n      <td>26.6</td>\n      <td>3.4</td>\n      <td>1.4e+02</td>\n      <td>11.4</td>\n      <td>0.0</td>\n      <td>4.1</td>\n      <td>4</td>\n      <td>A0A0B4S2Z9</td>\n      <td>A0A0B4S2Z9_9FIRM^|^^|^Uncharacterized protein {EC</td>\n    </tr>\n  </tbody>\n</table>\n</div>"
     },
     "execution_count": 158,
     "metadata": {},
     "output_type": "execute_result"
    }
   ],
   "source": [
    "stats_rp_15 = process_hmmsearch_file(f\"{local_path}/results/disordered/hmmsearch/hmmsearch_rp_15_{q_id}_{i}.txt\")\n",
    "stats_rp_15"
   ]
  },
  {
   "cell_type": "code",
   "execution_count": 159,
   "metadata": {
    "ExecuteTime": {
     "end_time": "2023-06-23T14:39:42.828241Z",
     "start_time": "2023-06-23T14:39:42.786592Z"
    }
   },
   "outputs": [
    {
     "name": "stdout",
     "output_type": "stream",
     "text": [
      "The total number of Reference Proteome hits: 1222, the number of unique sequences: 1222\n"
     ]
    },
    {
     "data": {
      "text/plain": "      E-value  score bias  E-value  score bias  exp  N    Sequence  \\\n0     5.3e-36  134.1  1.3    7e-36  133.8  1.3  1.2  1  A0A6I9Z8Z6   \n1     7.4e-36  133.7  1.3  9.8e-36  133.3  1.3  1.2  1      M7BZC1   \n2     7.6e-36  133.6  1.3  1.1e-35  133.1  1.3  1.3  1  A0A091NMC4   \n3     9.6e-36  133.3  1.3  1.7e-35  132.5  1.3  1.4  1      R0JZ77   \n4       1e-35  133.2  1.3  1.4e-35  132.8  1.3  1.2  1  A0A093GA40   \n...       ...    ...  ...      ...    ...  ...  ... ..         ...   \n1217   0.0033   29.1  4.1  1.5e+04    7.9  0.0  5.7  5  A0A7J7B172   \n1218    0.005   28.6  4.9  2.3e+04    7.2  0.0  5.8  6  A0A4Z1NCC9   \n1219   0.0058   28.4  0.0   0.0079   27.9  0.0  1.2  1  A0A852E0F6   \n1220   0.0058   28.4  0.0   0.0079   27.9  0.0  1.2  1  A0A851L126   \n1221   0.0081   27.9  0.0    0.015   27.1  0.0  1.4  1      L8Y433   \n\n                                            Description  \n0     A0A6I9Z8Z6_GEOFO^|^^|^cbp/p300-interacting transa  \n1     M7BZC1_CHEMY^|^^|^Uncharacterized protein {ECO:00  \n2     A0A091NMC4_APAVI^|^^|^Cbp/p300-interacting transa  \n3     R0JZ77_ANAPL^|^^|^Cbp/p300-interacting transactiv  \n4     A0A093GA40_DRYPU^|^^|^Cbp/p300-interacting transa  \n...                                                 ...  \n1217  A0A7J7B172_9COLE^|^^|^Uncharacterized protein {EC  \n1218  A0A4Z1NCC9_9PEZI^|^^|^Phosphoesterase superfamily  \n1219  A0A852E0F6_VIDMA^|^^|^CITE1 protein {ECO:0000313|  \n1220  A0A851L126_VIDCH^|^^|^CITE1 protein {ECO:0000313|  \n1221  L8Y433_TUPCH^|^^|^40S ribosomal protein S4 {ECO:0  \n\n[1222 rows x 10 columns]",
      "text/html": "<div>\n<style scoped>\n    .dataframe tbody tr th:only-of-type {\n        vertical-align: middle;\n    }\n\n    .dataframe tbody tr th {\n        vertical-align: top;\n    }\n\n    .dataframe thead th {\n        text-align: right;\n    }\n</style>\n<table border=\"1\" class=\"dataframe\">\n  <thead>\n    <tr style=\"text-align: right;\">\n      <th></th>\n      <th>E-value</th>\n      <th>score</th>\n      <th>bias</th>\n      <th>E-value</th>\n      <th>score</th>\n      <th>bias</th>\n      <th>exp</th>\n      <th>N</th>\n      <th>Sequence</th>\n      <th>Description</th>\n    </tr>\n  </thead>\n  <tbody>\n    <tr>\n      <th>0</th>\n      <td>5.3e-36</td>\n      <td>134.1</td>\n      <td>1.3</td>\n      <td>7e-36</td>\n      <td>133.8</td>\n      <td>1.3</td>\n      <td>1.2</td>\n      <td>1</td>\n      <td>A0A6I9Z8Z6</td>\n      <td>A0A6I9Z8Z6_GEOFO^|^^|^cbp/p300-interacting transa</td>\n    </tr>\n    <tr>\n      <th>1</th>\n      <td>7.4e-36</td>\n      <td>133.7</td>\n      <td>1.3</td>\n      <td>9.8e-36</td>\n      <td>133.3</td>\n      <td>1.3</td>\n      <td>1.2</td>\n      <td>1</td>\n      <td>M7BZC1</td>\n      <td>M7BZC1_CHEMY^|^^|^Uncharacterized protein {ECO:00</td>\n    </tr>\n    <tr>\n      <th>2</th>\n      <td>7.6e-36</td>\n      <td>133.6</td>\n      <td>1.3</td>\n      <td>1.1e-35</td>\n      <td>133.1</td>\n      <td>1.3</td>\n      <td>1.3</td>\n      <td>1</td>\n      <td>A0A091NMC4</td>\n      <td>A0A091NMC4_APAVI^|^^|^Cbp/p300-interacting transa</td>\n    </tr>\n    <tr>\n      <th>3</th>\n      <td>9.6e-36</td>\n      <td>133.3</td>\n      <td>1.3</td>\n      <td>1.7e-35</td>\n      <td>132.5</td>\n      <td>1.3</td>\n      <td>1.4</td>\n      <td>1</td>\n      <td>R0JZ77</td>\n      <td>R0JZ77_ANAPL^|^^|^Cbp/p300-interacting transactiv</td>\n    </tr>\n    <tr>\n      <th>4</th>\n      <td>1e-35</td>\n      <td>133.2</td>\n      <td>1.3</td>\n      <td>1.4e-35</td>\n      <td>132.8</td>\n      <td>1.3</td>\n      <td>1.2</td>\n      <td>1</td>\n      <td>A0A093GA40</td>\n      <td>A0A093GA40_DRYPU^|^^|^Cbp/p300-interacting transa</td>\n    </tr>\n    <tr>\n      <th>...</th>\n      <td>...</td>\n      <td>...</td>\n      <td>...</td>\n      <td>...</td>\n      <td>...</td>\n      <td>...</td>\n      <td>...</td>\n      <td>...</td>\n      <td>...</td>\n      <td>...</td>\n    </tr>\n    <tr>\n      <th>1217</th>\n      <td>0.0033</td>\n      <td>29.1</td>\n      <td>4.1</td>\n      <td>1.5e+04</td>\n      <td>7.9</td>\n      <td>0.0</td>\n      <td>5.7</td>\n      <td>5</td>\n      <td>A0A7J7B172</td>\n      <td>A0A7J7B172_9COLE^|^^|^Uncharacterized protein {EC</td>\n    </tr>\n    <tr>\n      <th>1218</th>\n      <td>0.005</td>\n      <td>28.6</td>\n      <td>4.9</td>\n      <td>2.3e+04</td>\n      <td>7.2</td>\n      <td>0.0</td>\n      <td>5.8</td>\n      <td>6</td>\n      <td>A0A4Z1NCC9</td>\n      <td>A0A4Z1NCC9_9PEZI^|^^|^Phosphoesterase superfamily</td>\n    </tr>\n    <tr>\n      <th>1219</th>\n      <td>0.0058</td>\n      <td>28.4</td>\n      <td>0.0</td>\n      <td>0.0079</td>\n      <td>27.9</td>\n      <td>0.0</td>\n      <td>1.2</td>\n      <td>1</td>\n      <td>A0A852E0F6</td>\n      <td>A0A852E0F6_VIDMA^|^^|^CITE1 protein {ECO:0000313|</td>\n    </tr>\n    <tr>\n      <th>1220</th>\n      <td>0.0058</td>\n      <td>28.4</td>\n      <td>0.0</td>\n      <td>0.0079</td>\n      <td>27.9</td>\n      <td>0.0</td>\n      <td>1.2</td>\n      <td>1</td>\n      <td>A0A851L126</td>\n      <td>A0A851L126_VIDCH^|^^|^CITE1 protein {ECO:0000313|</td>\n    </tr>\n    <tr>\n      <th>1221</th>\n      <td>0.0081</td>\n      <td>27.9</td>\n      <td>0.0</td>\n      <td>0.015</td>\n      <td>27.1</td>\n      <td>0.0</td>\n      <td>1.4</td>\n      <td>1</td>\n      <td>L8Y433</td>\n      <td>L8Y433_TUPCH^|^^|^40S ribosomal protein S4 {ECO:0</td>\n    </tr>\n  </tbody>\n</table>\n<p>1222 rows × 10 columns</p>\n</div>"
     },
     "execution_count": 159,
     "metadata": {},
     "output_type": "execute_result"
    }
   ],
   "source": [
    "stats_rp_75 = process_hmmsearch_file(f\"{local_path}/results/disordered/hmmsearch/hmmsearch_rp_75_{q_id}_{i}.txt\")\n",
    "stats_rp_75"
   ]
  },
  {
   "cell_type": "code",
   "execution_count": 160,
   "metadata": {
    "ExecuteTime": {
     "end_time": "2023-06-23T14:39:43.762462Z",
     "start_time": "2023-06-23T14:39:43.749351Z"
    }
   },
   "outputs": [],
   "source": [
    "# # Retrieve a query sequence\n",
    "# query_sequence = get_fasta(q_id)\n",
    "# query_lines = query_sequence.split(\"\\n\")\n",
    "# query_sequence = \"\".join(query_lines[1:])\n",
    "# query_sequence"
   ]
  },
  {
   "cell_type": "code",
   "execution_count": 161,
   "metadata": {
    "ExecuteTime": {
     "end_time": "2023-06-23T14:39:44.296009Z",
     "start_time": "2023-06-23T14:39:44.289902Z"
    }
   },
   "outputs": [],
   "source": [
    "# # Retrieve the unaligned sequence from the local machine\n",
    "# rpalign = f'{local_path}results/alignments/fasta/{q_id}_rpalign.fasta'\n",
    "#\n",
    "# with open(rpalign, 'w') as fout:\n",
    "#     # Write the query sequence to the output file as the first line\n",
    "#     fout.write(\">{}\\n{}\\n\".format(q_id, query_sequence))\n",
    "#\n",
    "#     for index, row in stats_rp_15.iterrows():\n",
    "#         accession = row['Sequence']\n",
    "#         sequence = get_fasta(accession)\n",
    "#         if q_id == accession: # remove duplicates\n",
    "#             continue\n",
    "#         fout.write(sequence)"
   ]
  },
  {
   "cell_type": "markdown",
   "metadata": {},
   "source": [
    "## 2. HHblits\n",
    "\n",
    "HHblits is used for profile-profile sequence alignment. It compares a profile against a target sequence database to find homologous sequences."
   ]
  },
  {
   "cell_type": "code",
   "execution_count": 162,
   "metadata": {
    "ExecuteTime": {
     "end_time": "2023-06-23T14:39:48.759491Z",
     "start_time": "2023-06-23T14:39:47.734688Z"
    }
   },
   "outputs": [
    {
     "name": "stdout",
     "output_type": "stream",
     "text": [
      "Q99967_1.fasta                                100%   12KB   3.0MB/s   00:00    \r\n"
     ]
    }
   ],
   "source": [
    "!scp {align_file} alina@echidna:~/{q_id}_{i}.fasta"
   ]
  },
  {
   "cell_type": "code",
   "execution_count": 163,
   "metadata": {
    "ExecuteTime": {
     "end_time": "2023-06-23T14:39:53.285825Z",
     "start_time": "2023-06-23T14:39:49.421017Z"
    }
   },
   "outputs": [
    {
     "name": "stdout",
     "output_type": "stream",
     "text": [
      "- 16:39:50.453 INFO: Searching 19632 column state sequences.\r\n",
      "\r\n",
      "- 16:39:50.563 INFO: Q99967_1.fasta is in A2M, A3M or FASTA format\r\n",
      "\r\n",
      "- 16:39:50.564 INFO: Iteration 1\r\n",
      "\r\n",
      "- 16:39:50.622 INFO: Prefiltering database\r\n",
      "\r\n",
      "- 16:39:50.699 INFO: HMMs passed 1st prefilter (gapless profile-profile alignment)  : 100\r\n",
      "\r\n",
      "- 16:39:50.700 INFO: HMMs passed 2nd prefilter (gapped profile-profile alignment)   : 100\r\n",
      "\r\n",
      "- 16:39:50.700 INFO: HMMs passed 2nd prefilter and not found in previous iterations : 100\r\n",
      "\r\n",
      "- 16:39:50.700 INFO: Scoring 100 HMMs using HMM-HMM Viterbi alignment\r\n",
      "\r\n",
      "- 16:39:50.756 INFO: Alternative alignment: 0\r\n",
      "\r\n",
      "- 16:39:52.039 INFO: 100 alignments done\r\n",
      "\r\n",
      "- 16:39:52.039 INFO: Alternative alignment: 1\r\n",
      "\r\n",
      "- 16:39:52.046 INFO: 10 alignments done\r\n",
      "\r\n",
      "- 16:39:52.046 INFO: Alternative alignment: 2\r\n",
      "\r\n",
      "- 16:39:52.046 INFO: Alternative alignment: 3\r\n",
      "\r\n",
      "- 16:39:52.074 INFO: Realigning 10 HMM-HMM alignments using Maximum Accuracy algorithm\r\n",
      "\r\n",
      "- 16:39:52.137 INFO: 1 sequences belonging to 1 database HMMs found with an E-value < 0.001\r\n",
      "\r\n",
      "- 16:39:52.137 INFO: Number of effective sequences of resulting query HMM: Neff = 4.05724\r\n",
      "\r\n",
      "- 16:39:52.141 INFO: Iteration 2\r\n",
      "\r\n",
      "- 16:39:52.194 INFO: Prefiltering database\r\n",
      "\r\n",
      "- 16:39:52.287 INFO: HMMs passed 1st prefilter (gapless profile-profile alignment)  : 100\r\n",
      "\r\n",
      "- 16:39:52.289 INFO: HMMs passed 2nd prefilter (gapped profile-profile alignment)   : 100\r\n",
      "\r\n",
      "- 16:39:52.289 INFO: HMMs passed 2nd prefilter and not found in previous iterations : 99\r\n",
      "\r\n",
      "- 16:39:52.289 INFO: Scoring 99 HMMs using HMM-HMM Viterbi alignment\r\n",
      "\r\n",
      "- 16:39:52.320 INFO: Alternative alignment: 0\r\n",
      "\r\n",
      "- 16:39:52.980 INFO: 99 alignments done\r\n",
      "\r\n",
      "- 16:39:52.981 INFO: Stop after DB-HHM: 99 because early stop  0.667071 < filter cutoff 0.99\r\n",
      "\r\n",
      "- 16:39:52.981 INFO: Alternative alignment: 1\r\n",
      "\r\n",
      "- 16:39:52.982 INFO: 1 alignments done\r\n",
      "\r\n",
      "- 16:39:52.982 INFO: Alternative alignment: 2\r\n",
      "\r\n",
      "- 16:39:52.982 INFO: Alternative alignment: 3\r\n",
      "\r\n",
      "- 16:39:53.010 INFO: Rescoring previously found HMMs with Viterbi algorithm\r\n",
      "\r\n",
      "- 16:39:53.048 INFO: Alternative alignment: 0\r\n",
      "\r\n",
      "- 16:39:53.079 INFO: 1 alignments done\r\n",
      "\r\n",
      "- 16:39:53.079 INFO: Alternative alignment: 1\r\n",
      "\r\n",
      "- 16:39:53.111 INFO: 1 alignments done\r\n",
      "\r\n",
      "- 16:39:53.111 INFO: Alternative alignment: 2\r\n",
      "\r\n",
      "- 16:39:53.111 INFO: Alternative alignment: 3\r\n",
      "\r\n",
      "- 16:39:53.138 INFO: Realigning 10 HMM-HMM alignments using Maximum Accuracy algorithm\r\n",
      "\r\n",
      "- 16:39:53.161 INFO: 1 sequences belonging to 1 database HMMs found with an E-value < 0.001\r\n",
      "\r\n",
      "Query         Q99967\r\n",
      "Match_columns 50\r\n",
      "No_of_seqs    68 out of 403\r\n",
      "Neff          4.05724\r\n",
      "Searched_HMMs 173\r\n",
      "Date          Fri Jun 23 16:39:53 2023\r\n",
      "Command       /software/packages/hhsuite/hhsuite-3.0-beta.3-Linux/bin/hhblits -i Q99967_1.fasta -o hhblits_rp_15_Q99967_1.txt -d /db/hhblits/pfamA_35.0/pfam \r\n",
      "\r\n",
      " No Hit                             Prob E-value P-value  Score    SS Cols Query HMM  Template HMM\r\n",
      "  1 PF04487.15 ; CITED ; CITED      99.8 4.4E-24 8.4E-28  139.2   0.0   44    1-44    156-199 (201)\r\n",
      "  2 PF07059.15 ; EDR2_C ; Protein   20.8     4.7  0.0011   21.6   0.0   28    9-36    209-240 (242)\r\n",
      "  3 PF08155.14 ; NOGCT ; NOGCT (NU  19.2     5.7  0.0012   17.0   0.0   17   21-37     34-50  (54)\r\n",
      "  4 PF08587.14 ; UBA_2 ; Ubiquitin  10.5      14  0.0029   15.2   0.0   24    4-27      1-24  (50)\r\n",
      "  5 PF12054.11 ; DUF3535 ; Domain    6.4      25  0.0058   19.5   0.0   23    6-28    409-431 (433)\r\n",
      "  6 PF10415.12 ; FumaraseC_C ; Fum   5.2      31  0.0075   12.3   0.0   19   10-28      3-21  (54)\r\n",
      "  7 PF15364.9 ; PAXIP1_C ; PAXIP1-   5.2      36  0.0076   16.8   0.0   11   31-41     92-102 (141)\r\n",
      "  8 PF14377.9 ; UBM ; Ubiquitin bi   4.0      47    0.01   11.7   0.0   13    4-16      9-21  (35)\r\n",
      "  9 PF11504.11 ; Colicin_Ia ; Coli   4.0      62    0.01   15.2   0.0   18   29-46     55-72  (72)\r\n",
      " 10 PF06994.14 ; Involucrin2 ; Inv   3.9      61   0.011   13.6   0.0    6   25-30     33-38  (39)\r\n",
      "\r\n"
     ]
    }
   ],
   "source": [
    "# HHblits against Pfam\n",
    "!ssh alina@echidna \"/software/packages/hhsuite/hhsuite-3.0-beta.3-Linux/bin/hhblits -i {q_id}_{i}.fasta -o hhblits_rp_15_{q_id}_{i}.txt -d /db/hhblits/pfamA_35.0/pfam\"\n",
    "\n",
    "# 1. Pfam HMM / RP (both are already prepared files) - or just download Interpro and skip this step\n",
    "# 2. Compare results (overlap) - or with Interpro (extract the rows by Uniprot ID and only after that filter by Pfam ID)"
   ]
  },
  {
   "cell_type": "code",
   "execution_count": 164,
   "outputs": [
    {
     "name": "stdout",
     "output_type": "stream",
     "text": [
      "hhblits_rp_15_Q99967_1.txt                    100% 6717     1.9MB/s   00:00    \r\n"
     ]
    }
   ],
   "source": [
    "# Copy results to the local folder\n",
    "!scp alina@echidna:~/hhblits_rp_15_{q_id}_{i}.txt {local_path}/results/disordered/hhblits/"
   ],
   "metadata": {
    "collapsed": false,
    "ExecuteTime": {
     "end_time": "2023-06-23T14:39:55.306620Z",
     "start_time": "2023-06-23T14:39:54.294128Z"
    }
   }
  },
  {
   "cell_type": "markdown",
   "metadata": {},
   "source": [
    "- `Hit`: contains information about Pfam identifier (starts with PF...), the abbreviated and full name of the domain.\n",
    "- `Prob`: the probability of the match between the query sequence and the template sequence.\n",
    "- `E-value`: the expected number of false positive matches that could occur by chance.\n",
    "- `P-value`: the probability of obtaining a match with a score as good as or better than the observed score purely by chance.\n",
    "Similar as `E-value`, the lower `P-value` indicate more significant matches.\n",
    "- `Score`: the quality of the alignment between the query and template sequences.\n",
    "- `SS (Secondary Structure)`: the predicted secondary structure of the aligned residues in the template sequence.\n",
    "- `Cols`: the number of aligned columns or residues in the alignment between the query and template sequences.\n",
    "- `Query HMM`: indicates position matches within HMM profile (input).\n",
    "- `Template HMM`: indicates position matches within HMM profile (database).\n",
    "Usually the length of template HMM is bigger than the length of query HMM."
   ]
  },
  {
   "cell_type": "code",
   "execution_count": 165,
   "metadata": {
    "ExecuteTime": {
     "end_time": "2023-06-23T14:39:57.777876Z",
     "start_time": "2023-06-23T14:39:57.753446Z"
    }
   },
   "outputs": [
    {
     "name": "stdout",
     "output_type": "stream",
     "text": [
      "The total number of HHblits hits on Pfam: 10, the number of unique domains: 10\n"
     ]
    },
    {
     "data": {
      "text/plain": "   No         Hit     Prob  E-value P-value Score   SS   Cols Query HMM  \\\n0   1  PF04487.15  4.4E-24  8.4E-28   139.2   0.0   44   1-44   156-199   \n1   2  PF07059.15      4.7   0.0011    21.6   0.0   28   9-36   209-240   \n2   3  PF08155.14     19.2      5.7  0.0012  17.0  0.0     17     21-37   \n3   4  PF08587.14       14   0.0029    15.2   0.0   24   4-27      1-24   \n4   5  PF12054.11       25   0.0058    19.5   0.0   23   6-28   409-431   \n5   6  PF10415.12       31   0.0075    12.3   0.0   19  10-28      3-21   \n6   7   PF15364.9       36   0.0076    16.8   0.0   11  31-41    92-102   \n7   8   PF14377.9      4.0       47    0.01  11.7  0.0     13      4-16   \n8   9  PF11504.11       62     0.01    15.2   0.0   18  29-46     55-72   \n9  10  PF06994.14       61    0.011    13.6   0.0    6  25-30     33-38   \n\n  Template HMM         Name  \n0        (201)        CITED  \n1        (242)       EDR2_C  \n2   34-50 (54)        NOGCT  \n3         (50)        UBA_2  \n4        (433)      DUF3535  \n5         (54)  FumaraseC_C  \n6        (141)     PAXIP1_C  \n7    9-21 (35)          UBM  \n8         (72)   Colicin_Ia  \n9         (39)  Involucrin2  ",
      "text/html": "<div>\n<style scoped>\n    .dataframe tbody tr th:only-of-type {\n        vertical-align: middle;\n    }\n\n    .dataframe tbody tr th {\n        vertical-align: top;\n    }\n\n    .dataframe thead th {\n        text-align: right;\n    }\n</style>\n<table border=\"1\" class=\"dataframe\">\n  <thead>\n    <tr style=\"text-align: right;\">\n      <th></th>\n      <th>No</th>\n      <th>Hit</th>\n      <th>Prob</th>\n      <th>E-value</th>\n      <th>P-value</th>\n      <th>Score</th>\n      <th>SS</th>\n      <th>Cols</th>\n      <th>Query HMM</th>\n      <th>Template HMM</th>\n      <th>Name</th>\n    </tr>\n  </thead>\n  <tbody>\n    <tr>\n      <th>0</th>\n      <td>1</td>\n      <td>PF04487.15</td>\n      <td>4.4E-24</td>\n      <td>8.4E-28</td>\n      <td>139.2</td>\n      <td>0.0</td>\n      <td>44</td>\n      <td>1-44</td>\n      <td>156-199</td>\n      <td>(201)</td>\n      <td>CITED</td>\n    </tr>\n    <tr>\n      <th>1</th>\n      <td>2</td>\n      <td>PF07059.15</td>\n      <td>4.7</td>\n      <td>0.0011</td>\n      <td>21.6</td>\n      <td>0.0</td>\n      <td>28</td>\n      <td>9-36</td>\n      <td>209-240</td>\n      <td>(242)</td>\n      <td>EDR2_C</td>\n    </tr>\n    <tr>\n      <th>2</th>\n      <td>3</td>\n      <td>PF08155.14</td>\n      <td>19.2</td>\n      <td>5.7</td>\n      <td>0.0012</td>\n      <td>17.0</td>\n      <td>0.0</td>\n      <td>17</td>\n      <td>21-37</td>\n      <td>34-50 (54)</td>\n      <td>NOGCT</td>\n    </tr>\n    <tr>\n      <th>3</th>\n      <td>4</td>\n      <td>PF08587.14</td>\n      <td>14</td>\n      <td>0.0029</td>\n      <td>15.2</td>\n      <td>0.0</td>\n      <td>24</td>\n      <td>4-27</td>\n      <td>1-24</td>\n      <td>(50)</td>\n      <td>UBA_2</td>\n    </tr>\n    <tr>\n      <th>4</th>\n      <td>5</td>\n      <td>PF12054.11</td>\n      <td>25</td>\n      <td>0.0058</td>\n      <td>19.5</td>\n      <td>0.0</td>\n      <td>23</td>\n      <td>6-28</td>\n      <td>409-431</td>\n      <td>(433)</td>\n      <td>DUF3535</td>\n    </tr>\n    <tr>\n      <th>5</th>\n      <td>6</td>\n      <td>PF10415.12</td>\n      <td>31</td>\n      <td>0.0075</td>\n      <td>12.3</td>\n      <td>0.0</td>\n      <td>19</td>\n      <td>10-28</td>\n      <td>3-21</td>\n      <td>(54)</td>\n      <td>FumaraseC_C</td>\n    </tr>\n    <tr>\n      <th>6</th>\n      <td>7</td>\n      <td>PF15364.9</td>\n      <td>36</td>\n      <td>0.0076</td>\n      <td>16.8</td>\n      <td>0.0</td>\n      <td>11</td>\n      <td>31-41</td>\n      <td>92-102</td>\n      <td>(141)</td>\n      <td>PAXIP1_C</td>\n    </tr>\n    <tr>\n      <th>7</th>\n      <td>8</td>\n      <td>PF14377.9</td>\n      <td>4.0</td>\n      <td>47</td>\n      <td>0.01</td>\n      <td>11.7</td>\n      <td>0.0</td>\n      <td>13</td>\n      <td>4-16</td>\n      <td>9-21 (35)</td>\n      <td>UBM</td>\n    </tr>\n    <tr>\n      <th>8</th>\n      <td>9</td>\n      <td>PF11504.11</td>\n      <td>62</td>\n      <td>0.01</td>\n      <td>15.2</td>\n      <td>0.0</td>\n      <td>18</td>\n      <td>29-46</td>\n      <td>55-72</td>\n      <td>(72)</td>\n      <td>Colicin_Ia</td>\n    </tr>\n    <tr>\n      <th>9</th>\n      <td>10</td>\n      <td>PF06994.14</td>\n      <td>61</td>\n      <td>0.011</td>\n      <td>13.6</td>\n      <td>0.0</td>\n      <td>6</td>\n      <td>25-30</td>\n      <td>33-38</td>\n      <td>(39)</td>\n      <td>Involucrin2</td>\n    </tr>\n  </tbody>\n</table>\n</div>"
     },
     "execution_count": 165,
     "metadata": {},
     "output_type": "execute_result"
    }
   ],
   "source": [
    "with open(f'{local_path}/results/disordered/hhblits/hhblits_rp_15_{q_id}_{i}.txt', 'r') as file:\n",
    "    lines = file.readlines()\n",
    "\n",
    "# Extract the column names\n",
    "column_names = lines[8].split()[:-4] + ['Query HMM', 'Template HMM']\n",
    "\n",
    "# Extract the data rows\n",
    "data_rows = [line.split() for line in lines[9:19]] \n",
    "data_rows = [[row[0]] + [' '.join(row[1:4])] + row[7:14] + [' '.join(row[14:16])] \n",
    "             for row in data_rows]\n",
    "\n",
    "# Create the DataFrame\n",
    "hhblits_stats = pd.DataFrame(data_rows, columns=column_names)\n",
    "hhblits_stats[[\"Hit\", \"Name\"]] = hhblits_stats[\"Hit\"].str.split(\" ; \", expand=True)\n",
    "print(f\"The total number of HHblits hits on Pfam: {len(hhblits_stats)}, the number of unique domains: {hhblits_stats.Hit.nunique()}\")\n",
    "hhblits_stats"
   ]
  },
  {
   "cell_type": "code",
   "execution_count": 536,
   "metadata": {
    "ExecuteTime": {
     "end_time": "2023-05-29T15:28:49.862543Z",
     "start_time": "2023-05-29T15:28:49.860819Z"
    }
   },
   "outputs": [],
   "source": []
  }
 ],
 "metadata": {
  "kernelspec": {
   "display_name": "Python 3 (ipykernel)",
   "language": "python",
   "name": "python3"
  },
  "language_info": {
   "codemirror_mode": {
    "name": "ipython",
    "version": 3
   },
   "file_extension": ".py",
   "mimetype": "text/x-python",
   "name": "python",
   "nbconvert_exporter": "python",
   "pygments_lexer": "ipython3",
   "version": "3.9.12"
  }
 },
 "nbformat": 4,
 "nbformat_minor": 1
}
