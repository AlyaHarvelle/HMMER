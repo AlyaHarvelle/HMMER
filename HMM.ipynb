{
 "cells": [
  {
   "cell_type": "markdown",
   "metadata": {
    "ExecuteTime": {
     "end_time": "2023-05-23T07:50:02.095781Z",
     "start_time": "2023-05-23T07:50:00.613949Z"
    }
   },
   "source": [
    "# HMM build and analysis\n",
    "\n",
    "Here we will construct and analyze HMM models using MSA as the input data. We will utilize several databases as sources to enhance our analysis and gain valuable insights from the generated HMM profiles.\n",
    "\n",
    "## Load the data\n",
    "\n",
    "We are working only with the disordered regions, thus we should keep only the related information.\n"
   ]
  },
  {
   "cell_type": "code",
   "execution_count": 1,
   "metadata": {
    "ExecuteTime": {
     "end_time": "2023-08-04T11:53:22.871489Z",
     "start_time": "2023-08-04T11:53:21.516681Z"
    }
   },
   "outputs": [],
   "source": [
    "# Importing the libraries and functions\n",
    "from functions import *"
   ]
  },
  {
   "cell_type": "code",
   "execution_count": 2,
   "outputs": [
    {
     "name": "stdout",
     "output_type": "stream",
     "text": [
      "The number of rows containing disordered regions: 2887\n"
     ]
    },
    {
     "data": {
      "text/plain": "  query_id  subject_id  query_len  hsp_len  \\\n0   Q9H832  A0A6J2FM24        354      356   \n1   Q9H832  A0A3Q7W6Y2        354      356   \n2   Q9H832  A0A2U3VK69        354      356   \n3   Q9H832  A0A2Y9JVH5        354      358   \n4   Q9H832  A0A8C7ALE4        354      358   \n\n                                           query_seq  \\\n0  MAESPTEEAATA--GAGAAGPGASSVAGVVGVSGSGGGFGPPFLPD...   \n1  MAESPTEEAATA--GAGAAGPGASSVAGVVGVSGSGGGFGPPFLPD...   \n2  MAESPTEEAATA--GAGAAGPGASSVAGVVGVSGSGGGFGPPFLPD...   \n3  MAESPTEEAATA----GAGAAGPGASSVAGVVGVSGSGGGFGPPFL...   \n4  MAESPTEEAATA----GAGAAGPGASSVAGVVGVSGSGGGFGPPFL...   \n\n                                           match_seq  \\\n0  MAESPTEEAATA  GAGAAGPGAS V GVVGVSGSG  FGPPFLPD...   \n1  MAESPTEEAATA  GAGA GPGAS VAGVVGVSGSG  FGPPFLPD...   \n2  MAESPTEEAATA  GAGAAGPGAS V GVVGVSGSG  FGPPFLPD...   \n3  MAESPTEEAATA    GAGAAGPGAS VAGVVGVSGSG  FGPPFL...   \n4  MAESPTEEAATA    GAGAAGPGAS VAGVVGVSGSG  FGPPFL...   \n\n                                         subject_seq  query_start  query_end  \\\n0  MAESPTEEAATATAGAGAAGPGASGVTGVVGVSGSG--FGPPFLPD...            1        354   \n1  MAESPTEEAATATAGAGATGPGASGVAGVVGVSGSG--FGPPFLPD...            1        354   \n2  MAESPTEEAATATAGAGAAGPGASGVTGVVGVSGSG--FGPPFLPD...            1        354   \n3  MAESPTEEAATATATAGAGAAGPGASGVAGVVGVSGSG--FGPPFL...            1        354   \n4  MAESPTEEAATATATAGAGAAGPGASGVAGVVGVSGSG--FGPPFL...            1        354   \n\n   subject_start  subject_end  identity  positive  gaps  eval  bit_score  \\\n0              1          354       350       350     4   0.0     1851.0   \n1              1          354       350       350     4   0.0     1851.0   \n2              1          354       350       350     4   0.0     1851.0   \n3              1          356       351       351     6   0.0     1854.0   \n4              1          356       351       351     6   0.0     1854.0   \n\n   count  \n0    200  \n1    200  \n2    200  \n3    200  \n4    200  ",
      "text/html": "<div>\n<style scoped>\n    .dataframe tbody tr th:only-of-type {\n        vertical-align: middle;\n    }\n\n    .dataframe tbody tr th {\n        vertical-align: top;\n    }\n\n    .dataframe thead th {\n        text-align: right;\n    }\n</style>\n<table border=\"1\" class=\"dataframe\">\n  <thead>\n    <tr style=\"text-align: right;\">\n      <th></th>\n      <th>query_id</th>\n      <th>subject_id</th>\n      <th>query_len</th>\n      <th>hsp_len</th>\n      <th>query_seq</th>\n      <th>match_seq</th>\n      <th>subject_seq</th>\n      <th>query_start</th>\n      <th>query_end</th>\n      <th>subject_start</th>\n      <th>subject_end</th>\n      <th>identity</th>\n      <th>positive</th>\n      <th>gaps</th>\n      <th>eval</th>\n      <th>bit_score</th>\n      <th>count</th>\n    </tr>\n  </thead>\n  <tbody>\n    <tr>\n      <th>0</th>\n      <td>Q9H832</td>\n      <td>A0A6J2FM24</td>\n      <td>354</td>\n      <td>356</td>\n      <td>MAESPTEEAATA--GAGAAGPGASSVAGVVGVSGSGGGFGPPFLPD...</td>\n      <td>MAESPTEEAATA  GAGAAGPGAS V GVVGVSGSG  FGPPFLPD...</td>\n      <td>MAESPTEEAATATAGAGAAGPGASGVTGVVGVSGSG--FGPPFLPD...</td>\n      <td>1</td>\n      <td>354</td>\n      <td>1</td>\n      <td>354</td>\n      <td>350</td>\n      <td>350</td>\n      <td>4</td>\n      <td>0.0</td>\n      <td>1851.0</td>\n      <td>200</td>\n    </tr>\n    <tr>\n      <th>1</th>\n      <td>Q9H832</td>\n      <td>A0A3Q7W6Y2</td>\n      <td>354</td>\n      <td>356</td>\n      <td>MAESPTEEAATA--GAGAAGPGASSVAGVVGVSGSGGGFGPPFLPD...</td>\n      <td>MAESPTEEAATA  GAGA GPGAS VAGVVGVSGSG  FGPPFLPD...</td>\n      <td>MAESPTEEAATATAGAGATGPGASGVAGVVGVSGSG--FGPPFLPD...</td>\n      <td>1</td>\n      <td>354</td>\n      <td>1</td>\n      <td>354</td>\n      <td>350</td>\n      <td>350</td>\n      <td>4</td>\n      <td>0.0</td>\n      <td>1851.0</td>\n      <td>200</td>\n    </tr>\n    <tr>\n      <th>2</th>\n      <td>Q9H832</td>\n      <td>A0A2U3VK69</td>\n      <td>354</td>\n      <td>356</td>\n      <td>MAESPTEEAATA--GAGAAGPGASSVAGVVGVSGSGGGFGPPFLPD...</td>\n      <td>MAESPTEEAATA  GAGAAGPGAS V GVVGVSGSG  FGPPFLPD...</td>\n      <td>MAESPTEEAATATAGAGAAGPGASGVTGVVGVSGSG--FGPPFLPD...</td>\n      <td>1</td>\n      <td>354</td>\n      <td>1</td>\n      <td>354</td>\n      <td>350</td>\n      <td>350</td>\n      <td>4</td>\n      <td>0.0</td>\n      <td>1851.0</td>\n      <td>200</td>\n    </tr>\n    <tr>\n      <th>3</th>\n      <td>Q9H832</td>\n      <td>A0A2Y9JVH5</td>\n      <td>354</td>\n      <td>358</td>\n      <td>MAESPTEEAATA----GAGAAGPGASSVAGVVGVSGSGGGFGPPFL...</td>\n      <td>MAESPTEEAATA    GAGAAGPGAS VAGVVGVSGSG  FGPPFL...</td>\n      <td>MAESPTEEAATATATAGAGAAGPGASGVAGVVGVSGSG--FGPPFL...</td>\n      <td>1</td>\n      <td>354</td>\n      <td>1</td>\n      <td>356</td>\n      <td>351</td>\n      <td>351</td>\n      <td>6</td>\n      <td>0.0</td>\n      <td>1854.0</td>\n      <td>200</td>\n    </tr>\n    <tr>\n      <th>4</th>\n      <td>Q9H832</td>\n      <td>A0A8C7ALE4</td>\n      <td>354</td>\n      <td>358</td>\n      <td>MAESPTEEAATA----GAGAAGPGASSVAGVVGVSGSGGGFGPPFL...</td>\n      <td>MAESPTEEAATA    GAGAAGPGAS VAGVVGVSGSG  FGPPFL...</td>\n      <td>MAESPTEEAATATATAGAGAAGPGASGVAGVVGVSGSG--FGPPFL...</td>\n      <td>1</td>\n      <td>354</td>\n      <td>1</td>\n      <td>356</td>\n      <td>351</td>\n      <td>351</td>\n      <td>6</td>\n      <td>0.0</td>\n      <td>1854.0</td>\n      <td>200</td>\n    </tr>\n  </tbody>\n</table>\n</div>"
     },
     "execution_count": 2,
     "metadata": {},
     "output_type": "execute_result"
    }
   ],
   "source": [
    "# Keep only disordered regions in the initial dataframe filtering using curated_disordered dataframe\n",
    "disordered = pd.read_csv(\"disordered_df.csv\")\n",
    "print(f\"The number of rows containing disordered regions: {len(disordered)}\")\n",
    "disordered.head(5)"
   ],
   "metadata": {
    "collapsed": false,
    "ExecuteTime": {
     "end_time": "2023-08-04T11:53:22.930875Z",
     "start_time": "2023-08-04T11:53:22.873232Z"
    }
   }
  },
  {
   "cell_type": "code",
   "execution_count": 3,
   "metadata": {
    "ExecuteTime": {
     "end_time": "2023-08-04T11:53:56.904190Z",
     "start_time": "2023-08-04T11:53:56.884400Z"
    }
   },
   "outputs": [
    {
     "name": "stdout",
     "output_type": "stream",
     "text": [
      "The number of disordered regions found in the Q86FP8 protein: 1\n"
     ]
    },
    {
     "data": {
      "text/plain": "        acc evidence   feature   source  start  end  length\n894  Q86FP8  curated  disorder  disprot     20   80      61",
      "text/html": "<div>\n<style scoped>\n    .dataframe tbody tr th:only-of-type {\n        vertical-align: middle;\n    }\n\n    .dataframe tbody tr th {\n        vertical-align: top;\n    }\n\n    .dataframe thead th {\n        text-align: right;\n    }\n</style>\n<table border=\"1\" class=\"dataframe\">\n  <thead>\n    <tr style=\"text-align: right;\">\n      <th></th>\n      <th>acc</th>\n      <th>evidence</th>\n      <th>feature</th>\n      <th>source</th>\n      <th>start</th>\n      <th>end</th>\n      <th>length</th>\n    </tr>\n  </thead>\n  <tbody>\n    <tr>\n      <th>894</th>\n      <td>Q86FP8</td>\n      <td>curated</td>\n      <td>disorder</td>\n      <td>disprot</td>\n      <td>20</td>\n      <td>80</td>\n      <td>61</td>\n    </tr>\n  </tbody>\n</table>\n</div>"
     },
     "execution_count": 3,
     "metadata": {},
     "output_type": "execute_result"
    }
   ],
   "source": [
    "# Filter the curated_disprot dataframe on Uniprot query ID\n",
    "%store -r id_dis\n",
    "id = id_dis\n",
    "curated_disprot = pd.read_csv(\"curated_disprot.csv\")\n",
    "curated_query = curated_disprot[curated_disprot['acc'] == id]\n",
    "\n",
    "print(f\"The number of disordered regions found in the {id} protein: {len(curated_query)}\")\n",
    "curated_query.head()"
   ]
  },
  {
   "cell_type": "code",
   "execution_count": 4,
   "outputs": [],
   "source": [
    "# # Select the region and set the paths to HMM and MSA files\n",
    "i = 1 # change the number if there are several regions in a protein\n",
    "# hmm_file = f'{directory}/results/hmms/hmmbuild/{id_dis}_{i}.hmm'\n",
    "# align_file = f'{directory}/results/alignments/output_files/disordered/{id_dis}_{i}.fasta'"
   ],
   "metadata": {
    "collapsed": false,
    "ExecuteTime": {
     "end_time": "2023-08-04T11:53:59.378532Z",
     "start_time": "2023-08-04T11:53:59.360470Z"
    }
   }
  },
  {
   "cell_type": "markdown",
   "metadata": {
    "ExecuteTime": {
     "end_time": "2023-07-12T15:11:40.173969Z",
     "start_time": "2023-07-12T15:11:39.993013Z"
    }
   },
   "source": [
    "## 1. Build HMM\n",
    "We generate HMM model with `hmmbuild` using MSA as an input."
   ],
   "outputs": [
    {
     "name": "stdout",
     "output_type": "stream",
     "text": [
      "# hmmbuild :: profile HMM construction from multiple sequence alignments\r\n",
      "# HMMER 3.3.2 (Nov 2020); http://hmmer.org/\r\n",
      "# Copyright (C) 2020 Howard Hughes Medical Institute.\r\n",
      "# Freely distributed under the BSD open source license.\r\n",
      "# - - - - - - - - - - - - - - - - - - - - - - - - - - - - - - - - - - - -\r\n",
      "# input alignment file:             /Users/alina/HMM/results/alignments/output_files/disordered/Q8K4J6_2.fasta\r\n",
      "# output HMM file:                  /Users/alina/HMM/results/disordered/hmmbuild/Q8K4J6_2.hmm\r\n",
      "# - - - - - - - - - - - - - - - - - - - - - - - - - - - - - - - - - - - -\r\n",
      "\r\n",
      "# idx name                  nseq  alen  mlen eff_nseq re/pos description\r\n",
      "#---- -------------------- ----- ----- ----- -------- ------ -----------\r\n",
      "1     Q8K4J6_2               201    32    32     1.33  1.686 \r\n",
      "\r\n",
      "# CPU time: 0.02u 0.00s 00:00:00.02 Elapsed: 00:00:00.02\r\n"
     ]
    }
   ],
   "execution_count": 221
  },
  {
   "cell_type": "markdown",
   "metadata": {
    "ExecuteTime": {
     "end_time": "2023-07-12T15:11:40.550153Z",
     "start_time": "2023-07-12T15:11:40.547321Z"
    }
   },
   "source": [
    "## 2. HMMsearch\n",
    "\n",
    "After building the model, our objective is to assess if overlaps with the profiles in Reference Proteome 15% exist and to enrich the model by utilizing this database. We generate dataframes containing the most significant sequences, with a default E-value threshold of 0.01."
   ],
   "outputs": [],
   "execution_count": 222
  },
  {
   "cell_type": "markdown",
   "source": [
    "### Analysis of a single query ID: overlap between HMMsearch results and protein2ipr"
   ],
   "metadata": {
    "collapsed": false,
    "ExecuteTime": {
     "end_time": "2023-08-02T13:24:08.807284Z",
     "start_time": "2023-08-02T13:24:08.776385Z"
    }
   },
   "outputs": [
    {
     "data": {
      "text/plain": "         E-value  score  bias     E-value.1  score.1  bias.1  exp  N  \\\n0   8.800000e-32  119.4  17.6  1.300000e-31    118.9    17.6  1.3  1   \n1   1.200000e-31  119.0  17.6  1.700000e-31    118.5    17.6  1.3  1   \n2   2.800000e-30  114.6  18.1  4.200000e-30    114.0    18.1  1.3  1   \n3   5.400000e-30  113.7  18.0  8.100000e-30    113.1    18.0  1.3  1   \n4   3.300000e-21   85.5  19.7  1.400000e-20     83.5    19.7  1.9  1   \n5   4.200000e-10   49.9  25.5  1.400000e-08     45.0     5.3  2.3  2   \n6   4.200000e-08   43.5   6.0  7.600000e-08     42.7     6.0  1.3  1   \n7   5.200000e-08   43.2  22.0  9.600000e-08     42.3    22.0  1.5  1   \n8   5.300000e-08   43.1   2.3  1.100000e-07     42.1     2.3  1.6  1   \n9   1.000000e-07   42.2  21.8  2.500000e-07     41.0    12.1  2.3  2   \n10  6.900000e-07   39.6   8.1  4.700000e-06     36.9     8.1  2.2  1   \n11  1.800000e-05   35.1   8.3  1.800000e-05     35.1     8.3  3.0  1   \n12  2.700000e-05   34.5  24.5  1.300000e-04     32.3    19.7  2.5  1   \n13  1.800000e-04   31.8   8.8  9.200000e-04     29.6     3.0  2.1  2   \n14  3.900000e-04   30.8   8.8  5.200000e-03     27.1     5.5  2.2  2   \n15  5.400000e-04   30.3   8.5  6.800000e-03     26.8     5.2  2.4  2   \n16  1.900000e-03   28.5   0.4  3.100000e-03     27.8     0.4  1.4  1   \n\n      Sequence                                        Description  \n0   A0A7N9CX17  A0A7N9CX17_MACFA^|^^|^Ubiquitin conjugating enzym  \n1       Q9H832   UBE2Z_HUMAN^|^^|^Ubiquitin-conjugating enzyme E2  \n2       Q3B7D1  UBE2Z_RAT^|^^|^Ubiquitin-conjugating enzyme E2 Z^  \n3       Q3UE37   UBE2Z_MOUSE^|^^|^Ubiquitin-conjugating enzyme E2  \n4   A0A2K5VU74  A0A2K5VU74_MACFA^|^^|^Ubiquitin conjugating enzym  \n5       H3B9H2  H3B9H2_LATCH^|^^|^UBC core domain-containing prot  \n6   A0A4W3JHM2   A0A4W3JHM2_CALMI^|^^|^UBC core domain-containing  \n7       E1BQ87  E1BQ87_CHICK^|^^|^UBC core domain-containing prot  \n8       Q6DG60   UBE2Z_DANRE^|^^|^Ubiquitin-conjugating enzyme E2  \n9   A0A444UI62  A0A444UI62_ACIRT^|^^|^Ubiquitin-conjugating enzym  \n10  A0A8J4TYB0  A0A8J4TYB0_CLAMG^|^^|^Ubiquitin-conjugating enzym  \n11  A0A444UQ25  A0A444UQ25_ACIRT^|^^|^Ubiquitin-conjugating enzym  \n12  A0A4Z2GIF1  A0A4Z2GIF1_9TELE^|^^|^Ubiquitin-conjugating enzym  \n13  A0A2G9R8D0   A0A2G9R8D0_LITCT^|^^|^UBC core domain-containing  \n14  A0A2G9R9W7  A0A2G9R9W7_LITCT^|^^|^Uncharacterized protein {EC  \n15  A0A2G9R856  A0A2G9R856_LITCT^|^^|^Uncharacterized protein {EC  \n16  A0A812B0C6  A0A812B0C6_SEPPH^|^^|^UBE2Z {ECO:0000313|EMBL:CAE  ",
      "text/html": "<div>\n<style scoped>\n    .dataframe tbody tr th:only-of-type {\n        vertical-align: middle;\n    }\n\n    .dataframe tbody tr th {\n        vertical-align: top;\n    }\n\n    .dataframe thead th {\n        text-align: right;\n    }\n</style>\n<table border=\"1\" class=\"dataframe\">\n  <thead>\n    <tr style=\"text-align: right;\">\n      <th></th>\n      <th>E-value</th>\n      <th>score</th>\n      <th>bias</th>\n      <th>E-value.1</th>\n      <th>score.1</th>\n      <th>bias.1</th>\n      <th>exp</th>\n      <th>N</th>\n      <th>Sequence</th>\n      <th>Description</th>\n    </tr>\n  </thead>\n  <tbody>\n    <tr>\n      <th>0</th>\n      <td>8.800000e-32</td>\n      <td>119.4</td>\n      <td>17.6</td>\n      <td>1.300000e-31</td>\n      <td>118.9</td>\n      <td>17.6</td>\n      <td>1.3</td>\n      <td>1</td>\n      <td>A0A7N9CX17</td>\n      <td>A0A7N9CX17_MACFA^|^^|^Ubiquitin conjugating enzym</td>\n    </tr>\n    <tr>\n      <th>1</th>\n      <td>1.200000e-31</td>\n      <td>119.0</td>\n      <td>17.6</td>\n      <td>1.700000e-31</td>\n      <td>118.5</td>\n      <td>17.6</td>\n      <td>1.3</td>\n      <td>1</td>\n      <td>Q9H832</td>\n      <td>UBE2Z_HUMAN^|^^|^Ubiquitin-conjugating enzyme E2</td>\n    </tr>\n    <tr>\n      <th>2</th>\n      <td>2.800000e-30</td>\n      <td>114.6</td>\n      <td>18.1</td>\n      <td>4.200000e-30</td>\n      <td>114.0</td>\n      <td>18.1</td>\n      <td>1.3</td>\n      <td>1</td>\n      <td>Q3B7D1</td>\n      <td>UBE2Z_RAT^|^^|^Ubiquitin-conjugating enzyme E2 Z^</td>\n    </tr>\n    <tr>\n      <th>3</th>\n      <td>5.400000e-30</td>\n      <td>113.7</td>\n      <td>18.0</td>\n      <td>8.100000e-30</td>\n      <td>113.1</td>\n      <td>18.0</td>\n      <td>1.3</td>\n      <td>1</td>\n      <td>Q3UE37</td>\n      <td>UBE2Z_MOUSE^|^^|^Ubiquitin-conjugating enzyme E2</td>\n    </tr>\n    <tr>\n      <th>4</th>\n      <td>3.300000e-21</td>\n      <td>85.5</td>\n      <td>19.7</td>\n      <td>1.400000e-20</td>\n      <td>83.5</td>\n      <td>19.7</td>\n      <td>1.9</td>\n      <td>1</td>\n      <td>A0A2K5VU74</td>\n      <td>A0A2K5VU74_MACFA^|^^|^Ubiquitin conjugating enzym</td>\n    </tr>\n    <tr>\n      <th>5</th>\n      <td>4.200000e-10</td>\n      <td>49.9</td>\n      <td>25.5</td>\n      <td>1.400000e-08</td>\n      <td>45.0</td>\n      <td>5.3</td>\n      <td>2.3</td>\n      <td>2</td>\n      <td>H3B9H2</td>\n      <td>H3B9H2_LATCH^|^^|^UBC core domain-containing prot</td>\n    </tr>\n    <tr>\n      <th>6</th>\n      <td>4.200000e-08</td>\n      <td>43.5</td>\n      <td>6.0</td>\n      <td>7.600000e-08</td>\n      <td>42.7</td>\n      <td>6.0</td>\n      <td>1.3</td>\n      <td>1</td>\n      <td>A0A4W3JHM2</td>\n      <td>A0A4W3JHM2_CALMI^|^^|^UBC core domain-containing</td>\n    </tr>\n    <tr>\n      <th>7</th>\n      <td>5.200000e-08</td>\n      <td>43.2</td>\n      <td>22.0</td>\n      <td>9.600000e-08</td>\n      <td>42.3</td>\n      <td>22.0</td>\n      <td>1.5</td>\n      <td>1</td>\n      <td>E1BQ87</td>\n      <td>E1BQ87_CHICK^|^^|^UBC core domain-containing prot</td>\n    </tr>\n    <tr>\n      <th>8</th>\n      <td>5.300000e-08</td>\n      <td>43.1</td>\n      <td>2.3</td>\n      <td>1.100000e-07</td>\n      <td>42.1</td>\n      <td>2.3</td>\n      <td>1.6</td>\n      <td>1</td>\n      <td>Q6DG60</td>\n      <td>UBE2Z_DANRE^|^^|^Ubiquitin-conjugating enzyme E2</td>\n    </tr>\n    <tr>\n      <th>9</th>\n      <td>1.000000e-07</td>\n      <td>42.2</td>\n      <td>21.8</td>\n      <td>2.500000e-07</td>\n      <td>41.0</td>\n      <td>12.1</td>\n      <td>2.3</td>\n      <td>2</td>\n      <td>A0A444UI62</td>\n      <td>A0A444UI62_ACIRT^|^^|^Ubiquitin-conjugating enzym</td>\n    </tr>\n    <tr>\n      <th>10</th>\n      <td>6.900000e-07</td>\n      <td>39.6</td>\n      <td>8.1</td>\n      <td>4.700000e-06</td>\n      <td>36.9</td>\n      <td>8.1</td>\n      <td>2.2</td>\n      <td>1</td>\n      <td>A0A8J4TYB0</td>\n      <td>A0A8J4TYB0_CLAMG^|^^|^Ubiquitin-conjugating enzym</td>\n    </tr>\n    <tr>\n      <th>11</th>\n      <td>1.800000e-05</td>\n      <td>35.1</td>\n      <td>8.3</td>\n      <td>1.800000e-05</td>\n      <td>35.1</td>\n      <td>8.3</td>\n      <td>3.0</td>\n      <td>1</td>\n      <td>A0A444UQ25</td>\n      <td>A0A444UQ25_ACIRT^|^^|^Ubiquitin-conjugating enzym</td>\n    </tr>\n    <tr>\n      <th>12</th>\n      <td>2.700000e-05</td>\n      <td>34.5</td>\n      <td>24.5</td>\n      <td>1.300000e-04</td>\n      <td>32.3</td>\n      <td>19.7</td>\n      <td>2.5</td>\n      <td>1</td>\n      <td>A0A4Z2GIF1</td>\n      <td>A0A4Z2GIF1_9TELE^|^^|^Ubiquitin-conjugating enzym</td>\n    </tr>\n    <tr>\n      <th>13</th>\n      <td>1.800000e-04</td>\n      <td>31.8</td>\n      <td>8.8</td>\n      <td>9.200000e-04</td>\n      <td>29.6</td>\n      <td>3.0</td>\n      <td>2.1</td>\n      <td>2</td>\n      <td>A0A2G9R8D0</td>\n      <td>A0A2G9R8D0_LITCT^|^^|^UBC core domain-containing</td>\n    </tr>\n    <tr>\n      <th>14</th>\n      <td>3.900000e-04</td>\n      <td>30.8</td>\n      <td>8.8</td>\n      <td>5.200000e-03</td>\n      <td>27.1</td>\n      <td>5.5</td>\n      <td>2.2</td>\n      <td>2</td>\n      <td>A0A2G9R9W7</td>\n      <td>A0A2G9R9W7_LITCT^|^^|^Uncharacterized protein {EC</td>\n    </tr>\n    <tr>\n      <th>15</th>\n      <td>5.400000e-04</td>\n      <td>30.3</td>\n      <td>8.5</td>\n      <td>6.800000e-03</td>\n      <td>26.8</td>\n      <td>5.2</td>\n      <td>2.4</td>\n      <td>2</td>\n      <td>A0A2G9R856</td>\n      <td>A0A2G9R856_LITCT^|^^|^Uncharacterized protein {EC</td>\n    </tr>\n    <tr>\n      <th>16</th>\n      <td>1.900000e-03</td>\n      <td>28.5</td>\n      <td>0.4</td>\n      <td>3.100000e-03</td>\n      <td>27.8</td>\n      <td>0.4</td>\n      <td>1.4</td>\n      <td>1</td>\n      <td>A0A812B0C6</td>\n      <td>A0A812B0C6_SEPPH^|^^|^UBE2Z {ECO:0000313|EMBL:CAE</td>\n    </tr>\n  </tbody>\n</table>\n</div>"
     },
     "execution_count": 14,
     "metadata": {},
     "output_type": "execute_result"
    }
   ],
   "execution_count": 14
  },
  {
   "cell_type": "code",
   "execution_count": 16,
   "metadata": {
    "ExecuteTime": {
     "end_time": "2023-08-02T13:24:23.917125Z",
     "start_time": "2023-08-02T13:24:23.855600Z"
    }
   },
   "outputs": [
    {
     "ename": "FileNotFoundError",
     "evalue": "[Errno 2] No such file or directory: 'pfam_overlap.csv'",
     "output_type": "error",
     "traceback": [
      "\u001B[0;31m---------------------------------------------------------------------------\u001B[0m",
      "\u001B[0;31mFileNotFoundError\u001B[0m                         Traceback (most recent call last)",
      "Input \u001B[0;32mIn [16]\u001B[0m, in \u001B[0;36m<cell line: 2>\u001B[0;34m()\u001B[0m\n\u001B[1;32m      1\u001B[0m \u001B[38;5;66;03m# Filter only entries with Pfam ID and intercepting regions with the curated_disprot instances\u001B[39;00m\n\u001B[0;32m----> 2\u001B[0m pfam_overlap \u001B[38;5;241m=\u001B[39m \u001B[43mpd\u001B[49m\u001B[38;5;241;43m.\u001B[39;49m\u001B[43mread_csv\u001B[49m\u001B[43m(\u001B[49m\u001B[38;5;124;43m\"\u001B[39;49m\u001B[38;5;124;43mpfam_overlap.csv\u001B[39;49m\u001B[38;5;124;43m\"\u001B[39;49m\u001B[43m)\u001B[49m\n\u001B[1;32m      3\u001B[0m pfam_overlap\n",
      "File \u001B[0;32m~/opt/anaconda3/lib/python3.9/site-packages/pandas/util/_decorators.py:311\u001B[0m, in \u001B[0;36mdeprecate_nonkeyword_arguments.<locals>.decorate.<locals>.wrapper\u001B[0;34m(*args, **kwargs)\u001B[0m\n\u001B[1;32m    305\u001B[0m \u001B[38;5;28;01mif\u001B[39;00m \u001B[38;5;28mlen\u001B[39m(args) \u001B[38;5;241m>\u001B[39m num_allow_args:\n\u001B[1;32m    306\u001B[0m     warnings\u001B[38;5;241m.\u001B[39mwarn(\n\u001B[1;32m    307\u001B[0m         msg\u001B[38;5;241m.\u001B[39mformat(arguments\u001B[38;5;241m=\u001B[39marguments),\n\u001B[1;32m    308\u001B[0m         \u001B[38;5;167;01mFutureWarning\u001B[39;00m,\n\u001B[1;32m    309\u001B[0m         stacklevel\u001B[38;5;241m=\u001B[39mstacklevel,\n\u001B[1;32m    310\u001B[0m     )\n\u001B[0;32m--> 311\u001B[0m \u001B[38;5;28;01mreturn\u001B[39;00m \u001B[43mfunc\u001B[49m\u001B[43m(\u001B[49m\u001B[38;5;241;43m*\u001B[39;49m\u001B[43margs\u001B[49m\u001B[43m,\u001B[49m\u001B[43m \u001B[49m\u001B[38;5;241;43m*\u001B[39;49m\u001B[38;5;241;43m*\u001B[39;49m\u001B[43mkwargs\u001B[49m\u001B[43m)\u001B[49m\n",
      "File \u001B[0;32m~/opt/anaconda3/lib/python3.9/site-packages/pandas/io/parsers/readers.py:680\u001B[0m, in \u001B[0;36mread_csv\u001B[0;34m(filepath_or_buffer, sep, delimiter, header, names, index_col, usecols, squeeze, prefix, mangle_dupe_cols, dtype, engine, converters, true_values, false_values, skipinitialspace, skiprows, skipfooter, nrows, na_values, keep_default_na, na_filter, verbose, skip_blank_lines, parse_dates, infer_datetime_format, keep_date_col, date_parser, dayfirst, cache_dates, iterator, chunksize, compression, thousands, decimal, lineterminator, quotechar, quoting, doublequote, escapechar, comment, encoding, encoding_errors, dialect, error_bad_lines, warn_bad_lines, on_bad_lines, delim_whitespace, low_memory, memory_map, float_precision, storage_options)\u001B[0m\n\u001B[1;32m    665\u001B[0m kwds_defaults \u001B[38;5;241m=\u001B[39m _refine_defaults_read(\n\u001B[1;32m    666\u001B[0m     dialect,\n\u001B[1;32m    667\u001B[0m     delimiter,\n\u001B[0;32m   (...)\u001B[0m\n\u001B[1;32m    676\u001B[0m     defaults\u001B[38;5;241m=\u001B[39m{\u001B[38;5;124m\"\u001B[39m\u001B[38;5;124mdelimiter\u001B[39m\u001B[38;5;124m\"\u001B[39m: \u001B[38;5;124m\"\u001B[39m\u001B[38;5;124m,\u001B[39m\u001B[38;5;124m\"\u001B[39m},\n\u001B[1;32m    677\u001B[0m )\n\u001B[1;32m    678\u001B[0m kwds\u001B[38;5;241m.\u001B[39mupdate(kwds_defaults)\n\u001B[0;32m--> 680\u001B[0m \u001B[38;5;28;01mreturn\u001B[39;00m \u001B[43m_read\u001B[49m\u001B[43m(\u001B[49m\u001B[43mfilepath_or_buffer\u001B[49m\u001B[43m,\u001B[49m\u001B[43m \u001B[49m\u001B[43mkwds\u001B[49m\u001B[43m)\u001B[49m\n",
      "File \u001B[0;32m~/opt/anaconda3/lib/python3.9/site-packages/pandas/io/parsers/readers.py:575\u001B[0m, in \u001B[0;36m_read\u001B[0;34m(filepath_or_buffer, kwds)\u001B[0m\n\u001B[1;32m    572\u001B[0m _validate_names(kwds\u001B[38;5;241m.\u001B[39mget(\u001B[38;5;124m\"\u001B[39m\u001B[38;5;124mnames\u001B[39m\u001B[38;5;124m\"\u001B[39m, \u001B[38;5;28;01mNone\u001B[39;00m))\n\u001B[1;32m    574\u001B[0m \u001B[38;5;66;03m# Create the parser.\u001B[39;00m\n\u001B[0;32m--> 575\u001B[0m parser \u001B[38;5;241m=\u001B[39m \u001B[43mTextFileReader\u001B[49m\u001B[43m(\u001B[49m\u001B[43mfilepath_or_buffer\u001B[49m\u001B[43m,\u001B[49m\u001B[43m \u001B[49m\u001B[38;5;241;43m*\u001B[39;49m\u001B[38;5;241;43m*\u001B[39;49m\u001B[43mkwds\u001B[49m\u001B[43m)\u001B[49m\n\u001B[1;32m    577\u001B[0m \u001B[38;5;28;01mif\u001B[39;00m chunksize \u001B[38;5;129;01mor\u001B[39;00m iterator:\n\u001B[1;32m    578\u001B[0m     \u001B[38;5;28;01mreturn\u001B[39;00m parser\n",
      "File \u001B[0;32m~/opt/anaconda3/lib/python3.9/site-packages/pandas/io/parsers/readers.py:933\u001B[0m, in \u001B[0;36mTextFileReader.__init__\u001B[0;34m(self, f, engine, **kwds)\u001B[0m\n\u001B[1;32m    930\u001B[0m     \u001B[38;5;28mself\u001B[39m\u001B[38;5;241m.\u001B[39moptions[\u001B[38;5;124m\"\u001B[39m\u001B[38;5;124mhas_index_names\u001B[39m\u001B[38;5;124m\"\u001B[39m] \u001B[38;5;241m=\u001B[39m kwds[\u001B[38;5;124m\"\u001B[39m\u001B[38;5;124mhas_index_names\u001B[39m\u001B[38;5;124m\"\u001B[39m]\n\u001B[1;32m    932\u001B[0m \u001B[38;5;28mself\u001B[39m\u001B[38;5;241m.\u001B[39mhandles: IOHandles \u001B[38;5;241m|\u001B[39m \u001B[38;5;28;01mNone\u001B[39;00m \u001B[38;5;241m=\u001B[39m \u001B[38;5;28;01mNone\u001B[39;00m\n\u001B[0;32m--> 933\u001B[0m \u001B[38;5;28mself\u001B[39m\u001B[38;5;241m.\u001B[39m_engine \u001B[38;5;241m=\u001B[39m \u001B[38;5;28;43mself\u001B[39;49m\u001B[38;5;241;43m.\u001B[39;49m\u001B[43m_make_engine\u001B[49m\u001B[43m(\u001B[49m\u001B[43mf\u001B[49m\u001B[43m,\u001B[49m\u001B[43m \u001B[49m\u001B[38;5;28;43mself\u001B[39;49m\u001B[38;5;241;43m.\u001B[39;49m\u001B[43mengine\u001B[49m\u001B[43m)\u001B[49m\n",
      "File \u001B[0;32m~/opt/anaconda3/lib/python3.9/site-packages/pandas/io/parsers/readers.py:1217\u001B[0m, in \u001B[0;36mTextFileReader._make_engine\u001B[0;34m(self, f, engine)\u001B[0m\n\u001B[1;32m   1213\u001B[0m     mode \u001B[38;5;241m=\u001B[39m \u001B[38;5;124m\"\u001B[39m\u001B[38;5;124mrb\u001B[39m\u001B[38;5;124m\"\u001B[39m\n\u001B[1;32m   1214\u001B[0m \u001B[38;5;66;03m# error: No overload variant of \"get_handle\" matches argument types\u001B[39;00m\n\u001B[1;32m   1215\u001B[0m \u001B[38;5;66;03m# \"Union[str, PathLike[str], ReadCsvBuffer[bytes], ReadCsvBuffer[str]]\"\u001B[39;00m\n\u001B[1;32m   1216\u001B[0m \u001B[38;5;66;03m# , \"str\", \"bool\", \"Any\", \"Any\", \"Any\", \"Any\", \"Any\"\u001B[39;00m\n\u001B[0;32m-> 1217\u001B[0m \u001B[38;5;28mself\u001B[39m\u001B[38;5;241m.\u001B[39mhandles \u001B[38;5;241m=\u001B[39m \u001B[43mget_handle\u001B[49m\u001B[43m(\u001B[49m\u001B[43m  \u001B[49m\u001B[38;5;66;43;03m# type: ignore[call-overload]\u001B[39;49;00m\n\u001B[1;32m   1218\u001B[0m \u001B[43m    \u001B[49m\u001B[43mf\u001B[49m\u001B[43m,\u001B[49m\n\u001B[1;32m   1219\u001B[0m \u001B[43m    \u001B[49m\u001B[43mmode\u001B[49m\u001B[43m,\u001B[49m\n\u001B[1;32m   1220\u001B[0m \u001B[43m    \u001B[49m\u001B[43mencoding\u001B[49m\u001B[38;5;241;43m=\u001B[39;49m\u001B[38;5;28;43mself\u001B[39;49m\u001B[38;5;241;43m.\u001B[39;49m\u001B[43moptions\u001B[49m\u001B[38;5;241;43m.\u001B[39;49m\u001B[43mget\u001B[49m\u001B[43m(\u001B[49m\u001B[38;5;124;43m\"\u001B[39;49m\u001B[38;5;124;43mencoding\u001B[39;49m\u001B[38;5;124;43m\"\u001B[39;49m\u001B[43m,\u001B[49m\u001B[43m \u001B[49m\u001B[38;5;28;43;01mNone\u001B[39;49;00m\u001B[43m)\u001B[49m\u001B[43m,\u001B[49m\n\u001B[1;32m   1221\u001B[0m \u001B[43m    \u001B[49m\u001B[43mcompression\u001B[49m\u001B[38;5;241;43m=\u001B[39;49m\u001B[38;5;28;43mself\u001B[39;49m\u001B[38;5;241;43m.\u001B[39;49m\u001B[43moptions\u001B[49m\u001B[38;5;241;43m.\u001B[39;49m\u001B[43mget\u001B[49m\u001B[43m(\u001B[49m\u001B[38;5;124;43m\"\u001B[39;49m\u001B[38;5;124;43mcompression\u001B[39;49m\u001B[38;5;124;43m\"\u001B[39;49m\u001B[43m,\u001B[49m\u001B[43m \u001B[49m\u001B[38;5;28;43;01mNone\u001B[39;49;00m\u001B[43m)\u001B[49m\u001B[43m,\u001B[49m\n\u001B[1;32m   1222\u001B[0m \u001B[43m    \u001B[49m\u001B[43mmemory_map\u001B[49m\u001B[38;5;241;43m=\u001B[39;49m\u001B[38;5;28;43mself\u001B[39;49m\u001B[38;5;241;43m.\u001B[39;49m\u001B[43moptions\u001B[49m\u001B[38;5;241;43m.\u001B[39;49m\u001B[43mget\u001B[49m\u001B[43m(\u001B[49m\u001B[38;5;124;43m\"\u001B[39;49m\u001B[38;5;124;43mmemory_map\u001B[39;49m\u001B[38;5;124;43m\"\u001B[39;49m\u001B[43m,\u001B[49m\u001B[43m \u001B[49m\u001B[38;5;28;43;01mFalse\u001B[39;49;00m\u001B[43m)\u001B[49m\u001B[43m,\u001B[49m\n\u001B[1;32m   1223\u001B[0m \u001B[43m    \u001B[49m\u001B[43mis_text\u001B[49m\u001B[38;5;241;43m=\u001B[39;49m\u001B[43mis_text\u001B[49m\u001B[43m,\u001B[49m\n\u001B[1;32m   1224\u001B[0m \u001B[43m    \u001B[49m\u001B[43merrors\u001B[49m\u001B[38;5;241;43m=\u001B[39;49m\u001B[38;5;28;43mself\u001B[39;49m\u001B[38;5;241;43m.\u001B[39;49m\u001B[43moptions\u001B[49m\u001B[38;5;241;43m.\u001B[39;49m\u001B[43mget\u001B[49m\u001B[43m(\u001B[49m\u001B[38;5;124;43m\"\u001B[39;49m\u001B[38;5;124;43mencoding_errors\u001B[39;49m\u001B[38;5;124;43m\"\u001B[39;49m\u001B[43m,\u001B[49m\u001B[43m \u001B[49m\u001B[38;5;124;43m\"\u001B[39;49m\u001B[38;5;124;43mstrict\u001B[39;49m\u001B[38;5;124;43m\"\u001B[39;49m\u001B[43m)\u001B[49m\u001B[43m,\u001B[49m\n\u001B[1;32m   1225\u001B[0m \u001B[43m    \u001B[49m\u001B[43mstorage_options\u001B[49m\u001B[38;5;241;43m=\u001B[39;49m\u001B[38;5;28;43mself\u001B[39;49m\u001B[38;5;241;43m.\u001B[39;49m\u001B[43moptions\u001B[49m\u001B[38;5;241;43m.\u001B[39;49m\u001B[43mget\u001B[49m\u001B[43m(\u001B[49m\u001B[38;5;124;43m\"\u001B[39;49m\u001B[38;5;124;43mstorage_options\u001B[39;49m\u001B[38;5;124;43m\"\u001B[39;49m\u001B[43m,\u001B[49m\u001B[43m \u001B[49m\u001B[38;5;28;43;01mNone\u001B[39;49;00m\u001B[43m)\u001B[49m\u001B[43m,\u001B[49m\n\u001B[1;32m   1226\u001B[0m \u001B[43m\u001B[49m\u001B[43m)\u001B[49m\n\u001B[1;32m   1227\u001B[0m \u001B[38;5;28;01massert\u001B[39;00m \u001B[38;5;28mself\u001B[39m\u001B[38;5;241m.\u001B[39mhandles \u001B[38;5;129;01mis\u001B[39;00m \u001B[38;5;129;01mnot\u001B[39;00m \u001B[38;5;28;01mNone\u001B[39;00m\n\u001B[1;32m   1228\u001B[0m f \u001B[38;5;241m=\u001B[39m \u001B[38;5;28mself\u001B[39m\u001B[38;5;241m.\u001B[39mhandles\u001B[38;5;241m.\u001B[39mhandle\n",
      "File \u001B[0;32m~/opt/anaconda3/lib/python3.9/site-packages/pandas/io/common.py:789\u001B[0m, in \u001B[0;36mget_handle\u001B[0;34m(path_or_buf, mode, encoding, compression, memory_map, is_text, errors, storage_options)\u001B[0m\n\u001B[1;32m    784\u001B[0m \u001B[38;5;28;01melif\u001B[39;00m \u001B[38;5;28misinstance\u001B[39m(handle, \u001B[38;5;28mstr\u001B[39m):\n\u001B[1;32m    785\u001B[0m     \u001B[38;5;66;03m# Check whether the filename is to be opened in binary mode.\u001B[39;00m\n\u001B[1;32m    786\u001B[0m     \u001B[38;5;66;03m# Binary mode does not support 'encoding' and 'newline'.\u001B[39;00m\n\u001B[1;32m    787\u001B[0m     \u001B[38;5;28;01mif\u001B[39;00m ioargs\u001B[38;5;241m.\u001B[39mencoding \u001B[38;5;129;01mand\u001B[39;00m \u001B[38;5;124m\"\u001B[39m\u001B[38;5;124mb\u001B[39m\u001B[38;5;124m\"\u001B[39m \u001B[38;5;129;01mnot\u001B[39;00m \u001B[38;5;129;01min\u001B[39;00m ioargs\u001B[38;5;241m.\u001B[39mmode:\n\u001B[1;32m    788\u001B[0m         \u001B[38;5;66;03m# Encoding\u001B[39;00m\n\u001B[0;32m--> 789\u001B[0m         handle \u001B[38;5;241m=\u001B[39m \u001B[38;5;28;43mopen\u001B[39;49m\u001B[43m(\u001B[49m\n\u001B[1;32m    790\u001B[0m \u001B[43m            \u001B[49m\u001B[43mhandle\u001B[49m\u001B[43m,\u001B[49m\n\u001B[1;32m    791\u001B[0m \u001B[43m            \u001B[49m\u001B[43mioargs\u001B[49m\u001B[38;5;241;43m.\u001B[39;49m\u001B[43mmode\u001B[49m\u001B[43m,\u001B[49m\n\u001B[1;32m    792\u001B[0m \u001B[43m            \u001B[49m\u001B[43mencoding\u001B[49m\u001B[38;5;241;43m=\u001B[39;49m\u001B[43mioargs\u001B[49m\u001B[38;5;241;43m.\u001B[39;49m\u001B[43mencoding\u001B[49m\u001B[43m,\u001B[49m\n\u001B[1;32m    793\u001B[0m \u001B[43m            \u001B[49m\u001B[43merrors\u001B[49m\u001B[38;5;241;43m=\u001B[39;49m\u001B[43merrors\u001B[49m\u001B[43m,\u001B[49m\n\u001B[1;32m    794\u001B[0m \u001B[43m            \u001B[49m\u001B[43mnewline\u001B[49m\u001B[38;5;241;43m=\u001B[39;49m\u001B[38;5;124;43m\"\u001B[39;49m\u001B[38;5;124;43m\"\u001B[39;49m\u001B[43m,\u001B[49m\n\u001B[1;32m    795\u001B[0m \u001B[43m        \u001B[49m\u001B[43m)\u001B[49m\n\u001B[1;32m    796\u001B[0m     \u001B[38;5;28;01melse\u001B[39;00m:\n\u001B[1;32m    797\u001B[0m         \u001B[38;5;66;03m# Binary mode\u001B[39;00m\n\u001B[1;32m    798\u001B[0m         handle \u001B[38;5;241m=\u001B[39m \u001B[38;5;28mopen\u001B[39m(handle, ioargs\u001B[38;5;241m.\u001B[39mmode)\n",
      "\u001B[0;31mFileNotFoundError\u001B[0m: [Errno 2] No such file or directory: 'pfam_overlap.csv'"
     ]
    }
   ],
   "source": [
    "# Make a dataframe with the statistics\n",
    "stats_rp_15 = pd.read_csv(f\"{directory}/results/hmms/hmmsearch/stats/stats_rp_15_{id}_{i}.csv\")\n",
    "stats_rp_15"
   ]
  },
  {
   "cell_type": "code",
   "execution_count": 6,
   "outputs": [
    {
     "data": {
      "text/plain": "  uniprot_id     ipr_id                description  pfam_id  start_pos  \\\n0     Q5VZK9  IPR031943  CARMIL, C-terminal domain  PF16000        786   \n\n   end_pos  length  \n0     1079     294  ",
      "text/html": "<div>\n<style scoped>\n    .dataframe tbody tr th:only-of-type {\n        vertical-align: middle;\n    }\n\n    .dataframe tbody tr th {\n        vertical-align: top;\n    }\n\n    .dataframe thead th {\n        text-align: right;\n    }\n</style>\n<table border=\"1\" class=\"dataframe\">\n  <thead>\n    <tr style=\"text-align: right;\">\n      <th></th>\n      <th>uniprot_id</th>\n      <th>ipr_id</th>\n      <th>description</th>\n      <th>pfam_id</th>\n      <th>start_pos</th>\n      <th>end_pos</th>\n      <th>length</th>\n    </tr>\n  </thead>\n  <tbody>\n    <tr>\n      <th>0</th>\n      <td>Q5VZK9</td>\n      <td>IPR031943</td>\n      <td>CARMIL, C-terminal domain</td>\n      <td>PF16000</td>\n      <td>786</td>\n      <td>1079</td>\n      <td>294</td>\n    </tr>\n  </tbody>\n</table>\n</div>"
     },
     "execution_count": 6,
     "metadata": {},
     "output_type": "execute_result"
    }
   ],
   "source": [
    "# Filter only entries with Pfam ID and intercepting regions with the curated_disprot instances\n",
    "pfam_overlap = pd.read_csv(\"pfam_overlap.csv\")\n",
    "pfam_overlap"
   ],
   "metadata": {
    "collapsed": false,
    "ExecuteTime": {
     "end_time": "2023-08-04T11:54:23.985775Z",
     "start_time": "2023-08-04T11:54:23.972218Z"
    }
   }
  },
  {
   "cell_type": "code",
   "execution_count": 7,
   "outputs": [
    {
     "data": {
      "text/plain": "<Figure size 720x18 with 1 Axes>",
      "image/png": "[encoded data removed]"
     },
     "metadata": {
      "needs_background": "light"
     },
     "output_type": "display_data"
    }
   ],
   "source": [
    "def plot_overlapping_regions(pfam_overlap, curated_query, id, i):\n",
    "    unique_uniprot_ids = pfam_overlap['uniprot_id'].unique()\n",
    "\n",
    "    if len(unique_uniprot_ids) == 0:\n",
    "        print(\"No overlapping regions to plot.\")\n",
    "        return\n",
    "\n",
    "    # Plot overlapping regions\n",
    "    fig, ax = plt.subplots(figsize=(10, 0.25 * len(unique_uniprot_ids)))\n",
    "\n",
    "    # Plot the regions\n",
    "    ax.hlines(pfam_overlap['uniprot_id'], pfam_overlap['start_pos'], pfam_overlap['end_pos'], linewidth=10, color='blue', label='Pfam Region')\n",
    "    ax.hlines(pfam_overlap['uniprot_id'], curated_query['start'], curated_query['end'], linewidth=10, color='green', label='Disprot Region')\n",
    "\n",
    "    ax.set_yticks(pfam_overlap['uniprot_id'])\n",
    "    ax.set_yticklabels(pfam_overlap['uniprot_id'])\n",
    "    ax.set_xlim(pfam_overlap['start_pos'].astype(int).min(), pfam_overlap['end_pos'].astype(int).max())\n",
    "\n",
    "    ax.axvspan(curated_query['start'].iloc[0], curated_query['end'].iloc[0], facecolor='yellow', alpha=0.5)\n",
    "\n",
    "    plt.title(f'Distribution of {id}_{i} Region')\n",
    "    plt.xlabel('Position')\n",
    "    plt.ylabel('UniProt ID')\n",
    "    plt.legend(loc='upper left')\n",
    "    plt.grid(True)\n",
    "    plt.show()\n",
    "\n",
    "plot_overlapping_regions(pfam_overlap, curated_query, id, i)"
   ],
   "metadata": {
    "collapsed": false,
    "ExecuteTime": {
     "end_time": "2023-08-04T11:54:25.387948Z",
     "start_time": "2023-08-04T11:54:25.301133Z"
    }
   }
  },
  {
   "cell_type": "markdown",
   "source": [
    "### Analysis of overall HMMsearch results and protein2ipr overlap\n"
   ],
   "metadata": {
    "collapsed": false
   }
  },
  {
   "cell_type": "code",
   "execution_count": 9,
   "outputs": [],
   "source": [
    "def extract_table_from_output(hmm_result_file):\n",
    "    with open(hmm_result_file, 'r') as f:\n",
    "        lines = f.readlines()\n",
    "\n",
    "        # Extract a query ID\n",
    "        query_id = None\n",
    "        extract_info = False\n",
    "        result_data = []\n",
    "\n",
    "        for line in lines:\n",
    "            if line.startswith(\">>\"):\n",
    "                query_id = line.strip()[2:].split(\" \")[1]\n",
    "                extract_info = True  # Set the flag to True when query ID is found\n",
    "            elif extract_info:\n",
    "                line_data = line.split()\n",
    "                if line_data[0].isdigit():\n",
    "                    try:\n",
    "                        hmm_from = int(line_data[6])\n",
    "                        hmm_to = int(line_data[7])\n",
    "                        env_from = int(line_data[12])\n",
    "                        env_to = int(line_data[13])\n",
    "                        result_data.append([query_id, hmm_from, hmm_to, env_from, env_to])\n",
    "                    except ValueError:\n",
    "                        pass\n",
    "                    extract_info = False\n",
    "\n",
    "        # Create and return the DataFrame\n",
    "        result_df = pd.DataFrame(result_data, columns=['id', 'hmm from', 'hmm to', 'env from', 'env to'])\n",
    "        return result_df"
   ],
   "metadata": {
    "collapsed": false,
    "ExecuteTime": {
     "end_time": "2023-08-04T11:54:39.440952Z",
     "start_time": "2023-08-04T11:54:39.435833Z"
    }
   }
  },
  {
   "cell_type": "code",
   "execution_count": 10,
   "outputs": [
    {
     "data": {
      "text/plain": "             id  hmm from  hmm to  env from  env to\n0        A9TSC0        11      61       305     360\n1    A0A384L621         6      59       280     339\n2        Q9LIP9         6      59       280     339\n3    A0A834T8N5        10      59       333     391\n4    A0A6A6KBW9         7      59       267     325\n..          ...       ...     ...       ...     ...\n767  A0A099L288        11      59       225     277\n768  A0A151AML1        28      59       223     276\n769  A0A843TFX8        27      56        14      52\n770  A0A4Z0FEB4        25      60       225     277\n771  A0A0P6YE10        29      56       245     279\n\n[772 rows x 5 columns]",
      "text/html": "<div>\n<style scoped>\n    .dataframe tbody tr th:only-of-type {\n        vertical-align: middle;\n    }\n\n    .dataframe tbody tr th {\n        vertical-align: top;\n    }\n\n    .dataframe thead th {\n        text-align: right;\n    }\n</style>\n<table border=\"1\" class=\"dataframe\">\n  <thead>\n    <tr style=\"text-align: right;\">\n      <th></th>\n      <th>id</th>\n      <th>hmm from</th>\n      <th>hmm to</th>\n      <th>env from</th>\n      <th>env to</th>\n    </tr>\n  </thead>\n  <tbody>\n    <tr>\n      <th>0</th>\n      <td>A9TSC0</td>\n      <td>11</td>\n      <td>61</td>\n      <td>305</td>\n      <td>360</td>\n    </tr>\n    <tr>\n      <th>1</th>\n      <td>A0A384L621</td>\n      <td>6</td>\n      <td>59</td>\n      <td>280</td>\n      <td>339</td>\n    </tr>\n    <tr>\n      <th>2</th>\n      <td>Q9LIP9</td>\n      <td>6</td>\n      <td>59</td>\n      <td>280</td>\n      <td>339</td>\n    </tr>\n    <tr>\n      <th>3</th>\n      <td>A0A834T8N5</td>\n      <td>10</td>\n      <td>59</td>\n      <td>333</td>\n      <td>391</td>\n    </tr>\n    <tr>\n      <th>4</th>\n      <td>A0A6A6KBW9</td>\n      <td>7</td>\n      <td>59</td>\n      <td>267</td>\n      <td>325</td>\n    </tr>\n    <tr>\n      <th>...</th>\n      <td>...</td>\n      <td>...</td>\n      <td>...</td>\n      <td>...</td>\n      <td>...</td>\n    </tr>\n    <tr>\n      <th>767</th>\n      <td>A0A099L288</td>\n      <td>11</td>\n      <td>59</td>\n      <td>225</td>\n      <td>277</td>\n    </tr>\n    <tr>\n      <th>768</th>\n      <td>A0A151AML1</td>\n      <td>28</td>\n      <td>59</td>\n      <td>223</td>\n      <td>276</td>\n    </tr>\n    <tr>\n      <th>769</th>\n      <td>A0A843TFX8</td>\n      <td>27</td>\n      <td>56</td>\n      <td>14</td>\n      <td>52</td>\n    </tr>\n    <tr>\n      <th>770</th>\n      <td>A0A4Z0FEB4</td>\n      <td>25</td>\n      <td>60</td>\n      <td>225</td>\n      <td>277</td>\n    </tr>\n    <tr>\n      <th>771</th>\n      <td>A0A0P6YE10</td>\n      <td>29</td>\n      <td>56</td>\n      <td>245</td>\n      <td>279</td>\n    </tr>\n  </tbody>\n</table>\n<p>772 rows × 5 columns</p>\n</div>"
     },
     "execution_count": 10,
     "metadata": {},
     "output_type": "execute_result"
    }
   ],
   "source": [
    "# Create a dataframe with extracted regions from HMM\n",
    "hmm_result_file = f\"{directory}/results/hmms/hmmsearch/hmmsearch_rp_15_{id}_{i}.txt\"\n",
    "result_table = extract_table_from_output(hmm_result_file)\n",
    "result_table.to_csv(f\"{directory}/results/hmms/hmmsearch/stats/stats_rp_15_regions_{id}_{i}.csv\")\n",
    "result_table"
   ],
   "metadata": {
    "collapsed": false,
    "ExecuteTime": {
     "end_time": "2023-08-04T11:54:39.942453Z",
     "start_time": "2023-08-04T11:54:39.914100Z"
    }
   }
  },
  {
   "cell_type": "code",
   "execution_count": 34,
   "outputs": [],
   "source": [
    "# !scp {directory}/results/hmms/hmmsearch/stats/stats_rp_15_regions_{id}_{i}.csv {name}@{server}:~/stats_rp_15_regions_{id}_{i}.csv"
   ],
   "metadata": {
    "collapsed": false,
    "ExecuteTime": {
     "end_time": "2023-08-02T09:07:55.624001Z",
     "start_time": "2023-08-02T09:07:55.612696Z"
    }
   }
  },
  {
   "cell_type": "code",
   "execution_count": 35,
   "outputs": [],
   "source": [
    "# !ssh {name}@{server} \"/home/alina/protein2ipr_iterator.py stats_rp_15_regions_{id}_{i}.csv /db/interpro/protein2ipr.dat.gz protein2ipr_rp_15_regions_{id}_{i}.txt\""
   ],
   "metadata": {
    "collapsed": false,
    "ExecuteTime": {
     "end_time": "2023-08-02T09:07:56.420417Z",
     "start_time": "2023-08-02T09:07:56.413892Z"
    }
   }
  },
  {
   "cell_type": "markdown",
   "metadata": {
    "ExecuteTime": {
     "end_time": "2023-07-12T13:19:19.939712Z",
     "start_time": "2023-07-12T13:19:19.933730Z"
    }
   },
   "source": [
    "## 3. HHblits\n",
    "\n",
    "HHblits is used for profile-profile sequence alignment. It compares a profile against a target sequence database to find homologous sequences."
   ],
   "outputs": [],
   "execution_count": 23
  },
  {
   "cell_type": "code",
   "execution_count": 11,
   "metadata": {
    "ExecuteTime": {
     "end_time": "2023-08-04T11:55:21.227020Z",
     "start_time": "2023-08-04T11:55:21.223382Z"
    }
   },
   "outputs": [],
   "source": [
    "# # Copy fasta file to remote folder\n",
    "# !scp {align_file} {name}@{server}:~/{id}_{i}.fasta"
   ]
  },
  {
   "cell_type": "code",
   "execution_count": 12,
   "metadata": {
    "ExecuteTime": {
     "end_time": "2023-08-04T11:55:21.474818Z",
     "start_time": "2023-08-04T11:55:21.465873Z"
    }
   },
   "outputs": [],
   "source": [
    "# # HHblits against Pfam\n",
    "# !ssh {name}@{server} \"/software/packages/hhsuite/hhsuite-3.0-beta.3-Linux/bin/hhblits -i {id}_{i}.fasta -o hhblits_pfam_{id}_{i}.txt -d /db/hhblits/pfamA_35.0/pfam\""
   ]
  },
  {
   "cell_type": "code",
   "execution_count": 39,
   "outputs": [],
   "source": [
    "# # Copy results to the local folder\n",
    "# !scp {name}@{server}:~/hhblits_pfam_{id}_{i}.txt {local_path}/results/hmms/hhblits/"
   ],
   "metadata": {
    "collapsed": false,
    "ExecuteTime": {
     "end_time": "2023-08-02T09:09:10.876219Z",
     "start_time": "2023-08-02T09:09:10.873770Z"
    }
   }
  },
  {
   "cell_type": "markdown",
   "metadata": {
    "ExecuteTime": {
     "end_time": "2023-07-12T13:19:23.247308Z",
     "start_time": "2023-07-12T13:19:23.230235Z"
    }
   },
   "source": [
    "- `Hit`: contains information about Pfam identifier (starts with PF...), the abbreviated and full name of the domain.\n",
    "- `Prob`: the probability of the match between the query sequence and the template sequence.\n",
    "- `E-value`: the expected number of false positive matches that could occur by chance.\n",
    "- `P-value`: the probability of obtaining a match with a score as good as or better than the observed score purely by chance.\n",
    "Similar as `E-value`, the lower `P-value` indicate more significant matches.\n",
    "- `Score`: the quality of the alignment between the query and template sequences.\n",
    "- `SS (Secondary Structure)`: the predicted secondary structure of the aligned residues in the template sequence.\n",
    "- `Cols`: the number of aligned columns or residues in the alignment between the query and template sequences.\n",
    "- `Query HMM`: indicates position matches within HMM profile (input).\n",
    "- `Template HMM`: indicates position matches within HMM profile (database).\n",
    "Usually the length of template HMM is bigger than the length of query HMM."
   ],
   "outputs": [],
   "execution_count": 25
  },
  {
   "cell_type": "code",
   "execution_count": 40,
   "outputs": [
    {
     "data": {
      "text/plain": "       Hit     Prob  E-value P-value Score  SS   Cols Query HMM Template HMM  \\\n0  PF18633      3.8  0.00067    19.6   0.0   7  39-45       1-7         (28)   \n1  PF08958       12   0.0029    17.9   0.0  10  78-87      4-13         (77)   \n2  PF14443       16   0.0034    20.9   0.0  14  37-50     85-98        (119)   \n3  PF10051       43   0.0084    20.3   0.0  11  78-88     32-42        (163)   \n4  PF13955       48   0.0093    13.6   0.0   7  77-83     14-20         (21)   \n5  PF19937       49   0.0097    17.9   0.0  12  76-87     19-30         (89)   \n6  PF07896       59    0.012    15.2   0.0  13  82-94     32-44         (50)   \n7  PF05829       96    0.017    15.1   0.0  16  34-49     11-26         (42)   \n8  PF18513  1.3E+02    0.023    16.5   0.0  16  32-47     50-65         (88)   \n9  PF16643  1.1E+02    0.024    17.4   0.0  12  84-95     84-95        (168)   \n\n        Name  \n0  zf-CCCH_8  \n1    DUF1871  \n2       DBC1  \n3    DUF2286  \n4  Fst_toxin  \n5  GldC-like  \n6    DUF1674  \n7   Adeno_PX  \n8   Pro_sub2  \n9  cNMPbd_u2  ",
      "text/html": "<div>\n<style scoped>\n    .dataframe tbody tr th:only-of-type {\n        vertical-align: middle;\n    }\n\n    .dataframe tbody tr th {\n        vertical-align: top;\n    }\n\n    .dataframe thead th {\n        text-align: right;\n    }\n</style>\n<table border=\"1\" class=\"dataframe\">\n  <thead>\n    <tr style=\"text-align: right;\">\n      <th></th>\n      <th>Hit</th>\n      <th>Prob</th>\n      <th>E-value</th>\n      <th>P-value</th>\n      <th>Score</th>\n      <th>SS</th>\n      <th>Cols</th>\n      <th>Query HMM</th>\n      <th>Template HMM</th>\n      <th>Name</th>\n    </tr>\n  </thead>\n  <tbody>\n    <tr>\n      <th>0</th>\n      <td>PF18633</td>\n      <td>3.8</td>\n      <td>0.00067</td>\n      <td>19.6</td>\n      <td>0.0</td>\n      <td>7</td>\n      <td>39-45</td>\n      <td>1-7</td>\n      <td>(28)</td>\n      <td>zf-CCCH_8</td>\n    </tr>\n    <tr>\n      <th>1</th>\n      <td>PF08958</td>\n      <td>12</td>\n      <td>0.0029</td>\n      <td>17.9</td>\n      <td>0.0</td>\n      <td>10</td>\n      <td>78-87</td>\n      <td>4-13</td>\n      <td>(77)</td>\n      <td>DUF1871</td>\n    </tr>\n    <tr>\n      <th>2</th>\n      <td>PF14443</td>\n      <td>16</td>\n      <td>0.0034</td>\n      <td>20.9</td>\n      <td>0.0</td>\n      <td>14</td>\n      <td>37-50</td>\n      <td>85-98</td>\n      <td>(119)</td>\n      <td>DBC1</td>\n    </tr>\n    <tr>\n      <th>3</th>\n      <td>PF10051</td>\n      <td>43</td>\n      <td>0.0084</td>\n      <td>20.3</td>\n      <td>0.0</td>\n      <td>11</td>\n      <td>78-88</td>\n      <td>32-42</td>\n      <td>(163)</td>\n      <td>DUF2286</td>\n    </tr>\n    <tr>\n      <th>4</th>\n      <td>PF13955</td>\n      <td>48</td>\n      <td>0.0093</td>\n      <td>13.6</td>\n      <td>0.0</td>\n      <td>7</td>\n      <td>77-83</td>\n      <td>14-20</td>\n      <td>(21)</td>\n      <td>Fst_toxin</td>\n    </tr>\n    <tr>\n      <th>5</th>\n      <td>PF19937</td>\n      <td>49</td>\n      <td>0.0097</td>\n      <td>17.9</td>\n      <td>0.0</td>\n      <td>12</td>\n      <td>76-87</td>\n      <td>19-30</td>\n      <td>(89)</td>\n      <td>GldC-like</td>\n    </tr>\n    <tr>\n      <th>6</th>\n      <td>PF07896</td>\n      <td>59</td>\n      <td>0.012</td>\n      <td>15.2</td>\n      <td>0.0</td>\n      <td>13</td>\n      <td>82-94</td>\n      <td>32-44</td>\n      <td>(50)</td>\n      <td>DUF1674</td>\n    </tr>\n    <tr>\n      <th>7</th>\n      <td>PF05829</td>\n      <td>96</td>\n      <td>0.017</td>\n      <td>15.1</td>\n      <td>0.0</td>\n      <td>16</td>\n      <td>34-49</td>\n      <td>11-26</td>\n      <td>(42)</td>\n      <td>Adeno_PX</td>\n    </tr>\n    <tr>\n      <th>8</th>\n      <td>PF18513</td>\n      <td>1.3E+02</td>\n      <td>0.023</td>\n      <td>16.5</td>\n      <td>0.0</td>\n      <td>16</td>\n      <td>32-47</td>\n      <td>50-65</td>\n      <td>(88)</td>\n      <td>Pro_sub2</td>\n    </tr>\n    <tr>\n      <th>9</th>\n      <td>PF16643</td>\n      <td>1.1E+02</td>\n      <td>0.024</td>\n      <td>17.4</td>\n      <td>0.0</td>\n      <td>12</td>\n      <td>84-95</td>\n      <td>84-95</td>\n      <td>(168)</td>\n      <td>cNMPbd_u2</td>\n    </tr>\n  </tbody>\n</table>\n</div>"
     },
     "execution_count": 40,
     "metadata": {},
     "output_type": "execute_result"
    }
   ],
   "source": [
    "with open(f'{directory}/results/hmms/hhblits/hhblits_pfam_{id}_{i}.txt', 'r') as file:\n",
    "    lines = file.readlines()\n",
    "\n",
    "# Extract the column names\n",
    "column_names = lines[8].split()[:-4] + ['Query HMM', 'Template HMM']\n",
    "\n",
    "# Extract the data rows\n",
    "data_rows = [line.split() for line in lines[9:19]]\n",
    "data_rows = [[row[0]] + [' '.join(row[1:4])] + row[7:14] + [' '.join(row[14:16])]\n",
    "             for row in data_rows]\n",
    "\n",
    "hhblits_stats = pd.DataFrame(data_rows, columns=column_names)\n",
    "hhblits_stats[[\"Hit\", \"Name\"]] = hhblits_stats[\"Hit\"].str.split(\" ; \", expand=True)\n",
    "hit_split_df = hhblits_stats[\"Hit\"].str.split(\".\", expand=True)\n",
    "hhblits_stats[\"Hit\"] = hit_split_df[0]\n",
    "\n",
    "hhblits_stats = hhblits_stats.drop(\"No\", axis=1).reset_index(drop=True)\n",
    "hhblits_stats.to_csv(f'{directory}/results/hmms/hhblits/hhblits_pfam_{id}_{i}.csv', index=False)\n",
    "hhblits_stats"
   ],
   "metadata": {
    "collapsed": false,
    "ExecuteTime": {
     "end_time": "2023-08-02T09:09:25.692160Z",
     "start_time": "2023-08-02T09:09:25.663187Z"
    }
   }
  },
  {
   "cell_type": "code",
   "execution_count": 329,
   "metadata": {
    "ExecuteTime": {
     "end_time": "2023-07-31T08:55:53.826865Z",
     "start_time": "2023-07-31T08:55:53.819875Z"
    }
   },
   "outputs": [],
   "source": [
    "# # Copy again the new files to the remote computer\n",
    "# !scp {local_path}/results/hmms/hhblits/hhblits_pfam_{id}_{i}.csv {name}@{server}:~/hhblits_pfam_{id}_{i}.csv"
   ]
  },
  {
   "cell_type": "code",
   "execution_count": 70,
   "outputs": [],
   "source": [
    "# !ssh {name}@{server} \"/home/alina/hhblits_iterator.py hhblits_pfam_{id}_{i}.csv /db/interpro/protein2ipr.dat.gz pfam_uniprot_{id}_{i}.txt\""
   ],
   "metadata": {
    "collapsed": false,
    "ExecuteTime": {
     "end_time": "2023-07-25T12:50:23.740148Z",
     "start_time": "2023-07-25T12:50:23.729482Z"
    }
   }
  },
  {
   "cell_type": "code",
   "execution_count": null,
   "outputs": [],
   "source": [],
   "metadata": {
    "collapsed": false
   }
  }
 ],
 "metadata": {
  "kernelspec": {
   "display_name": "Python 3 (ipykernel)",
   "language": "python",
   "name": "python3"
  },
  "language_info": {
   "codemirror_mode": {
    "name": "ipython",
    "version": 3
   },
   "file_extension": ".py",
   "mimetype": "text/x-python",
   "name": "python",
   "nbconvert_exporter": "python",
   "pygments_lexer": "ipython3",
   "version": "3.9.12"
  }
 },
 "nbformat": 4,
 "nbformat_minor": 1
}
