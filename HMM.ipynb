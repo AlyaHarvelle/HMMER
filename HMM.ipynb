{
 "cells": [
  {
   "cell_type": "markdown",
   "metadata": {
    "ExecuteTime": {
     "end_time": "2023-05-23T07:50:02.095781Z",
     "start_time": "2023-05-23T07:50:00.613949Z"
    }
   },
   "source": [
    "# HMM build and analysis\n",
    "\n",
    "Here we will construct and analyze HMM models using MSA as the input data. We will utilize several databases as sources to enhance our analysis and gain valuable insights from the generated HMM profiles.\n",
    "\n",
    "## Load the data\n",
    "\n",
    "We are working only with the disordered regions, thus we should keep only the related information.\n"
   ]
  },
  {
   "cell_type": "code",
   "execution_count": 9,
   "metadata": {
    "ExecuteTime": {
     "end_time": "2023-07-24T14:17:40.383870Z",
     "start_time": "2023-07-24T14:17:40.376647Z"
    }
   },
   "outputs": [],
   "source": [
    "import os\n",
    "import re\n",
    "import json\n",
    "import subprocess\n",
    "import pandas as pd\n",
    "import matplotlib.pyplot as plt\n",
    "from matplotlib.pyplot import figure\n",
    "import seaborn as sns\n",
    "import ipywidgets as widgets\n",
    "from functions import *"
   ]
  },
  {
   "cell_type": "code",
   "execution_count": 17,
   "metadata": {
    "ExecuteTime": {
     "end_time": "2023-07-24T14:23:02.741423Z",
     "start_time": "2023-07-24T14:23:02.735320Z"
    }
   },
   "outputs": [],
   "source": [
    "# Set the path and input parameters\n",
    "local_path = os.getcwd()\n",
    "name = 'alina'\n",
    "server = 'ecate'"
   ]
  },
  {
   "cell_type": "code",
   "execution_count": 77,
   "outputs": [
    {
     "name": "stdout",
     "output_type": "stream",
     "text": [
      "The number of instances: 8656\n"
     ]
    },
    {
     "data": {
      "text/plain": "  query_id  subject_id  query_len  hsp_len  \\\n0   Q16620  A0A2R9BM51        822      822   \n1   Q16620  A0A4X2LP40        822      824   \n2   Q16620  A0A4X2LDU8        822      822   \n3   Q16620  A0A6P5IKH1        822      824   \n4   Q16620  A0A7J7UQA2        822      741   \n\n                                           query_seq  \\\n0  MSSWIRWHGPAMARLWGFCWLVVGFWRAAFACPTSCKCSASRIWCS...   \n1  MSSWIRWHGPAMARLWGFCWLVVGFWRAAFACPTSCKCSASRIWCS...   \n2  MSSWIRWHGPAMARLWGFCWLVVGFWRAAFACPTSCKCSASRIWCS...   \n3  MSSWIRWHGPAMARLWGFCWLVVGFWRAAFACPTSCKCSASRIWCS...   \n4  TSCKCSASRIWCSDPSPGIVAFPRLEPNSVDPENITEIFIANQKRL...   \n\n                                           match_seq  \\\n0  MSSWIRWHGPAMARLWGFCWLVVGFWRAAFACPTSCKCSASRIWCS...   \n1  M SW + HGP MARL GFCWLV+ FWR + ACPTSC CS +RIWCS...   \n2  M SW + HGP MARL GFCWLV+ FWR + ACPTSC CS +RIWCS...   \n3  M SW + HGP MARL GFCWLV+ FWR + ACPTSC CS +RIWCS...   \n4  +SCKCSASRIWCSDP PGI+AFPRLEPN++DPENITEI+IANQKRL...   \n\n                                         subject_seq  query_start  query_end  \\\n0  MSSWIRWHGPAMARLWGFCWLVVGFWRAAFACPTSCKCSASRIWCS...            1        822   \n1  MLSWKKCHGPGMARLLGFCWLVLIFWRGSQACPTSCTCSTTRIWCS...            1        822   \n2  MLSWKKCHGPGMARLLGFCWLVLIFWRGSQACPTSCTCSTTRIWCS...            1        822   \n3  MLSWKKCHGPGMARLLGFCWLVLIFWRGSQACPTSCTCSTTRIWCS...            1        822   \n4  SSCKCSASRIWCSDPIPGIMAFPRLEPNTIDPENITEIYIANQKRL...           34        774   \n\n   subject_start  subject_end  identity  positive  gaps  eval  bit_score  \\\n0              1          822       822       822     0   0.0     4458.0   \n1              1          824       689       745     2   0.0     3749.0   \n2              1          821       689       745     1   0.0     3756.0   \n3              1          824       691       745     2   0.0     3764.0   \n4              2          739       710       724     3   0.0     3776.0   \n\n   count  \n0    200  \n1    200  \n2    200  \n3    200  \n4    200  ",
      "text/html": "<div>\n<style scoped>\n    .dataframe tbody tr th:only-of-type {\n        vertical-align: middle;\n    }\n\n    .dataframe tbody tr th {\n        vertical-align: top;\n    }\n\n    .dataframe thead th {\n        text-align: right;\n    }\n</style>\n<table border=\"1\" class=\"dataframe\">\n  <thead>\n    <tr style=\"text-align: right;\">\n      <th></th>\n      <th>query_id</th>\n      <th>subject_id</th>\n      <th>query_len</th>\n      <th>hsp_len</th>\n      <th>query_seq</th>\n      <th>match_seq</th>\n      <th>subject_seq</th>\n      <th>query_start</th>\n      <th>query_end</th>\n      <th>subject_start</th>\n      <th>subject_end</th>\n      <th>identity</th>\n      <th>positive</th>\n      <th>gaps</th>\n      <th>eval</th>\n      <th>bit_score</th>\n      <th>count</th>\n    </tr>\n  </thead>\n  <tbody>\n    <tr>\n      <th>0</th>\n      <td>Q16620</td>\n      <td>A0A2R9BM51</td>\n      <td>822</td>\n      <td>822</td>\n      <td>MSSWIRWHGPAMARLWGFCWLVVGFWRAAFACPTSCKCSASRIWCS...</td>\n      <td>MSSWIRWHGPAMARLWGFCWLVVGFWRAAFACPTSCKCSASRIWCS...</td>\n      <td>MSSWIRWHGPAMARLWGFCWLVVGFWRAAFACPTSCKCSASRIWCS...</td>\n      <td>1</td>\n      <td>822</td>\n      <td>1</td>\n      <td>822</td>\n      <td>822</td>\n      <td>822</td>\n      <td>0</td>\n      <td>0.0</td>\n      <td>4458.0</td>\n      <td>200</td>\n    </tr>\n    <tr>\n      <th>1</th>\n      <td>Q16620</td>\n      <td>A0A4X2LP40</td>\n      <td>822</td>\n      <td>824</td>\n      <td>MSSWIRWHGPAMARLWGFCWLVVGFWRAAFACPTSCKCSASRIWCS...</td>\n      <td>M SW + HGP MARL GFCWLV+ FWR + ACPTSC CS +RIWCS...</td>\n      <td>MLSWKKCHGPGMARLLGFCWLVLIFWRGSQACPTSCTCSTTRIWCS...</td>\n      <td>1</td>\n      <td>822</td>\n      <td>1</td>\n      <td>824</td>\n      <td>689</td>\n      <td>745</td>\n      <td>2</td>\n      <td>0.0</td>\n      <td>3749.0</td>\n      <td>200</td>\n    </tr>\n    <tr>\n      <th>2</th>\n      <td>Q16620</td>\n      <td>A0A4X2LDU8</td>\n      <td>822</td>\n      <td>822</td>\n      <td>MSSWIRWHGPAMARLWGFCWLVVGFWRAAFACPTSCKCSASRIWCS...</td>\n      <td>M SW + HGP MARL GFCWLV+ FWR + ACPTSC CS +RIWCS...</td>\n      <td>MLSWKKCHGPGMARLLGFCWLVLIFWRGSQACPTSCTCSTTRIWCS...</td>\n      <td>1</td>\n      <td>822</td>\n      <td>1</td>\n      <td>821</td>\n      <td>689</td>\n      <td>745</td>\n      <td>1</td>\n      <td>0.0</td>\n      <td>3756.0</td>\n      <td>200</td>\n    </tr>\n    <tr>\n      <th>3</th>\n      <td>Q16620</td>\n      <td>A0A6P5IKH1</td>\n      <td>822</td>\n      <td>824</td>\n      <td>MSSWIRWHGPAMARLWGFCWLVVGFWRAAFACPTSCKCSASRIWCS...</td>\n      <td>M SW + HGP MARL GFCWLV+ FWR + ACPTSC CS +RIWCS...</td>\n      <td>MLSWKKCHGPGMARLLGFCWLVLIFWRGSQACPTSCTCSTTRIWCS...</td>\n      <td>1</td>\n      <td>822</td>\n      <td>1</td>\n      <td>824</td>\n      <td>691</td>\n      <td>745</td>\n      <td>2</td>\n      <td>0.0</td>\n      <td>3764.0</td>\n      <td>200</td>\n    </tr>\n    <tr>\n      <th>4</th>\n      <td>Q16620</td>\n      <td>A0A7J7UQA2</td>\n      <td>822</td>\n      <td>741</td>\n      <td>TSCKCSASRIWCSDPSPGIVAFPRLEPNSVDPENITEIFIANQKRL...</td>\n      <td>+SCKCSASRIWCSDP PGI+AFPRLEPN++DPENITEI+IANQKRL...</td>\n      <td>SSCKCSASRIWCSDPIPGIMAFPRLEPNTIDPENITEIYIANQKRL...</td>\n      <td>34</td>\n      <td>774</td>\n      <td>2</td>\n      <td>739</td>\n      <td>710</td>\n      <td>724</td>\n      <td>3</td>\n      <td>0.0</td>\n      <td>3776.0</td>\n      <td>200</td>\n    </tr>\n  </tbody>\n</table>\n</div>"
     },
     "execution_count": 77,
     "metadata": {},
     "output_type": "execute_result"
    }
   ],
   "source": [
    "# Open XML file in a dataframe\n",
    "input_file = '{}/databases/uniprot/curated_uniprot.fasta_75'.format(directory) # change the file name if necessary\n",
    "df = blast_parser(input_file)\n",
    "print(f\"The number of instances: {len(df)}\")\n",
    "df.head(5)"
   ],
   "metadata": {
    "collapsed": false,
    "ExecuteTime": {
     "end_time": "2023-07-24T16:56:45.385622Z",
     "start_time": "2023-07-24T16:56:44.471191Z"
    }
   }
  },
  {
   "cell_type": "code",
   "execution_count": 78,
   "outputs": [
    {
     "name": "stdout",
     "output_type": "stream",
     "text": [
      "The number of the Curated Disprot database instances: 3151\n"
     ]
    },
    {
     "data": {
      "text/plain": "         acc evidence   feature   source  start  end  length\n6927  P03265  curated  disorder  disprot    294  334      41\n6928  P03265  curated  disorder  disprot    454  464      11\n6929  P49913  curated  disorder  disprot    134  170      37\n6930  P03045  curated  disorder  disprot      1  107     107\n6931  P00004  curated  disorder  disprot      1  105     105",
      "text/html": "<div>\n<style scoped>\n    .dataframe tbody tr th:only-of-type {\n        vertical-align: middle;\n    }\n\n    .dataframe tbody tr th {\n        vertical-align: top;\n    }\n\n    .dataframe thead th {\n        text-align: right;\n    }\n</style>\n<table border=\"1\" class=\"dataframe\">\n  <thead>\n    <tr style=\"text-align: right;\">\n      <th></th>\n      <th>acc</th>\n      <th>evidence</th>\n      <th>feature</th>\n      <th>source</th>\n      <th>start</th>\n      <th>end</th>\n      <th>length</th>\n    </tr>\n  </thead>\n  <tbody>\n    <tr>\n      <th>6927</th>\n      <td>P03265</td>\n      <td>curated</td>\n      <td>disorder</td>\n      <td>disprot</td>\n      <td>294</td>\n      <td>334</td>\n      <td>41</td>\n    </tr>\n    <tr>\n      <th>6928</th>\n      <td>P03265</td>\n      <td>curated</td>\n      <td>disorder</td>\n      <td>disprot</td>\n      <td>454</td>\n      <td>464</td>\n      <td>11</td>\n    </tr>\n    <tr>\n      <th>6929</th>\n      <td>P49913</td>\n      <td>curated</td>\n      <td>disorder</td>\n      <td>disprot</td>\n      <td>134</td>\n      <td>170</td>\n      <td>37</td>\n    </tr>\n    <tr>\n      <th>6930</th>\n      <td>P03045</td>\n      <td>curated</td>\n      <td>disorder</td>\n      <td>disprot</td>\n      <td>1</td>\n      <td>107</td>\n      <td>107</td>\n    </tr>\n    <tr>\n      <th>6931</th>\n      <td>P00004</td>\n      <td>curated</td>\n      <td>disorder</td>\n      <td>disprot</td>\n      <td>1</td>\n      <td>105</td>\n      <td>105</td>\n    </tr>\n  </tbody>\n</table>\n</div>"
     },
     "execution_count": 78,
     "metadata": {},
     "output_type": "execute_result"
    }
   ],
   "source": [
    "# Create a dataframe with Disprot instances from curated.mjson database\n",
    "data = list()\n",
    "\n",
    "with open('curated.mjson', 'r') as file:\n",
    "    for line in file:\n",
    "        obj = json.loads(line)\n",
    "        rows = json_parser(obj)\n",
    "        data.extend(rows)\n",
    "\n",
    "curated_disprot = pd.DataFrame(data)\n",
    "\n",
    "# Calculate the length of disordered regions\n",
    "curated_disprot['length'] = curated_disprot['end'] - curated_disprot['start'] + 1\n",
    "curated_disprot = curated_disprot[(curated_disprot['feature'] == 'disorder') & (curated_disprot['source'] == 'disprot')]\n",
    "\n",
    "print(f\"The number of the Curated Disprot database instances: {len(curated_disprot)}\")\n",
    "curated_disprot.head(5)"
   ],
   "metadata": {
    "collapsed": false,
    "ExecuteTime": {
     "end_time": "2023-07-24T16:56:45.812342Z",
     "start_time": "2023-07-24T16:56:45.748240Z"
    }
   }
  },
  {
   "cell_type": "code",
   "execution_count": 79,
   "outputs": [
    {
     "name": "stdout",
     "output_type": "stream",
     "text": [
      "The number of rows containing disordered regions: 2887\n"
     ]
    },
    {
     "data": {
      "text/plain": "    query_id  subject_id  query_len  hsp_len  \\\n200   Q9H832  A0A6J2FM24        354      356   \n201   Q9H832  A0A3Q7W6Y2        354      356   \n202   Q9H832  A0A2U3VK69        354      356   \n203   Q9H832  A0A2Y9JVH5        354      358   \n204   Q9H832  A0A8C7ALE4        354      358   \n\n                                             query_seq  \\\n200  MAESPTEEAATA--GAGAAGPGASSVAGVVGVSGSGGGFGPPFLPD...   \n201  MAESPTEEAATA--GAGAAGPGASSVAGVVGVSGSGGGFGPPFLPD...   \n202  MAESPTEEAATA--GAGAAGPGASSVAGVVGVSGSGGGFGPPFLPD...   \n203  MAESPTEEAATA----GAGAAGPGASSVAGVVGVSGSGGGFGPPFL...   \n204  MAESPTEEAATA----GAGAAGPGASSVAGVVGVSGSGGGFGPPFL...   \n\n                                             match_seq  \\\n200  MAESPTEEAATA  GAGAAGPGAS V GVVGVSGSG  FGPPFLPD...   \n201  MAESPTEEAATA  GAGA GPGAS VAGVVGVSGSG  FGPPFLPD...   \n202  MAESPTEEAATA  GAGAAGPGAS V GVVGVSGSG  FGPPFLPD...   \n203  MAESPTEEAATA    GAGAAGPGAS VAGVVGVSGSG  FGPPFL...   \n204  MAESPTEEAATA    GAGAAGPGAS VAGVVGVSGSG  FGPPFL...   \n\n                                           subject_seq  query_start  \\\n200  MAESPTEEAATATAGAGAAGPGASGVTGVVGVSGSG--FGPPFLPD...            1   \n201  MAESPTEEAATATAGAGATGPGASGVAGVVGVSGSG--FGPPFLPD...            1   \n202  MAESPTEEAATATAGAGAAGPGASGVTGVVGVSGSG--FGPPFLPD...            1   \n203  MAESPTEEAATATATAGAGAAGPGASGVAGVVGVSGSG--FGPPFL...            1   \n204  MAESPTEEAATATATAGAGAAGPGASGVAGVVGVSGSG--FGPPFL...            1   \n\n     query_end  subject_start  subject_end  identity  positive  gaps  eval  \\\n200        354              1          354       350       350     4   0.0   \n201        354              1          354       350       350     4   0.0   \n202        354              1          354       350       350     4   0.0   \n203        354              1          356       351       351     6   0.0   \n204        354              1          356       351       351     6   0.0   \n\n     bit_score  count  \n200     1851.0    200  \n201     1851.0    200  \n202     1851.0    200  \n203     1854.0    200  \n204     1854.0    200  ",
      "text/html": "<div>\n<style scoped>\n    .dataframe tbody tr th:only-of-type {\n        vertical-align: middle;\n    }\n\n    .dataframe tbody tr th {\n        vertical-align: top;\n    }\n\n    .dataframe thead th {\n        text-align: right;\n    }\n</style>\n<table border=\"1\" class=\"dataframe\">\n  <thead>\n    <tr style=\"text-align: right;\">\n      <th></th>\n      <th>query_id</th>\n      <th>subject_id</th>\n      <th>query_len</th>\n      <th>hsp_len</th>\n      <th>query_seq</th>\n      <th>match_seq</th>\n      <th>subject_seq</th>\n      <th>query_start</th>\n      <th>query_end</th>\n      <th>subject_start</th>\n      <th>subject_end</th>\n      <th>identity</th>\n      <th>positive</th>\n      <th>gaps</th>\n      <th>eval</th>\n      <th>bit_score</th>\n      <th>count</th>\n    </tr>\n  </thead>\n  <tbody>\n    <tr>\n      <th>200</th>\n      <td>Q9H832</td>\n      <td>A0A6J2FM24</td>\n      <td>354</td>\n      <td>356</td>\n      <td>MAESPTEEAATA--GAGAAGPGASSVAGVVGVSGSGGGFGPPFLPD...</td>\n      <td>MAESPTEEAATA  GAGAAGPGAS V GVVGVSGSG  FGPPFLPD...</td>\n      <td>MAESPTEEAATATAGAGAAGPGASGVTGVVGVSGSG--FGPPFLPD...</td>\n      <td>1</td>\n      <td>354</td>\n      <td>1</td>\n      <td>354</td>\n      <td>350</td>\n      <td>350</td>\n      <td>4</td>\n      <td>0.0</td>\n      <td>1851.0</td>\n      <td>200</td>\n    </tr>\n    <tr>\n      <th>201</th>\n      <td>Q9H832</td>\n      <td>A0A3Q7W6Y2</td>\n      <td>354</td>\n      <td>356</td>\n      <td>MAESPTEEAATA--GAGAAGPGASSVAGVVGVSGSGGGFGPPFLPD...</td>\n      <td>MAESPTEEAATA  GAGA GPGAS VAGVVGVSGSG  FGPPFLPD...</td>\n      <td>MAESPTEEAATATAGAGATGPGASGVAGVVGVSGSG--FGPPFLPD...</td>\n      <td>1</td>\n      <td>354</td>\n      <td>1</td>\n      <td>354</td>\n      <td>350</td>\n      <td>350</td>\n      <td>4</td>\n      <td>0.0</td>\n      <td>1851.0</td>\n      <td>200</td>\n    </tr>\n    <tr>\n      <th>202</th>\n      <td>Q9H832</td>\n      <td>A0A2U3VK69</td>\n      <td>354</td>\n      <td>356</td>\n      <td>MAESPTEEAATA--GAGAAGPGASSVAGVVGVSGSGGGFGPPFLPD...</td>\n      <td>MAESPTEEAATA  GAGAAGPGAS V GVVGVSGSG  FGPPFLPD...</td>\n      <td>MAESPTEEAATATAGAGAAGPGASGVTGVVGVSGSG--FGPPFLPD...</td>\n      <td>1</td>\n      <td>354</td>\n      <td>1</td>\n      <td>354</td>\n      <td>350</td>\n      <td>350</td>\n      <td>4</td>\n      <td>0.0</td>\n      <td>1851.0</td>\n      <td>200</td>\n    </tr>\n    <tr>\n      <th>203</th>\n      <td>Q9H832</td>\n      <td>A0A2Y9JVH5</td>\n      <td>354</td>\n      <td>358</td>\n      <td>MAESPTEEAATA----GAGAAGPGASSVAGVVGVSGSGGGFGPPFL...</td>\n      <td>MAESPTEEAATA    GAGAAGPGAS VAGVVGVSGSG  FGPPFL...</td>\n      <td>MAESPTEEAATATATAGAGAAGPGASGVAGVVGVSGSG--FGPPFL...</td>\n      <td>1</td>\n      <td>354</td>\n      <td>1</td>\n      <td>356</td>\n      <td>351</td>\n      <td>351</td>\n      <td>6</td>\n      <td>0.0</td>\n      <td>1854.0</td>\n      <td>200</td>\n    </tr>\n    <tr>\n      <th>204</th>\n      <td>Q9H832</td>\n      <td>A0A8C7ALE4</td>\n      <td>354</td>\n      <td>358</td>\n      <td>MAESPTEEAATA----GAGAAGPGASSVAGVVGVSGSGGGFGPPFL...</td>\n      <td>MAESPTEEAATA    GAGAAGPGAS VAGVVGVSGSG  FGPPFL...</td>\n      <td>MAESPTEEAATATATAGAGAAGPGASGVAGVVGVSGSG--FGPPFL...</td>\n      <td>1</td>\n      <td>354</td>\n      <td>1</td>\n      <td>356</td>\n      <td>351</td>\n      <td>351</td>\n      <td>6</td>\n      <td>0.0</td>\n      <td>1854.0</td>\n      <td>200</td>\n    </tr>\n  </tbody>\n</table>\n</div>"
     },
     "execution_count": 79,
     "metadata": {},
     "output_type": "execute_result"
    }
   ],
   "source": [
    "# Keep only disordered regions in the initial dataframe filtering using curated_disordered dataframe\n",
    "disordered = df[df['query_id'].isin(curated_disprot['acc'])]\n",
    "disordered.to_csv(\"disordered_df.csv\", index=False)\n",
    "\n",
    "print(f\"The number of rows containing disordered regions: {len(disordered)}\")\n",
    "disordered.head(5)"
   ],
   "metadata": {
    "collapsed": false,
    "ExecuteTime": {
     "end_time": "2023-07-24T16:56:59.164452Z",
     "start_time": "2023-07-24T16:56:59.060023Z"
    }
   }
  },
  {
   "cell_type": "code",
   "execution_count": 80,
   "metadata": {
    "ExecuteTime": {
     "end_time": "2023-07-24T16:57:00.512722Z",
     "start_time": "2023-07-24T16:57:00.471076Z"
    }
   },
   "outputs": [
    {
     "data": {
      "text/plain": "Select(description='Uniprot ID: ', layout=Layout(width='max-content'), options=('Q9H832', 'Q8IW19', 'Q99967', …",
      "application/vnd.jupyter.widget-view+json": {
       "version_major": 2,
       "version_minor": 0,
       "model_id": "712154fc36574a0bba0461be9fe089ac"
      }
     },
     "metadata": {},
     "output_type": "display_data"
    }
   ],
   "source": [
    "# Dropdown list of Uniprot query IDs for disordered regions\n",
    "output = widgets.Select(\n",
    "    options=disordered[\"query_id\"].unique(),\n",
    "    rows=10,\n",
    "    description='Uniprot ID: ',\n",
    "    layout={'width': 'max-content'},\n",
    "    disabled=False\n",
    ")\n",
    "display(output)"
   ]
  },
  {
   "cell_type": "code",
   "execution_count": 81,
   "metadata": {
    "ExecuteTime": {
     "end_time": "2023-07-24T16:57:03.703558Z",
     "start_time": "2023-07-24T16:57:03.700655Z"
    }
   },
   "outputs": [
    {
     "name": "stdout",
     "output_type": "stream",
     "text": [
      "The number of disordered regions found in the Q99967 protein: 1\n"
     ]
    },
    {
     "data": {
      "text/plain": "         acc evidence   feature   source  start  end  length\n7271  Q99967  curated  disorder  disprot    220  269      50",
      "text/html": "<div>\n<style scoped>\n    .dataframe tbody tr th:only-of-type {\n        vertical-align: middle;\n    }\n\n    .dataframe tbody tr th {\n        vertical-align: top;\n    }\n\n    .dataframe thead th {\n        text-align: right;\n    }\n</style>\n<table border=\"1\" class=\"dataframe\">\n  <thead>\n    <tr style=\"text-align: right;\">\n      <th></th>\n      <th>acc</th>\n      <th>evidence</th>\n      <th>feature</th>\n      <th>source</th>\n      <th>start</th>\n      <th>end</th>\n      <th>length</th>\n    </tr>\n  </thead>\n  <tbody>\n    <tr>\n      <th>7271</th>\n      <td>Q99967</td>\n      <td>curated</td>\n      <td>disorder</td>\n      <td>disprot</td>\n      <td>220</td>\n      <td>269</td>\n      <td>50</td>\n    </tr>\n  </tbody>\n</table>\n</div>"
     },
     "execution_count": 81,
     "metadata": {},
     "output_type": "execute_result"
    }
   ],
   "source": [
    "# Filter the curated_disprot dataframe on Uniprot query ID\n",
    "q_id = output.value\n",
    "curated_query = curated_disprot[curated_disprot['acc'] == q_id]\n",
    "\n",
    "print(f\"The number of disordered regions found in the {q_id} protein: {len(curated_query)}\")\n",
    "curated_query.head()"
   ]
  },
  {
   "cell_type": "code",
   "execution_count": 82,
   "outputs": [],
   "source": [
    "# Select the region and set the paths to HMM and MSA files\n",
    "i = 1 # change the number if there are several regions in a protein\n",
    "hmm_file = f'{local_path}/results/hmms/hmmbuild/{q_id}_{i}.hmm'\n",
    "align_file = f'{local_path}/results/alignments/output_files/disordered/{q_id}_{i}.fasta'"
   ],
   "metadata": {
    "collapsed": false,
    "ExecuteTime": {
     "end_time": "2023-07-24T16:57:07.857140Z",
     "start_time": "2023-07-24T16:57:07.850284Z"
    }
   }
  },
  {
   "cell_type": "markdown",
   "metadata": {
    "ExecuteTime": {
     "end_time": "2023-07-12T15:11:40.173969Z",
     "start_time": "2023-07-12T15:11:39.993013Z"
    }
   },
   "source": [
    "## 1. Build HMM\n",
    "We generate HMM model with `hmmbuild` using MSA as an input."
   ],
   "outputs": [
    {
     "name": "stdout",
     "output_type": "stream",
     "text": [
      "# hmmbuild :: profile HMM construction from multiple sequence alignments\r\n",
      "# HMMER 3.3.2 (Nov 2020); http://hmmer.org/\r\n",
      "# Copyright (C) 2020 Howard Hughes Medical Institute.\r\n",
      "# Freely distributed under the BSD open source license.\r\n",
      "# - - - - - - - - - - - - - - - - - - - - - - - - - - - - - - - - - - - -\r\n",
      "# input alignment file:             /Users/alina/HMM/results/alignments/output_files/disordered/Q8K4J6_2.fasta\r\n",
      "# output HMM file:                  /Users/alina/HMM/results/disordered/hmmbuild/Q8K4J6_2.hmm\r\n",
      "# - - - - - - - - - - - - - - - - - - - - - - - - - - - - - - - - - - - -\r\n",
      "\r\n",
      "# idx name                  nseq  alen  mlen eff_nseq re/pos description\r\n",
      "#---- -------------------- ----- ----- ----- -------- ------ -----------\r\n",
      "1     Q8K4J6_2               201    32    32     1.33  1.686 \r\n",
      "\r\n",
      "# CPU time: 0.02u 0.00s 00:00:00.02 Elapsed: 00:00:00.02\r\n"
     ]
    }
   ],
   "execution_count": 221
  },
  {
   "cell_type": "code",
   "execution_count": 56,
   "metadata": {
    "ExecuteTime": {
     "end_time": "2023-07-24T15:44:58.214316Z",
     "start_time": "2023-07-24T15:44:57.984217Z"
    }
   },
   "outputs": [
    {
     "name": "stdout",
     "output_type": "stream",
     "text": [
      "# hmmbuild :: profile HMM construction from multiple sequence alignments\r\n",
      "# HMMER 3.3.2 (Nov 2020); http://hmmer.org/\r\n",
      "# Copyright (C) 2020 Howard Hughes Medical Institute.\r\n",
      "# Freely distributed under the BSD open source license.\r\n",
      "# - - - - - - - - - - - - - - - - - - - - - - - - - - - - - - - - - - - -\r\n",
      "# input alignment file:             /Users/alina/HMM/results/alignments/output_files/disordered/O35274_2.fasta\r\n",
      "# output HMM file:                  /Users/alina/HMM/results/hmms/hmmbuild/O35274_2.hmm\r\n",
      "# - - - - - - - - - - - - - - - - - - - - - - - - - - - - - - - - - - - -\r\n",
      "\r\n",
      "# idx name                  nseq  alen  mlen eff_nseq re/pos description\r\n",
      "#---- -------------------- ----- ----- ----- -------- ------ -----------\r\n",
      "1     O35274_2               201    78    78     0.74  0.725 \r\n",
      "\r\n",
      "# CPU time: 0.03u 0.00s 00:00:00.03 Elapsed: 00:00:00.03\r\n"
     ]
    }
   ],
   "source": [
    "# Build HMM\n",
    "!hmmbuild {hmm_file} {align_file}"
   ]
  },
  {
   "cell_type": "markdown",
   "metadata": {},
   "source": [
    "Here we should pay attention at the occasional difference between the values of `alen` and `mlen` which stand for aligned sequence and consensus sequence lengths respectfully. If they differ, we handle the sequences with the deletions."
   ]
  },
  {
   "cell_type": "markdown",
   "metadata": {
    "ExecuteTime": {
     "end_time": "2023-07-12T15:11:40.550153Z",
     "start_time": "2023-07-12T15:11:40.547321Z"
    }
   },
   "source": [
    "## 2. HMMsearch\n",
    "\n",
    "After building the model, our objective is to assess if overlaps with the profiles in Reference Proteome 15% exist and to enrich the model by utilizing this database. We generate dataframes containing the most significant sequences, with a default E-value threshold of 0.01.\n",
    "\n",
    "### Reference Proteome"
   ],
   "outputs": [],
   "execution_count": 222
  },
  {
   "cell_type": "code",
   "execution_count": 68,
   "metadata": {
    "ExecuteTime": {
     "end_time": "2023-07-24T16:08:40.804392Z",
     "start_time": "2023-07-24T16:08:37.698438Z"
    }
   },
   "outputs": [
    {
     "name": "stdout",
     "output_type": "stream",
     "text": [
      "O35274_2.hmm                                  100%   36KB  91.7KB/s   00:00    \r\n"
     ]
    }
   ],
   "source": [
    "# Copy the HMM file to remote computer to perform HMM search on a cluster\n",
    "!scp {local_path}/results/hmms/hmmbuild/{q_id}_{i}.hmm {name}@{server}:~/{q_id}_{i}.hmm"
   ]
  },
  {
   "cell_type": "code",
   "execution_count": 69,
   "metadata": {
    "ExecuteTime": {
     "end_time": "2023-07-24T16:10:08.468556Z",
     "start_time": "2023-07-24T16:08:40.808962Z"
    }
   },
   "outputs": [],
   "source": [
    "# HMM search against Reference Proteome 15%\n",
    "!ssh {name}@{server} \"/software/packages/hmmer/hmmer-3.3.2/usr/bin/hmmsearch {q_id}_{i}.hmm /db/rp/rp-seqs-15.fasta.gz > hmmsearch_rp_15_{q_id}_{i}.txt\""
   ]
  },
  {
   "cell_type": "code",
   "execution_count": 70,
   "metadata": {
    "ExecuteTime": {
     "end_time": "2023-07-24T16:10:12.162051Z",
     "start_time": "2023-07-24T16:10:08.475754Z"
    }
   },
   "outputs": [
    {
     "name": "stdout",
     "output_type": "stream",
     "text": [
      "hmmsearch_rp_15_O35274_2.txt                  100%  341KB 258.3KB/s   00:01    \r\n"
     ]
    }
   ],
   "source": [
    "# Copy results to the local folder\n",
    "!scp {name}@{server}:~/hmmsearch_rp_15_{q_id}_{i}.txt {local_path}/results/hmms/hmmsearch/"
   ]
  },
  {
   "cell_type": "code",
   "execution_count": 83,
   "metadata": {
    "ExecuteTime": {
     "end_time": "2023-07-24T16:57:13.127677Z",
     "start_time": "2023-07-24T16:57:13.083560Z"
    }
   },
   "outputs": [
    {
     "name": "stdout",
     "output_type": "stream",
     "text": [
      "The number of unique sequences: 53\n"
     ]
    },
    {
     "data": {
      "text/plain": "    E-value  score bias  E-value  score bias  exp  N    Sequence  \\\n0   8.6e-37  133.7  1.3  1.1e-36  133.3  1.3  1.2  1      M7BZC1   \n1   1.5e-36  132.9  1.3    2e-36  132.5  1.3  1.1  1      S9WIN3   \n2   2.1e-36  132.5  1.3  3.8e-36  131.6  1.3  1.5  1      F1R408   \n3   2.1e-36  132.5  1.3  3.8e-36  131.6  1.3  1.5  1      Q5XJD6   \n4   2.1e-36  132.4  1.3  3.4e-36  131.8  1.3  1.3  1  A0A7N9IHM0   \n5   2.1e-36  132.4  1.3  3.2e-36  131.9  1.3  1.3  1  A0A7N9CLV6   \n6   2.6e-36  132.2  1.3  4.2e-36  131.5  1.3  1.4  1  A0A2K6SUZ1   \n7   2.8e-36  132.0  1.3  4.3e-36  131.4  1.3  1.3  1  A0A444U6U9   \n8   2.9e-36  132.0  1.3  4.2e-36  131.5  1.3  1.3  1      Q9DDW4   \n9   2.9e-36  132.0  1.3  4.5e-36  131.4  1.3  1.3  1  A0A2I0THR9   \n10  3.4e-36  131.8  1.3  5.3e-36  131.2  1.3  1.3  1      O35740   \n11  3.4e-36  131.8  1.3  5.3e-36  131.2  1.3  1.3  1      Q99MA1   \n12  3.4e-36  131.8  1.3  5.5e-36  131.1  1.3  1.3  1  A0A2K6SUX1   \n13  3.4e-36  131.8  1.3  5.3e-36  131.2  1.3  1.3  1      Q99967   \n14  1.2e-32  120.5  1.3  1.8e-32  119.9  1.3  1.3  1  A0A2G9RGG5   \n15  2.2e-29  110.0  0.6  3.2e-29  109.5  0.6  1.2  1  A0A4W3GLQ2   \n16  9.7e-26   98.3  1.1  1.5e-25   97.7  0.7  1.5  1  A0A4Z2J7K6   \n17  3.1e-25   96.7  0.9    5e-25   96.0  0.9  1.3  1      Q1L8S4   \n18  3.2e-25   96.7  0.9    5e-25   96.0  0.9  1.3  1      Q08CF6   \n19  4.8e-25   96.1  0.4  6.2e-25   95.7  0.4  1.1  1  A0A444V2X1   \n20  1.6e-24   94.4  0.3  2.6e-24   93.7  0.3  1.3  1      Q9I8K7   \n21  3.2e-24   93.4  0.3  5.4e-24   92.7  0.3  1.4  1  A0A2I0TT05   \n22    4e-24   93.1  0.6  6.2e-24   92.5  0.6  1.3  1  A0A4Z2JGS4   \n23  7.1e-24   92.3  0.4  1.4e-23   91.4  0.4  1.5  1  A0A8M1PCE9   \n24  7.1e-24   92.3  0.4  1.4e-23   91.4  0.4  1.5  1      A8E5L7   \n25  7.1e-24   92.3  0.4  1.4e-23   91.4  0.4  1.5  1      Q789M2   \n26  8.8e-24   92.0  0.3  1.3e-23   91.5  0.3  1.2  1      M7BCS7   \n27  1.1e-22   88.5  0.3  2.1e-22   87.6  0.3  1.5  1  A0A4W3JFP2   \n28  8.2e-21   82.5  0.3  1.3e-20   81.9  0.3  1.3  1      V8P574   \n29  1.5e-19   78.5  0.2  1.9e-19   78.1  0.2  1.1  1      T0NNF7   \n30  6.2e-19   76.5  0.1  9.1e-19   76.0  0.1  1.2  1      M7CEA0   \n31  1.3e-18   75.4  0.2    2e-18   74.9  0.2  1.2  1      Q99966   \n32  1.5e-18   75.3  0.2  2.2e-18   74.7  0.2  1.2  1  A0A2K6S775   \n33  1.5e-18   75.3  0.2  2.3e-18   74.7  0.2  1.2  1      P97769   \n34  1.6e-18   75.2  0.2  2.3e-18   74.7  0.2  1.2  1      Q4V8P1   \n35  1.8e-18   75.1  0.2  2.7e-18   74.5  0.2  1.2  1  A0A2K6S786   \n36  1.9e-18   75.0  0.2    3e-18   74.3  0.2  1.3  1  A0A0G2JVK0   \n37  2.3e-18   74.7  0.3  3.2e-18   74.2  0.3  1.2  1  A0A444V061   \n38  3.1e-18   74.3  0.3  4.7e-18   73.7  0.3  1.2  1  A0A662YN44   \n39  3.1e-18   74.3  0.3  4.6e-18   73.7  0.3  1.2  1      B1AAP0   \n40  3.4e-18   74.1  0.3  5.2e-18   73.6  0.3  1.2  1      F1QI18   \n41  3.5e-18   74.1  0.3    6e-18   73.4  0.3  1.4  1      H3AZK9   \n42  2.1e-17   71.6  1.5  3.2e-17   71.0  1.5  1.2  1      H3ASX6   \n43  5.8e-17   70.2  0.1  1.1e-16   69.3  0.1  1.4  1  A0A8J4UB31   \n44  2.1e-13   58.8  0.2    3e-13   58.3  0.2  1.2  1  A0A8C4QB40   \n45  2.9e-10   48.7  0.0  4.1e-10   48.3  0.0  1.1  1      Q9WUL8   \n46  5.4e-10   47.9  0.3  1.2e-09   46.8  0.3  1.6  1  A0A6P5AXY3   \n47  7.7e-10   47.4  0.0  1.1e-09   46.9  0.0  1.2  1      Q99MA0   \n48  8.1e-10   47.3  0.0  1.2e-09   46.8  0.0  1.2  1      Q96RK1   \n49  0.00026   29.7  6.7   0.0039   25.9  6.7  2.2  1  A0A8I5ZVC9   \n50  0.00026   29.7  6.7    0.004   25.9  6.7  2.2  1  A0A8I6GGY6   \n51  0.00039   29.1  4.1  1.7e+03    7.9  0.0  5.7  5  A0A7J7B172   \n52   0.0024   26.6  3.4  1.4e+02   11.4  0.0  4.1  4  A0A0B4S2Z9   \n\n                                          Description  \n0   M7BZC1_CHEMY^|^^|^Uncharacterized protein {ECO:00  \n1   S9WIN3_CAMFR^|^^|^Cbp/p300-interacting transactiv  \n2   F1R408_DANRE^|^^|^Cbp/p300-interacting transactiv  \n3   Q5XJD6_DANRE^|^^|^Zgc:103418 {ECO:0000313|EMBL:AA  \n4   A0A7N9IHM0_MACFA^|^^|^Uncharacterized protein {EC  \n5   A0A7N9CLV6_MACFA^|^^|^Cbp/p300 interacting transa  \n6   A0A2K6SUZ1_SAIBB^|^^|^Cbp/p300 interacting transa  \n7   A0A444U6U9_ACIRT^|^^|^Cbp/p300-interacting transa  \n8   Q9DDW4_CHICK^|^^|^Cited2/melanocyte specific gene  \n9   A0A2I0THR9_LIMLA^|^^|^Uncharacterized protein {EC  \n10  CITE2_MOUSE^|^^|^Cbp/p300-interacting transactiva  \n11  Q99MA1_RAT^|^^|^Cbp/p300-interacting transactivat  \n12  A0A2K6SUX1_SAIBB^|^^|^Cbp/p300 interacting transa  \n13  CITE2_HUMAN^|^^|^Cbp/p300-interacting transactiva  \n14  A0A2G9RGG5_LITCT^|^^|^Uncharacterized protein {EC  \n15  A0A4W3GLQ2_CALMI^|^^|^Uncharacterized protein {EC  \n16  A0A4Z2J7K6_9TELE^|^^|^Cbp/p300-interacting transa  \n17  Q1L8S4_DANRE^|^^|^Cbp/p300-interacting transactiv  \n18  Q08CF6_DANRE^|^^|^Cbp/p300-interacting transactiv  \n19  A0A444V2X1_ACIRT^|^^|^Cbp/p300-interacting transa  \n20  CITE3_CHICK^|^^|^Cbp/p300-interacting transactiva  \n21  A0A2I0TT05_LIMLA^|^^|^Uncharacterized protein {EC  \n22  A0A4Z2JGS4_9TELE^|^^|^Cbp/p300-interacting transa  \n23  A0A8M1PCE9_DANRE^|^^|^Cbp/p300-interacting transa  \n24  A8E5L7_DANRE^|^^|^Cbp/p300-interacting transactiv  \n25  Q789M2_DANRE^|^^|^CBP/p300-interacting transactiv  \n26  M7BCS7_CHEMY^|^^|^Uncharacterized protein {ECO:00  \n27  A0A4W3JFP2_CALMI^|^^|^Uncharacterized protein {EC  \n28   V8P574_OPHHA^|^^|^Cbp-interacting transactivator  \n29  T0NNF7_CAMFR^|^^|^Uncharacterized protein {ECO:00  \n30  M7CEA0_CHEMY^|^^|^Uncharacterized protein {ECO:00  \n31  CITE1_HUMAN^|^JC6114^|^Cbp/p300-interacting trans  \n32  A0A2K6S775_SAIBB^|^^|^Cbp/p300 interacting transa  \n33  CITE1_MOUSE^|^JC6113^|^Cbp/p300-interacting trans  \n34  Q4V8P1_RAT^|^^|^Cbp/p300-interacting transactivat  \n35  A0A2K6S786_SAIBB^|^^|^Cbp/p300 interacting transa  \n36  A0A0G2JVK0_RAT^|^^|^Cbp/p300-interacting transact  \n37  A0A444V061_ACIRT^|^^|^Cbp/p300-interacting transa  \n38  A0A662YN44_ACIRT^|^^|^Cbp/p300-interacting transa  \n39  B1AAP0_DANRE^|^^|^Cited1 isoform a {ECO:0000313|E  \n40  F1QI18_DANRE^|^^|^Cbp/p300-interacting transactiv  \n41  H3AZK9_LATCH^|^^|^Uncharacterized protein {ECO:00  \n42  H3ASX6_LATCH^|^^|^Cbp/p300 interacting transactiv  \n43  A0A8J4UB31_CLAMG^|^^|^40S ribosomal protein S4, X  \n44  A0A8C4QB40_EPTBU^|^^|^Uncharacterized protein {EC  \n45  CITE4_MOUSE^|^^|^Cbp/p300-interacting transactiva  \n46  A0A6P5AXY3_BRABE^|^^|^cbp/p300-interacting transa  \n47  CITE4_RAT^|^^|^Cbp/p300-interacting transactivato  \n48  CITE4_HUMAN^|^^|^Cbp/p300-interacting transactiva  \n49  A0A8I5ZVC9_RAT^|^^|^Uncharacterized protein {ECO:  \n50  A0A8I6GGY6_RAT^|^^|^Uncharacterized protein {ECO:  \n51  A0A7J7B172_9COLE^|^^|^Uncharacterized protein {EC  \n52  A0A0B4S2Z9_9FIRM^|^^|^Uncharacterized protein {EC  ",
      "text/html": "<div>\n<style scoped>\n    .dataframe tbody tr th:only-of-type {\n        vertical-align: middle;\n    }\n\n    .dataframe tbody tr th {\n        vertical-align: top;\n    }\n\n    .dataframe thead th {\n        text-align: right;\n    }\n</style>\n<table border=\"1\" class=\"dataframe\">\n  <thead>\n    <tr style=\"text-align: right;\">\n      <th></th>\n      <th>E-value</th>\n      <th>score</th>\n      <th>bias</th>\n      <th>E-value</th>\n      <th>score</th>\n      <th>bias</th>\n      <th>exp</th>\n      <th>N</th>\n      <th>Sequence</th>\n      <th>Description</th>\n    </tr>\n  </thead>\n  <tbody>\n    <tr>\n      <th>0</th>\n      <td>8.6e-37</td>\n      <td>133.7</td>\n      <td>1.3</td>\n      <td>1.1e-36</td>\n      <td>133.3</td>\n      <td>1.3</td>\n      <td>1.2</td>\n      <td>1</td>\n      <td>M7BZC1</td>\n      <td>M7BZC1_CHEMY^|^^|^Uncharacterized protein {ECO:00</td>\n    </tr>\n    <tr>\n      <th>1</th>\n      <td>1.5e-36</td>\n      <td>132.9</td>\n      <td>1.3</td>\n      <td>2e-36</td>\n      <td>132.5</td>\n      <td>1.3</td>\n      <td>1.1</td>\n      <td>1</td>\n      <td>S9WIN3</td>\n      <td>S9WIN3_CAMFR^|^^|^Cbp/p300-interacting transactiv</td>\n    </tr>\n    <tr>\n      <th>2</th>\n      <td>2.1e-36</td>\n      <td>132.5</td>\n      <td>1.3</td>\n      <td>3.8e-36</td>\n      <td>131.6</td>\n      <td>1.3</td>\n      <td>1.5</td>\n      <td>1</td>\n      <td>F1R408</td>\n      <td>F1R408_DANRE^|^^|^Cbp/p300-interacting transactiv</td>\n    </tr>\n    <tr>\n      <th>3</th>\n      <td>2.1e-36</td>\n      <td>132.5</td>\n      <td>1.3</td>\n      <td>3.8e-36</td>\n      <td>131.6</td>\n      <td>1.3</td>\n      <td>1.5</td>\n      <td>1</td>\n      <td>Q5XJD6</td>\n      <td>Q5XJD6_DANRE^|^^|^Zgc:103418 {ECO:0000313|EMBL:AA</td>\n    </tr>\n    <tr>\n      <th>4</th>\n      <td>2.1e-36</td>\n      <td>132.4</td>\n      <td>1.3</td>\n      <td>3.4e-36</td>\n      <td>131.8</td>\n      <td>1.3</td>\n      <td>1.3</td>\n      <td>1</td>\n      <td>A0A7N9IHM0</td>\n      <td>A0A7N9IHM0_MACFA^|^^|^Uncharacterized protein {EC</td>\n    </tr>\n    <tr>\n      <th>5</th>\n      <td>2.1e-36</td>\n      <td>132.4</td>\n      <td>1.3</td>\n      <td>3.2e-36</td>\n      <td>131.9</td>\n      <td>1.3</td>\n      <td>1.3</td>\n      <td>1</td>\n      <td>A0A7N9CLV6</td>\n      <td>A0A7N9CLV6_MACFA^|^^|^Cbp/p300 interacting transa</td>\n    </tr>\n    <tr>\n      <th>6</th>\n      <td>2.6e-36</td>\n      <td>132.2</td>\n      <td>1.3</td>\n      <td>4.2e-36</td>\n      <td>131.5</td>\n      <td>1.3</td>\n      <td>1.4</td>\n      <td>1</td>\n      <td>A0A2K6SUZ1</td>\n      <td>A0A2K6SUZ1_SAIBB^|^^|^Cbp/p300 interacting transa</td>\n    </tr>\n    <tr>\n      <th>7</th>\n      <td>2.8e-36</td>\n      <td>132.0</td>\n      <td>1.3</td>\n      <td>4.3e-36</td>\n      <td>131.4</td>\n      <td>1.3</td>\n      <td>1.3</td>\n      <td>1</td>\n      <td>A0A444U6U9</td>\n      <td>A0A444U6U9_ACIRT^|^^|^Cbp/p300-interacting transa</td>\n    </tr>\n    <tr>\n      <th>8</th>\n      <td>2.9e-36</td>\n      <td>132.0</td>\n      <td>1.3</td>\n      <td>4.2e-36</td>\n      <td>131.5</td>\n      <td>1.3</td>\n      <td>1.3</td>\n      <td>1</td>\n      <td>Q9DDW4</td>\n      <td>Q9DDW4_CHICK^|^^|^Cited2/melanocyte specific gene</td>\n    </tr>\n    <tr>\n      <th>9</th>\n      <td>2.9e-36</td>\n      <td>132.0</td>\n      <td>1.3</td>\n      <td>4.5e-36</td>\n      <td>131.4</td>\n      <td>1.3</td>\n      <td>1.3</td>\n      <td>1</td>\n      <td>A0A2I0THR9</td>\n      <td>A0A2I0THR9_LIMLA^|^^|^Uncharacterized protein {EC</td>\n    </tr>\n    <tr>\n      <th>10</th>\n      <td>3.4e-36</td>\n      <td>131.8</td>\n      <td>1.3</td>\n      <td>5.3e-36</td>\n      <td>131.2</td>\n      <td>1.3</td>\n      <td>1.3</td>\n      <td>1</td>\n      <td>O35740</td>\n      <td>CITE2_MOUSE^|^^|^Cbp/p300-interacting transactiva</td>\n    </tr>\n    <tr>\n      <th>11</th>\n      <td>3.4e-36</td>\n      <td>131.8</td>\n      <td>1.3</td>\n      <td>5.3e-36</td>\n      <td>131.2</td>\n      <td>1.3</td>\n      <td>1.3</td>\n      <td>1</td>\n      <td>Q99MA1</td>\n      <td>Q99MA1_RAT^|^^|^Cbp/p300-interacting transactivat</td>\n    </tr>\n    <tr>\n      <th>12</th>\n      <td>3.4e-36</td>\n      <td>131.8</td>\n      <td>1.3</td>\n      <td>5.5e-36</td>\n      <td>131.1</td>\n      <td>1.3</td>\n      <td>1.3</td>\n      <td>1</td>\n      <td>A0A2K6SUX1</td>\n      <td>A0A2K6SUX1_SAIBB^|^^|^Cbp/p300 interacting transa</td>\n    </tr>\n    <tr>\n      <th>13</th>\n      <td>3.4e-36</td>\n      <td>131.8</td>\n      <td>1.3</td>\n      <td>5.3e-36</td>\n      <td>131.2</td>\n      <td>1.3</td>\n      <td>1.3</td>\n      <td>1</td>\n      <td>Q99967</td>\n      <td>CITE2_HUMAN^|^^|^Cbp/p300-interacting transactiva</td>\n    </tr>\n    <tr>\n      <th>14</th>\n      <td>1.2e-32</td>\n      <td>120.5</td>\n      <td>1.3</td>\n      <td>1.8e-32</td>\n      <td>119.9</td>\n      <td>1.3</td>\n      <td>1.3</td>\n      <td>1</td>\n      <td>A0A2G9RGG5</td>\n      <td>A0A2G9RGG5_LITCT^|^^|^Uncharacterized protein {EC</td>\n    </tr>\n    <tr>\n      <th>15</th>\n      <td>2.2e-29</td>\n      <td>110.0</td>\n      <td>0.6</td>\n      <td>3.2e-29</td>\n      <td>109.5</td>\n      <td>0.6</td>\n      <td>1.2</td>\n      <td>1</td>\n      <td>A0A4W3GLQ2</td>\n      <td>A0A4W3GLQ2_CALMI^|^^|^Uncharacterized protein {EC</td>\n    </tr>\n    <tr>\n      <th>16</th>\n      <td>9.7e-26</td>\n      <td>98.3</td>\n      <td>1.1</td>\n      <td>1.5e-25</td>\n      <td>97.7</td>\n      <td>0.7</td>\n      <td>1.5</td>\n      <td>1</td>\n      <td>A0A4Z2J7K6</td>\n      <td>A0A4Z2J7K6_9TELE^|^^|^Cbp/p300-interacting transa</td>\n    </tr>\n    <tr>\n      <th>17</th>\n      <td>3.1e-25</td>\n      <td>96.7</td>\n      <td>0.9</td>\n      <td>5e-25</td>\n      <td>96.0</td>\n      <td>0.9</td>\n      <td>1.3</td>\n      <td>1</td>\n      <td>Q1L8S4</td>\n      <td>Q1L8S4_DANRE^|^^|^Cbp/p300-interacting transactiv</td>\n    </tr>\n    <tr>\n      <th>18</th>\n      <td>3.2e-25</td>\n      <td>96.7</td>\n      <td>0.9</td>\n      <td>5e-25</td>\n      <td>96.0</td>\n      <td>0.9</td>\n      <td>1.3</td>\n      <td>1</td>\n      <td>Q08CF6</td>\n      <td>Q08CF6_DANRE^|^^|^Cbp/p300-interacting transactiv</td>\n    </tr>\n    <tr>\n      <th>19</th>\n      <td>4.8e-25</td>\n      <td>96.1</td>\n      <td>0.4</td>\n      <td>6.2e-25</td>\n      <td>95.7</td>\n      <td>0.4</td>\n      <td>1.1</td>\n      <td>1</td>\n      <td>A0A444V2X1</td>\n      <td>A0A444V2X1_ACIRT^|^^|^Cbp/p300-interacting transa</td>\n    </tr>\n    <tr>\n      <th>20</th>\n      <td>1.6e-24</td>\n      <td>94.4</td>\n      <td>0.3</td>\n      <td>2.6e-24</td>\n      <td>93.7</td>\n      <td>0.3</td>\n      <td>1.3</td>\n      <td>1</td>\n      <td>Q9I8K7</td>\n      <td>CITE3_CHICK^|^^|^Cbp/p300-interacting transactiva</td>\n    </tr>\n    <tr>\n      <th>21</th>\n      <td>3.2e-24</td>\n      <td>93.4</td>\n      <td>0.3</td>\n      <td>5.4e-24</td>\n      <td>92.7</td>\n      <td>0.3</td>\n      <td>1.4</td>\n      <td>1</td>\n      <td>A0A2I0TT05</td>\n      <td>A0A2I0TT05_LIMLA^|^^|^Uncharacterized protein {EC</td>\n    </tr>\n    <tr>\n      <th>22</th>\n      <td>4e-24</td>\n      <td>93.1</td>\n      <td>0.6</td>\n      <td>6.2e-24</td>\n      <td>92.5</td>\n      <td>0.6</td>\n      <td>1.3</td>\n      <td>1</td>\n      <td>A0A4Z2JGS4</td>\n      <td>A0A4Z2JGS4_9TELE^|^^|^Cbp/p300-interacting transa</td>\n    </tr>\n    <tr>\n      <th>23</th>\n      <td>7.1e-24</td>\n      <td>92.3</td>\n      <td>0.4</td>\n      <td>1.4e-23</td>\n      <td>91.4</td>\n      <td>0.4</td>\n      <td>1.5</td>\n      <td>1</td>\n      <td>A0A8M1PCE9</td>\n      <td>A0A8M1PCE9_DANRE^|^^|^Cbp/p300-interacting transa</td>\n    </tr>\n    <tr>\n      <th>24</th>\n      <td>7.1e-24</td>\n      <td>92.3</td>\n      <td>0.4</td>\n      <td>1.4e-23</td>\n      <td>91.4</td>\n      <td>0.4</td>\n      <td>1.5</td>\n      <td>1</td>\n      <td>A8E5L7</td>\n      <td>A8E5L7_DANRE^|^^|^Cbp/p300-interacting transactiv</td>\n    </tr>\n    <tr>\n      <th>25</th>\n      <td>7.1e-24</td>\n      <td>92.3</td>\n      <td>0.4</td>\n      <td>1.4e-23</td>\n      <td>91.4</td>\n      <td>0.4</td>\n      <td>1.5</td>\n      <td>1</td>\n      <td>Q789M2</td>\n      <td>Q789M2_DANRE^|^^|^CBP/p300-interacting transactiv</td>\n    </tr>\n    <tr>\n      <th>26</th>\n      <td>8.8e-24</td>\n      <td>92.0</td>\n      <td>0.3</td>\n      <td>1.3e-23</td>\n      <td>91.5</td>\n      <td>0.3</td>\n      <td>1.2</td>\n      <td>1</td>\n      <td>M7BCS7</td>\n      <td>M7BCS7_CHEMY^|^^|^Uncharacterized protein {ECO:00</td>\n    </tr>\n    <tr>\n      <th>27</th>\n      <td>1.1e-22</td>\n      <td>88.5</td>\n      <td>0.3</td>\n      <td>2.1e-22</td>\n      <td>87.6</td>\n      <td>0.3</td>\n      <td>1.5</td>\n      <td>1</td>\n      <td>A0A4W3JFP2</td>\n      <td>A0A4W3JFP2_CALMI^|^^|^Uncharacterized protein {EC</td>\n    </tr>\n    <tr>\n      <th>28</th>\n      <td>8.2e-21</td>\n      <td>82.5</td>\n      <td>0.3</td>\n      <td>1.3e-20</td>\n      <td>81.9</td>\n      <td>0.3</td>\n      <td>1.3</td>\n      <td>1</td>\n      <td>V8P574</td>\n      <td>V8P574_OPHHA^|^^|^Cbp-interacting transactivator</td>\n    </tr>\n    <tr>\n      <th>29</th>\n      <td>1.5e-19</td>\n      <td>78.5</td>\n      <td>0.2</td>\n      <td>1.9e-19</td>\n      <td>78.1</td>\n      <td>0.2</td>\n      <td>1.1</td>\n      <td>1</td>\n      <td>T0NNF7</td>\n      <td>T0NNF7_CAMFR^|^^|^Uncharacterized protein {ECO:00</td>\n    </tr>\n    <tr>\n      <th>30</th>\n      <td>6.2e-19</td>\n      <td>76.5</td>\n      <td>0.1</td>\n      <td>9.1e-19</td>\n      <td>76.0</td>\n      <td>0.1</td>\n      <td>1.2</td>\n      <td>1</td>\n      <td>M7CEA0</td>\n      <td>M7CEA0_CHEMY^|^^|^Uncharacterized protein {ECO:00</td>\n    </tr>\n    <tr>\n      <th>31</th>\n      <td>1.3e-18</td>\n      <td>75.4</td>\n      <td>0.2</td>\n      <td>2e-18</td>\n      <td>74.9</td>\n      <td>0.2</td>\n      <td>1.2</td>\n      <td>1</td>\n      <td>Q99966</td>\n      <td>CITE1_HUMAN^|^JC6114^|^Cbp/p300-interacting trans</td>\n    </tr>\n    <tr>\n      <th>32</th>\n      <td>1.5e-18</td>\n      <td>75.3</td>\n      <td>0.2</td>\n      <td>2.2e-18</td>\n      <td>74.7</td>\n      <td>0.2</td>\n      <td>1.2</td>\n      <td>1</td>\n      <td>A0A2K6S775</td>\n      <td>A0A2K6S775_SAIBB^|^^|^Cbp/p300 interacting transa</td>\n    </tr>\n    <tr>\n      <th>33</th>\n      <td>1.5e-18</td>\n      <td>75.3</td>\n      <td>0.2</td>\n      <td>2.3e-18</td>\n      <td>74.7</td>\n      <td>0.2</td>\n      <td>1.2</td>\n      <td>1</td>\n      <td>P97769</td>\n      <td>CITE1_MOUSE^|^JC6113^|^Cbp/p300-interacting trans</td>\n    </tr>\n    <tr>\n      <th>34</th>\n      <td>1.6e-18</td>\n      <td>75.2</td>\n      <td>0.2</td>\n      <td>2.3e-18</td>\n      <td>74.7</td>\n      <td>0.2</td>\n      <td>1.2</td>\n      <td>1</td>\n      <td>Q4V8P1</td>\n      <td>Q4V8P1_RAT^|^^|^Cbp/p300-interacting transactivat</td>\n    </tr>\n    <tr>\n      <th>35</th>\n      <td>1.8e-18</td>\n      <td>75.1</td>\n      <td>0.2</td>\n      <td>2.7e-18</td>\n      <td>74.5</td>\n      <td>0.2</td>\n      <td>1.2</td>\n      <td>1</td>\n      <td>A0A2K6S786</td>\n      <td>A0A2K6S786_SAIBB^|^^|^Cbp/p300 interacting transa</td>\n    </tr>\n    <tr>\n      <th>36</th>\n      <td>1.9e-18</td>\n      <td>75.0</td>\n      <td>0.2</td>\n      <td>3e-18</td>\n      <td>74.3</td>\n      <td>0.2</td>\n      <td>1.3</td>\n      <td>1</td>\n      <td>A0A0G2JVK0</td>\n      <td>A0A0G2JVK0_RAT^|^^|^Cbp/p300-interacting transact</td>\n    </tr>\n    <tr>\n      <th>37</th>\n      <td>2.3e-18</td>\n      <td>74.7</td>\n      <td>0.3</td>\n      <td>3.2e-18</td>\n      <td>74.2</td>\n      <td>0.3</td>\n      <td>1.2</td>\n      <td>1</td>\n      <td>A0A444V061</td>\n      <td>A0A444V061_ACIRT^|^^|^Cbp/p300-interacting transa</td>\n    </tr>\n    <tr>\n      <th>38</th>\n      <td>3.1e-18</td>\n      <td>74.3</td>\n      <td>0.3</td>\n      <td>4.7e-18</td>\n      <td>73.7</td>\n      <td>0.3</td>\n      <td>1.2</td>\n      <td>1</td>\n      <td>A0A662YN44</td>\n      <td>A0A662YN44_ACIRT^|^^|^Cbp/p300-interacting transa</td>\n    </tr>\n    <tr>\n      <th>39</th>\n      <td>3.1e-18</td>\n      <td>74.3</td>\n      <td>0.3</td>\n      <td>4.6e-18</td>\n      <td>73.7</td>\n      <td>0.3</td>\n      <td>1.2</td>\n      <td>1</td>\n      <td>B1AAP0</td>\n      <td>B1AAP0_DANRE^|^^|^Cited1 isoform a {ECO:0000313|E</td>\n    </tr>\n    <tr>\n      <th>40</th>\n      <td>3.4e-18</td>\n      <td>74.1</td>\n      <td>0.3</td>\n      <td>5.2e-18</td>\n      <td>73.6</td>\n      <td>0.3</td>\n      <td>1.2</td>\n      <td>1</td>\n      <td>F1QI18</td>\n      <td>F1QI18_DANRE^|^^|^Cbp/p300-interacting transactiv</td>\n    </tr>\n    <tr>\n      <th>41</th>\n      <td>3.5e-18</td>\n      <td>74.1</td>\n      <td>0.3</td>\n      <td>6e-18</td>\n      <td>73.4</td>\n      <td>0.3</td>\n      <td>1.4</td>\n      <td>1</td>\n      <td>H3AZK9</td>\n      <td>H3AZK9_LATCH^|^^|^Uncharacterized protein {ECO:00</td>\n    </tr>\n    <tr>\n      <th>42</th>\n      <td>2.1e-17</td>\n      <td>71.6</td>\n      <td>1.5</td>\n      <td>3.2e-17</td>\n      <td>71.0</td>\n      <td>1.5</td>\n      <td>1.2</td>\n      <td>1</td>\n      <td>H3ASX6</td>\n      <td>H3ASX6_LATCH^|^^|^Cbp/p300 interacting transactiv</td>\n    </tr>\n    <tr>\n      <th>43</th>\n      <td>5.8e-17</td>\n      <td>70.2</td>\n      <td>0.1</td>\n      <td>1.1e-16</td>\n      <td>69.3</td>\n      <td>0.1</td>\n      <td>1.4</td>\n      <td>1</td>\n      <td>A0A8J4UB31</td>\n      <td>A0A8J4UB31_CLAMG^|^^|^40S ribosomal protein S4, X</td>\n    </tr>\n    <tr>\n      <th>44</th>\n      <td>2.1e-13</td>\n      <td>58.8</td>\n      <td>0.2</td>\n      <td>3e-13</td>\n      <td>58.3</td>\n      <td>0.2</td>\n      <td>1.2</td>\n      <td>1</td>\n      <td>A0A8C4QB40</td>\n      <td>A0A8C4QB40_EPTBU^|^^|^Uncharacterized protein {EC</td>\n    </tr>\n    <tr>\n      <th>45</th>\n      <td>2.9e-10</td>\n      <td>48.7</td>\n      <td>0.0</td>\n      <td>4.1e-10</td>\n      <td>48.3</td>\n      <td>0.0</td>\n      <td>1.1</td>\n      <td>1</td>\n      <td>Q9WUL8</td>\n      <td>CITE4_MOUSE^|^^|^Cbp/p300-interacting transactiva</td>\n    </tr>\n    <tr>\n      <th>46</th>\n      <td>5.4e-10</td>\n      <td>47.9</td>\n      <td>0.3</td>\n      <td>1.2e-09</td>\n      <td>46.8</td>\n      <td>0.3</td>\n      <td>1.6</td>\n      <td>1</td>\n      <td>A0A6P5AXY3</td>\n      <td>A0A6P5AXY3_BRABE^|^^|^cbp/p300-interacting transa</td>\n    </tr>\n    <tr>\n      <th>47</th>\n      <td>7.7e-10</td>\n      <td>47.4</td>\n      <td>0.0</td>\n      <td>1.1e-09</td>\n      <td>46.9</td>\n      <td>0.0</td>\n      <td>1.2</td>\n      <td>1</td>\n      <td>Q99MA0</td>\n      <td>CITE4_RAT^|^^|^Cbp/p300-interacting transactivato</td>\n    </tr>\n    <tr>\n      <th>48</th>\n      <td>8.1e-10</td>\n      <td>47.3</td>\n      <td>0.0</td>\n      <td>1.2e-09</td>\n      <td>46.8</td>\n      <td>0.0</td>\n      <td>1.2</td>\n      <td>1</td>\n      <td>Q96RK1</td>\n      <td>CITE4_HUMAN^|^^|^Cbp/p300-interacting transactiva</td>\n    </tr>\n    <tr>\n      <th>49</th>\n      <td>0.00026</td>\n      <td>29.7</td>\n      <td>6.7</td>\n      <td>0.0039</td>\n      <td>25.9</td>\n      <td>6.7</td>\n      <td>2.2</td>\n      <td>1</td>\n      <td>A0A8I5ZVC9</td>\n      <td>A0A8I5ZVC9_RAT^|^^|^Uncharacterized protein {ECO:</td>\n    </tr>\n    <tr>\n      <th>50</th>\n      <td>0.00026</td>\n      <td>29.7</td>\n      <td>6.7</td>\n      <td>0.004</td>\n      <td>25.9</td>\n      <td>6.7</td>\n      <td>2.2</td>\n      <td>1</td>\n      <td>A0A8I6GGY6</td>\n      <td>A0A8I6GGY6_RAT^|^^|^Uncharacterized protein {ECO:</td>\n    </tr>\n    <tr>\n      <th>51</th>\n      <td>0.00039</td>\n      <td>29.1</td>\n      <td>4.1</td>\n      <td>1.7e+03</td>\n      <td>7.9</td>\n      <td>0.0</td>\n      <td>5.7</td>\n      <td>5</td>\n      <td>A0A7J7B172</td>\n      <td>A0A7J7B172_9COLE^|^^|^Uncharacterized protein {EC</td>\n    </tr>\n    <tr>\n      <th>52</th>\n      <td>0.0024</td>\n      <td>26.6</td>\n      <td>3.4</td>\n      <td>1.4e+02</td>\n      <td>11.4</td>\n      <td>0.0</td>\n      <td>4.1</td>\n      <td>4</td>\n      <td>A0A0B4S2Z9</td>\n      <td>A0A0B4S2Z9_9FIRM^|^^|^Uncharacterized protein {EC</td>\n    </tr>\n  </tbody>\n</table>\n</div>"
     },
     "execution_count": 83,
     "metadata": {},
     "output_type": "execute_result"
    }
   ],
   "source": [
    "# Make a dataframe with the statistics of the RP 15%\n",
    "stats_rp_15 = process_hmmsearch_file(f\"{local_path}/results/hmms/hmmsearch/hmmsearch_rp_15_{q_id}_{i}.txt\")\n",
    "stats_rp_15.to_csv(f\"{local_path}/results/hmms/hmmsearch/stats/stats_rp_15_{q_id}_{i}.csv\")\n",
    "stats_rp_15"
   ]
  },
  {
   "cell_type": "code",
   "execution_count": 72,
   "outputs": [
    {
     "name": "stdout",
     "output_type": "stream",
     "text": [
      "stats_rp_15_O35274_2.csv                      100%   31KB 107.8KB/s   00:00    \r\n"
     ]
    }
   ],
   "source": [
    "# Copy again the new files to the remote computer\n",
    "!scp {local_path}/results/hmms/hmmsearch/stats/stats_rp_15_{q_id}_{i}.csv {name}@{server}:~/stats_rp_15_{q_id}_{i}.csv"
   ],
   "metadata": {
    "collapsed": false,
    "ExecuteTime": {
     "end_time": "2023-07-24T16:12:51.517484Z",
     "start_time": "2023-07-24T16:12:49.002852Z"
    }
   }
  },
  {
   "cell_type": "code",
   "execution_count": 73,
   "outputs": [],
   "source": [
    "# Check the overlap of the retrieved regions in RP with protein2ipr database\n",
    "# !ssh {name}@{server} \"/home/alina/iterator.py /db/interpro/protein2ipr.dat.gz protein2ipr_rp_15_{q_id}_{i}.txt q_id\"\n",
    "!ssh {name}@{server} \"/home/alina/protein2ipr_iterator.py stats_rp_15_{q_id}_{i}.csv /db/interpro/protein2ipr.dat.gz protein2ipr_rp_15_{q_id}_{i}.txt\""
   ],
   "metadata": {
    "collapsed": false,
    "ExecuteTime": {
     "end_time": "2023-07-24T16:55:43.118217Z",
     "start_time": "2023-07-24T16:12:59.410531Z"
    }
   }
  },
  {
   "cell_type": "code",
   "execution_count": 74,
   "outputs": [
    {
     "name": "stdout",
     "output_type": "stream",
     "text": [
      "protein2ipr_rp_15_O35274_2.txt                100%  163KB 167.8KB/s   00:00    \r\n"
     ]
    }
   ],
   "source": [
    "# Copy the files with overlapping regions to the local folder\n",
    "!scp {name}@{server}:~/protein2ipr_rp_15_{q_id}_{i}.txt {local_path}/results/hmms/hmmsearch/protein2ipr"
   ],
   "metadata": {
    "collapsed": false,
    "ExecuteTime": {
     "end_time": "2023-07-24T16:56:20.110804Z",
     "start_time": "2023-07-24T16:56:16.862158Z"
    }
   }
  },
  {
   "cell_type": "code",
   "execution_count": 84,
   "outputs": [
    {
     "data": {
      "text/plain": "   uniprot_id     ipr_id description  pfam_id  start_pos  end_pos  length\n51     Q99967  IPR007576       CITED  PF04487          1      270     270",
      "text/html": "<div>\n<style scoped>\n    .dataframe tbody tr th:only-of-type {\n        vertical-align: middle;\n    }\n\n    .dataframe tbody tr th {\n        vertical-align: top;\n    }\n\n    .dataframe thead th {\n        text-align: right;\n    }\n</style>\n<table border=\"1\" class=\"dataframe\">\n  <thead>\n    <tr style=\"text-align: right;\">\n      <th></th>\n      <th>uniprot_id</th>\n      <th>ipr_id</th>\n      <th>description</th>\n      <th>pfam_id</th>\n      <th>start_pos</th>\n      <th>end_pos</th>\n      <th>length</th>\n    </tr>\n  </thead>\n  <tbody>\n    <tr>\n      <th>51</th>\n      <td>Q99967</td>\n      <td>IPR007576</td>\n      <td>CITED</td>\n      <td>PF04487</td>\n      <td>1</td>\n      <td>270</td>\n      <td>270</td>\n    </tr>\n  </tbody>\n</table>\n</div>"
     },
     "execution_count": 84,
     "metadata": {},
     "output_type": "execute_result"
    }
   ],
   "source": [
    "# Filter only entries with Pfam ID and intercepting regions with the curated_disprot instances\n",
    "filename = f\"{local_path}/results/hmms/hmmsearch/protein2ipr/protein2ipr_rp_15_{q_id}_{i}.txt\"\n",
    "pfam = read_and_filter_pfam_data(filename, curated_query)\n",
    "pfam_overlap = pfam[pfam['uniprot_id'] == q_id]\n",
    "pfam_overlap"
   ],
   "metadata": {
    "collapsed": false,
    "ExecuteTime": {
     "end_time": "2023-07-24T16:57:18.427470Z",
     "start_time": "2023-07-24T16:57:18.397856Z"
    }
   }
  },
  {
   "cell_type": "code",
   "execution_count": 85,
   "outputs": [
    {
     "data": {
      "text/plain": "<Figure size 720x306 with 1 Axes>",
      "image/png": "[encoded data removed]"
     },
     "metadata": {},
     "output_type": "display_data"
    }
   ],
   "source": [
    "# Plot overlapping regions\n",
    "fig, ax = plt.subplots(figsize=(10, 0.25 * len(pfam['uniprot_id'].unique())))\n",
    "unique_pfam_ids = pfam['pfam_id'].unique()\n",
    "\n",
    "# Check the number of unique Pfam IDs\n",
    "if len(unique_pfam_ids) == 1:\n",
    "    pfam_id = unique_pfam_ids[0]\n",
    "    data = pfam[pfam['pfam_id'] == pfam_id]\n",
    "    ax.hlines(data['uniprot_id'], data['start_pos'], data['end_pos'], linewidth=10)\n",
    "    ax.set_yticks(data['uniprot_id'])\n",
    "    ax.set_yticklabels(data['uniprot_id'])\n",
    "else:\n",
    "    for pfam_id in unique_pfam_ids:\n",
    "        data = pfam[pfam['pfam_id'] == pfam_id]\n",
    "        ax.hlines(data['uniprot_id'], data['start_pos'], data['end_pos'], linewidth=10)\n",
    "\n",
    "    ax.set_yticks(range(len(pfam['uniprot_id'].unique())))\n",
    "    ax.set_yticklabels(pfam['uniprot_id'].unique())\n",
    "\n",
    "ax.set_xlim(pfam['start_pos'].astype(int).min(), pfam['end_pos'].astype(int).max())\n",
    "\n",
    "# Add the background color for the region of interest\n",
    "start_pos = curated_query['start'].iloc[0] # 0 if 1st region, 1 if 2nd\n",
    "end_pos = curated_query['end'].iloc[0] # 0 if 1st region, 1 if 2nd\n",
    "ax.axvspan(start_pos, end_pos, facecolor='yellow', alpha=0.5)\n",
    "\n",
    "plt.title(f'Distribution of {q_id}_{i} Region')\n",
    "plt.xlabel('Position')\n",
    "plt.ylabel('UniProt ID')\n",
    "\n",
    "plt.show()"
   ],
   "metadata": {
    "collapsed": false,
    "ExecuteTime": {
     "end_time": "2023-07-24T16:57:20.885363Z",
     "start_time": "2023-07-24T16:57:20.722311Z"
    }
   }
  },
  {
   "cell_type": "markdown",
   "metadata": {
    "ExecuteTime": {
     "end_time": "2023-07-12T13:19:19.939712Z",
     "start_time": "2023-07-12T13:19:19.933730Z"
    }
   },
   "source": [
    "## 3. HHblits\n",
    "\n",
    "HHblits is used for profile-profile sequence alignment. It compares a profile against a target sequence database to find homologous sequences."
   ],
   "outputs": [],
   "execution_count": 23
  },
  {
   "cell_type": "code",
   "execution_count": 86,
   "metadata": {
    "ExecuteTime": {
     "end_time": "2023-07-24T16:57:25.976913Z",
     "start_time": "2023-07-24T16:57:23.507068Z"
    }
   },
   "outputs": [
    {
     "name": "stdout",
     "output_type": "stream",
     "text": [
      "Q99967_1.fasta                                100%   12KB 102.2KB/s   00:00    \r\n"
     ]
    }
   ],
   "source": [
    "# Copy fasta file to remote folder\n",
    "!scp {align_file} {name}@{server}:~/{q_id}_{i}.fasta"
   ]
  },
  {
   "cell_type": "code",
   "execution_count": 87,
   "metadata": {
    "ExecuteTime": {
     "end_time": "2023-07-24T16:57:29.016864Z",
     "start_time": "2023-07-24T16:57:25.983696Z"
    }
   },
   "outputs": [
    {
     "name": "stdout",
     "output_type": "stream",
     "text": [
      "- 18:57:27.765 INFO: Searching 19632 column state sequences.\r\n",
      "\r\n",
      "- 18:57:27.824 INFO: Q99967_1.fasta is in A2M, A3M or FASTA format\r\n",
      "\r\n",
      "- 18:57:27.825 INFO: Iteration 1\r\n",
      "\r\n",
      "- 18:57:27.866 INFO: Prefiltering database\r\n",
      "\r\n",
      "- 18:57:27.918 INFO: HMMs passed 1st prefilter (gapless profile-profile alignment)  : 100\r\n",
      "\r\n",
      "- 18:57:27.919 INFO: HMMs passed 2nd prefilter (gapped profile-profile alignment)   : 100\r\n",
      "\r\n",
      "- 18:57:27.919 INFO: HMMs passed 2nd prefilter and not found in previous iterations : 100\r\n",
      "\r\n",
      "- 18:57:27.919 INFO: Scoring 100 HMMs using HMM-HMM Viterbi alignment\r\n",
      "\r\n",
      "- 18:57:27.952 INFO: Alternative alignment: 0\r\n",
      "\r\n",
      "- 18:57:28.489 INFO: 100 alignments done\r\n",
      "\r\n",
      "- 18:57:28.490 INFO: Alternative alignment: 1\r\n",
      "\r\n",
      "- 18:57:28.493 INFO: 10 alignments done\r\n",
      "\r\n",
      "- 18:57:28.494 INFO: Alternative alignment: 2\r\n",
      "\r\n",
      "- 18:57:28.494 INFO: Alternative alignment: 3\r\n",
      "\r\n",
      "- 18:57:28.511 INFO: Realigning 10 HMM-HMM alignments using Maximum Accuracy algorithm\r\n",
      "\r\n",
      "- 18:57:28.555 INFO: 1 sequences belonging to 1 database HMMs found with an E-value < 0.001\r\n",
      "\r\n",
      "- 18:57:28.555 INFO: Number of effective sequences of resulting query HMM: Neff = 4.05723\r\n",
      "\r\n",
      "- 18:57:28.558 INFO: Iteration 2\r\n",
      "\r\n",
      "- 18:57:28.597 INFO: Prefiltering database\r\n",
      "\r\n",
      "- 18:57:28.647 INFO: HMMs passed 1st prefilter (gapless profile-profile alignment)  : 100\r\n",
      "\r\n",
      "- 18:57:28.647 INFO: HMMs passed 2nd prefilter (gapped profile-profile alignment)   : 100\r\n",
      "\r\n",
      "- 18:57:28.647 INFO: HMMs passed 2nd prefilter and not found in previous iterations : 99\r\n",
      "\r\n",
      "- 18:57:28.647 INFO: Scoring 99 HMMs using HMM-HMM Viterbi alignment\r\n",
      "\r\n",
      "- 18:57:28.667 INFO: Alternative alignment: 0\r\n",
      "\r\n",
      "- 18:57:28.896 INFO: 99 alignments done\r\n",
      "\r\n",
      "- 18:57:28.896 INFO: Stop after DB-HHM: 99 because early stop  0.66707 < filter cutoff 0.99\r\n",
      "\r\n",
      "- 18:57:28.896 INFO: Alternative alignment: 1\r\n",
      "\r\n",
      "- 18:57:28.897 INFO: 1 alignments done\r\n",
      "\r\n",
      "- 18:57:28.897 INFO: Alternative alignment: 2\r\n",
      "\r\n",
      "- 18:57:28.897 INFO: Alternative alignment: 3\r\n",
      "\r\n",
      "- 18:57:28.914 INFO: Rescoring previously found HMMs with Viterbi algorithm\r\n",
      "\r\n",
      "- 18:57:28.937 INFO: Alternative alignment: 0\r\n",
      "\r\n",
      "- 18:57:28.938 INFO: 1 alignments done\r\n",
      "\r\n",
      "- 18:57:28.938 INFO: Alternative alignment: 1\r\n",
      "\r\n",
      "- 18:57:28.939 INFO: 1 alignments done\r\n",
      "\r\n",
      "- 18:57:28.939 INFO: Alternative alignment: 2\r\n",
      "\r\n",
      "- 18:57:28.939 INFO: Alternative alignment: 3\r\n",
      "\r\n",
      "- 18:57:28.956 INFO: Realigning 10 HMM-HMM alignments using Maximum Accuracy algorithm\r\n",
      "\r\n",
      "- 18:57:28.969 INFO: 1 sequences belonging to 1 database HMMs found with an E-value < 0.001\r\n",
      "\r\n",
      "Query         Q99967\r\n",
      "Match_columns 50\r\n",
      "No_of_seqs    68 out of 403\r\n",
      "Neff          4.05723\r\n",
      "Searched_HMMs 173\r\n",
      "Date          Mon Jul 24 18:57:28 2023\r\n",
      "Command       /software/packages/hhsuite/hhsuite-3.0-beta.3-Linux/bin/hhblits -i Q99967_1.fasta -o hhblits_pfam_Q99967_1.txt -d /db/hhblits/pfamA_35.0/pfam \r\n",
      "\r\n",
      " No Hit                             Prob E-value P-value  Score    SS Cols Query HMM  Template HMM\r\n",
      "  1 PF04487.15 ; CITED ; CITED      99.8 4.4E-24 8.4E-28  139.2   0.0   44    1-44    156-199 (201)\r\n",
      "  2 PF07059.15 ; EDR2_C ; Protein   20.8     4.7  0.0011   21.6   0.0   28    9-36    209-240 (242)\r\n",
      "  3 PF08155.14 ; NOGCT ; NOGCT (NU  19.2     5.7  0.0012   17.0   0.0   17   21-37     34-50  (54)\r\n",
      "  4 PF08587.14 ; UBA_2 ; Ubiquitin  10.5      14  0.0029   15.2   0.0   24    4-27      1-24  (50)\r\n",
      "  5 PF12054.11 ; DUF3535 ; Domain    6.4      25  0.0058   19.5   0.0   23    6-28    409-431 (433)\r\n",
      "  6 PF10415.12 ; FumaraseC_C ; Fum   5.2      31  0.0075   12.3   0.0   19   10-28      3-21  (54)\r\n",
      "  7 PF15364.9 ; PAXIP1_C ; PAXIP1-   5.2      36  0.0076   16.8   0.0   11   31-41     92-102 (141)\r\n",
      "  8 PF14377.9 ; UBM ; Ubiquitin bi   4.0      47    0.01   11.7   0.0   13    4-16      9-21  (35)\r\n",
      "  9 PF11504.11 ; Colicin_Ia ; Coli   4.0      62    0.01   15.2   0.0   18   29-46     55-72  (72)\r\n",
      " 10 PF06994.14 ; Involucrin2 ; Inv   3.9      61   0.011   13.6   0.0    6   25-30     33-38  (39)\r\n",
      "\r\n"
     ]
    }
   ],
   "source": [
    "# HHblits against Pfam\n",
    "!ssh {name}@{server} \"/software/packages/hhsuite/hhsuite-3.0-beta.3-Linux/bin/hhblits -i {q_id}_{i}.fasta -o hhblits_pfam_{q_id}_{i}.txt -d /db/hhblits/pfamA_35.0/pfam\""
   ]
  },
  {
   "cell_type": "code",
   "execution_count": 88,
   "outputs": [
    {
     "name": "stdout",
     "output_type": "stream",
     "text": [
      "hhblits_pfam_Q99967_1.txt                     100% 6716    29.1KB/s   00:00    \r\n"
     ]
    }
   ],
   "source": [
    "# Copy results to the local folder\n",
    "!scp {name}@{server}:~/hhblits_pfam_{q_id}_{i}.txt {local_path}/results/hmms/hhblits/"
   ],
   "metadata": {
    "collapsed": false,
    "ExecuteTime": {
     "end_time": "2023-07-24T16:57:31.489119Z",
     "start_time": "2023-07-24T16:57:29.013791Z"
    }
   }
  },
  {
   "cell_type": "markdown",
   "metadata": {
    "ExecuteTime": {
     "end_time": "2023-07-12T13:19:23.247308Z",
     "start_time": "2023-07-12T13:19:23.230235Z"
    }
   },
   "source": [
    "- `Hit`: contains information about Pfam identifier (starts with PF...), the abbreviated and full name of the domain.\n",
    "- `Prob`: the probability of the match between the query sequence and the template sequence.\n",
    "- `E-value`: the expected number of false positive matches that could occur by chance.\n",
    "- `P-value`: the probability of obtaining a match with a score as good as or better than the observed score purely by chance.\n",
    "Similar as `E-value`, the lower `P-value` indicate more significant matches.\n",
    "- `Score`: the quality of the alignment between the query and template sequences.\n",
    "- `SS (Secondary Structure)`: the predicted secondary structure of the aligned residues in the template sequence.\n",
    "- `Cols`: the number of aligned columns or residues in the alignment between the query and template sequences.\n",
    "- `Query HMM`: indicates position matches within HMM profile (input).\n",
    "- `Template HMM`: indicates position matches within HMM profile (database).\n",
    "Usually the length of template HMM is bigger than the length of query HMM."
   ],
   "outputs": [],
   "execution_count": 25
  },
  {
   "cell_type": "code",
   "execution_count": 89,
   "outputs": [
    {
     "data": {
      "text/plain": "       Hit     Prob  E-value P-value Score   SS   Cols Query HMM Template HMM  \\\n0  PF04487  4.4E-24  8.4E-28   139.2   0.0   44   1-44   156-199        (201)   \n1  PF07059      4.7   0.0011    21.6   0.0   28   9-36   209-240        (242)   \n2  PF08155     19.2      5.7  0.0012  17.0  0.0     17     21-37   34-50 (54)   \n3  PF08587       14   0.0029    15.2   0.0   24   4-27      1-24         (50)   \n4  PF12054       25   0.0058    19.5   0.0   23   6-28   409-431        (433)   \n5  PF10415       31   0.0075    12.3   0.0   19  10-28      3-21         (54)   \n6  PF15364       36   0.0076    16.8   0.0   11  31-41    92-102        (141)   \n7  PF14377      4.0       47    0.01  11.7  0.0     13      4-16    9-21 (35)   \n8  PF11504       62     0.01    15.2   0.0   18  29-46     55-72         (72)   \n9  PF06994       61    0.011    13.6   0.0    6  25-30     33-38         (39)   \n\n          Name  \n0        CITED  \n1       EDR2_C  \n2        NOGCT  \n3        UBA_2  \n4      DUF3535  \n5  FumaraseC_C  \n6     PAXIP1_C  \n7          UBM  \n8   Colicin_Ia  \n9  Involucrin2  ",
      "text/html": "<div>\n<style scoped>\n    .dataframe tbody tr th:only-of-type {\n        vertical-align: middle;\n    }\n\n    .dataframe tbody tr th {\n        vertical-align: top;\n    }\n\n    .dataframe thead th {\n        text-align: right;\n    }\n</style>\n<table border=\"1\" class=\"dataframe\">\n  <thead>\n    <tr style=\"text-align: right;\">\n      <th></th>\n      <th>Hit</th>\n      <th>Prob</th>\n      <th>E-value</th>\n      <th>P-value</th>\n      <th>Score</th>\n      <th>SS</th>\n      <th>Cols</th>\n      <th>Query HMM</th>\n      <th>Template HMM</th>\n      <th>Name</th>\n    </tr>\n  </thead>\n  <tbody>\n    <tr>\n      <th>0</th>\n      <td>PF04487</td>\n      <td>4.4E-24</td>\n      <td>8.4E-28</td>\n      <td>139.2</td>\n      <td>0.0</td>\n      <td>44</td>\n      <td>1-44</td>\n      <td>156-199</td>\n      <td>(201)</td>\n      <td>CITED</td>\n    </tr>\n    <tr>\n      <th>1</th>\n      <td>PF07059</td>\n      <td>4.7</td>\n      <td>0.0011</td>\n      <td>21.6</td>\n      <td>0.0</td>\n      <td>28</td>\n      <td>9-36</td>\n      <td>209-240</td>\n      <td>(242)</td>\n      <td>EDR2_C</td>\n    </tr>\n    <tr>\n      <th>2</th>\n      <td>PF08155</td>\n      <td>19.2</td>\n      <td>5.7</td>\n      <td>0.0012</td>\n      <td>17.0</td>\n      <td>0.0</td>\n      <td>17</td>\n      <td>21-37</td>\n      <td>34-50 (54)</td>\n      <td>NOGCT</td>\n    </tr>\n    <tr>\n      <th>3</th>\n      <td>PF08587</td>\n      <td>14</td>\n      <td>0.0029</td>\n      <td>15.2</td>\n      <td>0.0</td>\n      <td>24</td>\n      <td>4-27</td>\n      <td>1-24</td>\n      <td>(50)</td>\n      <td>UBA_2</td>\n    </tr>\n    <tr>\n      <th>4</th>\n      <td>PF12054</td>\n      <td>25</td>\n      <td>0.0058</td>\n      <td>19.5</td>\n      <td>0.0</td>\n      <td>23</td>\n      <td>6-28</td>\n      <td>409-431</td>\n      <td>(433)</td>\n      <td>DUF3535</td>\n    </tr>\n    <tr>\n      <th>5</th>\n      <td>PF10415</td>\n      <td>31</td>\n      <td>0.0075</td>\n      <td>12.3</td>\n      <td>0.0</td>\n      <td>19</td>\n      <td>10-28</td>\n      <td>3-21</td>\n      <td>(54)</td>\n      <td>FumaraseC_C</td>\n    </tr>\n    <tr>\n      <th>6</th>\n      <td>PF15364</td>\n      <td>36</td>\n      <td>0.0076</td>\n      <td>16.8</td>\n      <td>0.0</td>\n      <td>11</td>\n      <td>31-41</td>\n      <td>92-102</td>\n      <td>(141)</td>\n      <td>PAXIP1_C</td>\n    </tr>\n    <tr>\n      <th>7</th>\n      <td>PF14377</td>\n      <td>4.0</td>\n      <td>47</td>\n      <td>0.01</td>\n      <td>11.7</td>\n      <td>0.0</td>\n      <td>13</td>\n      <td>4-16</td>\n      <td>9-21 (35)</td>\n      <td>UBM</td>\n    </tr>\n    <tr>\n      <th>8</th>\n      <td>PF11504</td>\n      <td>62</td>\n      <td>0.01</td>\n      <td>15.2</td>\n      <td>0.0</td>\n      <td>18</td>\n      <td>29-46</td>\n      <td>55-72</td>\n      <td>(72)</td>\n      <td>Colicin_Ia</td>\n    </tr>\n    <tr>\n      <th>9</th>\n      <td>PF06994</td>\n      <td>61</td>\n      <td>0.011</td>\n      <td>13.6</td>\n      <td>0.0</td>\n      <td>6</td>\n      <td>25-30</td>\n      <td>33-38</td>\n      <td>(39)</td>\n      <td>Involucrin2</td>\n    </tr>\n  </tbody>\n</table>\n</div>"
     },
     "execution_count": 89,
     "metadata": {},
     "output_type": "execute_result"
    }
   ],
   "source": [
    "with open(f'{local_path}/results/hmms/hhblits/hhblits_pfam_{q_id}_{i}.txt', 'r') as file:\n",
    "    lines = file.readlines()\n",
    "\n",
    "# Extract the column names\n",
    "column_names = lines[8].split()[:-4] + ['Query HMM', 'Template HMM']\n",
    "\n",
    "# Extract the data rows\n",
    "data_rows = [line.split() for line in lines[9:19]]\n",
    "data_rows = [[row[0]] + [' '.join(row[1:4])] + row[7:14] + [' '.join(row[14:16])]\n",
    "             for row in data_rows]\n",
    "\n",
    "hhblits_stats = pd.DataFrame(data_rows, columns=column_names)\n",
    "hhblits_stats[[\"Hit\", \"Name\"]] = hhblits_stats[\"Hit\"].str.split(\" ; \", expand=True)\n",
    "hit_split_df = hhblits_stats[\"Hit\"].str.split(\".\", expand=True)\n",
    "hhblits_stats[\"Hit\"] = hit_split_df[0]\n",
    "\n",
    "hhblits_stats = hhblits_stats.drop(\"No\", axis=1).reset_index(drop=True)\n",
    "hhblits_stats.to_csv(f'{local_path}/results/hmms/hhblits/hhblits_pfam_{q_id}_{i}.csv', index=False)\n",
    "hhblits_stats"
   ],
   "metadata": {
    "collapsed": false,
    "ExecuteTime": {
     "end_time": "2023-07-24T16:57:31.529158Z",
     "start_time": "2023-07-24T16:57:31.501584Z"
    }
   }
  },
  {
   "cell_type": "code",
   "execution_count": 90,
   "metadata": {
    "ExecuteTime": {
     "end_time": "2023-07-24T16:57:33.844034Z",
     "start_time": "2023-07-24T16:57:31.532520Z"
    }
   },
   "outputs": [
    {
     "name": "stdout",
     "output_type": "stream",
     "text": [
      "hhblits_pfam_Q99967_1.csv                     100%  633     9.8KB/s   00:00    \r\n"
     ]
    }
   ],
   "source": [
    "# Copy again the new files to the remote computer\n",
    "!scp {local_path}/results/hmms/hhblits/hhblits_pfam_{q_id}_{i}.csv {name}@{server}:~/hhblits_pfam_{q_id}_{i}.csv"
   ]
  },
  {
   "cell_type": "code",
   "execution_count": 91,
   "outputs": [
    {
     "name": "stdout",
     "output_type": "stream",
     "text": [
      "^C\r\n"
     ]
    }
   ],
   "source": [
    "!ssh {name}@{server} \"/home/alina/hhblits_iterator.py hhblits_pfam_{q_id}_{i}.csv /db/interpro/protein2ipr.dat.gz pfam_uniprot_{q_id}_{i}.txt\""
   ],
   "metadata": {
    "collapsed": false,
    "ExecuteTime": {
     "end_time": "2023-07-24T17:48:08.358032Z",
     "start_time": "2023-07-24T16:57:33.851545Z"
    }
   }
  },
  {
   "cell_type": "code",
   "execution_count": null,
   "outputs": [],
   "source": [],
   "metadata": {
    "collapsed": false
   }
  }
 ],
 "metadata": {
  "kernelspec": {
   "display_name": "Python 3 (ipykernel)",
   "language": "python",
   "name": "python3"
  },
  "language_info": {
   "codemirror_mode": {
    "name": "ipython",
    "version": 3
   },
   "file_extension": ".py",
   "mimetype": "text/x-python",
   "name": "python",
   "nbconvert_exporter": "python",
   "pygments_lexer": "ipython3",
   "version": "3.9.12"
  }
 },
 "nbformat": 4,
 "nbformat_minor": 1
}
