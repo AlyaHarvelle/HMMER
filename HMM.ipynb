{
 "cells": [
  {
   "cell_type": "code",
   "execution_count": 1,
   "outputs": [],
   "source": [
    "import re\n",
    "import subprocess\n",
    "import pandas as pd"
   ],
   "metadata": {
    "collapsed": false,
    "ExecuteTime": {
     "end_time": "2023-05-22T08:21:32.014606Z",
     "start_time": "2023-05-22T08:21:30.250580Z"
    }
   }
  },
  {
   "cell_type": "code",
   "execution_count": 101,
   "outputs": [],
   "source": [
    "# Path and input parameters\n",
    "local_path = \"/Users/alina/HMM/\"\n",
    "database_path = \"/db/uniprot/uniref90.fasta\"\n",
    "q_id = \"Q92835\"\n",
    "hmm_file = f'{local_path}outputs/hmms/{q_id}.hmm'\n",
    "align_file = f'{local_path}outputs/alignments/tcoffee/{q_id}_tcoffee.fasta'"
   ],
   "metadata": {
    "collapsed": false,
    "ExecuteTime": {
     "end_time": "2023-05-22T13:33:29.258952Z",
     "start_time": "2023-05-22T13:33:29.256267Z"
    }
   }
  },
  {
   "cell_type": "code",
   "execution_count": 102,
   "outputs": [
    {
     "name": "stdout",
     "output_type": "stream",
     "text": [
      "# hmmbuild :: profile HMM construction from multiple sequence alignments\r\n",
      "# HMMER 3.3.2 (Nov 2020); http://hmmer.org/\r\n",
      "# Copyright (C) 2020 Howard Hughes Medical Institute.\r\n",
      "# Freely distributed under the BSD open source license.\r\n",
      "# - - - - - - - - - - - - - - - - - - - - - - - - - - - - - - - - - - - -\r\n",
      "# input alignment file:             /Users/alina/HMM/outputs/alignments/tcoffee/Q92835_tcoffee.fasta\r\n",
      "# output HMM file:                  /Users/alina/HMM/outputs/hmms/Q92835.hmm\r\n",
      "# - - - - - - - - - - - - - - - - - - - - - - - - - - - - - - - - - - - -\r\n",
      "\r\n",
      "# idx name                  nseq  alen  mlen eff_nseq re/pos description\r\n",
      "#---- -------------------- ----- ----- ----- -------- ------ -----------\r\n",
      "1     Q92835_tcoffee         198  1189  1179     0.55  0.590 \r\n",
      "\r\n",
      "# CPU time: 0.42u 0.00s 00:00:00.42 Elapsed: 00:00:00.42\r\n"
     ]
    }
   ],
   "source": [
    "# Build HMM with HMMER\n",
    "# command - profile.hmm - alignment.fasta\n",
    "!hmmbuild {hmm_file} {align_file}"
   ],
   "metadata": {
    "collapsed": false,
    "ExecuteTime": {
     "end_time": "2023-05-22T13:33:31.444382Z",
     "start_time": "2023-05-22T13:33:30.839122Z"
    }
   }
  },
  {
   "cell_type": "markdown",
   "source": [
    "Here we print the statistics of generated HMM.\n",
    "- `eff_nseq`: effective sequence number.\n",
    "- `M`: the match states.\n",
    "- `relent`: relative entropy of the match state.\n",
    "- `info`: mean information content per match state (not so important).\n",
    "- `p relE`: positional relative entropy (not so important).\n",
    "- `compKL`: Kullback-Leibler divergence from the average composition."
   ],
   "metadata": {
    "collapsed": false
   }
  },
  {
   "cell_type": "code",
   "execution_count": 103,
   "outputs": [
    {
     "name": "stdout",
     "output_type": "stream",
     "text": [
      "# hmmstat :: display summary statistics for a profile file\r\n",
      "# HMMER 3.3.2 (Nov 2020); http://hmmer.org/\r\n",
      "# Copyright (C) 2020 Howard Hughes Medical Institute.\r\n",
      "# Freely distributed under the BSD open source license.\r\n",
      "# - - - - - - - - - - - - - - - - - - - - - - - - - - - - - - - - - - - -\r\n",
      "#\r\n",
      "# idx  name                 accession        nseq eff_nseq      M relent   info p relE compKL\r\n",
      "# ---- -------------------- ------------ -------- -------- ------ ------ ------ ------ ------\r\n",
      "1      Q92835_clustal       -                 198     0.56   1174   0.59   0.58   0.52   0.01\r\n"
     ]
    }
   ],
   "source": [
    "# Analysis of obtained models\n",
    "!hmmstat {hmm_file}"
   ],
   "metadata": {
    "collapsed": false,
    "ExecuteTime": {
     "end_time": "2023-05-22T13:33:33.359675Z",
     "start_time": "2023-05-22T13:33:33.191542Z"
    }
   }
  },
  {
   "cell_type": "code",
   "execution_count": 104,
   "outputs": [
    {
     "name": "stdout",
     "output_type": "stream",
     "text": [
      "SSI index file /Users/alina/HMM/outputs/hmms/Q92835.hmm.h3i already exists;\r\n",
      "Delete old hmmpress indices first\r\n"
     ]
    }
   ],
   "source": [
    "# Compress the file in a binary output\n",
    "!hmmpress {hmm_file}"
   ],
   "metadata": {
    "collapsed": false,
    "ExecuteTime": {
     "end_time": "2023-05-22T13:33:34.909324Z",
     "start_time": "2023-05-22T13:33:34.748837Z"
    }
   }
  },
  {
   "cell_type": "markdown",
   "source": [
    "## 1. HMMsearch"
   ],
   "metadata": {
    "collapsed": false
   }
  },
  {
   "cell_type": "code",
   "execution_count": 105,
   "outputs": [],
   "source": [
    "# Transforming the database in a binary output\n",
    "# !hmmpress {local_path}databases/Pfam_HMM/Pfam-A.hmm"
   ],
   "metadata": {
    "collapsed": false,
    "ExecuteTime": {
     "end_time": "2023-05-22T13:33:36.752591Z",
     "start_time": "2023-05-22T13:33:36.745561Z"
    }
   }
  },
  {
   "cell_type": "code",
   "execution_count": 106,
   "outputs": [],
   "source": [
    "# HMM search against Pfam\n",
    "!hmmsearch {hmm_file} {local_path}databases/Pfam-A.seed > hmmsearch_pfam.txt # search against the alignments database\n",
    "# !hmmsearch {hmm_file} {local_path}databases/Pfam_HMM/Pfam-A.hmm > hmmsearch_pfam.txt # search against the hmm database"
   ],
   "metadata": {
    "collapsed": false,
    "ExecuteTime": {
     "end_time": "2023-05-22T13:33:43.503986Z",
     "start_time": "2023-05-22T13:33:39.126421Z"
    }
   }
  },
  {
   "cell_type": "code",
   "execution_count": 107,
   "outputs": [
    {
     "data": {
      "text/plain": "   # hmmsearch :: search profile(s) against a sequence database\n9      --- full sequence ---   --- best 1 domain -...          \n10      E-value  score  bias    E-value  score  bi...          \n11      ------- ------ -----    ------- ------ ---...          \n12     1.5e-219  737.8   0.7   1.7e-219  737.7   0...          \n13       9e-140  473.6   0.1     1e-139  473.5   0...          \n..                                                ...          \n79                          8*********************...          \n80       Q92835_tcoffee 500 rishictdnvktgiantlGnkg...          \n81                          rishictdnvktgiantlGnkg...          \n82    SHIP1_RAT/411-703  93 RISHICTDNVKTGIANTLGNKG...          \n83                          **********************...          \n\n[75 rows x 1 columns]",
      "text/html": "<div>\n<style scoped>\n    .dataframe tbody tr th:only-of-type {\n        vertical-align: middle;\n    }\n\n    .dataframe tbody tr th {\n        vertical-align: top;\n    }\n\n    .dataframe thead th {\n        text-align: right;\n    }\n</style>\n<table border=\"1\" class=\"dataframe\">\n  <thead>\n    <tr style=\"text-align: right;\">\n      <th></th>\n      <th># hmmsearch :: search profile(s) against a sequence database</th>\n    </tr>\n  </thead>\n  <tbody>\n    <tr>\n      <th>9</th>\n      <td>--- full sequence ---   --- best 1 domain -...</td>\n    </tr>\n    <tr>\n      <th>10</th>\n      <td>E-value  score  bias    E-value  score  bi...</td>\n    </tr>\n    <tr>\n      <th>11</th>\n      <td>------- ------ -----    ------- ------ ---...</td>\n    </tr>\n    <tr>\n      <th>12</th>\n      <td>1.5e-219  737.8   0.7   1.7e-219  737.7   0...</td>\n    </tr>\n    <tr>\n      <th>13</th>\n      <td>9e-140  473.6   0.1     1e-139  473.5   0...</td>\n    </tr>\n    <tr>\n      <th>...</th>\n      <td>...</td>\n    </tr>\n    <tr>\n      <th>79</th>\n      <td>8*********************...</td>\n    </tr>\n    <tr>\n      <th>80</th>\n      <td>Q92835_tcoffee 500 rishictdnvktgiantlGnkg...</td>\n    </tr>\n    <tr>\n      <th>81</th>\n      <td>rishictdnvktgiantlGnkg...</td>\n    </tr>\n    <tr>\n      <th>82</th>\n      <td>SHIP1_RAT/411-703  93 RISHICTDNVKTGIANTLGNKG...</td>\n    </tr>\n    <tr>\n      <th>83</th>\n      <td>**********************...</td>\n    </tr>\n  </tbody>\n</table>\n<p>75 rows × 1 columns</p>\n</div>"
     },
     "execution_count": 107,
     "metadata": {},
     "output_type": "execute_result"
    }
   ],
   "source": [
    "hmmsearch_pfam = pd.read_csv(\"hmmsearch_pfam.txt\", sep=\"\\t\")\n",
    "header = hmmsearch_pfam.iloc[:9]\n",
    "stat_table = hmmsearch_pfam.iloc[9:84]\n",
    "ali = hmmsearch_pfam.iloc[84:]\n",
    "stat_table"
   ],
   "metadata": {
    "collapsed": false,
    "ExecuteTime": {
     "end_time": "2023-05-22T13:33:49.890541Z",
     "start_time": "2023-05-22T13:33:49.849846Z"
    }
   }
  },
  {
   "cell_type": "code",
   "execution_count": 108,
   "outputs": [
    {
     "name": "stdout",
     "output_type": "stream",
     "text": [
      "\r\n",
      "Error: Failed to open sequence file /db/uniprot/uniref90.fasta for reading\r\n",
      "\r\n"
     ]
    }
   ],
   "source": [
    "# HMM search against Uniref90\n",
    "!hmmsearch -o hmmsearch_output.txt {hmm_file} {database_path}"
   ],
   "metadata": {
    "collapsed": false,
    "ExecuteTime": {
     "end_time": "2023-05-22T13:33:51.883510Z",
     "start_time": "2023-05-22T13:33:51.720744Z"
    }
   }
  },
  {
   "cell_type": "markdown",
   "source": [
    "## 2. HHblits\n",
    "\n",
    "HHblits is used for profile-profile sequence alignment. It compares a profile against a target sequence database to find homologous sequences."
   ],
   "metadata": {
    "collapsed": false
   }
  },
  {
   "cell_type": "code",
   "execution_count": 109,
   "outputs": [
    {
     "name": "stdout",
     "output_type": "stream",
     "text": [
      "- 15:33:53.850 INFO: Searching 19632 column state sequences.\r\n",
      "\r\n",
      "- 15:33:54.462 INFO: /Users/alina/HMM/outputs/alignments/tcoffee/Q92835_tcoffee.fasta is in A2M, A3M or FASTA format\r\n",
      "\r\n",
      "- 15:33:54.477 INFO: Iteration 1\r\n",
      "\r\n",
      "- 15:33:55.008 INFO: Prefiltering database\r\n",
      "\r\n",
      "- 15:33:56.033 INFO: HMMs passed 1st prefilter (gapless profile-profile alignment)  : 727\r\n",
      "\r\n",
      "- 15:33:56.065 INFO: HMMs passed 2nd prefilter (gapped profile-profile alignment)   : 305\r\n",
      "\r\n",
      "- 15:33:56.065 INFO: HMMs passed 2nd prefilter and not found in previous iterations : 305\r\n",
      "\r\n",
      "- 15:33:56.065 INFO: Scoring 305 HMMs using HMM-HMM Viterbi alignment\r\n",
      "\r\n",
      "- 15:33:56.127 INFO: Alternative alignment: 0\r\n",
      "\r\n",
      "- 15:34:03.864 INFO: 305 alignments done\r\n",
      "\r\n",
      "- 15:34:03.864 INFO: Alternative alignment: 1\r\n",
      "\r\n",
      "- 15:34:06.155 INFO: 79 alignments done\r\n",
      "\r\n",
      "- 15:34:06.155 INFO: Alternative alignment: 2\r\n",
      "\r\n",
      "- 15:34:06.676 INFO: 8 alignments done\r\n",
      "\r\n",
      "- 15:34:06.676 INFO: Alternative alignment: 3\r\n",
      "\r\n",
      "- 15:34:06.869 INFO: 1 alignments done\r\n",
      "\r\n",
      "- 15:34:08.852 INFO: Premerge done\r\n",
      "\r\n",
      "- 15:34:08.852 INFO: Realigning 10 HMM-HMM alignments using Maximum Accuracy algorithm\r\n",
      "\r\n",
      "- 15:34:09.188 INFO: 6 sequences belonging to 6 database HMMs found with an E-value < 0.001\r\n",
      "\r\n",
      "- 15:34:09.188 INFO: Number of effective sequences of resulting query HMM: Neff = 2.32182\r\n",
      "\r\n",
      "- 15:34:09.191 INFO: Iteration 2\r\n",
      "\r\n",
      "- 15:34:09.191 INFO: Set premerge to 0! (premerge: 3 iteration: 2 hits.Size: 3)\r\n",
      "\r\n",
      "- 15:34:09.709 INFO: Prefiltering database\r\n",
      "\r\n",
      "- 15:34:10.719 INFO: HMMs passed 1st prefilter (gapless profile-profile alignment)  : 728\r\n",
      "\r\n",
      "- 15:34:10.745 INFO: HMMs passed 2nd prefilter (gapped profile-profile alignment)   : 293\r\n",
      "\r\n",
      "- 15:34:10.745 INFO: HMMs passed 2nd prefilter and not found in previous iterations : 291\r\n",
      "\r\n",
      "- 15:34:10.745 INFO: Scoring 291 HMMs using HMM-HMM Viterbi alignment\r\n",
      "\r\n",
      "- 15:34:10.768 INFO: Alternative alignment: 0\r\n",
      "\r\n",
      "- 15:34:19.327 INFO: 291 alignments done\r\n",
      "\r\n",
      "- 15:34:19.328 INFO: Stop after DB-HHM: 291 because early stop  0.635962 < filter cutoff 2.91\r\n",
      "\r\n",
      "- 15:34:19.328 INFO: Alternative alignment: 1\r\n",
      "\r\n",
      "- 15:34:21.254 INFO: 64 alignments done\r\n",
      "\r\n",
      "- 15:34:21.254 INFO: Alternative alignment: 2\r\n",
      "\r\n",
      "- 15:34:21.829 INFO: 7 alignments done\r\n",
      "\r\n",
      "- 15:34:21.829 INFO: Alternative alignment: 3\r\n",
      "\r\n",
      "- 15:34:22.022 INFO: 1 alignments done\r\n",
      "\r\n",
      "- 15:34:22.032 INFO: Rescoring previously found HMMs with Viterbi algorithm\r\n",
      "\r\n",
      "- 15:34:22.053 INFO: Alternative alignment: 0\r\n",
      "\r\n",
      "- 15:34:22.150 INFO: 2 alignments done\r\n",
      "\r\n",
      "- 15:34:22.150 INFO: Alternative alignment: 1\r\n",
      "\r\n",
      "- 15:34:22.248 INFO: 2 alignments done\r\n",
      "\r\n",
      "- 15:34:22.248 INFO: Alternative alignment: 2\r\n",
      "\r\n",
      "- 15:34:22.321 INFO: 1 alignments done\r\n",
      "\r\n",
      "- 15:34:22.321 INFO: Alternative alignment: 3\r\n",
      "\r\n",
      "- 15:34:22.331 INFO: Realigning 10 HMM-HMM alignments using Maximum Accuracy algorithm\r\n",
      "\r\n",
      "- 15:34:22.720 INFO: 6 sequences belonging to 6 database HMMs found with an E-value < 0.001\r\n",
      "\r\n",
      "Query         Q92835/1-1189 Phosphatidylinositol-3,4,5-trisphosphate 5-phosphatase OS=Papio anubis OX=9555 GN=INPP5D PE=3 SV=3\r\n",
      "Match_columns 1189\r\n",
      "No_of_seqs    352 out of 781\r\n",
      "Neff          2.32182\r\n",
      "Searched_HMMs 349\r\n",
      "Date          Mon May 22 15:34:22 2023\r\n",
      "Command       hhblits -i /Users/alina/HMM/outputs/alignments/tcoffee/Q92835_tcoffee.fasta -d /Users/alina/HMM/databases/pfam -o hhblits_pfam.txt \r\n",
      "\r\n",
      " No Hit                             Prob E-value P-value  Score    SS Cols Query HMM  Template HMM\r\n",
      "  1 PF14633.9 ; SH2_2 ; SH2 domain  89.3   0.007 2.1E-06   46.6   0.0   88    9-97     35-125 (212)\r\n",
      "  2 PF14633.9 ; SH2_2 ; SH2 domain  77.5   0.064 1.9E-05   40.6   0.0   75    5-88    130-211 (212)\r\n",
      "  3 PF00017.27 ; SH2 ; SH2 domain   24.4     2.4 0.00081   22.8   0.0   11   75-85     75-85  (86)\r\n",
      "  4 PF13472.9 ; Lipase_GDSL_2 ; GD  15.2     5.5  0.0017   26.3   0.0   34  383-418    41-74  (179)\r\n",
      "  5 PF10847.11 ; DUF2656 ; Protein  12.7      11  0.0023   31.5   0.0  123  443-607     5-131 (141)\r\n",
      "  6 PF08845.13 ; SymE_toxin ; Toxi   7.8      17  0.0044   21.4   0.0   23  306-328    28-50  (51)\r\n",
      "  7 PF15717.8 ; PCM1_C ; Pericentr   6.7      25  0.0054   34.7   0.0   43  154-196    25-67  (613)\r\n",
      "  8 PF04311.16 ; DUF459 ; Protein    4.5      32  0.0089   27.2   0.0   15  399-413   171-185 (322)\r\n",
      "  9 PF18261.4 ; Rpn9_C ; Rpn9 C-te   4.5      36  0.0091   18.6   0.0   18  659-676     6-23  (33)\r\n",
      " 10 PF12777.10 ; MT ; Microtubule-   4.0      35    0.01   26.2   0.0   45  163-208   154-198 (344)\r\n",
      "\r\n"
     ]
    }
   ],
   "source": [
    "# HHblits against Pfam\n",
    "# !hhblits -i {hmm_file} -d {local_path}databases/pfam -o hhblits_pfam.txt # on hmm\n",
    "!hhblits -i {align_file} -d {local_path}databases/pfam -o hhblits_pfam.txt # on alignment"
   ],
   "metadata": {
    "collapsed": false,
    "ExecuteTime": {
     "end_time": "2023-05-22T13:34:22.854385Z",
     "start_time": "2023-05-22T13:33:53.772613Z"
    }
   }
  },
  {
   "cell_type": "markdown",
   "source": [
    "- `Hit`: contains information about Pfam identifier (starts with PF...), the abbreviated and full name of the domain.\n",
    "- `Prob`: the probability of the match between the query sequence and the template sequence.\n",
    "- `E-value`: the expected number of false positive matches that could occur by chance.\n",
    "- `P-value`: the probability of obtaining a match with a score as good as or better than the observed score purely by chance.\n",
    "Similar as `E-value`, the lower `P-value` indicate more significant matches.\n",
    "- `Score`: the quality of the alignment between the query and template sequences.\n",
    "- `SS (Secondary Structure)`: the predicted secondary structure of the aligned residues in the template sequence.\n",
    "- `Cols`: the number of aligned columns or residues in the alignment between the query and template sequences.\n",
    "- `Query HMM`: indicates position matches within HMM profile (input).\n",
    "- `Template HMM`: indicates position matches within HMM profile (database).\n",
    "Usually the length of template HMM is bigger than the length of query HMM."
   ],
   "metadata": {
    "collapsed": false
   }
  },
  {
   "cell_type": "code",
   "execution_count": 110,
   "outputs": [
    {
     "data": {
      "text/plain": "   Query         Q92835/1-1189 Phosphatidylinositol-3,4,5-trisphosphate 5-phosphatase OS=Papio anubis OX=9555 GN=INPP5D PE=3 SV=3\n6    No Hit                             Prob E-val...                                                                            \n7     1 PF14633.9 ; SH2_2 ; SH2 domain  89.3   0.0...                                                                            \n8     2 PF14633.9 ; SH2_2 ; SH2 domain  77.5   0.0...                                                                            \n9     3 PF00017.27 ; SH2 ; SH2 domain   24.4     2...                                                                            \n10    4 PF13472.9 ; Lipase_GDSL_2 ; GD  15.2     5...                                                                            \n11    5 PF10847.11 ; DUF2656 ; Protein  12.7      ...                                                                            \n12    6 PF08845.13 ; SymE_toxin ; Toxi   7.8      ...                                                                            \n13    7 PF15717.8 ; PCM1_C ; Pericentr   6.7      ...                                                                            \n14    8 PF04311.16 ; DUF459 ; Protein    4.5      ...                                                                            \n15    9 PF18261.4 ; Rpn9_C ; Rpn9 C-te   4.5      ...                                                                            \n16   10 PF12777.10 ; MT ; Microtubule-   4.0      ...                                                                            ",
      "text/html": "<div>\n<style scoped>\n    .dataframe tbody tr th:only-of-type {\n        vertical-align: middle;\n    }\n\n    .dataframe tbody tr th {\n        vertical-align: top;\n    }\n\n    .dataframe thead th {\n        text-align: right;\n    }\n</style>\n<table border=\"1\" class=\"dataframe\">\n  <thead>\n    <tr style=\"text-align: right;\">\n      <th></th>\n      <th>Query         Q92835/1-1189 Phosphatidylinositol-3,4,5-trisphosphate 5-phosphatase OS=Papio anubis OX=9555 GN=INPP5D PE=3 SV=3</th>\n    </tr>\n  </thead>\n  <tbody>\n    <tr>\n      <th>6</th>\n      <td>No Hit                             Prob E-val...</td>\n    </tr>\n    <tr>\n      <th>7</th>\n      <td>1 PF14633.9 ; SH2_2 ; SH2 domain  89.3   0.0...</td>\n    </tr>\n    <tr>\n      <th>8</th>\n      <td>2 PF14633.9 ; SH2_2 ; SH2 domain  77.5   0.0...</td>\n    </tr>\n    <tr>\n      <th>9</th>\n      <td>3 PF00017.27 ; SH2 ; SH2 domain   24.4     2...</td>\n    </tr>\n    <tr>\n      <th>10</th>\n      <td>4 PF13472.9 ; Lipase_GDSL_2 ; GD  15.2     5...</td>\n    </tr>\n    <tr>\n      <th>11</th>\n      <td>5 PF10847.11 ; DUF2656 ; Protein  12.7      ...</td>\n    </tr>\n    <tr>\n      <th>12</th>\n      <td>6 PF08845.13 ; SymE_toxin ; Toxi   7.8      ...</td>\n    </tr>\n    <tr>\n      <th>13</th>\n      <td>7 PF15717.8 ; PCM1_C ; Pericentr   6.7      ...</td>\n    </tr>\n    <tr>\n      <th>14</th>\n      <td>8 PF04311.16 ; DUF459 ; Protein    4.5      ...</td>\n    </tr>\n    <tr>\n      <th>15</th>\n      <td>9 PF18261.4 ; Rpn9_C ; Rpn9 C-te   4.5      ...</td>\n    </tr>\n    <tr>\n      <th>16</th>\n      <td>10 PF12777.10 ; MT ; Microtubule-   4.0      ...</td>\n    </tr>\n  </tbody>\n</table>\n</div>"
     },
     "execution_count": 110,
     "metadata": {},
     "output_type": "execute_result"
    }
   ],
   "source": [
    "# Show the output of hhblits\n",
    "hhblits_pfam = pd.read_csv(\"hhblits_pfam.txt\", sep=\"\\t\")\n",
    "header = hhblits_pfam.iloc[:6]\n",
    "calculations = hhblits_pfam.iloc[6:17]\n",
    "ali = hhblits_pfam.iloc[17:]\n",
    "calculations"
   ],
   "metadata": {
    "collapsed": false,
    "ExecuteTime": {
     "end_time": "2023-05-22T13:34:31.279941Z",
     "start_time": "2023-05-22T13:34:31.250492Z"
    }
   }
  },
  {
   "cell_type": "code",
   "execution_count": 111,
   "outputs": [
    {
     "data": {
      "text/plain": "    Query         Q92835/1-1189 Phosphatidylinositol-3,4,5-trisphosphate 5-phosphatase OS=Papio anubis OX=9555 GN=INPP5D PE=3 SV=3\n17                                                No 1                                                                            \n18                     >PF14633.9 ; SH2_2 ; SH2 domain                                                                            \n19   Probab=89.30  E-value=0.007  Score=46.57  Alig...                                                                            \n20   Q Q92835/1-1189     9 NITRSKAEELLSRTGKDGSFLVRA...                                                                            \n21   Q Consensus         9 nISRSEAEELLSRgSPpGSFLVRP...                                                                            \n..                                                 ...                                                                            \n140                        .++++|..+|...++++.+..|+....                                                                            \n141  T Consensus       154 ~f~~~l~~~~~~~~~~~~~~~l~~...                                                                            \n142  T DYH17_HUMAN/30  154 TFLDSLKKFDKEHIPEACLKAFKP...                                                                            \n143  T ss_pred             HHHHHHhccCHHhCCHHHHHHHHH...                                                                            \n144  Confidence            688889999999999999999999...                                                                            \n\n[128 rows x 1 columns]",
      "text/html": "<div>\n<style scoped>\n    .dataframe tbody tr th:only-of-type {\n        vertical-align: middle;\n    }\n\n    .dataframe tbody tr th {\n        vertical-align: top;\n    }\n\n    .dataframe thead th {\n        text-align: right;\n    }\n</style>\n<table border=\"1\" class=\"dataframe\">\n  <thead>\n    <tr style=\"text-align: right;\">\n      <th></th>\n      <th>Query         Q92835/1-1189 Phosphatidylinositol-3,4,5-trisphosphate 5-phosphatase OS=Papio anubis OX=9555 GN=INPP5D PE=3 SV=3</th>\n    </tr>\n  </thead>\n  <tbody>\n    <tr>\n      <th>17</th>\n      <td>No 1</td>\n    </tr>\n    <tr>\n      <th>18</th>\n      <td>&gt;PF14633.9 ; SH2_2 ; SH2 domain</td>\n    </tr>\n    <tr>\n      <th>19</th>\n      <td>Probab=89.30  E-value=0.007  Score=46.57  Alig...</td>\n    </tr>\n    <tr>\n      <th>20</th>\n      <td>Q Q92835/1-1189     9 NITRSKAEELLSRTGKDGSFLVRA...</td>\n    </tr>\n    <tr>\n      <th>21</th>\n      <td>Q Consensus         9 nISRSEAEELLSRgSPpGSFLVRP...</td>\n    </tr>\n    <tr>\n      <th>...</th>\n      <td>...</td>\n    </tr>\n    <tr>\n      <th>140</th>\n      <td>.++++|..+|...++++.+..|+....</td>\n    </tr>\n    <tr>\n      <th>141</th>\n      <td>T Consensus       154 ~f~~~l~~~~~~~~~~~~~~~l~~...</td>\n    </tr>\n    <tr>\n      <th>142</th>\n      <td>T DYH17_HUMAN/30  154 TFLDSLKKFDKEHIPEACLKAFKP...</td>\n    </tr>\n    <tr>\n      <th>143</th>\n      <td>T ss_pred             HHHHHHhccCHHhCCHHHHHHHHH...</td>\n    </tr>\n    <tr>\n      <th>144</th>\n      <td>Confidence            688889999999999999999999...</td>\n    </tr>\n  </tbody>\n</table>\n<p>128 rows × 1 columns</p>\n</div>"
     },
     "execution_count": 111,
     "metadata": {},
     "output_type": "execute_result"
    }
   ],
   "source": [
    "ali"
   ],
   "metadata": {
    "collapsed": false,
    "ExecuteTime": {
     "end_time": "2023-05-22T13:34:39.648469Z",
     "start_time": "2023-05-22T13:34:39.629067Z"
    }
   }
  },
  {
   "cell_type": "code",
   "execution_count": null,
   "outputs": [],
   "source": [],
   "metadata": {
    "collapsed": false
   }
  }
 ],
 "metadata": {
  "kernelspec": {
   "display_name": "Python 3",
   "language": "python",
   "name": "python3"
  },
  "language_info": {
   "codemirror_mode": {
    "name": "ipython",
    "version": 2
   },
   "file_extension": ".py",
   "mimetype": "text/x-python",
   "name": "python",
   "nbconvert_exporter": "python",
   "pygments_lexer": "ipython2",
   "version": "2.7.6"
  }
 },
 "nbformat": 4,
 "nbformat_minor": 0
}
