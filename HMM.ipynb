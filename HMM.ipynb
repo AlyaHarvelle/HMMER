{
 "cells": [
  {
   "cell_type": "markdown",
   "metadata": {
    "ExecuteTime": {
     "end_time": "2023-05-23T07:50:02.095781Z",
     "start_time": "2023-05-23T07:50:00.613949Z"
    }
   },
   "source": [
    "# HMM build and analysis\n",
    "\n",
    "Here we will construct and analyze HMM models using MSA as the input data. We will utilize several databases as sources to enhance our analysis and gain valuable insights from the generated HMM profiles.\n",
    "\n",
    "## Load the data\n",
    "\n",
    "We are working only with the disordered regions, thus we should keep only the related information.\n"
   ]
  },
  {
   "cell_type": "code",
   "execution_count": 12,
   "metadata": {
    "ExecuteTime": {
     "end_time": "2023-07-27T13:10:56.643849Z",
     "start_time": "2023-07-27T13:10:56.640709Z"
    }
   },
   "outputs": [],
   "source": [
    "# Importing the libraries\n",
    "import os\n",
    "import re\n",
    "import json\n",
    "import subprocess\n",
    "import pandas as pd\n",
    "import matplotlib.pyplot as plt\n",
    "from matplotlib.pyplot import figure\n",
    "import seaborn as sns\n",
    "import ipywidgets as widgets\n",
    "from functions import *"
   ]
  },
  {
   "cell_type": "code",
   "execution_count": 13,
   "metadata": {
    "ExecuteTime": {
     "end_time": "2023-07-27T13:10:57.328555Z",
     "start_time": "2023-07-27T13:10:57.319799Z"
    }
   },
   "outputs": [],
   "source": [
    "# Set the path and input parameters\n",
    "local_path = os.getcwd()\n",
    "name = 'alina'\n",
    "server = 'ecate'"
   ]
  },
  {
   "cell_type": "code",
   "execution_count": 66,
   "outputs": [
    {
     "name": "stdout",
     "output_type": "stream",
     "text": [
      "The number of instances: 8656\n"
     ]
    },
    {
     "data": {
      "text/plain": "  query_id  subject_id  query_len  hsp_len  \\\n0   Q16620  A0A2R9BM51        822      822   \n1   Q16620  A0A4X2LP40        822      824   \n2   Q16620  A0A4X2LDU8        822      822   \n3   Q16620  A0A6P5IKH1        822      824   \n4   Q16620  A0A7J7UQA2        822      741   \n\n                                           query_seq  \\\n0  MSSWIRWHGPAMARLWGFCWLVVGFWRAAFACPTSCKCSASRIWCS...   \n1  MSSWIRWHGPAMARLWGFCWLVVGFWRAAFACPTSCKCSASRIWCS...   \n2  MSSWIRWHGPAMARLWGFCWLVVGFWRAAFACPTSCKCSASRIWCS...   \n3  MSSWIRWHGPAMARLWGFCWLVVGFWRAAFACPTSCKCSASRIWCS...   \n4  TSCKCSASRIWCSDPSPGIVAFPRLEPNSVDPENITEIFIANQKRL...   \n\n                                           match_seq  \\\n0  MSSWIRWHGPAMARLWGFCWLVVGFWRAAFACPTSCKCSASRIWCS...   \n1  M SW + HGP MARL GFCWLV+ FWR + ACPTSC CS +RIWCS...   \n2  M SW + HGP MARL GFCWLV+ FWR + ACPTSC CS +RIWCS...   \n3  M SW + HGP MARL GFCWLV+ FWR + ACPTSC CS +RIWCS...   \n4  +SCKCSASRIWCSDP PGI+AFPRLEPN++DPENITEI+IANQKRL...   \n\n                                         subject_seq  query_start  query_end  \\\n0  MSSWIRWHGPAMARLWGFCWLVVGFWRAAFACPTSCKCSASRIWCS...            1        822   \n1  MLSWKKCHGPGMARLLGFCWLVLIFWRGSQACPTSCTCSTTRIWCS...            1        822   \n2  MLSWKKCHGPGMARLLGFCWLVLIFWRGSQACPTSCTCSTTRIWCS...            1        822   \n3  MLSWKKCHGPGMARLLGFCWLVLIFWRGSQACPTSCTCSTTRIWCS...            1        822   \n4  SSCKCSASRIWCSDPIPGIMAFPRLEPNTIDPENITEIYIANQKRL...           34        774   \n\n   subject_start  subject_end  identity  positive  gaps  eval  bit_score  \\\n0              1          822       822       822     0   0.0     4458.0   \n1              1          824       689       745     2   0.0     3749.0   \n2              1          821       689       745     1   0.0     3756.0   \n3              1          824       691       745     2   0.0     3764.0   \n4              2          739       710       724     3   0.0     3776.0   \n\n   count  \n0    200  \n1    200  \n2    200  \n3    200  \n4    200  ",
      "text/html": "<div>\n<style scoped>\n    .dataframe tbody tr th:only-of-type {\n        vertical-align: middle;\n    }\n\n    .dataframe tbody tr th {\n        vertical-align: top;\n    }\n\n    .dataframe thead th {\n        text-align: right;\n    }\n</style>\n<table border=\"1\" class=\"dataframe\">\n  <thead>\n    <tr style=\"text-align: right;\">\n      <th></th>\n      <th>query_id</th>\n      <th>subject_id</th>\n      <th>query_len</th>\n      <th>hsp_len</th>\n      <th>query_seq</th>\n      <th>match_seq</th>\n      <th>subject_seq</th>\n      <th>query_start</th>\n      <th>query_end</th>\n      <th>subject_start</th>\n      <th>subject_end</th>\n      <th>identity</th>\n      <th>positive</th>\n      <th>gaps</th>\n      <th>eval</th>\n      <th>bit_score</th>\n      <th>count</th>\n    </tr>\n  </thead>\n  <tbody>\n    <tr>\n      <th>0</th>\n      <td>Q16620</td>\n      <td>A0A2R9BM51</td>\n      <td>822</td>\n      <td>822</td>\n      <td>MSSWIRWHGPAMARLWGFCWLVVGFWRAAFACPTSCKCSASRIWCS...</td>\n      <td>MSSWIRWHGPAMARLWGFCWLVVGFWRAAFACPTSCKCSASRIWCS...</td>\n      <td>MSSWIRWHGPAMARLWGFCWLVVGFWRAAFACPTSCKCSASRIWCS...</td>\n      <td>1</td>\n      <td>822</td>\n      <td>1</td>\n      <td>822</td>\n      <td>822</td>\n      <td>822</td>\n      <td>0</td>\n      <td>0.0</td>\n      <td>4458.0</td>\n      <td>200</td>\n    </tr>\n    <tr>\n      <th>1</th>\n      <td>Q16620</td>\n      <td>A0A4X2LP40</td>\n      <td>822</td>\n      <td>824</td>\n      <td>MSSWIRWHGPAMARLWGFCWLVVGFWRAAFACPTSCKCSASRIWCS...</td>\n      <td>M SW + HGP MARL GFCWLV+ FWR + ACPTSC CS +RIWCS...</td>\n      <td>MLSWKKCHGPGMARLLGFCWLVLIFWRGSQACPTSCTCSTTRIWCS...</td>\n      <td>1</td>\n      <td>822</td>\n      <td>1</td>\n      <td>824</td>\n      <td>689</td>\n      <td>745</td>\n      <td>2</td>\n      <td>0.0</td>\n      <td>3749.0</td>\n      <td>200</td>\n    </tr>\n    <tr>\n      <th>2</th>\n      <td>Q16620</td>\n      <td>A0A4X2LDU8</td>\n      <td>822</td>\n      <td>822</td>\n      <td>MSSWIRWHGPAMARLWGFCWLVVGFWRAAFACPTSCKCSASRIWCS...</td>\n      <td>M SW + HGP MARL GFCWLV+ FWR + ACPTSC CS +RIWCS...</td>\n      <td>MLSWKKCHGPGMARLLGFCWLVLIFWRGSQACPTSCTCSTTRIWCS...</td>\n      <td>1</td>\n      <td>822</td>\n      <td>1</td>\n      <td>821</td>\n      <td>689</td>\n      <td>745</td>\n      <td>1</td>\n      <td>0.0</td>\n      <td>3756.0</td>\n      <td>200</td>\n    </tr>\n    <tr>\n      <th>3</th>\n      <td>Q16620</td>\n      <td>A0A6P5IKH1</td>\n      <td>822</td>\n      <td>824</td>\n      <td>MSSWIRWHGPAMARLWGFCWLVVGFWRAAFACPTSCKCSASRIWCS...</td>\n      <td>M SW + HGP MARL GFCWLV+ FWR + ACPTSC CS +RIWCS...</td>\n      <td>MLSWKKCHGPGMARLLGFCWLVLIFWRGSQACPTSCTCSTTRIWCS...</td>\n      <td>1</td>\n      <td>822</td>\n      <td>1</td>\n      <td>824</td>\n      <td>691</td>\n      <td>745</td>\n      <td>2</td>\n      <td>0.0</td>\n      <td>3764.0</td>\n      <td>200</td>\n    </tr>\n    <tr>\n      <th>4</th>\n      <td>Q16620</td>\n      <td>A0A7J7UQA2</td>\n      <td>822</td>\n      <td>741</td>\n      <td>TSCKCSASRIWCSDPSPGIVAFPRLEPNSVDPENITEIFIANQKRL...</td>\n      <td>+SCKCSASRIWCSDP PGI+AFPRLEPN++DPENITEI+IANQKRL...</td>\n      <td>SSCKCSASRIWCSDPIPGIMAFPRLEPNTIDPENITEIYIANQKRL...</td>\n      <td>34</td>\n      <td>774</td>\n      <td>2</td>\n      <td>739</td>\n      <td>710</td>\n      <td>724</td>\n      <td>3</td>\n      <td>0.0</td>\n      <td>3776.0</td>\n      <td>200</td>\n    </tr>\n  </tbody>\n</table>\n</div>"
     },
     "execution_count": 66,
     "metadata": {},
     "output_type": "execute_result"
    }
   ],
   "source": [
    "# Open XML file in a dataframe\n",
    "input_file = '{}/databases/uniprot/curated_uniprot.fasta_75'.format(directory) # change the file name if necessary\n",
    "df = blast_parser(input_file)\n",
    "print(f\"The number of instances: {len(df)}\")\n",
    "df.head(5)"
   ],
   "metadata": {
    "collapsed": false,
    "ExecuteTime": {
     "end_time": "2023-07-27T15:19:56.923253Z",
     "start_time": "2023-07-27T15:19:56.014085Z"
    }
   }
  },
  {
   "cell_type": "code",
   "execution_count": 67,
   "outputs": [
    {
     "name": "stdout",
     "output_type": "stream",
     "text": [
      "The number of the Curated Disprot database instances: 3151\n"
     ]
    },
    {
     "data": {
      "text/plain": "         acc evidence   feature   source  start  end  length\n6927  P03265  curated  disorder  disprot    294  334      41\n6928  P03265  curated  disorder  disprot    454  464      11\n6929  P49913  curated  disorder  disprot    134  170      37\n6930  P03045  curated  disorder  disprot      1  107     107\n6931  P00004  curated  disorder  disprot      1  105     105",
      "text/html": "<div>\n<style scoped>\n    .dataframe tbody tr th:only-of-type {\n        vertical-align: middle;\n    }\n\n    .dataframe tbody tr th {\n        vertical-align: top;\n    }\n\n    .dataframe thead th {\n        text-align: right;\n    }\n</style>\n<table border=\"1\" class=\"dataframe\">\n  <thead>\n    <tr style=\"text-align: right;\">\n      <th></th>\n      <th>acc</th>\n      <th>evidence</th>\n      <th>feature</th>\n      <th>source</th>\n      <th>start</th>\n      <th>end</th>\n      <th>length</th>\n    </tr>\n  </thead>\n  <tbody>\n    <tr>\n      <th>6927</th>\n      <td>P03265</td>\n      <td>curated</td>\n      <td>disorder</td>\n      <td>disprot</td>\n      <td>294</td>\n      <td>334</td>\n      <td>41</td>\n    </tr>\n    <tr>\n      <th>6928</th>\n      <td>P03265</td>\n      <td>curated</td>\n      <td>disorder</td>\n      <td>disprot</td>\n      <td>454</td>\n      <td>464</td>\n      <td>11</td>\n    </tr>\n    <tr>\n      <th>6929</th>\n      <td>P49913</td>\n      <td>curated</td>\n      <td>disorder</td>\n      <td>disprot</td>\n      <td>134</td>\n      <td>170</td>\n      <td>37</td>\n    </tr>\n    <tr>\n      <th>6930</th>\n      <td>P03045</td>\n      <td>curated</td>\n      <td>disorder</td>\n      <td>disprot</td>\n      <td>1</td>\n      <td>107</td>\n      <td>107</td>\n    </tr>\n    <tr>\n      <th>6931</th>\n      <td>P00004</td>\n      <td>curated</td>\n      <td>disorder</td>\n      <td>disprot</td>\n      <td>1</td>\n      <td>105</td>\n      <td>105</td>\n    </tr>\n  </tbody>\n</table>\n</div>"
     },
     "execution_count": 67,
     "metadata": {},
     "output_type": "execute_result"
    }
   ],
   "source": [
    "# Create a dataframe with Disprot instances from curated.mjson database\n",
    "data = list()\n",
    "\n",
    "with open('curated.mjson', 'r') as file:\n",
    "    for line in file:\n",
    "        obj = json.loads(line)\n",
    "        rows = json_parser(obj)\n",
    "        data.extend(rows)\n",
    "\n",
    "curated_disprot = pd.DataFrame(data)\n",
    "\n",
    "# Calculate the length of disordered regions\n",
    "curated_disprot['length'] = curated_disprot['end'] - curated_disprot['start'] + 1\n",
    "curated_disprot = curated_disprot[(curated_disprot['feature'] == 'disorder') & (curated_disprot['source'] == 'disprot')]\n",
    "\n",
    "print(f\"The number of the Curated Disprot database instances: {len(curated_disprot)}\")\n",
    "curated_disprot.head(5)"
   ],
   "metadata": {
    "collapsed": false,
    "ExecuteTime": {
     "end_time": "2023-07-27T15:19:57.591350Z",
     "start_time": "2023-07-27T15:19:57.530690Z"
    }
   }
  },
  {
   "cell_type": "code",
   "execution_count": 68,
   "outputs": [
    {
     "name": "stdout",
     "output_type": "stream",
     "text": [
      "The number of rows containing disordered regions: 2887\n"
     ]
    },
    {
     "data": {
      "text/plain": "    query_id  subject_id  query_len  hsp_len  \\\n200   Q9H832  A0A6J2FM24        354      356   \n201   Q9H832  A0A3Q7W6Y2        354      356   \n202   Q9H832  A0A2U3VK69        354      356   \n203   Q9H832  A0A2Y9JVH5        354      358   \n204   Q9H832  A0A8C7ALE4        354      358   \n\n                                             query_seq  \\\n200  MAESPTEEAATA--GAGAAGPGASSVAGVVGVSGSGGGFGPPFLPD...   \n201  MAESPTEEAATA--GAGAAGPGASSVAGVVGVSGSGGGFGPPFLPD...   \n202  MAESPTEEAATA--GAGAAGPGASSVAGVVGVSGSGGGFGPPFLPD...   \n203  MAESPTEEAATA----GAGAAGPGASSVAGVVGVSGSGGGFGPPFL...   \n204  MAESPTEEAATA----GAGAAGPGASSVAGVVGVSGSGGGFGPPFL...   \n\n                                             match_seq  \\\n200  MAESPTEEAATA  GAGAAGPGAS V GVVGVSGSG  FGPPFLPD...   \n201  MAESPTEEAATA  GAGA GPGAS VAGVVGVSGSG  FGPPFLPD...   \n202  MAESPTEEAATA  GAGAAGPGAS V GVVGVSGSG  FGPPFLPD...   \n203  MAESPTEEAATA    GAGAAGPGAS VAGVVGVSGSG  FGPPFL...   \n204  MAESPTEEAATA    GAGAAGPGAS VAGVVGVSGSG  FGPPFL...   \n\n                                           subject_seq  query_start  \\\n200  MAESPTEEAATATAGAGAAGPGASGVTGVVGVSGSG--FGPPFLPD...            1   \n201  MAESPTEEAATATAGAGATGPGASGVAGVVGVSGSG--FGPPFLPD...            1   \n202  MAESPTEEAATATAGAGAAGPGASGVTGVVGVSGSG--FGPPFLPD...            1   \n203  MAESPTEEAATATATAGAGAAGPGASGVAGVVGVSGSG--FGPPFL...            1   \n204  MAESPTEEAATATATAGAGAAGPGASGVAGVVGVSGSG--FGPPFL...            1   \n\n     query_end  subject_start  subject_end  identity  positive  gaps  eval  \\\n200        354              1          354       350       350     4   0.0   \n201        354              1          354       350       350     4   0.0   \n202        354              1          354       350       350     4   0.0   \n203        354              1          356       351       351     6   0.0   \n204        354              1          356       351       351     6   0.0   \n\n     bit_score  count  \n200     1851.0    200  \n201     1851.0    200  \n202     1851.0    200  \n203     1854.0    200  \n204     1854.0    200  ",
      "text/html": "<div>\n<style scoped>\n    .dataframe tbody tr th:only-of-type {\n        vertical-align: middle;\n    }\n\n    .dataframe tbody tr th {\n        vertical-align: top;\n    }\n\n    .dataframe thead th {\n        text-align: right;\n    }\n</style>\n<table border=\"1\" class=\"dataframe\">\n  <thead>\n    <tr style=\"text-align: right;\">\n      <th></th>\n      <th>query_id</th>\n      <th>subject_id</th>\n      <th>query_len</th>\n      <th>hsp_len</th>\n      <th>query_seq</th>\n      <th>match_seq</th>\n      <th>subject_seq</th>\n      <th>query_start</th>\n      <th>query_end</th>\n      <th>subject_start</th>\n      <th>subject_end</th>\n      <th>identity</th>\n      <th>positive</th>\n      <th>gaps</th>\n      <th>eval</th>\n      <th>bit_score</th>\n      <th>count</th>\n    </tr>\n  </thead>\n  <tbody>\n    <tr>\n      <th>200</th>\n      <td>Q9H832</td>\n      <td>A0A6J2FM24</td>\n      <td>354</td>\n      <td>356</td>\n      <td>MAESPTEEAATA--GAGAAGPGASSVAGVVGVSGSGGGFGPPFLPD...</td>\n      <td>MAESPTEEAATA  GAGAAGPGAS V GVVGVSGSG  FGPPFLPD...</td>\n      <td>MAESPTEEAATATAGAGAAGPGASGVTGVVGVSGSG--FGPPFLPD...</td>\n      <td>1</td>\n      <td>354</td>\n      <td>1</td>\n      <td>354</td>\n      <td>350</td>\n      <td>350</td>\n      <td>4</td>\n      <td>0.0</td>\n      <td>1851.0</td>\n      <td>200</td>\n    </tr>\n    <tr>\n      <th>201</th>\n      <td>Q9H832</td>\n      <td>A0A3Q7W6Y2</td>\n      <td>354</td>\n      <td>356</td>\n      <td>MAESPTEEAATA--GAGAAGPGASSVAGVVGVSGSGGGFGPPFLPD...</td>\n      <td>MAESPTEEAATA  GAGA GPGAS VAGVVGVSGSG  FGPPFLPD...</td>\n      <td>MAESPTEEAATATAGAGATGPGASGVAGVVGVSGSG--FGPPFLPD...</td>\n      <td>1</td>\n      <td>354</td>\n      <td>1</td>\n      <td>354</td>\n      <td>350</td>\n      <td>350</td>\n      <td>4</td>\n      <td>0.0</td>\n      <td>1851.0</td>\n      <td>200</td>\n    </tr>\n    <tr>\n      <th>202</th>\n      <td>Q9H832</td>\n      <td>A0A2U3VK69</td>\n      <td>354</td>\n      <td>356</td>\n      <td>MAESPTEEAATA--GAGAAGPGASSVAGVVGVSGSGGGFGPPFLPD...</td>\n      <td>MAESPTEEAATA  GAGAAGPGAS V GVVGVSGSG  FGPPFLPD...</td>\n      <td>MAESPTEEAATATAGAGAAGPGASGVTGVVGVSGSG--FGPPFLPD...</td>\n      <td>1</td>\n      <td>354</td>\n      <td>1</td>\n      <td>354</td>\n      <td>350</td>\n      <td>350</td>\n      <td>4</td>\n      <td>0.0</td>\n      <td>1851.0</td>\n      <td>200</td>\n    </tr>\n    <tr>\n      <th>203</th>\n      <td>Q9H832</td>\n      <td>A0A2Y9JVH5</td>\n      <td>354</td>\n      <td>358</td>\n      <td>MAESPTEEAATA----GAGAAGPGASSVAGVVGVSGSGGGFGPPFL...</td>\n      <td>MAESPTEEAATA    GAGAAGPGAS VAGVVGVSGSG  FGPPFL...</td>\n      <td>MAESPTEEAATATATAGAGAAGPGASGVAGVVGVSGSG--FGPPFL...</td>\n      <td>1</td>\n      <td>354</td>\n      <td>1</td>\n      <td>356</td>\n      <td>351</td>\n      <td>351</td>\n      <td>6</td>\n      <td>0.0</td>\n      <td>1854.0</td>\n      <td>200</td>\n    </tr>\n    <tr>\n      <th>204</th>\n      <td>Q9H832</td>\n      <td>A0A8C7ALE4</td>\n      <td>354</td>\n      <td>358</td>\n      <td>MAESPTEEAATA----GAGAAGPGASSVAGVVGVSGSGGGFGPPFL...</td>\n      <td>MAESPTEEAATA    GAGAAGPGAS VAGVVGVSGSG  FGPPFL...</td>\n      <td>MAESPTEEAATATATAGAGAAGPGASGVAGVVGVSGSG--FGPPFL...</td>\n      <td>1</td>\n      <td>354</td>\n      <td>1</td>\n      <td>356</td>\n      <td>351</td>\n      <td>351</td>\n      <td>6</td>\n      <td>0.0</td>\n      <td>1854.0</td>\n      <td>200</td>\n    </tr>\n  </tbody>\n</table>\n</div>"
     },
     "execution_count": 68,
     "metadata": {},
     "output_type": "execute_result"
    }
   ],
   "source": [
    "# Keep only disordered regions in the initial dataframe filtering using curated_disordered dataframe\n",
    "disordered = df[df['query_id'].isin(curated_disprot['acc'])]\n",
    "disordered.to_csv(\"disordered_df.csv\", index=False)\n",
    "\n",
    "print(f\"The number of rows containing disordered regions: {len(disordered)}\")\n",
    "disordered.head(5)"
   ],
   "metadata": {
    "collapsed": false,
    "ExecuteTime": {
     "end_time": "2023-07-27T15:19:58.338339Z",
     "start_time": "2023-07-27T15:19:58.206560Z"
    }
   }
  },
  {
   "cell_type": "code",
   "execution_count": 69,
   "metadata": {
    "ExecuteTime": {
     "end_time": "2023-07-27T15:19:58.961580Z",
     "start_time": "2023-07-27T15:19:58.948694Z"
    }
   },
   "outputs": [
    {
     "data": {
      "text/plain": "Select(description='Uniprot ID: ', layout=Layout(width='max-content'), options=('Q9H832', 'Q8IW19', 'Q99967', …",
      "application/vnd.jupyter.widget-view+json": {
       "version_major": 2,
       "version_minor": 0,
       "model_id": "a706bfca12734ecc81ecf0e2158955af"
      }
     },
     "metadata": {},
     "output_type": "display_data"
    }
   ],
   "source": [
    "# Dropdown list of Uniprot query IDs for disordered regions\n",
    "output = widgets.Select(\n",
    "    options=disordered[\"query_id\"].unique(),\n",
    "    rows=10,\n",
    "    description='Uniprot ID: ',\n",
    "    layout={'width': 'max-content'},\n",
    "    disabled=False\n",
    ")\n",
    "display(output)"
   ]
  },
  {
   "cell_type": "code",
   "execution_count": 70,
   "metadata": {
    "ExecuteTime": {
     "end_time": "2023-07-27T15:19:59.957142Z",
     "start_time": "2023-07-27T15:19:59.954664Z"
    }
   },
   "outputs": [
    {
     "name": "stdout",
     "output_type": "stream",
     "text": [
      "The number of disordered regions found in the Q9H832 protein: 2\n"
     ]
    },
    {
     "data": {
      "text/plain": "         acc evidence   feature   source  start  end  length\n7799  Q9H832  curated  disorder  disprot      1   99      99\n7800  Q9H832  curated  disorder  disprot    327  354      28",
      "text/html": "<div>\n<style scoped>\n    .dataframe tbody tr th:only-of-type {\n        vertical-align: middle;\n    }\n\n    .dataframe tbody tr th {\n        vertical-align: top;\n    }\n\n    .dataframe thead th {\n        text-align: right;\n    }\n</style>\n<table border=\"1\" class=\"dataframe\">\n  <thead>\n    <tr style=\"text-align: right;\">\n      <th></th>\n      <th>acc</th>\n      <th>evidence</th>\n      <th>feature</th>\n      <th>source</th>\n      <th>start</th>\n      <th>end</th>\n      <th>length</th>\n    </tr>\n  </thead>\n  <tbody>\n    <tr>\n      <th>7799</th>\n      <td>Q9H832</td>\n      <td>curated</td>\n      <td>disorder</td>\n      <td>disprot</td>\n      <td>1</td>\n      <td>99</td>\n      <td>99</td>\n    </tr>\n    <tr>\n      <th>7800</th>\n      <td>Q9H832</td>\n      <td>curated</td>\n      <td>disorder</td>\n      <td>disprot</td>\n      <td>327</td>\n      <td>354</td>\n      <td>28</td>\n    </tr>\n  </tbody>\n</table>\n</div>"
     },
     "execution_count": 70,
     "metadata": {},
     "output_type": "execute_result"
    }
   ],
   "source": [
    "# Filter the curated_disprot dataframe on Uniprot query ID\n",
    "q_id = output.value\n",
    "curated_query = curated_disprot[curated_disprot['acc'] == q_id]\n",
    "\n",
    "print(f\"The number of disordered regions found in the {q_id} protein: {len(curated_query)}\")\n",
    "curated_query.head()"
   ]
  },
  {
   "cell_type": "code",
   "execution_count": 71,
   "outputs": [],
   "source": [
    "# Select the region and set the paths to HMM and MSA files\n",
    "i = 1 # change the number if there are several regions in a protein\n",
    "hmm_file = f'{local_path}/results/hmms/hmmbuild/{q_id}_{i}.hmm'\n",
    "align_file = f'{local_path}/results/alignments/output_files/disordered/{q_id}_{i}.fasta'"
   ],
   "metadata": {
    "collapsed": false,
    "ExecuteTime": {
     "end_time": "2023-07-27T15:20:02.414379Z",
     "start_time": "2023-07-27T15:20:02.375885Z"
    }
   }
  },
  {
   "cell_type": "markdown",
   "metadata": {
    "ExecuteTime": {
     "end_time": "2023-07-12T15:11:40.173969Z",
     "start_time": "2023-07-12T15:11:39.993013Z"
    }
   },
   "source": [
    "## 1. Build HMM\n",
    "We generate HMM model with `hmmbuild` using MSA as an input."
   ],
   "outputs": [
    {
     "name": "stdout",
     "output_type": "stream",
     "text": [
      "# hmmbuild :: profile HMM construction from multiple sequence alignments\r\n",
      "# HMMER 3.3.2 (Nov 2020); http://hmmer.org/\r\n",
      "# Copyright (C) 2020 Howard Hughes Medical Institute.\r\n",
      "# Freely distributed under the BSD open source license.\r\n",
      "# - - - - - - - - - - - - - - - - - - - - - - - - - - - - - - - - - - - -\r\n",
      "# input alignment file:             /Users/alina/HMM/results/alignments/output_files/disordered/Q8K4J6_2.fasta\r\n",
      "# output HMM file:                  /Users/alina/HMM/results/disordered/hmmbuild/Q8K4J6_2.hmm\r\n",
      "# - - - - - - - - - - - - - - - - - - - - - - - - - - - - - - - - - - - -\r\n",
      "\r\n",
      "# idx name                  nseq  alen  mlen eff_nseq re/pos description\r\n",
      "#---- -------------------- ----- ----- ----- -------- ------ -----------\r\n",
      "1     Q8K4J6_2               201    32    32     1.33  1.686 \r\n",
      "\r\n",
      "# CPU time: 0.02u 0.00s 00:00:00.02 Elapsed: 00:00:00.02\r\n"
     ]
    }
   ],
   "execution_count": 221
  },
  {
   "cell_type": "code",
   "execution_count": 72,
   "metadata": {
    "ExecuteTime": {
     "end_time": "2023-07-27T15:20:03.686383Z",
     "start_time": "2023-07-27T15:20:03.489809Z"
    }
   },
   "outputs": [
    {
     "name": "stdout",
     "output_type": "stream",
     "text": [
      "# hmmbuild :: profile HMM construction from multiple sequence alignments\r\n",
      "# HMMER 3.3.2 (Nov 2020); http://hmmer.org/\r\n",
      "# Copyright (C) 2020 Howard Hughes Medical Institute.\r\n",
      "# Freely distributed under the BSD open source license.\r\n",
      "# - - - - - - - - - - - - - - - - - - - - - - - - - - - - - - - - - - - -\r\n",
      "# input alignment file:             /Users/alina/HMM/results/alignments/output_files/disordered/Q9H832_1.fasta\r\n",
      "# output HMM file:                  /Users/alina/HMM/results/hmms/hmmbuild/Q9H832_1.hmm\r\n",
      "# - - - - - - - - - - - - - - - - - - - - - - - - - - - - - - - - - - - -\r\n",
      "\r\n",
      "# idx name                  nseq  alen  mlen eff_nseq re/pos description\r\n",
      "#---- -------------------- ----- ----- ----- -------- ------ -----------\r\n",
      "1     Q9H832_1                12    99    98     1.99  0.591 \r\n",
      "\r\n",
      "# CPU time: 0.04u 0.00s 00:00:00.04 Elapsed: 00:00:00.03\r\n"
     ]
    }
   ],
   "source": [
    "# Build HMM\n",
    "!hmmbuild {hmm_file} {align_file}"
   ]
  },
  {
   "cell_type": "markdown",
   "metadata": {},
   "source": [
    "Here we should pay attention at the occasional difference between the values of `alen` and `mlen` which stand for aligned sequence and consensus sequence lengths respectfully. If they differ, we handle the sequences with the deletions."
   ]
  },
  {
   "cell_type": "markdown",
   "metadata": {
    "ExecuteTime": {
     "end_time": "2023-07-12T15:11:40.550153Z",
     "start_time": "2023-07-12T15:11:40.547321Z"
    }
   },
   "source": [
    "## 2. HMMsearch\n",
    "\n",
    "After building the model, our objective is to assess if overlaps with the profiles in Reference Proteome 15% exist and to enrich the model by utilizing this database. We generate dataframes containing the most significant sequences, with a default E-value threshold of 0.01.\n",
    "\n",
    "### Reference Proteome"
   ],
   "outputs": [],
   "execution_count": 222
  },
  {
   "cell_type": "code",
   "execution_count": 21,
   "metadata": {
    "ExecuteTime": {
     "end_time": "2023-07-27T13:11:19.466085Z",
     "start_time": "2023-07-27T13:11:18.489300Z"
    }
   },
   "outputs": [
    {
     "name": "stdout",
     "output_type": "stream",
     "text": [
      "P01097_1.hmm                                  100%   11KB   4.3MB/s   00:00    \r\n"
     ]
    }
   ],
   "source": [
    "# Copy the HMM file to remote computer to perform HMM search on a cluster\n",
    "!scp {local_path}/results/hmms/hmmbuild/{q_id}_{i}.hmm {name}@{server}:~/{q_id}_{i}.hmm"
   ]
  },
  {
   "cell_type": "code",
   "execution_count": 22,
   "metadata": {
    "ExecuteTime": {
     "end_time": "2023-07-27T13:12:45.379402Z",
     "start_time": "2023-07-27T13:11:19.466362Z"
    }
   },
   "outputs": [],
   "source": [
    "# HMM search against Reference Proteome 15%\n",
    "!ssh {name}@{server} \"/software/packages/hmmer/hmmer-3.3.2/usr/bin/hmmsearch {q_id}_{i}.hmm /db/rp/rp-seqs-15.fasta.gz > hmmsearch_rp_15_{q_id}_{i}.txt\""
   ]
  },
  {
   "cell_type": "code",
   "execution_count": 23,
   "metadata": {
    "ExecuteTime": {
     "end_time": "2023-07-27T13:12:46.085238Z",
     "start_time": "2023-07-27T13:12:45.383997Z"
    }
   },
   "outputs": [
    {
     "name": "stdout",
     "output_type": "stream",
     "text": [
      "hmmsearch_rp_15_P01097_1.txt                  100%   78KB  12.8MB/s   00:00    \r\n"
     ]
    }
   ],
   "source": [
    "# Copy results to the local folder\n",
    "!scp {name}@{server}:~/hmmsearch_rp_15_{q_id}_{i}.txt {local_path}/results/hmms/hmmsearch/"
   ]
  },
  {
   "cell_type": "code",
   "execution_count": 73,
   "metadata": {
    "ExecuteTime": {
     "end_time": "2023-07-27T15:20:07.817297Z",
     "start_time": "2023-07-27T15:20:07.785338Z"
    }
   },
   "outputs": [
    {
     "name": "stdout",
     "output_type": "stream",
     "text": [
      "The number of unique sequences: 17\n"
     ]
    },
    {
     "data": {
      "text/plain": "    E-value  score  bias  E-value  score  bias  exp  N    Sequence  \\\n0   8.8e-32  119.4  17.6  1.3e-31  118.9  17.6  1.3  1  A0A7N9CX17   \n1   1.2e-31  119.0  17.6  1.7e-31  118.5  17.6  1.3  1      Q9H832   \n2   2.8e-30  114.6  18.1  4.2e-30  114.0  18.1  1.3  1      Q3B7D1   \n3   5.4e-30  113.7  18.0  8.1e-30  113.1  18.0  1.3  1      Q3UE37   \n4   3.3e-21   85.5  19.7  1.4e-20   83.5  19.7  1.9  1  A0A2K5VU74   \n5   4.2e-10   49.9  25.5  1.4e-08   45.0   5.3  2.3  2      H3B9H2   \n6   4.2e-08   43.5   6.0  7.6e-08   42.7   6.0  1.3  1  A0A4W3JHM2   \n7   5.2e-08   43.2  22.0  9.6e-08   42.3  22.0  1.5  1      E1BQ87   \n8   5.3e-08   43.1   2.3  1.1e-07   42.1   2.3  1.6  1      Q6DG60   \n9     1e-07   42.2  21.8  2.5e-07   41.0  12.1  2.3  2  A0A444UI62   \n10  6.9e-07   39.6   8.1  4.7e-06   36.9   8.1  2.2  1  A0A8J4TYB0   \n11  1.8e-05   35.1   8.3  1.8e-05   35.1   8.3  3.0  1  A0A444UQ25   \n12  2.7e-05   34.5  24.5  0.00013   32.3  19.7  2.5  1  A0A4Z2GIF1   \n13  0.00018   31.8   8.8  0.00092   29.6   3.0  2.1  2  A0A2G9R8D0   \n14  0.00039   30.8   8.8   0.0052   27.1   5.5  2.2  2  A0A2G9R9W7   \n15  0.00054   30.3   8.5   0.0068   26.8   5.2  2.4  2  A0A2G9R856   \n16   0.0019   28.5   0.4   0.0031   27.8   0.4  1.4  1  A0A812B0C6   \n\n                                          Description  \n0   A0A7N9CX17_MACFA^|^^|^Ubiquitin conjugating enzym  \n1    UBE2Z_HUMAN^|^^|^Ubiquitin-conjugating enzyme E2  \n2   UBE2Z_RAT^|^^|^Ubiquitin-conjugating enzyme E2 Z^  \n3    UBE2Z_MOUSE^|^^|^Ubiquitin-conjugating enzyme E2  \n4   A0A2K5VU74_MACFA^|^^|^Ubiquitin conjugating enzym  \n5   H3B9H2_LATCH^|^^|^UBC core domain-containing prot  \n6    A0A4W3JHM2_CALMI^|^^|^UBC core domain-containing  \n7   E1BQ87_CHICK^|^^|^UBC core domain-containing prot  \n8    UBE2Z_DANRE^|^^|^Ubiquitin-conjugating enzyme E2  \n9   A0A444UI62_ACIRT^|^^|^Ubiquitin-conjugating enzym  \n10  A0A8J4TYB0_CLAMG^|^^|^Ubiquitin-conjugating enzym  \n11  A0A444UQ25_ACIRT^|^^|^Ubiquitin-conjugating enzym  \n12  A0A4Z2GIF1_9TELE^|^^|^Ubiquitin-conjugating enzym  \n13   A0A2G9R8D0_LITCT^|^^|^UBC core domain-containing  \n14  A0A2G9R9W7_LITCT^|^^|^Uncharacterized protein {EC  \n15  A0A2G9R856_LITCT^|^^|^Uncharacterized protein {EC  \n16  A0A812B0C6_SEPPH^|^^|^UBE2Z {ECO:0000313|EMBL:CAE  ",
      "text/html": "<div>\n<style scoped>\n    .dataframe tbody tr th:only-of-type {\n        vertical-align: middle;\n    }\n\n    .dataframe tbody tr th {\n        vertical-align: top;\n    }\n\n    .dataframe thead th {\n        text-align: right;\n    }\n</style>\n<table border=\"1\" class=\"dataframe\">\n  <thead>\n    <tr style=\"text-align: right;\">\n      <th></th>\n      <th>E-value</th>\n      <th>score</th>\n      <th>bias</th>\n      <th>E-value</th>\n      <th>score</th>\n      <th>bias</th>\n      <th>exp</th>\n      <th>N</th>\n      <th>Sequence</th>\n      <th>Description</th>\n    </tr>\n  </thead>\n  <tbody>\n    <tr>\n      <th>0</th>\n      <td>8.8e-32</td>\n      <td>119.4</td>\n      <td>17.6</td>\n      <td>1.3e-31</td>\n      <td>118.9</td>\n      <td>17.6</td>\n      <td>1.3</td>\n      <td>1</td>\n      <td>A0A7N9CX17</td>\n      <td>A0A7N9CX17_MACFA^|^^|^Ubiquitin conjugating enzym</td>\n    </tr>\n    <tr>\n      <th>1</th>\n      <td>1.2e-31</td>\n      <td>119.0</td>\n      <td>17.6</td>\n      <td>1.7e-31</td>\n      <td>118.5</td>\n      <td>17.6</td>\n      <td>1.3</td>\n      <td>1</td>\n      <td>Q9H832</td>\n      <td>UBE2Z_HUMAN^|^^|^Ubiquitin-conjugating enzyme E2</td>\n    </tr>\n    <tr>\n      <th>2</th>\n      <td>2.8e-30</td>\n      <td>114.6</td>\n      <td>18.1</td>\n      <td>4.2e-30</td>\n      <td>114.0</td>\n      <td>18.1</td>\n      <td>1.3</td>\n      <td>1</td>\n      <td>Q3B7D1</td>\n      <td>UBE2Z_RAT^|^^|^Ubiquitin-conjugating enzyme E2 Z^</td>\n    </tr>\n    <tr>\n      <th>3</th>\n      <td>5.4e-30</td>\n      <td>113.7</td>\n      <td>18.0</td>\n      <td>8.1e-30</td>\n      <td>113.1</td>\n      <td>18.0</td>\n      <td>1.3</td>\n      <td>1</td>\n      <td>Q3UE37</td>\n      <td>UBE2Z_MOUSE^|^^|^Ubiquitin-conjugating enzyme E2</td>\n    </tr>\n    <tr>\n      <th>4</th>\n      <td>3.3e-21</td>\n      <td>85.5</td>\n      <td>19.7</td>\n      <td>1.4e-20</td>\n      <td>83.5</td>\n      <td>19.7</td>\n      <td>1.9</td>\n      <td>1</td>\n      <td>A0A2K5VU74</td>\n      <td>A0A2K5VU74_MACFA^|^^|^Ubiquitin conjugating enzym</td>\n    </tr>\n    <tr>\n      <th>5</th>\n      <td>4.2e-10</td>\n      <td>49.9</td>\n      <td>25.5</td>\n      <td>1.4e-08</td>\n      <td>45.0</td>\n      <td>5.3</td>\n      <td>2.3</td>\n      <td>2</td>\n      <td>H3B9H2</td>\n      <td>H3B9H2_LATCH^|^^|^UBC core domain-containing prot</td>\n    </tr>\n    <tr>\n      <th>6</th>\n      <td>4.2e-08</td>\n      <td>43.5</td>\n      <td>6.0</td>\n      <td>7.6e-08</td>\n      <td>42.7</td>\n      <td>6.0</td>\n      <td>1.3</td>\n      <td>1</td>\n      <td>A0A4W3JHM2</td>\n      <td>A0A4W3JHM2_CALMI^|^^|^UBC core domain-containing</td>\n    </tr>\n    <tr>\n      <th>7</th>\n      <td>5.2e-08</td>\n      <td>43.2</td>\n      <td>22.0</td>\n      <td>9.6e-08</td>\n      <td>42.3</td>\n      <td>22.0</td>\n      <td>1.5</td>\n      <td>1</td>\n      <td>E1BQ87</td>\n      <td>E1BQ87_CHICK^|^^|^UBC core domain-containing prot</td>\n    </tr>\n    <tr>\n      <th>8</th>\n      <td>5.3e-08</td>\n      <td>43.1</td>\n      <td>2.3</td>\n      <td>1.1e-07</td>\n      <td>42.1</td>\n      <td>2.3</td>\n      <td>1.6</td>\n      <td>1</td>\n      <td>Q6DG60</td>\n      <td>UBE2Z_DANRE^|^^|^Ubiquitin-conjugating enzyme E2</td>\n    </tr>\n    <tr>\n      <th>9</th>\n      <td>1e-07</td>\n      <td>42.2</td>\n      <td>21.8</td>\n      <td>2.5e-07</td>\n      <td>41.0</td>\n      <td>12.1</td>\n      <td>2.3</td>\n      <td>2</td>\n      <td>A0A444UI62</td>\n      <td>A0A444UI62_ACIRT^|^^|^Ubiquitin-conjugating enzym</td>\n    </tr>\n    <tr>\n      <th>10</th>\n      <td>6.9e-07</td>\n      <td>39.6</td>\n      <td>8.1</td>\n      <td>4.7e-06</td>\n      <td>36.9</td>\n      <td>8.1</td>\n      <td>2.2</td>\n      <td>1</td>\n      <td>A0A8J4TYB0</td>\n      <td>A0A8J4TYB0_CLAMG^|^^|^Ubiquitin-conjugating enzym</td>\n    </tr>\n    <tr>\n      <th>11</th>\n      <td>1.8e-05</td>\n      <td>35.1</td>\n      <td>8.3</td>\n      <td>1.8e-05</td>\n      <td>35.1</td>\n      <td>8.3</td>\n      <td>3.0</td>\n      <td>1</td>\n      <td>A0A444UQ25</td>\n      <td>A0A444UQ25_ACIRT^|^^|^Ubiquitin-conjugating enzym</td>\n    </tr>\n    <tr>\n      <th>12</th>\n      <td>2.7e-05</td>\n      <td>34.5</td>\n      <td>24.5</td>\n      <td>0.00013</td>\n      <td>32.3</td>\n      <td>19.7</td>\n      <td>2.5</td>\n      <td>1</td>\n      <td>A0A4Z2GIF1</td>\n      <td>A0A4Z2GIF1_9TELE^|^^|^Ubiquitin-conjugating enzym</td>\n    </tr>\n    <tr>\n      <th>13</th>\n      <td>0.00018</td>\n      <td>31.8</td>\n      <td>8.8</td>\n      <td>0.00092</td>\n      <td>29.6</td>\n      <td>3.0</td>\n      <td>2.1</td>\n      <td>2</td>\n      <td>A0A2G9R8D0</td>\n      <td>A0A2G9R8D0_LITCT^|^^|^UBC core domain-containing</td>\n    </tr>\n    <tr>\n      <th>14</th>\n      <td>0.00039</td>\n      <td>30.8</td>\n      <td>8.8</td>\n      <td>0.0052</td>\n      <td>27.1</td>\n      <td>5.5</td>\n      <td>2.2</td>\n      <td>2</td>\n      <td>A0A2G9R9W7</td>\n      <td>A0A2G9R9W7_LITCT^|^^|^Uncharacterized protein {EC</td>\n    </tr>\n    <tr>\n      <th>15</th>\n      <td>0.00054</td>\n      <td>30.3</td>\n      <td>8.5</td>\n      <td>0.0068</td>\n      <td>26.8</td>\n      <td>5.2</td>\n      <td>2.4</td>\n      <td>2</td>\n      <td>A0A2G9R856</td>\n      <td>A0A2G9R856_LITCT^|^^|^Uncharacterized protein {EC</td>\n    </tr>\n    <tr>\n      <th>16</th>\n      <td>0.0019</td>\n      <td>28.5</td>\n      <td>0.4</td>\n      <td>0.0031</td>\n      <td>27.8</td>\n      <td>0.4</td>\n      <td>1.4</td>\n      <td>1</td>\n      <td>A0A812B0C6</td>\n      <td>A0A812B0C6_SEPPH^|^^|^UBE2Z {ECO:0000313|EMBL:CAE</td>\n    </tr>\n  </tbody>\n</table>\n</div>"
     },
     "execution_count": 73,
     "metadata": {},
     "output_type": "execute_result"
    }
   ],
   "source": [
    "# Make a dataframe with the statistics\n",
    "stats_rp_15 = process_hmmsearch_file(f\"{local_path}/results/hmms/hmmsearch/hmmsearch_rp_15_{q_id}_{i}.txt\")\n",
    "# stats_rp_15 = stats_rp_15[stats_rp_15['Sequence'] == q_id]\n",
    "stats_rp_15.to_csv(f\"{local_path}/results/hmms/hmmsearch/stats/stats_rp_15_{q_id}_{i}.csv\")\n",
    "stats_rp_15"
   ]
  },
  {
   "cell_type": "code",
   "execution_count": 45,
   "outputs": [
    {
     "name": "stdout",
     "output_type": "stream",
     "text": [
      "stats_rp_15_P01097_1.csv                      100% 5051     1.7MB/s   00:00    \r\n"
     ]
    }
   ],
   "source": [
    "# Copy again the new file to the remote computer\n",
    "!scp {local_path}/results/hmms/hmmsearch/stats/stats_rp_15_{q_id}_{i}.csv {name}@{server}:~/stats_rp_15_{q_id}_{i}.csv"
   ],
   "metadata": {
    "collapsed": false,
    "ExecuteTime": {
     "end_time": "2023-07-27T15:07:42.135316Z",
     "start_time": "2023-07-27T15:07:41.302433Z"
    }
   }
  },
  {
   "cell_type": "code",
   "execution_count": 26,
   "outputs": [],
   "source": [
    "# Check the overlap of the retrieved regions in RP with protein2ipr database\n",
    "# !ssh {name}@{server} \"/home/alina/iterator.py /db/interpro/protein2ipr.dat.gz protein2ipr_rp_15_{q_id}_{i}.txt q_id\"\n",
    "!ssh {name}@{server} \"/home/alina/protein2ipr_iterator.py stats_rp_15_{q_id}_{i}.csv /db/interpro/protein2ipr.dat.gz protein2ipr_rp_15_{q_id}_{i}.txt\""
   ],
   "metadata": {
    "collapsed": false,
    "ExecuteTime": {
     "end_time": "2023-07-27T13:59:07.010442Z",
     "start_time": "2023-07-27T13:15:19.662384Z"
    }
   }
  },
  {
   "cell_type": "code",
   "execution_count": 27,
   "outputs": [
    {
     "name": "stdout",
     "output_type": "stream",
     "text": [
      "protein2ipr_rp_15_P01097_1.txt                100% 2814     1.0MB/s   00:00    \r\n"
     ]
    }
   ],
   "source": [
    "# Copy the files with overlapping regions to the local folder\n",
    "!scp {name}@{server}:~/protein2ipr_rp_15_{q_id}_{i}.txt {local_path}/results/hmms/hmmsearch/protein2ipr"
   ],
   "metadata": {
    "collapsed": false,
    "ExecuteTime": {
     "end_time": "2023-07-27T14:03:10.352781Z",
     "start_time": "2023-07-27T14:03:09.370293Z"
    }
   }
  },
  {
   "cell_type": "code",
   "execution_count": 74,
   "outputs": [
    {
     "data": {
      "text/plain": "Empty DataFrame\nColumns: [uniprot_id, ipr_id, description, pfam_id, start_pos, end_pos, length]\nIndex: []",
      "text/html": "<div>\n<style scoped>\n    .dataframe tbody tr th:only-of-type {\n        vertical-align: middle;\n    }\n\n    .dataframe tbody tr th {\n        vertical-align: top;\n    }\n\n    .dataframe thead th {\n        text-align: right;\n    }\n</style>\n<table border=\"1\" class=\"dataframe\">\n  <thead>\n    <tr style=\"text-align: right;\">\n      <th></th>\n      <th>uniprot_id</th>\n      <th>ipr_id</th>\n      <th>description</th>\n      <th>pfam_id</th>\n      <th>start_pos</th>\n      <th>end_pos</th>\n      <th>length</th>\n    </tr>\n  </thead>\n  <tbody>\n  </tbody>\n</table>\n</div>"
     },
     "execution_count": 74,
     "metadata": {},
     "output_type": "execute_result"
    }
   ],
   "source": [
    "# Filter only entries with Pfam ID and intercepting regions with the curated_disprot instances\n",
    "filename = f\"{local_path}/results/hmms/hmmsearch/protein2ipr/protein2ipr_rp_15_{q_id}_{i}.txt\"\n",
    "pfam = read_and_filter_pfam_data(filename, curated_query)\n",
    "pfam_overlap = pfam[pfam['uniprot_id'] == q_id]\n",
    "pfam_overlap"
   ],
   "metadata": {
    "collapsed": false,
    "ExecuteTime": {
     "end_time": "2023-07-27T15:20:12.364157Z",
     "start_time": "2023-07-27T15:20:12.338875Z"
    }
   }
  },
  {
   "cell_type": "code",
   "execution_count": 75,
   "outputs": [
    {
     "data": {
      "text/plain": "         acc evidence   feature   source  start  end  length\n7799  Q9H832  curated  disorder  disprot      1   99      99\n7800  Q9H832  curated  disorder  disprot    327  354      28",
      "text/html": "<div>\n<style scoped>\n    .dataframe tbody tr th:only-of-type {\n        vertical-align: middle;\n    }\n\n    .dataframe tbody tr th {\n        vertical-align: top;\n    }\n\n    .dataframe thead th {\n        text-align: right;\n    }\n</style>\n<table border=\"1\" class=\"dataframe\">\n  <thead>\n    <tr style=\"text-align: right;\">\n      <th></th>\n      <th>acc</th>\n      <th>evidence</th>\n      <th>feature</th>\n      <th>source</th>\n      <th>start</th>\n      <th>end</th>\n      <th>length</th>\n    </tr>\n  </thead>\n  <tbody>\n    <tr>\n      <th>7799</th>\n      <td>Q9H832</td>\n      <td>curated</td>\n      <td>disorder</td>\n      <td>disprot</td>\n      <td>1</td>\n      <td>99</td>\n      <td>99</td>\n    </tr>\n    <tr>\n      <th>7800</th>\n      <td>Q9H832</td>\n      <td>curated</td>\n      <td>disorder</td>\n      <td>disprot</td>\n      <td>327</td>\n      <td>354</td>\n      <td>28</td>\n    </tr>\n  </tbody>\n</table>\n</div>"
     },
     "execution_count": 75,
     "metadata": {},
     "output_type": "execute_result"
    }
   ],
   "source": [
    "curated_query"
   ],
   "metadata": {
    "collapsed": false,
    "ExecuteTime": {
     "end_time": "2023-07-27T15:20:12.921435Z",
     "start_time": "2023-07-27T15:20:12.908737Z"
    }
   }
  },
  {
   "cell_type": "code",
   "execution_count": 65,
   "outputs": [
    {
     "data": {
      "text/plain": "<Figure size 720x18 with 1 Axes>",
      "image/png": "[encoded data removed]"
     },
     "metadata": {},
     "output_type": "display_data"
    }
   ],
   "source": [
    "# Plot overlapping regions\n",
    "fig, ax = plt.subplots(figsize=(10, 0.25 * len(pfam_overlap['uniprot_id'].unique())))\n",
    "\n",
    "# Plot the regions\n",
    "ax.hlines(pfam_overlap['uniprot_id'], pfam_overlap['start_pos'], pfam_overlap['end_pos'], linewidth=10, color='blue', label='Pfam Region')\n",
    "ax.hlines(pfam_overlap['uniprot_id'], curated_query['start'], curated_query['end'], linewidth=10, color='green', label='Disprot Region')\n",
    "\n",
    "ax.set_yticks(pfam_overlap['uniprot_id'])\n",
    "ax.set_yticklabels(pfam_overlap['uniprot_id'])\n",
    "ax.set_xlim(pfam_overlap['start_pos'].astype(int).min(), pfam_overlap['end_pos'].astype(int).max())\n",
    "\n",
    "ax.axvspan(curated_query['start'].iloc[0], curated_query['end'].iloc[0], facecolor='yellow', alpha=0.5)\n",
    "\n",
    "plt.title(f'Distribution of {q_id}_{i} Region')\n",
    "plt.xlabel('Position')\n",
    "plt.ylabel('UniProt ID')\n",
    "plt.legend(loc='upper left')\n",
    "plt.grid(True)\n",
    "plt.show()"
   ],
   "metadata": {
    "collapsed": false,
    "ExecuteTime": {
     "end_time": "2023-07-27T15:19:32.302836Z",
     "start_time": "2023-07-27T15:19:32.222091Z"
    }
   }
  },
  {
   "cell_type": "markdown",
   "metadata": {
    "ExecuteTime": {
     "end_time": "2023-07-12T13:19:19.939712Z",
     "start_time": "2023-07-12T13:19:19.933730Z"
    }
   },
   "source": [
    "## 3. HHblits\n",
    "\n",
    "HHblits is used for profile-profile sequence alignment. It compares a profile against a target sequence database to find homologous sequences."
   ],
   "outputs": [],
   "execution_count": 23
  },
  {
   "cell_type": "code",
   "execution_count": 65,
   "metadata": {
    "ExecuteTime": {
     "end_time": "2023-07-25T12:49:47.607410Z",
     "start_time": "2023-07-25T12:49:46.545487Z"
    }
   },
   "outputs": [
    {
     "name": "stdout",
     "output_type": "stream",
     "text": [
      "P07342_1.fasta                                100% 5573     1.3MB/s   00:00    \r\n"
     ]
    }
   ],
   "source": [
    "# Copy fasta file to remote folder\n",
    "!scp {align_file} {name}@{server}:~/{q_id}_{i}.fasta"
   ]
  },
  {
   "cell_type": "code",
   "execution_count": 66,
   "metadata": {
    "ExecuteTime": {
     "end_time": "2023-07-25T12:49:49.782887Z",
     "start_time": "2023-07-25T12:49:48.049507Z"
    }
   },
   "outputs": [
    {
     "name": "stdout",
     "output_type": "stream",
     "text": [
      "- 14:49:48.950 INFO: Searching 19632 column state sequences.\r\n",
      "\r\n",
      "- 14:49:49.053 INFO: P07342_1.fasta is in A2M, A3M or FASTA format\r\n",
      "\r\n",
      "- 14:49:49.054 INFO: Iteration 1\r\n",
      "\r\n",
      "- 14:49:49.070 INFO: Prefiltering database\r\n",
      "\r\n",
      "- 14:49:49.122 INFO: HMMs passed 1st prefilter (gapless profile-profile alignment)  : 100\r\n",
      "\r\n",
      "- 14:49:49.122 INFO: HMMs passed 2nd prefilter (gapped profile-profile alignment)   : 100\r\n",
      "\r\n",
      "- 14:49:49.122 INFO: HMMs passed 2nd prefilter and not found in previous iterations : 100\r\n",
      "\r\n",
      "- 14:49:49.122 INFO: Scoring 100 HMMs using HMM-HMM Viterbi alignment\r\n",
      "\r\n",
      "- 14:49:49.159 INFO: Alternative alignment: 0\r\n",
      "\r\n",
      "- 14:49:49.658 INFO: 100 alignments done\r\n",
      "\r\n",
      "- 14:49:49.658 INFO: Alternative alignment: 1\r\n",
      "\r\n",
      "- 14:49:49.660 INFO: 4 alignments done\r\n",
      "\r\n",
      "- 14:49:49.660 INFO: Alternative alignment: 2\r\n",
      "\r\n",
      "- 14:49:49.660 INFO: Alternative alignment: 3\r\n",
      "\r\n",
      "- 14:49:49.679 INFO: No new hits found in iteration 1 => Stop searching\r\n",
      "\r\n",
      "- 14:49:49.679 INFO: Realigning 12 HMM-HMM alignments using Maximum Accuracy algorithm\r\n",
      "\r\n",
      "- 14:49:49.691 INFO: 0 sequences belonging to 0 database HMMs found with an E-value < 0.001\r\n",
      "\r\n",
      "- 14:49:49.691 INFO: Number of effective sequences of resulting query HMM: Neff = 1.28472\r\n",
      "\r\n",
      "Query         P07342\r\n",
      "Match_columns 16\r\n",
      "No_of_seqs    7 out of 201\r\n",
      "Neff          1.28472\r\n",
      "Searched_HMMs 100\r\n",
      "Date          Tue Jul 25 14:49:49 2023\r\n",
      "Command       /software/packages/hhsuite/hhsuite-3.0-beta.3-Linux/bin/hhblits -i P07342_1.fasta -o hhblits_pfam_P07342_1.txt -d /db/hhblits/pfamA_35.0/pfam \r\n",
      "\r\n",
      " No Hit                             Prob E-value P-value  Score    SS Cols Query HMM  Template HMM\r\n",
      "  1 PF11227.11 ; DUF3025 ; Protein  73.3    0.14   3E-05   24.0   0.0   11    5-15    101-111 (207)\r\n",
      "  2 PF06523.14 ; DUF1106 ; Protein  64.4    0.35 6.4E-05   21.6   0.0   11    3-13      1-11  (91)\r\n",
      "  3 PF10170.12 ; C6_DPF ; Cysteine  61.9    0.34 7.6E-05   19.4   0.0    9    8-16     64-72  (93)\r\n",
      "  4 PF00601.22 ; Flu_NS2 ; Influen  55.1    0.68 0.00012   20.7   0.0   10    1-10      2-11  (93)\r\n",
      "  5 PF18386.4 ; ROQ_II ; Roquin II  52.5    0.73 0.00014   18.4   0.0   10    5-14     31-40  (56)\r\n",
      "  6 PF10045.12 ; DUF2280 ; Unchara  46.5    0.94  0.0002   18.7   0.0   14    2-15     54-67  (103)\r\n",
      "  7 PF16309.8 ; DUF4951 ; Domian o  40.6     1.4 0.00029   18.3   0.0   12    2-14     47-58  (83)\r\n",
      "  8 PF15453.9 ; Pilt ; Protein inc  30.9     2.7 0.00052   21.3   0.0   13    2-14    150-162 (328)\r\n",
      "  9 PF06789.15 ; MINAR1_C ; MINAR1  29.4     2.6 0.00058   17.9   0.0   10    6-15      1-10  (147)\r\n",
      " 10 PF04629.17 ; ICA69 ; Islet cel  28.4     2.3 0.00061   17.0   0.0    9    5-13    222-230 (252)\r\n",
      " 11 PF18005.4 ; eIF3m_C_helix ; eI  21.9       4 0.00098   11.9   0.0    6    5-10      6-11  (29)\r\n",
      " 12 PF05997.15 ; Nop52 ; Nucleolar  20.6     4.3  0.0011   16.5   0.0   12    2-13     36-47  (214)\r\n",
      "\r\n"
     ]
    }
   ],
   "source": [
    "# HHblits against Pfam\n",
    "!ssh {name}@{server} \"/software/packages/hhsuite/hhsuite-3.0-beta.3-Linux/bin/hhblits -i {q_id}_{i}.fasta -o hhblits_pfam_{q_id}_{i}.txt -d /db/hhblits/pfamA_35.0/pfam\""
   ]
  },
  {
   "cell_type": "code",
   "execution_count": 67,
   "outputs": [
    {
     "name": "stdout",
     "output_type": "stream",
     "text": [
      "hhblits_pfam_P07342_1.txt                     100% 7224     1.2MB/s   00:00    \r\n"
     ]
    }
   ],
   "source": [
    "# Copy results to the local folder\n",
    "!scp {name}@{server}:~/hhblits_pfam_{q_id}_{i}.txt {local_path}/results/hmms/hhblits/"
   ],
   "metadata": {
    "collapsed": false,
    "ExecuteTime": {
     "end_time": "2023-07-25T12:49:50.537754Z",
     "start_time": "2023-07-25T12:49:49.828750Z"
    }
   }
  },
  {
   "cell_type": "markdown",
   "metadata": {
    "ExecuteTime": {
     "end_time": "2023-07-12T13:19:23.247308Z",
     "start_time": "2023-07-12T13:19:23.230235Z"
    }
   },
   "source": [
    "- `Hit`: contains information about Pfam identifier (starts with PF...), the abbreviated and full name of the domain.\n",
    "- `Prob`: the probability of the match between the query sequence and the template sequence.\n",
    "- `E-value`: the expected number of false positive matches that could occur by chance.\n",
    "- `P-value`: the probability of obtaining a match with a score as good as or better than the observed score purely by chance.\n",
    "Similar as `E-value`, the lower `P-value` indicate more significant matches.\n",
    "- `Score`: the quality of the alignment between the query and template sequences.\n",
    "- `SS (Secondary Structure)`: the predicted secondary structure of the aligned residues in the template sequence.\n",
    "- `Cols`: the number of aligned columns or residues in the alignment between the query and template sequences.\n",
    "- `Query HMM`: indicates position matches within HMM profile (input).\n",
    "- `Template HMM`: indicates position matches within HMM profile (database).\n",
    "Usually the length of template HMM is bigger than the length of query HMM."
   ],
   "outputs": [],
   "execution_count": 25
  },
  {
   "cell_type": "code",
   "execution_count": 68,
   "outputs": [
    {
     "data": {
      "text/plain": "       Hit  Prob  E-value  P-value Score   SS  Cols Query HMM   Template HMM  \\\n0  PF11227  0.14    3E-05     24.0   0.0   11  5-15   101-111          (207)   \n1  PF06523  0.35  6.4E-05     21.6   0.0   11  3-13      1-11           (91)   \n2  PF10170  0.34  7.6E-05     19.4   0.0    9  8-16     64-72           (93)   \n3  PF00601  0.68  0.00012     20.7   0.0   10  1-10      2-11           (93)   \n4  PF18386  52.5     0.73  0.00014  18.4  0.0    10      5-14     31-40 (56)   \n5  PF10045  0.94   0.0002     18.7   0.0   14  2-15     54-67          (103)   \n6  PF16309  40.6      1.4  0.00029  18.3  0.0    12      2-14     47-58 (83)   \n7  PF15453  30.9      2.7  0.00052  21.3  0.0    13      2-14  150-162 (328)   \n8  PF06789   2.6  0.00058     17.9   0.0   10  6-15      1-10          (147)   \n9  PF04629  28.4      2.3  0.00061  17.0  0.0     9      5-13  222-230 (252)   \n\n       Name  \n0   DUF3025  \n1   DUF1106  \n2    C6_DPF  \n3   Flu_NS2  \n4    ROQ_II  \n5   DUF2280  \n6   DUF4951  \n7      Pilt  \n8  MINAR1_C  \n9     ICA69  ",
      "text/html": "<div>\n<style scoped>\n    .dataframe tbody tr th:only-of-type {\n        vertical-align: middle;\n    }\n\n    .dataframe tbody tr th {\n        vertical-align: top;\n    }\n\n    .dataframe thead th {\n        text-align: right;\n    }\n</style>\n<table border=\"1\" class=\"dataframe\">\n  <thead>\n    <tr style=\"text-align: right;\">\n      <th></th>\n      <th>Hit</th>\n      <th>Prob</th>\n      <th>E-value</th>\n      <th>P-value</th>\n      <th>Score</th>\n      <th>SS</th>\n      <th>Cols</th>\n      <th>Query HMM</th>\n      <th>Template HMM</th>\n      <th>Name</th>\n    </tr>\n  </thead>\n  <tbody>\n    <tr>\n      <th>0</th>\n      <td>PF11227</td>\n      <td>0.14</td>\n      <td>3E-05</td>\n      <td>24.0</td>\n      <td>0.0</td>\n      <td>11</td>\n      <td>5-15</td>\n      <td>101-111</td>\n      <td>(207)</td>\n      <td>DUF3025</td>\n    </tr>\n    <tr>\n      <th>1</th>\n      <td>PF06523</td>\n      <td>0.35</td>\n      <td>6.4E-05</td>\n      <td>21.6</td>\n      <td>0.0</td>\n      <td>11</td>\n      <td>3-13</td>\n      <td>1-11</td>\n      <td>(91)</td>\n      <td>DUF1106</td>\n    </tr>\n    <tr>\n      <th>2</th>\n      <td>PF10170</td>\n      <td>0.34</td>\n      <td>7.6E-05</td>\n      <td>19.4</td>\n      <td>0.0</td>\n      <td>9</td>\n      <td>8-16</td>\n      <td>64-72</td>\n      <td>(93)</td>\n      <td>C6_DPF</td>\n    </tr>\n    <tr>\n      <th>3</th>\n      <td>PF00601</td>\n      <td>0.68</td>\n      <td>0.00012</td>\n      <td>20.7</td>\n      <td>0.0</td>\n      <td>10</td>\n      <td>1-10</td>\n      <td>2-11</td>\n      <td>(93)</td>\n      <td>Flu_NS2</td>\n    </tr>\n    <tr>\n      <th>4</th>\n      <td>PF18386</td>\n      <td>52.5</td>\n      <td>0.73</td>\n      <td>0.00014</td>\n      <td>18.4</td>\n      <td>0.0</td>\n      <td>10</td>\n      <td>5-14</td>\n      <td>31-40 (56)</td>\n      <td>ROQ_II</td>\n    </tr>\n    <tr>\n      <th>5</th>\n      <td>PF10045</td>\n      <td>0.94</td>\n      <td>0.0002</td>\n      <td>18.7</td>\n      <td>0.0</td>\n      <td>14</td>\n      <td>2-15</td>\n      <td>54-67</td>\n      <td>(103)</td>\n      <td>DUF2280</td>\n    </tr>\n    <tr>\n      <th>6</th>\n      <td>PF16309</td>\n      <td>40.6</td>\n      <td>1.4</td>\n      <td>0.00029</td>\n      <td>18.3</td>\n      <td>0.0</td>\n      <td>12</td>\n      <td>2-14</td>\n      <td>47-58 (83)</td>\n      <td>DUF4951</td>\n    </tr>\n    <tr>\n      <th>7</th>\n      <td>PF15453</td>\n      <td>30.9</td>\n      <td>2.7</td>\n      <td>0.00052</td>\n      <td>21.3</td>\n      <td>0.0</td>\n      <td>13</td>\n      <td>2-14</td>\n      <td>150-162 (328)</td>\n      <td>Pilt</td>\n    </tr>\n    <tr>\n      <th>8</th>\n      <td>PF06789</td>\n      <td>2.6</td>\n      <td>0.00058</td>\n      <td>17.9</td>\n      <td>0.0</td>\n      <td>10</td>\n      <td>6-15</td>\n      <td>1-10</td>\n      <td>(147)</td>\n      <td>MINAR1_C</td>\n    </tr>\n    <tr>\n      <th>9</th>\n      <td>PF04629</td>\n      <td>28.4</td>\n      <td>2.3</td>\n      <td>0.00061</td>\n      <td>17.0</td>\n      <td>0.0</td>\n      <td>9</td>\n      <td>5-13</td>\n      <td>222-230 (252)</td>\n      <td>ICA69</td>\n    </tr>\n  </tbody>\n</table>\n</div>"
     },
     "execution_count": 68,
     "metadata": {},
     "output_type": "execute_result"
    }
   ],
   "source": [
    "with open(f'{local_path}/results/hmms/hhblits/hhblits_pfam_{q_id}_{i}.txt', 'r') as file:\n",
    "    lines = file.readlines()\n",
    "\n",
    "# Extract the column names\n",
    "column_names = lines[8].split()[:-4] + ['Query HMM', 'Template HMM']\n",
    "\n",
    "# Extract the data rows\n",
    "data_rows = [line.split() for line in lines[9:19]]\n",
    "data_rows = [[row[0]] + [' '.join(row[1:4])] + row[7:14] + [' '.join(row[14:16])]\n",
    "             for row in data_rows]\n",
    "\n",
    "hhblits_stats = pd.DataFrame(data_rows, columns=column_names)\n",
    "hhblits_stats[[\"Hit\", \"Name\"]] = hhblits_stats[\"Hit\"].str.split(\" ; \", expand=True)\n",
    "hit_split_df = hhblits_stats[\"Hit\"].str.split(\".\", expand=True)\n",
    "hhblits_stats[\"Hit\"] = hit_split_df[0]\n",
    "\n",
    "hhblits_stats = hhblits_stats.drop(\"No\", axis=1).reset_index(drop=True)\n",
    "hhblits_stats.to_csv(f'{local_path}/results/hmms/hhblits/hhblits_pfam_{q_id}_{i}.csv', index=False)\n",
    "hhblits_stats"
   ],
   "metadata": {
    "collapsed": false,
    "ExecuteTime": {
     "end_time": "2023-07-25T12:50:14.232286Z",
     "start_time": "2023-07-25T12:50:14.192426Z"
    }
   }
  },
  {
   "cell_type": "code",
   "execution_count": 69,
   "metadata": {
    "ExecuteTime": {
     "end_time": "2023-07-25T12:50:18.744804Z",
     "start_time": "2023-07-25T12:50:17.726174Z"
    }
   },
   "outputs": [
    {
     "name": "stdout",
     "output_type": "stream",
     "text": [
      "hhblits_pfam_P07342_1.csv                     100%  650   133.3KB/s   00:00    \r\n"
     ]
    }
   ],
   "source": [
    "# Copy again the new files to the remote computer\n",
    "!scp {local_path}/results/hmms/hhblits/hhblits_pfam_{q_id}_{i}.csv {name}@{server}:~/hhblits_pfam_{q_id}_{i}.csv"
   ]
  },
  {
   "cell_type": "code",
   "execution_count": 70,
   "outputs": [],
   "source": [
    "# !ssh {name}@{server} \"/home/alina/hhblits_iterator.py hhblits_pfam_{q_id}_{i}.csv /db/interpro/protein2ipr.dat.gz pfam_uniprot_{q_id}_{i}.txt\""
   ],
   "metadata": {
    "collapsed": false,
    "ExecuteTime": {
     "end_time": "2023-07-25T12:50:23.740148Z",
     "start_time": "2023-07-25T12:50:23.729482Z"
    }
   }
  },
  {
   "cell_type": "code",
   "execution_count": null,
   "outputs": [],
   "source": [],
   "metadata": {
    "collapsed": false
   }
  }
 ],
 "metadata": {
  "kernelspec": {
   "display_name": "Python 3 (ipykernel)",
   "language": "python",
   "name": "python3"
  },
  "language_info": {
   "codemirror_mode": {
    "name": "ipython",
    "version": 3
   },
   "file_extension": ".py",
   "mimetype": "text/x-python",
   "name": "python",
   "nbconvert_exporter": "python",
   "pygments_lexer": "ipython3",
   "version": "3.9.12"
  }
 },
 "nbformat": 4,
 "nbformat_minor": 1
}
