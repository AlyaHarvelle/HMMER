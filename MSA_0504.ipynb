{
 "cells": [
  {
   "cell_type": "markdown",
   "id": "3da456ba",
   "metadata": {
    "pycharm": {
     "name": "#%% md\n"
    }
   },
   "source": [
    "### Multiple Sequence Alignment"
   ]
  },
  {
   "cell_type": "markdown",
   "id": "90f0f366",
   "metadata": {
    "pycharm": {
     "name": "#%% md\n"
    }
   },
   "source": [
    "The aim of this notebook is to conduct a multiple sequence alignment (henceforth **MSA**).\n",
    "\n",
    "**MSA** methods refer to a series of algorithmic solution for the alignment of evolutionarily related sequences, while taking into account evolutionary events such as mutations, insertions, deletions and rearrangements under certain conditions. These methods can be applied to DNA, RNA or protein sequences. (https://academic.oup.com/bib/article/17/6/1009/2606431)\n",
    "\n",
    "For this we will use the *homology* file obtained from MobiDB source, containing basic information about sequences: \n",
    "accession codes from UniProt, types of annotations, classes of proteins, source, start and end positions, content fraction, content count and ids of the regions. \n",
    "\n",
    "We will also use the files of FASTA format (*curated_uniprot.fasta_*) with the additional information of hsp regions and the amino acid sequences."
   ]
  },
  {
   "cell_type": "code",
   "execution_count": 10,
   "id": "7f293e33",
   "metadata": {
    "pycharm": {
     "name": "#%%\n"
    }
   },
   "outputs": [],
   "source": [
    "import argparse\n",
    "import logging\n",
    "import pandas as pd\n",
    "import numpy as np\n",
    "import matplotlib.pyplot as plt\n",
    "from matplotlib.pyplot import figure\n",
    "import seaborn as sns\n",
    "from os import path\n",
    "import sys\n",
    "import json\n",
    "import os\n",
    "import subprocess\n",
    "from Bio.Blast import NCBIXML"
   ]
  },
  {
   "cell_type": "code",
   "execution_count": 2,
   "id": "7fa0be3c",
   "metadata": {
    "pycharm": {
     "name": "#%%\n"
    }
   },
   "outputs": [
    {
     "name": "stdout",
     "output_type": "stream",
     "text": [
      "Get current working directory :  /Users/alina/Desktop/Internship-work/Internship\n"
     ]
    }
   ],
   "source": [
    "# Check the current directory for assigning the variable for the functions below\n",
    "\n",
    "print('Get current working directory : ', os.getcwd())"
   ]
  },
  {
   "cell_type": "code",
   "execution_count": 3,
   "id": "19f41db8",
   "metadata": {
    "pycharm": {
     "name": "#%%\n"
    }
   },
   "outputs": [],
   "source": [
    "directory = \"/Users/alina/Desktop/Internship-work/Internship\""
   ]
  },
  {
   "cell_type": "code",
   "execution_count": 4,
   "id": "0dc6c6f2",
   "metadata": {
    "pycharm": {
     "name": "#%%\n"
    }
   },
   "outputs": [
    {
     "data": {
      "text/plain": [
       "'\\n>ABCD123 (query, no gaps)\\nABABABABBABABABABABBABABABABABA\\n>BCDS234 (match #1)\\nABABABAB---BABABABABABA--BBABAB\\n>ADFSH35 (match #2)\\nABABABABABABAB---BABABABABABABA\\n'"
      ]
     },
     "execution_count": 4,
     "metadata": {},
     "output_type": "execute_result"
    }
   ],
   "source": [
    "'''\n",
    ">ABCD123 (query, no gaps)\n",
    "ABABABABBABABABABABBABABABABABA\n",
    ">BCDS234 (match #1)\n",
    "ABABABAB---BABABABABABA--BBABAB\n",
    ">ADFSH35 (match #2)\n",
    "ABABABABABABAB---BABABABABABABA\n",
    "'''"
   ]
  },
  {
   "cell_type": "code",
   "execution_count": 5,
   "id": "7128ae7a",
   "metadata": {
    "pycharm": {
     "name": "#%%\n"
    }
   },
   "outputs": [
    {
     "data": {
      "text/plain": [
       "'\\nwith open(\"curated_uniprot.fasta_75\") as f:\\n    # Iterate queries\\n    blast_records = NCBIXML.parse(f)\\n    for blast_record in blast_records:\\n        for alignment in blast_record.alignments:\\n                    print(\"*****Hit*****\")\\n                    print(\"sequence:\", alignment.title)\\n                    print(\"length:\", alignment.length)\\n                    print(\"e value:\", hsp.expect)\\n                    print(\"query:\", hsp.query)\\n                    print(\"match:\", hsp.match)\\n                    print(\"subject:\", hsp.sbjct)\\n                    print(\\'Subject start\\', hsp.sbjct_start)\\n                    print(\"\\n\")\\n'"
      ]
     },
     "execution_count": 5,
     "metadata": {},
     "output_type": "execute_result"
    }
   ],
   "source": [
    "# Iterate through each line of curated file\n",
    "'''\n",
    "with open(\"curated_uniprot.fasta_75\") as f:\n",
    "    # Iterate queries\n",
    "    blast_records = NCBIXML.parse(f)\n",
    "    for blast_record in blast_records:\n",
    "        for alignment in blast_record.alignments:\n",
    "                    print(\"*****Hit*****\")\n",
    "                    print(\"sequence:\", alignment.title)\n",
    "                    print(\"length:\", alignment.length)\n",
    "                    print(\"e value:\", hsp.expect)\n",
    "                    print(\"query:\", hsp.query)\n",
    "                    print(\"match:\", hsp.match)\n",
    "                    print(\"subject:\", hsp.sbjct)\n",
    "                    print('Subject start', hsp.sbjct_start)\n",
    "                    print(\"\\n\")\n",
    "'''"
   ]
  },
  {
   "cell_type": "code",
   "execution_count": 123,
   "id": "851f166f",
   "metadata": {
    "pycharm": {
     "name": "#%%\n"
    }
   },
   "outputs": [],
   "source": [
    "# Parse the fasta file to create a pandas dataframe\n",
    "\n",
    "input_files = ['{}/curated_uniprot.fasta_75'.format(directory)]\n",
    "dfs = []\n",
    "max_query_length = 0\n",
    "\n",
    "for input_file in input_files:\n",
    "    with open(input_file) as f:\n",
    "        blast_records = NCBIXML.parse(f)\n",
    "        data = []\n",
    "\n",
    "        # Iterate PSIBLAST rounds\n",
    "        for blast_record in blast_records:\n",
    "            query_id = blast_record.query\n",
    "\n",
    "            # Get the length of the query sequence\n",
    "            query_length = int(blast_record.query_letters)\n",
    "            if query_length > max_query_length:\n",
    "                max_query_length = query_length\n",
    "\n",
    "            # Iterate alignments (here just one)\n",
    "            for i, alignment in enumerate(blast_record.alignments):\n",
    "                subject_id = alignment.title\n",
    "\n",
    "                # Iterate pairwise alignments\n",
    "                for hsp in alignment.hsps:\n",
    "                    data.append((query_id,\n",
    "                                    subject_id,\n",
    "                                    query_length,\n",
    "                                    hsp.query,\n",
    "                                    hsp.match,\n",
    "                                    hsp.sbjct,\n",
    "                                    hsp.query_start,\n",
    "                                    hsp.query_end,\n",
    "                                    hsp.sbjct_start,\n",
    "                                    hsp.sbjct_end,\n",
    "                                    hsp.identities,\n",
    "                                    hsp.positives,\n",
    "                                    hsp.gaps,\n",
    "                                    hsp.expect,\n",
    "                                    hsp.score))\n",
    "\n",
    "                    # Skip duplicated subjects\n",
    "                    break\n",
    "\n",
    "        dfs.append(pd.DataFrame(data, columns=[\"query_id\", \"subject_id\", \"query_len\",\n",
    "                                        \"query_seq\", \"match_seq\", \"subject_seq\",\n",
    "                                    \"query_start\", \"query_end\", \"subject_start\", \"subject_end\", \n",
    "                                    \"identity\", \"positive\", \"gaps\", \"eval\", \"bit_score\"]))"
   ]
  },
  {
   "cell_type": "code",
   "execution_count": 124,
   "id": "39e6c9e3",
   "metadata": {
    "pycharm": {
     "name": "#%%\n"
    }
   },
   "outputs": [
    {
     "data": {
      "text/html": [
       "<div>\n",
       "<style scoped>\n",
       "    .dataframe tbody tr th:only-of-type {\n",
       "        vertical-align: middle;\n",
       "    }\n",
       "\n",
       "    .dataframe tbody tr th {\n",
       "        vertical-align: top;\n",
       "    }\n",
       "\n",
       "    .dataframe thead th {\n",
       "        text-align: right;\n",
       "    }\n",
       "</style>\n",
       "<table border=\"1\" class=\"dataframe\">\n",
       "  <thead>\n",
       "    <tr style=\"text-align: right;\">\n",
       "      <th></th>\n",
       "      <th>query_id</th>\n",
       "      <th>subject_id</th>\n",
       "      <th>query_len</th>\n",
       "      <th>query_seq</th>\n",
       "      <th>match_seq</th>\n",
       "      <th>subject_seq</th>\n",
       "      <th>query_start</th>\n",
       "      <th>query_end</th>\n",
       "      <th>subject_start</th>\n",
       "      <th>subject_end</th>\n",
       "      <th>identity</th>\n",
       "      <th>positive</th>\n",
       "      <th>gaps</th>\n",
       "      <th>eval</th>\n",
       "      <th>bit_score</th>\n",
       "    </tr>\n",
       "  </thead>\n",
       "  <tbody>\n",
       "    <tr>\n",
       "      <th>0</th>\n",
       "      <td>sp|Q16620|NTRK2_HUMAN BDNF/NT-3 growth factors...</td>\n",
       "      <td>tr|A0A2R9BM51|A0A2R9BM51_PANPA Tyrosine-protei...</td>\n",
       "      <td>822</td>\n",
       "      <td>MSSWIRWHGPAMARLWGFCWLVVGFWRAAFACPTSCKCSASRIWCS...</td>\n",
       "      <td>MSSWIRWHGPAMARLWGFCWLVVGFWRAAFACPTSCKCSASRIWCS...</td>\n",
       "      <td>MSSWIRWHGPAMARLWGFCWLVVGFWRAAFACPTSCKCSASRIWCS...</td>\n",
       "      <td>1</td>\n",
       "      <td>822</td>\n",
       "      <td>1</td>\n",
       "      <td>822</td>\n",
       "      <td>822</td>\n",
       "      <td>822</td>\n",
       "      <td>0</td>\n",
       "      <td>0.000000e+00</td>\n",
       "      <td>4458.0</td>\n",
       "    </tr>\n",
       "    <tr>\n",
       "      <th>1</th>\n",
       "      <td>sp|Q16620|NTRK2_HUMAN BDNF/NT-3 growth factors...</td>\n",
       "      <td>tr|A0A2J8MRP9|A0A2J8MRP9_PANTR Tyrosine-protei...</td>\n",
       "      <td>822</td>\n",
       "      <td>MSSWIRWHGPAMARLWGFCWLVVGFWRAAFACPTSCKCSASRIWCS...</td>\n",
       "      <td>MSSWIRWHGPAMARLWGFCWLVVGFWRAAFACPTSCKCSASRIWCS...</td>\n",
       "      <td>MSSWIRWHGPAMARLWGFCWLVVGFWRAAFACPTSCKCSASRIWCS...</td>\n",
       "      <td>1</td>\n",
       "      <td>822</td>\n",
       "      <td>1</td>\n",
       "      <td>822</td>\n",
       "      <td>822</td>\n",
       "      <td>822</td>\n",
       "      <td>0</td>\n",
       "      <td>0.000000e+00</td>\n",
       "      <td>4458.0</td>\n",
       "    </tr>\n",
       "    <tr>\n",
       "      <th>2</th>\n",
       "      <td>sp|Q16620|NTRK2_HUMAN BDNF/NT-3 growth factors...</td>\n",
       "      <td>tr|A0A6D2VUB3|A0A6D2VUB3_PANTR Tyrosine-protei...</td>\n",
       "      <td>822</td>\n",
       "      <td>MSSWIRWHGPAMARLWGFCWLVVGFWRAAFACPTSCKCSASRIWCS...</td>\n",
       "      <td>MSSWIRWHGPAMARLWGFCWLVVGFWRAAFACPTSCKCSASRIWCS...</td>\n",
       "      <td>MSSWIRWHGPAMARLWGFCWLVVGFWRAAFACPTSCKCSASRIWCS...</td>\n",
       "      <td>1</td>\n",
       "      <td>822</td>\n",
       "      <td>1</td>\n",
       "      <td>822</td>\n",
       "      <td>822</td>\n",
       "      <td>822</td>\n",
       "      <td>0</td>\n",
       "      <td>0.000000e+00</td>\n",
       "      <td>4458.0</td>\n",
       "    </tr>\n",
       "    <tr>\n",
       "      <th>3</th>\n",
       "      <td>sp|Q16620|NTRK2_HUMAN BDNF/NT-3 growth factors...</td>\n",
       "      <td>tr|Q548C2|Q548C2_HUMAN Tyrosine-protein kinase...</td>\n",
       "      <td>822</td>\n",
       "      <td>MSSWIRWHGPAMARLWGFCWLVVGFWRAAFACPTSCKCSASRIWCS...</td>\n",
       "      <td>MSSWIRWHGPAMARLWGFCWLVVGFWRAAFACPTSCKCSASRIWCS...</td>\n",
       "      <td>MSSWIRWHGPAMARLWGFCWLVVGFWRAAFACPTSCKCSASRIWCS...</td>\n",
       "      <td>1</td>\n",
       "      <td>822</td>\n",
       "      <td>1</td>\n",
       "      <td>822</td>\n",
       "      <td>822</td>\n",
       "      <td>822</td>\n",
       "      <td>0</td>\n",
       "      <td>0.000000e+00</td>\n",
       "      <td>4458.0</td>\n",
       "    </tr>\n",
       "    <tr>\n",
       "      <th>4</th>\n",
       "      <td>sp|Q16620|NTRK2_HUMAN BDNF/NT-3 growth factors...</td>\n",
       "      <td>sp|Q16620|NTRK2_HUMAN BDNF/NT-3 growth factors...</td>\n",
       "      <td>822</td>\n",
       "      <td>MSSWIRWHGPAMARLWGFCWLVVGFWRAAFACPTSCKCSASRIWCS...</td>\n",
       "      <td>MSSWIRWHGPAMARLWGFCWLVVGFWRAAFACPTSCKCSASRIWCS...</td>\n",
       "      <td>MSSWIRWHGPAMARLWGFCWLVVGFWRAAFACPTSCKCSASRIWCS...</td>\n",
       "      <td>1</td>\n",
       "      <td>822</td>\n",
       "      <td>1</td>\n",
       "      <td>822</td>\n",
       "      <td>822</td>\n",
       "      <td>822</td>\n",
       "      <td>0</td>\n",
       "      <td>0.000000e+00</td>\n",
       "      <td>4458.0</td>\n",
       "    </tr>\n",
       "    <tr>\n",
       "      <th>...</th>\n",
       "      <td>...</td>\n",
       "      <td>...</td>\n",
       "      <td>...</td>\n",
       "      <td>...</td>\n",
       "      <td>...</td>\n",
       "      <td>...</td>\n",
       "      <td>...</td>\n",
       "      <td>...</td>\n",
       "      <td>...</td>\n",
       "      <td>...</td>\n",
       "      <td>...</td>\n",
       "      <td>...</td>\n",
       "      <td>...</td>\n",
       "      <td>...</td>\n",
       "      <td>...</td>\n",
       "    </tr>\n",
       "    <tr>\n",
       "      <th>8651</th>\n",
       "      <td>tr|Q9X0T1|Q9X0T1_THEMA Maltose ABC transporter...</td>\n",
       "      <td>tr|A0A7Y5V3I1|A0A7Y5V3I1_9CHLR Extracellular s...</td>\n",
       "      <td>391</td>\n",
       "      <td>LVIALLVVSLVVLAQPKLTIWCSEKQVDILQKLGEEFKAKYGVEVE...</td>\n",
       "      <td>LV  LL V  +   +P L IW    +   L +L   F  ++GV VE...</td>\n",
       "      <td>LVFGLLAVPALAQDRPDLLIWADRTRTPPLTELATTFAEEFGVTVE...</td>\n",
       "      <td>5</td>\n",
       "      <td>390</td>\n",
       "      <td>14</td>\n",
       "      <td>397</td>\n",
       "      <td>141</td>\n",
       "      <td>220</td>\n",
       "      <td>4</td>\n",
       "      <td>7.015510e-82</td>\n",
       "      <td>695.0</td>\n",
       "    </tr>\n",
       "    <tr>\n",
       "      <th>8652</th>\n",
       "      <td>tr|Q9X0T1|Q9X0T1_THEMA Maltose ABC transporter...</td>\n",
       "      <td>tr|A0A2M8NZZ8|A0A2M8NZZ8_9CHLR Maltose ABC tra...</td>\n",
       "      <td>391</td>\n",
       "      <td>FLVIALLVVSLVVL----AQPKLTIWCSEKQVDILQKLGEEFKAKY...</td>\n",
       "      <td>L++A++  +L VL        L IW  + +  IL+ LG +FK ++...</td>\n",
       "      <td>LLIVAVMFGALGVLNVRAQDATLLIWADDTRAPILEALGAKFKEEF...</td>\n",
       "      <td>4</td>\n",
       "      <td>387</td>\n",
       "      <td>9</td>\n",
       "      <td>405</td>\n",
       "      <td>152</td>\n",
       "      <td>241</td>\n",
       "      <td>29</td>\n",
       "      <td>7.935620e-82</td>\n",
       "      <td>679.0</td>\n",
       "    </tr>\n",
       "    <tr>\n",
       "      <th>8653</th>\n",
       "      <td>tr|Q9X0T1|Q9X0T1_THEMA Maltose ABC transporter...</td>\n",
       "      <td>tr|A0A7Y2F1B7|A0A7Y2F1B7_9ACTN Maltose ABC tra...</td>\n",
       "      <td>391</td>\n",
       "      <td>KLTIWCSEKQVDILQKLGEEFKAKYGVEVEVQYVNFQDIKSKFLTA...</td>\n",
       "      <td>L +W    +  + + +   F+   GV +EVQ V+F DI+ +   A...</td>\n",
       "      <td>SLLVWTDANRAPVFESIAPAFEEATGVNIEVQIVDFGDIREQVQVA...</td>\n",
       "      <td>21</td>\n",
       "      <td>387</td>\n",
       "      <td>71</td>\n",
       "      <td>436</td>\n",
       "      <td>133</td>\n",
       "      <td>208</td>\n",
       "      <td>3</td>\n",
       "      <td>1.031540e-81</td>\n",
       "      <td>681.0</td>\n",
       "    </tr>\n",
       "    <tr>\n",
       "      <th>8654</th>\n",
       "      <td>tr|Q9X0T1|Q9X0T1_THEMA Maltose ABC transporter...</td>\n",
       "      <td>tr|A0A101IFE6|A0A101IFE6_9CHLR Putative ABC tr...</td>\n",
       "      <td>391</td>\n",
       "      <td>KLTIWCSEKQVDILQKLGEEFKAKYGVEVEVQYVNFQDIKSKFLTA...</td>\n",
       "      <td>+ IW  E++  +L +L  +F A+YGVE+ V+  N   I+ +F  A...</td>\n",
       "      <td>SIRIWADEQRAPVLSELATDFLAEYGVELVVE--NISGIRDQFSVA...</td>\n",
       "      <td>21</td>\n",
       "      <td>391</td>\n",
       "      <td>63</td>\n",
       "      <td>424</td>\n",
       "      <td>151</td>\n",
       "      <td>214</td>\n",
       "      <td>11</td>\n",
       "      <td>1.137790e-81</td>\n",
       "      <td>687.0</td>\n",
       "    </tr>\n",
       "    <tr>\n",
       "      <th>8655</th>\n",
       "      <td>tr|Q9X0T1|Q9X0T1_THEMA Maltose ABC transporter...</td>\n",
       "      <td>tr|A0A346Y161|A0A346Y161_9ACTN Maltose/maltode...</td>\n",
       "      <td>391</td>\n",
       "      <td>VVLAQPKLTIWCSEKQVDILQKLGEEFKAKYGVEVEVQYVNFQDIK...</td>\n",
       "      <td>V  A   L IW  E +V  L+   E+F    G+ V +Q + F +I+...</td>\n",
       "      <td>VARADADLVIWADETRVQALEPFVEQFGVDNGITVALQELEFDEIR...</td>\n",
       "      <td>15</td>\n",
       "      <td>387</td>\n",
       "      <td>81</td>\n",
       "      <td>458</td>\n",
       "      <td>143</td>\n",
       "      <td>216</td>\n",
       "      <td>13</td>\n",
       "      <td>1.940510e-81</td>\n",
       "      <td>681.0</td>\n",
       "    </tr>\n",
       "  </tbody>\n",
       "</table>\n",
       "<p>8656 rows × 15 columns</p>\n",
       "</div>"
      ],
      "text/plain": [
       "                                               query_id  \\\n",
       "0     sp|Q16620|NTRK2_HUMAN BDNF/NT-3 growth factors...   \n",
       "1     sp|Q16620|NTRK2_HUMAN BDNF/NT-3 growth factors...   \n",
       "2     sp|Q16620|NTRK2_HUMAN BDNF/NT-3 growth factors...   \n",
       "3     sp|Q16620|NTRK2_HUMAN BDNF/NT-3 growth factors...   \n",
       "4     sp|Q16620|NTRK2_HUMAN BDNF/NT-3 growth factors...   \n",
       "...                                                 ...   \n",
       "8651  tr|Q9X0T1|Q9X0T1_THEMA Maltose ABC transporter...   \n",
       "8652  tr|Q9X0T1|Q9X0T1_THEMA Maltose ABC transporter...   \n",
       "8653  tr|Q9X0T1|Q9X0T1_THEMA Maltose ABC transporter...   \n",
       "8654  tr|Q9X0T1|Q9X0T1_THEMA Maltose ABC transporter...   \n",
       "8655  tr|Q9X0T1|Q9X0T1_THEMA Maltose ABC transporter...   \n",
       "\n",
       "                                             subject_id  query_len  \\\n",
       "0     tr|A0A2R9BM51|A0A2R9BM51_PANPA Tyrosine-protei...        822   \n",
       "1     tr|A0A2J8MRP9|A0A2J8MRP9_PANTR Tyrosine-protei...        822   \n",
       "2     tr|A0A6D2VUB3|A0A6D2VUB3_PANTR Tyrosine-protei...        822   \n",
       "3     tr|Q548C2|Q548C2_HUMAN Tyrosine-protein kinase...        822   \n",
       "4     sp|Q16620|NTRK2_HUMAN BDNF/NT-3 growth factors...        822   \n",
       "...                                                 ...        ...   \n",
       "8651  tr|A0A7Y5V3I1|A0A7Y5V3I1_9CHLR Extracellular s...        391   \n",
       "8652  tr|A0A2M8NZZ8|A0A2M8NZZ8_9CHLR Maltose ABC tra...        391   \n",
       "8653  tr|A0A7Y2F1B7|A0A7Y2F1B7_9ACTN Maltose ABC tra...        391   \n",
       "8654  tr|A0A101IFE6|A0A101IFE6_9CHLR Putative ABC tr...        391   \n",
       "8655  tr|A0A346Y161|A0A346Y161_9ACTN Maltose/maltode...        391   \n",
       "\n",
       "                                              query_seq  \\\n",
       "0     MSSWIRWHGPAMARLWGFCWLVVGFWRAAFACPTSCKCSASRIWCS...   \n",
       "1     MSSWIRWHGPAMARLWGFCWLVVGFWRAAFACPTSCKCSASRIWCS...   \n",
       "2     MSSWIRWHGPAMARLWGFCWLVVGFWRAAFACPTSCKCSASRIWCS...   \n",
       "3     MSSWIRWHGPAMARLWGFCWLVVGFWRAAFACPTSCKCSASRIWCS...   \n",
       "4     MSSWIRWHGPAMARLWGFCWLVVGFWRAAFACPTSCKCSASRIWCS...   \n",
       "...                                                 ...   \n",
       "8651  LVIALLVVSLVVLAQPKLTIWCSEKQVDILQKLGEEFKAKYGVEVE...   \n",
       "8652  FLVIALLVVSLVVL----AQPKLTIWCSEKQVDILQKLGEEFKAKY...   \n",
       "8653  KLTIWCSEKQVDILQKLGEEFKAKYGVEVEVQYVNFQDIKSKFLTA...   \n",
       "8654  KLTIWCSEKQVDILQKLGEEFKAKYGVEVEVQYVNFQDIKSKFLTA...   \n",
       "8655  VVLAQPKLTIWCSEKQVDILQKLGEEFKAKYGVEVEVQYVNFQDIK...   \n",
       "\n",
       "                                              match_seq  \\\n",
       "0     MSSWIRWHGPAMARLWGFCWLVVGFWRAAFACPTSCKCSASRIWCS...   \n",
       "1     MSSWIRWHGPAMARLWGFCWLVVGFWRAAFACPTSCKCSASRIWCS...   \n",
       "2     MSSWIRWHGPAMARLWGFCWLVVGFWRAAFACPTSCKCSASRIWCS...   \n",
       "3     MSSWIRWHGPAMARLWGFCWLVVGFWRAAFACPTSCKCSASRIWCS...   \n",
       "4     MSSWIRWHGPAMARLWGFCWLVVGFWRAAFACPTSCKCSASRIWCS...   \n",
       "...                                                 ...   \n",
       "8651  LV  LL V  +   +P L IW    +   L +L   F  ++GV VE...   \n",
       "8652   L++A++  +L VL        L IW  + +  IL+ LG +FK ++...   \n",
       "8653   L +W    +  + + +   F+   GV +EVQ V+F DI+ +   A...   \n",
       "8654   + IW  E++  +L +L  +F A+YGVE+ V+  N   I+ +F  A...   \n",
       "8655  V  A   L IW  E +V  L+   E+F    G+ V +Q + F +I+...   \n",
       "\n",
       "                                            subject_seq  query_start  \\\n",
       "0     MSSWIRWHGPAMARLWGFCWLVVGFWRAAFACPTSCKCSASRIWCS...            1   \n",
       "1     MSSWIRWHGPAMARLWGFCWLVVGFWRAAFACPTSCKCSASRIWCS...            1   \n",
       "2     MSSWIRWHGPAMARLWGFCWLVVGFWRAAFACPTSCKCSASRIWCS...            1   \n",
       "3     MSSWIRWHGPAMARLWGFCWLVVGFWRAAFACPTSCKCSASRIWCS...            1   \n",
       "4     MSSWIRWHGPAMARLWGFCWLVVGFWRAAFACPTSCKCSASRIWCS...            1   \n",
       "...                                                 ...          ...   \n",
       "8651  LVFGLLAVPALAQDRPDLLIWADRTRTPPLTELATTFAEEFGVTVE...            5   \n",
       "8652  LLIVAVMFGALGVLNVRAQDATLLIWADDTRAPILEALGAKFKEEF...            4   \n",
       "8653  SLLVWTDANRAPVFESIAPAFEEATGVNIEVQIVDFGDIREQVQVA...           21   \n",
       "8654  SIRIWADEQRAPVLSELATDFLAEYGVELVVE--NISGIRDQFSVA...           21   \n",
       "8655  VARADADLVIWADETRVQALEPFVEQFGVDNGITVALQELEFDEIR...           15   \n",
       "\n",
       "      query_end  subject_start  subject_end  identity  positive  gaps  \\\n",
       "0           822              1          822       822       822     0   \n",
       "1           822              1          822       822       822     0   \n",
       "2           822              1          822       822       822     0   \n",
       "3           822              1          822       822       822     0   \n",
       "4           822              1          822       822       822     0   \n",
       "...         ...            ...          ...       ...       ...   ...   \n",
       "8651        390             14          397       141       220     4   \n",
       "8652        387              9          405       152       241    29   \n",
       "8653        387             71          436       133       208     3   \n",
       "8654        391             63          424       151       214    11   \n",
       "8655        387             81          458       143       216    13   \n",
       "\n",
       "              eval  bit_score  \n",
       "0     0.000000e+00     4458.0  \n",
       "1     0.000000e+00     4458.0  \n",
       "2     0.000000e+00     4458.0  \n",
       "3     0.000000e+00     4458.0  \n",
       "4     0.000000e+00     4458.0  \n",
       "...            ...        ...  \n",
       "8651  7.015510e-82      695.0  \n",
       "8652  7.935620e-82      679.0  \n",
       "8653  1.031540e-81      681.0  \n",
       "8654  1.137790e-81      687.0  \n",
       "8655  1.940510e-81      681.0  \n",
       "\n",
       "[8656 rows x 15 columns]"
      ]
     },
     "execution_count": 124,
     "metadata": {},
     "output_type": "execute_result"
    }
   ],
   "source": [
    "# in this case the output will be the same as dfs without index, since we processed only one file - curated_uniprot.fasta_75\n",
    "# but with the index the df looks nicer\n",
    "df = dfs[0]\n",
    "df"
   ]
  },
  {
   "cell_type": "code",
   "execution_count": 125,
   "id": "1866c31f",
   "metadata": {
    "pycharm": {
     "name": "#%%\n"
    }
   },
   "outputs": [
    {
     "data": {
      "text/html": [
       "<div>\n",
       "<style scoped>\n",
       "    .dataframe tbody tr th:only-of-type {\n",
       "        vertical-align: middle;\n",
       "    }\n",
       "\n",
       "    .dataframe tbody tr th {\n",
       "        vertical-align: top;\n",
       "    }\n",
       "\n",
       "    .dataframe thead th {\n",
       "        text-align: right;\n",
       "    }\n",
       "</style>\n",
       "<table border=\"1\" class=\"dataframe\">\n",
       "  <thead>\n",
       "    <tr style=\"text-align: right;\">\n",
       "      <th></th>\n",
       "      <th>id</th>\n",
       "      <th>query_id</th>\n",
       "      <th>subject_id</th>\n",
       "      <th>query_len</th>\n",
       "      <th>query_seq</th>\n",
       "      <th>match_seq</th>\n",
       "      <th>subject_seq</th>\n",
       "      <th>query_start</th>\n",
       "      <th>query_end</th>\n",
       "      <th>subject_start</th>\n",
       "      <th>subject_end</th>\n",
       "      <th>identity</th>\n",
       "      <th>positive</th>\n",
       "      <th>gaps</th>\n",
       "      <th>eval</th>\n",
       "      <th>bit_score</th>\n",
       "    </tr>\n",
       "  </thead>\n",
       "  <tbody>\n",
       "    <tr>\n",
       "      <th>0</th>\n",
       "      <td>sp|Q16620|NTRK2_HUMAN</td>\n",
       "      <td>sp|Q16620|NTRK2_HUMAN BDNF/NT-3 growth factors...</td>\n",
       "      <td>tr|A0A2R9BM51|A0A2R9BM51_PANPA Tyrosine-protei...</td>\n",
       "      <td>822</td>\n",
       "      <td>MSSWIRWHGPAMARLWGFCWLVVGFWRAAFACPTSCKCSASRIWCS...</td>\n",
       "      <td>MSSWIRWHGPAMARLWGFCWLVVGFWRAAFACPTSCKCSASRIWCS...</td>\n",
       "      <td>MSSWIRWHGPAMARLWGFCWLVVGFWRAAFACPTSCKCSASRIWCS...</td>\n",
       "      <td>1</td>\n",
       "      <td>822</td>\n",
       "      <td>1</td>\n",
       "      <td>822</td>\n",
       "      <td>822</td>\n",
       "      <td>822</td>\n",
       "      <td>0</td>\n",
       "      <td>0.0</td>\n",
       "      <td>4458.0</td>\n",
       "    </tr>\n",
       "    <tr>\n",
       "      <th>1</th>\n",
       "      <td>sp|Q16620|NTRK2_HUMAN</td>\n",
       "      <td>sp|Q16620|NTRK2_HUMAN BDNF/NT-3 growth factors...</td>\n",
       "      <td>tr|A0A2J8MRP9|A0A2J8MRP9_PANTR Tyrosine-protei...</td>\n",
       "      <td>822</td>\n",
       "      <td>MSSWIRWHGPAMARLWGFCWLVVGFWRAAFACPTSCKCSASRIWCS...</td>\n",
       "      <td>MSSWIRWHGPAMARLWGFCWLVVGFWRAAFACPTSCKCSASRIWCS...</td>\n",
       "      <td>MSSWIRWHGPAMARLWGFCWLVVGFWRAAFACPTSCKCSASRIWCS...</td>\n",
       "      <td>1</td>\n",
       "      <td>822</td>\n",
       "      <td>1</td>\n",
       "      <td>822</td>\n",
       "      <td>822</td>\n",
       "      <td>822</td>\n",
       "      <td>0</td>\n",
       "      <td>0.0</td>\n",
       "      <td>4458.0</td>\n",
       "    </tr>\n",
       "    <tr>\n",
       "      <th>2</th>\n",
       "      <td>sp|Q16620|NTRK2_HUMAN</td>\n",
       "      <td>sp|Q16620|NTRK2_HUMAN BDNF/NT-3 growth factors...</td>\n",
       "      <td>tr|A0A6D2VUB3|A0A6D2VUB3_PANTR Tyrosine-protei...</td>\n",
       "      <td>822</td>\n",
       "      <td>MSSWIRWHGPAMARLWGFCWLVVGFWRAAFACPTSCKCSASRIWCS...</td>\n",
       "      <td>MSSWIRWHGPAMARLWGFCWLVVGFWRAAFACPTSCKCSASRIWCS...</td>\n",
       "      <td>MSSWIRWHGPAMARLWGFCWLVVGFWRAAFACPTSCKCSASRIWCS...</td>\n",
       "      <td>1</td>\n",
       "      <td>822</td>\n",
       "      <td>1</td>\n",
       "      <td>822</td>\n",
       "      <td>822</td>\n",
       "      <td>822</td>\n",
       "      <td>0</td>\n",
       "      <td>0.0</td>\n",
       "      <td>4458.0</td>\n",
       "    </tr>\n",
       "    <tr>\n",
       "      <th>3</th>\n",
       "      <td>sp|Q16620|NTRK2_HUMAN</td>\n",
       "      <td>sp|Q16620|NTRK2_HUMAN BDNF/NT-3 growth factors...</td>\n",
       "      <td>tr|Q548C2|Q548C2_HUMAN Tyrosine-protein kinase...</td>\n",
       "      <td>822</td>\n",
       "      <td>MSSWIRWHGPAMARLWGFCWLVVGFWRAAFACPTSCKCSASRIWCS...</td>\n",
       "      <td>MSSWIRWHGPAMARLWGFCWLVVGFWRAAFACPTSCKCSASRIWCS...</td>\n",
       "      <td>MSSWIRWHGPAMARLWGFCWLVVGFWRAAFACPTSCKCSASRIWCS...</td>\n",
       "      <td>1</td>\n",
       "      <td>822</td>\n",
       "      <td>1</td>\n",
       "      <td>822</td>\n",
       "      <td>822</td>\n",
       "      <td>822</td>\n",
       "      <td>0</td>\n",
       "      <td>0.0</td>\n",
       "      <td>4458.0</td>\n",
       "    </tr>\n",
       "    <tr>\n",
       "      <th>4</th>\n",
       "      <td>sp|Q16620|NTRK2_HUMAN</td>\n",
       "      <td>sp|Q16620|NTRK2_HUMAN BDNF/NT-3 growth factors...</td>\n",
       "      <td>sp|Q16620|NTRK2_HUMAN BDNF/NT-3 growth factors...</td>\n",
       "      <td>822</td>\n",
       "      <td>MSSWIRWHGPAMARLWGFCWLVVGFWRAAFACPTSCKCSASRIWCS...</td>\n",
       "      <td>MSSWIRWHGPAMARLWGFCWLVVGFWRAAFACPTSCKCSASRIWCS...</td>\n",
       "      <td>MSSWIRWHGPAMARLWGFCWLVVGFWRAAFACPTSCKCSASRIWCS...</td>\n",
       "      <td>1</td>\n",
       "      <td>822</td>\n",
       "      <td>1</td>\n",
       "      <td>822</td>\n",
       "      <td>822</td>\n",
       "      <td>822</td>\n",
       "      <td>0</td>\n",
       "      <td>0.0</td>\n",
       "      <td>4458.0</td>\n",
       "    </tr>\n",
       "  </tbody>\n",
       "</table>\n",
       "</div>"
      ],
      "text/plain": [
       "                      id                                           query_id  \\\n",
       "0  sp|Q16620|NTRK2_HUMAN  sp|Q16620|NTRK2_HUMAN BDNF/NT-3 growth factors...   \n",
       "1  sp|Q16620|NTRK2_HUMAN  sp|Q16620|NTRK2_HUMAN BDNF/NT-3 growth factors...   \n",
       "2  sp|Q16620|NTRK2_HUMAN  sp|Q16620|NTRK2_HUMAN BDNF/NT-3 growth factors...   \n",
       "3  sp|Q16620|NTRK2_HUMAN  sp|Q16620|NTRK2_HUMAN BDNF/NT-3 growth factors...   \n",
       "4  sp|Q16620|NTRK2_HUMAN  sp|Q16620|NTRK2_HUMAN BDNF/NT-3 growth factors...   \n",
       "\n",
       "                                          subject_id  query_len  \\\n",
       "0  tr|A0A2R9BM51|A0A2R9BM51_PANPA Tyrosine-protei...        822   \n",
       "1  tr|A0A2J8MRP9|A0A2J8MRP9_PANTR Tyrosine-protei...        822   \n",
       "2  tr|A0A6D2VUB3|A0A6D2VUB3_PANTR Tyrosine-protei...        822   \n",
       "3  tr|Q548C2|Q548C2_HUMAN Tyrosine-protein kinase...        822   \n",
       "4  sp|Q16620|NTRK2_HUMAN BDNF/NT-3 growth factors...        822   \n",
       "\n",
       "                                           query_seq  \\\n",
       "0  MSSWIRWHGPAMARLWGFCWLVVGFWRAAFACPTSCKCSASRIWCS...   \n",
       "1  MSSWIRWHGPAMARLWGFCWLVVGFWRAAFACPTSCKCSASRIWCS...   \n",
       "2  MSSWIRWHGPAMARLWGFCWLVVGFWRAAFACPTSCKCSASRIWCS...   \n",
       "3  MSSWIRWHGPAMARLWGFCWLVVGFWRAAFACPTSCKCSASRIWCS...   \n",
       "4  MSSWIRWHGPAMARLWGFCWLVVGFWRAAFACPTSCKCSASRIWCS...   \n",
       "\n",
       "                                           match_seq  \\\n",
       "0  MSSWIRWHGPAMARLWGFCWLVVGFWRAAFACPTSCKCSASRIWCS...   \n",
       "1  MSSWIRWHGPAMARLWGFCWLVVGFWRAAFACPTSCKCSASRIWCS...   \n",
       "2  MSSWIRWHGPAMARLWGFCWLVVGFWRAAFACPTSCKCSASRIWCS...   \n",
       "3  MSSWIRWHGPAMARLWGFCWLVVGFWRAAFACPTSCKCSASRIWCS...   \n",
       "4  MSSWIRWHGPAMARLWGFCWLVVGFWRAAFACPTSCKCSASRIWCS...   \n",
       "\n",
       "                                         subject_seq  query_start  query_end  \\\n",
       "0  MSSWIRWHGPAMARLWGFCWLVVGFWRAAFACPTSCKCSASRIWCS...            1        822   \n",
       "1  MSSWIRWHGPAMARLWGFCWLVVGFWRAAFACPTSCKCSASRIWCS...            1        822   \n",
       "2  MSSWIRWHGPAMARLWGFCWLVVGFWRAAFACPTSCKCSASRIWCS...            1        822   \n",
       "3  MSSWIRWHGPAMARLWGFCWLVVGFWRAAFACPTSCKCSASRIWCS...            1        822   \n",
       "4  MSSWIRWHGPAMARLWGFCWLVVGFWRAAFACPTSCKCSASRIWCS...            1        822   \n",
       "\n",
       "   subject_start  subject_end  identity  positive  gaps  eval  bit_score  \n",
       "0              1          822       822       822     0   0.0     4458.0  \n",
       "1              1          822       822       822     0   0.0     4458.0  \n",
       "2              1          822       822       822     0   0.0     4458.0  \n",
       "3              1          822       822       822     0   0.0     4458.0  \n",
       "4              1          822       822       822     0   0.0     4458.0  "
      ]
     },
     "execution_count": 125,
     "metadata": {},
     "output_type": "execute_result"
    }
   ],
   "source": [
    "# Added ID\n",
    "\n",
    "df['id'] = df['query_id'].str.split(\" \").str[0]\n",
    "df = df.set_index('id').reset_index()\n",
    "df.head()"
   ]
  },
  {
   "cell_type": "code",
   "execution_count": 135,
   "id": "8b3a207d",
   "metadata": {
    "pycharm": {
     "name": "#%%\n"
    }
   },
   "outputs": [
    {
     "data": {
      "text/html": [
       "<div>\n",
       "<style scoped>\n",
       "    .dataframe tbody tr th:only-of-type {\n",
       "        vertical-align: middle;\n",
       "    }\n",
       "\n",
       "    .dataframe tbody tr th {\n",
       "        vertical-align: top;\n",
       "    }\n",
       "\n",
       "    .dataframe thead th {\n",
       "        text-align: right;\n",
       "    }\n",
       "</style>\n",
       "<table border=\"1\" class=\"dataframe\">\n",
       "  <thead>\n",
       "    <tr style=\"text-align: right;\">\n",
       "      <th></th>\n",
       "      <th>query_seq</th>\n",
       "      <th>count</th>\n",
       "    </tr>\n",
       "  </thead>\n",
       "  <tbody>\n",
       "    <tr>\n",
       "      <th>0</th>\n",
       "      <td>AAAAAAAVAVPLAGGQEGSPGGGRRGSRGTTMVKKRKGRVVIDSDT...</td>\n",
       "      <td>1</td>\n",
       "    </tr>\n",
       "    <tr>\n",
       "      <th>1</th>\n",
       "      <td>AAAAAGGAGGPGSGLAP-LPGLPPSAAAHGAALLSHWDPTLSSDWD...</td>\n",
       "      <td>1</td>\n",
       "    </tr>\n",
       "    <tr>\n",
       "      <th>2</th>\n",
       "      <td>AAAAAVAVPLAGGQEGSPGGGRRGSRGTTMVKKRKGRVVIDSDTED...</td>\n",
       "      <td>1</td>\n",
       "    </tr>\n",
       "    <tr>\n",
       "      <th>3</th>\n",
       "      <td>AAAAGGAG-GPGSGLAPLPGLPPSAAAHGAALLSHWDPTLSSDWDG...</td>\n",
       "      <td>1</td>\n",
       "    </tr>\n",
       "    <tr>\n",
       "      <th>4</th>\n",
       "      <td>AAAAGGAGGPGSGLAPLPGLPPSAAAHGAALLSHWDPTLSSDWDGE...</td>\n",
       "      <td>1</td>\n",
       "    </tr>\n",
       "  </tbody>\n",
       "</table>\n",
       "</div>"
      ],
      "text/plain": [
       "                                           query_seq  count\n",
       "0  AAAAAAAVAVPLAGGQEGSPGGGRRGSRGTTMVKKRKGRVVIDSDT...      1\n",
       "1  AAAAAGGAGGPGSGLAP-LPGLPPSAAAHGAALLSHWDPTLSSDWD...      1\n",
       "2  AAAAAVAVPLAGGQEGSPGGGRRGSRGTTMVKKRKGRVVIDSDTED...      1\n",
       "3  AAAAGGAG-GPGSGLAPLPGLPPSAAAHGAALLSHWDPTLSSDWDG...      1\n",
       "4  AAAAGGAGGPGSGLAPLPGLPPSAAAHGAALLSHWDPTLSSDWDGE...      1"
      ]
     },
     "execution_count": 135,
     "metadata": {},
     "output_type": "execute_result"
    }
   ],
   "source": [
    "# 2 columns, with the count correctly calculated\n",
    "grouped = df.groupby(['query_seq', 'subject_seq']).size().reset_index(name='count')\n",
    "grouped_counts = grouped.groupby('query_seq')['subject_seq'].nunique().reset_index(name='count')\n",
    "grouped_counts.head()"
   ]
  },
  {
   "cell_type": "code",
   "execution_count": 211,
   "id": "bdaace6a",
   "metadata": {
    "pycharm": {
     "name": "#%%\n"
    }
   },
   "outputs": [
    {
     "data": {
      "text/plain": [
       "array([  1,   6,   2,   3,   4,  10,   5,   8,  51,  53,  22,  12,   9,\n",
       "        20,  18,   7,  11,  14,  57,  55,  17,  16,  61, 108,  68,  24,\n",
       "        91,  26,  30, 105,  41,  13,  27, 133,  76,  25,  65,  38,  15,\n",
       "        43,  75,  33,  48,  29,  70,  23,  32,  64,  19,  21])"
      ]
     },
     "execution_count": 211,
     "metadata": {},
     "output_type": "execute_result"
    }
   ],
   "source": [
    "# Check how many hits we obtained\n",
    "\n",
    "grouped_counts['count'].unique()"
   ]
  },
  {
   "cell_type": "code",
   "execution_count": 209,
   "id": "87b0997d",
   "metadata": {
    "pycharm": {
     "name": "#%%\n"
    }
   },
   "outputs": [
    {
     "data": {
      "text/plain": [
       "array(['DKFPTSVVSNCTDQCASYVANVFTTQPGGFIPSDFSFNNWFLLTNSSTLVSGKLVTKQPLLVNCLWPVPSFEEAASTFCFEGADFDQCNGAVLNNTVDVIRFNLNFTTNVQSGKGATVFSLNTTGGVTLEISCYNDTVSDSSFSSYGEIPFGVTNGPRYCYVLYNGTALKYLGTLPPSVKEIAISKWGHFYINGYNFFSTFPIDCISFNLTTGDSDVFWTIAYTSYTEALVQVENTAITNVTYCNSYVNNIKCSQLTANLNNGFYPVSSSEVGSVNKSVVLLPSFLTHTIVNITIGLGMKRSGYGQPIASTLSNITLPMQDNNTDVYCVRSDQFSVYVHSTCKSALWDNVFKRNCTDVLDATAVIKTGTCPFSFDKLNNYLTFNKFCLSLSPVGANCKFDVAARTRTNEQVVRSLYVIYEEGDSIVGVPSDNSGLHDLSVLHLDSCTDYNIYGRTGVGIIRQTNRTLLSGLYYTSLSGDLLGFKNVSDGVIYSVTPCDVSAQAAVIDGTIVGAITSINSELLGLTHWTITPNFYYYSIYNYTNDKTRGTPIDSNDVGCEPVITYSNIGVCKNGALVFINVTHSDGDVQPISTGNVTIPTNFTISVQVEYIQVYTTPVSIDCSRYVCNGNPRCNKLLTQYVSACQTIEQALAMGARLENMEVDSMLFVSENALKLASVEAFNSSETLDPIYTQWPNIGGFWLEGLKYILPSDNSKRKYRSAIEDLLFSKVVTSGLGTVDEDYKRCTGGYDIADLVCAQYYNGIMVLPGVANADKMTMYTASLAGGITLGAFGGGAVSIPFAVAVQARLNYVALQTDVLNKNQQILASAFNQAIGNITQSFGKVNDAIHQTSRGLTTVAKALAKVQDVVNTQGQALRHLTVQLQNNFQAISSSISDIYNRLDELSADAQVDRLITGRLTALNAFVSQTLTRQAEVRASRQLAKDKVNECVRSQSQRFGFCGNGTHLFSLANAAPNGMIFFHTVLLPTAYETVTAWSGICALDGDRTFGLVVKDVQLTLFRNLDDKFYLTPRTMYQPRVATSSDFVQIEGCDVLFVNTTVSDLPSIIPDYIDINQTVQDILENFRPNWTVPELTLDVFNATYLNLTGEIDDLEFRSEKLHNTTVELAILIDNINNTLVNLEWLNRIETYVKWPWYVWLLIGLVVIFCIPLLLFCCCSTGCCGCIGCLGSCCHSIFSRRQFENYEPIEKVHVH',\n",
       "       'MSSWIRWHGPAMARLWGFCWLVVGFWRAAFACPTSCKCSASRIWCSDPSPGIVAFPRLEPNSVDPENITEIFIANQKRLEIINEDDVEAYVGLRNLTIVDSGLKFVAHKAFLKNSNLQHINFTRNKLTSLSRKHFRHLDLSELILVGNPFTCSCDIMWIKTLQEAKSSPDTQDLYCLNESSKNIPLANLQIPNCGLPSANLAAPNLTVEEGKSITLSCSVAGDPVPNMYWDVGNLVSKHMNETSHTQGSLRITNISSDDSGKQISCVAENLVGEDQDSVNLTVHFAPTITFLESPTSDHHWCIPFTVKGNPKPALQWFYNGAILNESKYICTKIHVTNHTEYHGCLQLDNPTHMNNGDYTLIAKNEYGKDEKQISAHFMGWPGIDDGANPNYPDVIYEDYGTAANDIGDTTNRSNEIPSTDVTDKTGREHLSVYAVVVIASVVGFCLLVMLFLLKLARHSKFGMK----------------GPASVISNDDDSASPLHHISNGSNTPSSSEGGPDAVIIGMTKIPVIENPQYFGITNSQLKPDTFVQHIKRHNIVLKRELGEGAFGKVFLAECYNLCPEQDKILVAVKTLKDASDNARKDFHREAELLTNLQHEHIVKFYGVCVEGDPLIMVFEYMKHGDLNKFLRAHGPDAVLMAEGNPPTELTQSQMLHIAQQIAAGMVYLASQHFVHRDLATRNCLVGENLLVKIGDFGMSRDVYSTDYYRVGGHTMLPIRWMPPESIMYRKFTTESDVWSLGVVLWEIFTYGKQPWYQLSNNEVIECITQGRVLQRPRTCPQEVYELMLGCWQREPHMRKNIKGIHTLLQNLAKASPVYLDILG'],\n",
       "      dtype=object)"
      ]
     },
     "execution_count": 209,
     "metadata": {},
     "output_type": "execute_result"
    }
   ],
   "source": [
    "# Obtain the name of a particular query sequence to create a barplot\n",
    "\n",
    "gc = grouped_counts[grouped_counts['count'] == 51]\n",
    "gc['query_seq'].unique()"
   ]
  },
  {
   "cell_type": "code",
   "execution_count": 185,
   "id": "4c4f3372",
   "metadata": {
    "pycharm": {
     "name": "#%%\n"
    }
   },
   "outputs": [
    {
     "data": {
      "text/html": [
       "<div>\n",
       "<style scoped>\n",
       "    .dataframe tbody tr th:only-of-type {\n",
       "        vertical-align: middle;\n",
       "    }\n",
       "\n",
       "    .dataframe tbody tr th {\n",
       "        vertical-align: top;\n",
       "    }\n",
       "\n",
       "    .dataframe thead th {\n",
       "        text-align: right;\n",
       "    }\n",
       "</style>\n",
       "<table border=\"1\" class=\"dataframe\">\n",
       "  <thead>\n",
       "    <tr style=\"text-align: right;\">\n",
       "      <th></th>\n",
       "      <th>id</th>\n",
       "      <th>query_id</th>\n",
       "      <th>subject_id</th>\n",
       "      <th>query_len</th>\n",
       "      <th>query_seq</th>\n",
       "      <th>match_seq</th>\n",
       "      <th>subject_seq</th>\n",
       "      <th>query_start</th>\n",
       "      <th>query_end</th>\n",
       "      <th>subject_start</th>\n",
       "      <th>subject_end</th>\n",
       "      <th>identity</th>\n",
       "      <th>positive</th>\n",
       "      <th>gaps</th>\n",
       "      <th>eval</th>\n",
       "      <th>bit_score</th>\n",
       "    </tr>\n",
       "  </thead>\n",
       "  <tbody>\n",
       "    <tr>\n",
       "      <th>1973</th>\n",
       "      <td>tr|Q84852|Q84852_9ALPC</td>\n",
       "      <td>tr|Q84852|Q84852_9ALPC Spike glycoprotein OS=P...</td>\n",
       "      <td>tr|Q6PQ05|Q6PQ05_9ALPC Spike glycoprotein OS=T...</td>\n",
       "      <td>1225</td>\n",
       "      <td>DKFPTSVVSNCTDQCASYVANVFTTQPGGFIPSDFSFNNWFLLTNS...</td>\n",
       "      <td>+K  T+VVSNCTDQCASYVANVFTTQPGGFIPSDFSFNNWFLLTNS...</td>\n",
       "      <td>NKNGTTVVSNCTDQCASYVANVFTTQPGGFIPSDFSFNNWFLLTNS...</td>\n",
       "      <td>17</td>\n",
       "      <td>1225</td>\n",
       "      <td>241</td>\n",
       "      <td>1449</td>\n",
       "      <td>1177</td>\n",
       "      <td>1191</td>\n",
       "      <td>0</td>\n",
       "      <td>0.0</td>\n",
       "      <td>6259.0</td>\n",
       "    </tr>\n",
       "    <tr>\n",
       "      <th>1974</th>\n",
       "      <td>tr|Q84852|Q84852_9ALPC</td>\n",
       "      <td>tr|Q84852|Q84852_9ALPC Spike glycoprotein OS=P...</td>\n",
       "      <td>tr|Q2LJ83|Q2LJ83_9ALPC Spike glycoprotein OS=T...</td>\n",
       "      <td>1225</td>\n",
       "      <td>DKFPTSVVSNCTDQCASYVANVFTTQPGGFIPSDFSFNNWFLLTNS...</td>\n",
       "      <td>+K  T+VVSNCTDQCASYVANVFTTQPGGFIPSDFSFNNWFLLTNS...</td>\n",
       "      <td>NKNGTTVVSNCTDQCASYVANVFTTQPGGFIPSDFSFNNWFLLTNS...</td>\n",
       "      <td>17</td>\n",
       "      <td>1225</td>\n",
       "      <td>241</td>\n",
       "      <td>1449</td>\n",
       "      <td>1176</td>\n",
       "      <td>1190</td>\n",
       "      <td>0</td>\n",
       "      <td>0.0</td>\n",
       "      <td>6255.0</td>\n",
       "    </tr>\n",
       "    <tr>\n",
       "      <th>1975</th>\n",
       "      <td>tr|Q84852|Q84852_9ALPC</td>\n",
       "      <td>tr|Q84852|Q84852_9ALPC Spike glycoprotein OS=P...</td>\n",
       "      <td>tr|Q0PL30|Q0PL30_CVPMI Spike glycoprotein OS=T...</td>\n",
       "      <td>1225</td>\n",
       "      <td>DKFPTSVVSNCTDQCASYVANVFTTQPGGFIPSDFSFNNWFLLTNS...</td>\n",
       "      <td>+K  T+VVSNCTDQCASYVANVFTTQPGGFIPSDFSFNNWFLLTNS...</td>\n",
       "      <td>NKNGTTVVSNCTDQCASYVANVFTTQPGGFIPSDFSFNNWFLLTNS...</td>\n",
       "      <td>17</td>\n",
       "      <td>1225</td>\n",
       "      <td>241</td>\n",
       "      <td>1449</td>\n",
       "      <td>1176</td>\n",
       "      <td>1190</td>\n",
       "      <td>0</td>\n",
       "      <td>0.0</td>\n",
       "      <td>6249.0</td>\n",
       "    </tr>\n",
       "    <tr>\n",
       "      <th>1976</th>\n",
       "      <td>tr|Q84852|Q84852_9ALPC</td>\n",
       "      <td>tr|Q84852|Q84852_9ALPC Spike glycoprotein OS=P...</td>\n",
       "      <td>tr|Q0PL21|Q0PL21_CVPMI Spike glycoprotein OS=T...</td>\n",
       "      <td>1225</td>\n",
       "      <td>DKFPTSVVSNCTDQCASYVANVFTTQPGGFIPSDFSFNNWFLLTNS...</td>\n",
       "      <td>+K  T+VVSNCTDQCASYVANVFTTQPGGFIPSDFSFNNWFLLTNS...</td>\n",
       "      <td>NKNGTTVVSNCTDQCASYVANVFTTQPGGFIPSDFSFNNWFLLTNS...</td>\n",
       "      <td>17</td>\n",
       "      <td>1225</td>\n",
       "      <td>241</td>\n",
       "      <td>1448</td>\n",
       "      <td>1176</td>\n",
       "      <td>1189</td>\n",
       "      <td>1</td>\n",
       "      <td>0.0</td>\n",
       "      <td>6242.0</td>\n",
       "    </tr>\n",
       "    <tr>\n",
       "      <th>1977</th>\n",
       "      <td>tr|Q84852|Q84852_9ALPC</td>\n",
       "      <td>tr|Q84852|Q84852_9ALPC Spike glycoprotein OS=P...</td>\n",
       "      <td>sp|P33470|SPIKE_CVPMI Spike glycoprotein OS=Po...</td>\n",
       "      <td>1225</td>\n",
       "      <td>DKFPTSVVSNCTDQCASYVANVFTTQPGGFIPSDFSFNNWFLLTNS...</td>\n",
       "      <td>+K  T+VVSNCTDQCASYVANVFTTQPGGFIPSDFSFNNWFLLTNS...</td>\n",
       "      <td>NKNGTTVVSNCTDQCASYVANVFTTQPGGFIPSDFSFNNWFLLTNS...</td>\n",
       "      <td>17</td>\n",
       "      <td>1225</td>\n",
       "      <td>241</td>\n",
       "      <td>1449</td>\n",
       "      <td>1175</td>\n",
       "      <td>1189</td>\n",
       "      <td>0</td>\n",
       "      <td>0.0</td>\n",
       "      <td>6240.0</td>\n",
       "    </tr>\n",
       "  </tbody>\n",
       "</table>\n",
       "</div>"
      ],
      "text/plain": [
       "                          id  \\\n",
       "1973  tr|Q84852|Q84852_9ALPC   \n",
       "1974  tr|Q84852|Q84852_9ALPC   \n",
       "1975  tr|Q84852|Q84852_9ALPC   \n",
       "1976  tr|Q84852|Q84852_9ALPC   \n",
       "1977  tr|Q84852|Q84852_9ALPC   \n",
       "\n",
       "                                               query_id  \\\n",
       "1973  tr|Q84852|Q84852_9ALPC Spike glycoprotein OS=P...   \n",
       "1974  tr|Q84852|Q84852_9ALPC Spike glycoprotein OS=P...   \n",
       "1975  tr|Q84852|Q84852_9ALPC Spike glycoprotein OS=P...   \n",
       "1976  tr|Q84852|Q84852_9ALPC Spike glycoprotein OS=P...   \n",
       "1977  tr|Q84852|Q84852_9ALPC Spike glycoprotein OS=P...   \n",
       "\n",
       "                                             subject_id  query_len  \\\n",
       "1973  tr|Q6PQ05|Q6PQ05_9ALPC Spike glycoprotein OS=T...       1225   \n",
       "1974  tr|Q2LJ83|Q2LJ83_9ALPC Spike glycoprotein OS=T...       1225   \n",
       "1975  tr|Q0PL30|Q0PL30_CVPMI Spike glycoprotein OS=T...       1225   \n",
       "1976  tr|Q0PL21|Q0PL21_CVPMI Spike glycoprotein OS=T...       1225   \n",
       "1977  sp|P33470|SPIKE_CVPMI Spike glycoprotein OS=Po...       1225   \n",
       "\n",
       "                                              query_seq  \\\n",
       "1973  DKFPTSVVSNCTDQCASYVANVFTTQPGGFIPSDFSFNNWFLLTNS...   \n",
       "1974  DKFPTSVVSNCTDQCASYVANVFTTQPGGFIPSDFSFNNWFLLTNS...   \n",
       "1975  DKFPTSVVSNCTDQCASYVANVFTTQPGGFIPSDFSFNNWFLLTNS...   \n",
       "1976  DKFPTSVVSNCTDQCASYVANVFTTQPGGFIPSDFSFNNWFLLTNS...   \n",
       "1977  DKFPTSVVSNCTDQCASYVANVFTTQPGGFIPSDFSFNNWFLLTNS...   \n",
       "\n",
       "                                              match_seq  \\\n",
       "1973  +K  T+VVSNCTDQCASYVANVFTTQPGGFIPSDFSFNNWFLLTNS...   \n",
       "1974  +K  T+VVSNCTDQCASYVANVFTTQPGGFIPSDFSFNNWFLLTNS...   \n",
       "1975  +K  T+VVSNCTDQCASYVANVFTTQPGGFIPSDFSFNNWFLLTNS...   \n",
       "1976  +K  T+VVSNCTDQCASYVANVFTTQPGGFIPSDFSFNNWFLLTNS...   \n",
       "1977  +K  T+VVSNCTDQCASYVANVFTTQPGGFIPSDFSFNNWFLLTNS...   \n",
       "\n",
       "                                            subject_seq  query_start  \\\n",
       "1973  NKNGTTVVSNCTDQCASYVANVFTTQPGGFIPSDFSFNNWFLLTNS...           17   \n",
       "1974  NKNGTTVVSNCTDQCASYVANVFTTQPGGFIPSDFSFNNWFLLTNS...           17   \n",
       "1975  NKNGTTVVSNCTDQCASYVANVFTTQPGGFIPSDFSFNNWFLLTNS...           17   \n",
       "1976  NKNGTTVVSNCTDQCASYVANVFTTQPGGFIPSDFSFNNWFLLTNS...           17   \n",
       "1977  NKNGTTVVSNCTDQCASYVANVFTTQPGGFIPSDFSFNNWFLLTNS...           17   \n",
       "\n",
       "      query_end  subject_start  subject_end  identity  positive  gaps  eval  \\\n",
       "1973       1225            241         1449      1177      1191     0   0.0   \n",
       "1974       1225            241         1449      1176      1190     0   0.0   \n",
       "1975       1225            241         1449      1176      1190     0   0.0   \n",
       "1976       1225            241         1448      1176      1189     1   0.0   \n",
       "1977       1225            241         1449      1175      1189     0   0.0   \n",
       "\n",
       "      bit_score  \n",
       "1973     6259.0  \n",
       "1974     6255.0  \n",
       "1975     6249.0  \n",
       "1976     6242.0  \n",
       "1977     6240.0  "
      ]
     },
     "execution_count": 185,
     "metadata": {},
     "output_type": "execute_result"
    }
   ],
   "source": [
    "# Filter df by a particular query_seq\n",
    "\n",
    "#query_seq = 'MTERRLRVLVVEDESMIAMLIEDTLCELGHEVAATASRMQEALDIARKGQFDIAIIDVNLDGEPSYPVADILAERNVPFIFATGYGSKGLDTRYSNIPLLTKPFLDSELEAVLVQISKEV'\n",
    "query_seq = 'DKFPTSVVSNCTDQCASYVANVFTTQPGGFIPSDFSFNNWFLLTNSSTLVSGKLVTKQPLLVNCLWPVPSFEEAASTFCFEGADFDQCNGAVLNNTVDVIRFNLNFTTNVQSGKGATVFSLNTTGGVTLEISCYNDTVSDSSFSSYGEIPFGVTNGPRYCYVLYNGTALKYLGTLPPSVKEIAISKWGHFYINGYNFFSTFPIDCISFNLTTGDSDVFWTIAYTSYTEALVQVENTAITNVTYCNSYVNNIKCSQLTANLNNGFYPVSSSEVGSVNKSVVLLPSFLTHTIVNITIGLGMKRSGYGQPIASTLSNITLPMQDNNTDVYCVRSDQFSVYVHSTCKSALWDNVFKRNCTDVLDATAVIKTGTCPFSFDKLNNYLTFNKFCLSLSPVGANCKFDVAARTRTNEQVVRSLYVIYEEGDSIVGVPSDNSGLHDLSVLHLDSCTDYNIYGRTGVGIIRQTNRTLLSGLYYTSLSGDLLGFKNVSDGVIYSVTPCDVSAQAAVIDGTIVGAITSINSELLGLTHWTITPNFYYYSIYNYTNDKTRGTPIDSNDVGCEPVITYSNIGVCKNGALVFINVTHSDGDVQPISTGNVTIPTNFTISVQVEYIQVYTTPVSIDCSRYVCNGNPRCNKLLTQYVSACQTIEQALAMGARLENMEVDSMLFVSENALKLASVEAFNSSETLDPIYTQWPNIGGFWLEGLKYILPSDNSKRKYRSAIEDLLFSKVVTSGLGTVDEDYKRCTGGYDIADLVCAQYYNGIMVLPGVANADKMTMYTASLAGGITLGAFGGGAVSIPFAVAVQARLNYVALQTDVLNKNQQILASAFNQAIGNITQSFGKVNDAIHQTSRGLTTVAKALAKVQDVVNTQGQALRHLTVQLQNNFQAISSSISDIYNRLDELSADAQVDRLITGRLTALNAFVSQTLTRQAEVRASRQLAKDKVNECVRSQSQRFGFCGNGTHLFSLANAAPNGMIFFHTVLLPTAYETVTAWSGICALDGDRTFGLVVKDVQLTLFRNLDDKFYLTPRTMYQPRVATSSDFVQIEGCDVLFVNTTVSDLPSIIPDYIDINQTVQDILENFRPNWTVPELTLDVFNATYLNLTGEIDDLEFRSEKLHNTTVELAILIDNINNTLVNLEWLNRIETYVKWPWYVWLLIGLVVIFCIPLLLFCCCSTGCCGCIGCLGSCCHSIFSRRQFENYEPIEKVHVH'\n",
    "\n",
    "filtered_df = df[df['query_seq'] == query_seq]\n",
    "filtered_df.head()"
   ]
  },
  {
   "cell_type": "code",
   "execution_count": 212,
   "id": "192bcbc6",
   "metadata": {
    "pycharm": {
     "name": "#%%\n"
    }
   },
   "outputs": [
    {
     "data": {
      "text/plain": [
       "NKNGTTVVSNCTDQCASYVANVFTTQPGGFIPSDFSFNNWFLLTNSSTLVSGKLVTKQPLLVNCLWPVPSFEEAASTFCFEGAGFDQCNGAVLNNTVDVIRFNLNFTTNVQSGKGATVFSLNTTGGVTLEISCY--TVSDSSFFSYGEIPFGVTDGPRYCYVHYNGTALKYLGTLPPSVKEIAISKWGHFYINGYNFFSTFPIDCISFNLTTGDSDVFWTIAYTSYTEALVQVENTAITKVTYCNSHVNNIKCSQITANLNNGFYPVSSSEVGLVNKSVVLLPSFYTHTIVNITIGLGMKRSGYGQPIASTLSNITLPMQDHNTDVYCIRSDQFSVYVHSTCKSALWDNIFKRNCTDVLDATAVIKTGTCPFSFDKLNNYLTFNKFCLSLSPVGANCKFDVAARTRTNEQVVRSLYVIYEEGDNIVGVPSDNSGVHDLSVLHLDSCTDYNIYGRTGVGIIRQTNRTLLSGLYYTSLSGDLLGFKNVSDGVIYSVTPCDVSAQAAVIDGTIVGAITSINSELLGLTHWTTTPNFYYYSIYNYTNDRTRGTAIDSNDVDCEPVITYSNIGVCKNGAFVFINVTHSDGDVQPISTGNVTIPTNFTISVQVEYIQVYTTPVSIDCSRYVCNGNPRCNKLLTQYVSACQTIEQALAMGARLENMEVDSMLFVSENALKLASVEAFNSSETLDPIYKEWPNIGGSWLEGLKYILPSHNSKRKYRSAIEDLLFDKVVTSGLGTVDEDYKRCTGGYDIADLVCAQYYNGIMVLPGVANADKMTMYTASLAGGITLGALGGGAVAIPFAVAVQARLNYVALQTDVLNKNQQILASAFNQAIGNITQSFGKVNDAIHQTSRGLATVAKALAKVQDVVNIQGQALSHLTVQLQNNFQAISSSISDIYNRLDELSADAQVDRLITGRLTALNAFVSQTLTRQAEVRASRQLAKDKVNECVRSQSQRFGFCGNGTHLFSLANAAPNGMIFFHTVLLPTAYETVTAWPGICASDGDRTFGLVVKDVQLTLFRNLDDKFYLTPRTMYQPRVATSSDFVQIEGCDVLFVNATVSDLPSIIPDYIDINQTVQDILENFRPNWTVPELTFDIFNATYLNLTGEIDDLEFRSEKLHNTTVELAILIDNINNTLVNLEWLNRIETYVKWPWYVWLLIGLVVIFCIPLLLFCCCSTGCCGCIGCLGSCCHSICSRRQFENYEPIEKVHVH    2\n",
       "NKNGTTVVSNCTDQCASYVANVFVTQPGGFIPSDFSFNNWFLLTNSSTLVSGKLVTKQPLLVNCLWPVPSFEEAASTFCFEGADFDQCNGAVLNNTVDVIRFNLNFTTNVQSGKGATVFSLNTTGGVTLEISCYNDTVSDSSFSSYGEIPFGVTDGPRYCYVLYNGTALKYLGTLPPSVKEIAISKWGHFYINGYNFFSTFPIDCISFNLTTGDSDVFWTIAYTSYTEALVQVENTAITKVTYCNSYVNNIKCSQLTANLNNGFYPVSSSEVGLVNKSVVLLPSFYTHTIVNITIDLGMKRSGYGQPIASPLSNITLPMQDNNTDVYCIRSDQFSVYVHSTCKSALWDNVFKRNCTDVLDATAVIKTGTCPFSFDKLNNYLTFNKLCFSLSPVGANCKFDVVARTRTNDQVVRSLYVIYEEGDNIVGVPSDNSGLHDLSVLHLDSCTDYNIYGRTGVGIIRQTNRTLLSGLYYTSLSGDLLGFKNVSDGVIYSVTPCDVSAQAAVIDGTIVGAITSINSELLGLTHWTTTPNFYYYSIYNYTNDRIRGTAIDSNDVDCEPVITYSNIGVCKNGALVFINVTHSDGDVQPISTGNVTIPTNFTISVQVEYIQVYTTPVSIDCSRYVCNGNPRCNKLLTQYVSACQTIEQALAMGARLENMEVDSMLFVSENALKLASVEAFNSSEALDPIYKDWPSIGGSWLEGLKYILPSDNSKRQYRSAIEDLLFSKVVTSGLGTVDEDYKRCTGGYDIADLVCAQYYNGIMVLPGVANADKMTMYTASLAGGITLGALGGGAVAIPFALAVQARLNYVALQTDVLNKNQQILASAFNQAIGNITQSFGKVNDAIHQTSRGLATVAKALAKVQDVVNTQGQALSHLTVQLQNNFQAISSSISDIYNRLDELSADAQVDRLITGRLTALNAFVSQTLTRQAEVRASRQLAKDKVNECVRSQSQRFGFCGNGTHLFSLANAAPNGMIFFHTVLLPTAYETVTAWAGICALDGDRTFGLVVKDVQLTLFRNLDDKFYLTPRTMYQPRVATSSDFVQIEGCDVLFVNATVSDLPSIIPDYIDINQTVQDILENFRPNWTVPDLTFDIFNATYLNLTVEIDDLEFRSEKLHNTTVELAILIGNINNTLVNLEWLNRIETYVKWPWYVWLLIGLVVIFCIPLLLFCCCSTGCCGCIGCLGSCCHSICSRRQFENYEPIEKVHVH    2\n",
       "NKNGTTVVSNCTDQCASYVANVFTTQPGGFIPSDFSFNNWFLLTNSSTLVSGKLVTKQPLLVNCLWPVPSFEEAASTFCFEGAGFDQCNGAVLNNTVDVIRFNLNFTTNVQSGKGATVFSLNTTGGVTLEISCYKDTASDSSFSSYGEMPFGVTDGPRYCYVLYNGTALKYLGTLPPVVKEIAISKWGHFYINGYNFFSTFPIDCISFNLTTGDSDVFWTIAYTSYTEALVQVENTAITKVTYCNSYVNNIKCSQLTANLNNGLYPVSSSEVGLVNKSVVLLPSFYTHTIVNITIGLGMKRNGYGQPIASTLSNITLPMQDHNTDVYCIRSDQFSVYVHSTCKSALWDNIFKRNCTDVLDATAVIKTGTCPFSFDKLNNYLTFNKFCLSLSPVGANCKFDVAARTRTNEQVVRSLYVIYEEGDNIVGVPSDNSGVHDLSVLHLDSCTDYNIYGRTGVGIIRQTNRTLLSGLYYTSLSGDLLGFKNVSDGVIYSVTPCDVSAQAAVIDGTIVGAITSINSELLGLTHWTTTPNFYYYSIYNYTNYRTRGTAIDSNDVDCEPVITYSNIGVCKNGAFVFINVTHSDGDVQPISTGNVTIPTNFTISVQVEYIQVYTTPVSIDCSRYVCNSNPRCNKLLTQYVSACQTIEQALAMGARLENMEVDSMLFVSENVLKLASVEAFNSSETLDPIYKEWPNIGGSWLEGLKYILPSHNSKRKYRAAIEDLLFDKVVTSGLGTVDEDYKRCTGGYDIADLVCAQYYNGIMVLPGVANADKMTMYTAPLAGGITVGVLGGGAVAIPFAVAVQARLNYVALQTDVLNKNQQILASAFNQAIGNITQSFGKVNDAIHQTSRGLATVAKASAKVQDVVNIQGQALSHLTVQLQNNFQAISSSISDIYNRLDELSADAQVDRLITGRLTALNAFVSQTLTRQAEVRASRQLAKDKVNECVRSQSQRFGFCGNGTHLFSLANAAPNGMIFFHTVLLPTAYETVTAWPGICASDGDRTFGLVVKDVQLTLFRNLDDKFYLTPRTMYQPRVATSSDFVQIEGCDVLFVNATVSDLPSIIPDYIDINQTVQDILENFRPNWTVPELTFDIFNATYLNLTGEIDDLEFRSEKLHNTTVELAILIDNINNTLVNLEWLNRIETYVKWPWYVWLLIGLVVIFCIPLLLFCCCSTGCCGCIGCLGSCCHSICSRRQFENYELIEKVHVH    2\n",
       "NKNGTTVVSNCTDQCASYVANVFTTQPGGFIPSDFSFNNWFLLTNSSTLVSGKLVTKQPLLVNCLWPVPSFEEAASTFCFEGAGFDQCNGAVLNNTVDVIRFNLNFTTNVQSGKGATVFSLNTTGGVTLEISCYNDTVSDSSFSSYGEMPFGVTDGPRYCYVLYNGTALKYLGTLPPIVKEIAISKWGHFYINGYNFFSTFPIDCISFNLTTGDSDVFWTIAYTSYTEALVQVENTAITKVTYCNSYVNNIKCSQLTANLNNGFYPVSSSEVGLVNKSVVLLPSFYTHTIVNITIGLGMKRSGYGQPIASTLSNITLPMQDNNTDVYCIRSDQFSVYVHSTCKSSLWDNVFKRNCTDVLDATAVIKTGTCPFSFDKLNNYLTFNKFCLSLSPVGANCKFDVAARTRTNDQVVRSLYVIYEEGDNIVGVPSDNSGLHDLSVLHLDSCTDYNIYGRTGVGIIRQTNRTLLSGLYYTSLSGDLLGFKNVSDGVIYSVTPCDVSAQAAVIDGTIVGAITSINSELLGLTHWTTTPNFYYYSIYNYTNDRTRGTAIDSNDVDCEPVITYSNIGVCKNGALVFINVTHSDGDVQPISTGNVTIPTNFTISVQVEYIQVYTTPVSIDCSRYVCNGNPRCNKLLTQYVSACQTIEQALAMGARLENMEVDSMLFVSENALKLASVEAFNSSETLDPIYKEWPNIGGSWLEGLKYILPSDNSKRKYRSAIEDLLFAKVVTSGLGTVDEDYKRCTGGYDIADLVCAQYYNGIMVLPGVANADKMTMYTASLAGGITLGALGGGAVAIPFAVAVQARLNYVALQTDVLNKNQQILASAFNQAIGNITQSFGKVNDAIHQTSRGLATVAKALAKVQDVVNTQGQALSHLTVQLQNNFQAISSSISDIYNRLDELSADAQVDRLITGRLTALNAFVSQTLTRQAEVRASRQLAKDKVNECVRSQSQRFGFCGNGTHLFSLANAAPNGMIFFHTVLLPTAYETVTAWAGICALDGDRTFGLVVKDVQLTLFRNLDDKFYLTPRTMYQPRVATSSDFVQIEGCDVLFVNATVSDLPSIIPDYIDINQTVQDILENFRPNWTVPELTFDIFNATYLNLTGEIDDLEFRSEKLHNTTVELAILIDNINNTLVNLEWLNRIETYVKWPWYVWLLIGLVVIFCIPLLLFCCCSTGCCGCIGCLGSCCHSICSRRQFENYEPIEKVHVH    1\n",
       "NKNGTTVVSNCTDQCASYVANVFVTQPGGFIPSDFSFNNWFLLTNSSTLVSGKLVTKQPLLVNCLWPVPSFEEAASTFCFEGADFDQCNGAVLNNTVDVIRFNLNFTTNVQSGKGATVFSLNTTGGVTLEISCYNDTVSDSSFSSYGEIPFGVTDGPRYCYVLYNGTALKYLGTLPPSVKEIAISKWGHFYINGYNFFSTFPIDCISFNLTTGDSDVFWTIAYTSYTEALVQVENTAITKVTYCNSYVNNIKCSQLTANLNNGFYPVSSSEVGLVNKSVVLLPSFYTHTIVNITIDLGMKRSGYGQPIASPLSNITLPMQDNNTDVYCIRSDQFSVYVHSTCKSALWDNVFKRNCTDVLDATAVIKTGTCPFSFDKLNNYLTFNKLCFSLSPVGANCKFDVVARTRTNDQVVRSLYVIYEEGDNIVGVPSDNSGLYDLSVLHLDSCTDYNIYGRTGVGIIRQTNRTLLSGLYYTSLSGDLLGFKNVSDGVIYSVTPCDVSAQAAVIDGTIVGAITSINSELLGLTHWTTTPNFYYYSIYNYTNDRIRGTAIDSNHVDCEPVITYSNIGVCKNGALVFINVTHSDGDVQPISTGNVTIPTNFTISVQVEYIQVYTTPVSIDCSRYVCNGNPRCNKLLTQYVSACQTIEQALAMGARLENMEVDSMLFVSENALKLASVEAFNSSEALDPIYKDWPNIGGSWLEGLKYILPSDNSKRQYRSAIEDLLFSKVVTSGLGTVDADYKRCTGGYDIADLVCAQYYNGIMVLPGVANADKMTMYTASLAGGITLGALGGGAVAIPFALAVQARLNYVALQTDVLNKNQQILASAFNQAIGNITQSFDKVNDAIHQTSRGLATVAKALAKVQDVVNTQGQALSHLTVQLQNNFQAISSSISDIYNRLDELSADAQVDRLITGRLTALNAFVSQTLTRQAEVRASRQLAKDKVNECVRSQSQRFGFCGNGTHLFSLANAAPNGMIFFHTVLLPTAYETVTAWAGICALDGDRTFGLVVKDVQLTLFRNLDDKFYLTPRTMYQPRVATSSDFVQIEGCDVLFVNATVSDLPSIIPDYIDINQTVQDILENFIPNWTVPDLTFDIFNATYLNLTAEIDDLEFRSEKLHNTTVELAILIGNINNTLVNLEWLNRIETYVKWPWYVWLLIGLVVIFCIPLLLFCCCSTGCCGCIGCLGSCCHSICSRRQFENYEPIEKVHVH    1\n",
       "Name: subject_seq, dtype: int64"
      ]
     },
     "execution_count": 212,
     "metadata": {},
     "output_type": "execute_result"
    }
   ],
   "source": [
    "# Check how many hits of subject sequences we have for the chosen query sequence\n",
    "\n",
    "counts = filtered_df['subject_seq'].value_counts()\n",
    "counts.head()"
   ]
  },
  {
   "cell_type": "code",
   "execution_count": 187,
   "id": "76b1e47e",
   "metadata": {
    "pycharm": {
     "name": "#%%\n"
    }
   },
   "outputs": [
    {
     "data": {
      "text/plain": [
       "Text(0, 0.5, 'Subject Sequence')"
      ]
     },
     "execution_count": 187,
     "metadata": {},
     "output_type": "execute_result"
    },
    {
     "data": {
      "image/png": "[encoded data removed]",
      "text/plain": [
       "<Figure size 800x640 with 1 Axes>"
      ]
     },
     "metadata": {
      "needs_background": "light"
     },
     "output_type": "display_data"
    }
   ],
   "source": [
    "# Create a barplot for the hits for the one selected query sequence\n",
    "\n",
    "figure(figsize=(10, 8), dpi=80)\n",
    "ax = sns.barplot(x=counts.values, y=counts.index, palette='Blues'),\n",
    "ax[0].set_yticks([])\n",
    "plt.xlabel('Count')\n",
    "plt.ylabel('Subject Sequence')"
   ]
  },
  {
   "cell_type": "code",
   "execution_count": 14,
   "id": "a24654f4",
   "metadata": {
    "pycharm": {
     "name": "#%%\n"
    }
   },
   "outputs": [
    {
     "data": {
      "text/html": [
       "<div>\n",
       "<style scoped>\n",
       "    .dataframe tbody tr th:only-of-type {\n",
       "        vertical-align: middle;\n",
       "    }\n",
       "\n",
       "    .dataframe tbody tr th {\n",
       "        vertical-align: top;\n",
       "    }\n",
       "\n",
       "    .dataframe thead th {\n",
       "        text-align: right;\n",
       "    }\n",
       "</style>\n",
       "<table border=\"1\" class=\"dataframe\">\n",
       "  <thead>\n",
       "    <tr style=\"text-align: right;\">\n",
       "      <th></th>\n",
       "      <th>id</th>\n",
       "      <th>query_seq</th>\n",
       "      <th>counts</th>\n",
       "    </tr>\n",
       "  </thead>\n",
       "  <tbody>\n",
       "    <tr>\n",
       "      <th>0</th>\n",
       "      <td>sp|Q16620|NTRK2_HUMAN</td>\n",
       "      <td>ARLWGFCWLVVGFWRAAFACPTSCKCSASRIWCSDPSPGIVAFPRL...</td>\n",
       "      <td>1</td>\n",
       "    </tr>\n",
       "    <tr>\n",
       "      <th>1</th>\n",
       "      <td>sp|Q16620|NTRK2_HUMAN</td>\n",
       "      <td>FIANQKRLEIINEDDVEAYVGLRNLTIVDSGLKFVAHKAFLKNSNL...</td>\n",
       "      <td>2</td>\n",
       "    </tr>\n",
       "    <tr>\n",
       "      <th>2</th>\n",
       "      <td>sp|Q16620|NTRK2_HUMAN</td>\n",
       "      <td>FIANQKRLEIINEDDVEAYVGLRNLTIVDSGLKFVAHKAFLKNSNL...</td>\n",
       "      <td>3</td>\n",
       "    </tr>\n",
       "    <tr>\n",
       "      <th>3</th>\n",
       "      <td>sp|Q16620|NTRK2_HUMAN</td>\n",
       "      <td>IFIANQKRLEIINEDDVEAYVGLRNLTIVDSGLKFVAHKAFLKNSN...</td>\n",
       "      <td>1</td>\n",
       "    </tr>\n",
       "    <tr>\n",
       "      <th>4</th>\n",
       "      <td>sp|Q16620|NTRK2_HUMAN</td>\n",
       "      <td>IFIANQKRLEIINEDDVEAYVGLRNLTIVDSGLKFVAHKAFLKNSN...</td>\n",
       "      <td>1</td>\n",
       "    </tr>\n",
       "    <tr>\n",
       "      <th>...</th>\n",
       "      <td>...</td>\n",
       "      <td>...</td>\n",
       "      <td>...</td>\n",
       "    </tr>\n",
       "    <tr>\n",
       "      <th>2847</th>\n",
       "      <td>tr|Q9X0T1|Q9X0T1_THEMA</td>\n",
       "      <td>VVLAQPKLTIWCSEKQVDILQKLGEEFKAKYGVEVEVQYVNFQDIK...</td>\n",
       "      <td>1</td>\n",
       "    </tr>\n",
       "    <tr>\n",
       "      <th>2848</th>\n",
       "      <td>tr|Q9X0T1|Q9X0T1_THEMA</td>\n",
       "      <td>VVLAQPKLTIWCSEKQVDILQKLGEEFKAKYGVEVEVQYVNFQDIK...</td>\n",
       "      <td>1</td>\n",
       "    </tr>\n",
       "    <tr>\n",
       "      <th>2849</th>\n",
       "      <td>tr|Q9X0T1|Q9X0T1_THEMA</td>\n",
       "      <td>VVLAQPKLTIWCSEKQVDILQKLGEEFKAKYGVEVEVQYVNFQDIK...</td>\n",
       "      <td>1</td>\n",
       "    </tr>\n",
       "    <tr>\n",
       "      <th>2850</th>\n",
       "      <td>tr|Q9X0T1|Q9X0T1_THEMA</td>\n",
       "      <td>VVSLVVLAQP-KLTIWCSEKQVDILQKLGEEFKAKYGVEVEVQYVN...</td>\n",
       "      <td>2</td>\n",
       "    </tr>\n",
       "    <tr>\n",
       "      <th>2851</th>\n",
       "      <td>tr|Q9X0T1|Q9X0T1_THEMA</td>\n",
       "      <td>VVSLVVLAQP-KLTIWCSEKQVDILQKLGEEFKAKYGVEVEVQYVN...</td>\n",
       "      <td>1</td>\n",
       "    </tr>\n",
       "  </tbody>\n",
       "</table>\n",
       "<p>2852 rows × 3 columns</p>\n",
       "</div>"
      ],
      "text/plain": [
       "                          id  \\\n",
       "0      sp|Q16620|NTRK2_HUMAN   \n",
       "1      sp|Q16620|NTRK2_HUMAN   \n",
       "2      sp|Q16620|NTRK2_HUMAN   \n",
       "3      sp|Q16620|NTRK2_HUMAN   \n",
       "4      sp|Q16620|NTRK2_HUMAN   \n",
       "...                      ...   \n",
       "2847  tr|Q9X0T1|Q9X0T1_THEMA   \n",
       "2848  tr|Q9X0T1|Q9X0T1_THEMA   \n",
       "2849  tr|Q9X0T1|Q9X0T1_THEMA   \n",
       "2850  tr|Q9X0T1|Q9X0T1_THEMA   \n",
       "2851  tr|Q9X0T1|Q9X0T1_THEMA   \n",
       "\n",
       "                                              query_seq  counts  \n",
       "0     ARLWGFCWLVVGFWRAAFACPTSCKCSASRIWCSDPSPGIVAFPRL...       1  \n",
       "1     FIANQKRLEIINEDDVEAYVGLRNLTIVDSGLKFVAHKAFLKNSNL...       2  \n",
       "2     FIANQKRLEIINEDDVEAYVGLRNLTIVDSGLKFVAHKAFLKNSNL...       3  \n",
       "3     IFIANQKRLEIINEDDVEAYVGLRNLTIVDSGLKFVAHKAFLKNSN...       1  \n",
       "4     IFIANQKRLEIINEDDVEAYVGLRNLTIVDSGLKFVAHKAFLKNSN...       1  \n",
       "...                                                 ...     ...  \n",
       "2847  VVLAQPKLTIWCSEKQVDILQKLGEEFKAKYGVEVEVQYVNFQDIK...       1  \n",
       "2848  VVLAQPKLTIWCSEKQVDILQKLGEEFKAKYGVEVEVQYVNFQDIK...       1  \n",
       "2849  VVLAQPKLTIWCSEKQVDILQKLGEEFKAKYGVEVEVQYVNFQDIK...       1  \n",
       "2850  VVSLVVLAQP-KLTIWCSEKQVDILQKLGEEFKAKYGVEVEVQYVN...       2  \n",
       "2851  VVSLVVLAQP-KLTIWCSEKQVDILQKLGEEFKAKYGVEVEVQYVN...       1  \n",
       "\n",
       "[2852 rows x 3 columns]"
      ]
     },
     "execution_count": 14,
     "metadata": {},
     "output_type": "execute_result"
    }
   ],
   "source": [
    "# Create a dataframe for working with ID's\n",
    "\n",
    "merged = pd.merge(df[['query_seq', 'id']], grouped, on='query_seq')\n",
    "merged = pd.merge(merged, grouped_counts[['query_seq', 'nunique']], on='query_seq')\n",
    "result = merged.groupby(['id', 'query_seq'])['subject_seq'].nunique().reset_index(name='counts')\n",
    "result"
   ]
  },
  {
   "cell_type": "code",
   "execution_count": 15,
   "id": "0cf0a25a",
   "metadata": {
    "pycharm": {
     "name": "#%%\n"
    }
   },
   "outputs": [
    {
     "data": {
      "image/png": "[encoded data removed]",
      "text/plain": [
       "<Figure size 800x640 with 1 Axes>"
      ]
     },
     "metadata": {
      "needs_background": "light"
     },
     "output_type": "display_data"
    }
   ],
   "source": [
    "# Create a barplot with the hits for each query ID\n",
    "\n",
    "figure(figsize=(10, 8), dpi=80)\n",
    "plt.barh(result['id'], result['counts'])\n",
    "plt.xlabel('Counts')\n",
    "plt.ylabel('Id')\n",
    "plt.title('Counts of unique subjects for each query id')\n",
    "plt.show()"
   ]
  },
  {
   "cell_type": "code",
   "execution_count": 208,
   "id": "d7adfda4",
   "metadata": {
    "pycharm": {
     "name": "#%%\n"
    }
   },
   "outputs": [
    {
     "data": {
      "text/html": [
       "<div>\n",
       "<style scoped>\n",
       "    .dataframe tbody tr th:only-of-type {\n",
       "        vertical-align: middle;\n",
       "    }\n",
       "\n",
       "    .dataframe tbody tr th {\n",
       "        vertical-align: top;\n",
       "    }\n",
       "\n",
       "    .dataframe thead th {\n",
       "        text-align: right;\n",
       "    }\n",
       "</style>\n",
       "<table border=\"1\" class=\"dataframe\">\n",
       "  <thead>\n",
       "    <tr style=\"text-align: right;\">\n",
       "      <th></th>\n",
       "      <th>query_seq</th>\n",
       "      <th>subject_seq</th>\n",
       "    </tr>\n",
       "  </thead>\n",
       "  <tbody>\n",
       "    <tr>\n",
       "      <th>0</th>\n",
       "      <td>AAAAAAAVAVPLAGGQEGSPGGGRRGSRGTTMVKKRKGRVVIDSDT...</td>\n",
       "      <td>1</td>\n",
       "    </tr>\n",
       "    <tr>\n",
       "      <th>1</th>\n",
       "      <td>AAAAAGGAGGPGSGLAP-LPGLPPSAAAHGAALLSHWDPTLSSDWD...</td>\n",
       "      <td>1</td>\n",
       "    </tr>\n",
       "    <tr>\n",
       "      <th>2</th>\n",
       "      <td>AAAAAVAVPLAGGQEGSPGGGRRGSRGTTMVKKRKGRVVIDSDTED...</td>\n",
       "      <td>1</td>\n",
       "    </tr>\n",
       "    <tr>\n",
       "      <th>3</th>\n",
       "      <td>AAAAGGAG-GPGSGLAPLPGLPPSAAAHGAALLSHWDPTLSSDWDG...</td>\n",
       "      <td>1</td>\n",
       "    </tr>\n",
       "    <tr>\n",
       "      <th>4</th>\n",
       "      <td>AAAAGGAGGPGSGLAPLPGLPPSAAAHGAALLSHWDPTLSSDWDGE...</td>\n",
       "      <td>1</td>\n",
       "    </tr>\n",
       "    <tr>\n",
       "      <th>...</th>\n",
       "      <td>...</td>\n",
       "      <td>...</td>\n",
       "    </tr>\n",
       "    <tr>\n",
       "      <th>2847</th>\n",
       "      <td>YRNCVYTYRILPNEDDKFTVQASEGVSMRFFTKLDQLIEFYKKENM...</td>\n",
       "      <td>1</td>\n",
       "    </tr>\n",
       "    <tr>\n",
       "      <th>2848</th>\n",
       "      <td>YRNCVYTYRILPNEDDKFTVQASEGVSMRFFTKLDQLIEFYKKENM...</td>\n",
       "      <td>1</td>\n",
       "    </tr>\n",
       "    <tr>\n",
       "      <th>2849</th>\n",
       "      <td>YRNCVYTYRILPNEDDKFTVQASEGVSMRFFTKLDQLIEFYKKENM...</td>\n",
       "      <td>1</td>\n",
       "    </tr>\n",
       "    <tr>\n",
       "      <th>2850</th>\n",
       "      <td>YRNCVYTYRILPNEDDKFTVQASEGVSMRFFTKLDQLIEFYKKENM...</td>\n",
       "      <td>1</td>\n",
       "    </tr>\n",
       "    <tr>\n",
       "      <th>2851</th>\n",
       "      <td>YSTWEPEENILDARLLAAFEEREREMELYGPKKRGPKPKTFL----...</td>\n",
       "      <td>1</td>\n",
       "    </tr>\n",
       "  </tbody>\n",
       "</table>\n",
       "<p>2852 rows × 2 columns</p>\n",
       "</div>"
      ],
      "text/plain": [
       "                                              query_seq  subject_seq\n",
       "0     AAAAAAAVAVPLAGGQEGSPGGGRRGSRGTTMVKKRKGRVVIDSDT...            1\n",
       "1     AAAAAGGAGGPGSGLAP-LPGLPPSAAAHGAALLSHWDPTLSSDWD...            1\n",
       "2     AAAAAVAVPLAGGQEGSPGGGRRGSRGTTMVKKRKGRVVIDSDTED...            1\n",
       "3     AAAAGGAG-GPGSGLAPLPGLPPSAAAHGAALLSHWDPTLSSDWDG...            1\n",
       "4     AAAAGGAGGPGSGLAPLPGLPPSAAAHGAALLSHWDPTLSSDWDGE...            1\n",
       "...                                                 ...          ...\n",
       "2847  YRNCVYTYRILPNEDDKFTVQASEGVSMRFFTKLDQLIEFYKKENM...            1\n",
       "2848  YRNCVYTYRILPNEDDKFTVQASEGVSMRFFTKLDQLIEFYKKENM...            1\n",
       "2849  YRNCVYTYRILPNEDDKFTVQASEGVSMRFFTKLDQLIEFYKKENM...            1\n",
       "2850  YRNCVYTYRILPNEDDKFTVQASEGVSMRFFTKLDQLIEFYKKENM...            1\n",
       "2851  YSTWEPEENILDARLLAAFEEREREMELYGPKKRGPKPKTFL----...            1\n",
       "\n",
       "[2852 rows x 2 columns]"
      ]
     },
     "execution_count": 208,
     "metadata": {},
     "output_type": "execute_result"
    }
   ],
   "source": [
    "# Create a hits_matrix \n",
    "\n",
    "hits_matrix = df.groupby('query_seq')['subject_seq'].nunique().reset_index()\n",
    "hits_matrix"
   ]
  },
  {
   "cell_type": "code",
   "execution_count": 214,
   "id": "9e0aab9e",
   "metadata": {
    "pycharm": {
     "name": "#%%\n"
    }
   },
   "outputs": [
    {
     "ename": "KeyError",
     "evalue": "'count'",
     "output_type": "error",
     "traceback": [
      "\u001B[0;31m---------------------------------------------------------------------------\u001B[0m",
      "\u001B[0;31mKeyError\u001B[0m                                  Traceback (most recent call last)",
      "Input \u001B[0;32mIn [214]\u001B[0m, in \u001B[0;36m<cell line: 3>\u001B[0;34m()\u001B[0m\n\u001B[1;32m      1\u001B[0m \u001B[38;5;66;03m# pivot the hits_matrix to create a matrix of counts\u001B[39;00m\n\u001B[1;32m      2\u001B[0m \u001B[38;5;66;03m#matrix_of_counts = hits_matrix.pivot_table(index='query_seq', values='subject_seq', aggfunc='count')\u001B[39;00m\n\u001B[0;32m----> 3\u001B[0m matrix_of_counts \u001B[38;5;241m=\u001B[39m \u001B[43mhits_matrix\u001B[49m\u001B[38;5;241;43m.\u001B[39;49m\u001B[43mpivot_table\u001B[49m\u001B[43m(\u001B[49m\u001B[43mindex\u001B[49m\u001B[38;5;241;43m=\u001B[39;49m\u001B[38;5;124;43m'\u001B[39;49m\u001B[38;5;124;43mquery_seq\u001B[39;49m\u001B[38;5;124;43m'\u001B[39;49m\u001B[43m,\u001B[49m\u001B[43m \u001B[49m\u001B[43mcolumns\u001B[49m\u001B[38;5;241;43m=\u001B[39;49m\u001B[38;5;124;43m'\u001B[39;49m\u001B[38;5;124;43msubject_seq\u001B[39;49m\u001B[38;5;124;43m'\u001B[39;49m\u001B[43m,\u001B[49m\u001B[43m \u001B[49m\u001B[43mvalues\u001B[49m\u001B[38;5;241;43m=\u001B[39;49m\u001B[38;5;124;43m'\u001B[39;49m\u001B[38;5;124;43mcount\u001B[39;49m\u001B[38;5;124;43m'\u001B[39;49m\u001B[43m)\u001B[49m\n\u001B[1;32m      4\u001B[0m \u001B[38;5;66;03m#matrix_of_counts = hits_matrix.pivot_table(index='query_seq', columns='subject_seq', values='count')\u001B[39;00m\n\u001B[1;32m      5\u001B[0m matrix_of_counts\n",
      "File \u001B[0;32m~/opt/anaconda3/lib/python3.9/site-packages/pandas/core/frame.py:8038\u001B[0m, in \u001B[0;36mDataFrame.pivot_table\u001B[0;34m(self, values, index, columns, aggfunc, fill_value, margins, dropna, margins_name, observed, sort)\u001B[0m\n\u001B[1;32m   8021\u001B[0m \u001B[38;5;129m@Substitution\u001B[39m(\u001B[38;5;124m\"\u001B[39m\u001B[38;5;124m\"\u001B[39m)\n\u001B[1;32m   8022\u001B[0m \u001B[38;5;129m@Appender\u001B[39m(_shared_docs[\u001B[38;5;124m\"\u001B[39m\u001B[38;5;124mpivot_table\u001B[39m\u001B[38;5;124m\"\u001B[39m])\n\u001B[1;32m   8023\u001B[0m \u001B[38;5;28;01mdef\u001B[39;00m \u001B[38;5;21mpivot_table\u001B[39m(\n\u001B[0;32m   (...)\u001B[0m\n\u001B[1;32m   8034\u001B[0m     sort\u001B[38;5;241m=\u001B[39m\u001B[38;5;28;01mTrue\u001B[39;00m,\n\u001B[1;32m   8035\u001B[0m ) \u001B[38;5;241m-\u001B[39m\u001B[38;5;241m>\u001B[39m DataFrame:\n\u001B[1;32m   8036\u001B[0m     \u001B[38;5;28;01mfrom\u001B[39;00m \u001B[38;5;21;01mpandas\u001B[39;00m\u001B[38;5;21;01m.\u001B[39;00m\u001B[38;5;21;01mcore\u001B[39;00m\u001B[38;5;21;01m.\u001B[39;00m\u001B[38;5;21;01mreshape\u001B[39;00m\u001B[38;5;21;01m.\u001B[39;00m\u001B[38;5;21;01mpivot\u001B[39;00m \u001B[38;5;28;01mimport\u001B[39;00m pivot_table\n\u001B[0;32m-> 8038\u001B[0m     \u001B[38;5;28;01mreturn\u001B[39;00m \u001B[43mpivot_table\u001B[49m\u001B[43m(\u001B[49m\n\u001B[1;32m   8039\u001B[0m \u001B[43m        \u001B[49m\u001B[38;5;28;43mself\u001B[39;49m\u001B[43m,\u001B[49m\n\u001B[1;32m   8040\u001B[0m \u001B[43m        \u001B[49m\u001B[43mvalues\u001B[49m\u001B[38;5;241;43m=\u001B[39;49m\u001B[43mvalues\u001B[49m\u001B[43m,\u001B[49m\n\u001B[1;32m   8041\u001B[0m \u001B[43m        \u001B[49m\u001B[43mindex\u001B[49m\u001B[38;5;241;43m=\u001B[39;49m\u001B[43mindex\u001B[49m\u001B[43m,\u001B[49m\n\u001B[1;32m   8042\u001B[0m \u001B[43m        \u001B[49m\u001B[43mcolumns\u001B[49m\u001B[38;5;241;43m=\u001B[39;49m\u001B[43mcolumns\u001B[49m\u001B[43m,\u001B[49m\n\u001B[1;32m   8043\u001B[0m \u001B[43m        \u001B[49m\u001B[43maggfunc\u001B[49m\u001B[38;5;241;43m=\u001B[39;49m\u001B[43maggfunc\u001B[49m\u001B[43m,\u001B[49m\n\u001B[1;32m   8044\u001B[0m \u001B[43m        \u001B[49m\u001B[43mfill_value\u001B[49m\u001B[38;5;241;43m=\u001B[39;49m\u001B[43mfill_value\u001B[49m\u001B[43m,\u001B[49m\n\u001B[1;32m   8045\u001B[0m \u001B[43m        \u001B[49m\u001B[43mmargins\u001B[49m\u001B[38;5;241;43m=\u001B[39;49m\u001B[43mmargins\u001B[49m\u001B[43m,\u001B[49m\n\u001B[1;32m   8046\u001B[0m \u001B[43m        \u001B[49m\u001B[43mdropna\u001B[49m\u001B[38;5;241;43m=\u001B[39;49m\u001B[43mdropna\u001B[49m\u001B[43m,\u001B[49m\n\u001B[1;32m   8047\u001B[0m \u001B[43m        \u001B[49m\u001B[43mmargins_name\u001B[49m\u001B[38;5;241;43m=\u001B[39;49m\u001B[43mmargins_name\u001B[49m\u001B[43m,\u001B[49m\n\u001B[1;32m   8048\u001B[0m \u001B[43m        \u001B[49m\u001B[43mobserved\u001B[49m\u001B[38;5;241;43m=\u001B[39;49m\u001B[43mobserved\u001B[49m\u001B[43m,\u001B[49m\n\u001B[1;32m   8049\u001B[0m \u001B[43m        \u001B[49m\u001B[43msort\u001B[49m\u001B[38;5;241;43m=\u001B[39;49m\u001B[43msort\u001B[49m\u001B[43m,\u001B[49m\n\u001B[1;32m   8050\u001B[0m \u001B[43m    \u001B[49m\u001B[43m)\u001B[49m\n",
      "File \u001B[0;32m~/opt/anaconda3/lib/python3.9/site-packages/pandas/core/reshape/pivot.py:95\u001B[0m, in \u001B[0;36mpivot_table\u001B[0;34m(data, values, index, columns, aggfunc, fill_value, margins, dropna, margins_name, observed, sort)\u001B[0m\n\u001B[1;32m     92\u001B[0m     table \u001B[38;5;241m=\u001B[39m concat(pieces, keys\u001B[38;5;241m=\u001B[39mkeys, axis\u001B[38;5;241m=\u001B[39m\u001B[38;5;241m1\u001B[39m)\n\u001B[1;32m     93\u001B[0m     \u001B[38;5;28;01mreturn\u001B[39;00m table\u001B[38;5;241m.\u001B[39m__finalize__(data, method\u001B[38;5;241m=\u001B[39m\u001B[38;5;124m\"\u001B[39m\u001B[38;5;124mpivot_table\u001B[39m\u001B[38;5;124m\"\u001B[39m)\n\u001B[0;32m---> 95\u001B[0m table \u001B[38;5;241m=\u001B[39m \u001B[43m__internal_pivot_table\u001B[49m\u001B[43m(\u001B[49m\n\u001B[1;32m     96\u001B[0m \u001B[43m    \u001B[49m\u001B[43mdata\u001B[49m\u001B[43m,\u001B[49m\n\u001B[1;32m     97\u001B[0m \u001B[43m    \u001B[49m\u001B[43mvalues\u001B[49m\u001B[43m,\u001B[49m\n\u001B[1;32m     98\u001B[0m \u001B[43m    \u001B[49m\u001B[43mindex\u001B[49m\u001B[43m,\u001B[49m\n\u001B[1;32m     99\u001B[0m \u001B[43m    \u001B[49m\u001B[43mcolumns\u001B[49m\u001B[43m,\u001B[49m\n\u001B[1;32m    100\u001B[0m \u001B[43m    \u001B[49m\u001B[43maggfunc\u001B[49m\u001B[43m,\u001B[49m\n\u001B[1;32m    101\u001B[0m \u001B[43m    \u001B[49m\u001B[43mfill_value\u001B[49m\u001B[43m,\u001B[49m\n\u001B[1;32m    102\u001B[0m \u001B[43m    \u001B[49m\u001B[43mmargins\u001B[49m\u001B[43m,\u001B[49m\n\u001B[1;32m    103\u001B[0m \u001B[43m    \u001B[49m\u001B[43mdropna\u001B[49m\u001B[43m,\u001B[49m\n\u001B[1;32m    104\u001B[0m \u001B[43m    \u001B[49m\u001B[43mmargins_name\u001B[49m\u001B[43m,\u001B[49m\n\u001B[1;32m    105\u001B[0m \u001B[43m    \u001B[49m\u001B[43mobserved\u001B[49m\u001B[43m,\u001B[49m\n\u001B[1;32m    106\u001B[0m \u001B[43m    \u001B[49m\u001B[43msort\u001B[49m\u001B[43m,\u001B[49m\n\u001B[1;32m    107\u001B[0m \u001B[43m\u001B[49m\u001B[43m)\u001B[49m\n\u001B[1;32m    108\u001B[0m \u001B[38;5;28;01mreturn\u001B[39;00m table\u001B[38;5;241m.\u001B[39m__finalize__(data, method\u001B[38;5;241m=\u001B[39m\u001B[38;5;124m\"\u001B[39m\u001B[38;5;124mpivot_table\u001B[39m\u001B[38;5;124m\"\u001B[39m)\n",
      "File \u001B[0;32m~/opt/anaconda3/lib/python3.9/site-packages/pandas/core/reshape/pivot.py:141\u001B[0m, in \u001B[0;36m__internal_pivot_table\u001B[0;34m(data, values, index, columns, aggfunc, fill_value, margins, dropna, margins_name, observed, sort)\u001B[0m\n\u001B[1;32m    139\u001B[0m \u001B[38;5;28;01mfor\u001B[39;00m i \u001B[38;5;129;01min\u001B[39;00m values:\n\u001B[1;32m    140\u001B[0m     \u001B[38;5;28;01mif\u001B[39;00m i \u001B[38;5;129;01mnot\u001B[39;00m \u001B[38;5;129;01min\u001B[39;00m data:\n\u001B[0;32m--> 141\u001B[0m         \u001B[38;5;28;01mraise\u001B[39;00m \u001B[38;5;167;01mKeyError\u001B[39;00m(i)\n\u001B[1;32m    143\u001B[0m to_filter \u001B[38;5;241m=\u001B[39m []\n\u001B[1;32m    144\u001B[0m \u001B[38;5;28;01mfor\u001B[39;00m x \u001B[38;5;129;01min\u001B[39;00m keys \u001B[38;5;241m+\u001B[39m values:\n",
      "\u001B[0;31mKeyError\u001B[0m: 'count'"
     ]
    }
   ],
   "source": [
    "# pivot the hits_matrix to create a matrix of counts\n",
    "#matrix_of_counts = hits_matrix.pivot_table(index='query_seq', values='subject_seq', aggfunc='count')\n",
    "matrix_of_counts = hits_matrix.pivot_table(index='query_seq', columns='subject_seq', values='count')\n",
    "#matrix_of_counts = hits_matrix.pivot_table(index='query_seq', columns='subject_seq', values='count')\n",
    "matrix_of_counts"
   ]
  },
  {
   "cell_type": "code",
   "execution_count": 206,
   "id": "d39a5331",
   "metadata": {
    "pycharm": {
     "name": "#%%\n"
    }
   },
   "outputs": [
    {
     "data": {
      "text/plain": [
       "<AxesSubplot:xlabel='query_seq', ylabel='query_seq'>"
      ]
     },
     "execution_count": 206,
     "metadata": {},
     "output_type": "execute_result"
    },
    {
     "data": {
      "image/png": "[encoded data removed]",
      "text/plain": [
       "<Figure size 432x288 with 2 Axes>"
      ]
     },
     "metadata": {
      "needs_background": "light"
     },
     "output_type": "display_data"
    }
   ],
   "source": [
    "# Plot a heatmap\n",
    "\n",
    "sns.heatmap(matrix_of_counts, xticklabels=False, yticklabels=False)"
   ]
  },
  {
   "cell_type": "code",
   "execution_count": null,
   "id": "395ac9f8",
   "metadata": {
    "pycharm": {
     "name": "#%%\n"
    }
   },
   "outputs": [],
   "source": []
  },
  {
   "cell_type": "code",
   "execution_count": null,
   "id": "0be70ff2",
   "metadata": {
    "pycharm": {
     "name": "#%%\n"
    }
   },
   "outputs": [],
   "source": [
    "# matrix N query_seq (rows): 2852, M subject_seq (columns): 6855\n",
    "\n",
    "df['subject_seq'].nunique()"
   ]
  },
  {
   "cell_type": "code",
   "execution_count": null,
   "id": "a5254523",
   "metadata": {
    "pycharm": {
     "name": "#%%\n"
    }
   },
   "outputs": [],
   "source": []
  },
  {
   "cell_type": "code",
   "execution_count": null,
   "id": "f7f13864",
   "metadata": {
    "pycharm": {
     "name": "#%%\n"
    }
   },
   "outputs": [],
   "source": [
    "# Generate the MSA\n",
    "\n",
    "out_files = [\"{}/output.fasta\".format(directory)]\n",
    "\n",
    "for df, out_file in zip(dfs, out_files):\n",
    "    with open(out_file, \"w\") as fout:\n",
    "        for index, row in df.iterrows():\n",
    "            mapped_seq = [\"-\"] * max_query_length # Empty list of length = maximum query length\n",
    "            c = 0\n",
    "            if row[\"eval\"] < 0.01:\n",
    "                with open(out_file, \"a\") as fout: # append the output.fasta\n",
    "                    for l_q, l_s in zip(row[\"query_seq\"], row[\"subject_seq\"]):\n",
    "                        if l_q != \" \" and l_q != \"-\": # the element in query sequence\n",
    "                            # avoid 'IndexError: list assignment index out of range'\n",
    "                            if 1 <= row[\"query_start\"] + c <= max_query_length:\n",
    "                                mapped_seq[row[\"query_start\"] + c - 1] = l_s if l_s != \" \" else \"-\"\n",
    "                            c += 1\n",
    "                    fout.write(\">{}\\n{}\\n\".format(row[\"subject_id\"], \"\".join(mapped_seq)))"
   ]
  },
  {
   "cell_type": "code",
   "execution_count": null,
   "id": "4d0dab6e",
   "metadata": {
    "pycharm": {
     "name": "#%%\n"
    }
   },
   "outputs": [],
   "source": []
  },
  {
   "cell_type": "code",
   "execution_count": null,
   "id": "c714b0bb",
   "metadata": {
    "pycharm": {
     "name": "#%%\n"
    }
   },
   "outputs": [],
   "source": []
  },
  {
   "cell_type": "code",
   "execution_count": null,
   "id": "87b3516f",
   "metadata": {
    "pycharm": {
     "name": "#%%\n"
    }
   },
   "outputs": [],
   "source": []
  },
  {
   "cell_type": "code",
   "execution_count": null,
   "id": "5e1eb76f",
   "metadata": {
    "pycharm": {
     "name": "#%%\n"
    }
   },
   "outputs": [],
   "source": []
  }
 ],
 "metadata": {
  "kernelspec": {
   "display_name": "Python 3 (ipykernel)",
   "language": "python",
   "name": "python3"
  },
  "language_info": {
   "codemirror_mode": {
    "name": "ipython",
    "version": 3
   },
   "file_extension": ".py",
   "mimetype": "text/x-python",
   "name": "python",
   "nbconvert_exporter": "python",
   "pygments_lexer": "ipython3",
   "version": "3.9.12"
  }
 },
 "nbformat": 4,
 "nbformat_minor": 5
}