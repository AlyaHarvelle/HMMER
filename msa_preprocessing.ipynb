{
 "cells": [
  {
   "cell_type": "code",
   "execution_count": 1,
   "metadata": {},
   "outputs": [],
   "source": [
    "# Set the path and input parameters\n",
    "import os\n",
    "directory = os.getcwd() # the main directory of the project\n",
    "\n",
    "# The credentials for the remote cluster\n",
    "name = 'alina'\n",
    "server = 'ecate'"
   ]
  },
  {
   "cell_type": "code",
   "execution_count": 2,
   "metadata": {
    "ExecuteTime": {
     "end_time": "2023-10-02T07:55:55.284130Z",
     "start_time": "2023-10-02T07:55:53.625394Z"
    }
   },
   "outputs": [],
   "source": [
    "# Import the libraries and functions\n",
    "from functions import *"
   ]
  },
  {
   "cell_type": "markdown",
   "metadata": {},
   "source": [
    "## Load the data\n",
    "We start with uploading the file containing information regarding the disordered regions (`curated.mjson`) which further will be used to filter the instances from the input."
   ]
  },
  {
   "cell_type": "code",
   "execution_count": 3,
   "metadata": {},
   "outputs": [],
   "source": [
    "# Set the maximum width of the columns\n",
    "pd.set_option('display.max_colwidth', 20)"
   ]
  },
  {
   "cell_type": "code",
   "execution_count": 4,
   "metadata": {
    "ExecuteTime": {
     "end_time": "2023-10-02T07:55:59.517844Z",
     "start_time": "2023-10-02T07:55:59.424142Z"
    }
   },
   "outputs": [
    {
     "name": "stdout",
     "output_type": "stream",
     "text": [
      "The number of instances in the Curated Disprot database: 3151\n"
     ]
    },
    {
     "data": {
      "text/html": [
       "<div>\n",
       "<style scoped>\n",
       "    .dataframe tbody tr th:only-of-type {\n",
       "        vertical-align: middle;\n",
       "    }\n",
       "\n",
       "    .dataframe tbody tr th {\n",
       "        vertical-align: top;\n",
       "    }\n",
       "\n",
       "    .dataframe thead th {\n",
       "        text-align: right;\n",
       "    }\n",
       "</style>\n",
       "<table border=\"1\" class=\"dataframe\">\n",
       "  <thead>\n",
       "    <tr style=\"text-align: right;\">\n",
       "      <th></th>\n",
       "      <th>acc</th>\n",
       "      <th>evidence</th>\n",
       "      <th>feature</th>\n",
       "      <th>source</th>\n",
       "      <th>start</th>\n",
       "      <th>end</th>\n",
       "      <th>length</th>\n",
       "      <th>region</th>\n",
       "    </tr>\n",
       "  </thead>\n",
       "  <tbody>\n",
       "    <tr>\n",
       "      <th>6927</th>\n",
       "      <td>P03265</td>\n",
       "      <td>curated</td>\n",
       "      <td>disorder</td>\n",
       "      <td>disprot</td>\n",
       "      <td>294</td>\n",
       "      <td>334</td>\n",
       "      <td>41</td>\n",
       "      <td>P03265_294-334</td>\n",
       "    </tr>\n",
       "    <tr>\n",
       "      <th>6928</th>\n",
       "      <td>P03265</td>\n",
       "      <td>curated</td>\n",
       "      <td>disorder</td>\n",
       "      <td>disprot</td>\n",
       "      <td>454</td>\n",
       "      <td>464</td>\n",
       "      <td>11</td>\n",
       "      <td>P03265_454-464</td>\n",
       "    </tr>\n",
       "    <tr>\n",
       "      <th>6929</th>\n",
       "      <td>P49913</td>\n",
       "      <td>curated</td>\n",
       "      <td>disorder</td>\n",
       "      <td>disprot</td>\n",
       "      <td>134</td>\n",
       "      <td>170</td>\n",
       "      <td>37</td>\n",
       "      <td>P49913_134-170</td>\n",
       "    </tr>\n",
       "    <tr>\n",
       "      <th>6930</th>\n",
       "      <td>P03045</td>\n",
       "      <td>curated</td>\n",
       "      <td>disorder</td>\n",
       "      <td>disprot</td>\n",
       "      <td>1</td>\n",
       "      <td>107</td>\n",
       "      <td>107</td>\n",
       "      <td>P03045_1-107</td>\n",
       "    </tr>\n",
       "    <tr>\n",
       "      <th>6931</th>\n",
       "      <td>P00004</td>\n",
       "      <td>curated</td>\n",
       "      <td>disorder</td>\n",
       "      <td>disprot</td>\n",
       "      <td>1</td>\n",
       "      <td>105</td>\n",
       "      <td>105</td>\n",
       "      <td>P00004_1-105</td>\n",
       "    </tr>\n",
       "  </tbody>\n",
       "</table>\n",
       "</div>"
      ],
      "text/plain": [
       "         acc evidence   feature   source  start  end  length          region\n",
       "6927  P03265  curated  disorder  disprot    294  334      41  P03265_294-334\n",
       "6928  P03265  curated  disorder  disprot    454  464      11  P03265_454-464\n",
       "6929  P49913  curated  disorder  disprot    134  170      37  P49913_134-170\n",
       "6930  P03045  curated  disorder  disprot      1  107     107    P03045_1-107\n",
       "6931  P00004  curated  disorder  disprot      1  105     105    P00004_1-105"
      ]
     },
     "execution_count": 4,
     "metadata": {},
     "output_type": "execute_result"
    }
   ],
   "source": [
    "# Create a dataframe with DisProt instances from curated.mjson database\n",
    "data = list()\n",
    "\n",
    "with open('curated.mjson', 'r') as file:\n",
    "    for line in file:\n",
    "        obj = json.loads(line)\n",
    "        rows = json_parser(obj)\n",
    "        data.extend(rows)\n",
    "\n",
    "curated_disprot_df = pd.DataFrame(data)\n",
    "\n",
    "# Calculate the length of disordered regions\n",
    "curated_disprot_df['length'] = curated_disprot_df['end'] - curated_disprot_df['start'] + 1\n",
    "curated_disprot_df = curated_disprot_df[(curated_disprot_df['feature'] == 'disorder') & (curated_disprot_df['source'] == 'disprot')]\n",
    "curated_disprot_df['region'] = curated_disprot_df.apply(lambda row: '{}_{}-{}'.format(row['acc'], row['start'], row['end']), axis=1)\n",
    "curated_disprot_df.to_csv('curated_disprot.csv', index=False)\n",
    "\n",
    "print('The number of instances in the Curated Disprot database: {}'.format(len(curated_disprot_df)))\n",
    "curated_disprot_df.head()"
   ]
  },
  {
   "cell_type": "markdown",
   "metadata": {},
   "source": [
    "Apart from separate columns with the Uniprot ID, database related information and the start-end position of the disordered region we create a `region` column comprising the ID, start and end position. This will be used for further disordered regions selection.\n",
    "\n",
    "Then we upload the XML file with the BLAST results and filter it using the previously loaded `curated_disprot` dataframe."
   ]
  },
  {
   "cell_type": "code",
   "execution_count": 5,
   "metadata": {},
   "outputs": [],
   "source": [
    "# Set the path to the input XML files\n",
    "database_path = '{}/databases/uniprot'.format(directory)\n",
    "files = os.listdir(database_path)\n",
    "\n",
    "common_df = pd.DataFrame()\n",
    "\n",
    "# Merge files into one dataframe\n",
    "for file_name in files:\n",
    "    file_path = os.path.join(database_path, file_name)\n",
    "    df = blast_parser(file_path) # iterates over XML files\n",
    "    common_df = pd.concat([common_df, df], ignore_index=True)"
   ]
  },
  {
   "cell_type": "code",
   "execution_count": 6,
   "metadata": {},
   "outputs": [
    {
     "name": "stdout",
     "output_type": "stream",
     "text": [
      "The number of rows with the disordered regions: 7393\n"
     ]
    },
    {
     "data": {
      "text/html": [
       "<div>\n",
       "<style scoped>\n",
       "    .dataframe tbody tr th:only-of-type {\n",
       "        vertical-align: middle;\n",
       "    }\n",
       "\n",
       "    .dataframe tbody tr th {\n",
       "        vertical-align: top;\n",
       "    }\n",
       "\n",
       "    .dataframe thead th {\n",
       "        text-align: right;\n",
       "    }\n",
       "</style>\n",
       "<table border=\"1\" class=\"dataframe\">\n",
       "  <thead>\n",
       "    <tr style=\"text-align: right;\">\n",
       "      <th></th>\n",
       "      <th>query_id</th>\n",
       "      <th>subject_id</th>\n",
       "      <th>query_len</th>\n",
       "      <th>hsp_len</th>\n",
       "      <th>query_seq</th>\n",
       "      <th>subject_seq</th>\n",
       "      <th>query_start</th>\n",
       "      <th>query_end</th>\n",
       "      <th>subject_start</th>\n",
       "      <th>subject_end</th>\n",
       "      <th>eval</th>\n",
       "      <th>bit_score</th>\n",
       "      <th>count</th>\n",
       "    </tr>\n",
       "  </thead>\n",
       "  <tbody>\n",
       "    <tr>\n",
       "      <th>200</th>\n",
       "      <td>Q9H832</td>\n",
       "      <td>A0A6J2FM24</td>\n",
       "      <td>354</td>\n",
       "      <td>356</td>\n",
       "      <td>MAESPTEEAATA--GA...</td>\n",
       "      <td>MAESPTEEAATATAGA...</td>\n",
       "      <td>1</td>\n",
       "      <td>354</td>\n",
       "      <td>1</td>\n",
       "      <td>354</td>\n",
       "      <td>0.0</td>\n",
       "      <td>1851.0</td>\n",
       "      <td>200</td>\n",
       "    </tr>\n",
       "    <tr>\n",
       "      <th>201</th>\n",
       "      <td>Q9H832</td>\n",
       "      <td>A0A3Q7W6Y2</td>\n",
       "      <td>354</td>\n",
       "      <td>356</td>\n",
       "      <td>MAESPTEEAATA--GA...</td>\n",
       "      <td>MAESPTEEAATATAGA...</td>\n",
       "      <td>1</td>\n",
       "      <td>354</td>\n",
       "      <td>1</td>\n",
       "      <td>354</td>\n",
       "      <td>0.0</td>\n",
       "      <td>1851.0</td>\n",
       "      <td>200</td>\n",
       "    </tr>\n",
       "    <tr>\n",
       "      <th>202</th>\n",
       "      <td>Q9H832</td>\n",
       "      <td>A0A2U3VK69</td>\n",
       "      <td>354</td>\n",
       "      <td>356</td>\n",
       "      <td>MAESPTEEAATA--GA...</td>\n",
       "      <td>MAESPTEEAATATAGA...</td>\n",
       "      <td>1</td>\n",
       "      <td>354</td>\n",
       "      <td>1</td>\n",
       "      <td>354</td>\n",
       "      <td>0.0</td>\n",
       "      <td>1851.0</td>\n",
       "      <td>200</td>\n",
       "    </tr>\n",
       "    <tr>\n",
       "      <th>203</th>\n",
       "      <td>Q9H832</td>\n",
       "      <td>A0A2Y9JVH5</td>\n",
       "      <td>354</td>\n",
       "      <td>358</td>\n",
       "      <td>MAESPTEEAATA----...</td>\n",
       "      <td>MAESPTEEAATATATA...</td>\n",
       "      <td>1</td>\n",
       "      <td>354</td>\n",
       "      <td>1</td>\n",
       "      <td>356</td>\n",
       "      <td>0.0</td>\n",
       "      <td>1854.0</td>\n",
       "      <td>200</td>\n",
       "    </tr>\n",
       "    <tr>\n",
       "      <th>204</th>\n",
       "      <td>Q9H832</td>\n",
       "      <td>A0A8C7ALE4</td>\n",
       "      <td>354</td>\n",
       "      <td>358</td>\n",
       "      <td>MAESPTEEAATA----...</td>\n",
       "      <td>MAESPTEEAATATATA...</td>\n",
       "      <td>1</td>\n",
       "      <td>354</td>\n",
       "      <td>1</td>\n",
       "      <td>356</td>\n",
       "      <td>0.0</td>\n",
       "      <td>1854.0</td>\n",
       "      <td>200</td>\n",
       "    </tr>\n",
       "  </tbody>\n",
       "</table>\n",
       "</div>"
      ],
      "text/plain": [
       "    query_id  subject_id  query_len  hsp_len            query_seq  \\\n",
       "200   Q9H832  A0A6J2FM24        354      356  MAESPTEEAATA--GA...   \n",
       "201   Q9H832  A0A3Q7W6Y2        354      356  MAESPTEEAATA--GA...   \n",
       "202   Q9H832  A0A2U3VK69        354      356  MAESPTEEAATA--GA...   \n",
       "203   Q9H832  A0A2Y9JVH5        354      358  MAESPTEEAATA----...   \n",
       "204   Q9H832  A0A8C7ALE4        354      358  MAESPTEEAATA----...   \n",
       "\n",
       "             subject_seq  query_start  query_end  subject_start  subject_end  \\\n",
       "200  MAESPTEEAATATAGA...            1        354              1          354   \n",
       "201  MAESPTEEAATATAGA...            1        354              1          354   \n",
       "202  MAESPTEEAATATAGA...            1        354              1          354   \n",
       "203  MAESPTEEAATATATA...            1        354              1          356   \n",
       "204  MAESPTEEAATATATA...            1        354              1          356   \n",
       "\n",
       "     eval  bit_score  count  \n",
       "200   0.0     1851.0    200  \n",
       "201   0.0     1851.0    200  \n",
       "202   0.0     1851.0    200  \n",
       "203   0.0     1854.0    200  \n",
       "204   0.0     1854.0    200  "
      ]
     },
     "execution_count": 6,
     "metadata": {},
     "output_type": "execute_result"
    }
   ],
   "source": [
    "# Filter only disordered regions in the common_df filtering with the Uniprot IDs from the curated_disordered\n",
    "disordered_df = common_df[common_df['query_id'].isin(curated_disprot_df['acc'])]\n",
    "disordered_df.to_csv('disordered_df.csv', index=False)\n",
    "\n",
    "print('The number of rows with the disordered regions: {}'.format(len(disordered_df)))\n",
    "disordered_df.head()"
   ]
  },
  {
   "cell_type": "markdown",
   "metadata": {},
   "source": [
    "## 1. Multiple Sequence Alignment\n",
    "\n",
    "Within this framework, we will compare the MSA results obtained directly from the BLAST output with that generated from the ClustalOmega.\n",
    "\n",
    "### 1.1 MSA from the BLAST output (local alignment)\n",
    "This code iterates through each row of the dataframe for a previously selected query ID. If there is no gap, it maps the amino acid from the subject sequence to the corresponding position in the query sequence, starting from the beginning of the query sequence. The resulting mapped amino acids are then added to a new count. In the end we have a FASTA file with the subject IDs and the aligned sequences.\n",
    "\n",
    "We construct a simple dataframe of query IDs and sequences. They will be used to set the maximum length of the alignment."
   ]
  },
  {
   "cell_type": "code",
   "execution_count": 7,
   "metadata": {
    "ExecuteTime": {
     "end_time": "2023-10-02T07:57:48.083609Z",
     "start_time": "2023-10-02T07:56:11.171489Z"
    }
   },
   "outputs": [
    {
     "name": "stdout",
     "output_type": "stream",
     "text": [
      "The number of proteins with the disordered regions: 39\n"
     ]
    }
   ],
   "source": [
    "# Create a dataframe of disprot sequences\n",
    "uniprot_ids = disordered_df['query_id'].unique()\n",
    "\n",
    "data = []\n",
    "\n",
    "for i in uniprot_ids:\n",
    "    query_sequence = disordered_df[disordered_df['query_id'] == i]['query_seq'].unique()[0]\n",
    "    query_sequence = re.sub(r'[-]', '', query_sequence)\n",
    "    query_len = disordered_df[disordered_df['query_id'] == i]['query_len'].unique()[0]\n",
    "    \n",
    "    data.append([i, query_sequence, query_len])\n",
    "\n",
    "disprot_sequences = pd.DataFrame(data, columns=['disprot_id', 'query_sequence', 'query_len'])\n",
    "print('The number of proteins with the disordered regions: {}'.format(len(disprot_sequences)))"
   ]
  },
  {
   "cell_type": "code",
   "execution_count": 8,
   "metadata": {},
   "outputs": [
    {
     "name": "stdout",
     "output_type": "stream",
     "text": [
      "0 Q9H832 354 MAE ... LRV\n",
      "1 Q8IW19 511 MSG ... KRK\n",
      "2 Q99967 270 MAD ... VSC\n",
      "3 Q9CXY6 390 MRG ... TQE\n",
      "4 Q8R464 388 PLL ... FFI\n",
      "5 Q8K4J6 964 QSV ... SCL\n",
      "6 Q9BYI3 521 MFT ... STD\n",
      "7 Q9BYF1 805 MSS ... TSF\n",
      "8 Q8WUG5 538 MAS ... PAL\n",
      "9 Q9H0E2 274 QRG ... EEP\n",
      "10 Q84852 1225 TSV ... HVH\n",
      "11 Q5VZK9 1371 MTE ... IFV\n",
      "12 Q8IU57 520 MAG ... YMA\n",
      "13 Q5T4W7 220 MEL ... CLG\n",
      "14 Q93KQ4 116 MGS ... QKL\n",
      "15 Q86FP8 80 MKH ... NQD\n",
      "16 P00742 488 GES ... EVI\n",
      "17 P01019 476 MAP ... PLS\n",
      "18 O88339 575 MST ... FLL\n",
      "19 O35274 817 MMK ... NST\n",
      "20 P07342 687 YSS ... GKH\n",
      "21 O15922 447 AGG ... RHP\n",
      "22 O00308 870 MAS ... GQE\n",
      "23 O14727 1248 MDA ... TLE\n",
      "24 P00736 705 WLL ... EED\n",
      "25 P00392 561 MTH ... CAG\n",
      "26 O43474 513 MAV ... RHF\n",
      "27 O43791 374 MSR ... KQS\n",
      "28 J8TM36 277 MQK ... RSS\n",
      "29 A1L1Q4 408 LSF ... MWR\n",
      "30 A4L7I2 2474 MDS ... GPK\n",
      "31 S7W634 831 TSE ... RHL\n",
      "32 Q9Z2F5 430 MSG ... DQL\n",
      "33 S6B291 466 YAM ... PGK\n",
      "34 O14958 399 MKR ... INT\n",
      "35 A8AZZ3 195 MKK ... AVK\n",
      "36 P04370-5 169 MAS ... ARR\n",
      "37 O00585 134 MAQ ... KGP\n",
      "38 P01097 85 MLP ... MTK\n"
     ]
    }
   ],
   "source": [
    "# Build the MSA from the BLAST output\n",
    "for ind_q, row_q in disprot_sequences.iterrows():\n",
    "    query_id = row_q['disprot_id']\n",
    "    query_sequence = row_q['query_sequence']\n",
    "    query_len = row_q['query_len']\n",
    "    selected_dis = disordered_df[disordered_df['query_id'].isin([query_id])]\n",
    "    print(ind_q, query_id, query_len, query_sequence[:3], '...', query_sequence[-3:])\n",
    "    \n",
    "    # Save the files\n",
    "    out_file = '{}/results/alignments/output_files/blast/{}_blast.fasta'.format(directory, query_id)\n",
    "    \n",
    "    # Initialize the first row with a length of the query sequence\n",
    "    with open(out_file, 'w') as fout:\n",
    "        mapped_seq = ['-'] * query_len\n",
    "\n",
    "        # Write the header line for the query sequence\n",
    "        fout.write('>{}\\n'.format(query_id))\n",
    "\n",
    "        # Map the query sequence to the mapped_seq list\n",
    "        c = 0\n",
    "        for l_q in query_sequence:\n",
    "            if l_q != ' ' and l_q != '-':\n",
    "                mapped_seq[c] = l_q\n",
    "                c += 1\n",
    "\n",
    "        # Write the mapped_seq sequence to the output file\n",
    "        fout.write('{}\\n'.format(''.join(mapped_seq)))\n",
    "\n",
    "        # Map the subject sequences to the mapped_seq list and write to the output file\n",
    "        for index, row in selected_dis.iterrows():\n",
    "            if query_id == row['subject_id']:\n",
    "                continue\n",
    "                \n",
    "            c = 0\n",
    "            query_start = row['query_start']\n",
    "            for l_q, l_s in zip(row['query_seq'], row['subject_seq']):\n",
    "                if l_q != ' ' and l_q != '-': # if the initial aa from query is not empty or gapped\n",
    "                    if query_start + c - 1 < len(mapped_seq): # added the condition\n",
    "                        mapped_seq[query_start + c - 1] = l_s if l_s != ' ' else '-' # assign aa to subject\n",
    "                        c += 1\n",
    "            fout.write('>{}\\n{}\\n'.format(row['subject_id'], ''.join(mapped_seq)))"
   ]
  },
  {
   "cell_type": "markdown",
   "metadata": {},
   "source": [
    "### 1.2. MSA from the ClustalOmega (global alignment)\n",
    "\n",
    "Initially, we need to preprocess the dataframe into a suitable input format file for ClustalOmega. For each Uniprot ID (query and all the subjects) we extract the sequence from Uniprot using `get_fasta` function. \n",
    "\n",
    "These sequences are NOT aligned at that time!"
   ]
  },
  {
   "cell_type": "code",
   "execution_count": 9,
   "metadata": {},
   "outputs": [],
   "source": [
    "# # RUNS FOR A LONG TIME - 4-5 minutes for one MSA\n",
    "# # Retrieve the unaligned sequences from the local machine\n",
    "# for d_id, d_row in disprot_sequences.iterrows():\n",
    "#     id_split = d_row['disprot_id']\n",
    "#     seq = get_fasta(id_split) # the whole sequence including the name of the protein\n",
    "#     lines = seq.split('\\n')\n",
    "#     seq_join = ''.join(lines[1:]) # only the sequence of amino acids\n",
    "#     output_file = '{}/results/alignments/input_files/{}_input.fasta'.format(directory, id_split)\n",
    "    \n",
    "#     with open(output_file, 'w') as fout:\n",
    "#         selected_dis = disordered_df[disordered_df['query_id'].isin([id_split])]\n",
    "#         # Write the query sequence to the output file as the first line\n",
    "#         fout.write('>{}\\n{}\\n'.format(id_split, seq_join))\n",
    "#         print('Retrieving sequences for {} MSA, query sequence length: {}'.format(id_split, len(seq_join)))\n",
    "\n",
    "#         for index, row in selected_dis.iterrows():\n",
    "#             accession = row['subject_id']\n",
    "#             sequence = get_fasta(accession) # the whole sequence including the name of the protein\n",
    "#             lines_subj = sequence.split('\\n')\n",
    "#             seq_subj_join = ''.join(lines_subj[1:]) # only the sequence of amino acids\n",
    "#             print(index, accession, len(seq_subj_join))\n",
    "#             if id_split == accession: # remove duplicates of the query sequence\n",
    "#                 continue\n",
    "#             fout.write(sequence)"
   ]
  },
  {
   "cell_type": "markdown",
   "metadata": {},
   "source": [
    "After obtaining the sequences, we build the ClustalOmega MSA using the function `clustalo_generator`."
   ]
  },
  {
   "cell_type": "code",
   "execution_count": 10,
   "metadata": {},
   "outputs": [],
   "source": [
    "# # Run the ClustalOmega generator - 1-5 minutes for an alignment\n",
    "# input_folder = '{}/results/alignments/input_files'.format(directory)\n",
    "# output_folder = '{}/results/alignments/output_files/clustal'.format(directory)\n",
    "\n",
    "# clustalo_generator(input_folder, output_folder)"
   ]
  },
  {
   "cell_type": "markdown",
   "metadata": {},
   "source": [
    "Initially these sequences contain a lot of gaps. However, to properly extract the disordered regions we need that the length of the query sequence will be the length of the whole MSA, and this sequence should not contain any gaps. To process the data we apply the `process_folder` function that removes all the gaps from the first sequence of the ClustalOmega MSA."
   ]
  },
  {
   "cell_type": "code",
   "execution_count": 11,
   "metadata": {},
   "outputs": [],
   "source": [
    "# Remove gaps from all ClustalOmega MSAs\n",
    "folder = '{}/results/alignments/output_files/clustal'.format(directory)\n",
    "\n",
    "process_folder(folder)"
   ]
  },
  {
   "cell_type": "markdown",
   "metadata": {},
   "source": [
    "### 1.3 Calculation of statistics\n",
    "In this step, we calculate the occupancy and entropy for each of BLAST and ClustalOmega MSA. Occupancy will show how many gaps are in the certain column whereas the entropy will demonstrate how many varios amino acids are in there. Both these metrics help to derive insights on the quality of the alignment."
   ]
  },
  {
   "cell_type": "code",
   "execution_count": 12,
   "metadata": {
    "ExecuteTime": {
     "end_time": "2023-09-14T09:29:48.997839Z",
     "start_time": "2023-09-14T09:29:48.889688Z"
    }
   },
   "outputs": [],
   "source": [
    "# Set paths to the input alignments fasta files - BLAST and ClustalOmega\n",
    "blast_path = '{}/results/alignments/output_files/blast/'.format(directory)\n",
    "clustal_path = '{}/results/alignments/output_files/clustal/'.format(directory)"
   ]
  },
  {
   "cell_type": "code",
   "execution_count": 13,
   "metadata": {},
   "outputs": [
    {
     "name": "stdout",
     "output_type": "stream",
     "text": [
      "Stored 'blast_stats' (DataFrame)\n",
      "Stored 'clustal_stats' (DataFrame)\n"
     ]
    }
   ],
   "source": [
    "# Run the process_files function\n",
    "blast_stats = process_files(blast_path, 'blast')\n",
    "clustal_stats = process_files(clustal_path, 'clustal')\n",
    "\n",
    "# %store saves data in the memory and provides a quick accession\n",
    "# from the other notebooks in the folder\n",
    "%store blast_stats clustal_stats"
   ]
  },
  {
   "cell_type": "markdown",
   "metadata": {},
   "source": [
    "### 1.4 Calculating and removing redundant regions from MSA\n",
    "We will use CD-Hit tool. Given the aligned sequences as an input and setting the threshold of 62% we will keep only non-redundant regions in MSA."
   ]
  },
  {
   "cell_type": "code",
   "execution_count": 14,
   "metadata": {},
   "outputs": [],
   "source": [
    "# Set output paths and parameters for non-redundant MSAs\n",
    "blast_path_nr = '{}/results/alignments/output_files/blast/non-redundant'.format(directory)\n",
    "clustal_path_nr = '{}/results/alignments/output_files/clustal/non-redundant'.format(directory)\n",
    "\n",
    "red_seqs = []\n",
    "threshold = 0.9 # play with the value\n",
    "word_size = 4"
   ]
  },
  {
   "cell_type": "code",
   "execution_count": 15,
   "metadata": {},
   "outputs": [
    {
     "name": "stdout",
     "output_type": "stream",
     "text": [
      "Non-redundant seqs for P07342: 10 Total no. of seqs: 200 Ratio: 0.05\n",
      "Non-redundant seqs for O14958: 3 Total no. of seqs: 200 Ratio: 0.01\n",
      "Non-redundant seqs for A4L7I2: 1 Total no. of seqs: 200 Ratio: 0.01\n",
      "Non-redundant seqs for Q9BYF1: 22 Total no. of seqs: 200 Ratio: 0.11\n",
      "Non-redundant seqs for Q93KQ4: 10 Total no. of seqs: 73 Ratio: 0.14\n",
      "Non-redundant seqs for P00742: 4 Total no. of seqs: 200 Ratio: 0.02\n",
      "Non-redundant seqs for Q9H832: 9 Total no. of seqs: 200 Ratio: 0.04\n",
      "Non-redundant seqs for Q9CXY6: 1 Total no. of seqs: 200 Ratio: 0.01\n",
      "Non-redundant seqs for P01019: 7 Total no. of seqs: 200 Ratio: 0.04\n",
      "Non-redundant seqs for O14727: 7 Total no. of seqs: 200 Ratio: 0.04\n",
      "Non-redundant seqs for A8AZZ3: 8 Total no. of seqs: 106 Ratio: 0.08\n",
      "Non-redundant seqs for J8TM36: 20 Total no. of seqs: 200 Ratio: 0.10\n",
      "Non-redundant seqs for S7W634: 9 Total no. of seqs: 200 Ratio: 0.04\n",
      "Non-redundant seqs for Q9BYI3: 1 Total no. of seqs: 200 Ratio: 0.01\n",
      "Non-redundant seqs for O15922: 3 Total no. of seqs: 200 Ratio: 0.01\n",
      "Non-redundant seqs for P01097: 77 Total no. of seqs: 200 Ratio: 0.39\n",
      "Non-redundant seqs for Q86FP8: 8 Total no. of seqs: 14 Ratio: 0.57\n",
      "Non-redundant seqs for O43474: 0 Total no. of seqs: 200 Ratio: 0.00\n",
      "Non-redundant seqs for Q8IU57: 1 Total no. of seqs: 200 Ratio: 0.01\n",
      "Non-redundant seqs for P00392: 1 Total no. of seqs: 200 Ratio: 0.01\n",
      "Non-redundant seqs for A1L1Q4: 44 Total no. of seqs: 200 Ratio: 0.22\n",
      "Non-redundant seqs for O00585: 41 Total no. of seqs: 200 Ratio: 0.20\n",
      "Non-redundant seqs for Q99967: 2 Total no. of seqs: 200 Ratio: 0.01\n",
      "Non-redundant seqs for Q8R464: 2 Total no. of seqs: 200 Ratio: 0.01\n",
      "Non-redundant seqs for Q8IW19: 5 Total no. of seqs: 200 Ratio: 0.03\n",
      "Non-redundant seqs for P00736: 23 Total no. of seqs: 200 Ratio: 0.12\n",
      "Non-redundant seqs for Q84852: 4 Total no. of seqs: 200 Ratio: 0.02\n",
      "Non-redundant seqs for S6B291: 18 Total no. of seqs: 200 Ratio: 0.09\n",
      "Non-redundant seqs for O00308: 1 Total no. of seqs: 200 Ratio: 0.01\n",
      "Non-redundant seqs for O35274: 1 Total no. of seqs: 200 Ratio: 0.01\n",
      "Non-redundant seqs for Q5VZK9: 1 Total no. of seqs: 200 Ratio: 0.01\n",
      "Non-redundant seqs for Q8WUG5: 1 Total no. of seqs: 200 Ratio: 0.01\n",
      "Non-redundant seqs for Q5T4W7: 27 Total no. of seqs: 200 Ratio: 0.14\n",
      "Non-redundant seqs for O43791: 1 Total no. of seqs: 200 Ratio: 0.01\n",
      "Non-redundant seqs for Q9H0E2: 5 Total no. of seqs: 200 Ratio: 0.03\n",
      "Non-redundant seqs for Q8K4J6: 1 Total no. of seqs: 200 Ratio: 0.01\n",
      "Non-redundant seqs for Q9Z2F5: 1 Total no. of seqs: 200 Ratio: 0.01\n",
      "Non-redundant seqs for P04370-5: 3 Total no. of seqs: 201 Ratio: 0.01\n",
      "Non-redundant seqs for O88339: 1 Total no. of seqs: 200 Ratio: 0.01\n"
     ]
    }
   ],
   "source": [
    "# Select non-redundant sequences for BLAST MSAs\n",
    "for file in os.listdir(blast_path):\n",
    "    if file.endswith('.fasta'):\n",
    "        input_file=os.path.join(blast_path, file)\n",
    "        output_file=os.path.join(blast_path_nr, file)\n",
    "        protein_id = os.path.splitext(file)[0].split('_')[0]\n",
    "        calc_red = calculate_red(input_file, output_file, threshold, word_size, protein_id)"
   ]
  },
  {
   "cell_type": "code",
   "execution_count": 16,
   "metadata": {},
   "outputs": [
    {
     "name": "stdout",
     "output_type": "stream",
     "text": [
      "Non-redundant seqs for P01097: 6 Total no. of seqs: 195 Ratio: 0.03\n",
      "Non-redundant seqs for O00308: 1 Total no. of seqs: 191 Ratio: 0.01\n",
      "Non-redundant seqs for P00392: 1 Total no. of seqs: 185 Ratio: 0.01\n",
      "Non-redundant seqs for O43791: 1 Total no. of seqs: 193 Ratio: 0.01\n",
      "Non-redundant seqs for O00585: 23 Total no. of seqs: 191 Ratio: 0.12\n",
      "Non-redundant seqs for A1L1Q4: 16 Total no. of seqs: 191 Ratio: 0.08\n",
      "Non-redundant seqs for Q9H0E2: 6 Total no. of seqs: 195 Ratio: 0.03\n",
      "Non-redundant seqs for S6B291: 3 Total no. of seqs: 193 Ratio: 0.02\n",
      "Non-redundant seqs for A4L7I2: 1 Total no. of seqs: 200 Ratio: 0.01\n",
      "Non-redundant seqs for Q8IW19: 1 Total no. of seqs: 190 Ratio: 0.01\n",
      "Non-redundant seqs for Q9Z2F5: 1 Total no. of seqs: 192 Ratio: 0.01\n",
      "Non-redundant seqs for S7W634: 2 Total no. of seqs: 196 Ratio: 0.01\n",
      "Non-redundant seqs for Q8K4J6: 1 Total no. of seqs: 194 Ratio: 0.01\n",
      "Non-redundant seqs for P04370-5: 1 Total no. of seqs: 192 Ratio: 0.01\n",
      "Non-redundant seqs for O43474: 1 Total no. of seqs: 188 Ratio: 0.01\n",
      "Non-redundant seqs for O14727: 1 Total no. of seqs: 193 Ratio: 0.01\n",
      "Non-redundant seqs for Q9BYF1: 1 Total no. of seqs: 196 Ratio: 0.01\n",
      "Non-redundant seqs for P01019: 3 Total no. of seqs: 192 Ratio: 0.02\n",
      "Non-redundant seqs for P07342: 1 Total no. of seqs: 194 Ratio: 0.01\n",
      "Non-redundant seqs for Q99967: 1 Total no. of seqs: 193 Ratio: 0.01\n",
      "Non-redundant seqs for Q9H832: 1 Total no. of seqs: 190 Ratio: 0.01\n",
      "Non-redundant seqs for A8AZZ3: 2 Total no. of seqs: 102 Ratio: 0.02\n",
      "Non-redundant seqs for O14958: 3 Total no. of seqs: 194 Ratio: 0.02\n",
      "Non-redundant seqs for Q8WUG5: 1 Total no. of seqs: 189 Ratio: 0.01\n",
      "Non-redundant seqs for Q5T4W7: 3 Total no. of seqs: 190 Ratio: 0.02\n",
      "Non-redundant seqs for J8TM36: 7 Total no. of seqs: 186 Ratio: 0.04\n",
      "Non-redundant seqs for O88339: 1 Total no. of seqs: 190 Ratio: 0.01\n",
      "Non-redundant seqs for O15922: 2 Total no. of seqs: 181 Ratio: 0.01\n",
      "Non-redundant seqs for Q9BYI3: 1 Total no. of seqs: 192 Ratio: 0.01\n",
      "Non-redundant seqs for Q8IU57: 1 Total no. of seqs: 190 Ratio: 0.01\n",
      "Non-redundant seqs for Q8R464: 1 Total no. of seqs: 194 Ratio: 0.01\n",
      "Non-redundant seqs for O35274: 1 Total no. of seqs: 193 Ratio: 0.01\n",
      "Non-redundant seqs for Q9CXY6: 1 Total no. of seqs: 195 Ratio: 0.01\n",
      "Non-redundant seqs for Q84852: 1 Total no. of seqs: 200 Ratio: 0.01\n",
      "Non-redundant seqs for Q86FP8: 2 Total no. of seqs: 13 Ratio: 0.15\n",
      "Non-redundant seqs for P00736: 20 Total no. of seqs: 190 Ratio: 0.11\n",
      "Non-redundant seqs for Q5VZK9: 1 Total no. of seqs: 195 Ratio: 0.01\n",
      "Non-redundant seqs for Q93KQ4: 1 Total no. of seqs: 62 Ratio: 0.02\n",
      "Non-redundant seqs for P00742: 2 Total no. of seqs: 192 Ratio: 0.01\n"
     ]
    }
   ],
   "source": [
    "# Select non-redundant sequences for ClustalOmega MSAs\n",
    "for file in os.listdir(clustal_path):\n",
    "    if file.endswith('.fasta'):\n",
    "        input_file=os.path.join(clustal_path, file)\n",
    "        output_file=os.path.join(clustal_path_nr, file)\n",
    "        protein_id = os.path.splitext(file)[0].split('_')[0]\n",
    "        calc_red = calculate_red(input_file, output_file, threshold, word_size, protein_id)"
   ]
  },
  {
   "cell_type": "markdown",
   "metadata": {
    "ExecuteTime": {
     "end_time": "2023-08-02T13:49:05.791602Z",
     "start_time": "2023-08-02T13:49:05.786460Z"
    }
   },
   "source": [
    "### 1.5 Defining disordered regions in MSA\n",
    "\n",
    "Here we will look at the positions of disordered regions in an alignment. Then we'll extract these regions for the separate analysis.\n",
    "\n",
    "### 1.5.1 Define disordered regions for the initial MSAs"
   ]
  },
  {
   "cell_type": "code",
   "execution_count": 17,
   "metadata": {},
   "outputs": [],
   "source": [
    "# Set the output path for the disordered regions for BLAST and ClustalOmega MSAs\n",
    "out_dir_blast = '{}/results/alignments/output_files/disordered/blast'.format(directory)\n",
    "out_dir_clustal = '{}/results/alignments/output_files/disordered/clustal'.format(directory)"
   ]
  },
  {
   "cell_type": "code",
   "execution_count": 18,
   "metadata": {},
   "outputs": [
    {
     "name": "stdout",
     "output_type": "stream",
     "text": [
      "Applying function for region: P07342_580-595.\n",
      "Applying function for region: P07342_647-687.\n",
      "Applying function for region: O14958_371-399.\n",
      "Applying function for region: A4L7I2_1658-1856.\n",
      "Applying function for region: Q9BYF1_769-805.\n",
      "Applying function for region: Q93KQ4_51-81.\n",
      "Applying function for region: P00742_90-126.\n",
      "Applying function for region: Q9H832_1-99.\n",
      "Applying function for region: Q9H832_327-354.\n",
      "Applying function for region: Q9CXY6_29-44.\n",
      "Applying function for region: Q9CXY6_347-390.\n",
      "Applying function for region: P01019_44-64.\n",
      "Applying function for region: P01019_436-450.\n",
      "Applying function for region: O14727_1-104.\n",
      "Applying function for region: A8AZZ3_24-44.\n",
      "Applying function for region: A8AZZ3_116-134.\n",
      "Applying function for region: A8AZZ3_146-195.\n",
      "Applying function for region: J8TM36_236-249.\n",
      "Applying function for region: S7W634_1-32.\n",
      "Applying function for region: Q9BYI3_149-253.\n",
      "Applying function for region: O15922_1-89.\n",
      "Applying function for region: O15922_230-240.\n",
      "Applying function for region: O15922_315-324.\n",
      "Applying function for region: P01097_28-50.\n",
      "Applying function for region: Q86FP8_20-80.\n",
      "Applying function for region: O43474_1-130.\n",
      "Applying function for region: Q8IU57_270-299.\n",
      "Applying function for region: P00392_550-561.\n",
      "Applying function for region: A1L1Q4_1-71.\n",
      "Applying function for region: O00585_71-111.\n",
      "Applying function for region: Q99967_220-269.\n",
      "Applying function for region: Q8R464_25-120.\n",
      "Applying function for region: Q8IW19_399-420.\n",
      "Applying function for region: Q8IW19_450-511.\n",
      "Applying function for region: P00736_193-305.\n",
      "Applying function for region: Q84852_17-299.\n",
      "Applying function for region: S6B291_240-465.\n",
      "Applying function for region: O00308_662-702.\n",
      "Applying function for region: O35274_1-154.\n",
      "Applying function for region: O35274_417-494.\n",
      "Applying function for region: O35274_584-602.\n",
      "Applying function for region: Q5VZK9_1005-1020.\n",
      "Applying function for region: Q8WUG5_1-105.\n",
      "Applying function for region: Q5T4W7_108-120.\n",
      "Applying function for region: O43791_169-178.\n",
      "Applying function for region: O43791_357-374.\n",
      "Applying function for region: Q9H0E2_1-53.\n",
      "Applying function for region: Q8K4J6_67-98.\n",
      "Applying function for region: Q8K4J6_111-142.\n",
      "Applying function for region: Q8K4J6_155-186.\n",
      "Applying function for region: Q9Z2F5_306-430.\n",
      "Applying function for region: P04370-5_1-169.\n",
      "Applying function for region: O88339_144-575.\n",
      "Done.\n"
     ]
    }
   ],
   "source": [
    "# Iterate through files in the input folder - BLAST\n",
    "for file in os.listdir(blast_path):\n",
    "    if file.endswith('.fasta'):\n",
    "        input_file = os.path.join(blast_path, file)\n",
    "        protein_id = os.path.splitext(file)[0].split('_')[0]\n",
    "\n",
    "        # Extract relevant information based on the protein ID\n",
    "        rows = curated_disprot_df[curated_disprot_df['acc'] == protein_id]\n",
    "\n",
    "        for index, row in rows.iterrows():\n",
    "            region = row['region']\n",
    "            start_positions = [row['start']] \n",
    "            end_positions = [row['end']]\n",
    "\n",
    "            # Output file name (only the region)\n",
    "            output_file_name = '{}.fasta'.format(region)\n",
    "            output_file_path = os.path.join(out_dir_blast, output_file_name)\n",
    "\n",
    "            # Call the function for each row\n",
    "            print('Applying function for region: {}.'.format(region))\n",
    "            select_dis_regions(input_file, protein_id, start_positions, end_positions, region, output_file_path)\n",
    "            \n",
    "print('Done.')"
   ]
  },
  {
   "cell_type": "code",
   "execution_count": 19,
   "metadata": {},
   "outputs": [
    {
     "name": "stdout",
     "output_type": "stream",
     "text": [
      "Applying function for region: P01097_28-50.\n",
      "Applying function for region: O00308_662-702.\n",
      "Applying function for region: P00392_550-561.\n",
      "Applying function for region: O43791_169-178.\n",
      "Applying function for region: O43791_357-374.\n",
      "Applying function for region: O00585_71-111.\n",
      "Applying function for region: A1L1Q4_1-71.\n",
      "Applying function for region: Q9H0E2_1-53.\n",
      "Applying function for region: S6B291_240-465.\n",
      "Applying function for region: A4L7I2_1658-1856.\n",
      "Applying function for region: Q8IW19_399-420.\n",
      "Applying function for region: Q8IW19_450-511.\n",
      "Applying function for region: Q9Z2F5_306-430.\n",
      "Applying function for region: S7W634_1-32.\n",
      "Applying function for region: Q8K4J6_67-98.\n",
      "Applying function for region: Q8K4J6_111-142.\n",
      "Applying function for region: Q8K4J6_155-186.\n",
      "Applying function for region: P04370-5_1-169.\n",
      "Applying function for region: O43474_1-130.\n",
      "Applying function for region: O14727_1-104.\n",
      "Applying function for region: Q9BYF1_769-805.\n",
      "Applying function for region: P01019_44-64.\n",
      "Applying function for region: P01019_436-450.\n",
      "Applying function for region: P07342_580-595.\n",
      "Applying function for region: P07342_647-687.\n",
      "Applying function for region: Q99967_220-269.\n",
      "Applying function for region: Q9H832_1-99.\n",
      "Applying function for region: Q9H832_327-354.\n",
      "Applying function for region: A8AZZ3_24-44.\n",
      "Applying function for region: A8AZZ3_116-134.\n",
      "Applying function for region: A8AZZ3_146-195.\n",
      "Applying function for region: O14958_371-399.\n",
      "Applying function for region: Q8WUG5_1-105.\n",
      "Applying function for region: Q5T4W7_108-120.\n",
      "Applying function for region: J8TM36_236-249.\n",
      "Applying function for region: O88339_144-575.\n",
      "Applying function for region: O15922_1-89.\n",
      "Applying function for region: O15922_230-240.\n",
      "Applying function for region: O15922_315-324.\n",
      "Applying function for region: Q9BYI3_149-253.\n",
      "Applying function for region: Q8IU57_270-299.\n",
      "Applying function for region: Q8R464_25-120.\n",
      "Applying function for region: O35274_1-154.\n",
      "Applying function for region: O35274_417-494.\n",
      "Applying function for region: O35274_584-602.\n",
      "Applying function for region: Q9CXY6_29-44.\n",
      "Applying function for region: Q9CXY6_347-390.\n",
      "Applying function for region: Q84852_17-299.\n",
      "Applying function for region: Q86FP8_20-80.\n",
      "Applying function for region: P00736_193-305.\n",
      "Applying function for region: Q5VZK9_1005-1020.\n",
      "Applying function for region: Q93KQ4_51-81.\n",
      "Applying function for region: P00742_90-126.\n",
      "Done.\n"
     ]
    }
   ],
   "source": [
    "# Iterate through files in the input folder - ClustalOmega\n",
    "for file in os.listdir(clustal_path):\n",
    "    if file.endswith('.fasta'):\n",
    "        input_file = os.path.join(clustal_path, file)\n",
    "        protein_id = os.path.splitext(file)[0].split('_')[0]\n",
    "\n",
    "        # Extract relevant information based on the protein ID\n",
    "        rows = curated_disprot_df[curated_disprot_df['acc'] == protein_id]\n",
    "        \n",
    "        for index, row in rows.iterrows():\n",
    "            region = row['region']\n",
    "            start_positions = [row['start']] \n",
    "            end_positions = [row['end']]\n",
    "\n",
    "            # Output file name (only the region)\n",
    "            output_file_name = '{}.fasta'.format(region)\n",
    "            output_file_path = os.path.join(out_dir_clustal, output_file_name)\n",
    "\n",
    "            # Call the function for each row\n",
    "            print('Applying function for region: {}.'.format(region))\n",
    "            select_dis_regions(input_file, protein_id, start_positions, end_positions, region, output_file_path)\n",
    "            \n",
    "print('Done.')"
   ]
  },
  {
   "cell_type": "markdown",
   "metadata": {},
   "source": [
    "### 1.5.2 Define disordered regions for the non-redundant MSAs"
   ]
  },
  {
   "cell_type": "code",
   "execution_count": 20,
   "metadata": {},
   "outputs": [],
   "source": [
    "# Set the output path for the disordered regions for BLAST and ClustalOmega MSAs\n",
    "out_dir_blast_nr = '{}/results/alignments/output_files/disordered/blast/non-redundant'.format(directory)\n",
    "out_dir_clustal_nr = '{}/results/alignments/output_files/disordered/clustal/non-redundant'.format(directory)"
   ]
  },
  {
   "cell_type": "code",
   "execution_count": 21,
   "metadata": {
    "ExecuteTime": {
     "end_time": "2023-08-21T07:09:47.036332Z",
     "start_time": "2023-08-21T07:09:47.019014Z"
    }
   },
   "outputs": [
    {
     "name": "stdout",
     "output_type": "stream",
     "text": [
      "Applying function for region: P07342_580-595.\n",
      "Applying function for region: P07342_647-687.\n",
      "Applying function for region: O14958_371-399.\n",
      "Applying function for region: A4L7I2_1658-1856.\n",
      "Applying function for region: Q9BYF1_769-805.\n",
      "Applying function for region: Q93KQ4_51-81.\n",
      "Applying function for region: P00742_90-126.\n",
      "Applying function for region: Q9H832_1-99.\n",
      "Applying function for region: Q9H832_327-354.\n",
      "Applying function for region: Q9CXY6_29-44.\n",
      "Applying function for region: Q9CXY6_347-390.\n",
      "Applying function for region: P01019_44-64.\n",
      "Applying function for region: P01019_436-450.\n",
      "Applying function for region: O14727_1-104.\n",
      "Applying function for region: A8AZZ3_24-44.\n",
      "Applying function for region: A8AZZ3_116-134.\n",
      "Applying function for region: A8AZZ3_146-195.\n",
      "Applying function for region: J8TM36_236-249.\n",
      "Applying function for region: S7W634_1-32.\n",
      "Applying function for region: Q9BYI3_149-253.\n",
      "Applying function for region: O15922_1-89.\n",
      "Applying function for region: O15922_230-240.\n",
      "Applying function for region: O15922_315-324.\n",
      "Applying function for region: P01097_28-50.\n",
      "Applying function for region: Q86FP8_20-80.\n",
      "Applying function for region: O43474_1-130.\n",
      "Applying function for region: Q8IU57_270-299.\n",
      "Applying function for region: P00392_550-561.\n",
      "Applying function for region: A1L1Q4_1-71.\n",
      "Applying function for region: O00585_71-111.\n",
      "Applying function for region: Q99967_220-269.\n",
      "Applying function for region: Q8R464_25-120.\n",
      "Applying function for region: Q8IW19_399-420.\n",
      "Applying function for region: Q8IW19_450-511.\n",
      "Applying function for region: P00736_193-305.\n",
      "Applying function for region: Q84852_17-299.\n",
      "Applying function for region: S6B291_240-465.\n",
      "Applying function for region: O00308_662-702.\n",
      "Applying function for region: O35274_1-154.\n",
      "Applying function for region: O35274_417-494.\n",
      "Applying function for region: O35274_584-602.\n",
      "Applying function for region: Q5VZK9_1005-1020.\n",
      "Applying function for region: Q8WUG5_1-105.\n",
      "Applying function for region: Q5T4W7_108-120.\n",
      "Applying function for region: O43791_169-178.\n",
      "Applying function for region: O43791_357-374.\n",
      "Applying function for region: Q9H0E2_1-53.\n",
      "Applying function for region: Q8K4J6_67-98.\n",
      "Applying function for region: Q8K4J6_111-142.\n",
      "Applying function for region: Q8K4J6_155-186.\n",
      "Applying function for region: Q9Z2F5_306-430.\n",
      "Applying function for region: P04370-5_1-169.\n",
      "Applying function for region: O88339_144-575.\n",
      "Done.\n"
     ]
    }
   ],
   "source": [
    "# Iterate through non-redundant MSAs in the input folder - BLAST\n",
    "for file in os.listdir(blast_path_nr):\n",
    "    if file.endswith('.fasta'):\n",
    "        input_file = os.path.join(blast_path_nr, file)\n",
    "        protein_id = os.path.splitext(file)[0].split('_')[0]\n",
    "\n",
    "        # Extract relevant information based on the protein ID\n",
    "        rows = curated_disprot_df[curated_disprot_df['acc'] == protein_id]\n",
    "        \n",
    "        for index, row in rows.iterrows():\n",
    "            region = row['region']\n",
    "            start_positions = [row['start']] \n",
    "            end_positions = [row['end']]\n",
    "\n",
    "            # Output file name (only the region)\n",
    "            output_file_name = '{}.fasta'.format(region)\n",
    "            output_file_path = os.path.join(out_dir_blast_nr, output_file_name)\n",
    "\n",
    "            # Call the function for each row\n",
    "            print('Applying function for region: {}.'.format(region))\n",
    "            select_dis_regions(input_file, protein_id, start_positions, end_positions, region, output_file_path)\n",
    "\n",
    "print('Done.')"
   ]
  },
  {
   "cell_type": "code",
   "execution_count": 22,
   "metadata": {
    "ExecuteTime": {
     "end_time": "2023-08-07T12:47:10.667068Z",
     "start_time": "2023-08-07T12:47:10.651948Z"
    }
   },
   "outputs": [
    {
     "name": "stdout",
     "output_type": "stream",
     "text": [
      "Applying function for region: P01097_28-50.\n",
      "Applying function for region: O00308_662-702.\n",
      "Applying function for region: P00392_550-561.\n",
      "Applying function for region: O43791_169-178.\n",
      "Applying function for region: O43791_357-374.\n",
      "Applying function for region: O00585_71-111.\n",
      "Applying function for region: A1L1Q4_1-71.\n",
      "Applying function for region: Q9H0E2_1-53.\n",
      "Applying function for region: S6B291_240-465.\n",
      "Applying function for region: A4L7I2_1658-1856.\n",
      "Applying function for region: Q8IW19_399-420.\n",
      "Applying function for region: Q8IW19_450-511.\n",
      "Applying function for region: Q9Z2F5_306-430.\n",
      "Applying function for region: S7W634_1-32.\n",
      "Applying function for region: Q8K4J6_67-98.\n",
      "Applying function for region: Q8K4J6_111-142.\n",
      "Applying function for region: Q8K4J6_155-186.\n",
      "Applying function for region: P04370-5_1-169.\n",
      "Applying function for region: O43474_1-130.\n",
      "Applying function for region: O14727_1-104.\n",
      "Applying function for region: Q9BYF1_769-805.\n",
      "Applying function for region: P01019_44-64.\n",
      "Applying function for region: P01019_436-450.\n",
      "Applying function for region: P07342_580-595.\n",
      "Applying function for region: P07342_647-687.\n",
      "Applying function for region: Q99967_220-269.\n",
      "Applying function for region: Q9H832_1-99.\n",
      "Applying function for region: Q9H832_327-354.\n",
      "Applying function for region: A8AZZ3_24-44.\n",
      "Applying function for region: A8AZZ3_116-134.\n",
      "Applying function for region: A8AZZ3_146-195.\n",
      "Applying function for region: O14958_371-399.\n",
      "Applying function for region: Q8WUG5_1-105.\n",
      "Applying function for region: Q5T4W7_108-120.\n",
      "Applying function for region: J8TM36_236-249.\n",
      "Applying function for region: O88339_144-575.\n",
      "Applying function for region: O15922_1-89.\n",
      "Applying function for region: O15922_230-240.\n",
      "Applying function for region: O15922_315-324.\n",
      "Applying function for region: Q9BYI3_149-253.\n",
      "Applying function for region: Q8IU57_270-299.\n",
      "Applying function for region: Q8R464_25-120.\n",
      "Applying function for region: O35274_1-154.\n",
      "Applying function for region: O35274_417-494.\n",
      "Applying function for region: O35274_584-602.\n",
      "Applying function for region: Q9CXY6_29-44.\n",
      "Applying function for region: Q9CXY6_347-390.\n",
      "Applying function for region: Q84852_17-299.\n",
      "Applying function for region: Q86FP8_20-80.\n",
      "Applying function for region: P00736_193-305.\n",
      "Applying function for region: Q5VZK9_1005-1020.\n",
      "Applying function for region: Q93KQ4_51-81.\n",
      "Applying function for region: P00742_90-126.\n",
      "Done.\n"
     ]
    }
   ],
   "source": [
    "# Iterate through non-redundant MSAs in the input folder - ClustalOmega\n",
    "for file in os.listdir(clustal_path_nr):\n",
    "    if file.endswith('.fasta'):\n",
    "        input_file = os.path.join(clustal_path_nr, file)\n",
    "        protein_id = os.path.splitext(file)[0].split('_')[0]\n",
    "\n",
    "        # Extract relevant information based on the protein ID\n",
    "        rows = curated_disprot_df[curated_disprot_df['acc'] == protein_id]\n",
    "        \n",
    "        for index, row in rows.iterrows():\n",
    "            region = row['region']\n",
    "            start_positions = [row['start']] \n",
    "            end_positions = [row['end']]\n",
    "\n",
    "            # Output file name (only the region)\n",
    "            output_file_name = '{}.fasta'.format(region)\n",
    "            output_file_path = os.path.join(out_dir_clustal_nr, output_file_name)\n",
    "\n",
    "            # Call the function for each row\n",
    "            print('Applying function for region: {}.'.format(region))\n",
    "            select_dis_regions(input_file, protein_id, start_positions, end_positions, region, output_file_path)\n",
    "            \n",
    "print('Done.')"
   ]
  }
 ],
 "metadata": {
  "kernelspec": {
   "display_name": "Python 3 (ipykernel)",
   "language": "python",
   "name": "python3"
  },
  "language_info": {
   "codemirror_mode": {
    "name": "ipython",
    "version": 3
   },
   "file_extension": ".py",
   "mimetype": "text/x-python",
   "name": "python",
   "nbconvert_exporter": "python",
   "pygments_lexer": "ipython3",
   "version": "3.9.12"
  }
 },
 "nbformat": 4,
 "nbformat_minor": 1
}
