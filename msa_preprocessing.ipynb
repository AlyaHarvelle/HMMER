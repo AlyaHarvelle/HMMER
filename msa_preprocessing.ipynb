{
 "cells": [
  {
   "cell_type": "code",
   "execution_count": 1,
   "metadata": {
    "ExecuteTime": {
     "end_time": "2023-10-02T07:55:55.284130Z",
     "start_time": "2023-10-02T07:55:53.625394Z"
    }
   },
   "outputs": [],
   "source": [
    "# Importing the libraries\n",
    "from functions import *"
   ]
  },
  {
   "cell_type": "markdown",
   "metadata": {},
   "source": [
    "### Creating the dataframe of disordered regions"
   ]
  },
  {
   "cell_type": "code",
   "execution_count": 2,
   "metadata": {
    "ExecuteTime": {
     "end_time": "2023-10-02T07:55:58.503052Z",
     "start_time": "2023-10-02T07:55:57.774314Z"
    }
   },
   "outputs": [
    {
     "name": "stdout",
     "output_type": "stream",
     "text": [
      "The number of instances: 8656\n"
     ]
    },
    {
     "data": {
      "text/html": [
       "<div>\n",
       "<style scoped>\n",
       "    .dataframe tbody tr th:only-of-type {\n",
       "        vertical-align: middle;\n",
       "    }\n",
       "\n",
       "    .dataframe tbody tr th {\n",
       "        vertical-align: top;\n",
       "    }\n",
       "\n",
       "    .dataframe thead th {\n",
       "        text-align: right;\n",
       "    }\n",
       "</style>\n",
       "<table border=\"1\" class=\"dataframe\">\n",
       "  <thead>\n",
       "    <tr style=\"text-align: right;\">\n",
       "      <th></th>\n",
       "      <th>query_id</th>\n",
       "      <th>subject_id</th>\n",
       "      <th>query_len</th>\n",
       "      <th>hsp_len</th>\n",
       "      <th>query_seq</th>\n",
       "      <th>match_seq</th>\n",
       "      <th>subject_seq</th>\n",
       "      <th>query_start</th>\n",
       "      <th>query_end</th>\n",
       "      <th>subject_start</th>\n",
       "      <th>subject_end</th>\n",
       "      <th>identity</th>\n",
       "      <th>positive</th>\n",
       "      <th>gaps</th>\n",
       "      <th>eval</th>\n",
       "      <th>bit_score</th>\n",
       "      <th>count</th>\n",
       "    </tr>\n",
       "  </thead>\n",
       "  <tbody>\n",
       "    <tr>\n",
       "      <th>0</th>\n",
       "      <td>Q16620</td>\n",
       "      <td>A0A2R9BM51</td>\n",
       "      <td>822</td>\n",
       "      <td>822</td>\n",
       "      <td>MSSWIRWHGPAMARLWGFCWLVVGFWRAAFACPTSCKCSASRIWCS...</td>\n",
       "      <td>MSSWIRWHGPAMARLWGFCWLVVGFWRAAFACPTSCKCSASRIWCS...</td>\n",
       "      <td>MSSWIRWHGPAMARLWGFCWLVVGFWRAAFACPTSCKCSASRIWCS...</td>\n",
       "      <td>1</td>\n",
       "      <td>822</td>\n",
       "      <td>1</td>\n",
       "      <td>822</td>\n",
       "      <td>822</td>\n",
       "      <td>822</td>\n",
       "      <td>0</td>\n",
       "      <td>0.0</td>\n",
       "      <td>4458.0</td>\n",
       "      <td>200</td>\n",
       "    </tr>\n",
       "    <tr>\n",
       "      <th>1</th>\n",
       "      <td>Q16620</td>\n",
       "      <td>A0A4X2LP40</td>\n",
       "      <td>822</td>\n",
       "      <td>824</td>\n",
       "      <td>MSSWIRWHGPAMARLWGFCWLVVGFWRAAFACPTSCKCSASRIWCS...</td>\n",
       "      <td>M SW + HGP MARL GFCWLV+ FWR + ACPTSC CS +RIWCS...</td>\n",
       "      <td>MLSWKKCHGPGMARLLGFCWLVLIFWRGSQACPTSCTCSTTRIWCS...</td>\n",
       "      <td>1</td>\n",
       "      <td>822</td>\n",
       "      <td>1</td>\n",
       "      <td>824</td>\n",
       "      <td>689</td>\n",
       "      <td>745</td>\n",
       "      <td>2</td>\n",
       "      <td>0.0</td>\n",
       "      <td>3749.0</td>\n",
       "      <td>200</td>\n",
       "    </tr>\n",
       "    <tr>\n",
       "      <th>2</th>\n",
       "      <td>Q16620</td>\n",
       "      <td>A0A4X2LDU8</td>\n",
       "      <td>822</td>\n",
       "      <td>822</td>\n",
       "      <td>MSSWIRWHGPAMARLWGFCWLVVGFWRAAFACPTSCKCSASRIWCS...</td>\n",
       "      <td>M SW + HGP MARL GFCWLV+ FWR + ACPTSC CS +RIWCS...</td>\n",
       "      <td>MLSWKKCHGPGMARLLGFCWLVLIFWRGSQACPTSCTCSTTRIWCS...</td>\n",
       "      <td>1</td>\n",
       "      <td>822</td>\n",
       "      <td>1</td>\n",
       "      <td>821</td>\n",
       "      <td>689</td>\n",
       "      <td>745</td>\n",
       "      <td>1</td>\n",
       "      <td>0.0</td>\n",
       "      <td>3756.0</td>\n",
       "      <td>200</td>\n",
       "    </tr>\n",
       "    <tr>\n",
       "      <th>3</th>\n",
       "      <td>Q16620</td>\n",
       "      <td>A0A6P5IKH1</td>\n",
       "      <td>822</td>\n",
       "      <td>824</td>\n",
       "      <td>MSSWIRWHGPAMARLWGFCWLVVGFWRAAFACPTSCKCSASRIWCS...</td>\n",
       "      <td>M SW + HGP MARL GFCWLV+ FWR + ACPTSC CS +RIWCS...</td>\n",
       "      <td>MLSWKKCHGPGMARLLGFCWLVLIFWRGSQACPTSCTCSTTRIWCS...</td>\n",
       "      <td>1</td>\n",
       "      <td>822</td>\n",
       "      <td>1</td>\n",
       "      <td>824</td>\n",
       "      <td>691</td>\n",
       "      <td>745</td>\n",
       "      <td>2</td>\n",
       "      <td>0.0</td>\n",
       "      <td>3764.0</td>\n",
       "      <td>200</td>\n",
       "    </tr>\n",
       "    <tr>\n",
       "      <th>4</th>\n",
       "      <td>Q16620</td>\n",
       "      <td>A0A7J7UQA2</td>\n",
       "      <td>822</td>\n",
       "      <td>741</td>\n",
       "      <td>TSCKCSASRIWCSDPSPGIVAFPRLEPNSVDPENITEIFIANQKRL...</td>\n",
       "      <td>+SCKCSASRIWCSDP PGI+AFPRLEPN++DPENITEI+IANQKRL...</td>\n",
       "      <td>SSCKCSASRIWCSDPIPGIMAFPRLEPNTIDPENITEIYIANQKRL...</td>\n",
       "      <td>34</td>\n",
       "      <td>774</td>\n",
       "      <td>2</td>\n",
       "      <td>739</td>\n",
       "      <td>710</td>\n",
       "      <td>724</td>\n",
       "      <td>3</td>\n",
       "      <td>0.0</td>\n",
       "      <td>3776.0</td>\n",
       "      <td>200</td>\n",
       "    </tr>\n",
       "  </tbody>\n",
       "</table>\n",
       "</div>"
      ],
      "text/plain": [
       "  query_id  subject_id  query_len  hsp_len  \\\n",
       "0   Q16620  A0A2R9BM51        822      822   \n",
       "1   Q16620  A0A4X2LP40        822      824   \n",
       "2   Q16620  A0A4X2LDU8        822      822   \n",
       "3   Q16620  A0A6P5IKH1        822      824   \n",
       "4   Q16620  A0A7J7UQA2        822      741   \n",
       "\n",
       "                                           query_seq  \\\n",
       "0  MSSWIRWHGPAMARLWGFCWLVVGFWRAAFACPTSCKCSASRIWCS...   \n",
       "1  MSSWIRWHGPAMARLWGFCWLVVGFWRAAFACPTSCKCSASRIWCS...   \n",
       "2  MSSWIRWHGPAMARLWGFCWLVVGFWRAAFACPTSCKCSASRIWCS...   \n",
       "3  MSSWIRWHGPAMARLWGFCWLVVGFWRAAFACPTSCKCSASRIWCS...   \n",
       "4  TSCKCSASRIWCSDPSPGIVAFPRLEPNSVDPENITEIFIANQKRL...   \n",
       "\n",
       "                                           match_seq  \\\n",
       "0  MSSWIRWHGPAMARLWGFCWLVVGFWRAAFACPTSCKCSASRIWCS...   \n",
       "1  M SW + HGP MARL GFCWLV+ FWR + ACPTSC CS +RIWCS...   \n",
       "2  M SW + HGP MARL GFCWLV+ FWR + ACPTSC CS +RIWCS...   \n",
       "3  M SW + HGP MARL GFCWLV+ FWR + ACPTSC CS +RIWCS...   \n",
       "4  +SCKCSASRIWCSDP PGI+AFPRLEPN++DPENITEI+IANQKRL...   \n",
       "\n",
       "                                         subject_seq  query_start  query_end  \\\n",
       "0  MSSWIRWHGPAMARLWGFCWLVVGFWRAAFACPTSCKCSASRIWCS...            1        822   \n",
       "1  MLSWKKCHGPGMARLLGFCWLVLIFWRGSQACPTSCTCSTTRIWCS...            1        822   \n",
       "2  MLSWKKCHGPGMARLLGFCWLVLIFWRGSQACPTSCTCSTTRIWCS...            1        822   \n",
       "3  MLSWKKCHGPGMARLLGFCWLVLIFWRGSQACPTSCTCSTTRIWCS...            1        822   \n",
       "4  SSCKCSASRIWCSDPIPGIMAFPRLEPNTIDPENITEIYIANQKRL...           34        774   \n",
       "\n",
       "   subject_start  subject_end  identity  positive  gaps  eval  bit_score  \\\n",
       "0              1          822       822       822     0   0.0     4458.0   \n",
       "1              1          824       689       745     2   0.0     3749.0   \n",
       "2              1          821       689       745     1   0.0     3756.0   \n",
       "3              1          824       691       745     2   0.0     3764.0   \n",
       "4              2          739       710       724     3   0.0     3776.0   \n",
       "\n",
       "   count  \n",
       "0    200  \n",
       "1    200  \n",
       "2    200  \n",
       "3    200  \n",
       "4    200  "
      ]
     },
     "execution_count": 2,
     "metadata": {},
     "output_type": "execute_result"
    }
   ],
   "source": [
    "# Open XML file as a dataframe\n",
    "input_file = '{}/databases/uniprot/curated_uniprot.fasta_75'.format(directory) # change the file name if necessary\n",
    "df = blast_parser(input_file)\n",
    "print(f\"The number of instances: {len(df)}\")\n",
    "df.head(5)"
   ]
  },
  {
   "cell_type": "code",
   "execution_count": 3,
   "metadata": {
    "ExecuteTime": {
     "end_time": "2023-10-02T07:55:59.517844Z",
     "start_time": "2023-10-02T07:55:59.424142Z"
    }
   },
   "outputs": [
    {
     "name": "stdout",
     "output_type": "stream",
     "text": [
      "The number of instances in the Curated Disprot database: 3151\n"
     ]
    },
    {
     "data": {
      "text/html": [
       "<div>\n",
       "<style scoped>\n",
       "    .dataframe tbody tr th:only-of-type {\n",
       "        vertical-align: middle;\n",
       "    }\n",
       "\n",
       "    .dataframe tbody tr th {\n",
       "        vertical-align: top;\n",
       "    }\n",
       "\n",
       "    .dataframe thead th {\n",
       "        text-align: right;\n",
       "    }\n",
       "</style>\n",
       "<table border=\"1\" class=\"dataframe\">\n",
       "  <thead>\n",
       "    <tr style=\"text-align: right;\">\n",
       "      <th></th>\n",
       "      <th>acc</th>\n",
       "      <th>evidence</th>\n",
       "      <th>feature</th>\n",
       "      <th>source</th>\n",
       "      <th>start</th>\n",
       "      <th>end</th>\n",
       "      <th>length</th>\n",
       "    </tr>\n",
       "  </thead>\n",
       "  <tbody>\n",
       "    <tr>\n",
       "      <th>6927</th>\n",
       "      <td>P03265</td>\n",
       "      <td>curated</td>\n",
       "      <td>disorder</td>\n",
       "      <td>disprot</td>\n",
       "      <td>294</td>\n",
       "      <td>334</td>\n",
       "      <td>41</td>\n",
       "    </tr>\n",
       "    <tr>\n",
       "      <th>6928</th>\n",
       "      <td>P03265</td>\n",
       "      <td>curated</td>\n",
       "      <td>disorder</td>\n",
       "      <td>disprot</td>\n",
       "      <td>454</td>\n",
       "      <td>464</td>\n",
       "      <td>11</td>\n",
       "    </tr>\n",
       "    <tr>\n",
       "      <th>6929</th>\n",
       "      <td>P49913</td>\n",
       "      <td>curated</td>\n",
       "      <td>disorder</td>\n",
       "      <td>disprot</td>\n",
       "      <td>134</td>\n",
       "      <td>170</td>\n",
       "      <td>37</td>\n",
       "    </tr>\n",
       "    <tr>\n",
       "      <th>6930</th>\n",
       "      <td>P03045</td>\n",
       "      <td>curated</td>\n",
       "      <td>disorder</td>\n",
       "      <td>disprot</td>\n",
       "      <td>1</td>\n",
       "      <td>107</td>\n",
       "      <td>107</td>\n",
       "    </tr>\n",
       "    <tr>\n",
       "      <th>6931</th>\n",
       "      <td>P00004</td>\n",
       "      <td>curated</td>\n",
       "      <td>disorder</td>\n",
       "      <td>disprot</td>\n",
       "      <td>1</td>\n",
       "      <td>105</td>\n",
       "      <td>105</td>\n",
       "    </tr>\n",
       "  </tbody>\n",
       "</table>\n",
       "</div>"
      ],
      "text/plain": [
       "         acc evidence   feature   source  start  end  length\n",
       "6927  P03265  curated  disorder  disprot    294  334      41\n",
       "6928  P03265  curated  disorder  disprot    454  464      11\n",
       "6929  P49913  curated  disorder  disprot    134  170      37\n",
       "6930  P03045  curated  disorder  disprot      1  107     107\n",
       "6931  P00004  curated  disorder  disprot      1  105     105"
      ]
     },
     "execution_count": 3,
     "metadata": {},
     "output_type": "execute_result"
    }
   ],
   "source": [
    "# Create a dataframe with Disprot instances from curated.mjson database\n",
    "data = list()\n",
    "\n",
    "with open('curated.mjson', 'r') as file:\n",
    "    for line in file:\n",
    "        obj = json.loads(line)\n",
    "        rows = json_parser(obj)\n",
    "        data.extend(rows)\n",
    "\n",
    "curated_disprot = pd.DataFrame(data)\n",
    "\n",
    "# Calculate the length of disordered regions\n",
    "curated_disprot['length'] = curated_disprot['end'] - curated_disprot['start'] + 1\n",
    "curated_disprot = curated_disprot[(curated_disprot['feature'] == 'disorder') & (curated_disprot['source'] == 'disprot')]\n",
    "curated_disprot.to_csv(\"curated_disprot.csv\", index=False)\n",
    "\n",
    "print(f\"The number of instances in the Curated Disprot database: {len(curated_disprot)}\")\n",
    "curated_disprot.head()"
   ]
  },
  {
   "cell_type": "code",
   "execution_count": 4,
   "metadata": {
    "ExecuteTime": {
     "end_time": "2023-10-02T07:56:00.347070Z",
     "start_time": "2023-10-02T07:56:00.246256Z"
    }
   },
   "outputs": [
    {
     "name": "stdout",
     "output_type": "stream",
     "text": [
      "The number of rows with the disordered regions: 2887\n"
     ]
    },
    {
     "data": {
      "text/html": [
       "<div>\n",
       "<style scoped>\n",
       "    .dataframe tbody tr th:only-of-type {\n",
       "        vertical-align: middle;\n",
       "    }\n",
       "\n",
       "    .dataframe tbody tr th {\n",
       "        vertical-align: top;\n",
       "    }\n",
       "\n",
       "    .dataframe thead th {\n",
       "        text-align: right;\n",
       "    }\n",
       "</style>\n",
       "<table border=\"1\" class=\"dataframe\">\n",
       "  <thead>\n",
       "    <tr style=\"text-align: right;\">\n",
       "      <th></th>\n",
       "      <th>query_id</th>\n",
       "      <th>subject_id</th>\n",
       "      <th>query_len</th>\n",
       "      <th>hsp_len</th>\n",
       "      <th>query_seq</th>\n",
       "      <th>match_seq</th>\n",
       "      <th>subject_seq</th>\n",
       "      <th>query_start</th>\n",
       "      <th>query_end</th>\n",
       "      <th>subject_start</th>\n",
       "      <th>subject_end</th>\n",
       "      <th>identity</th>\n",
       "      <th>positive</th>\n",
       "      <th>gaps</th>\n",
       "      <th>eval</th>\n",
       "      <th>bit_score</th>\n",
       "      <th>count</th>\n",
       "    </tr>\n",
       "  </thead>\n",
       "  <tbody>\n",
       "    <tr>\n",
       "      <th>200</th>\n",
       "      <td>Q9H832</td>\n",
       "      <td>A0A6J2FM24</td>\n",
       "      <td>354</td>\n",
       "      <td>356</td>\n",
       "      <td>MAESPTEEAATA--GAGAAGPGASSVAGVVGVSGSGGGFGPPFLPD...</td>\n",
       "      <td>MAESPTEEAATA  GAGAAGPGAS V GVVGVSGSG  FGPPFLPD...</td>\n",
       "      <td>MAESPTEEAATATAGAGAAGPGASGVTGVVGVSGSG--FGPPFLPD...</td>\n",
       "      <td>1</td>\n",
       "      <td>354</td>\n",
       "      <td>1</td>\n",
       "      <td>354</td>\n",
       "      <td>350</td>\n",
       "      <td>350</td>\n",
       "      <td>4</td>\n",
       "      <td>0.0</td>\n",
       "      <td>1851.0</td>\n",
       "      <td>200</td>\n",
       "    </tr>\n",
       "    <tr>\n",
       "      <th>201</th>\n",
       "      <td>Q9H832</td>\n",
       "      <td>A0A3Q7W6Y2</td>\n",
       "      <td>354</td>\n",
       "      <td>356</td>\n",
       "      <td>MAESPTEEAATA--GAGAAGPGASSVAGVVGVSGSGGGFGPPFLPD...</td>\n",
       "      <td>MAESPTEEAATA  GAGA GPGAS VAGVVGVSGSG  FGPPFLPD...</td>\n",
       "      <td>MAESPTEEAATATAGAGATGPGASGVAGVVGVSGSG--FGPPFLPD...</td>\n",
       "      <td>1</td>\n",
       "      <td>354</td>\n",
       "      <td>1</td>\n",
       "      <td>354</td>\n",
       "      <td>350</td>\n",
       "      <td>350</td>\n",
       "      <td>4</td>\n",
       "      <td>0.0</td>\n",
       "      <td>1851.0</td>\n",
       "      <td>200</td>\n",
       "    </tr>\n",
       "    <tr>\n",
       "      <th>202</th>\n",
       "      <td>Q9H832</td>\n",
       "      <td>A0A2U3VK69</td>\n",
       "      <td>354</td>\n",
       "      <td>356</td>\n",
       "      <td>MAESPTEEAATA--GAGAAGPGASSVAGVVGVSGSGGGFGPPFLPD...</td>\n",
       "      <td>MAESPTEEAATA  GAGAAGPGAS V GVVGVSGSG  FGPPFLPD...</td>\n",
       "      <td>MAESPTEEAATATAGAGAAGPGASGVTGVVGVSGSG--FGPPFLPD...</td>\n",
       "      <td>1</td>\n",
       "      <td>354</td>\n",
       "      <td>1</td>\n",
       "      <td>354</td>\n",
       "      <td>350</td>\n",
       "      <td>350</td>\n",
       "      <td>4</td>\n",
       "      <td>0.0</td>\n",
       "      <td>1851.0</td>\n",
       "      <td>200</td>\n",
       "    </tr>\n",
       "    <tr>\n",
       "      <th>203</th>\n",
       "      <td>Q9H832</td>\n",
       "      <td>A0A2Y9JVH5</td>\n",
       "      <td>354</td>\n",
       "      <td>358</td>\n",
       "      <td>MAESPTEEAATA----GAGAAGPGASSVAGVVGVSGSGGGFGPPFL...</td>\n",
       "      <td>MAESPTEEAATA    GAGAAGPGAS VAGVVGVSGSG  FGPPFL...</td>\n",
       "      <td>MAESPTEEAATATATAGAGAAGPGASGVAGVVGVSGSG--FGPPFL...</td>\n",
       "      <td>1</td>\n",
       "      <td>354</td>\n",
       "      <td>1</td>\n",
       "      <td>356</td>\n",
       "      <td>351</td>\n",
       "      <td>351</td>\n",
       "      <td>6</td>\n",
       "      <td>0.0</td>\n",
       "      <td>1854.0</td>\n",
       "      <td>200</td>\n",
       "    </tr>\n",
       "    <tr>\n",
       "      <th>204</th>\n",
       "      <td>Q9H832</td>\n",
       "      <td>A0A8C7ALE4</td>\n",
       "      <td>354</td>\n",
       "      <td>358</td>\n",
       "      <td>MAESPTEEAATA----GAGAAGPGASSVAGVVGVSGSGGGFGPPFL...</td>\n",
       "      <td>MAESPTEEAATA    GAGAAGPGAS VAGVVGVSGSG  FGPPFL...</td>\n",
       "      <td>MAESPTEEAATATATAGAGAAGPGASGVAGVVGVSGSG--FGPPFL...</td>\n",
       "      <td>1</td>\n",
       "      <td>354</td>\n",
       "      <td>1</td>\n",
       "      <td>356</td>\n",
       "      <td>351</td>\n",
       "      <td>351</td>\n",
       "      <td>6</td>\n",
       "      <td>0.0</td>\n",
       "      <td>1854.0</td>\n",
       "      <td>200</td>\n",
       "    </tr>\n",
       "  </tbody>\n",
       "</table>\n",
       "</div>"
      ],
      "text/plain": [
       "    query_id  subject_id  query_len  hsp_len  \\\n",
       "200   Q9H832  A0A6J2FM24        354      356   \n",
       "201   Q9H832  A0A3Q7W6Y2        354      356   \n",
       "202   Q9H832  A0A2U3VK69        354      356   \n",
       "203   Q9H832  A0A2Y9JVH5        354      358   \n",
       "204   Q9H832  A0A8C7ALE4        354      358   \n",
       "\n",
       "                                             query_seq  \\\n",
       "200  MAESPTEEAATA--GAGAAGPGASSVAGVVGVSGSGGGFGPPFLPD...   \n",
       "201  MAESPTEEAATA--GAGAAGPGASSVAGVVGVSGSGGGFGPPFLPD...   \n",
       "202  MAESPTEEAATA--GAGAAGPGASSVAGVVGVSGSGGGFGPPFLPD...   \n",
       "203  MAESPTEEAATA----GAGAAGPGASSVAGVVGVSGSGGGFGPPFL...   \n",
       "204  MAESPTEEAATA----GAGAAGPGASSVAGVVGVSGSGGGFGPPFL...   \n",
       "\n",
       "                                             match_seq  \\\n",
       "200  MAESPTEEAATA  GAGAAGPGAS V GVVGVSGSG  FGPPFLPD...   \n",
       "201  MAESPTEEAATA  GAGA GPGAS VAGVVGVSGSG  FGPPFLPD...   \n",
       "202  MAESPTEEAATA  GAGAAGPGAS V GVVGVSGSG  FGPPFLPD...   \n",
       "203  MAESPTEEAATA    GAGAAGPGAS VAGVVGVSGSG  FGPPFL...   \n",
       "204  MAESPTEEAATA    GAGAAGPGAS VAGVVGVSGSG  FGPPFL...   \n",
       "\n",
       "                                           subject_seq  query_start  \\\n",
       "200  MAESPTEEAATATAGAGAAGPGASGVTGVVGVSGSG--FGPPFLPD...            1   \n",
       "201  MAESPTEEAATATAGAGATGPGASGVAGVVGVSGSG--FGPPFLPD...            1   \n",
       "202  MAESPTEEAATATAGAGAAGPGASGVTGVVGVSGSG--FGPPFLPD...            1   \n",
       "203  MAESPTEEAATATATAGAGAAGPGASGVAGVVGVSGSG--FGPPFL...            1   \n",
       "204  MAESPTEEAATATATAGAGAAGPGASGVAGVVGVSGSG--FGPPFL...            1   \n",
       "\n",
       "     query_end  subject_start  subject_end  identity  positive  gaps  eval  \\\n",
       "200        354              1          354       350       350     4   0.0   \n",
       "201        354              1          354       350       350     4   0.0   \n",
       "202        354              1          354       350       350     4   0.0   \n",
       "203        354              1          356       351       351     6   0.0   \n",
       "204        354              1          356       351       351     6   0.0   \n",
       "\n",
       "     bit_score  count  \n",
       "200     1851.0    200  \n",
       "201     1851.0    200  \n",
       "202     1851.0    200  \n",
       "203     1854.0    200  \n",
       "204     1854.0    200  "
      ]
     },
     "execution_count": 4,
     "metadata": {},
     "output_type": "execute_result"
    }
   ],
   "source": [
    "# Keep only disordered regions in the initial dataframe filtering with curated_disordered dataframe\n",
    "disordered = df[df['query_id'].isin(curated_disprot['acc'])]\n",
    "disordered.to_csv(\"disordered_df.csv\", index=False)\n",
    "\n",
    "print(f\"The number of rows with the disordered regions: {len(disordered)}\")\n",
    "disordered.head(5)"
   ]
  },
  {
   "cell_type": "code",
   "execution_count": 5,
   "metadata": {
    "ExecuteTime": {
     "end_time": "2023-10-02T07:56:02.351390Z",
     "start_time": "2023-10-02T07:56:02.292668Z"
    }
   },
   "outputs": [
    {
     "data": {
      "application/vnd.jupyter.widget-view+json": {
       "model_id": "e68a0a0396f744719de9e6ba8d9c1cc7",
       "version_major": 2,
       "version_minor": 0
      },
      "text/plain": [
       "Select(description='Uniprot ID: ', layout=Layout(width='max-content'), options=('Q9H832', 'Q8IW19', 'Q99967', …"
      ]
     },
     "metadata": {},
     "output_type": "display_data"
    }
   ],
   "source": [
    "# Dropdown list of Uniprot query IDs for disordered regions\n",
    "output = widgets.Select(\n",
    "    options=disordered[\"query_id\"].unique(),\n",
    "    rows=10,\n",
    "    description='Uniprot ID: ',\n",
    "    layout={'width': 'max-content'},\n",
    "    disabled=False\n",
    ")\n",
    "display(output)"
   ]
  },
  {
   "cell_type": "code",
   "execution_count": 6,
   "metadata": {
    "ExecuteTime": {
     "end_time": "2023-10-02T07:56:04.330580Z",
     "start_time": "2023-10-02T07:56:04.268997Z"
    },
    "scrolled": false
   },
   "outputs": [
    {
     "name": "stdout",
     "output_type": "stream",
     "text": [
      "Stored 'id_dis' (str)\n",
      "Stored 'i' (int)\n"
     ]
    },
    {
     "data": {
      "text/html": [
       "<div>\n",
       "<style scoped>\n",
       "    .dataframe tbody tr th:only-of-type {\n",
       "        vertical-align: middle;\n",
       "    }\n",
       "\n",
       "    .dataframe tbody tr th {\n",
       "        vertical-align: top;\n",
       "    }\n",
       "\n",
       "    .dataframe thead th {\n",
       "        text-align: right;\n",
       "    }\n",
       "</style>\n",
       "<table border=\"1\" class=\"dataframe\">\n",
       "  <thead>\n",
       "    <tr style=\"text-align: right;\">\n",
       "      <th></th>\n",
       "      <th>query_id</th>\n",
       "      <th>subject_id</th>\n",
       "      <th>query_len</th>\n",
       "      <th>hsp_len</th>\n",
       "      <th>query_seq</th>\n",
       "      <th>match_seq</th>\n",
       "      <th>subject_seq</th>\n",
       "      <th>query_start</th>\n",
       "      <th>query_end</th>\n",
       "      <th>subject_start</th>\n",
       "      <th>subject_end</th>\n",
       "      <th>identity</th>\n",
       "      <th>positive</th>\n",
       "      <th>gaps</th>\n",
       "      <th>eval</th>\n",
       "      <th>bit_score</th>\n",
       "      <th>count</th>\n",
       "    </tr>\n",
       "  </thead>\n",
       "  <tbody>\n",
       "    <tr>\n",
       "      <th>200</th>\n",
       "      <td>Q9H832</td>\n",
       "      <td>A0A6J2FM24</td>\n",
       "      <td>354</td>\n",
       "      <td>356</td>\n",
       "      <td>MAESPTEEAATA--GAGAAGPGASSVAGVVGVSGSGGGFGPPFLPD...</td>\n",
       "      <td>MAESPTEEAATA  GAGAAGPGAS V GVVGVSGSG  FGPPFLPD...</td>\n",
       "      <td>MAESPTEEAATATAGAGAAGPGASGVTGVVGVSGSG--FGPPFLPD...</td>\n",
       "      <td>1</td>\n",
       "      <td>354</td>\n",
       "      <td>1</td>\n",
       "      <td>354</td>\n",
       "      <td>350</td>\n",
       "      <td>350</td>\n",
       "      <td>4</td>\n",
       "      <td>0.0</td>\n",
       "      <td>1851.0</td>\n",
       "      <td>200</td>\n",
       "    </tr>\n",
       "    <tr>\n",
       "      <th>201</th>\n",
       "      <td>Q9H832</td>\n",
       "      <td>A0A3Q7W6Y2</td>\n",
       "      <td>354</td>\n",
       "      <td>356</td>\n",
       "      <td>MAESPTEEAATA--GAGAAGPGASSVAGVVGVSGSGGGFGPPFLPD...</td>\n",
       "      <td>MAESPTEEAATA  GAGA GPGAS VAGVVGVSGSG  FGPPFLPD...</td>\n",
       "      <td>MAESPTEEAATATAGAGATGPGASGVAGVVGVSGSG--FGPPFLPD...</td>\n",
       "      <td>1</td>\n",
       "      <td>354</td>\n",
       "      <td>1</td>\n",
       "      <td>354</td>\n",
       "      <td>350</td>\n",
       "      <td>350</td>\n",
       "      <td>4</td>\n",
       "      <td>0.0</td>\n",
       "      <td>1851.0</td>\n",
       "      <td>200</td>\n",
       "    </tr>\n",
       "    <tr>\n",
       "      <th>202</th>\n",
       "      <td>Q9H832</td>\n",
       "      <td>A0A2U3VK69</td>\n",
       "      <td>354</td>\n",
       "      <td>356</td>\n",
       "      <td>MAESPTEEAATA--GAGAAGPGASSVAGVVGVSGSGGGFGPPFLPD...</td>\n",
       "      <td>MAESPTEEAATA  GAGAAGPGAS V GVVGVSGSG  FGPPFLPD...</td>\n",
       "      <td>MAESPTEEAATATAGAGAAGPGASGVTGVVGVSGSG--FGPPFLPD...</td>\n",
       "      <td>1</td>\n",
       "      <td>354</td>\n",
       "      <td>1</td>\n",
       "      <td>354</td>\n",
       "      <td>350</td>\n",
       "      <td>350</td>\n",
       "      <td>4</td>\n",
       "      <td>0.0</td>\n",
       "      <td>1851.0</td>\n",
       "      <td>200</td>\n",
       "    </tr>\n",
       "    <tr>\n",
       "      <th>203</th>\n",
       "      <td>Q9H832</td>\n",
       "      <td>A0A2Y9JVH5</td>\n",
       "      <td>354</td>\n",
       "      <td>358</td>\n",
       "      <td>MAESPTEEAATA----GAGAAGPGASSVAGVVGVSGSGGGFGPPFL...</td>\n",
       "      <td>MAESPTEEAATA    GAGAAGPGAS VAGVVGVSGSG  FGPPFL...</td>\n",
       "      <td>MAESPTEEAATATATAGAGAAGPGASGVAGVVGVSGSG--FGPPFL...</td>\n",
       "      <td>1</td>\n",
       "      <td>354</td>\n",
       "      <td>1</td>\n",
       "      <td>356</td>\n",
       "      <td>351</td>\n",
       "      <td>351</td>\n",
       "      <td>6</td>\n",
       "      <td>0.0</td>\n",
       "      <td>1854.0</td>\n",
       "      <td>200</td>\n",
       "    </tr>\n",
       "    <tr>\n",
       "      <th>204</th>\n",
       "      <td>Q9H832</td>\n",
       "      <td>A0A8C7ALE4</td>\n",
       "      <td>354</td>\n",
       "      <td>358</td>\n",
       "      <td>MAESPTEEAATA----GAGAAGPGASSVAGVVGVSGSGGGFGPPFL...</td>\n",
       "      <td>MAESPTEEAATA    GAGAAGPGAS VAGVVGVSGSG  FGPPFL...</td>\n",
       "      <td>MAESPTEEAATATATAGAGAAGPGASGVAGVVGVSGSG--FGPPFL...</td>\n",
       "      <td>1</td>\n",
       "      <td>354</td>\n",
       "      <td>1</td>\n",
       "      <td>356</td>\n",
       "      <td>351</td>\n",
       "      <td>351</td>\n",
       "      <td>6</td>\n",
       "      <td>0.0</td>\n",
       "      <td>1854.0</td>\n",
       "      <td>200</td>\n",
       "    </tr>\n",
       "  </tbody>\n",
       "</table>\n",
       "</div>"
      ],
      "text/plain": [
       "    query_id  subject_id  query_len  hsp_len  \\\n",
       "200   Q9H832  A0A6J2FM24        354      356   \n",
       "201   Q9H832  A0A3Q7W6Y2        354      356   \n",
       "202   Q9H832  A0A2U3VK69        354      356   \n",
       "203   Q9H832  A0A2Y9JVH5        354      358   \n",
       "204   Q9H832  A0A8C7ALE4        354      358   \n",
       "\n",
       "                                             query_seq  \\\n",
       "200  MAESPTEEAATA--GAGAAGPGASSVAGVVGVSGSGGGFGPPFLPD...   \n",
       "201  MAESPTEEAATA--GAGAAGPGASSVAGVVGVSGSGGGFGPPFLPD...   \n",
       "202  MAESPTEEAATA--GAGAAGPGASSVAGVVGVSGSGGGFGPPFLPD...   \n",
       "203  MAESPTEEAATA----GAGAAGPGASSVAGVVGVSGSGGGFGPPFL...   \n",
       "204  MAESPTEEAATA----GAGAAGPGASSVAGVVGVSGSGGGFGPPFL...   \n",
       "\n",
       "                                             match_seq  \\\n",
       "200  MAESPTEEAATA  GAGAAGPGAS V GVVGVSGSG  FGPPFLPD...   \n",
       "201  MAESPTEEAATA  GAGA GPGAS VAGVVGVSGSG  FGPPFLPD...   \n",
       "202  MAESPTEEAATA  GAGAAGPGAS V GVVGVSGSG  FGPPFLPD...   \n",
       "203  MAESPTEEAATA    GAGAAGPGAS VAGVVGVSGSG  FGPPFL...   \n",
       "204  MAESPTEEAATA    GAGAAGPGAS VAGVVGVSGSG  FGPPFL...   \n",
       "\n",
       "                                           subject_seq  query_start  \\\n",
       "200  MAESPTEEAATATAGAGAAGPGASGVTGVVGVSGSG--FGPPFLPD...            1   \n",
       "201  MAESPTEEAATATAGAGATGPGASGVAGVVGVSGSG--FGPPFLPD...            1   \n",
       "202  MAESPTEEAATATAGAGAAGPGASGVTGVVGVSGSG--FGPPFLPD...            1   \n",
       "203  MAESPTEEAATATATAGAGAAGPGASGVAGVVGVSGSG--FGPPFL...            1   \n",
       "204  MAESPTEEAATATATAGAGAAGPGASGVAGVVGVSGSG--FGPPFL...            1   \n",
       "\n",
       "     query_end  subject_start  subject_end  identity  positive  gaps  eval  \\\n",
       "200        354              1          354       350       350     4   0.0   \n",
       "201        354              1          354       350       350     4   0.0   \n",
       "202        354              1          354       350       350     4   0.0   \n",
       "203        354              1          356       351       351     6   0.0   \n",
       "204        354              1          356       351       351     6   0.0   \n",
       "\n",
       "     bit_score  count  \n",
       "200     1851.0    200  \n",
       "201     1851.0    200  \n",
       "202     1851.0    200  \n",
       "203     1854.0    200  \n",
       "204     1854.0    200  "
      ]
     },
     "execution_count": 6,
     "metadata": {},
     "output_type": "execute_result"
    }
   ],
   "source": [
    "# Check if there are disordered regions for a particular query ID\n",
    "id_dis = output.value\n",
    "i = 1 # change to the necessary region\n",
    "# store the same id for all notebooks\n",
    "%store id_dis i\n",
    "selected_dis = disordered[disordered[\"query_id\"].isin([id_dis])]\n",
    "selected_dis.head()"
   ]
  },
  {
   "cell_type": "code",
   "execution_count": 7,
   "metadata": {},
   "outputs": [
    {
     "data": {
      "text/html": [
       "<div>\n",
       "<style scoped>\n",
       "    .dataframe tbody tr th:only-of-type {\n",
       "        vertical-align: middle;\n",
       "    }\n",
       "\n",
       "    .dataframe tbody tr th {\n",
       "        vertical-align: top;\n",
       "    }\n",
       "\n",
       "    .dataframe thead th {\n",
       "        text-align: right;\n",
       "    }\n",
       "</style>\n",
       "<table border=\"1\" class=\"dataframe\">\n",
       "  <thead>\n",
       "    <tr style=\"text-align: right;\">\n",
       "      <th></th>\n",
       "      <th>acc</th>\n",
       "      <th>evidence</th>\n",
       "      <th>feature</th>\n",
       "      <th>source</th>\n",
       "      <th>start</th>\n",
       "      <th>end</th>\n",
       "      <th>length</th>\n",
       "    </tr>\n",
       "  </thead>\n",
       "  <tbody>\n",
       "    <tr>\n",
       "      <th>7799</th>\n",
       "      <td>Q9H832</td>\n",
       "      <td>curated</td>\n",
       "      <td>disorder</td>\n",
       "      <td>disprot</td>\n",
       "      <td>1</td>\n",
       "      <td>99</td>\n",
       "      <td>99</td>\n",
       "    </tr>\n",
       "    <tr>\n",
       "      <th>7800</th>\n",
       "      <td>Q9H832</td>\n",
       "      <td>curated</td>\n",
       "      <td>disorder</td>\n",
       "      <td>disprot</td>\n",
       "      <td>327</td>\n",
       "      <td>354</td>\n",
       "      <td>28</td>\n",
       "    </tr>\n",
       "  </tbody>\n",
       "</table>\n",
       "</div>"
      ],
      "text/plain": [
       "         acc evidence   feature   source  start  end  length\n",
       "7799  Q9H832  curated  disorder  disprot      1   99      99\n",
       "7800  Q9H832  curated  disorder  disprot    327  354      28"
      ]
     },
     "execution_count": 7,
     "metadata": {},
     "output_type": "execute_result"
    }
   ],
   "source": [
    "# Filter the curated_disprot dataframe based on selected ID\n",
    "curated_query = curated_disprot[curated_disprot['acc'] == id_dis]\n",
    "curated_query"
   ]
  },
  {
   "cell_type": "markdown",
   "metadata": {},
   "source": [
    "## 1. Multiple Sequence Alignment\n",
    "\n",
    "Within this framework, we will compare the MSA results obtained directly from the BLAST output with those generated from the ClustalOmega and MAFFT.\n",
    "\n",
    "### 1.1.1 MSA from the BLAST output - for one alignment\n",
    "This code iterates through each row of the dataframe for a previously selected query ID. If there is no gap, it maps the amino acid from the subject sequence to the corresponding position in the query sequence, starting from the beginning of the query sequence. The resulting mapped amino acids are then added to a new count. In the end we have a FASTA file with the subject IDs and the aligned sequences."
   ]
  },
  {
   "cell_type": "code",
   "execution_count": 8,
   "metadata": {
    "ExecuteTime": {
     "end_time": "2023-09-14T09:29:43.754481Z",
     "start_time": "2023-09-14T09:29:43.748470Z"
    }
   },
   "outputs": [],
   "source": [
    "# # Retrieve a query sequence from query id using the local machine\n",
    "# query_sequence = get_fasta(id_dis)\n",
    "# query_lines = query_sequence.split(\"\\n\")\n",
    "# query_sequence = \"\".join(query_lines[1:]) # its length will be used for building MSA\n",
    "# query_len = len(query_sequence)\n",
    "# print(id_dis, query_len, query_sequence)"
   ]
  },
  {
   "cell_type": "code",
   "execution_count": 10,
   "metadata": {},
   "outputs": [],
   "source": [
    "# Retrieve query sequence and query length from the dataframe\n",
    "query_sequence = disordered[disordered['query_id'] == id_dis]['query_seq'].unique()[0]\n",
    "query_sequence = re.sub(r'[-]', '', query_sequence)\n",
    "query_len = disordered[disordered['query_id'] == id_dis]['query_len'].unique()[0]\n",
    "print(id_dis, query_len, query_sequence)"
   ]
  },
  {
   "cell_type": "code",
   "execution_count": 316,
   "metadata": {
    "ExecuteTime": {
     "end_time": "2023-09-14T09:29:44.399708Z",
     "start_time": "2023-09-14T09:29:44.388265Z"
    }
   },
   "outputs": [],
   "source": [
    "# # 1.1 Build the MSA from the BLAST - for one alignment\n",
    "# out_file = f'{directory}/results/alignments/output_files/blast/{id_dis}_blast.fasta'\n",
    "\n",
    "# with open(out_file, \"w\") as fout:\n",
    "#     mapped_seq = [\"-\"] * query_len\n",
    "\n",
    "#     # Write the header line for the query sequence\n",
    "#     fout.write(\">{}\\n\".format(id_dis))\n",
    "\n",
    "#     # Map the query sequence to the mapped_seq list\n",
    "#     c = 0\n",
    "#     for l_q in query_sequence:\n",
    "#         if l_q != \" \" and l_q != '-':\n",
    "#             mapped_seq[c] = l_q\n",
    "#             c += 1\n",
    "\n",
    "#     # Write the query_mapped_seq sequence to the output file\n",
    "#     fout.write(\"{}\\n\".format(\"\".join(mapped_seq)))\n",
    "\n",
    "#     # Map the subject sequences to the mapped_seq list and write to the output file\n",
    "#     for index, row in selected_dis.iterrows():\n",
    "#         c = 0\n",
    "#         query_start = row['query_start']\n",
    "#         for l_q, l_s in zip(row['query_seq'], row['subject_seq']):\n",
    "#             if l_q != ' ' and l_q != '-': # if the initial aa from query is not empty or gapped\n",
    "#                 mapped_seq[query_start + c - 1] = l_s if l_s != ' ' else '-' # assign aa to subject\n",
    "#                 c += 1\n",
    "#         fout.write(\">{}\\n{}\\n\".format(row[\"subject_id\"], \"\".join(mapped_seq)))"
   ]
  },
  {
   "cell_type": "markdown",
   "metadata": {},
   "source": [
    "### 1.1.2 MSA from the BLAST output - for multiple alignments"
   ]
  },
  {
   "cell_type": "code",
   "execution_count": 8,
   "metadata": {
    "ExecuteTime": {
     "end_time": "2023-10-02T07:57:48.083609Z",
     "start_time": "2023-10-02T07:56:11.171489Z"
    }
   },
   "outputs": [],
   "source": [
    "# Extract the data for the disordered regions\n",
    "disprot_ids = disordered[\"query_id\"].unique()\n",
    "\n",
    "data = []\n",
    "\n",
    "# Loop through disprot_ids\n",
    "for i in disprot_ids:\n",
    "    query_sequence = disordered[disordered['query_id'] == i]['query_seq'].unique()[0]\n",
    "    query_sequence = re.sub(r'[-]', '', query_sequence)\n",
    "    query_len = len(query_sequence)\n",
    "    \n",
    "    # Append the data to the list\n",
    "    data.append([i, query_sequence, query_len])"
   ]
  },
  {
   "cell_type": "code",
   "execution_count": 9,
   "metadata": {
    "ExecuteTime": {
     "end_time": "2023-10-02T07:57:51.729468Z",
     "start_time": "2023-10-02T07:57:51.715273Z"
    }
   },
   "outputs": [
    {
     "data": {
      "text/html": [
       "<div>\n",
       "<style scoped>\n",
       "    .dataframe tbody tr th:only-of-type {\n",
       "        vertical-align: middle;\n",
       "    }\n",
       "\n",
       "    .dataframe tbody tr th {\n",
       "        vertical-align: top;\n",
       "    }\n",
       "\n",
       "    .dataframe thead th {\n",
       "        text-align: right;\n",
       "    }\n",
       "</style>\n",
       "<table border=\"1\" class=\"dataframe\">\n",
       "  <thead>\n",
       "    <tr style=\"text-align: right;\">\n",
       "      <th></th>\n",
       "      <th>disprot_id</th>\n",
       "      <th>query_sequence</th>\n",
       "      <th>query_len</th>\n",
       "    </tr>\n",
       "  </thead>\n",
       "  <tbody>\n",
       "    <tr>\n",
       "      <th>0</th>\n",
       "      <td>Q9H832</td>\n",
       "      <td>MAESPTEEAATAGAGAAGPGASSVAGVVGVSGSGGGFGPPFLPDVW...</td>\n",
       "      <td>354</td>\n",
       "    </tr>\n",
       "    <tr>\n",
       "      <th>1</th>\n",
       "      <td>Q8IW19</td>\n",
       "      <td>MSGGFELQPRDGGPRVALAPGETVIGRGPLLGITDKRVSRRHAILE...</td>\n",
       "      <td>511</td>\n",
       "    </tr>\n",
       "    <tr>\n",
       "      <th>2</th>\n",
       "      <td>Q99967</td>\n",
       "      <td>MADHMMAMNHGRFPDGTNGLHHHPAHRMGMGQFPSPHHHQQQQPQH...</td>\n",
       "      <td>270</td>\n",
       "    </tr>\n",
       "    <tr>\n",
       "      <th>3</th>\n",
       "      <td>Q9CXY6</td>\n",
       "      <td>MRGDRGRGRGGRFGSRGGPGGGFRPFVPHIPFDFYLCEMAFPRVKP...</td>\n",
       "      <td>390</td>\n",
       "    </tr>\n",
       "    <tr>\n",
       "      <th>4</th>\n",
       "      <td>Q8R464</td>\n",
       "      <td>PLLLLWAAAAGPGTGQEVQTENVTVAEGGVAEITCRLHQYDGSIVV...</td>\n",
       "      <td>379</td>\n",
       "    </tr>\n",
       "    <tr>\n",
       "      <th>5</th>\n",
       "      <td>Q8K4J6</td>\n",
       "      <td>QSVLQLKLQQRRTREELVSQGIMPPLKSPAAFHEQRRSLERARTED...</td>\n",
       "      <td>951</td>\n",
       "    </tr>\n",
       "    <tr>\n",
       "      <th>6</th>\n",
       "      <td>Q9BYI3</td>\n",
       "      <td>MFTSEKGVVEEWLSEFKTLPETSLPNYATNLKDKSSLVSSLYKVIQ...</td>\n",
       "      <td>521</td>\n",
       "    </tr>\n",
       "    <tr>\n",
       "      <th>7</th>\n",
       "      <td>Q9BYF1</td>\n",
       "      <td>MSSSSWLLLSLVAVTAAQSTIEEQAKTFLDKFNHEAEDLFYQSSLA...</td>\n",
       "      <td>805</td>\n",
       "    </tr>\n",
       "    <tr>\n",
       "      <th>8</th>\n",
       "      <td>Q8WUG5</td>\n",
       "      <td>MASDPIFTLAPPLHCHYGAFPPNASGWEQPPNASGVSVASAALAAS...</td>\n",
       "      <td>538</td>\n",
       "    </tr>\n",
       "    <tr>\n",
       "      <th>9</th>\n",
       "      <td>Q9H0E2</td>\n",
       "      <td>QRGPVYIGELPQDFLRITPTQQQRQVQLDAQAAQQLQYGGAVGTVG...</td>\n",
       "      <td>267</td>\n",
       "    </tr>\n",
       "  </tbody>\n",
       "</table>\n",
       "</div>"
      ],
      "text/plain": [
       "  disprot_id                                     query_sequence  query_len\n",
       "0     Q9H832  MAESPTEEAATAGAGAAGPGASSVAGVVGVSGSGGGFGPPFLPDVW...        354\n",
       "1     Q8IW19  MSGGFELQPRDGGPRVALAPGETVIGRGPLLGITDKRVSRRHAILE...        511\n",
       "2     Q99967  MADHMMAMNHGRFPDGTNGLHHHPAHRMGMGQFPSPHHHQQQQPQH...        270\n",
       "3     Q9CXY6  MRGDRGRGRGGRFGSRGGPGGGFRPFVPHIPFDFYLCEMAFPRVKP...        390\n",
       "4     Q8R464  PLLLLWAAAAGPGTGQEVQTENVTVAEGGVAEITCRLHQYDGSIVV...        379\n",
       "5     Q8K4J6  QSVLQLKLQQRRTREELVSQGIMPPLKSPAAFHEQRRSLERARTED...        951\n",
       "6     Q9BYI3  MFTSEKGVVEEWLSEFKTLPETSLPNYATNLKDKSSLVSSLYKVIQ...        521\n",
       "7     Q9BYF1  MSSSSWLLLSLVAVTAAQSTIEEQAKTFLDKFNHEAEDLFYQSSLA...        805\n",
       "8     Q8WUG5  MASDPIFTLAPPLHCHYGAFPPNASGWEQPPNASGVSVASAALAAS...        538\n",
       "9     Q9H0E2  QRGPVYIGELPQDFLRITPTQQQRQVQLDAQAAQQLQYGGAVGTVG...        267"
      ]
     },
     "execution_count": 9,
     "metadata": {},
     "output_type": "execute_result"
    }
   ],
   "source": [
    "# Create a dataframe of disprot sequences\n",
    "disprot_sequences = pd.DataFrame(data, columns=['disprot_id', 'query_sequence', 'query_len'])\n",
    "disprot_sequences[:10]"
   ]
  },
  {
   "cell_type": "code",
   "execution_count": 11,
   "metadata": {},
   "outputs": [
    {
     "name": "stdout",
     "output_type": "stream",
     "text": [
      "0 P00742 462 GES ... EVI\n",
      "1 P01019 474 MAP ... PLS\n",
      "2 O88339 575 MST ... FLL\n",
      "3 O35274 817 MMK ... NST\n",
      "4 P07342 651 YSS ... GKH\n",
      "5 O15922 389 AGG ... RHP\n",
      "6 O00308 870 MAS ... GQE\n",
      "7 O14727 1248 MDA ... TLE\n",
      "8 P00736 704 WLL ... EED\n",
      "9 P00392 561 MTH ... CAG\n",
      "10 O43474 504 MAV ... RHF\n",
      "11 O43791 374 MSR ... KQS\n",
      "12 J8TM36 277 MQK ... RSS\n",
      "13 A1L1Q4 380 LSF ... MWR\n",
      "14 A4L7I2 2474 MDS ... GPK\n",
      "15 S7W634 812 TSE ... RHL\n",
      "16 Q9Z2F5 430 MSG ... DQL\n",
      "17 S6B291 416 YAM ... PGK\n",
      "18 O14958 372 MKR ... INT\n",
      "19 A8AZZ3 195 MKK ... AVK\n",
      "20 P04370-5 169 MAS ... ARR\n",
      "21 O00585 134 MAQ ... KGP\n",
      "22 P01097 85 MLP ... MTK\n"
     ]
    }
   ],
   "source": [
    "# 1.2 Build the MSA from the BLAST - for all alignments\n",
    "# Iterate through each row in the disprot_sequences \n",
    "for ind_q, row_q in disprot_sequences.iterrows():\n",
    "    query_id = row_q['disprot_id']\n",
    "    query_sequence = row_q['query_sequence']\n",
    "    query_len = row_q['query_len']\n",
    "    selected_dis = disordered[disordered[\"query_id\"].isin([query_id])]\n",
    "    print(ind_q, query_id, query_len, query_sequence[:3],\"...\", query_sequence[-3:])\n",
    "    \n",
    "    # Save the file\n",
    "    out_file = f'{directory}/results/alignments/output_files/blast/{query_id}_blast.fasta'\n",
    "    \n",
    "    # Initialize the first row with a length of the query sequence\n",
    "    with open(out_file, \"w\") as fout:\n",
    "        mapped_seq = [\"-\"] * query_len\n",
    "\n",
    "        # Write the header line for the query sequence\n",
    "        fout.write(\">{}\\n\".format(query_id))\n",
    "\n",
    "        # Map the query sequence to the mapped_seq list\n",
    "        c = 0\n",
    "        for l_q in query_sequence:\n",
    "            if l_q != ' ' and l_q != '-':\n",
    "                mapped_seq[c] = l_q\n",
    "                c += 1\n",
    "\n",
    "        # Write the query_mapped_seq sequence to the output file\n",
    "        fout.write(\"{}\\n\".format(\"\".join(mapped_seq)))\n",
    "\n",
    "        # Map the subject sequences to the mapped_seq list and write to the output file\n",
    "        for index, row in selected_dis.iterrows():\n",
    "            c = 0\n",
    "            query_start = row['query_start']\n",
    "            for l_q, l_s in zip(row['query_seq'], row['subject_seq']):\n",
    "                if l_q != ' ' and l_q != '-': # if the initial aa from query is not empty or gapped\n",
    "                    if query_start + c - 1 < len(mapped_seq): # added the condition\n",
    "                        mapped_seq[query_start + c - 1] = l_s if l_s != ' ' else '-' # assign aa to subject\n",
    "                        c += 1\n",
    "            fout.write(\">{}\\n{}\\n\".format(row[\"subject_id\"], \"\".join(mapped_seq)))"
   ]
  },
  {
   "cell_type": "markdown",
   "metadata": {},
   "source": [
    "### 1.2. MSA from the ClustalOmega, MAFFT\n",
    "\n",
    "Initially, we need to preprocess the dataframe into a suitable input format file for ClustalOmega and MAFFT."
   ]
  },
  {
   "cell_type": "code",
   "execution_count": 19,
   "metadata": {
    "ExecuteTime": {
     "end_time": "2023-09-14T09:29:46.863906Z",
     "start_time": "2023-09-14T09:29:46.827846Z"
    }
   },
   "outputs": [],
   "source": [
    "# # Retrieve the unaligned sequences from the local machine - for one sequence\n",
    "# output_file = f'{directory}/results/alignments/input_files/{id_dis}_input.fasta'\n",
    "\n",
    "# with open(output_file, 'w') as fout:\n",
    "#     # Write the query sequence to the output file as the first line\n",
    "#     fout.write(\">{}\\n{}\\n\".format(id_dis, query_sequence))\n",
    "\n",
    "#     for index, row in selected_dis.iterrows():\n",
    "#         accession = row['subject_id']\n",
    "#         sequence = get_fasta(accession)\n",
    "#         print(index, accession, len(sequence))\n",
    "#         if id_dis == accession: # remove duplicates\n",
    "#             continue\n",
    "#         fout.write(sequence)"
   ]
  },
  {
   "cell_type": "code",
   "execution_count": 23,
   "metadata": {},
   "outputs": [],
   "source": [
    "# # Retrieve the unaligned sequences from the local machine - for all disprot sequences at once\n",
    "# for d_id, d_row in disprot_sequences.iterrows():\n",
    "#     id_dis = d_row['disprot_id']\n",
    "#     seq = d_row['query_sequence']\n",
    "#     output_file = f'{directory}/results/alignments/input_files/{id_dis}_input_1.fasta'\n",
    "    \n",
    "#     # Iterating over selected_dis\n",
    "#     with open(output_file, 'w') as fout:\n",
    "#         selected_dis = disordered[disordered[\"query_id\"].isin([id_dis])]\n",
    "#         # Write the query sequence to the output file as the first line\n",
    "#         fout.write(\">{}\\n{}\\n\".format(id_dis, seq))\n",
    "#         print(id_dis, len(seq)) # correct\n",
    "\n",
    "#         for index, row in selected_dis.iterrows():\n",
    "#             accession = row['subject_id']\n",
    "#             sequence = get_fasta(accession)\n",
    "#             print(index, accession, len(sequence))\n",
    "#             if id_dis == accession: # remove duplicates\n",
    "#                 continue\n",
    "#             fout.write(sequence)"
   ]
  },
  {
   "cell_type": "markdown",
   "metadata": {},
   "source": [
    "After loading this file into ClustalOmega and MAFFT, we will choose the following parameters:\n",
    "- Output format: Pearson/FASTA\n",
    "- Order: input\n",
    "\n",
    "Next, we will save the outputs in the corresponding directories. After that, we need to open the files in Jalview and remove gaps in the first line corresponding to the query Uniprot ID to maintain the correct length of sequences.\n",
    "As a result, we have 3 alignments for comparison: BLAST, ClustalOmega and MAFFT."
   ]
  },
  {
   "cell_type": "markdown",
   "metadata": {},
   "source": [
    "### 1.3 Preparing the proteins for analysis"
   ]
  },
  {
   "cell_type": "code",
   "execution_count": 12,
   "metadata": {
    "ExecuteTime": {
     "end_time": "2023-09-14T09:29:48.997839Z",
     "start_time": "2023-09-14T09:29:48.889688Z"
    }
   },
   "outputs": [
    {
     "name": "stdout",
     "output_type": "stream",
     "text": [
      "Stored 'blast_seqs' (ndarray)\n",
      "Stored 'clustal_seqs' (ndarray)\n",
      "Stored 'mafft_seqs' (ndarray)\n"
     ]
    },
    {
     "data": {
      "text/plain": [
       "((201, 462), (199, 488), (199, 488))"
      ]
     },
     "execution_count": 12,
     "metadata": {},
     "output_type": "execute_result"
    }
   ],
   "source": [
    "# Prepare all sequences for the following comparison\n",
    "al_blast = f'{directory}/results/alignments/output_files/blast/{id_dis}_blast.fasta'\n",
    "al_clustal = f'{directory}/results/alignments/output_files/clustal/{id_dis}_clustal.fasta'\n",
    "al_mafft = f'{directory}/results/alignments/output_files/mafft/{id_dis}_mafft.fasta'\n",
    "\n",
    "blast_seqs = get_seqs(al_blast)\n",
    "clustal_seqs = get_seqs(al_clustal)\n",
    "mafft_seqs = get_seqs(al_mafft)\n",
    "%store blast_seqs clustal_seqs mafft_seqs\n",
    "\n",
    "# The number of sequences may differ\n",
    "blast_seqs.shape, clustal_seqs.shape, mafft_seqs.shape"
   ]
  },
  {
   "cell_type": "markdown",
   "metadata": {},
   "source": [
    "### 1.4 Calculating and removing redundant regions from MSA\n",
    "We will use CD-Hit tool. Given the aligned sequences as an input and setting the threshold of 62% we will keep only non-redundant regions in MSA."
   ]
  },
  {
   "cell_type": "code",
   "execution_count": 98,
   "metadata": {},
   "outputs": [],
   "source": [
    "# # Calculate redundancy \n",
    "# def calculate_Nf(msa_file, threshold, id_dis):\n",
    "\n",
    "#     output_file = f\"/Users/alina/HMM/results/alignments/input_files/non-redundant/Nf_{id_dis}.fasta\"\n",
    "#     cd_hit_path = \"/Users/alina/cd-hit/cd-hit\"\n",
    "\n",
    "#     # Run CD-HIT to cluster the sequences (excluding the first line) and remove redundancy\n",
    "#     cmd = f\"{cd_hit_path} -i {msa_file} -o {output_file} -c {threshold} -n 4 > /dev/null\"\n",
    "#     subprocess.call(cmd, shell=True)\n",
    "\n",
    "#     # Read the first line from the original MSA file\n",
    "#     with open(msa_file, \"r\") as msa_handle:\n",
    "#         first_record = next(SeqIO.parse(msa_handle, \"fasta\"))\n",
    "\n",
    "#     # Temporarily store the non-redundant sequences in a list\n",
    "#     non_redundant_sequences = []\n",
    "#     with open(output_file, \"r\") as output_handle:\n",
    "#         for record in SeqIO.parse(output_handle, \"fasta\"):\n",
    "#             non_redundant_sequences.append(record)\n",
    "\n",
    "#     # Write the non-redundant sequences to the output file\n",
    "#     with open(output_file, \"w\") as final_handle:\n",
    "#         SeqIO.write([first_record] + non_redundant_sequences, final_handle, \"fasta\")\n",
    "\n",
    "#     # Count the number of sequences in the MSA and the non-redundant MSA\n",
    "#     total_sequences = sum(1 for record in SeqIO.parse(msa_file, \"fasta\"))\n",
    "#     non_redundant_sequences_count = len(non_redundant_sequences)\n",
    "\n",
    "#     # Calculate the effective sequences (Nf)\n",
    "#     Nf = non_redundant_sequences_count / total_sequences\n",
    "#     print(\"The number of non-redundant sequences:\", non_redundant_sequences_count)\n",
    "#     print(\"The total number of sequences:\", total_sequences)\n",
    "#     print(\"The ratio of non-redundant sequences (Nf):\", \"{:.2f}\".format(Nf))\n",
    "\n",
    "#     return"
   ]
  },
  {
   "cell_type": "code",
   "execution_count": 99,
   "metadata": {
    "ExecuteTime": {
     "end_time": "2023-09-14T09:31:24.093075Z",
     "start_time": "2023-09-14T09:31:23.979602Z"
    }
   },
   "outputs": [
    {
     "name": "stdout",
     "output_type": "stream",
     "text": [
      "Q8R464\n",
      "The number of non-redundant sequences: 2\n",
      "The total number of sequences: 194\n",
      "The ratio of non-redundant sequences (Nf): 0.01\n"
     ]
    }
   ],
   "source": [
    "# Calculate redundancy and the number of effective sequences with calculate_Nf function using the .fasta as an input\n",
    "ali_file = f'{directory}/results/alignments/input_files/{id_dis}_input_1.fasta'\n",
    "print(id_dis)\n",
    "calculate_Nf(ali_file, 0.62, id_dis) \n",
    "\n",
    "# calculate_Nf(al_blast, 0.62, id_dis)\n",
    "# calculate_Nf(al_clustal, 0.62, id_dis)\n",
    "# calculate_Nf(al_mafft, 0.62, id_dis)"
   ]
  },
  {
   "cell_type": "code",
   "execution_count": 21,
   "metadata": {
    "ExecuteTime": {
     "end_time": "2023-09-14T09:31:29.005499Z",
     "start_time": "2023-09-14T09:31:28.994168Z"
    }
   },
   "outputs": [],
   "source": [
    "# # Save the generated cluster file for the MSA notebook\n",
    "# data_file = f\"/Users/alina/HMM/results/alignments/input_files/non-redundant/Nf_{id_dis}.fasta.clstr\"\n",
    "# %store data_file"
   ]
  },
  {
   "cell_type": "code",
   "execution_count": 37,
   "metadata": {
    "ExecuteTime": {
     "end_time": "2023-09-14T09:31:30.247223Z",
     "start_time": "2023-09-14T09:31:30.210308Z"
    }
   },
   "outputs": [
    {
     "name": "stdout",
     "output_type": "stream",
     "text": [
      "Stored 'nr_seqs' (ndarray)\n",
      "The shape of non-redundant MSA for Q9H832 protein: (3, 354)\n"
     ]
    },
    {
     "data": {
      "text/plain": [
       "array([['M', 'A', 'E', ..., 'L', 'R', 'V'],\n",
       "       ['M', 'A', 'E', ..., 'L', 'R', 'V'],\n",
       "       ['M', 'A', 'E', ..., 'S', 'H', 'S']], dtype='<U1')"
      ]
     },
     "execution_count": 37,
     "metadata": {},
     "output_type": "execute_result"
    }
   ],
   "source": [
    "# Load non_redundant MSA from ClustalOmega\n",
    "non_redundant = f'{directory}/results/alignments/output_files/clustal/non-redundant/Nf_{id_dis}_clustal.fasta'\n",
    "\n",
    "nr_seqs = get_seqs(non_redundant)\n",
    "%store nr_seqs\n",
    "\n",
    "# Check the shape of non-redundant MSA\n",
    "print(f\"The shape of non-redundant MSA for {id_dis} protein:\", nr_seqs.shape)\n",
    "nr_seqs"
   ]
  },
  {
   "cell_type": "markdown",
   "metadata": {
    "ExecuteTime": {
     "end_time": "2023-08-02T13:49:05.791602Z",
     "start_time": "2023-08-02T13:49:05.786460Z"
    }
   },
   "source": [
    "### 1.5 Defining disordered regions in MSA\n",
    "\n",
    "Here we will look at the positions of disordered regions in an alignment. Then we'll extract these regions for the separate analysis."
   ]
  },
  {
   "cell_type": "code",
   "execution_count": 13,
   "metadata": {
    "ExecuteTime": {
     "end_time": "2023-09-14T09:31:32.560245Z",
     "start_time": "2023-09-14T09:31:32.539609Z"
    }
   },
   "outputs": [
    {
     "name": "stdout",
     "output_type": "stream",
     "text": [
      "The lists of start and end positions of the Q9H832 disordered regions: \n",
      "Start regions: [1, 327], \n",
      "End regions: [99, 354]\n"
     ]
    }
   ],
   "source": [
    "# Extract the lists of start and end regions\n",
    "start_regions = curated_query['start'].tolist()\n",
    "end_regions = curated_query['end'].tolist()\n",
    "print(f\"The lists of start and end positions of the {id_dis} disordered regions: \\n\"\n",
    "      f\"Start regions: {start_regions}, \\n\"\n",
    "      f\"End regions: {end_regions}\")"
   ]
  },
  {
   "cell_type": "code",
   "execution_count": 138,
   "metadata": {
    "ExecuteTime": {
     "end_time": "2023-09-14T09:31:33.302078Z",
     "start_time": "2023-09-14T09:31:33.248030Z"
    }
   },
   "outputs": [],
   "source": [
    "# # Trim disordered regions from MSA BLAST and save the file in the folder\n",
    "# regions = trim_dis_regions(al_blast, id_dis, start_regions, end_regions)\n",
    "\n",
    "# # Look at the resulting regions in an alignment\n",
    "# seqs = get_seqs(regions)\n",
    "# print(id_dis, seqs.shape, type(seqs))\n",
    "# seqs[:10]"
   ]
  },
  {
   "cell_type": "markdown",
   "metadata": {},
   "source": [
    "### 1.5.1 Define disordered regions for the redundant MSAs"
   ]
  },
  {
   "cell_type": "code",
   "execution_count": 14,
   "metadata": {
    "ExecuteTime": {
     "end_time": "2023-09-14T09:31:35.773114Z",
     "start_time": "2023-09-14T09:31:35.728344Z"
    }
   },
   "outputs": [
    {
     "name": "stdout",
     "output_type": "stream",
     "text": [
      "Q9H832 (201, 28) <class 'numpy.ndarray'>\n",
      "Q9H832 (201, 99) <class 'numpy.ndarray'>\n"
     ]
    }
   ],
   "source": [
    "# Split the disordered regions with the select_dis_regions function\n",
    "output_directory = f\"{directory}/results/alignments/output_files/disordered\"\n",
    "separate_disordered_regions = select_dis_regions(al_blast, id_dis, start_regions, end_regions, output_directory)\n",
    "\n",
    "# if there is more than 1 region\n",
    "dis_seqs = print_dis_seqs(output_directory, 'disordered', id_dis)\n",
    "# %store dis_seqs\n",
    "if isinstance(dis_seqs, list):  # Check if dis_seqs is a list of several disordered regions\n",
    "    print(id_dis, dis_seqs[0].shape, type(dis_seqs[0]))\n",
    "    print(id_dis, dis_seqs[1].shape, type(dis_seqs[1]))\n",
    "else: # if dis_seqs consists of one disordered region only\n",
    "    print(id_dis, dis_seqs.shape, type(dis_seqs))"
   ]
  },
  {
   "cell_type": "code",
   "execution_count": 15,
   "metadata": {
    "ExecuteTime": {
     "end_time": "2023-08-21T07:09:42.452981Z",
     "start_time": "2023-08-21T07:09:42.440758Z"
    }
   },
   "outputs": [
    {
     "name": "stdout",
     "output_type": "stream",
     "text": [
      "Stored 'dis_calc0' (DataFrame)\n",
      "Stored 'dis_calc1' (DataFrame)\n"
     ]
    }
   ],
   "source": [
    "# Calculation of occupancy and entropy\n",
    "if isinstance(dis_seqs, list):\n",
    "    dis_calc0 = stats_calculation(dis_seqs[0])\n",
    "    dis_calc1 = stats_calculation(dis_seqs[0])\n",
    "    %store dis_calc0 dis_calc1\n",
    "else:\n",
    "    dis_calc = stats_calculation(dis_seqs)\n",
    "    %store dis_calc"
   ]
  },
  {
   "cell_type": "code",
   "execution_count": 42,
   "metadata": {
    "ExecuteTime": {
     "end_time": "2023-08-21T07:09:44.126841Z",
     "start_time": "2023-08-21T07:09:44.113396Z"
    }
   },
   "outputs": [],
   "source": [
    "# # Trim disordered regions from MSA BLAST and save the file in the folder\n",
    "# regions = trim_dis_regions(non_redundant, id_dis, start_regions, end_regions)\n",
    "\n",
    "# # Look at the resulting regions in an alignment\n",
    "# nr_dis_seqs = get_seqs(regions)\n",
    "# print(id_dis, nr_dis_seqs.shape, type(nr_dis_seqs))\n",
    "# nr_dis_seqs"
   ]
  },
  {
   "cell_type": "markdown",
   "metadata": {},
   "source": [
    "### 1.5.2 Define disordered regions for the non-redundant MSAs"
   ]
  },
  {
   "cell_type": "code",
   "execution_count": 43,
   "metadata": {
    "ExecuteTime": {
     "end_time": "2023-08-21T07:09:47.036332Z",
     "start_time": "2023-08-21T07:09:47.019014Z"
    }
   },
   "outputs": [
    {
     "name": "stdout",
     "output_type": "stream",
     "text": [
      "Q9H832 (3, 28) <class 'numpy.ndarray'>\n",
      "Q9H832 (3, 99) <class 'numpy.ndarray'>\n"
     ]
    }
   ],
   "source": [
    "# Split the disordered regions with the help of select_dis_regions function\n",
    "output_directory = f\"{directory}/results/alignments/output_files/disordered/non-redundant\"\n",
    "separate_disordered_regions = select_dis_regions(non_redundant, id_dis, start_regions, end_regions, output_directory)\n",
    "\n",
    "# if there are more than 1 region\n",
    "dis_seqs_nr = print_dis_seqs(output_directory, 'disordered', id_dis)\n",
    "# %store dis_seqs\n",
    "if isinstance(dis_seqs, list):  # Check if dis_seqs is a list of several disordered regions\n",
    "    print(id_dis, dis_seqs_nr[0].shape, type(dis_seqs_nr[0]))\n",
    "    print(id_dis, dis_seqs_nr[1].shape, type(dis_seqs_nr[1]))\n",
    "else: # if dis_seqs consists of one disordered region only\n",
    "    print(id_dis, dis_seqs_nr.shape, type(dis_seqs_nr))"
   ]
  },
  {
   "cell_type": "code",
   "execution_count": 44,
   "metadata": {
    "ExecuteTime": {
     "end_time": "2023-08-07T12:47:10.667068Z",
     "start_time": "2023-08-07T12:47:10.651948Z"
    }
   },
   "outputs": [
    {
     "name": "stdout",
     "output_type": "stream",
     "text": [
      "Stored 'dis_calc_nr0' (DataFrame)\n",
      "Stored 'dis_calc_nr1' (DataFrame)\n"
     ]
    }
   ],
   "source": [
    "# Calculation of occupancy and entropy\n",
    "if isinstance(dis_seqs, list):\n",
    "    dis_calc_nr0 = stats_calculation(dis_seqs_nr[0])\n",
    "    dis_calc_nr1 = stats_calculation(dis_seqs_nr[0])\n",
    "    %store dis_calc_nr0 dis_calc_nr1\n",
    "else:\n",
    "    dis_calc_nr = stats_calculation(dis_seqs_nr)\n",
    "    %store dis_calc_nr"
   ]
  }
 ],
 "metadata": {
  "kernelspec": {
   "display_name": "Python 3 (ipykernel)",
   "language": "python",
   "name": "python3"
  },
  "language_info": {
   "codemirror_mode": {
    "name": "ipython",
    "version": 3
   },
   "file_extension": ".py",
   "mimetype": "text/x-python",
   "name": "python",
   "nbconvert_exporter": "python",
   "pygments_lexer": "ipython3",
   "version": "3.9.12"
  }
 },
 "nbformat": 4,
 "nbformat_minor": 1
}
