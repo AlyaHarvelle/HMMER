{
 "cells": [
  {
   "cell_type": "code",
   "execution_count": 1,
   "metadata": {
    "ExecuteTime": {
     "end_time": "2023-10-02T07:55:55.284130Z",
     "start_time": "2023-10-02T07:55:53.625394Z"
    }
   },
   "outputs": [],
   "source": [
    "# Importing the libraries\n",
    "from functions import *"
   ]
  },
  {
   "cell_type": "code",
   "execution_count": 2,
   "metadata": {
    "ExecuteTime": {
     "end_time": "2023-10-02T07:55:56.367668Z",
     "start_time": "2023-10-02T07:55:56.292366Z"
    }
   },
   "outputs": [],
   "source": [
    "# Set input parameters\n",
    "name = 'alina'\n",
    "server = 'ecate'"
   ]
  },
  {
   "cell_type": "markdown",
   "metadata": {},
   "source": [
    "### Creating the dataframe of disordered regions"
   ]
  },
  {
   "cell_type": "code",
   "execution_count": 2,
   "metadata": {
    "ExecuteTime": {
     "end_time": "2023-10-02T07:55:58.503052Z",
     "start_time": "2023-10-02T07:55:57.774314Z"
    }
   },
   "outputs": [
    {
     "name": "stdout",
     "output_type": "stream",
     "text": [
      "The number of instances: 8656\n"
     ]
    },
    {
     "data": {
      "text/html": [
       "<div>\n",
       "<style scoped>\n",
       "    .dataframe tbody tr th:only-of-type {\n",
       "        vertical-align: middle;\n",
       "    }\n",
       "\n",
       "    .dataframe tbody tr th {\n",
       "        vertical-align: top;\n",
       "    }\n",
       "\n",
       "    .dataframe thead th {\n",
       "        text-align: right;\n",
       "    }\n",
       "</style>\n",
       "<table border=\"1\" class=\"dataframe\">\n",
       "  <thead>\n",
       "    <tr style=\"text-align: right;\">\n",
       "      <th></th>\n",
       "      <th>query_id</th>\n",
       "      <th>subject_id</th>\n",
       "      <th>query_len</th>\n",
       "      <th>hsp_len</th>\n",
       "      <th>query_seq</th>\n",
       "      <th>match_seq</th>\n",
       "      <th>subject_seq</th>\n",
       "      <th>query_start</th>\n",
       "      <th>query_end</th>\n",
       "      <th>subject_start</th>\n",
       "      <th>subject_end</th>\n",
       "      <th>identity</th>\n",
       "      <th>positive</th>\n",
       "      <th>gaps</th>\n",
       "      <th>eval</th>\n",
       "      <th>bit_score</th>\n",
       "      <th>count</th>\n",
       "    </tr>\n",
       "  </thead>\n",
       "  <tbody>\n",
       "    <tr>\n",
       "      <th>0</th>\n",
       "      <td>Q16620</td>\n",
       "      <td>A0A2R9BM51</td>\n",
       "      <td>822</td>\n",
       "      <td>822</td>\n",
       "      <td>MSSWIRWHGPAMARLWGFCWLVVGFWRAAFACPTSCKCSASRIWCS...</td>\n",
       "      <td>MSSWIRWHGPAMARLWGFCWLVVGFWRAAFACPTSCKCSASRIWCS...</td>\n",
       "      <td>MSSWIRWHGPAMARLWGFCWLVVGFWRAAFACPTSCKCSASRIWCS...</td>\n",
       "      <td>1</td>\n",
       "      <td>822</td>\n",
       "      <td>1</td>\n",
       "      <td>822</td>\n",
       "      <td>822</td>\n",
       "      <td>822</td>\n",
       "      <td>0</td>\n",
       "      <td>0.0</td>\n",
       "      <td>4458.0</td>\n",
       "      <td>200</td>\n",
       "    </tr>\n",
       "    <tr>\n",
       "      <th>1</th>\n",
       "      <td>Q16620</td>\n",
       "      <td>A0A4X2LP40</td>\n",
       "      <td>822</td>\n",
       "      <td>824</td>\n",
       "      <td>MSSWIRWHGPAMARLWGFCWLVVGFWRAAFACPTSCKCSASRIWCS...</td>\n",
       "      <td>M SW + HGP MARL GFCWLV+ FWR + ACPTSC CS +RIWCS...</td>\n",
       "      <td>MLSWKKCHGPGMARLLGFCWLVLIFWRGSQACPTSCTCSTTRIWCS...</td>\n",
       "      <td>1</td>\n",
       "      <td>822</td>\n",
       "      <td>1</td>\n",
       "      <td>824</td>\n",
       "      <td>689</td>\n",
       "      <td>745</td>\n",
       "      <td>2</td>\n",
       "      <td>0.0</td>\n",
       "      <td>3749.0</td>\n",
       "      <td>200</td>\n",
       "    </tr>\n",
       "    <tr>\n",
       "      <th>2</th>\n",
       "      <td>Q16620</td>\n",
       "      <td>A0A4X2LDU8</td>\n",
       "      <td>822</td>\n",
       "      <td>822</td>\n",
       "      <td>MSSWIRWHGPAMARLWGFCWLVVGFWRAAFACPTSCKCSASRIWCS...</td>\n",
       "      <td>M SW + HGP MARL GFCWLV+ FWR + ACPTSC CS +RIWCS...</td>\n",
       "      <td>MLSWKKCHGPGMARLLGFCWLVLIFWRGSQACPTSCTCSTTRIWCS...</td>\n",
       "      <td>1</td>\n",
       "      <td>822</td>\n",
       "      <td>1</td>\n",
       "      <td>821</td>\n",
       "      <td>689</td>\n",
       "      <td>745</td>\n",
       "      <td>1</td>\n",
       "      <td>0.0</td>\n",
       "      <td>3756.0</td>\n",
       "      <td>200</td>\n",
       "    </tr>\n",
       "    <tr>\n",
       "      <th>3</th>\n",
       "      <td>Q16620</td>\n",
       "      <td>A0A6P5IKH1</td>\n",
       "      <td>822</td>\n",
       "      <td>824</td>\n",
       "      <td>MSSWIRWHGPAMARLWGFCWLVVGFWRAAFACPTSCKCSASRIWCS...</td>\n",
       "      <td>M SW + HGP MARL GFCWLV+ FWR + ACPTSC CS +RIWCS...</td>\n",
       "      <td>MLSWKKCHGPGMARLLGFCWLVLIFWRGSQACPTSCTCSTTRIWCS...</td>\n",
       "      <td>1</td>\n",
       "      <td>822</td>\n",
       "      <td>1</td>\n",
       "      <td>824</td>\n",
       "      <td>691</td>\n",
       "      <td>745</td>\n",
       "      <td>2</td>\n",
       "      <td>0.0</td>\n",
       "      <td>3764.0</td>\n",
       "      <td>200</td>\n",
       "    </tr>\n",
       "    <tr>\n",
       "      <th>4</th>\n",
       "      <td>Q16620</td>\n",
       "      <td>A0A7J7UQA2</td>\n",
       "      <td>822</td>\n",
       "      <td>741</td>\n",
       "      <td>TSCKCSASRIWCSDPSPGIVAFPRLEPNSVDPENITEIFIANQKRL...</td>\n",
       "      <td>+SCKCSASRIWCSDP PGI+AFPRLEPN++DPENITEI+IANQKRL...</td>\n",
       "      <td>SSCKCSASRIWCSDPIPGIMAFPRLEPNTIDPENITEIYIANQKRL...</td>\n",
       "      <td>34</td>\n",
       "      <td>774</td>\n",
       "      <td>2</td>\n",
       "      <td>739</td>\n",
       "      <td>710</td>\n",
       "      <td>724</td>\n",
       "      <td>3</td>\n",
       "      <td>0.0</td>\n",
       "      <td>3776.0</td>\n",
       "      <td>200</td>\n",
       "    </tr>\n",
       "  </tbody>\n",
       "</table>\n",
       "</div>"
      ],
      "text/plain": [
       "  query_id  subject_id  query_len  hsp_len  \\\n",
       "0   Q16620  A0A2R9BM51        822      822   \n",
       "1   Q16620  A0A4X2LP40        822      824   \n",
       "2   Q16620  A0A4X2LDU8        822      822   \n",
       "3   Q16620  A0A6P5IKH1        822      824   \n",
       "4   Q16620  A0A7J7UQA2        822      741   \n",
       "\n",
       "                                           query_seq  \\\n",
       "0  MSSWIRWHGPAMARLWGFCWLVVGFWRAAFACPTSCKCSASRIWCS...   \n",
       "1  MSSWIRWHGPAMARLWGFCWLVVGFWRAAFACPTSCKCSASRIWCS...   \n",
       "2  MSSWIRWHGPAMARLWGFCWLVVGFWRAAFACPTSCKCSASRIWCS...   \n",
       "3  MSSWIRWHGPAMARLWGFCWLVVGFWRAAFACPTSCKCSASRIWCS...   \n",
       "4  TSCKCSASRIWCSDPSPGIVAFPRLEPNSVDPENITEIFIANQKRL...   \n",
       "\n",
       "                                           match_seq  \\\n",
       "0  MSSWIRWHGPAMARLWGFCWLVVGFWRAAFACPTSCKCSASRIWCS...   \n",
       "1  M SW + HGP MARL GFCWLV+ FWR + ACPTSC CS +RIWCS...   \n",
       "2  M SW + HGP MARL GFCWLV+ FWR + ACPTSC CS +RIWCS...   \n",
       "3  M SW + HGP MARL GFCWLV+ FWR + ACPTSC CS +RIWCS...   \n",
       "4  +SCKCSASRIWCSDP PGI+AFPRLEPN++DPENITEI+IANQKRL...   \n",
       "\n",
       "                                         subject_seq  query_start  query_end  \\\n",
       "0  MSSWIRWHGPAMARLWGFCWLVVGFWRAAFACPTSCKCSASRIWCS...            1        822   \n",
       "1  MLSWKKCHGPGMARLLGFCWLVLIFWRGSQACPTSCTCSTTRIWCS...            1        822   \n",
       "2  MLSWKKCHGPGMARLLGFCWLVLIFWRGSQACPTSCTCSTTRIWCS...            1        822   \n",
       "3  MLSWKKCHGPGMARLLGFCWLVLIFWRGSQACPTSCTCSTTRIWCS...            1        822   \n",
       "4  SSCKCSASRIWCSDPIPGIMAFPRLEPNTIDPENITEIYIANQKRL...           34        774   \n",
       "\n",
       "   subject_start  subject_end  identity  positive  gaps  eval  bit_score  \\\n",
       "0              1          822       822       822     0   0.0     4458.0   \n",
       "1              1          824       689       745     2   0.0     3749.0   \n",
       "2              1          821       689       745     1   0.0     3756.0   \n",
       "3              1          824       691       745     2   0.0     3764.0   \n",
       "4              2          739       710       724     3   0.0     3776.0   \n",
       "\n",
       "   count  \n",
       "0    200  \n",
       "1    200  \n",
       "2    200  \n",
       "3    200  \n",
       "4    200  "
      ]
     },
     "execution_count": 2,
     "metadata": {},
     "output_type": "execute_result"
    }
   ],
   "source": [
    "# Open XML file as a dataframe\n",
    "input_file = '{}/databases/uniprot/curated_uniprot.fasta_75'.format(directory) # change the file name if necessary\n",
    "df = blast_parser(input_file)\n",
    "print(f\"The number of instances: {len(df)}\")\n",
    "df.head(5)"
   ]
  },
  {
   "cell_type": "code",
   "execution_count": 3,
   "metadata": {
    "ExecuteTime": {
     "end_time": "2023-10-02T07:55:59.517844Z",
     "start_time": "2023-10-02T07:55:59.424142Z"
    }
   },
   "outputs": [
    {
     "name": "stdout",
     "output_type": "stream",
     "text": [
      "The number of the Curated Disprot database instances: 3151\n"
     ]
    },
    {
     "data": {
      "text/html": [
       "<div>\n",
       "<style scoped>\n",
       "    .dataframe tbody tr th:only-of-type {\n",
       "        vertical-align: middle;\n",
       "    }\n",
       "\n",
       "    .dataframe tbody tr th {\n",
       "        vertical-align: top;\n",
       "    }\n",
       "\n",
       "    .dataframe thead th {\n",
       "        text-align: right;\n",
       "    }\n",
       "</style>\n",
       "<table border=\"1\" class=\"dataframe\">\n",
       "  <thead>\n",
       "    <tr style=\"text-align: right;\">\n",
       "      <th></th>\n",
       "      <th>acc</th>\n",
       "      <th>evidence</th>\n",
       "      <th>feature</th>\n",
       "      <th>source</th>\n",
       "      <th>start</th>\n",
       "      <th>end</th>\n",
       "      <th>length</th>\n",
       "    </tr>\n",
       "  </thead>\n",
       "  <tbody>\n",
       "    <tr>\n",
       "      <th>6927</th>\n",
       "      <td>P03265</td>\n",
       "      <td>curated</td>\n",
       "      <td>disorder</td>\n",
       "      <td>disprot</td>\n",
       "      <td>294</td>\n",
       "      <td>334</td>\n",
       "      <td>41</td>\n",
       "    </tr>\n",
       "    <tr>\n",
       "      <th>6928</th>\n",
       "      <td>P03265</td>\n",
       "      <td>curated</td>\n",
       "      <td>disorder</td>\n",
       "      <td>disprot</td>\n",
       "      <td>454</td>\n",
       "      <td>464</td>\n",
       "      <td>11</td>\n",
       "    </tr>\n",
       "    <tr>\n",
       "      <th>6929</th>\n",
       "      <td>P49913</td>\n",
       "      <td>curated</td>\n",
       "      <td>disorder</td>\n",
       "      <td>disprot</td>\n",
       "      <td>134</td>\n",
       "      <td>170</td>\n",
       "      <td>37</td>\n",
       "    </tr>\n",
       "    <tr>\n",
       "      <th>6930</th>\n",
       "      <td>P03045</td>\n",
       "      <td>curated</td>\n",
       "      <td>disorder</td>\n",
       "      <td>disprot</td>\n",
       "      <td>1</td>\n",
       "      <td>107</td>\n",
       "      <td>107</td>\n",
       "    </tr>\n",
       "    <tr>\n",
       "      <th>6931</th>\n",
       "      <td>P00004</td>\n",
       "      <td>curated</td>\n",
       "      <td>disorder</td>\n",
       "      <td>disprot</td>\n",
       "      <td>1</td>\n",
       "      <td>105</td>\n",
       "      <td>105</td>\n",
       "    </tr>\n",
       "  </tbody>\n",
       "</table>\n",
       "</div>"
      ],
      "text/plain": [
       "         acc evidence   feature   source  start  end  length\n",
       "6927  P03265  curated  disorder  disprot    294  334      41\n",
       "6928  P03265  curated  disorder  disprot    454  464      11\n",
       "6929  P49913  curated  disorder  disprot    134  170      37\n",
       "6930  P03045  curated  disorder  disprot      1  107     107\n",
       "6931  P00004  curated  disorder  disprot      1  105     105"
      ]
     },
     "execution_count": 3,
     "metadata": {},
     "output_type": "execute_result"
    }
   ],
   "source": [
    "# Create a dataframe with Disprot instances from curated.mjson database\n",
    "data = list()\n",
    "\n",
    "with open('curated.mjson', 'r') as file:\n",
    "    for line in file:\n",
    "        obj = json.loads(line)\n",
    "        rows = json_parser(obj)\n",
    "        data.extend(rows)\n",
    "\n",
    "curated_disprot = pd.DataFrame(data)\n",
    "\n",
    "# Calculate the length of disordered regions\n",
    "curated_disprot['length'] = curated_disprot['end'] - curated_disprot['start'] + 1\n",
    "curated_disprot = curated_disprot[(curated_disprot['feature'] == 'disorder') & (curated_disprot['source'] == 'disprot')]\n",
    "curated_disprot.to_csv(\"curated_disprot.csv\", index=False)\n",
    "\n",
    "print(f\"The number of the Curated Disprot database instances: {len(curated_disprot)}\")\n",
    "curated_disprot.head()"
   ]
  },
  {
   "cell_type": "code",
   "execution_count": 4,
   "metadata": {
    "ExecuteTime": {
     "end_time": "2023-10-02T07:56:00.347070Z",
     "start_time": "2023-10-02T07:56:00.246256Z"
    }
   },
   "outputs": [
    {
     "name": "stdout",
     "output_type": "stream",
     "text": [
      "The number of rows containing disordered regions: 2887\n"
     ]
    },
    {
     "data": {
      "text/html": [
       "<div>\n",
       "<style scoped>\n",
       "    .dataframe tbody tr th:only-of-type {\n",
       "        vertical-align: middle;\n",
       "    }\n",
       "\n",
       "    .dataframe tbody tr th {\n",
       "        vertical-align: top;\n",
       "    }\n",
       "\n",
       "    .dataframe thead th {\n",
       "        text-align: right;\n",
       "    }\n",
       "</style>\n",
       "<table border=\"1\" class=\"dataframe\">\n",
       "  <thead>\n",
       "    <tr style=\"text-align: right;\">\n",
       "      <th></th>\n",
       "      <th>query_id</th>\n",
       "      <th>subject_id</th>\n",
       "      <th>query_len</th>\n",
       "      <th>hsp_len</th>\n",
       "      <th>query_seq</th>\n",
       "      <th>match_seq</th>\n",
       "      <th>subject_seq</th>\n",
       "      <th>query_start</th>\n",
       "      <th>query_end</th>\n",
       "      <th>subject_start</th>\n",
       "      <th>subject_end</th>\n",
       "      <th>identity</th>\n",
       "      <th>positive</th>\n",
       "      <th>gaps</th>\n",
       "      <th>eval</th>\n",
       "      <th>bit_score</th>\n",
       "      <th>count</th>\n",
       "    </tr>\n",
       "  </thead>\n",
       "  <tbody>\n",
       "    <tr>\n",
       "      <th>200</th>\n",
       "      <td>Q9H832</td>\n",
       "      <td>A0A6J2FM24</td>\n",
       "      <td>354</td>\n",
       "      <td>356</td>\n",
       "      <td>MAESPTEEAATA--GAGAAGPGASSVAGVVGVSGSGGGFGPPFLPD...</td>\n",
       "      <td>MAESPTEEAATA  GAGAAGPGAS V GVVGVSGSG  FGPPFLPD...</td>\n",
       "      <td>MAESPTEEAATATAGAGAAGPGASGVTGVVGVSGSG--FGPPFLPD...</td>\n",
       "      <td>1</td>\n",
       "      <td>354</td>\n",
       "      <td>1</td>\n",
       "      <td>354</td>\n",
       "      <td>350</td>\n",
       "      <td>350</td>\n",
       "      <td>4</td>\n",
       "      <td>0.0</td>\n",
       "      <td>1851.0</td>\n",
       "      <td>200</td>\n",
       "    </tr>\n",
       "    <tr>\n",
       "      <th>201</th>\n",
       "      <td>Q9H832</td>\n",
       "      <td>A0A3Q7W6Y2</td>\n",
       "      <td>354</td>\n",
       "      <td>356</td>\n",
       "      <td>MAESPTEEAATA--GAGAAGPGASSVAGVVGVSGSGGGFGPPFLPD...</td>\n",
       "      <td>MAESPTEEAATA  GAGA GPGAS VAGVVGVSGSG  FGPPFLPD...</td>\n",
       "      <td>MAESPTEEAATATAGAGATGPGASGVAGVVGVSGSG--FGPPFLPD...</td>\n",
       "      <td>1</td>\n",
       "      <td>354</td>\n",
       "      <td>1</td>\n",
       "      <td>354</td>\n",
       "      <td>350</td>\n",
       "      <td>350</td>\n",
       "      <td>4</td>\n",
       "      <td>0.0</td>\n",
       "      <td>1851.0</td>\n",
       "      <td>200</td>\n",
       "    </tr>\n",
       "    <tr>\n",
       "      <th>202</th>\n",
       "      <td>Q9H832</td>\n",
       "      <td>A0A2U3VK69</td>\n",
       "      <td>354</td>\n",
       "      <td>356</td>\n",
       "      <td>MAESPTEEAATA--GAGAAGPGASSVAGVVGVSGSGGGFGPPFLPD...</td>\n",
       "      <td>MAESPTEEAATA  GAGAAGPGAS V GVVGVSGSG  FGPPFLPD...</td>\n",
       "      <td>MAESPTEEAATATAGAGAAGPGASGVTGVVGVSGSG--FGPPFLPD...</td>\n",
       "      <td>1</td>\n",
       "      <td>354</td>\n",
       "      <td>1</td>\n",
       "      <td>354</td>\n",
       "      <td>350</td>\n",
       "      <td>350</td>\n",
       "      <td>4</td>\n",
       "      <td>0.0</td>\n",
       "      <td>1851.0</td>\n",
       "      <td>200</td>\n",
       "    </tr>\n",
       "    <tr>\n",
       "      <th>203</th>\n",
       "      <td>Q9H832</td>\n",
       "      <td>A0A2Y9JVH5</td>\n",
       "      <td>354</td>\n",
       "      <td>358</td>\n",
       "      <td>MAESPTEEAATA----GAGAAGPGASSVAGVVGVSGSGGGFGPPFL...</td>\n",
       "      <td>MAESPTEEAATA    GAGAAGPGAS VAGVVGVSGSG  FGPPFL...</td>\n",
       "      <td>MAESPTEEAATATATAGAGAAGPGASGVAGVVGVSGSG--FGPPFL...</td>\n",
       "      <td>1</td>\n",
       "      <td>354</td>\n",
       "      <td>1</td>\n",
       "      <td>356</td>\n",
       "      <td>351</td>\n",
       "      <td>351</td>\n",
       "      <td>6</td>\n",
       "      <td>0.0</td>\n",
       "      <td>1854.0</td>\n",
       "      <td>200</td>\n",
       "    </tr>\n",
       "    <tr>\n",
       "      <th>204</th>\n",
       "      <td>Q9H832</td>\n",
       "      <td>A0A8C7ALE4</td>\n",
       "      <td>354</td>\n",
       "      <td>358</td>\n",
       "      <td>MAESPTEEAATA----GAGAAGPGASSVAGVVGVSGSGGGFGPPFL...</td>\n",
       "      <td>MAESPTEEAATA    GAGAAGPGAS VAGVVGVSGSG  FGPPFL...</td>\n",
       "      <td>MAESPTEEAATATATAGAGAAGPGASGVAGVVGVSGSG--FGPPFL...</td>\n",
       "      <td>1</td>\n",
       "      <td>354</td>\n",
       "      <td>1</td>\n",
       "      <td>356</td>\n",
       "      <td>351</td>\n",
       "      <td>351</td>\n",
       "      <td>6</td>\n",
       "      <td>0.0</td>\n",
       "      <td>1854.0</td>\n",
       "      <td>200</td>\n",
       "    </tr>\n",
       "  </tbody>\n",
       "</table>\n",
       "</div>"
      ],
      "text/plain": [
       "    query_id  subject_id  query_len  hsp_len  \\\n",
       "200   Q9H832  A0A6J2FM24        354      356   \n",
       "201   Q9H832  A0A3Q7W6Y2        354      356   \n",
       "202   Q9H832  A0A2U3VK69        354      356   \n",
       "203   Q9H832  A0A2Y9JVH5        354      358   \n",
       "204   Q9H832  A0A8C7ALE4        354      358   \n",
       "\n",
       "                                             query_seq  \\\n",
       "200  MAESPTEEAATA--GAGAAGPGASSVAGVVGVSGSGGGFGPPFLPD...   \n",
       "201  MAESPTEEAATA--GAGAAGPGASSVAGVVGVSGSGGGFGPPFLPD...   \n",
       "202  MAESPTEEAATA--GAGAAGPGASSVAGVVGVSGSGGGFGPPFLPD...   \n",
       "203  MAESPTEEAATA----GAGAAGPGASSVAGVVGVSGSGGGFGPPFL...   \n",
       "204  MAESPTEEAATA----GAGAAGPGASSVAGVVGVSGSGGGFGPPFL...   \n",
       "\n",
       "                                             match_seq  \\\n",
       "200  MAESPTEEAATA  GAGAAGPGAS V GVVGVSGSG  FGPPFLPD...   \n",
       "201  MAESPTEEAATA  GAGA GPGAS VAGVVGVSGSG  FGPPFLPD...   \n",
       "202  MAESPTEEAATA  GAGAAGPGAS V GVVGVSGSG  FGPPFLPD...   \n",
       "203  MAESPTEEAATA    GAGAAGPGAS VAGVVGVSGSG  FGPPFL...   \n",
       "204  MAESPTEEAATA    GAGAAGPGAS VAGVVGVSGSG  FGPPFL...   \n",
       "\n",
       "                                           subject_seq  query_start  \\\n",
       "200  MAESPTEEAATATAGAGAAGPGASGVTGVVGVSGSG--FGPPFLPD...            1   \n",
       "201  MAESPTEEAATATAGAGATGPGASGVAGVVGVSGSG--FGPPFLPD...            1   \n",
       "202  MAESPTEEAATATAGAGAAGPGASGVTGVVGVSGSG--FGPPFLPD...            1   \n",
       "203  MAESPTEEAATATATAGAGAAGPGASGVAGVVGVSGSG--FGPPFL...            1   \n",
       "204  MAESPTEEAATATATAGAGAAGPGASGVAGVVGVSGSG--FGPPFL...            1   \n",
       "\n",
       "     query_end  subject_start  subject_end  identity  positive  gaps  eval  \\\n",
       "200        354              1          354       350       350     4   0.0   \n",
       "201        354              1          354       350       350     4   0.0   \n",
       "202        354              1          354       350       350     4   0.0   \n",
       "203        354              1          356       351       351     6   0.0   \n",
       "204        354              1          356       351       351     6   0.0   \n",
       "\n",
       "     bit_score  count  \n",
       "200     1851.0    200  \n",
       "201     1851.0    200  \n",
       "202     1851.0    200  \n",
       "203     1854.0    200  \n",
       "204     1854.0    200  "
      ]
     },
     "execution_count": 4,
     "metadata": {},
     "output_type": "execute_result"
    }
   ],
   "source": [
    "# Keep only disordered regions in the initial dataframe filtering using curated_disordered dataframe\n",
    "disordered = df[df['query_id'].isin(curated_disprot['acc'])]\n",
    "disordered.to_csv(\"disordered_df.csv\", index=False)\n",
    "\n",
    "print(f\"The number of rows containing disordered regions: {len(disordered)}\")\n",
    "disordered.head(5)"
   ]
  },
  {
   "cell_type": "code",
   "execution_count": 5,
   "metadata": {
    "ExecuteTime": {
     "end_time": "2023-10-02T07:56:02.351390Z",
     "start_time": "2023-10-02T07:56:02.292668Z"
    }
   },
   "outputs": [],
   "source": [
    "# # Dropdown list of Uniprot query IDs for disordered regions\n",
    "# output = widgets.Select(\n",
    "#     options=disordered[\"query_id\"].unique(),\n",
    "#     rows=10,\n",
    "#     description='Uniprot ID: ',\n",
    "#     layout={'width': 'max-content'},\n",
    "#     disabled=False\n",
    "# )\n",
    "# display(output)"
   ]
  },
  {
   "cell_type": "code",
   "execution_count": 6,
   "metadata": {
    "ExecuteTime": {
     "end_time": "2023-10-02T07:56:04.330580Z",
     "start_time": "2023-10-02T07:56:04.268997Z"
    }
   },
   "outputs": [],
   "source": [
    "# # Check if there are disordered regions for a particular query ID\n",
    "# id_dis = output.value\n",
    "# i = 1 # change to the necessary region\n",
    "# # store the same id for all notebooks\n",
    "# %store id_dis i\n",
    "# # selected_dis = disordered[disordered[\"query_id\"].isin([id_dis])]\n",
    "# # selected_dis.head()"
   ]
  },
  {
   "cell_type": "code",
   "execution_count": 7,
   "metadata": {},
   "outputs": [],
   "source": [
    "# # Filter the curated_disprot dataframe based on selected ID\n",
    "# curated_query = curated_disprot[curated_disprot['acc'] == id_dis]\n",
    "# curated_query"
   ]
  },
  {
   "cell_type": "markdown",
   "metadata": {},
   "source": [
    "## 1. Multiple Sequence Alignment\n",
    "\n",
    "Within this framework, we will compare the MSA results obtained directly from the BLAST output with those generated from the ClustalOmega service.\n",
    "\n",
    "### 1.1.1 MSA from the BLAST output - for one alignment\n",
    "This code iterates through each row of the dataframe for a previously selected query ID. If there is no gap, it maps the amino acid from the subject sequence to the corresponding position in the query sequence, starting from the beginning of the query sequence. The resulting mapped amino acids are then added to a new count. In the end we have a FASTA file with the subject IDs and the aligned sequences."
   ]
  },
  {
   "cell_type": "code",
   "execution_count": 9,
   "metadata": {
    "ExecuteTime": {
     "end_time": "2023-09-14T09:29:43.754481Z",
     "start_time": "2023-09-14T09:29:43.748470Z"
    }
   },
   "outputs": [],
   "source": [
    "# # Retrieve a query sequence from query id using the local machine\n",
    "# query_sequence = get_fasta(id_dis)\n",
    "# query_lines = query_sequence.split(\"\\n\")\n",
    "# query_sequence = \"\".join(query_lines[1:]) # its length will be used for building MSA\n",
    "# query_len = len(query_sequence)\n",
    "# print(id_dis, query_len, query_sequence)"
   ]
  },
  {
   "cell_type": "code",
   "execution_count": 10,
   "metadata": {},
   "outputs": [],
   "source": [
    "# # Retrieve query sequence and query length from the dataframe\n",
    "# import re\n",
    "# query_sequence = disordered[disordered['query_id'] == id_dis]['query_seq'].unique()[0]\n",
    "# query_sequence = re.sub(r'[-]', '', query_sequence)\n",
    "# query_len = disordered[disordered['query_id'] == id_dis]['query_len'].unique()[0]\n",
    "# print(id_dis, query_len, query_sequence)"
   ]
  },
  {
   "cell_type": "code",
   "execution_count": 11,
   "metadata": {
    "ExecuteTime": {
     "end_time": "2023-09-14T09:29:44.399708Z",
     "start_time": "2023-09-14T09:29:44.388265Z"
    }
   },
   "outputs": [],
   "source": [
    "# # 1.1 Build the MSA from the BLAST - for one alignment\n",
    "# out_file = f'{directory}/results/alignments/output_files/blast/{id_dis}_blast_1.fasta'\n",
    "\n",
    "# with open(out_file, \"w\") as fout:\n",
    "#     mapped_seq = [\"-\"] * query_len\n",
    "\n",
    "#     # Write the header line for the query sequence\n",
    "#     fout.write(\">{}\\n\".format(id_dis))\n",
    "\n",
    "#     # Map the query sequence to the mapped_seq list\n",
    "#     c = 0\n",
    "#     for l_q in query_sequence:\n",
    "#         if l_q != \" \" and l_q != '-':\n",
    "#             mapped_seq[c] = l_q\n",
    "#             c += 1\n",
    "\n",
    "#     # Write the query_mapped_seq sequence to the output file\n",
    "#     fout.write(\"{}\\n\".format(\"\".join(mapped_seq)))\n",
    "\n",
    "#     # Map the subject sequences to the mapped_seq list and write to the output file\n",
    "#     for index, row in selected_dis.iterrows():\n",
    "#         c = 0\n",
    "#         query_start = row['query_start']\n",
    "#         for l_q, l_s in zip(row['query_seq'], row['subject_seq']):\n",
    "#             if l_q != ' ' and l_q != '-': # if the initial aa from query is not empty or gapped\n",
    "#                 mapped_seq[query_start + c - 1] = l_s if l_s != ' ' else '-' # assign aa to subject\n",
    "#                 c += 1\n",
    "#         fout.write(\">{}\\n{}\\n\".format(row[\"subject_id\"], \"\".join(mapped_seq)))"
   ]
  },
  {
   "cell_type": "markdown",
   "metadata": {},
   "source": [
    "### 1.1.2 MSA from the BLAST output - for multiple alignments"
   ]
  },
  {
   "cell_type": "code",
   "execution_count": 6,
   "metadata": {
    "ExecuteTime": {
     "end_time": "2023-10-02T07:57:48.083609Z",
     "start_time": "2023-10-02T07:56:11.171489Z"
    }
   },
   "outputs": [],
   "source": [
    "# Extract the data for the disordered regions\n",
    "disprot_ids = disordered[\"query_id\"].unique()\n",
    "\n",
    "data = []\n",
    "\n",
    "# Loop through disprot_ids\n",
    "for i in disprot_ids:\n",
    "    query_sequence = disordered[disordered['query_id'] == i]['query_seq'].unique()[0]\n",
    "    query_sequence = re.sub(r'[-]', '', query_sequence)\n",
    "    query_len = len(query_sequence)\n",
    "    \n",
    "    # Append the data to the list\n",
    "    data.append([i, query_sequence, query_len])"
   ]
  },
  {
   "cell_type": "code",
   "execution_count": 7,
   "metadata": {
    "ExecuteTime": {
     "end_time": "2023-10-02T07:57:51.729468Z",
     "start_time": "2023-10-02T07:57:51.715273Z"
    }
   },
   "outputs": [
    {
     "data": {
      "text/html": [
       "<div>\n",
       "<style scoped>\n",
       "    .dataframe tbody tr th:only-of-type {\n",
       "        vertical-align: middle;\n",
       "    }\n",
       "\n",
       "    .dataframe tbody tr th {\n",
       "        vertical-align: top;\n",
       "    }\n",
       "\n",
       "    .dataframe thead th {\n",
       "        text-align: right;\n",
       "    }\n",
       "</style>\n",
       "<table border=\"1\" class=\"dataframe\">\n",
       "  <thead>\n",
       "    <tr style=\"text-align: right;\">\n",
       "      <th></th>\n",
       "      <th>disprot_id</th>\n",
       "      <th>query_sequence</th>\n",
       "      <th>query_len</th>\n",
       "    </tr>\n",
       "  </thead>\n",
       "  <tbody>\n",
       "    <tr>\n",
       "      <th>0</th>\n",
       "      <td>Q9H832</td>\n",
       "      <td>MAESPTEEAATAGAGAAGPGASSVAGVVGVSGSGGGFGPPFLPDVW...</td>\n",
       "      <td>354</td>\n",
       "    </tr>\n",
       "    <tr>\n",
       "      <th>1</th>\n",
       "      <td>Q8IW19</td>\n",
       "      <td>MSGGFELQPRDGGPRVALAPGETVIGRGPLLGITDKRVSRRHAILE...</td>\n",
       "      <td>511</td>\n",
       "    </tr>\n",
       "    <tr>\n",
       "      <th>2</th>\n",
       "      <td>Q99967</td>\n",
       "      <td>MADHMMAMNHGRFPDGTNGLHHHPAHRMGMGQFPSPHHHQQQQPQH...</td>\n",
       "      <td>270</td>\n",
       "    </tr>\n",
       "    <tr>\n",
       "      <th>3</th>\n",
       "      <td>Q9CXY6</td>\n",
       "      <td>MRGDRGRGRGGRFGSRGGPGGGFRPFVPHIPFDFYLCEMAFPRVKP...</td>\n",
       "      <td>390</td>\n",
       "    </tr>\n",
       "    <tr>\n",
       "      <th>4</th>\n",
       "      <td>Q8R464</td>\n",
       "      <td>PLLLLWAAAAGPGTGQEVQTENVTVAEGGVAEITCRLHQYDGSIVV...</td>\n",
       "      <td>379</td>\n",
       "    </tr>\n",
       "    <tr>\n",
       "      <th>5</th>\n",
       "      <td>Q8K4J6</td>\n",
       "      <td>QSVLQLKLQQRRTREELVSQGIMPPLKSPAAFHEQRRSLERARTED...</td>\n",
       "      <td>951</td>\n",
       "    </tr>\n",
       "    <tr>\n",
       "      <th>6</th>\n",
       "      <td>Q9BYI3</td>\n",
       "      <td>MFTSEKGVVEEWLSEFKTLPETSLPNYATNLKDKSSLVSSLYKVIQ...</td>\n",
       "      <td>521</td>\n",
       "    </tr>\n",
       "    <tr>\n",
       "      <th>7</th>\n",
       "      <td>Q9BYF1</td>\n",
       "      <td>MSSSSWLLLSLVAVTAAQSTIEEQAKTFLDKFNHEAEDLFYQSSLA...</td>\n",
       "      <td>805</td>\n",
       "    </tr>\n",
       "    <tr>\n",
       "      <th>8</th>\n",
       "      <td>Q8WUG5</td>\n",
       "      <td>MASDPIFTLAPPLHCHYGAFPPNASGWEQPPNASGVSVASAALAAS...</td>\n",
       "      <td>538</td>\n",
       "    </tr>\n",
       "    <tr>\n",
       "      <th>9</th>\n",
       "      <td>Q9H0E2</td>\n",
       "      <td>QRGPVYIGELPQDFLRITPTQQQRQVQLDAQAAQQLQYGGAVGTVG...</td>\n",
       "      <td>267</td>\n",
       "    </tr>\n",
       "  </tbody>\n",
       "</table>\n",
       "</div>"
      ],
      "text/plain": [
       "  disprot_id                                     query_sequence  query_len\n",
       "0     Q9H832  MAESPTEEAATAGAGAAGPGASSVAGVVGVSGSGGGFGPPFLPDVW...        354\n",
       "1     Q8IW19  MSGGFELQPRDGGPRVALAPGETVIGRGPLLGITDKRVSRRHAILE...        511\n",
       "2     Q99967  MADHMMAMNHGRFPDGTNGLHHHPAHRMGMGQFPSPHHHQQQQPQH...        270\n",
       "3     Q9CXY6  MRGDRGRGRGGRFGSRGGPGGGFRPFVPHIPFDFYLCEMAFPRVKP...        390\n",
       "4     Q8R464  PLLLLWAAAAGPGTGQEVQTENVTVAEGGVAEITCRLHQYDGSIVV...        379\n",
       "5     Q8K4J6  QSVLQLKLQQRRTREELVSQGIMPPLKSPAAFHEQRRSLERARTED...        951\n",
       "6     Q9BYI3  MFTSEKGVVEEWLSEFKTLPETSLPNYATNLKDKSSLVSSLYKVIQ...        521\n",
       "7     Q9BYF1  MSSSSWLLLSLVAVTAAQSTIEEQAKTFLDKFNHEAEDLFYQSSLA...        805\n",
       "8     Q8WUG5  MASDPIFTLAPPLHCHYGAFPPNASGWEQPPNASGVSVASAALAAS...        538\n",
       "9     Q9H0E2  QRGPVYIGELPQDFLRITPTQQQRQVQLDAQAAQQLQYGGAVGTVG...        267"
      ]
     },
     "execution_count": 7,
     "metadata": {},
     "output_type": "execute_result"
    }
   ],
   "source": [
    "# Create a dataframe of disprot sequences\n",
    "disprot_sequences = pd.DataFrame(data, columns=['disprot_id', 'query_sequence', 'query_len'])\n",
    "disprot_sequences[:10]"
   ]
  },
  {
   "cell_type": "code",
   "execution_count": 14,
   "metadata": {},
   "outputs": [
    {
     "name": "stdout",
     "output_type": "stream",
     "text": [
      "0 Q9H832 354 MAE ... LRV\n",
      "1 Q8IW19 511 MSG ... KRK\n",
      "2 Q99967 270 MAD ... VSC\n",
      "3 Q9CXY6 390 MRG ... TQE\n",
      "4 Q8R464 379 PLL ... FFI\n",
      "5 Q8K4J6 951 QSV ... SCL\n",
      "6 Q9BYI3 521 MFT ... STD\n",
      "7 Q9BYF1 805 MSS ... TSF\n",
      "8 Q8WUG5 538 MAS ... PAL\n",
      "9 Q9H0E2 267 QRG ... EEP\n",
      "10 Q84852 1205 TSV ... HVH\n",
      "11 Q5VZK9 1371 MTE ... IFV\n",
      "12 Q8IU57 519 MAG ... YMA\n",
      "13 Q5T4W7 220 MEL ... CLG\n",
      "14 Q93KQ4 116 MGS ... QKL\n",
      "15 Q86FP8 80 MKH ... NQD\n"
     ]
    }
   ],
   "source": [
    "# 1.2 Build the MSA from the BLAST - for all alignments\n",
    "# Iterate through each row in the disprot_sequences \n",
    "for ind_q, row_q in disprot_sequences.iterrows():\n",
    "    query_id = row_q['disprot_id']\n",
    "    query_sequence = row_q['query_sequence']\n",
    "    query_len = row_q['query_len']\n",
    "    selected_dis = disordered[disordered[\"query_id\"].isin([query_id])]\n",
    "    print(ind_q, query_id, query_len, query_sequence[:3],\"...\", query_sequence[-3:])\n",
    "    \n",
    "    # Save the file\n",
    "    out_file = f'{directory}/results/alignments/output_files/blast/{query_id}_blast.fasta'\n",
    "    \n",
    "    # Initialize the first row with a length of the query sequence\n",
    "    with open(out_file, \"w\") as fout:\n",
    "        mapped_seq = [\"-\"] * query_len\n",
    "\n",
    "        # Write the header line for the query sequence\n",
    "        fout.write(\">{}\\n\".format(query_id))\n",
    "\n",
    "        # Map the query sequence to the mapped_seq list\n",
    "        c = 0\n",
    "        for l_q in query_sequence:\n",
    "            if l_q != ' ' and l_q != '-':\n",
    "                mapped_seq[c] = l_q\n",
    "                c += 1\n",
    "\n",
    "        # Write the query_mapped_seq sequence to the output file\n",
    "        fout.write(\"{}\\n\".format(\"\".join(mapped_seq)))\n",
    "\n",
    "        # Map the subject sequences to the mapped_seq list and write to the output file\n",
    "        for index, row in selected_dis.iterrows():\n",
    "            c = 0\n",
    "            query_start = row['query_start']\n",
    "            for l_q, l_s in zip(row['query_seq'], row['subject_seq']):\n",
    "                if l_q != ' ' and l_q != '-': # if the initial aa from query is not empty or gapped\n",
    "                    if query_start + c - 1 < len(mapped_seq): # added the condition\n",
    "                        mapped_seq[query_start + c - 1] = l_s if l_s != ' ' else '-' # assign aa to subject\n",
    "                        c += 1\n",
    "            fout.write(\">{}\\n{}\\n\".format(row[\"subject_id\"], \"\".join(mapped_seq)))"
   ]
  },
  {
   "cell_type": "markdown",
   "metadata": {},
   "source": [
    "### 1.2. MSA from the ClustalOmega, MAFFT\n",
    "\n",
    "Initially, we need to preprocess the dataframe into a suitable input format file for ClustalOmega and MAFFT."
   ]
  },
  {
   "cell_type": "code",
   "execution_count": 15,
   "metadata": {
    "ExecuteTime": {
     "end_time": "2023-09-14T09:29:46.863906Z",
     "start_time": "2023-09-14T09:29:46.827846Z"
    }
   },
   "outputs": [],
   "source": [
    "# # Retrieve the unaligned sequences from the local machine\n",
    "# output_file = f'{directory}/results/alignments/input_files/{id_dis}_input.fasta'\n",
    "\n",
    "# with open(output_file, 'w') as fout:\n",
    "#     # Write the query sequence to the output file as the first line\n",
    "#     fout.write(\">{}\\n{}\\n\".format(id_dis, query_sequence))\n",
    "\n",
    "#     for index, row in selected_dis.iterrows():\n",
    "#         accession = row['subject_id']\n",
    "#         sequence = get_fasta(accession)\n",
    "#         if id_dis == accession: # remove duplicates\n",
    "#             continue\n",
    "#         fout.write(sequence)"
   ]
  },
  {
   "cell_type": "code",
   "execution_count": 20,
   "metadata": {},
   "outputs": [],
   "source": [
    "# # Retrieve the unaligned sequences from the local machine - for all disprot sequences at once\n",
    "# for d_id, d_row in disprot_sequences.iterrows():\n",
    "#     id_dis = d_row['disprot_id']\n",
    "#     seq = d_row['query_sequence']\n",
    "#     output_file = f'{directory}/results/alignments/input_files/{id_dis}_input_1.fasta'\n",
    "    \n",
    "#     # Iterating over selected_dis\n",
    "#     with open(output_file, 'w') as fout:\n",
    "#         selected_dis = disordered[disordered[\"query_id\"].isin([id_dis])]\n",
    "#         # Write the query sequence to the output file as the first line\n",
    "#         fout.write(\">{}\\n{}\\n\".format(id_dis, seq))\n",
    "#         print(id_dis, len(seq)) # correct\n",
    "\n",
    "#         for index, row in selected_dis.iterrows():\n",
    "#             accession = row['subject_id']\n",
    "#             sequence = get_fasta(accession)\n",
    "#             if id_dis == accession: # remove duplicates\n",
    "#                 continue\n",
    "#             fout.write(sequence)"
   ]
  },
  {
   "cell_type": "markdown",
   "metadata": {},
   "source": [
    "After loading this file into ClustalOmega and MAFFT, we will choose the following parameters:\n",
    "- Output format: Pearson/FASTA\n",
    "- Order: input\n",
    "\n",
    "Next, we will save the outputs in the corresponding directories. After that, we need to open the files in Jalview and remove gaps in the first line corresponding to the query Uniprot ID to maintain the correct length of sequences.\n",
    "As a result, we have 3 alignments for comparison: BLAST, ClustalOmega and MAFFT."
   ]
  },
  {
   "cell_type": "markdown",
   "metadata": {},
   "source": [
    "### Preparing the distinct proteins for analysis"
   ]
  },
  {
   "cell_type": "code",
   "execution_count": 8,
   "metadata": {},
   "outputs": [
    {
     "data": {
      "application/vnd.jupyter.widget-view+json": {
       "model_id": "d70a6aa8b424470e97dabf9c1953336d",
       "version_major": 2,
       "version_minor": 0
      },
      "text/plain": [
       "Select(description='Uniprot ID: ', layout=Layout(width='max-content'), options=('Q9H832', 'Q8IW19', 'Q99967', …"
      ]
     },
     "metadata": {},
     "output_type": "display_data"
    }
   ],
   "source": [
    "# Dropdown list of Uniprot query IDs for disordered regions\n",
    "output = widgets.Select(\n",
    "    options=disordered[\"query_id\"].unique(),\n",
    "    rows=10,\n",
    "    description='Uniprot ID: ',\n",
    "    layout={'width': 'max-content'},\n",
    "    disabled=False)\n",
    "\n",
    "display(output)"
   ]
  },
  {
   "cell_type": "code",
   "execution_count": 9,
   "metadata": {},
   "outputs": [
    {
     "name": "stdout",
     "output_type": "stream",
     "text": [
      "Stored 'id_dis' (str)\n",
      "Stored 'i' (int)\n"
     ]
    }
   ],
   "source": [
    "# Select ID and a region\n",
    "id_dis = output.value\n",
    "i = 1 # change to the necessary region\n",
    "# store the same id for all notebooks\n",
    "%store id_dis i"
   ]
  },
  {
   "cell_type": "code",
   "execution_count": 10,
   "metadata": {},
   "outputs": [
    {
     "data": {
      "text/html": [
       "<div>\n",
       "<style scoped>\n",
       "    .dataframe tbody tr th:only-of-type {\n",
       "        vertical-align: middle;\n",
       "    }\n",
       "\n",
       "    .dataframe tbody tr th {\n",
       "        vertical-align: top;\n",
       "    }\n",
       "\n",
       "    .dataframe thead th {\n",
       "        text-align: right;\n",
       "    }\n",
       "</style>\n",
       "<table border=\"1\" class=\"dataframe\">\n",
       "  <thead>\n",
       "    <tr style=\"text-align: right;\">\n",
       "      <th></th>\n",
       "      <th>acc</th>\n",
       "      <th>evidence</th>\n",
       "      <th>feature</th>\n",
       "      <th>source</th>\n",
       "      <th>start</th>\n",
       "      <th>end</th>\n",
       "      <th>length</th>\n",
       "    </tr>\n",
       "  </thead>\n",
       "  <tbody>\n",
       "    <tr>\n",
       "      <th>7799</th>\n",
       "      <td>Q9H832</td>\n",
       "      <td>curated</td>\n",
       "      <td>disorder</td>\n",
       "      <td>disprot</td>\n",
       "      <td>1</td>\n",
       "      <td>99</td>\n",
       "      <td>99</td>\n",
       "    </tr>\n",
       "    <tr>\n",
       "      <th>7800</th>\n",
       "      <td>Q9H832</td>\n",
       "      <td>curated</td>\n",
       "      <td>disorder</td>\n",
       "      <td>disprot</td>\n",
       "      <td>327</td>\n",
       "      <td>354</td>\n",
       "      <td>28</td>\n",
       "    </tr>\n",
       "  </tbody>\n",
       "</table>\n",
       "</div>"
      ],
      "text/plain": [
       "         acc evidence   feature   source  start  end  length\n",
       "7799  Q9H832  curated  disorder  disprot      1   99      99\n",
       "7800  Q9H832  curated  disorder  disprot    327  354      28"
      ]
     },
     "execution_count": 10,
     "metadata": {},
     "output_type": "execute_result"
    }
   ],
   "source": [
    "# Filter the curated_disprot dataframe based on selected ID\n",
    "curated_query = curated_disprot[curated_disprot['acc'] == id_dis]\n",
    "curated_query"
   ]
  },
  {
   "cell_type": "code",
   "execution_count": 18,
   "metadata": {
    "ExecuteTime": {
     "end_time": "2023-09-14T09:29:48.997839Z",
     "start_time": "2023-09-14T09:29:48.889688Z"
    }
   },
   "outputs": [
    {
     "name": "stdout",
     "output_type": "stream",
     "text": [
      "Stored 'blast_seqs' (ndarray)\n",
      "Stored 'clustal_seqs' (ndarray)\n",
      "Stored 'mafft_seqs' (ndarray)\n"
     ]
    },
    {
     "data": {
      "text/plain": [
       "((15, 80), (13, 80), (13, 80))"
      ]
     },
     "execution_count": 18,
     "metadata": {},
     "output_type": "execute_result"
    }
   ],
   "source": [
    "# Prepare all sequences for the following comparison\n",
    "al_blast = f'{directory}/results/alignments/output_files/blast/{id_dis}_blast.fasta'\n",
    "al_clustal = f'{directory}/results/alignments/output_files/clustal/{id_dis}_clustal.fasta'\n",
    "al_mafft = f'{directory}/results/alignments/output_files/mafft/{id_dis}_mafft.fasta'\n",
    "\n",
    "blast_seqs = get_seqs(al_blast)\n",
    "clustal_seqs = get_seqs(al_clustal)\n",
    "mafft_seqs = get_seqs(al_mafft)\n",
    "%store blast_seqs clustal_seqs mafft_seqs\n",
    "\n",
    "# The number of sequences may differ\n",
    "blast_seqs.shape, clustal_seqs.shape, mafft_seqs.shape"
   ]
  },
  {
   "cell_type": "markdown",
   "metadata": {},
   "source": [
    "### Calculating and removing redundant regions from MSA\n",
    "We will use CD-Hit tool. Given the aligned sequences as an input and setting the threshold of 62% we will keep only non-redundant regions in MSA."
   ]
  },
  {
   "cell_type": "code",
   "execution_count": 81,
   "metadata": {
    "ExecuteTime": {
     "end_time": "2023-09-14T09:31:22.832149Z",
     "start_time": "2023-09-14T09:31:22.826159Z"
    }
   },
   "outputs": [],
   "source": [
    "def calculate_Nf(msa_file, threshold, id_dis):\n",
    "\n",
    "    output_file = f\"/Users/alina/HMM/results/alignments/input_files/non-redundant/Nf_{id_dis}.fasta\"\n",
    "    cd_hit_path = \"/Users/alina/cd-hit/cd-hit\"\n",
    "\n",
    "    # Run CD-HIT to cluster the sequences (excluding the first line) and remove redundancy\n",
    "    cmd = f\"{cd_hit_path} -i {msa_file} -o {output_file} -c {threshold} -n 4 > /dev/null\"\n",
    "    subprocess.call(cmd, shell=True)\n",
    "\n",
    "    # Read the first line from the original MSA file\n",
    "    with open(msa_file, \"r\") as msa_handle:\n",
    "        first_record = next(SeqIO.parse(msa_handle, \"fasta\"))\n",
    "\n",
    "    # Store the non-redundant sequences in a list\n",
    "    non_redundant_sequences = []\n",
    "    with open(output_file, \"r\") as output_handle:\n",
    "        for record in SeqIO.parse(output_handle, \"fasta\"):\n",
    "            non_redundant_sequences.append(record)\n",
    "\n",
    "    # Write the non-redundant sequences to the output file\n",
    "    with open(output_file, \"w\") as final_handle:\n",
    "        SeqIO.write([first_record] + non_redundant_sequences, final_handle, \"fasta\")\n",
    "\n",
    "    # Count the number of sequences in the MSA and the non-redundant MSA\n",
    "    total_sequences = sum(1 for record in SeqIO.parse(msa_file, \"fasta\"))\n",
    "    non_redundant_sequences_count = len(non_redundant_sequences)\n",
    "\n",
    "    # Calculate the effective sequences (Nf)\n",
    "    Nf = non_redundant_sequences_count / total_sequences\n",
    "    print(\"The number of non-redundant sequences:\", non_redundant_sequences_count)\n",
    "    print(\"The total number of sequences:\", total_sequences)\n",
    "    print(\"The ratio of non-redundant sequences (Nf):\", \"{:.2f}\".format(Nf))\n",
    "\n",
    "    return"
   ]
  },
  {
   "cell_type": "code",
   "execution_count": 80,
   "metadata": {
    "ExecuteTime": {
     "end_time": "2023-09-14T09:31:24.093075Z",
     "start_time": "2023-09-14T09:31:23.979602Z"
    }
   },
   "outputs": [
    {
     "name": "stdout",
     "output_type": "stream",
     "text": [
      "The number of non-redundant sequences: 3\n",
      "The total number of sequences: 200\n",
      "The ratio of non-redundant sequences (Nf): 0.01\n"
     ]
    }
   ],
   "source": [
    "# Calculate redundancy and the number of effective sequences with calculate_Nf function using the .fasta as an input\n",
    "calculate_Nf(input_file, 0.62, id_dis)\n",
    "\n",
    "# calculate_Nf(al_blast, 0.62, id_dis)\n",
    "# calculate_Nf(al_clustal, 0.62, id_dis)\n",
    "# calculate_Nf(al_mafft, 0.62, id_dis)"
   ]
  },
  {
   "cell_type": "code",
   "execution_count": 68,
   "metadata": {
    "ExecuteTime": {
     "end_time": "2023-09-14T09:31:29.005499Z",
     "start_time": "2023-09-14T09:31:28.994168Z"
    }
   },
   "outputs": [
    {
     "name": "stdout",
     "output_type": "stream",
     "text": [
      "Stored 'data_file' (str)\n"
     ]
    }
   ],
   "source": [
    "# Save the generated cluster file for the MSA notebook\n",
    "data_file = f\"/Users/alina/HMM/results/alignments/input_files/non-redundant/Nf_{id_dis}.fasta.clstr\"\n",
    "%store data_file"
   ]
  },
  {
   "cell_type": "code",
   "execution_count": 69,
   "metadata": {
    "ExecuteTime": {
     "end_time": "2023-09-14T09:31:30.247223Z",
     "start_time": "2023-09-14T09:31:30.210308Z"
    }
   },
   "outputs": [
    {
     "name": "stdout",
     "output_type": "stream",
     "text": [
      "Stored 'nr_seqs' (ndarray)\n",
      "The shape of non-redundant MSA for Q8IW19 protein: (4, 511)\n"
     ]
    },
    {
     "data": {
      "text/plain": [
       "array([['M', 'S', 'G', ..., 'K', 'R', 'K'],\n",
       "       ['N', 'K', 'G', ..., 'K', 'R', 'K'],\n",
       "       ['M', 'S', 'G', ..., 'K', 'R', 'K'],\n",
       "       ['M', 'S', 'G', ..., 'K', 'R', 'K']], dtype='<U1')"
      ]
     },
     "execution_count": 69,
     "metadata": {},
     "output_type": "execute_result"
    }
   ],
   "source": [
    "# Load non_redundant MSA from ClustalOmega\n",
    "non_redundant = f'{directory}/results/alignments/output_files/clustal/non-redundant/Nf_{id_dis}_clustal.fasta'\n",
    "\n",
    "nr_seqs = get_seqs(non_redundant)\n",
    "%store nr_seqs\n",
    "\n",
    "# Check the shape of non-redundant MSA\n",
    "print(f\"The shape of non-redundant MSA for {id_dis} protein:\", nr_seqs.shape)\n",
    "nr_seqs"
   ]
  },
  {
   "cell_type": "markdown",
   "metadata": {
    "ExecuteTime": {
     "end_time": "2023-08-02T13:49:05.791602Z",
     "start_time": "2023-08-02T13:49:05.786460Z"
    }
   },
   "source": [
    "### Defining disordered regions in MSA\n",
    "\n",
    "Here we will look at the positions of disordered regions in an alignment. Then we'll extract these regions for the separate analysis."
   ]
  },
  {
   "cell_type": "code",
   "execution_count": 70,
   "metadata": {
    "ExecuteTime": {
     "end_time": "2023-09-14T09:31:32.560245Z",
     "start_time": "2023-09-14T09:31:32.539609Z"
    }
   },
   "outputs": [
    {
     "name": "stdout",
     "output_type": "stream",
     "text": [
      "The lists of start and end positions of the Q8IW19 disordered regions: \n",
      "Start regions: [399, 450], \n",
      "End regions: [420, 511]\n"
     ]
    }
   ],
   "source": [
    "# Extract the lists of start and end regions\n",
    "start_regions = curated_query['start'].tolist()\n",
    "end_regions = curated_query['end'].tolist()\n",
    "print(f\"The lists of start and end positions of the {id_dis} disordered regions: \\n\"\n",
    "      f\"Start regions: {start_regions}, \\n\"\n",
    "      f\"End regions: {end_regions}\")"
   ]
  },
  {
   "cell_type": "code",
   "execution_count": 71,
   "metadata": {
    "ExecuteTime": {
     "end_time": "2023-09-14T09:31:33.302078Z",
     "start_time": "2023-09-14T09:31:33.248030Z"
    }
   },
   "outputs": [],
   "source": [
    "# # Trim disordered regions from MSA BLAST and save the file in the folder\n",
    "# regions = trim_dis_regions(al_blast, id_dis, start_regions, end_regions)\n",
    "\n",
    "# # Look at the resulting regions in an alignment\n",
    "# seqs = get_seqs(regions)\n",
    "# print(id_dis, seqs.shape, type(seqs))\n",
    "# seqs[:10]"
   ]
  },
  {
   "cell_type": "markdown",
   "metadata": {},
   "source": [
    "**Define disordered regions for the redundant MSAs**"
   ]
  },
  {
   "cell_type": "code",
   "execution_count": 82,
   "metadata": {
    "ExecuteTime": {
     "end_time": "2023-09-14T09:31:35.773114Z",
     "start_time": "2023-09-14T09:31:35.728344Z"
    }
   },
   "outputs": [
    {
     "name": "stdout",
     "output_type": "stream",
     "text": [
      "Q8IW19 (201, 22) <class 'numpy.ndarray'>\n",
      "Q8IW19 (201, 62) <class 'numpy.ndarray'>\n"
     ]
    }
   ],
   "source": [
    "# Split the disordered regions with the select_dis_regions function\n",
    "output_directory = f\"{directory}/results/alignments/output_files/disordered\"\n",
    "separate_disordered_regions = select_dis_regions(al_blast, id_dis, start_regions, end_regions, output_directory)\n",
    "\n",
    "# if there is more than 1 region\n",
    "dis_seqs = print_dis_seqs(output_directory, 'disordered', id_dis)\n",
    "# %store dis_seqs\n",
    "if isinstance(dis_seqs, list):  # Check if dis_seqs is a list of several disordered regions\n",
    "    print(id_dis, dis_seqs[0].shape, type(dis_seqs[0]))\n",
    "    print(id_dis, dis_seqs[1].shape, type(dis_seqs[1]))\n",
    "else: # if dis_seqs consists of one disordered region only\n",
    "    print(id_dis, dis_seqs.shape, type(dis_seqs))"
   ]
  },
  {
   "cell_type": "code",
   "execution_count": 83,
   "metadata": {
    "ExecuteTime": {
     "end_time": "2023-08-21T07:09:42.452981Z",
     "start_time": "2023-08-21T07:09:42.440758Z"
    }
   },
   "outputs": [
    {
     "name": "stdout",
     "output_type": "stream",
     "text": [
      "Stored 'dis_calc0' (DataFrame)\n",
      "Stored 'dis_calc1' (DataFrame)\n"
     ]
    }
   ],
   "source": [
    "# Calculation of occupancy and entropy\n",
    "if isinstance(dis_seqs, list):\n",
    "    dis_calc0 = stats_calculation(dis_seqs[0])\n",
    "    dis_calc1 = stats_calculation(dis_seqs[0])\n",
    "    %store dis_calc0 dis_calc1\n",
    "else:\n",
    "    dis_calc = stats_calculation(dis_seqs)\n",
    "    %store dis_calc"
   ]
  },
  {
   "cell_type": "code",
   "execution_count": 74,
   "metadata": {
    "ExecuteTime": {
     "end_time": "2023-08-21T07:09:44.126841Z",
     "start_time": "2023-08-21T07:09:44.113396Z"
    }
   },
   "outputs": [],
   "source": [
    "# # Trim disordered regions from MSA BLAST and save the file in the folder\n",
    "# regions = trim_dis_regions(non_redundant, id_dis, start_regions, end_regions)\n",
    "\n",
    "# # Look at the resulting regions in an alignment\n",
    "# nr_dis_seqs = get_seqs(regions)\n",
    "# print(id_dis, nr_dis_seqs.shape, type(nr_dis_seqs))\n",
    "# nr_dis_seqs"
   ]
  },
  {
   "cell_type": "markdown",
   "metadata": {},
   "source": [
    "**Define disordered regions for the non-redundant MSAs**"
   ]
  },
  {
   "cell_type": "code",
   "execution_count": 84,
   "metadata": {
    "ExecuteTime": {
     "end_time": "2023-08-21T07:09:47.036332Z",
     "start_time": "2023-08-21T07:09:47.019014Z"
    }
   },
   "outputs": [
    {
     "name": "stdout",
     "output_type": "stream",
     "text": [
      "Q8IW19 (4, 22) <class 'numpy.ndarray'>\n",
      "Q8IW19 (4, 62) <class 'numpy.ndarray'>\n"
     ]
    }
   ],
   "source": [
    "# Split the disordered regions with the help of select_dis_regions function\n",
    "output_directory = f\"{directory}/results/alignments/output_files/disordered/non-redundant\"\n",
    "separate_disordered_regions = select_dis_regions(non_redundant, id_dis, start_regions, end_regions, output_directory)\n",
    "\n",
    "# if there are more than 1 region\n",
    "dis_seqs_nr = print_dis_seqs(output_directory, 'disordered', id_dis)\n",
    "# %store dis_seqs\n",
    "if isinstance(dis_seqs, list):  # Check if dis_seqs is a list of several disordered regions\n",
    "    print(id_dis, dis_seqs_nr[0].shape, type(dis_seqs_nr[0]))\n",
    "    print(id_dis, dis_seqs_nr[1].shape, type(dis_seqs_nr[1]))\n",
    "else: # if dis_seqs consists of one disordered region only\n",
    "    print(id_dis, dis_seqs_nr.shape, type(dis_seqs_nr))"
   ]
  },
  {
   "cell_type": "code",
   "execution_count": 76,
   "metadata": {
    "ExecuteTime": {
     "end_time": "2023-08-07T12:47:10.667068Z",
     "start_time": "2023-08-07T12:47:10.651948Z"
    }
   },
   "outputs": [
    {
     "name": "stdout",
     "output_type": "stream",
     "text": [
      "Stored 'dis_calc_nr0' (DataFrame)\n",
      "Stored 'dis_calc_nr1' (DataFrame)\n"
     ]
    }
   ],
   "source": [
    "# Calculation of occupancy and entropy\n",
    "if isinstance(dis_seqs, list):\n",
    "    dis_calc_nr0 = stats_calculation(dis_seqs_nr[0])\n",
    "    dis_calc_nr1 = stats_calculation(dis_seqs_nr[0])\n",
    "    %store dis_calc_nr0 dis_calc_nr1\n",
    "else:\n",
    "    dis_calc_nr = stats_calculation(dis_seqs_nr)\n",
    "    %store dis_calc_nr"
   ]
  },
  {
   "cell_type": "markdown",
   "metadata": {
    "ExecuteTime": {
     "end_time": "2023-08-02T13:38:09.492889Z",
     "start_time": "2023-08-02T13:38:08.673895Z"
    }
   },
   "source": [
    "## 2. Hidden Markov Models"
   ]
  },
  {
   "cell_type": "code",
   "execution_count": 11,
   "metadata": {
    "ExecuteTime": {
     "end_time": "2023-08-25T07:30:29.791681Z",
     "start_time": "2023-08-25T07:30:29.768230Z"
    }
   },
   "outputs": [],
   "source": [
    "# Set the paths to HMM and MSA files\n",
    "hmm_file = f'{directory}/results/hmms/hmmbuild/{id_dis}_{i}.hmm'\n",
    "align_file = f'{directory}/results/alignments/output_files/disordered/{id_dis}_{i}.fasta'"
   ]
  },
  {
   "cell_type": "code",
   "execution_count": 12,
   "metadata": {
    "ExecuteTime": {
     "end_time": "2023-08-25T07:30:31.109502Z",
     "start_time": "2023-08-25T07:30:31.084320Z"
    }
   },
   "outputs": [
    {
     "name": "stdout",
     "output_type": "stream",
     "text": [
      "# hmmbuild :: profile HMM construction from multiple sequence alignments\n",
      "# HMMER 3.3.2 (Nov 2020); http://hmmer.org/\n",
      "# Copyright (C) 2020 Howard Hughes Medical Institute.\n",
      "# Freely distributed under the BSD open source license.\n",
      "# - - - - - - - - - - - - - - - - - - - - - - - - - - - - - - - - - - - -\n",
      "# input alignment file:             /Users/alina/HMM/results/alignments/output_files/disordered/Q9H832_1.fasta\n",
      "# output HMM file:                  /Users/alina/HMM/results/hmms/hmmbuild/Q9H832_1.hmm\n",
      "# - - - - - - - - - - - - - - - - - - - - - - - - - - - - - - - - - - - -\n",
      "\n",
      "# idx name                  nseq  alen  mlen eff_nseq re/pos description\n",
      "#---- -------------------- ----- ----- ----- -------- ------ -----------\n",
      "1     Q9H832_1               201    99    99     2.96  0.590 \n",
      "\n",
      "# CPU time: 0.04u 0.00s 00:00:00.04 Elapsed: 00:00:00.04\n"
     ]
    }
   ],
   "source": [
    "# Build HMM\n",
    "!hmmbuild {hmm_file} {align_file}"
   ]
  },
  {
   "cell_type": "markdown",
   "metadata": {},
   "source": [
    "### 2.1. HMMsearch\n",
    "\n",
    "After building the model, our objective is to assess if overlaps with the profiles in Reference Proteome 15% exist and to enrich the model by utilizing this database. We generate dataframes containing the most significant sequences, with a default E-value threshold of 0.01.\n",
    "\n",
    "### Reference Proteome"
   ]
  },
  {
   "cell_type": "code",
   "execution_count": 13,
   "metadata": {
    "ExecuteTime": {
     "end_time": "2023-08-25T07:30:33.987722Z",
     "start_time": "2023-08-25T07:30:33.947111Z"
    }
   },
   "outputs": [],
   "source": [
    "# # Copy the HMM file to remote computer to perform HMM search on a cluster\n",
    "# !scp {directory}/results/hmms/hmmbuild/{id_dis}_{i}.hmm {name}@{server}:~/{id_dis}_{i}.hmm"
   ]
  },
  {
   "cell_type": "code",
   "execution_count": 14,
   "metadata": {
    "ExecuteTime": {
     "end_time": "2023-08-25T07:30:34.763764Z",
     "start_time": "2023-08-25T07:30:34.739374Z"
    }
   },
   "outputs": [],
   "source": [
    "# # HMM search against Reference Proteome 15%\n",
    "# !ssh {name}@{server} \"/software/packages/hmmer/hmmer-3.3.2/usr/bin/hmmsearch {id_dis}_{i}.hmm /db/rp/rp-seqs-15.fasta.gz > hmmsearch_rp_15_{id_dis}_{i}.txt\""
   ]
  },
  {
   "cell_type": "code",
   "execution_count": 15,
   "metadata": {},
   "outputs": [],
   "source": [
    "# ### !!! TESTING !!! On the protein2ipr, if possible\n",
    "# !ssh {name}@{server} \"/software/packages/hmmer/hmmer-3.3.2/usr/bin/hmmsearch {id_dis}_{i}.hmm /db/interpro/protein2ipr.dat.gz > hmmsearch_protein2ipr_{id_dis}_{i}.txt\""
   ]
  },
  {
   "cell_type": "code",
   "execution_count": 16,
   "metadata": {
    "ExecuteTime": {
     "end_time": "2023-08-25T07:30:35.102561Z",
     "start_time": "2023-08-25T07:30:35.095974Z"
    }
   },
   "outputs": [],
   "source": [
    "# # Copy results to the local folder\n",
    "# !scp {name}@{server}:~/hmmsearch_rp_15_{id_dis}_{i}.txt {directory}/results/hmms/hmmsearch/"
   ]
  },
  {
   "cell_type": "code",
   "execution_count": 17,
   "metadata": {
    "ExecuteTime": {
     "end_time": "2023-08-25T07:30:35.495005Z",
     "start_time": "2023-08-25T07:30:35.490733Z"
    }
   },
   "outputs": [],
   "source": [
    "# # Remove the file from the remote folder\n",
    "# !ssh {name}@{server} \"rm ~/{id_dis}_{i}.hmm\"\n",
    "# !ssh {name}@{server} \"rm ~/hmmsearch_rp_15_{id_dis}_{i}.txt\""
   ]
  },
  {
   "cell_type": "code",
   "execution_count": 46,
   "metadata": {},
   "outputs": [],
   "source": [
    "def extract_table_from_output(hmm_result_file):\n",
    "    with open(hmm_result_file, 'r') as f:\n",
    "        lines = f.readlines()\n",
    "\n",
    "        # Extract a query ID\n",
    "        query_id = None\n",
    "        extract_info = False\n",
    "        result_data = []\n",
    "\n",
    "        for line in lines:\n",
    "            if line.startswith(\">>\"):\n",
    "                query_id = line.strip()[2:].split(\" \")[1]\n",
    "                extract_info = True  # Set the flag to True when query ID is found\n",
    "            elif extract_info:\n",
    "                line_data = line.split()\n",
    "                if line_data[0].isdigit():\n",
    "                    try:\n",
    "                        hmm_from = int(line_data[6])\n",
    "                        hmm_to = int(line_data[7])\n",
    "                        ali_from = int(line_data[9])\n",
    "                        ali_to = int(line_data[10])\n",
    "                        env_from = int(line_data[12])\n",
    "                        env_to = int(line_data[13])\n",
    "                        result_data.append([query_id, hmm_from, hmm_to, ali_from, ali_to, env_from, env_to])\n",
    "                    except ValueError:\n",
    "                        pass\n",
    "                    extract_info = False\n",
    "        \n",
    "        # Create and return the DataFrame\n",
    "        result_df = pd.DataFrame(result_data, columns=['id', 'hmm_from', 'hmm_to', \n",
    "                                                       'ali_from', 'ali_to', \n",
    "                                                       'env_from', 'env_to'])\n",
    "        return result_df"
   ]
  },
  {
   "cell_type": "code",
   "execution_count": 47,
   "metadata": {
    "ExecuteTime": {
     "end_time": "2023-08-25T07:30:36.231101Z",
     "start_time": "2023-08-25T07:30:36.166921Z"
    }
   },
   "outputs": [
    {
     "name": "stdout",
     "output_type": "stream",
     "text": [
      "The number of unique sequences: 17\n"
     ]
    }
   ],
   "source": [
    "# 1. Make a dataframe with the statistics\n",
    "stats_rp_15 = process_hmmsearch_file(f\"{directory}/results/hmms/hmmsearch/hmmsearch_rp_15_{id_dis}_{i}.txt\")\n",
    "stats_rp_15.to_csv(f\"{directory}/results/hmms/hmmsearch/stats/stats_rp_15_{id_dis}_{i}.csv\", index=False)\n",
    "# stats_rp_15[:10]"
   ]
  },
  {
   "cell_type": "code",
   "execution_count": 49,
   "metadata": {},
   "outputs": [],
   "source": [
    "# 2. Create a dataframe with the extracted regions from HMM - from the rest of the file\n",
    "hmm_result_file = f\"{directory}/results/hmms/hmmsearch/hmmsearch_rp_15_{id_dis}_{i}.txt\"\n",
    "hmmsearch_regions = extract_table_from_output(hmm_result_file)\n",
    "hmmsearch_regions.to_csv(f\"{directory}/results/hmms/hmmsearch/stats/stats_rp_15_regions_{id_dis}_{i}.csv\")\n",
    "# hmmsearch_regions[:10]"
   ]
  },
  {
   "cell_type": "code",
   "execution_count": 50,
   "metadata": {},
   "outputs": [
    {
     "name": "stdout",
     "output_type": "stream",
     "text": [
      "Number of hmmsearch hits for the 1 disordered region of the Q9H832 protein: 17\n",
      "Stored 'hmmsearch_results' (DataFrame)\n"
     ]
    },
    {
     "data": {
      "text/html": [
       "<div>\n",
       "<style scoped>\n",
       "    .dataframe tbody tr th:only-of-type {\n",
       "        vertical-align: middle;\n",
       "    }\n",
       "\n",
       "    .dataframe tbody tr th {\n",
       "        vertical-align: top;\n",
       "    }\n",
       "\n",
       "    .dataframe thead th {\n",
       "        text-align: right;\n",
       "    }\n",
       "</style>\n",
       "<table border=\"1\" class=\"dataframe\">\n",
       "  <thead>\n",
       "    <tr style=\"text-align: right;\">\n",
       "      <th></th>\n",
       "      <th>E-value</th>\n",
       "      <th>score</th>\n",
       "      <th>bias</th>\n",
       "      <th>E-value</th>\n",
       "      <th>score</th>\n",
       "      <th>bias</th>\n",
       "      <th>exp</th>\n",
       "      <th>N</th>\n",
       "      <th>Sequence</th>\n",
       "      <th>hmm_from</th>\n",
       "      <th>hmm_to</th>\n",
       "      <th>ali_from</th>\n",
       "      <th>ali_to</th>\n",
       "      <th>env_from</th>\n",
       "      <th>env_to</th>\n",
       "    </tr>\n",
       "  </thead>\n",
       "  <tbody>\n",
       "    <tr>\n",
       "      <th>0</th>\n",
       "      <td>8.8e-32</td>\n",
       "      <td>119.4</td>\n",
       "      <td>17.6</td>\n",
       "      <td>1.3e-31</td>\n",
       "      <td>118.9</td>\n",
       "      <td>17.6</td>\n",
       "      <td>1.3</td>\n",
       "      <td>1</td>\n",
       "      <td>A0A7N9CX17</td>\n",
       "      <td>1</td>\n",
       "      <td>98</td>\n",
       "      <td>1</td>\n",
       "      <td>99</td>\n",
       "      <td>1</td>\n",
       "      <td>99</td>\n",
       "    </tr>\n",
       "    <tr>\n",
       "      <th>1</th>\n",
       "      <td>1.2e-31</td>\n",
       "      <td>119.0</td>\n",
       "      <td>17.6</td>\n",
       "      <td>1.7e-31</td>\n",
       "      <td>118.5</td>\n",
       "      <td>17.6</td>\n",
       "      <td>1.3</td>\n",
       "      <td>1</td>\n",
       "      <td>Q9H832</td>\n",
       "      <td>1</td>\n",
       "      <td>98</td>\n",
       "      <td>1</td>\n",
       "      <td>99</td>\n",
       "      <td>1</td>\n",
       "      <td>99</td>\n",
       "    </tr>\n",
       "    <tr>\n",
       "      <th>2</th>\n",
       "      <td>2.8e-30</td>\n",
       "      <td>114.6</td>\n",
       "      <td>18.1</td>\n",
       "      <td>4.2e-30</td>\n",
       "      <td>114.0</td>\n",
       "      <td>18.1</td>\n",
       "      <td>1.3</td>\n",
       "      <td>1</td>\n",
       "      <td>Q3B7D1</td>\n",
       "      <td>1</td>\n",
       "      <td>98</td>\n",
       "      <td>1</td>\n",
       "      <td>101</td>\n",
       "      <td>1</td>\n",
       "      <td>101</td>\n",
       "    </tr>\n",
       "    <tr>\n",
       "      <th>3</th>\n",
       "      <td>5.4e-30</td>\n",
       "      <td>113.7</td>\n",
       "      <td>18.0</td>\n",
       "      <td>8.1e-30</td>\n",
       "      <td>113.1</td>\n",
       "      <td>18.0</td>\n",
       "      <td>1.3</td>\n",
       "      <td>1</td>\n",
       "      <td>Q3UE37</td>\n",
       "      <td>1</td>\n",
       "      <td>98</td>\n",
       "      <td>1</td>\n",
       "      <td>101</td>\n",
       "      <td>1</td>\n",
       "      <td>101</td>\n",
       "    </tr>\n",
       "    <tr>\n",
       "      <th>4</th>\n",
       "      <td>3.3e-21</td>\n",
       "      <td>85.5</td>\n",
       "      <td>19.7</td>\n",
       "      <td>1.4e-20</td>\n",
       "      <td>83.5</td>\n",
       "      <td>19.7</td>\n",
       "      <td>1.9</td>\n",
       "      <td>1</td>\n",
       "      <td>A0A2K5VU74</td>\n",
       "      <td>1</td>\n",
       "      <td>98</td>\n",
       "      <td>1</td>\n",
       "      <td>86</td>\n",
       "      <td>1</td>\n",
       "      <td>86</td>\n",
       "    </tr>\n",
       "    <tr>\n",
       "      <th>5</th>\n",
       "      <td>4.2e-10</td>\n",
       "      <td>49.9</td>\n",
       "      <td>25.5</td>\n",
       "      <td>1.4e-08</td>\n",
       "      <td>45.0</td>\n",
       "      <td>5.3</td>\n",
       "      <td>2.3</td>\n",
       "      <td>2</td>\n",
       "      <td>H3B9H2</td>\n",
       "      <td>1</td>\n",
       "      <td>62</td>\n",
       "      <td>1</td>\n",
       "      <td>57</td>\n",
       "      <td>1</td>\n",
       "      <td>68</td>\n",
       "    </tr>\n",
       "    <tr>\n",
       "      <th>6</th>\n",
       "      <td>4.2e-08</td>\n",
       "      <td>43.5</td>\n",
       "      <td>6.0</td>\n",
       "      <td>7.6e-08</td>\n",
       "      <td>42.7</td>\n",
       "      <td>6.0</td>\n",
       "      <td>1.3</td>\n",
       "      <td>1</td>\n",
       "      <td>A0A4W3JHM2</td>\n",
       "      <td>16</td>\n",
       "      <td>97</td>\n",
       "      <td>4</td>\n",
       "      <td>87</td>\n",
       "      <td>2</td>\n",
       "      <td>88</td>\n",
       "    </tr>\n",
       "    <tr>\n",
       "      <th>7</th>\n",
       "      <td>5.2e-08</td>\n",
       "      <td>43.2</td>\n",
       "      <td>22.0</td>\n",
       "      <td>9.6e-08</td>\n",
       "      <td>42.3</td>\n",
       "      <td>22.0</td>\n",
       "      <td>1.5</td>\n",
       "      <td>1</td>\n",
       "      <td>E1BQ87</td>\n",
       "      <td>1</td>\n",
       "      <td>97</td>\n",
       "      <td>1</td>\n",
       "      <td>103</td>\n",
       "      <td>1</td>\n",
       "      <td>104</td>\n",
       "    </tr>\n",
       "    <tr>\n",
       "      <th>8</th>\n",
       "      <td>5.3e-08</td>\n",
       "      <td>43.1</td>\n",
       "      <td>2.3</td>\n",
       "      <td>1.1e-07</td>\n",
       "      <td>42.1</td>\n",
       "      <td>2.3</td>\n",
       "      <td>1.6</td>\n",
       "      <td>1</td>\n",
       "      <td>Q6DG60</td>\n",
       "      <td>67</td>\n",
       "      <td>98</td>\n",
       "      <td>39</td>\n",
       "      <td>71</td>\n",
       "      <td>2</td>\n",
       "      <td>71</td>\n",
       "    </tr>\n",
       "    <tr>\n",
       "      <th>9</th>\n",
       "      <td>1e-07</td>\n",
       "      <td>42.2</td>\n",
       "      <td>21.8</td>\n",
       "      <td>2.5e-07</td>\n",
       "      <td>41.0</td>\n",
       "      <td>12.1</td>\n",
       "      <td>2.3</td>\n",
       "      <td>2</td>\n",
       "      <td>A0A444UI62</td>\n",
       "      <td>1</td>\n",
       "      <td>68</td>\n",
       "      <td>1</td>\n",
       "      <td>67</td>\n",
       "      <td>1</td>\n",
       "      <td>71</td>\n",
       "    </tr>\n",
       "  </tbody>\n",
       "</table>\n",
       "</div>"
      ],
      "text/plain": [
       "   E-value  score  bias  E-value  score  bias  exp  N    Sequence  hmm_from  \\\n",
       "0  8.8e-32  119.4  17.6  1.3e-31  118.9  17.6  1.3  1  A0A7N9CX17         1   \n",
       "1  1.2e-31  119.0  17.6  1.7e-31  118.5  17.6  1.3  1      Q9H832         1   \n",
       "2  2.8e-30  114.6  18.1  4.2e-30  114.0  18.1  1.3  1      Q3B7D1         1   \n",
       "3  5.4e-30  113.7  18.0  8.1e-30  113.1  18.0  1.3  1      Q3UE37         1   \n",
       "4  3.3e-21   85.5  19.7  1.4e-20   83.5  19.7  1.9  1  A0A2K5VU74         1   \n",
       "5  4.2e-10   49.9  25.5  1.4e-08   45.0   5.3  2.3  2      H3B9H2         1   \n",
       "6  4.2e-08   43.5   6.0  7.6e-08   42.7   6.0  1.3  1  A0A4W3JHM2        16   \n",
       "7  5.2e-08   43.2  22.0  9.6e-08   42.3  22.0  1.5  1      E1BQ87         1   \n",
       "8  5.3e-08   43.1   2.3  1.1e-07   42.1   2.3  1.6  1      Q6DG60        67   \n",
       "9    1e-07   42.2  21.8  2.5e-07   41.0  12.1  2.3  2  A0A444UI62         1   \n",
       "\n",
       "   hmm_to  ali_from  ali_to  env_from  env_to  \n",
       "0      98         1      99         1      99  \n",
       "1      98         1      99         1      99  \n",
       "2      98         1     101         1     101  \n",
       "3      98         1     101         1     101  \n",
       "4      98         1      86         1      86  \n",
       "5      62         1      57         1      68  \n",
       "6      97         4      87         2      88  \n",
       "7      97         1     103         1     104  \n",
       "8      98        39      71         2      71  \n",
       "9      68         1      67         1      71  "
      ]
     },
     "execution_count": 50,
     "metadata": {},
     "output_type": "execute_result"
    }
   ],
   "source": [
    "# 3. Combine the results into 1 dataframe\n",
    "hmmsearch_results = pd.merge(stats_rp_15, hmmsearch_regions, left_on=\"Sequence\", right_on=\"id\", how=\"inner\")\n",
    "hmmsearch_results = hmmsearch_results.drop(columns=[\"Description\", \"id\"])\n",
    "print(f\"Number of hmmsearch hits for the {i} disordered region of the {id_dis} protein:\", len(hmmsearch_results))\n",
    "%store hmmsearch_results\n",
    "hmmsearch_results[:10]"
   ]
  },
  {
   "cell_type": "code",
   "execution_count": 48,
   "metadata": {
    "ExecuteTime": {
     "end_time": "2023-08-25T07:30:38.221338Z",
     "start_time": "2023-08-25T07:30:38.183994Z"
    }
   },
   "outputs": [],
   "source": [
    "# # Copy again the new file to the remote computer\n",
    "# !scp {directory}/results/hmms/hmmsearch/stats/stats_rp_15_{id_dis}_{i}.csv {name}@{server}:~/stats_rp_15_{id_dis}_{i}.csv"
   ]
  },
  {
   "cell_type": "code",
   "execution_count": 49,
   "metadata": {
    "ExecuteTime": {
     "end_time": "2023-08-25T07:30:38.962313Z",
     "start_time": "2023-08-25T07:30:38.946131Z"
    }
   },
   "outputs": [],
   "source": [
    "# # Check the overlap of the retrieved regions in RP with protein2ipr database\n",
    "# !ssh {name}@{server} \"/home/alina/protein2ipr_iterator.py stats_rp_15_{id_dis}_{i}.csv /db/interpro/protein2ipr.dat.gz protein2ipr_rp_15_{id_dis}_{i}.txt\""
   ]
  },
  {
   "cell_type": "code",
   "execution_count": 50,
   "metadata": {
    "ExecuteTime": {
     "end_time": "2023-08-25T07:40:00.248249Z",
     "start_time": "2023-08-25T07:40:00.231919Z"
    }
   },
   "outputs": [],
   "source": [
    "# # Copy the files with overlapping regions to the local folder\n",
    "# !scp {name}@{server}:~/protein2ipr_rp_15_{id_dis}_{i}.txt {directory}/results/hmms/hmmsearch/protein2ipr"
   ]
  },
  {
   "cell_type": "code",
   "execution_count": 51,
   "metadata": {
    "ExecuteTime": {
     "end_time": "2023-08-25T07:40:04.387747Z",
     "start_time": "2023-08-25T07:40:04.268833Z"
    }
   },
   "outputs": [
    {
     "name": "stdout",
     "output_type": "stream",
     "text": [
      "The number of intercepting entries with Pfam instances for the Q8IW19 protein: 30\n"
     ]
    },
    {
     "data": {
      "text/html": [
       "<div>\n",
       "<style scoped>\n",
       "    .dataframe tbody tr th:only-of-type {\n",
       "        vertical-align: middle;\n",
       "    }\n",
       "\n",
       "    .dataframe tbody tr th {\n",
       "        vertical-align: top;\n",
       "    }\n",
       "\n",
       "    .dataframe thead th {\n",
       "        text-align: right;\n",
       "    }\n",
       "</style>\n",
       "<table border=\"1\" class=\"dataframe\">\n",
       "  <thead>\n",
       "    <tr style=\"text-align: right;\">\n",
       "      <th></th>\n",
       "      <th>uniprot_id</th>\n",
       "      <th>ipr_id</th>\n",
       "      <th>description</th>\n",
       "      <th>pfam_id</th>\n",
       "      <th>start_pos</th>\n",
       "      <th>end_pos</th>\n",
       "      <th>length</th>\n",
       "    </tr>\n",
       "  </thead>\n",
       "  <tbody>\n",
       "    <tr>\n",
       "      <th>0</th>\n",
       "      <td>A0A0F6Q5G6</td>\n",
       "      <td>IPR003008</td>\n",
       "      <td>Tubulin/FtsZ, GTPase domain</td>\n",
       "      <td>PF00091</td>\n",
       "      <td>1</td>\n",
       "      <td>103</td>\n",
       "      <td>103</td>\n",
       "    </tr>\n",
       "    <tr>\n",
       "      <th>1</th>\n",
       "      <td>A0A0Q8IW19</td>\n",
       "      <td>IPR014914</td>\n",
       "      <td>RES domain</td>\n",
       "      <td>PF08808</td>\n",
       "      <td>74</td>\n",
       "      <td>218</td>\n",
       "      <td>145</td>\n",
       "    </tr>\n",
       "    <tr>\n",
       "      <th>2</th>\n",
       "      <td>A0A1F6Q5G6</td>\n",
       "      <td>IPR022791</td>\n",
       "      <td>Lysylphosphatidylglycerol synthetase/glycosylt...</td>\n",
       "      <td>PF03706</td>\n",
       "      <td>28</td>\n",
       "      <td>328</td>\n",
       "      <td>301</td>\n",
       "    </tr>\n",
       "    <tr>\n",
       "      <th>3</th>\n",
       "      <td>A0A1Q8IW19</td>\n",
       "      <td>IPR001444</td>\n",
       "      <td>Flagellar basal body rod protein, N-terminal</td>\n",
       "      <td>PF00460</td>\n",
       "      <td>5</td>\n",
       "      <td>35</td>\n",
       "      <td>31</td>\n",
       "    </tr>\n",
       "    <tr>\n",
       "      <th>4</th>\n",
       "      <td>A0A1Q8IW19</td>\n",
       "      <td>IPR010930</td>\n",
       "      <td>Flagellar basal-body/hook protein, C-terminal ...</td>\n",
       "      <td>PF06429</td>\n",
       "      <td>316</td>\n",
       "      <td>392</td>\n",
       "      <td>77</td>\n",
       "    </tr>\n",
       "    <tr>\n",
       "      <th>5</th>\n",
       "      <td>A0A1Q8IW19</td>\n",
       "      <td>IPR011491</td>\n",
       "      <td>Flagellar hook protein FlgE</td>\n",
       "      <td>PF07559</td>\n",
       "      <td>176</td>\n",
       "      <td>276</td>\n",
       "      <td>101</td>\n",
       "    </tr>\n",
       "    <tr>\n",
       "      <th>6</th>\n",
       "      <td>A0A2K5VR45</td>\n",
       "      <td>IPR019406</td>\n",
       "      <td>Aprataxin and PNK-like factor, PBZ domain</td>\n",
       "      <td>PF10283</td>\n",
       "      <td>375</td>\n",
       "      <td>400</td>\n",
       "      <td>26</td>\n",
       "    </tr>\n",
       "    <tr>\n",
       "      <th>7</th>\n",
       "      <td>A0A2K5VR45</td>\n",
       "      <td>IPR019406</td>\n",
       "      <td>Aprataxin and PNK-like factor, PBZ domain</td>\n",
       "      <td>PF10283</td>\n",
       "      <td>418</td>\n",
       "      <td>439</td>\n",
       "      <td>22</td>\n",
       "    </tr>\n",
       "    <tr>\n",
       "      <th>8</th>\n",
       "      <td>A0A2K5VR45</td>\n",
       "      <td>IPR041388</td>\n",
       "      <td>PNK, FHA domain</td>\n",
       "      <td>PF17913</td>\n",
       "      <td>20</td>\n",
       "      <td>99</td>\n",
       "      <td>80</td>\n",
       "    </tr>\n",
       "    <tr>\n",
       "      <th>9</th>\n",
       "      <td>A0A2K6T215</td>\n",
       "      <td>IPR019406</td>\n",
       "      <td>Aprataxin and PNK-like factor, PBZ domain</td>\n",
       "      <td>PF10283</td>\n",
       "      <td>365</td>\n",
       "      <td>390</td>\n",
       "      <td>26</td>\n",
       "    </tr>\n",
       "    <tr>\n",
       "      <th>10</th>\n",
       "      <td>A0A2K6T215</td>\n",
       "      <td>IPR019406</td>\n",
       "      <td>Aprataxin and PNK-like factor, PBZ domain</td>\n",
       "      <td>PF10283</td>\n",
       "      <td>407</td>\n",
       "      <td>429</td>\n",
       "      <td>23</td>\n",
       "    </tr>\n",
       "    <tr>\n",
       "      <th>11</th>\n",
       "      <td>A0A2K6T215</td>\n",
       "      <td>IPR041388</td>\n",
       "      <td>PNK, FHA domain</td>\n",
       "      <td>PF17913</td>\n",
       "      <td>21</td>\n",
       "      <td>100</td>\n",
       "      <td>80</td>\n",
       "    </tr>\n",
       "    <tr>\n",
       "      <th>12</th>\n",
       "      <td>A0A4S9WGV8</td>\n",
       "      <td>IPR024652</td>\n",
       "      <td>Trichodiene synthase</td>\n",
       "      <td>PF06330</td>\n",
       "      <td>3</td>\n",
       "      <td>344</td>\n",
       "      <td>342</td>\n",
       "    </tr>\n",
       "    <tr>\n",
       "      <th>13</th>\n",
       "      <td>A0A5S9WGV8</td>\n",
       "      <td>IPR003100</td>\n",
       "      <td>PAZ domain</td>\n",
       "      <td>PF02170</td>\n",
       "      <td>366</td>\n",
       "      <td>487</td>\n",
       "      <td>122</td>\n",
       "    </tr>\n",
       "    <tr>\n",
       "      <th>14</th>\n",
       "      <td>A0A5S9WGV8</td>\n",
       "      <td>IPR003165</td>\n",
       "      <td>Piwi domain</td>\n",
       "      <td>PF02171</td>\n",
       "      <td>662</td>\n",
       "      <td>956</td>\n",
       "      <td>295</td>\n",
       "    </tr>\n",
       "    <tr>\n",
       "      <th>15</th>\n",
       "      <td>A0A5S9WGV8</td>\n",
       "      <td>IPR014811</td>\n",
       "      <td>Argonaute, linker 1 domain</td>\n",
       "      <td>PF08699</td>\n",
       "      <td>310</td>\n",
       "      <td>360</td>\n",
       "      <td>51</td>\n",
       "    </tr>\n",
       "    <tr>\n",
       "      <th>16</th>\n",
       "      <td>A0A5S9WGV8</td>\n",
       "      <td>IPR032472</td>\n",
       "      <td>Argonaute linker 2 domain</td>\n",
       "      <td>PF16488</td>\n",
       "      <td>503</td>\n",
       "      <td>549</td>\n",
       "      <td>47</td>\n",
       "    </tr>\n",
       "    <tr>\n",
       "      <th>17</th>\n",
       "      <td>A0A5S9WGV8</td>\n",
       "      <td>IPR032474</td>\n",
       "      <td>Protein argonaute, N-terminal</td>\n",
       "      <td>PF16486</td>\n",
       "      <td>168</td>\n",
       "      <td>300</td>\n",
       "      <td>133</td>\n",
       "    </tr>\n",
       "    <tr>\n",
       "      <th>18</th>\n",
       "      <td>A0A7S9WGV8</td>\n",
       "      <td>IPR001516</td>\n",
       "      <td>NADH-Ubiquinone oxidoreductase (complex I), ch...</td>\n",
       "      <td>PF00662</td>\n",
       "      <td>62</td>\n",
       "      <td>119</td>\n",
       "      <td>58</td>\n",
       "    </tr>\n",
       "    <tr>\n",
       "      <th>19</th>\n",
       "      <td>A0A7S9WGV8</td>\n",
       "      <td>IPR001750</td>\n",
       "      <td>NADH:quinone oxidoreductase/Mrp antiporter, me...</td>\n",
       "      <td>PF00361</td>\n",
       "      <td>135</td>\n",
       "      <td>442</td>\n",
       "      <td>308</td>\n",
       "    </tr>\n",
       "    <tr>\n",
       "      <th>20</th>\n",
       "      <td>A0A8I6AU35</td>\n",
       "      <td>IPR019406</td>\n",
       "      <td>Aprataxin and PNK-like factor, PBZ domain</td>\n",
       "      <td>PF10283</td>\n",
       "      <td>357</td>\n",
       "      <td>382</td>\n",
       "      <td>26</td>\n",
       "    </tr>\n",
       "    <tr>\n",
       "      <th>21</th>\n",
       "      <td>A0A8I6AU35</td>\n",
       "      <td>IPR019406</td>\n",
       "      <td>Aprataxin and PNK-like factor, PBZ domain</td>\n",
       "      <td>PF10283</td>\n",
       "      <td>399</td>\n",
       "      <td>421</td>\n",
       "      <td>23</td>\n",
       "    </tr>\n",
       "    <tr>\n",
       "      <th>22</th>\n",
       "      <td>A0A8S9WGV8</td>\n",
       "      <td>IPR025235</td>\n",
       "      <td>Domain of unknown function DUF4178</td>\n",
       "      <td>PF13785</td>\n",
       "      <td>71</td>\n",
       "      <td>209</td>\n",
       "      <td>139</td>\n",
       "    </tr>\n",
       "    <tr>\n",
       "      <th>23</th>\n",
       "      <td>F6Q5G6</td>\n",
       "      <td>IPR019406</td>\n",
       "      <td>Aprataxin and PNK-like factor, PBZ domain</td>\n",
       "      <td>PF10283</td>\n",
       "      <td>381</td>\n",
       "      <td>406</td>\n",
       "      <td>26</td>\n",
       "    </tr>\n",
       "    <tr>\n",
       "      <th>24</th>\n",
       "      <td>F6Q5G6</td>\n",
       "      <td>IPR019406</td>\n",
       "      <td>Aprataxin and PNK-like factor, PBZ domain</td>\n",
       "      <td>PF10283</td>\n",
       "      <td>423</td>\n",
       "      <td>445</td>\n",
       "      <td>23</td>\n",
       "    </tr>\n",
       "    <tr>\n",
       "      <th>25</th>\n",
       "      <td>F6Q5G6</td>\n",
       "      <td>IPR041388</td>\n",
       "      <td>PNK, FHA domain</td>\n",
       "      <td>PF17913</td>\n",
       "      <td>22</td>\n",
       "      <td>101</td>\n",
       "      <td>80</td>\n",
       "    </tr>\n",
       "    <tr>\n",
       "      <th>26</th>\n",
       "      <td>Q8IW19</td>\n",
       "      <td>IPR019406</td>\n",
       "      <td>Aprataxin and PNK-like factor, PBZ domain</td>\n",
       "      <td>PF10283</td>\n",
       "      <td>376</td>\n",
       "      <td>401</td>\n",
       "      <td>26</td>\n",
       "    </tr>\n",
       "    <tr>\n",
       "      <th>27</th>\n",
       "      <td>Q8IW19</td>\n",
       "      <td>IPR019406</td>\n",
       "      <td>Aprataxin and PNK-like factor, PBZ domain</td>\n",
       "      <td>PF10283</td>\n",
       "      <td>418</td>\n",
       "      <td>442</td>\n",
       "      <td>25</td>\n",
       "    </tr>\n",
       "    <tr>\n",
       "      <th>28</th>\n",
       "      <td>Q8IW19</td>\n",
       "      <td>IPR041388</td>\n",
       "      <td>PNK, FHA domain</td>\n",
       "      <td>PF17913</td>\n",
       "      <td>21</td>\n",
       "      <td>100</td>\n",
       "      <td>80</td>\n",
       "    </tr>\n",
       "    <tr>\n",
       "      <th>29</th>\n",
       "      <td>S9WGV8</td>\n",
       "      <td>IPR019406</td>\n",
       "      <td>Aprataxin and PNK-like factor, PBZ domain</td>\n",
       "      <td>PF10283</td>\n",
       "      <td>186</td>\n",
       "      <td>211</td>\n",
       "      <td>26</td>\n",
       "    </tr>\n",
       "  </tbody>\n",
       "</table>\n",
       "</div>"
      ],
      "text/plain": [
       "    uniprot_id     ipr_id                                        description  \\\n",
       "0   A0A0F6Q5G6  IPR003008                        Tubulin/FtsZ, GTPase domain   \n",
       "1   A0A0Q8IW19  IPR014914                                         RES domain   \n",
       "2   A0A1F6Q5G6  IPR022791  Lysylphosphatidylglycerol synthetase/glycosylt...   \n",
       "3   A0A1Q8IW19  IPR001444       Flagellar basal body rod protein, N-terminal   \n",
       "4   A0A1Q8IW19  IPR010930  Flagellar basal-body/hook protein, C-terminal ...   \n",
       "5   A0A1Q8IW19  IPR011491                        Flagellar hook protein FlgE   \n",
       "6   A0A2K5VR45  IPR019406          Aprataxin and PNK-like factor, PBZ domain   \n",
       "7   A0A2K5VR45  IPR019406          Aprataxin and PNK-like factor, PBZ domain   \n",
       "8   A0A2K5VR45  IPR041388                                    PNK, FHA domain   \n",
       "9   A0A2K6T215  IPR019406          Aprataxin and PNK-like factor, PBZ domain   \n",
       "10  A0A2K6T215  IPR019406          Aprataxin and PNK-like factor, PBZ domain   \n",
       "11  A0A2K6T215  IPR041388                                    PNK, FHA domain   \n",
       "12  A0A4S9WGV8  IPR024652                               Trichodiene synthase   \n",
       "13  A0A5S9WGV8  IPR003100                                         PAZ domain   \n",
       "14  A0A5S9WGV8  IPR003165                                        Piwi domain   \n",
       "15  A0A5S9WGV8  IPR014811                         Argonaute, linker 1 domain   \n",
       "16  A0A5S9WGV8  IPR032472                          Argonaute linker 2 domain   \n",
       "17  A0A5S9WGV8  IPR032474                      Protein argonaute, N-terminal   \n",
       "18  A0A7S9WGV8  IPR001516  NADH-Ubiquinone oxidoreductase (complex I), ch...   \n",
       "19  A0A7S9WGV8  IPR001750  NADH:quinone oxidoreductase/Mrp antiporter, me...   \n",
       "20  A0A8I6AU35  IPR019406          Aprataxin and PNK-like factor, PBZ domain   \n",
       "21  A0A8I6AU35  IPR019406          Aprataxin and PNK-like factor, PBZ domain   \n",
       "22  A0A8S9WGV8  IPR025235                 Domain of unknown function DUF4178   \n",
       "23      F6Q5G6  IPR019406          Aprataxin and PNK-like factor, PBZ domain   \n",
       "24      F6Q5G6  IPR019406          Aprataxin and PNK-like factor, PBZ domain   \n",
       "25      F6Q5G6  IPR041388                                    PNK, FHA domain   \n",
       "26      Q8IW19  IPR019406          Aprataxin and PNK-like factor, PBZ domain   \n",
       "27      Q8IW19  IPR019406          Aprataxin and PNK-like factor, PBZ domain   \n",
       "28      Q8IW19  IPR041388                                    PNK, FHA domain   \n",
       "29      S9WGV8  IPR019406          Aprataxin and PNK-like factor, PBZ domain   \n",
       "\n",
       "    pfam_id  start_pos  end_pos  length  \n",
       "0   PF00091          1      103     103  \n",
       "1   PF08808         74      218     145  \n",
       "2   PF03706         28      328     301  \n",
       "3   PF00460          5       35      31  \n",
       "4   PF06429        316      392      77  \n",
       "5   PF07559        176      276     101  \n",
       "6   PF10283        375      400      26  \n",
       "7   PF10283        418      439      22  \n",
       "8   PF17913         20       99      80  \n",
       "9   PF10283        365      390      26  \n",
       "10  PF10283        407      429      23  \n",
       "11  PF17913         21      100      80  \n",
       "12  PF06330          3      344     342  \n",
       "13  PF02170        366      487     122  \n",
       "14  PF02171        662      956     295  \n",
       "15  PF08699        310      360      51  \n",
       "16  PF16488        503      549      47  \n",
       "17  PF16486        168      300     133  \n",
       "18  PF00662         62      119      58  \n",
       "19  PF00361        135      442     308  \n",
       "20  PF10283        357      382      26  \n",
       "21  PF10283        399      421      23  \n",
       "22  PF13785         71      209     139  \n",
       "23  PF10283        381      406      26  \n",
       "24  PF10283        423      445      23  \n",
       "25  PF17913         22      101      80  \n",
       "26  PF10283        376      401      26  \n",
       "27  PF10283        418      442      25  \n",
       "28  PF17913         21      100      80  \n",
       "29  PF10283        186      211      26  "
      ]
     },
     "execution_count": 51,
     "metadata": {},
     "output_type": "execute_result"
    }
   ],
   "source": [
    "# Filter only entries with Pfam ID and intercepting regions with the curated_disprot instances\n",
    "filename = f\"{directory}/results/hmms/hmmsearch/protein2ipr/protein2ipr_rp_15_{id_dis}_{i}.txt\"\n",
    "pfam = read_and_filter_pfam_data(filename, curated_query)\n",
    "if len(pfam) != 0:\n",
    "    pfam.to_csv(f\"pfam_overlap_{id_dis}.csv\", index=False)\n",
    "print(f\"The number of intercepting entries with Pfam instances for the {id_dis} protein: {len(pfam)}\")\n",
    "pfam"
   ]
  },
  {
   "cell_type": "markdown",
   "metadata": {},
   "source": [
    "### 2.2. HHblits\n",
    "\n",
    "HHblits is used for profile-profile sequence alignment. It compares a profile against a target sequence database to find homologous sequences."
   ]
  },
  {
   "cell_type": "code",
   "execution_count": 25,
   "metadata": {
    "ExecuteTime": {
     "end_time": "2023-08-25T07:44:44.835135Z",
     "start_time": "2023-08-25T07:44:44.140307Z"
    }
   },
   "outputs": [],
   "source": [
    "# # Copy fasta file to remote folder\n",
    "# !scp {align_file} {name}@{server}:~/{id_dis}_{i}.fasta"
   ]
  },
  {
   "cell_type": "code",
   "execution_count": 26,
   "metadata": {
    "ExecuteTime": {
     "end_time": "2023-08-25T07:44:46.072661Z",
     "start_time": "2023-08-25T07:44:45.336421Z"
    }
   },
   "outputs": [],
   "source": [
    "# # Create HMM profiles from MSA with hhmake\n",
    "# !ssh {name}@{server} \"/software/packages/hhsuite/hhsuite-3.0-beta.3-Linux/bin/hhmake -i {id_dis}_{i}.fasta -o hhmake_{id_dis}_{i}.txt\""
   ]
  },
  {
   "cell_type": "code",
   "execution_count": 27,
   "metadata": {
    "ExecuteTime": {
     "end_time": "2023-08-25T07:44:51.895699Z",
     "start_time": "2023-08-25T07:44:50.707435Z"
    }
   },
   "outputs": [],
   "source": [
    "# # HHblits against Pfam using hhmake output\n",
    "# !ssh {name}@{server} \"/software/packages/hhsuite/hhsuite-3.0-beta.3-Linux/bin/hhblits -i hhmake_{id_dis}_{i}.txt -o hhblits_pfam_{id_dis}_{i}.txt -d /db/hhblits/pfamA_35.0/pfam\""
   ]
  },
  {
   "cell_type": "code",
   "execution_count": 28,
   "metadata": {
    "ExecuteTime": {
     "end_time": "2023-08-25T07:44:56.847656Z",
     "start_time": "2023-08-25T07:44:55.659562Z"
    }
   },
   "outputs": [],
   "source": [
    "# # HHblits against Pfam using MSA\n",
    "# !ssh {name}@{server} \"/software/packages/hhsuite/hhsuite-3.0-beta.3-Linux/bin/hhblits -i {id_dis}_{i}.fasta -o hhblits_pfam_{id_dis}_{i}.txt -d /db/hhblits/pfamA_35.0/pfam\""
   ]
  },
  {
   "cell_type": "code",
   "execution_count": 29,
   "metadata": {
    "ExecuteTime": {
     "end_time": "2023-08-25T07:46:13.849721Z",
     "start_time": "2023-08-25T07:46:13.112883Z"
    }
   },
   "outputs": [],
   "source": [
    "# # Copy results to the local folder\n",
    "# !scp {name}@{server}:~/hhblits_pfam_{id_dis}_{i}.txt {directory}/results/hmms/hhblits/"
   ]
  },
  {
   "cell_type": "code",
   "execution_count": 30,
   "metadata": {
    "ExecuteTime": {
     "end_time": "2023-08-25T07:46:17.022314Z",
     "start_time": "2023-08-25T07:46:15.704207Z"
    }
   },
   "outputs": [],
   "source": [
    "# # Remove the file from the remote folder\n",
    "# !ssh {name}@{server} \"rm ~/{id_dis}_{i}.fasta\"\n",
    "# !ssh {name}@{server} \"rm ~/hhblits_pfam_{id_dis}_{i}.txt\""
   ]
  },
  {
   "cell_type": "code",
   "execution_count": 132,
   "metadata": {
    "ExecuteTime": {
     "end_time": "2023-08-25T07:46:17.881811Z",
     "start_time": "2023-08-25T07:46:17.828692Z"
    }
   },
   "outputs": [
    {
     "data": {
      "text/html": [
       "<div>\n",
       "<style scoped>\n",
       "    .dataframe tbody tr th:only-of-type {\n",
       "        vertical-align: middle;\n",
       "    }\n",
       "\n",
       "    .dataframe tbody tr th {\n",
       "        vertical-align: top;\n",
       "    }\n",
       "\n",
       "    .dataframe thead th {\n",
       "        text-align: right;\n",
       "    }\n",
       "</style>\n",
       "<table border=\"1\" class=\"dataframe\">\n",
       "  <thead>\n",
       "    <tr style=\"text-align: right;\">\n",
       "      <th></th>\n",
       "      <th>Hit</th>\n",
       "      <th>Prob</th>\n",
       "      <th>E-value</th>\n",
       "      <th>P-value</th>\n",
       "      <th>Score</th>\n",
       "      <th>SS</th>\n",
       "      <th>Cols</th>\n",
       "      <th>Query HMM</th>\n",
       "      <th>Template HMM</th>\n",
       "      <th>Name</th>\n",
       "    </tr>\n",
       "  </thead>\n",
       "  <tbody>\n",
       "    <tr>\n",
       "      <th>0</th>\n",
       "      <td>PF15018</td>\n",
       "      <td>48</td>\n",
       "      <td>0.0098</td>\n",
       "      <td>15.0</td>\n",
       "      <td>0.0</td>\n",
       "      <td>9</td>\n",
       "      <td>78-86</td>\n",
       "      <td>26-34</td>\n",
       "      <td>(35)</td>\n",
       "      <td>InaF-motif</td>\n",
       "    </tr>\n",
       "    <tr>\n",
       "      <th>1</th>\n",
       "      <td>PF05002</td>\n",
       "      <td>2.8</td>\n",
       "      <td>75</td>\n",
       "      <td>0.016</td>\n",
       "      <td>15.9</td>\n",
       "      <td>0.0</td>\n",
       "      <td>10</td>\n",
       "      <td>84-93</td>\n",
       "      <td>51-60 (79)</td>\n",
       "      <td>SGS</td>\n",
       "    </tr>\n",
       "    <tr>\n",
       "      <th>2</th>\n",
       "      <td>PF11947</td>\n",
       "      <td>86</td>\n",
       "      <td>0.017</td>\n",
       "      <td>18.0</td>\n",
       "      <td>0.0</td>\n",
       "      <td>10</td>\n",
       "      <td>78-87</td>\n",
       "      <td>105-114</td>\n",
       "      <td>(139)</td>\n",
       "      <td>DUF3464</td>\n",
       "    </tr>\n",
       "    <tr>\n",
       "      <th>3</th>\n",
       "      <td>PF18535</td>\n",
       "      <td>1.2E+02</td>\n",
       "      <td>0.022</td>\n",
       "      <td>16.4</td>\n",
       "      <td>0.0</td>\n",
       "      <td>18</td>\n",
       "      <td>56-73</td>\n",
       "      <td>20-37</td>\n",
       "      <td>(84)</td>\n",
       "      <td>Gal11_ABD1</td>\n",
       "    </tr>\n",
       "    <tr>\n",
       "      <th>4</th>\n",
       "      <td>PF07896</td>\n",
       "      <td>1.1E+02</td>\n",
       "      <td>0.023</td>\n",
       "      <td>14.0</td>\n",
       "      <td>0.0</td>\n",
       "      <td>12</td>\n",
       "      <td>82-93</td>\n",
       "      <td>32-43</td>\n",
       "      <td>(50)</td>\n",
       "      <td>DUF1674</td>\n",
       "    </tr>\n",
       "    <tr>\n",
       "      <th>5</th>\n",
       "      <td>PF11432</td>\n",
       "      <td>1.3E+02</td>\n",
       "      <td>0.025</td>\n",
       "      <td>17.0</td>\n",
       "      <td>0.0</td>\n",
       "      <td>12</td>\n",
       "      <td>85-96</td>\n",
       "      <td>17-28</td>\n",
       "      <td>(112)</td>\n",
       "      <td>DUF3197</td>\n",
       "    </tr>\n",
       "    <tr>\n",
       "      <th>6</th>\n",
       "      <td>PF06377</td>\n",
       "      <td>0.028</td>\n",
       "      <td>13.7</td>\n",
       "      <td>0.0</td>\n",
       "      <td>8</td>\n",
       "      <td>86-93</td>\n",
       "      <td>3-10</td>\n",
       "      <td>(53)</td>\n",
       "      <td></td>\n",
       "      <td>Adipokin_hormo</td>\n",
       "    </tr>\n",
       "    <tr>\n",
       "      <th>7</th>\n",
       "      <td>PF16643</td>\n",
       "      <td>1.4E+02</td>\n",
       "      <td>0.031</td>\n",
       "      <td>16.8</td>\n",
       "      <td>0.0</td>\n",
       "      <td>14</td>\n",
       "      <td>82-95</td>\n",
       "      <td>82-95</td>\n",
       "      <td>(168)</td>\n",
       "      <td>cNMPbd_u2</td>\n",
       "    </tr>\n",
       "    <tr>\n",
       "      <th>8</th>\n",
       "      <td>PF06680</td>\n",
       "      <td>2.3E+02</td>\n",
       "      <td>0.038</td>\n",
       "      <td>16.2</td>\n",
       "      <td>0.0</td>\n",
       "      <td>17</td>\n",
       "      <td>31-47</td>\n",
       "      <td>19-35</td>\n",
       "      <td>(120)</td>\n",
       "      <td>DUF1181</td>\n",
       "    </tr>\n",
       "    <tr>\n",
       "      <th>9</th>\n",
       "      <td>PF13486</td>\n",
       "      <td>1.6E+02</td>\n",
       "      <td>0.039</td>\n",
       "      <td>16.4</td>\n",
       "      <td>0.0</td>\n",
       "      <td>15</td>\n",
       "      <td>82-96</td>\n",
       "      <td>12-26</td>\n",
       "      <td>(313)</td>\n",
       "      <td>Dehalogenase</td>\n",
       "    </tr>\n",
       "  </tbody>\n",
       "</table>\n",
       "</div>"
      ],
      "text/plain": [
       "       Hit     Prob E-value P-value Score     SS   Cols Query HMM  \\\n",
       "0  PF15018       48  0.0098    15.0   0.0      9  78-86     26-34   \n",
       "1  PF05002      2.8      75   0.016  15.9    0.0     10     84-93   \n",
       "2  PF11947       86   0.017    18.0   0.0     10  78-87   105-114   \n",
       "3  PF18535  1.2E+02   0.022    16.4   0.0     18  56-73     20-37   \n",
       "4  PF07896  1.1E+02   0.023    14.0   0.0     12  82-93     32-43   \n",
       "5  PF11432  1.3E+02   0.025    17.0   0.0     12  85-96     17-28   \n",
       "6  PF06377    0.028    13.7     0.0     8  86-93   3-10      (53)   \n",
       "7  PF16643  1.4E+02   0.031    16.8   0.0     14  82-95     82-95   \n",
       "8  PF06680  2.3E+02   0.038    16.2   0.0     17  31-47     19-35   \n",
       "9  PF13486  1.6E+02   0.039    16.4   0.0     15  82-96     12-26   \n",
       "\n",
       "  Template HMM            Name  \n",
       "0         (35)      InaF-motif  \n",
       "1   51-60 (79)             SGS  \n",
       "2        (139)         DUF3464  \n",
       "3         (84)      Gal11_ABD1  \n",
       "4         (50)         DUF1674  \n",
       "5        (112)         DUF3197  \n",
       "6               Adipokin_hormo  \n",
       "7        (168)       cNMPbd_u2  \n",
       "8        (120)         DUF1181  \n",
       "9        (313)    Dehalogenase  "
      ]
     },
     "execution_count": 132,
     "metadata": {},
     "output_type": "execute_result"
    }
   ],
   "source": [
    "with open(f'{directory}/results/hmms/hhblits/hhblits_pfam_{id_dis}_{i}.txt', 'r') as file:\n",
    "    lines = file.readlines()\n",
    "\n",
    "# Extract the column names\n",
    "column_names = lines[8].split()[:-4] + ['Query HMM', 'Template HMM']\n",
    "\n",
    "# Extract the data rows\n",
    "data_rows = [line.split() for line in lines[9:19]]\n",
    "data_rows = [[row[0]] + [' '.join(row[1:4])] + row[7:14] + [' '.join(row[14:16])]\n",
    "             for row in data_rows]\n",
    "\n",
    "hhblits_stats = pd.DataFrame(data_rows, columns=column_names)\n",
    "hhblits_stats[[\"Hit\", \"Name\"]] = hhblits_stats[\"Hit\"].str.split(\" ; \", expand=True)\n",
    "hit_split_df = hhblits_stats[\"Hit\"].str.split(\".\", expand=True)\n",
    "hhblits_stats[\"Hit\"] = hit_split_df[0]\n",
    "\n",
    "hhblits_stats = hhblits_stats.drop(\"No\", axis=1).reset_index(drop=True)\n",
    "hhblits_stats.to_csv(f'{directory}/results/hmms/hhblits/hhblits_pfam_{id_dis}_{i}.csv', index=False)\n",
    "hhblits_stats"
   ]
  },
  {
   "cell_type": "code",
   "execution_count": 32,
   "metadata": {
    "ExecuteTime": {
     "end_time": "2023-08-25T07:46:20.473373Z",
     "start_time": "2023-08-25T07:46:19.752576Z"
    }
   },
   "outputs": [],
   "source": [
    "# # Copy again the new files to the remote computer\n",
    "# !scp {directory}/results/hmms/hhblits/hhblits_pfam_{id_dis}_{i}.csv {name}@{server}:~/hhblits_pfam_{id_dis}_{i}.csv"
   ]
  },
  {
   "cell_type": "code",
   "execution_count": 41,
   "metadata": {
    "ExecuteTime": {
     "end_time": "2023-08-25T08:16:12.311632Z",
     "start_time": "2023-08-25T07:54:18.696770Z"
    }
   },
   "outputs": [],
   "source": [
    "# !ssh {name}@{server} \"/home/alina/hhblits_iterator.py hhblits_pfam_{id_dis}_{i}.csv /db/interpro/protein2ipr.dat.gz pfam_uniprot_{id_dis}_{i}.txt\" # returned empty file"
   ]
  }
 ],
 "metadata": {
  "kernelspec": {
   "display_name": "Python 3 (ipykernel)",
   "language": "python",
   "name": "python3"
  },
  "language_info": {
   "codemirror_mode": {
    "name": "ipython",
    "version": 3
   },
   "file_extension": ".py",
   "mimetype": "text/x-python",
   "name": "python",
   "nbconvert_exporter": "python",
   "pygments_lexer": "ipython3",
   "version": "3.9.12"
  }
 },
 "nbformat": 4,
 "nbformat_minor": 1
}
