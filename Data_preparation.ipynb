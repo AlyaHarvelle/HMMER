{
 "cells": [
  {
   "cell_type": "code",
   "execution_count": 1,
   "metadata": {
    "collapsed": true,
    "ExecuteTime": {
     "end_time": "2023-08-07T07:04:44.671591Z",
     "start_time": "2023-08-07T07:04:40.772794Z"
    }
   },
   "outputs": [],
   "source": [
    "# Importing the libraries\n",
    "from functions import *"
   ]
  },
  {
   "cell_type": "code",
   "execution_count": 2,
   "outputs": [],
   "source": [
    "# Set the path and input parameters\n",
    "name = 'alina'\n",
    "server = 'ecate'"
   ],
   "metadata": {
    "collapsed": false,
    "ExecuteTime": {
     "end_time": "2023-08-07T07:04:44.675323Z",
     "start_time": "2023-08-07T07:04:44.672943Z"
    }
   }
  },
  {
   "cell_type": "markdown",
   "source": [
    "### Creating the dataframe of disordered regions"
   ],
   "metadata": {
    "collapsed": false
   }
  },
  {
   "cell_type": "code",
   "execution_count": 3,
   "outputs": [
    {
     "name": "stdout",
     "output_type": "stream",
     "text": [
      "The number of instances: 8656\n"
     ]
    },
    {
     "data": {
      "text/plain": "  query_id  subject_id  query_len  hsp_len  \\\n0   Q16620  A0A2R9BM51        822      822   \n1   Q16620  A0A4X2LP40        822      824   \n2   Q16620  A0A4X2LDU8        822      822   \n3   Q16620  A0A6P5IKH1        822      824   \n4   Q16620  A0A7J7UQA2        822      741   \n\n                                           query_seq  \\\n0  MSSWIRWHGPAMARLWGFCWLVVGFWRAAFACPTSCKCSASRIWCS...   \n1  MSSWIRWHGPAMARLWGFCWLVVGFWRAAFACPTSCKCSASRIWCS...   \n2  MSSWIRWHGPAMARLWGFCWLVVGFWRAAFACPTSCKCSASRIWCS...   \n3  MSSWIRWHGPAMARLWGFCWLVVGFWRAAFACPTSCKCSASRIWCS...   \n4  TSCKCSASRIWCSDPSPGIVAFPRLEPNSVDPENITEIFIANQKRL...   \n\n                                           match_seq  \\\n0  MSSWIRWHGPAMARLWGFCWLVVGFWRAAFACPTSCKCSASRIWCS...   \n1  M SW + HGP MARL GFCWLV+ FWR + ACPTSC CS +RIWCS...   \n2  M SW + HGP MARL GFCWLV+ FWR + ACPTSC CS +RIWCS...   \n3  M SW + HGP MARL GFCWLV+ FWR + ACPTSC CS +RIWCS...   \n4  +SCKCSASRIWCSDP PGI+AFPRLEPN++DPENITEI+IANQKRL...   \n\n                                         subject_seq  query_start  query_end  \\\n0  MSSWIRWHGPAMARLWGFCWLVVGFWRAAFACPTSCKCSASRIWCS...            1        822   \n1  MLSWKKCHGPGMARLLGFCWLVLIFWRGSQACPTSCTCSTTRIWCS...            1        822   \n2  MLSWKKCHGPGMARLLGFCWLVLIFWRGSQACPTSCTCSTTRIWCS...            1        822   \n3  MLSWKKCHGPGMARLLGFCWLVLIFWRGSQACPTSCTCSTTRIWCS...            1        822   \n4  SSCKCSASRIWCSDPIPGIMAFPRLEPNTIDPENITEIYIANQKRL...           34        774   \n\n   subject_start  subject_end  identity  positive  gaps  eval  bit_score  \\\n0              1          822       822       822     0   0.0     4458.0   \n1              1          824       689       745     2   0.0     3749.0   \n2              1          821       689       745     1   0.0     3756.0   \n3              1          824       691       745     2   0.0     3764.0   \n4              2          739       710       724     3   0.0     3776.0   \n\n   count  \n0    200  \n1    200  \n2    200  \n3    200  \n4    200  ",
      "text/html": "<div>\n<style scoped>\n    .dataframe tbody tr th:only-of-type {\n        vertical-align: middle;\n    }\n\n    .dataframe tbody tr th {\n        vertical-align: top;\n    }\n\n    .dataframe thead th {\n        text-align: right;\n    }\n</style>\n<table border=\"1\" class=\"dataframe\">\n  <thead>\n    <tr style=\"text-align: right;\">\n      <th></th>\n      <th>query_id</th>\n      <th>subject_id</th>\n      <th>query_len</th>\n      <th>hsp_len</th>\n      <th>query_seq</th>\n      <th>match_seq</th>\n      <th>subject_seq</th>\n      <th>query_start</th>\n      <th>query_end</th>\n      <th>subject_start</th>\n      <th>subject_end</th>\n      <th>identity</th>\n      <th>positive</th>\n      <th>gaps</th>\n      <th>eval</th>\n      <th>bit_score</th>\n      <th>count</th>\n    </tr>\n  </thead>\n  <tbody>\n    <tr>\n      <th>0</th>\n      <td>Q16620</td>\n      <td>A0A2R9BM51</td>\n      <td>822</td>\n      <td>822</td>\n      <td>MSSWIRWHGPAMARLWGFCWLVVGFWRAAFACPTSCKCSASRIWCS...</td>\n      <td>MSSWIRWHGPAMARLWGFCWLVVGFWRAAFACPTSCKCSASRIWCS...</td>\n      <td>MSSWIRWHGPAMARLWGFCWLVVGFWRAAFACPTSCKCSASRIWCS...</td>\n      <td>1</td>\n      <td>822</td>\n      <td>1</td>\n      <td>822</td>\n      <td>822</td>\n      <td>822</td>\n      <td>0</td>\n      <td>0.0</td>\n      <td>4458.0</td>\n      <td>200</td>\n    </tr>\n    <tr>\n      <th>1</th>\n      <td>Q16620</td>\n      <td>A0A4X2LP40</td>\n      <td>822</td>\n      <td>824</td>\n      <td>MSSWIRWHGPAMARLWGFCWLVVGFWRAAFACPTSCKCSASRIWCS...</td>\n      <td>M SW + HGP MARL GFCWLV+ FWR + ACPTSC CS +RIWCS...</td>\n      <td>MLSWKKCHGPGMARLLGFCWLVLIFWRGSQACPTSCTCSTTRIWCS...</td>\n      <td>1</td>\n      <td>822</td>\n      <td>1</td>\n      <td>824</td>\n      <td>689</td>\n      <td>745</td>\n      <td>2</td>\n      <td>0.0</td>\n      <td>3749.0</td>\n      <td>200</td>\n    </tr>\n    <tr>\n      <th>2</th>\n      <td>Q16620</td>\n      <td>A0A4X2LDU8</td>\n      <td>822</td>\n      <td>822</td>\n      <td>MSSWIRWHGPAMARLWGFCWLVVGFWRAAFACPTSCKCSASRIWCS...</td>\n      <td>M SW + HGP MARL GFCWLV+ FWR + ACPTSC CS +RIWCS...</td>\n      <td>MLSWKKCHGPGMARLLGFCWLVLIFWRGSQACPTSCTCSTTRIWCS...</td>\n      <td>1</td>\n      <td>822</td>\n      <td>1</td>\n      <td>821</td>\n      <td>689</td>\n      <td>745</td>\n      <td>1</td>\n      <td>0.0</td>\n      <td>3756.0</td>\n      <td>200</td>\n    </tr>\n    <tr>\n      <th>3</th>\n      <td>Q16620</td>\n      <td>A0A6P5IKH1</td>\n      <td>822</td>\n      <td>824</td>\n      <td>MSSWIRWHGPAMARLWGFCWLVVGFWRAAFACPTSCKCSASRIWCS...</td>\n      <td>M SW + HGP MARL GFCWLV+ FWR + ACPTSC CS +RIWCS...</td>\n      <td>MLSWKKCHGPGMARLLGFCWLVLIFWRGSQACPTSCTCSTTRIWCS...</td>\n      <td>1</td>\n      <td>822</td>\n      <td>1</td>\n      <td>824</td>\n      <td>691</td>\n      <td>745</td>\n      <td>2</td>\n      <td>0.0</td>\n      <td>3764.0</td>\n      <td>200</td>\n    </tr>\n    <tr>\n      <th>4</th>\n      <td>Q16620</td>\n      <td>A0A7J7UQA2</td>\n      <td>822</td>\n      <td>741</td>\n      <td>TSCKCSASRIWCSDPSPGIVAFPRLEPNSVDPENITEIFIANQKRL...</td>\n      <td>+SCKCSASRIWCSDP PGI+AFPRLEPN++DPENITEI+IANQKRL...</td>\n      <td>SSCKCSASRIWCSDPIPGIMAFPRLEPNTIDPENITEIYIANQKRL...</td>\n      <td>34</td>\n      <td>774</td>\n      <td>2</td>\n      <td>739</td>\n      <td>710</td>\n      <td>724</td>\n      <td>3</td>\n      <td>0.0</td>\n      <td>3776.0</td>\n      <td>200</td>\n    </tr>\n  </tbody>\n</table>\n</div>"
     },
     "execution_count": 3,
     "metadata": {},
     "output_type": "execute_result"
    }
   ],
   "source": [
    "# Open XML file in a dataframe\n",
    "input_file = '{}/databases/uniprot/curated_uniprot.fasta_75'.format(directory) # change the file name if necessary\n",
    "df = blast_parser(input_file)\n",
    "print(f\"The number of instances: {len(df)}\")\n",
    "df.head(5)"
   ],
   "metadata": {
    "collapsed": false,
    "ExecuteTime": {
     "end_time": "2023-08-07T07:05:04.124381Z",
     "start_time": "2023-08-07T07:05:03.184949Z"
    }
   }
  },
  {
   "cell_type": "code",
   "execution_count": 4,
   "outputs": [
    {
     "name": "stdout",
     "output_type": "stream",
     "text": [
      "The number of the Curated Disprot database instances: 3151\n"
     ]
    },
    {
     "data": {
      "text/plain": "         acc evidence   feature   source  start  end  length\n6927  P03265  curated  disorder  disprot    294  334      41\n6928  P03265  curated  disorder  disprot    454  464      11\n6929  P49913  curated  disorder  disprot    134  170      37\n6930  P03045  curated  disorder  disprot      1  107     107\n6931  P00004  curated  disorder  disprot      1  105     105",
      "text/html": "<div>\n<style scoped>\n    .dataframe tbody tr th:only-of-type {\n        vertical-align: middle;\n    }\n\n    .dataframe tbody tr th {\n        vertical-align: top;\n    }\n\n    .dataframe thead th {\n        text-align: right;\n    }\n</style>\n<table border=\"1\" class=\"dataframe\">\n  <thead>\n    <tr style=\"text-align: right;\">\n      <th></th>\n      <th>acc</th>\n      <th>evidence</th>\n      <th>feature</th>\n      <th>source</th>\n      <th>start</th>\n      <th>end</th>\n      <th>length</th>\n    </tr>\n  </thead>\n  <tbody>\n    <tr>\n      <th>6927</th>\n      <td>P03265</td>\n      <td>curated</td>\n      <td>disorder</td>\n      <td>disprot</td>\n      <td>294</td>\n      <td>334</td>\n      <td>41</td>\n    </tr>\n    <tr>\n      <th>6928</th>\n      <td>P03265</td>\n      <td>curated</td>\n      <td>disorder</td>\n      <td>disprot</td>\n      <td>454</td>\n      <td>464</td>\n      <td>11</td>\n    </tr>\n    <tr>\n      <th>6929</th>\n      <td>P49913</td>\n      <td>curated</td>\n      <td>disorder</td>\n      <td>disprot</td>\n      <td>134</td>\n      <td>170</td>\n      <td>37</td>\n    </tr>\n    <tr>\n      <th>6930</th>\n      <td>P03045</td>\n      <td>curated</td>\n      <td>disorder</td>\n      <td>disprot</td>\n      <td>1</td>\n      <td>107</td>\n      <td>107</td>\n    </tr>\n    <tr>\n      <th>6931</th>\n      <td>P00004</td>\n      <td>curated</td>\n      <td>disorder</td>\n      <td>disprot</td>\n      <td>1</td>\n      <td>105</td>\n      <td>105</td>\n    </tr>\n  </tbody>\n</table>\n</div>"
     },
     "execution_count": 4,
     "metadata": {},
     "output_type": "execute_result"
    }
   ],
   "source": [
    "# Create a dataframe with Disprot instances from curated.mjson database\n",
    "data = list()\n",
    "\n",
    "with open('curated.mjson', 'r') as file:\n",
    "    for line in file:\n",
    "        obj = json.loads(line)\n",
    "        rows = json_parser(obj)\n",
    "        data.extend(rows)\n",
    "\n",
    "curated_disprot = pd.DataFrame(data)\n",
    "\n",
    "# Calculate the length of disordered regions\n",
    "curated_disprot['length'] = curated_disprot['end'] - curated_disprot['start'] + 1\n",
    "curated_disprot = curated_disprot[(curated_disprot['feature'] == 'disorder') & (curated_disprot['source'] == 'disprot')]\n",
    "curated_disprot.to_csv(\"curated_disprot.csv\", index=False)\n",
    "\n",
    "print(f\"The number of the Curated Disprot database instances: {len(curated_disprot)}\")\n",
    "curated_disprot.head()"
   ],
   "metadata": {
    "collapsed": false,
    "ExecuteTime": {
     "end_time": "2023-08-07T07:05:06.402528Z",
     "start_time": "2023-08-07T07:05:06.287066Z"
    }
   }
  },
  {
   "cell_type": "code",
   "execution_count": 5,
   "outputs": [
    {
     "name": "stdout",
     "output_type": "stream",
     "text": [
      "The number of rows containing disordered regions: 2887\n"
     ]
    },
    {
     "data": {
      "text/plain": "    query_id  subject_id  query_len  hsp_len  \\\n200   Q9H832  A0A6J2FM24        354      356   \n201   Q9H832  A0A3Q7W6Y2        354      356   \n202   Q9H832  A0A2U3VK69        354      356   \n203   Q9H832  A0A2Y9JVH5        354      358   \n204   Q9H832  A0A8C7ALE4        354      358   \n\n                                             query_seq  \\\n200  MAESPTEEAATA--GAGAAGPGASSVAGVVGVSGSGGGFGPPFLPD...   \n201  MAESPTEEAATA--GAGAAGPGASSVAGVVGVSGSGGGFGPPFLPD...   \n202  MAESPTEEAATA--GAGAAGPGASSVAGVVGVSGSGGGFGPPFLPD...   \n203  MAESPTEEAATA----GAGAAGPGASSVAGVVGVSGSGGGFGPPFL...   \n204  MAESPTEEAATA----GAGAAGPGASSVAGVVGVSGSGGGFGPPFL...   \n\n                                             match_seq  \\\n200  MAESPTEEAATA  GAGAAGPGAS V GVVGVSGSG  FGPPFLPD...   \n201  MAESPTEEAATA  GAGA GPGAS VAGVVGVSGSG  FGPPFLPD...   \n202  MAESPTEEAATA  GAGAAGPGAS V GVVGVSGSG  FGPPFLPD...   \n203  MAESPTEEAATA    GAGAAGPGAS VAGVVGVSGSG  FGPPFL...   \n204  MAESPTEEAATA    GAGAAGPGAS VAGVVGVSGSG  FGPPFL...   \n\n                                           subject_seq  query_start  \\\n200  MAESPTEEAATATAGAGAAGPGASGVTGVVGVSGSG--FGPPFLPD...            1   \n201  MAESPTEEAATATAGAGATGPGASGVAGVVGVSGSG--FGPPFLPD...            1   \n202  MAESPTEEAATATAGAGAAGPGASGVTGVVGVSGSG--FGPPFLPD...            1   \n203  MAESPTEEAATATATAGAGAAGPGASGVAGVVGVSGSG--FGPPFL...            1   \n204  MAESPTEEAATATATAGAGAAGPGASGVAGVVGVSGSG--FGPPFL...            1   \n\n     query_end  subject_start  subject_end  identity  positive  gaps  eval  \\\n200        354              1          354       350       350     4   0.0   \n201        354              1          354       350       350     4   0.0   \n202        354              1          354       350       350     4   0.0   \n203        354              1          356       351       351     6   0.0   \n204        354              1          356       351       351     6   0.0   \n\n     bit_score  count  \n200     1851.0    200  \n201     1851.0    200  \n202     1851.0    200  \n203     1854.0    200  \n204     1854.0    200  ",
      "text/html": "<div>\n<style scoped>\n    .dataframe tbody tr th:only-of-type {\n        vertical-align: middle;\n    }\n\n    .dataframe tbody tr th {\n        vertical-align: top;\n    }\n\n    .dataframe thead th {\n        text-align: right;\n    }\n</style>\n<table border=\"1\" class=\"dataframe\">\n  <thead>\n    <tr style=\"text-align: right;\">\n      <th></th>\n      <th>query_id</th>\n      <th>subject_id</th>\n      <th>query_len</th>\n      <th>hsp_len</th>\n      <th>query_seq</th>\n      <th>match_seq</th>\n      <th>subject_seq</th>\n      <th>query_start</th>\n      <th>query_end</th>\n      <th>subject_start</th>\n      <th>subject_end</th>\n      <th>identity</th>\n      <th>positive</th>\n      <th>gaps</th>\n      <th>eval</th>\n      <th>bit_score</th>\n      <th>count</th>\n    </tr>\n  </thead>\n  <tbody>\n    <tr>\n      <th>200</th>\n      <td>Q9H832</td>\n      <td>A0A6J2FM24</td>\n      <td>354</td>\n      <td>356</td>\n      <td>MAESPTEEAATA--GAGAAGPGASSVAGVVGVSGSGGGFGPPFLPD...</td>\n      <td>MAESPTEEAATA  GAGAAGPGAS V GVVGVSGSG  FGPPFLPD...</td>\n      <td>MAESPTEEAATATAGAGAAGPGASGVTGVVGVSGSG--FGPPFLPD...</td>\n      <td>1</td>\n      <td>354</td>\n      <td>1</td>\n      <td>354</td>\n      <td>350</td>\n      <td>350</td>\n      <td>4</td>\n      <td>0.0</td>\n      <td>1851.0</td>\n      <td>200</td>\n    </tr>\n    <tr>\n      <th>201</th>\n      <td>Q9H832</td>\n      <td>A0A3Q7W6Y2</td>\n      <td>354</td>\n      <td>356</td>\n      <td>MAESPTEEAATA--GAGAAGPGASSVAGVVGVSGSGGGFGPPFLPD...</td>\n      <td>MAESPTEEAATA  GAGA GPGAS VAGVVGVSGSG  FGPPFLPD...</td>\n      <td>MAESPTEEAATATAGAGATGPGASGVAGVVGVSGSG--FGPPFLPD...</td>\n      <td>1</td>\n      <td>354</td>\n      <td>1</td>\n      <td>354</td>\n      <td>350</td>\n      <td>350</td>\n      <td>4</td>\n      <td>0.0</td>\n      <td>1851.0</td>\n      <td>200</td>\n    </tr>\n    <tr>\n      <th>202</th>\n      <td>Q9H832</td>\n      <td>A0A2U3VK69</td>\n      <td>354</td>\n      <td>356</td>\n      <td>MAESPTEEAATA--GAGAAGPGASSVAGVVGVSGSGGGFGPPFLPD...</td>\n      <td>MAESPTEEAATA  GAGAAGPGAS V GVVGVSGSG  FGPPFLPD...</td>\n      <td>MAESPTEEAATATAGAGAAGPGASGVTGVVGVSGSG--FGPPFLPD...</td>\n      <td>1</td>\n      <td>354</td>\n      <td>1</td>\n      <td>354</td>\n      <td>350</td>\n      <td>350</td>\n      <td>4</td>\n      <td>0.0</td>\n      <td>1851.0</td>\n      <td>200</td>\n    </tr>\n    <tr>\n      <th>203</th>\n      <td>Q9H832</td>\n      <td>A0A2Y9JVH5</td>\n      <td>354</td>\n      <td>358</td>\n      <td>MAESPTEEAATA----GAGAAGPGASSVAGVVGVSGSGGGFGPPFL...</td>\n      <td>MAESPTEEAATA    GAGAAGPGAS VAGVVGVSGSG  FGPPFL...</td>\n      <td>MAESPTEEAATATATAGAGAAGPGASGVAGVVGVSGSG--FGPPFL...</td>\n      <td>1</td>\n      <td>354</td>\n      <td>1</td>\n      <td>356</td>\n      <td>351</td>\n      <td>351</td>\n      <td>6</td>\n      <td>0.0</td>\n      <td>1854.0</td>\n      <td>200</td>\n    </tr>\n    <tr>\n      <th>204</th>\n      <td>Q9H832</td>\n      <td>A0A8C7ALE4</td>\n      <td>354</td>\n      <td>358</td>\n      <td>MAESPTEEAATA----GAGAAGPGASSVAGVVGVSGSGGGFGPPFL...</td>\n      <td>MAESPTEEAATA    GAGAAGPGAS VAGVVGVSGSG  FGPPFL...</td>\n      <td>MAESPTEEAATATATAGAGAAGPGASGVAGVVGVSGSG--FGPPFL...</td>\n      <td>1</td>\n      <td>354</td>\n      <td>1</td>\n      <td>356</td>\n      <td>351</td>\n      <td>351</td>\n      <td>6</td>\n      <td>0.0</td>\n      <td>1854.0</td>\n      <td>200</td>\n    </tr>\n  </tbody>\n</table>\n</div>"
     },
     "execution_count": 5,
     "metadata": {},
     "output_type": "execute_result"
    }
   ],
   "source": [
    "# Keep only disordered regions in the initial dataframe filtering using curated_disordered dataframe\n",
    "disordered = df[df['query_id'].isin(curated_disprot['acc'])]\n",
    "disordered.to_csv(\"disordered_df.csv\", index=False)\n",
    "\n",
    "print(f\"The number of rows containing disordered regions: {len(disordered)}\")\n",
    "disordered.head(5)"
   ],
   "metadata": {
    "collapsed": false,
    "ExecuteTime": {
     "end_time": "2023-08-07T07:05:09.193551Z",
     "start_time": "2023-08-07T07:05:09.100968Z"
    }
   }
  },
  {
   "cell_type": "code",
   "execution_count": 6,
   "outputs": [
    {
     "data": {
      "text/plain": "Select(description='Uniprot ID: ', layout=Layout(width='max-content'), options=('Q9H832', 'Q8IW19', 'Q99967', …",
      "application/vnd.jupyter.widget-view+json": {
       "version_major": 2,
       "version_minor": 0,
       "model_id": "e491bc6d42144e40a977dedf2a2a4647"
      }
     },
     "metadata": {},
     "output_type": "display_data"
    }
   ],
   "source": [
    "# Dropdown list of Uniprot query IDs for disordered regions\n",
    "output = widgets.Select(\n",
    "    options=disordered[\"query_id\"].unique(),\n",
    "    rows=10,\n",
    "    description='Uniprot ID: ',\n",
    "    layout={'width': 'max-content'},\n",
    "    disabled=False\n",
    ")\n",
    "display(output)"
   ],
   "metadata": {
    "collapsed": false,
    "ExecuteTime": {
     "end_time": "2023-08-07T07:05:11.455464Z",
     "start_time": "2023-08-07T07:05:11.433291Z"
    }
   }
  },
  {
   "cell_type": "code",
   "execution_count": 57,
   "outputs": [
    {
     "name": "stdout",
     "output_type": "stream",
     "text": [
      "Stored 'id_dis' (str)\n"
     ]
    },
    {
     "data": {
      "text/plain": "         acc evidence   feature   source  start  end  length\n7271  Q99967  curated  disorder  disprot    220  269      50",
      "text/html": "<div>\n<style scoped>\n    .dataframe tbody tr th:only-of-type {\n        vertical-align: middle;\n    }\n\n    .dataframe tbody tr th {\n        vertical-align: top;\n    }\n\n    .dataframe thead th {\n        text-align: right;\n    }\n</style>\n<table border=\"1\" class=\"dataframe\">\n  <thead>\n    <tr style=\"text-align: right;\">\n      <th></th>\n      <th>acc</th>\n      <th>evidence</th>\n      <th>feature</th>\n      <th>source</th>\n      <th>start</th>\n      <th>end</th>\n      <th>length</th>\n    </tr>\n  </thead>\n  <tbody>\n    <tr>\n      <th>7271</th>\n      <td>Q99967</td>\n      <td>curated</td>\n      <td>disorder</td>\n      <td>disprot</td>\n      <td>220</td>\n      <td>269</td>\n      <td>50</td>\n    </tr>\n  </tbody>\n</table>\n</div>"
     },
     "execution_count": 57,
     "metadata": {},
     "output_type": "execute_result"
    }
   ],
   "source": [
    "# Check if there are disordered regions for a particular query ID\n",
    "id_dis = output.value\n",
    "# store the same id for all notebooks\n",
    "%store id_dis\n",
    "selected_dis = disordered[disordered[\"query_id\"].isin([id_dis])]\n",
    "\n",
    "# Filter the curated_disprot dataframe based on selected ID\n",
    "curated_query = curated_disprot[curated_disprot['acc'] == id_dis]\n",
    "curated_query"
   ],
   "metadata": {
    "collapsed": false,
    "ExecuteTime": {
     "end_time": "2023-08-07T07:16:00.647776Z",
     "start_time": "2023-08-07T07:16:00.619099Z"
    }
   }
  },
  {
   "cell_type": "markdown",
   "source": [
    "## 1. Multiple Sequence Alignment\n",
    "\n",
    "Within this framework, we will compare the MSA results obtained directly from the BLAST output with those generated from the ClustalOmega service.\n",
    "\n",
    "#### MSA from the BLAST output\n",
    "This code iterates through each row of the dataframe for a previously selected query ID. If there is no gap, it maps the amino acid from the subject sequence to the corresponding position in the query sequence, starting from the beginning of the query sequence. The resulting mapped amino acids are then added to a new count. In the end we have a FASTA file with the subject IDs and the aligned sequences."
   ],
   "metadata": {
    "collapsed": false
   }
  },
  {
   "cell_type": "code",
   "execution_count": 58,
   "outputs": [],
   "source": [
    "# # Retrieve a query sequence from query id\n",
    "# query_sequence = get_fasta(id_dis)\n",
    "# query_lines = query_sequence.split(\"\\n\")\n",
    "# query_sequence = \"\".join(query_lines[1:]) # its length will be used for building MSA\n",
    "# query_sequence"
   ],
   "metadata": {
    "collapsed": false,
    "ExecuteTime": {
     "end_time": "2023-08-07T07:16:00.978880Z",
     "start_time": "2023-08-07T07:16:00.976208Z"
    }
   }
  },
  {
   "cell_type": "code",
   "execution_count": 59,
   "outputs": [],
   "source": [
    "# # 1. Build the MSA from the BLAST\n",
    "# out_file = f'{directory}/results/alignments/output_files/blast/{id_dis}_blast.fasta'\n",
    "#\n",
    "# with open(out_file, \"w\") as fout:\n",
    "#     mapped_seq = [\"-\"] * len(query_sequence)\n",
    "#\n",
    "#     # Write the header line for the query sequence\n",
    "#     fout.write(\">{}\\n\".format(id_dis))\n",
    "#\n",
    "#     # Map the query sequence to the mapped_seq list\n",
    "#     c = 0\n",
    "#     for l_q in query_sequence:\n",
    "#         if l_q != \" \" and l_q != '-':\n",
    "#             mapped_seq[c] = l_q\n",
    "#             c += 1\n",
    "#\n",
    "#     # Write the query_mapped_seq sequence to the output file\n",
    "#     fout.write(\"{}\\n\".format(\"\".join(mapped_seq)))\n",
    "#\n",
    "#     # Map the subject sequences to the mapped_seq list and write to the output file\n",
    "#     for index, row in selected_dis.iterrows():\n",
    "#         c = 0\n",
    "#         query_start = row[\"query_start\"]\n",
    "#         for l_q, l_s in zip(row['query_seq'], row['subject_seq']):\n",
    "#             if l_q != \" \" and l_q != '-': # if the initial aa from query is not empty or gapped\n",
    "#                 mapped_seq[query_start + c - 1] = l_s if l_s != \" \" else \"-\" # assign aa to subject\n",
    "#                 c += 1\n",
    "#             #if row['subject_id'] == id_dis:\n",
    "#                 #continue\n",
    "#         fout.write(\">{}\\n{}\\n\".format(row[\"subject_id\"], \"\".join(mapped_seq)))"
   ],
   "metadata": {
    "collapsed": false,
    "ExecuteTime": {
     "end_time": "2023-08-07T07:16:01.336162Z",
     "start_time": "2023-08-07T07:16:01.328998Z"
    }
   }
  },
  {
   "cell_type": "markdown",
   "source": [
    "#### MSA from the ClustalOmega, MAFFT\n",
    "\n",
    "Initially, we need to preprocess the dataframe into a suitable input format file for ClustalOmega and MAFFT."
   ],
   "metadata": {
    "collapsed": false
   }
  },
  {
   "cell_type": "code",
   "execution_count": 60,
   "outputs": [],
   "source": [
    "# # 2. Retrieve the unaligned sequences from the local machine\n",
    "input_file = f'{directory}/results/alignments/input_files/{id_dis}_input.fasta'\n",
    "#\n",
    "# with open(input_file, 'w') as fout:\n",
    "#     # Write the query sequence to the output file as the first line\n",
    "#     fout.write(\">{}\\n{}\\n\".format(id_dis, query_sequence))\n",
    "#\n",
    "#     for index, row in selected_dis.iterrows():\n",
    "#         accession = row['subject_id']\n",
    "#         sequence = get_fasta(accession)\n",
    "#         if id_dis == accession: # remove duplicates\n",
    "#             continue\n",
    "#         fout.write(sequence)"
   ],
   "metadata": {
    "collapsed": false,
    "ExecuteTime": {
     "end_time": "2023-08-07T07:16:01.666158Z",
     "start_time": "2023-08-07T07:16:01.662501Z"
    }
   }
  },
  {
   "cell_type": "code",
   "execution_count": 61,
   "outputs": [
    {
     "name": "stdout",
     "output_type": "stream",
     "text": [
      "Stored 'blast_seqs' (ndarray)\n",
      "Stored 'clustal_seqs' (ndarray)\n",
      "Stored 'mafft_seqs' (ndarray)\n"
     ]
    },
    {
     "data": {
      "text/plain": "((201, 270), (198, 270), (198, 270))"
     },
     "execution_count": 61,
     "metadata": {},
     "output_type": "execute_result"
    }
   ],
   "source": [
    "# Prepare all sequences for the following comparison\n",
    "al_blast = f'{directory}/results/alignments/output_files/blast/{id_dis}_blast.fasta'\n",
    "al_clustal = f'{directory}/results/alignments/output_files/clustal/{id_dis}_clustal.fasta'\n",
    "al_mafft = f'{directory}/results/alignments/output_files/mafft/{id_dis}_mafft.fasta'\n",
    "\n",
    "blast_seqs = get_seqs(al_blast)\n",
    "clustal_seqs = get_seqs(al_clustal)\n",
    "mafft_seqs = get_seqs(al_mafft)\n",
    "%store blast_seqs clustal_seqs mafft_seqs\n",
    "\n",
    "# The number of sequences may differ\n",
    "blast_seqs.shape, clustal_seqs.shape, mafft_seqs.shape"
   ],
   "metadata": {
    "collapsed": false,
    "ExecuteTime": {
     "end_time": "2023-08-07T07:16:01.902698Z",
     "start_time": "2023-08-07T07:16:01.839665Z"
    }
   }
  },
  {
   "cell_type": "code",
   "execution_count": 62,
   "outputs": [],
   "source": [
    "# def calculate_Nf(msa_file, threshold, id_dis):\n",
    "#\n",
    "#     output_file = f\"/Users/alina/HMM/results/alignments/input_files/non-redundant/Nf_{id_dis}.fasta\"\n",
    "#     cd_hit_path = \"/Users/alina/cd-hit/cd-hit\"\n",
    "#\n",
    "#     # Run CD-HIT to cluster the sequences (excluding the first line) and remove redundancy\n",
    "#     cmd = f\"{cd_hit_path} -i {msa_file} -o {output_file} -c {threshold} -n 4\"\n",
    "#     subprocess.call(cmd, shell=True)\n",
    "#\n",
    "#     # Read the first line from the original MSA file\n",
    "#     with open(msa_file, \"r\") as msa_handle:\n",
    "#         first_record = next(SeqIO.parse(msa_handle, \"fasta\"))\n",
    "#\n",
    "#     # Temporarily store the non-redundant sequences in a list\n",
    "#     non_redundant_sequences = []\n",
    "#     with open(output_file, \"r\") as output_handle:\n",
    "#         for record in SeqIO.parse(output_handle, \"fasta\"):\n",
    "#             non_redundant_sequences.append(record)\n",
    "#\n",
    "#     # Write the non-redundant sequences (including the first line) to the output file\n",
    "#     with open(output_file, \"w\") as final_handle:\n",
    "#         SeqIO.write([first_record] + non_redundant_sequences, final_handle, \"fasta\")\n",
    "#\n",
    "#     # Count the number of sequences in the MSA and the non-redundant MSA\n",
    "#     total_sequences = sum(1 for record in SeqIO.parse(msa_file, \"fasta\"))\n",
    "#     non_redundant_sequences_count = len(non_redundant_sequences)\n",
    "#\n",
    "#     # Calculate the effective sequences (Nf)\n",
    "#     Nf = non_redundant_sequences_count / total_sequences\n",
    "#     print(\"The number of non-redundant sequences:\", non_redundant_sequences_count)\n",
    "#     print(\"The total number of sequences:\", total_sequences)\n",
    "#     print(\"The ratio of non-redundant sequences (Nf):\", \"{:.2f}\".format(Nf))\n",
    "#\n",
    "#     return"
   ],
   "metadata": {
    "collapsed": false,
    "ExecuteTime": {
     "end_time": "2023-08-07T07:16:02.329768Z",
     "start_time": "2023-08-07T07:16:02.326038Z"
    }
   }
  },
  {
   "cell_type": "code",
   "execution_count": 63,
   "outputs": [
    {
     "name": "stdout",
     "output_type": "stream",
     "text": [
      "================================================================\n",
      "Program: CD-HIT, V4.8.1, Jul 26 2023, 11:29:12\n",
      "Command: /Users/alina/cd-hit/cd-hit -i\n",
      "         /Users/alina/HMM/results/alignments/input_files/Q99967_input.fasta\n",
      "         -o\n",
      "         /Users/alina/HMM/results/alignments/input_files/non-redundant/Nf_Q99967.fasta\n",
      "         -c 0.62\n",
      "\n",
      "Started: Mon Aug  7 09:16:02 2023\n",
      "================================================================\n",
      "                            Output                              \n",
      "----------------------------------------------------------------\n",
      "The number of non-redundant sequences: 6\n",
      "The total number of sequences: 198\n",
      "Number of effective sequences (Nf): 0.03\n"
     ]
    },
    {
     "name": "stderr",
     "output_type": "stream",
     "text": [
      "\n",
      "Fatal Error:\n",
      "Too low cluster threshold for the word length.\n",
      "Increase the threshold or the tolerance, or decrease the word length.\n",
      "Program halted !!\n",
      "\n"
     ]
    }
   ],
   "source": [
    "# Calculate redundancy and the number of effective sequences with calculate_Nf function\n",
    "calculate_Nf(input_file, 0.62, id_dis)"
   ],
   "metadata": {
    "collapsed": false,
    "ExecuteTime": {
     "end_time": "2023-08-07T07:16:02.727692Z",
     "start_time": "2023-08-07T07:16:02.676889Z"
    }
   }
  },
  {
   "cell_type": "code",
   "execution_count": 64,
   "outputs": [
    {
     "name": "stdout",
     "output_type": "stream",
     "text": [
      "Stored 'data_file' (str)\n"
     ]
    }
   ],
   "source": [
    "data_file = f\"/Users/alina/HMM/results/alignments/input_files/non-redundant/Nf_{id_dis}.fasta.clstr\"\n",
    "%store data_file\n",
    "\n",
    "# cluster_data = []\n",
    "# with open(data_file, 'r') as file:\n",
    "#     for line in file:\n",
    "#         if line.startswith('>Cluster'):\n",
    "#             continue\n",
    "#         parts = line.strip().split('\\t')\n",
    "#         percentage_matches = re.findall(r'\\d+\\.\\d+', parts[-1])\n",
    "#         if percentage_matches:\n",
    "#             percentage = float(percentage_matches[0])\n",
    "#             cluster_data.append(percentage)\n",
    "#\n",
    "# # Convert the data into a matrix\n",
    "# matrix_data = np.array(cluster_data).reshape(len(cluster_data), 1)\n",
    "#\n",
    "# # Create linkage matrix using the data and hierarchical clustering\n",
    "# Z = linkage(matrix_data, method='average')\n",
    "#\n",
    "# # Plot the dendrogram\n",
    "# plt.figure(figsize=(10, 6))\n",
    "# dendrogram(Z, labels=np.arange(len(cluster_data)), leaf_rotation=90, leaf_font_size=8)\n",
    "#\n",
    "# # Add a horizontal line for the threshold\n",
    "# threshold = 10.0\n",
    "# plt.axhline(y=threshold, color='red', linestyle='--', label=f'Threshold ({threshold}%)')\n",
    "#\n",
    "# plt.title('Hierarchical Clustering Dendrogram')\n",
    "# plt.xlabel('Cluster Index')\n",
    "# plt.ylabel('Distance')\n",
    "# plt.show()"
   ],
   "metadata": {
    "collapsed": false,
    "ExecuteTime": {
     "end_time": "2023-08-07T07:16:03.435372Z",
     "start_time": "2023-08-07T07:16:03.431385Z"
    }
   }
  },
  {
   "cell_type": "markdown",
   "source": [
    "### Defining disordered regions in MSA\n",
    "\n",
    "Here we will look at the positions of disordered regions in an alignment. Then we'll extract these regions for the separate analysis."
   ],
   "metadata": {
    "collapsed": false,
    "ExecuteTime": {
     "end_time": "2023-08-02T13:49:05.791602Z",
     "start_time": "2023-08-02T13:49:05.786460Z"
    }
   },
   "outputs": [],
   "execution_count": 144
  },
  {
   "cell_type": "code",
   "execution_count": 65,
   "outputs": [
    {
     "name": "stdout",
     "output_type": "stream",
     "text": [
      "The lists of start and end positions of the Q99967 disordered regions: \n",
      "Start regions: [220], \n",
      "End regions: [269]\n"
     ]
    }
   ],
   "source": [
    "# Extract the lists of start and end regions\n",
    "start_regions = curated_query['start'].tolist()\n",
    "end_regions = curated_query['end'].tolist()\n",
    "print(f\"The lists of start and end positions of the {id_dis} disordered regions: \\n\"\n",
    "      f\"Start regions: {start_regions}, \\n\"\n",
    "      f\"End regions: {end_regions}\")"
   ],
   "metadata": {
    "collapsed": false,
    "ExecuteTime": {
     "end_time": "2023-08-07T07:16:05.457596Z",
     "start_time": "2023-08-07T07:16:05.446208Z"
    }
   }
  },
  {
   "cell_type": "code",
   "execution_count": 66,
   "outputs": [
    {
     "name": "stdout",
     "output_type": "stream",
     "text": [
      "Q99967 (201, 270) <class 'numpy.ndarray'>\n"
     ]
    },
    {
     "data": {
      "text/plain": "array([['-', '-', '-', ..., 'V', 'S', '-'],\n       ['-', '-', '-', ..., 'V', 'S', '-'],\n       ['-', '-', '-', ..., 'V', 'S', '-'],\n       ...,\n       ['-', '-', '-', ..., 'V', 'S', '-'],\n       ['-', '-', '-', ..., 'V', 'S', '-'],\n       ['-', '-', '-', ..., 'V', 'S', '-']], dtype='<U1')"
     },
     "execution_count": 66,
     "metadata": {},
     "output_type": "execute_result"
    }
   ],
   "source": [
    "# Trim disordered regions from MSA BLAST and save the file in the folder\n",
    "regions = trim_dis_regions(al_blast, id_dis, start_regions, end_regions)\n",
    "\n",
    "# Look at the resulting regions in an alignment\n",
    "seqs = get_seqs(regions)\n",
    "print(id_dis, seqs.shape, type(seqs))\n",
    "seqs[:10]"
   ],
   "metadata": {
    "collapsed": false,
    "ExecuteTime": {
     "end_time": "2023-08-07T07:16:06.723092Z",
     "start_time": "2023-08-07T07:16:06.681035Z"
    }
   }
  },
  {
   "cell_type": "code",
   "execution_count": 70,
   "outputs": [
    {
     "name": "stdout",
     "output_type": "stream",
     "text": [
      "Q99967 (201, 50) <class 'numpy.ndarray'>\n"
     ]
    }
   ],
   "source": [
    "# Split the disordered regions with the help of select_dis_regions function\n",
    "output_directory = f\"{directory}/results/alignments/output_files/disordered\"\n",
    "separate_disordered_regions = select_dis_regions(al_blast, id_dis, start_regions, end_regions, output_directory)\n",
    "\n",
    "# if there are more than 1 region\n",
    "dis_seqs = print_dis_seqs(output_directory, 'disordered', id_dis)\n",
    "if isinstance(dis_seqs, list):  # Check if dis_seqs is a list of several disordered regions\n",
    "    print(id_dis, dis_seqs[0].shape, type(dis_seqs[0]))\n",
    "    print(id_dis, dis_seqs[1].shape, type(dis_seqs[1]))\n",
    "else: # if dis_seqs consists of one disordered region only\n",
    "    print(id_dis, dis_seqs.shape, type(dis_seqs))"
   ],
   "metadata": {
    "collapsed": false,
    "ExecuteTime": {
     "end_time": "2023-08-07T07:17:10.776225Z",
     "start_time": "2023-08-07T07:17:10.751784Z"
    }
   }
  },
  {
   "cell_type": "markdown",
   "source": [
    "## 2. Hidden Markov Models"
   ],
   "metadata": {
    "collapsed": false,
    "ExecuteTime": {
     "end_time": "2023-08-02T13:38:09.492889Z",
     "start_time": "2023-08-02T13:38:08.673895Z"
    }
   },
   "outputs": [
    {
     "data": {
      "text/plain": "<Figure size 576x576 with 2 Axes>",
      "image/png": "[encoded data removed]"
     },
     "metadata": {
      "needs_background": "light"
     },
     "output_type": "display_data"
    }
   ],
   "execution_count": 60
  },
  {
   "cell_type": "code",
   "execution_count": 155,
   "outputs": [],
   "source": [
    "# Select the region and set the paths to HMM and MSA files\n",
    "i = 1 # change the number if there are several regions in a protein\n",
    "hmm_file = f'{directory}/results/hmms/hmmbuild/{id_dis}_{i}.hmm'\n",
    "align_file = f'{directory}/results/alignments/output_files/disordered/{id_dis}_{i}.fasta'"
   ],
   "metadata": {
    "collapsed": false,
    "ExecuteTime": {
     "end_time": "2023-08-04T10:07:39.835557Z",
     "start_time": "2023-08-04T10:07:39.825802Z"
    }
   }
  },
  {
   "cell_type": "code",
   "execution_count": 156,
   "outputs": [
    {
     "name": "stdout",
     "output_type": "stream",
     "text": [
      "# hmmbuild :: profile HMM construction from multiple sequence alignments\r\n",
      "# HMMER 3.3.2 (Nov 2020); http://hmmer.org/\r\n",
      "# Copyright (C) 2020 Howard Hughes Medical Institute.\r\n",
      "# Freely distributed under the BSD open source license.\r\n",
      "# - - - - - - - - - - - - - - - - - - - - - - - - - - - - - - - - - - - -\r\n",
      "# input alignment file:             /Users/alina/HMM/results/alignments/output_files/disordered/Q93KQ4_1.fasta\r\n",
      "# output HMM file:                  /Users/alina/HMM/results/hmms/hmmbuild/Q93KQ4_1.hmm\r\n",
      "# - - - - - - - - - - - - - - - - - - - - - - - - - - - - - - - - - - - -\r\n",
      "\r\n",
      "# idx name                  nseq  alen  mlen eff_nseq re/pos description\r\n",
      "#---- -------------------- ----- ----- ----- -------- ------ -----------\r\n",
      "1     Q93KQ4_1                74    31    31    74.00  1.732 \r\n",
      "\r\n",
      "# CPU time: 0.00u 0.00s 00:00:00.00 Elapsed: 00:00:00.01\r\n"
     ]
    }
   ],
   "source": [
    "# Build HMM\n",
    "!hmmbuild {hmm_file} {align_file}"
   ],
   "metadata": {
    "collapsed": false,
    "ExecuteTime": {
     "end_time": "2023-08-04T10:07:40.222247Z",
     "start_time": "2023-08-04T10:07:40.041376Z"
    }
   }
  },
  {
   "cell_type": "markdown",
   "source": [
    "### 2.1. HMMsearch\n",
    "\n",
    "After building the model, our objective is to assess if overlaps with the profiles in Reference Proteome 15% exist and to enrich the model by utilizing this database. We generate dataframes containing the most significant sequences, with a default E-value threshold of 0.01.\n",
    "\n",
    "### Reference Proteome"
   ],
   "metadata": {
    "collapsed": false
   }
  },
  {
   "cell_type": "code",
   "execution_count": 171,
   "outputs": [
    {
     "name": "stdout",
     "output_type": "stream",
     "text": [
      "Q86FP8_1.hmm                                  100%   29KB   9.3MB/s   00:00    \r\n"
     ]
    }
   ],
   "source": [
    "# Copy the HMM file to remote computer to perform HMM search on a cluster\n",
    "!scp {directory}/results/hmms/hmmbuild/{id_dis}_{i}.hmm {name}@{server}:~/{id_dis}_{i}.hmm"
   ],
   "metadata": {
    "collapsed": false,
    "ExecuteTime": {
     "end_time": "2023-08-04T10:10:24.179618Z",
     "start_time": "2023-08-04T10:10:23.451282Z"
    }
   }
  },
  {
   "cell_type": "code",
   "execution_count": 172,
   "outputs": [],
   "source": [
    "# HMM search against Reference Proteome 15%\n",
    "!ssh {name}@{server} \"/software/packages/hmmer/hmmer-3.3.2/usr/bin/hmmsearch {id_dis}_{i}.hmm /db/rp/rp-seqs-15.fasta.gz > hmmsearch_rp_15_{id_dis}_{i}.txt\""
   ],
   "metadata": {
    "collapsed": false,
    "ExecuteTime": {
     "end_time": "2023-08-04T10:11:30.165414Z",
     "start_time": "2023-08-04T10:10:24.183466Z"
    }
   }
  },
  {
   "cell_type": "code",
   "execution_count": 173,
   "outputs": [
    {
     "name": "stdout",
     "output_type": "stream",
     "text": [
      "hmmsearch_rp_15_Q86FP8_1.txt                  100%  674KB  31.1MB/s   00:00    \r\n"
     ]
    }
   ],
   "source": [
    "# Copy results to the local folder\n",
    "!scp {name}@{server}:~/hmmsearch_rp_15_{id_dis}_{i}.txt {directory}/results/hmms/hmmsearch/"
   ],
   "metadata": {
    "collapsed": false,
    "ExecuteTime": {
     "end_time": "2023-08-04T10:11:30.936809Z",
     "start_time": "2023-08-04T10:11:30.180739Z"
    }
   }
  },
  {
   "cell_type": "code",
   "execution_count": 174,
   "outputs": [],
   "source": [
    "# Remove the file from the remote folder\n",
    "!ssh {name}@{server} \"rm ~/{id_dis}_{i}.hmm\"\n",
    "!ssh {name}@{server} \"rm ~/hmmsearch_rp_15_{id_dis}_{i}.txt\""
   ],
   "metadata": {
    "collapsed": false,
    "ExecuteTime": {
     "end_time": "2023-08-04T10:11:32.336129Z",
     "start_time": "2023-08-04T10:11:30.941571Z"
    }
   }
  },
  {
   "cell_type": "code",
   "execution_count": 175,
   "outputs": [
    {
     "name": "stdout",
     "output_type": "stream",
     "text": [
      "The number of unique sequences: 295\n"
     ]
    },
    {
     "data": {
      "text/plain": "     E-value score bias  E-value score bias  exp  N    Sequence  \\\n0    2.4e-20  81.8  0.0  5.2e-20  80.7  0.0  1.6  1      A9TSC0   \n1    1.9e-18  75.8  0.0  3.9e-18  74.8  0.0  1.5  1  A0A384L621   \n2    1.9e-18  75.8  0.0  3.9e-18  74.8  0.0  1.5  1      Q9LIP9   \n3    2.1e-17  72.4  0.0  5.2e-17  71.1  0.0  1.6  1  A0A834T8N5   \n4    2.5e-17  72.1  0.0  5.7e-17  71.0  0.0  1.6  1  A0A6A6KBW9   \n..       ...   ...  ...      ...   ...  ...  ... ..         ...   \n290   0.0088  25.6  0.0    0.018  24.6  0.0  1.4  1  A0A1J1JAF3   \n291   0.0091  25.5  0.0    0.022  24.3  0.0  1.6  1  A0A168QCE2   \n292   0.0094  25.5  0.0    0.018  24.6  0.0  1.4  1  A0A0D2WH72   \n293   0.0095  25.5  0.0     0.02  24.4  0.0  1.5  1  A0A0V0YDW3   \n294   0.0097  25.4  0.0     0.02  24.4  0.0  1.4  1  A0A507FP93   \n\n                                           Description  \n0    A9TSC0_PHYPA^|^^|^Glutamine--fructose-6-phosphate  \n1    A0A384L621_ARATH^|^^|^Glutamine--fructose-6-phosp  \n2     GFAT1_ARATH^|^^|^Glutamine--fructose-6-phosphate  \n3    A0A834T8N5_9FABA^|^^|^Glutamine--fructose-6-phosp  \n4    A0A6A6KBW9_HEVBR^|^^|^Glutamine--fructose-6-phosp  \n..                                                 ...  \n290  A0A1J1JAF3_9DIPT^|^^|^Glutamine--fructose-6-phosp  \n291  A0A168QCE2_ABSGL^|^^|^Glutamine--fructose-6-phosp  \n292  A0A0D2WH72_CAPO3^|^^|^Glutamine--fructose-6-phosp  \n293  A0A0V0YDW3_TRIPS^|^^|^Glutamine--fructose-6-phosp  \n294  A0A507FP93_9FUNG^|^^|^Glutamine--fructose-6-phosp  \n\n[295 rows x 10 columns]",
      "text/html": "<div>\n<style scoped>\n    .dataframe tbody tr th:only-of-type {\n        vertical-align: middle;\n    }\n\n    .dataframe tbody tr th {\n        vertical-align: top;\n    }\n\n    .dataframe thead th {\n        text-align: right;\n    }\n</style>\n<table border=\"1\" class=\"dataframe\">\n  <thead>\n    <tr style=\"text-align: right;\">\n      <th></th>\n      <th>E-value</th>\n      <th>score</th>\n      <th>bias</th>\n      <th>E-value</th>\n      <th>score</th>\n      <th>bias</th>\n      <th>exp</th>\n      <th>N</th>\n      <th>Sequence</th>\n      <th>Description</th>\n    </tr>\n  </thead>\n  <tbody>\n    <tr>\n      <th>0</th>\n      <td>2.4e-20</td>\n      <td>81.8</td>\n      <td>0.0</td>\n      <td>5.2e-20</td>\n      <td>80.7</td>\n      <td>0.0</td>\n      <td>1.6</td>\n      <td>1</td>\n      <td>A9TSC0</td>\n      <td>A9TSC0_PHYPA^|^^|^Glutamine--fructose-6-phosphate</td>\n    </tr>\n    <tr>\n      <th>1</th>\n      <td>1.9e-18</td>\n      <td>75.8</td>\n      <td>0.0</td>\n      <td>3.9e-18</td>\n      <td>74.8</td>\n      <td>0.0</td>\n      <td>1.5</td>\n      <td>1</td>\n      <td>A0A384L621</td>\n      <td>A0A384L621_ARATH^|^^|^Glutamine--fructose-6-phosp</td>\n    </tr>\n    <tr>\n      <th>2</th>\n      <td>1.9e-18</td>\n      <td>75.8</td>\n      <td>0.0</td>\n      <td>3.9e-18</td>\n      <td>74.8</td>\n      <td>0.0</td>\n      <td>1.5</td>\n      <td>1</td>\n      <td>Q9LIP9</td>\n      <td>GFAT1_ARATH^|^^|^Glutamine--fructose-6-phosphate</td>\n    </tr>\n    <tr>\n      <th>3</th>\n      <td>2.1e-17</td>\n      <td>72.4</td>\n      <td>0.0</td>\n      <td>5.2e-17</td>\n      <td>71.1</td>\n      <td>0.0</td>\n      <td>1.6</td>\n      <td>1</td>\n      <td>A0A834T8N5</td>\n      <td>A0A834T8N5_9FABA^|^^|^Glutamine--fructose-6-phosp</td>\n    </tr>\n    <tr>\n      <th>4</th>\n      <td>2.5e-17</td>\n      <td>72.1</td>\n      <td>0.0</td>\n      <td>5.7e-17</td>\n      <td>71.0</td>\n      <td>0.0</td>\n      <td>1.6</td>\n      <td>1</td>\n      <td>A0A6A6KBW9</td>\n      <td>A0A6A6KBW9_HEVBR^|^^|^Glutamine--fructose-6-phosp</td>\n    </tr>\n    <tr>\n      <th>...</th>\n      <td>...</td>\n      <td>...</td>\n      <td>...</td>\n      <td>...</td>\n      <td>...</td>\n      <td>...</td>\n      <td>...</td>\n      <td>...</td>\n      <td>...</td>\n      <td>...</td>\n    </tr>\n    <tr>\n      <th>290</th>\n      <td>0.0088</td>\n      <td>25.6</td>\n      <td>0.0</td>\n      <td>0.018</td>\n      <td>24.6</td>\n      <td>0.0</td>\n      <td>1.4</td>\n      <td>1</td>\n      <td>A0A1J1JAF3</td>\n      <td>A0A1J1JAF3_9DIPT^|^^|^Glutamine--fructose-6-phosp</td>\n    </tr>\n    <tr>\n      <th>291</th>\n      <td>0.0091</td>\n      <td>25.5</td>\n      <td>0.0</td>\n      <td>0.022</td>\n      <td>24.3</td>\n      <td>0.0</td>\n      <td>1.6</td>\n      <td>1</td>\n      <td>A0A168QCE2</td>\n      <td>A0A168QCE2_ABSGL^|^^|^Glutamine--fructose-6-phosp</td>\n    </tr>\n    <tr>\n      <th>292</th>\n      <td>0.0094</td>\n      <td>25.5</td>\n      <td>0.0</td>\n      <td>0.018</td>\n      <td>24.6</td>\n      <td>0.0</td>\n      <td>1.4</td>\n      <td>1</td>\n      <td>A0A0D2WH72</td>\n      <td>A0A0D2WH72_CAPO3^|^^|^Glutamine--fructose-6-phosp</td>\n    </tr>\n    <tr>\n      <th>293</th>\n      <td>0.0095</td>\n      <td>25.5</td>\n      <td>0.0</td>\n      <td>0.02</td>\n      <td>24.4</td>\n      <td>0.0</td>\n      <td>1.5</td>\n      <td>1</td>\n      <td>A0A0V0YDW3</td>\n      <td>A0A0V0YDW3_TRIPS^|^^|^Glutamine--fructose-6-phosp</td>\n    </tr>\n    <tr>\n      <th>294</th>\n      <td>0.0097</td>\n      <td>25.4</td>\n      <td>0.0</td>\n      <td>0.02</td>\n      <td>24.4</td>\n      <td>0.0</td>\n      <td>1.4</td>\n      <td>1</td>\n      <td>A0A507FP93</td>\n      <td>A0A507FP93_9FUNG^|^^|^Glutamine--fructose-6-phosp</td>\n    </tr>\n  </tbody>\n</table>\n<p>295 rows × 10 columns</p>\n</div>"
     },
     "execution_count": 175,
     "metadata": {},
     "output_type": "execute_result"
    }
   ],
   "source": [
    "# Make a dataframe with the statistics\n",
    "stats_rp_15 = process_hmmsearch_file(f\"{directory}/results/hmms/hmmsearch/hmmsearch_rp_15_{id_dis}_{i}.txt\")\n",
    "# stats_rp_15 = stats_rp_15[stats_rp_15['Sequence'] == id_dis]\n",
    "stats_rp_15.to_csv(f\"{directory}/results/hmms/hmmsearch/stats/stats_rp_15_{id_dis}_{i}.csv\")\n",
    "stats_rp_15"
   ],
   "metadata": {
    "collapsed": false,
    "ExecuteTime": {
     "end_time": "2023-08-04T10:11:32.388900Z",
     "start_time": "2023-08-04T10:11:32.338210Z"
    }
   }
  },
  {
   "cell_type": "code",
   "execution_count": 176,
   "outputs": [
    {
     "name": "stdout",
     "output_type": "stream",
     "text": [
      "stats_rp_15_Q86FP8_1.csv                      100%   30KB  10.6MB/s   00:00    \r\n"
     ]
    }
   ],
   "source": [
    "# Copy again the new file to the remote computer\n",
    "!scp {directory}/results/hmms/hmmsearch/stats/stats_rp_15_{id_dis}_{i}.csv {name}@{server}:~/stats_rp_15_{id_dis}_{i}.csv"
   ],
   "metadata": {
    "collapsed": false,
    "ExecuteTime": {
     "end_time": "2023-08-04T10:11:33.068800Z",
     "start_time": "2023-08-04T10:11:32.390700Z"
    }
   }
  },
  {
   "cell_type": "code",
   "execution_count": 177,
   "outputs": [],
   "source": [
    "# # Check the overlap of the retrieved regions in RP with protein2ipr database\n",
    "# # !ssh {name}@{server} \"/home/alina/iterator.py /db/interpro/protein2ipr.dat.gz protein2ipr_rp_15_{id_dis}_{i}.txt id_dis\"\n",
    "# !ssh {name}@{server} \"/home/alina/protein2ipr_iterator.py stats_rp_15_{id_dis}_{i}.csv /db/interpro/protein2ipr.dat.gz protein2ipr_rp_15_{id_dis}_{i}.txt\""
   ],
   "metadata": {
    "collapsed": false,
    "ExecuteTime": {
     "end_time": "2023-08-04T10:11:33.072815Z",
     "start_time": "2023-08-04T10:11:33.069895Z"
    }
   }
  },
  {
   "cell_type": "code",
   "execution_count": 178,
   "outputs": [
    {
     "name": "stdout",
     "output_type": "stream",
     "text": [
      "protein2ipr_rp_15_Q86FP8_1.txt                100%  212KB   5.5MB/s   00:00    \r\n"
     ]
    }
   ],
   "source": [
    "# Copy the files with overlapping regions to the local folder\n",
    "!scp {name}@{server}:~/protein2ipr_rp_15_{id_dis}_{i}.txt {directory}/results/hmms/hmmsearch/protein2ipr"
   ],
   "metadata": {
    "collapsed": false,
    "ExecuteTime": {
     "end_time": "2023-08-04T10:11:33.803179Z",
     "start_time": "2023-08-04T10:11:33.074784Z"
    }
   }
  },
  {
   "cell_type": "code",
   "execution_count": 179,
   "outputs": [
    {
     "name": "stdout",
     "output_type": "stream",
     "text": [
      "0\n"
     ]
    },
    {
     "data": {
      "text/plain": "Empty DataFrame\nColumns: [uniprot_id, ipr_id, description, pfam_id, start_pos, end_pos, length]\nIndex: []",
      "text/html": "<div>\n<style scoped>\n    .dataframe tbody tr th:only-of-type {\n        vertical-align: middle;\n    }\n\n    .dataframe tbody tr th {\n        vertical-align: top;\n    }\n\n    .dataframe thead th {\n        text-align: right;\n    }\n</style>\n<table border=\"1\" class=\"dataframe\">\n  <thead>\n    <tr style=\"text-align: right;\">\n      <th></th>\n      <th>uniprot_id</th>\n      <th>ipr_id</th>\n      <th>description</th>\n      <th>pfam_id</th>\n      <th>start_pos</th>\n      <th>end_pos</th>\n      <th>length</th>\n    </tr>\n  </thead>\n  <tbody>\n  </tbody>\n</table>\n</div>"
     },
     "execution_count": 179,
     "metadata": {},
     "output_type": "execute_result"
    }
   ],
   "source": [
    "# Filter only entries with Pfam ID and intercepting regions with the curated_disprot instances\n",
    "filename = f\"{directory}/results/hmms/hmmsearch/protein2ipr/protein2ipr_rp_15_{id_dis}_{i}.txt\"\n",
    "pfam = read_and_filter_pfam_data(filename, curated_query)\n",
    "pfam_overlap = pfam[pfam['uniprot_id'] == id_dis]\n",
    "if len(pfam_overlap) != 0:\n",
    "    pfam_overlap.to_csv(\"pfam_overlap.csv\", index=False)\n",
    "print(len(pfam_overlap))\n",
    "pfam_overlap"
   ],
   "metadata": {
    "collapsed": false,
    "ExecuteTime": {
     "end_time": "2023-08-04T10:11:33.863959Z",
     "start_time": "2023-08-04T10:11:33.814121Z"
    }
   }
  },
  {
   "cell_type": "markdown",
   "source": [
    "### 2.2. HHblits\n",
    "\n",
    "HHblits is used for profile-profile sequence alignment. It compares a profile against a target sequence database to find homologous sequences."
   ],
   "metadata": {
    "collapsed": false
   }
  },
  {
   "cell_type": "code",
   "execution_count": 180,
   "outputs": [
    {
     "name": "stdout",
     "output_type": "stream",
     "text": [
      "Q93KQ4_1.fasta                                100% 3172   921.7KB/s   00:00    \r\n"
     ]
    }
   ],
   "source": [
    "# Copy fasta file to remote folder\n",
    "!scp {align_file} {name}@{server}:~/{id_dis}_{i}.fasta"
   ],
   "metadata": {
    "collapsed": false,
    "ExecuteTime": {
     "end_time": "2023-08-04T10:11:34.570906Z",
     "start_time": "2023-08-04T10:11:33.866744Z"
    }
   }
  },
  {
   "cell_type": "code",
   "execution_count": 181,
   "outputs": [
    {
     "name": "stdout",
     "output_type": "stream",
     "text": [
      "- 12:11:35.276 INFO: Q86FP8_1.fasta is in A2M, A3M or FASTA format\r\n",
      "\r\n",
      "Done\r\n"
     ]
    }
   ],
   "source": [
    "# Create HMM profiles from MSA with hhmake\n",
    "!ssh {name}@{server} \"/software/packages/hhsuite/hhsuite-3.0-beta.3-Linux/bin/hhmake -i {id_dis}_{i}.fasta -o hhmake_{id_dis}_{i}.txt\""
   ],
   "metadata": {
    "collapsed": false,
    "ExecuteTime": {
     "end_time": "2023-08-04T10:11:35.341880Z",
     "start_time": "2023-08-04T10:11:34.573695Z"
    }
   }
  },
  {
   "cell_type": "code",
   "execution_count": 182,
   "outputs": [
    {
     "name": "stdout",
     "output_type": "stream",
     "text": [
      "- 12:11:35.996 INFO: Searching 19632 column state sequences.\r\n",
      "\r\n",
      "- 12:11:36.058 INFO: Query file is in HHM format\r\n",
      "\r\n",
      "- 12:11:36.058 INFO: Extracting representative sequences from hhmake_Q86FP8_1.txt to merge later with matched database sequences\r\n",
      "\r\n",
      "- 12:11:36.058 WARNING: Input alignment hhmake_Q86FP8_1.txt looks like aligned FASTA instead of A2M/A3M format. Consider using '-M first' or '-M 50'\r\n",
      "\r\n",
      "- 12:11:36.059 INFO: Iteration 1\r\n",
      "\r\n",
      "- 12:11:36.090 INFO: Prefiltering database\r\n",
      "\r\n",
      "- 12:11:36.131 INFO: HMMs passed 1st prefilter (gapless profile-profile alignment)  : 100\r\n",
      "\r\n",
      "- 12:11:36.132 INFO: HMMs passed 2nd prefilter (gapped profile-profile alignment)   : 100\r\n",
      "\r\n",
      "- 12:11:36.132 INFO: HMMs passed 2nd prefilter and not found in previous iterations : 100\r\n",
      "\r\n",
      "- 12:11:36.132 INFO: Scoring 100 HMMs using HMM-HMM Viterbi alignment\r\n",
      "\r\n",
      "- 12:11:36.170 INFO: Alternative alignment: 0\r\n",
      "\r\n",
      "- 12:11:36.183 INFO: 100 alignments done\r\n",
      "\r\n",
      "- 12:11:36.183 INFO: Alternative alignment: 1\r\n",
      "\r\n",
      "- 12:11:36.184 INFO: 1 alignments done\r\n",
      "\r\n",
      "- 12:11:36.184 INFO: Alternative alignment: 2\r\n",
      "\r\n",
      "- 12:11:36.184 INFO: Alternative alignment: 3\r\n",
      "\r\n",
      "- 12:11:36.203 INFO: Realigning 10 HMM-HMM alignments using Maximum Accuracy algorithm\r\n",
      "\r\n",
      "- 12:11:36.216 WARNING: Input alignment merged A3M file looks like aligned FASTA instead of A2M/A3M format. Consider using '-M first' or '-M 50'\r\n",
      "\r\n",
      "- 12:11:36.216 INFO: 1 sequences belonging to 1 database HMMs found with an E-value < 0.001\r\n",
      "\r\n",
      "- 12:11:36.216 INFO: Number of effective sequences of resulting query HMM: Neff = 5.17759\r\n",
      "\r\n",
      "- 12:11:36.219 INFO: Iteration 2\r\n",
      "\r\n",
      "- 12:11:36.248 INFO: Prefiltering database\r\n",
      "\r\n",
      "- 12:11:36.288 INFO: HMMs passed 1st prefilter (gapless profile-profile alignment)  : 100\r\n",
      "\r\n",
      "- 12:11:36.288 INFO: HMMs passed 2nd prefilter (gapped profile-profile alignment)   : 100\r\n",
      "\r\n",
      "- 12:11:36.288 INFO: HMMs passed 2nd prefilter and not found in previous iterations : 99\r\n",
      "\r\n",
      "- 12:11:36.288 INFO: Scoring 99 HMMs using HMM-HMM Viterbi alignment\r\n",
      "\r\n",
      "- 12:11:36.308 INFO: Alternative alignment: 0\r\n",
      "\r\n",
      "- 12:11:36.321 INFO: 99 alignments done\r\n",
      "\r\n",
      "- 12:11:36.321 INFO: Alternative alignment: 1\r\n",
      "\r\n",
      "- 12:11:36.321 INFO: Alternative alignment: 2\r\n",
      "\r\n",
      "- 12:11:36.321 INFO: Alternative alignment: 3\r\n",
      "\r\n",
      "- 12:11:36.341 INFO: Rescoring previously found HMMs with Viterbi algorithm\r\n",
      "\r\n",
      "- 12:11:36.366 INFO: Alternative alignment: 0\r\n",
      "\r\n",
      "- 12:11:36.366 INFO: 1 alignments done\r\n",
      "\r\n",
      "- 12:11:36.366 INFO: Alternative alignment: 1\r\n",
      "\r\n",
      "- 12:11:36.367 INFO: 1 alignments done\r\n",
      "\r\n",
      "- 12:11:36.367 INFO: Alternative alignment: 2\r\n",
      "\r\n",
      "- 12:11:36.367 INFO: Alternative alignment: 3\r\n",
      "\r\n",
      "- 12:11:36.386 INFO: Realigning 10 HMM-HMM alignments using Maximum Accuracy algorithm\r\n",
      "\r\n",
      "- 12:11:36.399 INFO: 1 sequences belonging to 1 database HMMs found with an E-value < 0.001\r\n",
      "\r\n",
      "Query         Q93KQ4\r\n",
      "Match_columns 31\r\n",
      "No_of_seqs    26 out of 31\r\n",
      "Neff          5.17759\r\n",
      "Searched_HMMs 160\r\n",
      "Date          Fri Aug  4 12:11:36 2023\r\n",
      "Command       /software/packages/hhsuite/hhsuite-3.0-beta.3-Linux/bin/hhblits -i hhmake_Q86FP8_1.txt -o hhblits_pfam_Q86FP8_1.txt -d /db/hhblits/pfamA_35.0/pfam \r\n",
      "\r\n",
      " No Hit                             Prob E-value P-value  Score    SS Cols Query HMM  Template HMM\r\n",
      "  1 PF09013.13 ; YopH_N ; YopH, N-  98.5 1.7E-11 3.2E-15   62.5   0.0   31    1-31     42-72  (103)\r\n",
      "  2 PF16164.8 ; VWA_N2 ; VWA N-ter  52.1    0.74 0.00014   19.8   0.0   15    4-18      9-23  (79)\r\n",
      "  3 PF18521.4 ; TAD2 ; Transactiva  13.8      12   0.002   13.0   0.0   13    9-21      8-20  (25)\r\n",
      "  4 PF17574.5 ; TA_inhibitor ; Inh  12.2      14  0.0024   16.3   0.0   18    5-22     44-61  (89)\r\n",
      "  5 PF10911.11 ; T7-like_Y65 ; Bac   5.7      36  0.0067   13.9   0.0   16    4-19      2-17  (77)\r\n",
      "  6 PF09366.13 ; DUF1997 ; Protein   5.1      35  0.0077   13.6   0.0   18    7-24      2-19  (156)\r\n",
      "  7 PF17657.4 ; DNA_pol3_finger ;    5.0      35  0.0079   13.5   0.0   22    3-24    105-126 (164)\r\n",
      "  8 PF09216.13 ; Pfg27 ; Pfg27       4.9      40  0.0082   15.0   0.0   26    4-29    145-170 (173)\r\n",
      "  9 PF10742.12 ; DUF2555 ; Protein   4.6      48  0.0088   12.9   0.0   14   11-24      6-19  (55)\r\n",
      " 10 PF14793.9 ; DUF4478 ; Pyrimidi   4.4      48  0.0092   14.1   0.0   17   13-29     45-61  (109)\r\n",
      "\r\n"
     ]
    }
   ],
   "source": [
    "# HHblits against Pfam using hhmake output\n",
    "!ssh {name}@{server} \"/software/packages/hhsuite/hhsuite-3.0-beta.3-Linux/bin/hhblits -i hhmake_{id_dis}_{i}.txt -o hhblits_pfam_{id_dis}_{i}.txt -d /db/hhblits/pfamA_35.0/pfam\""
   ],
   "metadata": {
    "collapsed": false,
    "ExecuteTime": {
     "end_time": "2023-08-04T10:11:36.481762Z",
     "start_time": "2023-08-04T10:11:35.345774Z"
    }
   }
  },
  {
   "cell_type": "code",
   "execution_count": 183,
   "outputs": [
    {
     "name": "stdout",
     "output_type": "stream",
     "text": [
      "- 12:11:37.165 INFO: Searching 19632 column state sequences.\r\n",
      "\r\n",
      "- 12:11:37.227 INFO: Q86FP8_1.fasta is in A2M, A3M or FASTA format\r\n",
      "\r\n",
      "- 12:11:37.227 INFO: Iteration 1\r\n",
      "\r\n",
      "- 12:11:37.258 INFO: Prefiltering database\r\n",
      "\r\n",
      "- 12:11:37.300 INFO: HMMs passed 1st prefilter (gapless profile-profile alignment)  : 100\r\n",
      "\r\n",
      "- 12:11:37.301 INFO: HMMs passed 2nd prefilter (gapped profile-profile alignment)   : 100\r\n",
      "\r\n",
      "- 12:11:37.301 INFO: HMMs passed 2nd prefilter and not found in previous iterations : 100\r\n",
      "\r\n",
      "- 12:11:37.301 INFO: Scoring 100 HMMs using HMM-HMM Viterbi alignment\r\n",
      "\r\n",
      "- 12:11:37.338 INFO: Alternative alignment: 0\r\n",
      "\r\n",
      "- 12:11:37.352 INFO: 100 alignments done\r\n",
      "\r\n",
      "- 12:11:37.352 INFO: Alternative alignment: 1\r\n",
      "\r\n",
      "- 12:11:37.352 INFO: 1 alignments done\r\n",
      "\r\n",
      "- 12:11:37.352 INFO: Alternative alignment: 2\r\n",
      "\r\n",
      "- 12:11:37.352 INFO: Alternative alignment: 3\r\n",
      "\r\n",
      "- 12:11:37.372 INFO: Realigning 10 HMM-HMM alignments using Maximum Accuracy algorithm\r\n",
      "\r\n",
      "- 12:11:37.385 INFO: 1 sequences belonging to 1 database HMMs found with an E-value < 0.001\r\n",
      "\r\n",
      "- 12:11:37.385 INFO: Number of effective sequences of resulting query HMM: Neff = 5.53466\r\n",
      "\r\n",
      "- 12:11:37.387 INFO: Iteration 2\r\n",
      "\r\n",
      "- 12:11:37.416 INFO: Prefiltering database\r\n",
      "\r\n",
      "- 12:11:37.456 INFO: HMMs passed 1st prefilter (gapless profile-profile alignment)  : 100\r\n",
      "\r\n",
      "- 12:11:37.457 INFO: HMMs passed 2nd prefilter (gapped profile-profile alignment)   : 100\r\n",
      "\r\n",
      "- 12:11:37.457 INFO: HMMs passed 2nd prefilter and not found in previous iterations : 99\r\n",
      "\r\n",
      "- 12:11:37.457 INFO: Scoring 99 HMMs using HMM-HMM Viterbi alignment\r\n",
      "\r\n",
      "- 12:11:37.477 INFO: Alternative alignment: 0\r\n",
      "\r\n",
      "- 12:11:37.489 INFO: 99 alignments done\r\n",
      "\r\n",
      "- 12:11:37.490 INFO: Alternative alignment: 1\r\n",
      "\r\n",
      "- 12:11:37.490 INFO: Alternative alignment: 2\r\n",
      "\r\n",
      "- 12:11:37.490 INFO: Alternative alignment: 3\r\n",
      "\r\n",
      "- 12:11:37.510 INFO: Rescoring previously found HMMs with Viterbi algorithm\r\n",
      "\r\n",
      "- 12:11:37.534 INFO: Alternative alignment: 0\r\n",
      "\r\n",
      "- 12:11:37.535 INFO: 1 alignments done\r\n",
      "\r\n",
      "- 12:11:37.535 INFO: Alternative alignment: 1\r\n",
      "\r\n",
      "- 12:11:37.535 INFO: 1 alignments done\r\n",
      "\r\n",
      "- 12:11:37.535 INFO: Alternative alignment: 2\r\n",
      "\r\n",
      "- 12:11:37.535 INFO: Alternative alignment: 3\r\n",
      "\r\n",
      "- 12:11:37.554 INFO: Realigning 10 HMM-HMM alignments using Maximum Accuracy algorithm\r\n",
      "\r\n",
      "- 12:11:37.566 INFO: 1 sequences belonging to 1 database HMMs found with an E-value < 0.001\r\n",
      "\r\n",
      "Query         Q93KQ4\r\n",
      "Match_columns 31\r\n",
      "No_of_seqs    28 out of 96\r\n",
      "Neff          5.53466\r\n",
      "Searched_HMMs 146\r\n",
      "Date          Fri Aug  4 12:11:37 2023\r\n",
      "Command       /software/packages/hhsuite/hhsuite-3.0-beta.3-Linux/bin/hhblits -i Q86FP8_1.fasta -o hhblits_pfam_Q86FP8_1.txt -d /db/hhblits/pfamA_35.0/pfam \r\n",
      "\r\n",
      " No Hit                             Prob E-value P-value  Score    SS Cols Query HMM  Template HMM\r\n",
      "  1 PF09013.13 ; YopH_N ; YopH, N-  98.4 5.7E-11   1E-14   59.5   0.0   31    1-31     42-72  (103)\r\n",
      "  2 PF16164.8 ; VWA_N2 ; VWA N-ter  49.4    0.88 0.00017   19.3   0.0   15    4-18      9-23  (79)\r\n",
      "  3 PF17574.5 ; TA_inhibitor ; Inh  17.4       8  0.0014   16.9   0.0   20    5-24     44-63  (89)\r\n",
      "  4 PF18521.4 ; TAD2 ; Transactiva  15.8     9.5  0.0016   13.0   0.0   13    9-21      8-20  (25)\r\n",
      "  5 PF20332.1 ; DUF6627 ; Family o  13.1      11  0.0022   16.2   0.0   18   12-29     61-78  (123)\r\n",
      "  6 PF10742.12 ; DUF2555 ; Protein  10.4      17   0.003   14.3   0.0   16   11-26      6-21  (55)\r\n",
      "  7 PF09216.13 ; Pfg27 ; Pfg27       6.5      28  0.0057   15.4   0.0   25    4-28    145-169 (173)\r\n",
      "  8 PF05883.14 ; Baculo_RING ; Bac   4.5      47  0.0089   14.3   0.0   15    3-17     89-103 (131)\r\n",
      "  9 PF10911.11 ; T7-like_Y65 ; Bac   3.8      60   0.011   12.9   0.0   15    5-19      3-17  (77)\r\n",
      " 10 PF06130.15 ; PTAC ; Phosphate    3.4      64   0.013   12.3   0.0   17    6-22      6-22  (81)\r\n",
      "\r\n"
     ]
    }
   ],
   "source": [
    "# HHblits against Pfam using MSA\n",
    "!ssh {name}@{server} \"/software/packages/hhsuite/hhsuite-3.0-beta.3-Linux/bin/hhblits -i {id_dis}_{i}.fasta -o hhblits_pfam_{id_dis}_{i}.txt -d /db/hhblits/pfamA_35.0/pfam\""
   ],
   "metadata": {
    "collapsed": false,
    "ExecuteTime": {
     "end_time": "2023-08-04T10:11:37.640748Z",
     "start_time": "2023-08-04T10:11:36.486391Z"
    }
   }
  },
  {
   "cell_type": "code",
   "execution_count": 149,
   "outputs": [
    {
     "name": "stdout",
     "output_type": "stream",
     "text": [
      "ssh: Could not resolve hostname {server}: nodename nor servname provided, or not known\r\n",
      "scp: Connection closed\r\n"
     ]
    }
   ],
   "source": [
    "# Copy results to the local folder\n",
    "!scp {name}@{server}:~/hhblits_pfam_{id_dis}_{i}.txt {local_path}/results/hmms/hhblits/"
   ],
   "metadata": {
    "collapsed": false,
    "ExecuteTime": {
     "end_time": "2023-08-04T10:07:05.235461Z",
     "start_time": "2023-08-04T10:07:05.029560Z"
    }
   }
  },
  {
   "cell_type": "code",
   "execution_count": 1516,
   "outputs": [],
   "source": [
    "# Remove the file from the remote folder\n",
    "!ssh {name}@{server} \"rm ~/{id_dis}_{i}.fasta\"\n",
    "!ssh {name}@{server} \"rm ~/hhblits_pfam_{id_dis}_{i}.txt\""
   ],
   "metadata": {
    "collapsed": false,
    "ExecuteTime": {
     "end_time": "2023-08-02T13:03:00.604571Z",
     "start_time": "2023-08-02T13:02:59.110085Z"
    }
   }
  },
  {
   "cell_type": "code",
   "execution_count": 1517,
   "outputs": [
    {
     "data": {
      "text/plain": "       Hit     Prob E-value P-value Score     SS   Cols Query HMM  \\\n0  PF15018       48  0.0098    15.0   0.0      9  78-86     26-34   \n1  PF05002      2.8      75   0.016  15.9    0.0     10     84-93   \n2  PF11947       86   0.017    18.0   0.0     10  78-87   105-114   \n3  PF18535  1.2E+02   0.022    16.4   0.0     18  56-73     20-37   \n4  PF07896  1.1E+02   0.023    14.0   0.0     12  82-93     32-43   \n5  PF11432  1.3E+02   0.025    17.0   0.0     12  85-96     17-28   \n6  PF06377    0.028    13.7     0.0     8  86-93   3-10      (53)   \n7  PF16643  1.4E+02   0.031    16.8   0.0     14  82-95     82-95   \n8  PF06680  2.3E+02   0.038    16.2   0.0     17  31-47     19-35   \n9  PF13486  1.6E+02   0.039    16.4   0.0     15  82-96     12-26   \n\n  Template HMM            Name  \n0         (35)      InaF-motif  \n1   51-60 (79)             SGS  \n2        (139)         DUF3464  \n3         (84)      Gal11_ABD1  \n4         (50)         DUF1674  \n5        (112)         DUF3197  \n6               Adipokin_hormo  \n7        (168)       cNMPbd_u2  \n8        (120)         DUF1181  \n9        (313)    Dehalogenase  ",
      "text/html": "<div>\n<style scoped>\n    .dataframe tbody tr th:only-of-type {\n        vertical-align: middle;\n    }\n\n    .dataframe tbody tr th {\n        vertical-align: top;\n    }\n\n    .dataframe thead th {\n        text-align: right;\n    }\n</style>\n<table border=\"1\" class=\"dataframe\">\n  <thead>\n    <tr style=\"text-align: right;\">\n      <th></th>\n      <th>Hit</th>\n      <th>Prob</th>\n      <th>E-value</th>\n      <th>P-value</th>\n      <th>Score</th>\n      <th>SS</th>\n      <th>Cols</th>\n      <th>Query HMM</th>\n      <th>Template HMM</th>\n      <th>Name</th>\n    </tr>\n  </thead>\n  <tbody>\n    <tr>\n      <th>0</th>\n      <td>PF15018</td>\n      <td>48</td>\n      <td>0.0098</td>\n      <td>15.0</td>\n      <td>0.0</td>\n      <td>9</td>\n      <td>78-86</td>\n      <td>26-34</td>\n      <td>(35)</td>\n      <td>InaF-motif</td>\n    </tr>\n    <tr>\n      <th>1</th>\n      <td>PF05002</td>\n      <td>2.8</td>\n      <td>75</td>\n      <td>0.016</td>\n      <td>15.9</td>\n      <td>0.0</td>\n      <td>10</td>\n      <td>84-93</td>\n      <td>51-60 (79)</td>\n      <td>SGS</td>\n    </tr>\n    <tr>\n      <th>2</th>\n      <td>PF11947</td>\n      <td>86</td>\n      <td>0.017</td>\n      <td>18.0</td>\n      <td>0.0</td>\n      <td>10</td>\n      <td>78-87</td>\n      <td>105-114</td>\n      <td>(139)</td>\n      <td>DUF3464</td>\n    </tr>\n    <tr>\n      <th>3</th>\n      <td>PF18535</td>\n      <td>1.2E+02</td>\n      <td>0.022</td>\n      <td>16.4</td>\n      <td>0.0</td>\n      <td>18</td>\n      <td>56-73</td>\n      <td>20-37</td>\n      <td>(84)</td>\n      <td>Gal11_ABD1</td>\n    </tr>\n    <tr>\n      <th>4</th>\n      <td>PF07896</td>\n      <td>1.1E+02</td>\n      <td>0.023</td>\n      <td>14.0</td>\n      <td>0.0</td>\n      <td>12</td>\n      <td>82-93</td>\n      <td>32-43</td>\n      <td>(50)</td>\n      <td>DUF1674</td>\n    </tr>\n    <tr>\n      <th>5</th>\n      <td>PF11432</td>\n      <td>1.3E+02</td>\n      <td>0.025</td>\n      <td>17.0</td>\n      <td>0.0</td>\n      <td>12</td>\n      <td>85-96</td>\n      <td>17-28</td>\n      <td>(112)</td>\n      <td>DUF3197</td>\n    </tr>\n    <tr>\n      <th>6</th>\n      <td>PF06377</td>\n      <td>0.028</td>\n      <td>13.7</td>\n      <td>0.0</td>\n      <td>8</td>\n      <td>86-93</td>\n      <td>3-10</td>\n      <td>(53)</td>\n      <td></td>\n      <td>Adipokin_hormo</td>\n    </tr>\n    <tr>\n      <th>7</th>\n      <td>PF16643</td>\n      <td>1.4E+02</td>\n      <td>0.031</td>\n      <td>16.8</td>\n      <td>0.0</td>\n      <td>14</td>\n      <td>82-95</td>\n      <td>82-95</td>\n      <td>(168)</td>\n      <td>cNMPbd_u2</td>\n    </tr>\n    <tr>\n      <th>8</th>\n      <td>PF06680</td>\n      <td>2.3E+02</td>\n      <td>0.038</td>\n      <td>16.2</td>\n      <td>0.0</td>\n      <td>17</td>\n      <td>31-47</td>\n      <td>19-35</td>\n      <td>(120)</td>\n      <td>DUF1181</td>\n    </tr>\n    <tr>\n      <th>9</th>\n      <td>PF13486</td>\n      <td>1.6E+02</td>\n      <td>0.039</td>\n      <td>16.4</td>\n      <td>0.0</td>\n      <td>15</td>\n      <td>82-96</td>\n      <td>12-26</td>\n      <td>(313)</td>\n      <td>Dehalogenase</td>\n    </tr>\n  </tbody>\n</table>\n</div>"
     },
     "execution_count": 1517,
     "metadata": {},
     "output_type": "execute_result"
    }
   ],
   "source": [
    "with open(f'{directory}/results/hmms/hhblits/hhblits_pfam_{id_dis}_{i}.txt', 'r') as file:\n",
    "    lines = file.readlines()\n",
    "\n",
    "# Extract the column names\n",
    "column_names = lines[8].split()[:-4] + ['Query HMM', 'Template HMM']\n",
    "\n",
    "# Extract the data rows\n",
    "data_rows = [line.split() for line in lines[9:19]]\n",
    "data_rows = [[row[0]] + [' '.join(row[1:4])] + row[7:14] + [' '.join(row[14:16])]\n",
    "             for row in data_rows]\n",
    "\n",
    "hhblits_stats = pd.DataFrame(data_rows, columns=column_names)\n",
    "hhblits_stats[[\"Hit\", \"Name\"]] = hhblits_stats[\"Hit\"].str.split(\" ; \", expand=True)\n",
    "hit_split_df = hhblits_stats[\"Hit\"].str.split(\".\", expand=True)\n",
    "hhblits_stats[\"Hit\"] = hit_split_df[0]\n",
    "\n",
    "hhblits_stats = hhblits_stats.drop(\"No\", axis=1).reset_index(drop=True)\n",
    "hhblits_stats.to_csv(f'{directory}/results/hmms/hhblits/hhblits_pfam_{id_dis}_{i}.csv', index=False)\n",
    "hhblits_stats"
   ],
   "metadata": {
    "collapsed": false,
    "ExecuteTime": {
     "end_time": "2023-08-02T13:03:00.639268Z",
     "start_time": "2023-08-02T13:03:00.613853Z"
    }
   }
  },
  {
   "cell_type": "code",
   "execution_count": 1518,
   "outputs": [
    {
     "name": "stdout",
     "output_type": "stream",
     "text": [
      "hhblits_pfam_Q9H832_1.csv                     100%  660   463.4KB/s   00:00    \r\n"
     ]
    }
   ],
   "source": [
    "# Copy again the new files to the remote computer\n",
    "!scp {directory}/results/hmms/hhblits/hhblits_pfam_{id_dis}_{i}.csv {name}@{server}:~/hhblits_pfam_{id_dis}_{i}.csv"
   ],
   "metadata": {
    "collapsed": false,
    "ExecuteTime": {
     "end_time": "2023-08-02T13:03:01.373902Z",
     "start_time": "2023-08-02T13:03:00.640821Z"
    }
   }
  },
  {
   "cell_type": "code",
   "execution_count": 1519,
   "outputs": [],
   "source": [
    "# !ssh {name}@{server} \"/home/alina/hhblits_iterator.py hhblits_pfam_{id_dis}_{i}.csv /db/interpro/protein2ipr.dat.gz pfam_uniprot_{id_dis}_{i}.txt\""
   ],
   "metadata": {
    "collapsed": false,
    "ExecuteTime": {
     "end_time": "2023-08-02T13:03:03.003256Z",
     "start_time": "2023-08-02T13:03:02.991225Z"
    }
   }
  },
  {
   "cell_type": "code",
   "execution_count": null,
   "outputs": [],
   "source": [],
   "metadata": {
    "collapsed": false
   }
  }
 ],
 "metadata": {
  "kernelspec": {
   "display_name": "Python 3",
   "language": "python",
   "name": "python3"
  },
  "language_info": {
   "codemirror_mode": {
    "name": "ipython",
    "version": 2
   },
   "file_extension": ".py",
   "mimetype": "text/x-python",
   "name": "python",
   "nbconvert_exporter": "python",
   "pygments_lexer": "ipython2",
   "version": "2.7.6"
  }
 },
 "nbformat": 4,
 "nbformat_minor": 0
}
