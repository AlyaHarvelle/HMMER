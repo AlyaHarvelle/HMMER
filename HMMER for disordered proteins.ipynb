{
 "cells": [
  {
   "cell_type": "code",
   "execution_count": 1,
   "id": "fb7961c6",
   "metadata": {},
   "outputs": [],
   "source": [
    "import pandas as pd\n",
    "import numpy as np\n",
    "import json"
   ]
  },
  {
   "cell_type": "markdown",
   "id": "48d5f7bd",
   "metadata": {},
   "source": [
    "## 1. Exploratory Data Analysis\n",
    "\n",
    "### 1.1 Dataframe preparation\n",
    "\n",
    "At this step we preprocess the two .mjson files (*homology* and *homology_consensus*) obtained from the MobiDB - a database of protein disorder and mobility annotations. \n",
    "\n",
    "First, we define a function *parse_lines*, which we then apply to the files to generate pandas dataframes."
   ]
  },
  {
   "cell_type": "code",
   "execution_count": 2,
   "id": "94ee5c58",
   "metadata": {},
   "outputs": [],
   "source": [
    "# Create a function parsing rows in the homology files\n",
    "\n",
    "def parse_lines(line):\n",
    "    # Add list to be returned\n",
    "    rows = list()\n",
    "    # Loop through each item in line\n",
    "    for key, value in line.items():\n",
    "        if key == 'acc':\n",
    "            acc = value\n",
    "        else:\n",
    "            evidence, feature, source = key.split('-')\n",
    "            for k, v in value.items():\n",
    "                if k == 'regions':\n",
    "                    for item in range(len(v)):\n",
    "                        reg = v[item]\n",
    "                        start, end = reg[0], reg[1]\n",
    "                        rows.append({\n",
    "                            'acc': acc, \n",
    "                            'evidence': evidence, \n",
    "                            'feature': feature,\n",
    "                            'source': source, \n",
    "                            'start': start, \n",
    "                            'end': end\n",
    "                        })\n",
    "\n",
    "    # Return parsed rows\n",
    "    return rows"
   ]
  },
  {
   "cell_type": "code",
   "execution_count": 3,
   "id": "144b2067",
   "metadata": {},
   "outputs": [],
   "source": [
    "# Open the .mjson files using the function created above\n",
    "\n",
    "# Initialize rows in dataframe\n",
    "data = list()\n",
    "# Open file homology.mjson or homology_consensus.mjson\n",
    "with open('homology.mjson', 'r') as file:\n",
    "  # Loop through each line in file\n",
    "  for line in file:\n",
    "    # Cast line (JSON) to object\n",
    "    obj = json.loads(line)\n",
    "    rows = parse_lines(obj)\n",
    "    data.extend(rows)"
   ]
  },
  {
   "cell_type": "code",
   "execution_count": 4,
   "id": "b12779a3",
   "metadata": {},
   "outputs": [
    {
     "data": {
      "text/html": [
       "<div>\n",
       "<style scoped>\n",
       "    .dataframe tbody tr th:only-of-type {\n",
       "        vertical-align: middle;\n",
       "    }\n",
       "\n",
       "    .dataframe tbody tr th {\n",
       "        vertical-align: top;\n",
       "    }\n",
       "\n",
       "    .dataframe thead th {\n",
       "        text-align: right;\n",
       "    }\n",
       "</style>\n",
       "<table border=\"1\" class=\"dataframe\">\n",
       "  <thead>\n",
       "    <tr style=\"text-align: right;\">\n",
       "      <th></th>\n",
       "      <th>acc</th>\n",
       "      <th>evidence</th>\n",
       "      <th>feature</th>\n",
       "      <th>source</th>\n",
       "      <th>start</th>\n",
       "      <th>end</th>\n",
       "    </tr>\n",
       "  </thead>\n",
       "  <tbody>\n",
       "    <tr>\n",
       "      <th>0</th>\n",
       "      <td>A0A009HC73</td>\n",
       "      <td>homology</td>\n",
       "      <td>conformational_diversity</td>\n",
       "      <td>codnas</td>\n",
       "      <td>1</td>\n",
       "      <td>308</td>\n",
       "    </tr>\n",
       "    <tr>\n",
       "      <th>1</th>\n",
       "      <td>A0A009I561</td>\n",
       "      <td>homology</td>\n",
       "      <td>conformational_diversity</td>\n",
       "      <td>codnas</td>\n",
       "      <td>1</td>\n",
       "      <td>308</td>\n",
       "    </tr>\n",
       "    <tr>\n",
       "      <th>2</th>\n",
       "      <td>A0A009IUT7</td>\n",
       "      <td>homology</td>\n",
       "      <td>conformational_diversity</td>\n",
       "      <td>codnas</td>\n",
       "      <td>1</td>\n",
       "      <td>308</td>\n",
       "    </tr>\n",
       "    <tr>\n",
       "      <th>3</th>\n",
       "      <td>A0A009KQW8</td>\n",
       "      <td>homology</td>\n",
       "      <td>conformational_diversity</td>\n",
       "      <td>codnas</td>\n",
       "      <td>1</td>\n",
       "      <td>304</td>\n",
       "    </tr>\n",
       "    <tr>\n",
       "      <th>4</th>\n",
       "      <td>A0A009MPB7</td>\n",
       "      <td>homology</td>\n",
       "      <td>conformational_diversity</td>\n",
       "      <td>codnas</td>\n",
       "      <td>1</td>\n",
       "      <td>308</td>\n",
       "    </tr>\n",
       "  </tbody>\n",
       "</table>\n",
       "</div>"
      ],
      "text/plain": [
       "          acc  evidence                   feature  source  start  end\n",
       "0  A0A009HC73  homology  conformational_diversity  codnas      1  308\n",
       "1  A0A009I561  homology  conformational_diversity  codnas      1  308\n",
       "2  A0A009IUT7  homology  conformational_diversity  codnas      1  308\n",
       "3  A0A009KQW8  homology  conformational_diversity  codnas      1  304\n",
       "4  A0A009MPB7  homology  conformational_diversity  codnas      1  308"
      ]
     },
     "execution_count": 4,
     "metadata": {},
     "output_type": "execute_result"
    }
   ],
   "source": [
    "# Convert the list to DataFrame\n",
    "\n",
    "df = pd.DataFrame(data)\n",
    "df.head()"
   ]
  },
  {
   "cell_type": "code",
   "execution_count": 5,
   "id": "efd98118",
   "metadata": {},
   "outputs": [
    {
     "data": {
      "text/html": [
       "<div>\n",
       "<style scoped>\n",
       "    .dataframe tbody tr th:only-of-type {\n",
       "        vertical-align: middle;\n",
       "    }\n",
       "\n",
       "    .dataframe tbody tr th {\n",
       "        vertical-align: top;\n",
       "    }\n",
       "\n",
       "    .dataframe thead th {\n",
       "        text-align: right;\n",
       "    }\n",
       "</style>\n",
       "<table border=\"1\" class=\"dataframe\">\n",
       "  <thead>\n",
       "    <tr style=\"text-align: right;\">\n",
       "      <th></th>\n",
       "      <th>acc</th>\n",
       "      <th>evidence</th>\n",
       "      <th>feature</th>\n",
       "      <th>source</th>\n",
       "      <th>start</th>\n",
       "      <th>end</th>\n",
       "      <th>length</th>\n",
       "    </tr>\n",
       "  </thead>\n",
       "  <tbody>\n",
       "    <tr>\n",
       "      <th>0</th>\n",
       "      <td>A0A009HC73</td>\n",
       "      <td>homology</td>\n",
       "      <td>conformational_diversity</td>\n",
       "      <td>codnas</td>\n",
       "      <td>1</td>\n",
       "      <td>308</td>\n",
       "      <td>308</td>\n",
       "    </tr>\n",
       "    <tr>\n",
       "      <th>1</th>\n",
       "      <td>A0A009I561</td>\n",
       "      <td>homology</td>\n",
       "      <td>conformational_diversity</td>\n",
       "      <td>codnas</td>\n",
       "      <td>1</td>\n",
       "      <td>308</td>\n",
       "      <td>308</td>\n",
       "    </tr>\n",
       "    <tr>\n",
       "      <th>2</th>\n",
       "      <td>A0A009IUT7</td>\n",
       "      <td>homology</td>\n",
       "      <td>conformational_diversity</td>\n",
       "      <td>codnas</td>\n",
       "      <td>1</td>\n",
       "      <td>308</td>\n",
       "      <td>308</td>\n",
       "    </tr>\n",
       "    <tr>\n",
       "      <th>3</th>\n",
       "      <td>A0A009KQW8</td>\n",
       "      <td>homology</td>\n",
       "      <td>conformational_diversity</td>\n",
       "      <td>codnas</td>\n",
       "      <td>1</td>\n",
       "      <td>304</td>\n",
       "      <td>304</td>\n",
       "    </tr>\n",
       "    <tr>\n",
       "      <th>4</th>\n",
       "      <td>A0A009MPB7</td>\n",
       "      <td>homology</td>\n",
       "      <td>conformational_diversity</td>\n",
       "      <td>codnas</td>\n",
       "      <td>1</td>\n",
       "      <td>308</td>\n",
       "      <td>308</td>\n",
       "    </tr>\n",
       "  </tbody>\n",
       "</table>\n",
       "</div>"
      ],
      "text/plain": [
       "          acc  evidence                   feature  source  start  end  length\n",
       "0  A0A009HC73  homology  conformational_diversity  codnas      1  308     308\n",
       "1  A0A009I561  homology  conformational_diversity  codnas      1  308     308\n",
       "2  A0A009IUT7  homology  conformational_diversity  codnas      1  308     308\n",
       "3  A0A009KQW8  homology  conformational_diversity  codnas      1  304     304\n",
       "4  A0A009MPB7  homology  conformational_diversity  codnas      1  308     308"
      ]
     },
     "execution_count": 5,
     "metadata": {},
     "output_type": "execute_result"
    }
   ],
   "source": [
    "# Add the length column\n",
    "\n",
    "df['length'] = df['end'] - df['start'] + 1\n",
    "df.head()"
   ]
  },
  {
   "cell_type": "code",
   "execution_count": 21,
   "id": "3b03270a",
   "metadata": {},
   "outputs": [
    {
     "data": {
      "text/plain": [
       "array(['A0A009HC73', 'A0A009I561', 'A0A009IUT7', ..., 'Z4YKX0', 'Z4YNI2',\n",
       "       'Z4YNM2'], dtype=object)"
      ]
     },
     "execution_count": 21,
     "metadata": {},
     "output_type": "execute_result"
    }
   ],
   "source": [
    "df.acc.unique()"
   ]
  },
  {
   "cell_type": "markdown",
   "id": "30440c4b",
   "metadata": {},
   "source": [
    "### 1.2 Data description\n",
    "\n",
    "We proceed with the exploratory data analysis, using seaborn plots and build-in pandas methods."
   ]
  },
  {
   "cell_type": "code",
   "execution_count": 12,
   "id": "b1e45b45",
   "metadata": {},
   "outputs": [],
   "source": [
    "import seaborn as sns\n",
    "import matplotlib.pyplot as plt"
   ]
  },
  {
   "cell_type": "code",
   "execution_count": 13,
   "id": "2f93103c",
   "metadata": {},
   "outputs": [
    {
     "name": "stdout",
     "output_type": "stream",
     "text": [
      "<class 'pandas.core.frame.DataFrame'>\n",
      "RangeIndex: 1031055 entries, 0 to 1031054\n",
      "Data columns (total 7 columns):\n",
      " #   Column    Non-Null Count    Dtype \n",
      "---  ------    --------------    ----- \n",
      " 0   acc       1031055 non-null  object\n",
      " 1   evidence  1031055 non-null  object\n",
      " 2   feature   1031055 non-null  object\n",
      " 3   source    1031055 non-null  object\n",
      " 4   start     1031055 non-null  int64 \n",
      " 5   end       1031055 non-null  int64 \n",
      " 6   length    1031055 non-null  int64 \n",
      "dtypes: int64(3), object(4)\n",
      "memory usage: 55.1+ MB\n"
     ]
    }
   ],
   "source": [
    "# Look at the information about the dataframe\n",
    "\n",
    "df.info()"
   ]
  },
  {
   "cell_type": "markdown",
   "id": "da25aaed",
   "metadata": {},
   "source": [
    "Below is the description of the variables:\n",
    "\n",
    "1. **acc**: The UniProt accession code. Combination of letters from A to Z and digits.\n",
    "2. **evidence**: The type of annotation. Only sequence-based homology inference is presented in each one of the databases.\n",
    "3. **feature**: The classes of proteins. Here we will focus on one of them: *disorder*.\n",
    "4. **source**: Database from which the information was retrieved.\n",
    "5. **start**: Start position of the residue in the sequence.\n",
    "6. **end**: End position of the residue in the sequence.\n",
    "\n",
    "The *start* and *end* columns are of integer type, and other 4 columns (*acc*, *evidence*, *feature* and *source*) are objects."
   ]
  },
  {
   "cell_type": "code",
   "execution_count": 14,
   "id": "f2beed2f",
   "metadata": {},
   "outputs": [
    {
     "data": {
      "image/png": "[encoded data removed]",
      "text/plain": [
       "<Figure size 432x288 with 1 Axes>"
      ]
     },
     "metadata": {
      "needs_background": "light"
     },
     "output_type": "display_data"
    }
   ],
   "source": [
    "# Create an evidence barplot\n",
    "\n",
    "sns.countplot(x = df['evidence'], palette='rainbow');"
   ]
  },
  {
   "cell_type": "code",
   "execution_count": 15,
   "id": "0ee94832",
   "metadata": {},
   "outputs": [
    {
     "data": {
      "image/png": "[encoded data removed]",
      "text/plain": [
       "<Figure size 432x288 with 1 Axes>"
      ]
     },
     "metadata": {
      "needs_background": "light"
     },
     "output_type": "display_data"
    }
   ],
   "source": [
    "# Create a feature barplot\n",
    "\n",
    "sns.countplot(x = df['feature'], palette='rainbow')\n",
    "plt.xticks(rotation=90);"
   ]
  },
  {
   "cell_type": "markdown",
   "id": "765f0129",
   "metadata": {},
   "source": [
    "The largest percentage (55.2%) is disordered residues."
   ]
  },
  {
   "cell_type": "code",
   "execution_count": 16,
   "id": "5f1133eb",
   "metadata": {},
   "outputs": [
    {
     "data": {
      "image/png": "[encoded data removed]",
      "text/plain": [
       "<Figure size 432x288 with 1 Axes>"
      ]
     },
     "metadata": {
      "needs_background": "light"
     },
     "output_type": "display_data"
    }
   ],
   "source": [
    "# Create a source barplot (applicable only to 'homology.mjson')\n",
    "\n",
    "sns.countplot(x = df['source'], palette='rainbow')\n",
    "plt.xticks(rotation=90);"
   ]
  },
  {
   "cell_type": "code",
   "execution_count": 17,
   "id": "5633f546",
   "metadata": {},
   "outputs": [
    {
     "data": {
      "text/html": [
       "<div>\n",
       "<style scoped>\n",
       "    .dataframe tbody tr th:only-of-type {\n",
       "        vertical-align: middle;\n",
       "    }\n",
       "\n",
       "    .dataframe tbody tr th {\n",
       "        vertical-align: top;\n",
       "    }\n",
       "\n",
       "    .dataframe thead th {\n",
       "        text-align: right;\n",
       "    }\n",
       "</style>\n",
       "<table border=\"1\" class=\"dataframe\">\n",
       "  <thead>\n",
       "    <tr style=\"text-align: right;\">\n",
       "      <th></th>\n",
       "      <th>acc</th>\n",
       "      <th>evidence</th>\n",
       "      <th>feature</th>\n",
       "      <th>source</th>\n",
       "      <th>start</th>\n",
       "      <th>end</th>\n",
       "      <th>length</th>\n",
       "    </tr>\n",
       "  </thead>\n",
       "  <tbody>\n",
       "    <tr>\n",
       "      <th>10</th>\n",
       "      <td>A0A010QT17</td>\n",
       "      <td>homology</td>\n",
       "      <td>disorder</td>\n",
       "      <td>disprot</td>\n",
       "      <td>117</td>\n",
       "      <td>130</td>\n",
       "      <td>14</td>\n",
       "    </tr>\n",
       "    <tr>\n",
       "      <th>12</th>\n",
       "      <td>A0A010R0B5</td>\n",
       "      <td>homology</td>\n",
       "      <td>disorder</td>\n",
       "      <td>disprot</td>\n",
       "      <td>5</td>\n",
       "      <td>701</td>\n",
       "      <td>697</td>\n",
       "    </tr>\n",
       "    <tr>\n",
       "      <th>15</th>\n",
       "      <td>A0A010RTY3</td>\n",
       "      <td>homology</td>\n",
       "      <td>disorder</td>\n",
       "      <td>disprot</td>\n",
       "      <td>225</td>\n",
       "      <td>235</td>\n",
       "      <td>11</td>\n",
       "    </tr>\n",
       "    <tr>\n",
       "      <th>31</th>\n",
       "      <td>A0A015L8C2</td>\n",
       "      <td>homology</td>\n",
       "      <td>disorder</td>\n",
       "      <td>disprot</td>\n",
       "      <td>320</td>\n",
       "      <td>333</td>\n",
       "      <td>14</td>\n",
       "    </tr>\n",
       "    <tr>\n",
       "      <th>33</th>\n",
       "      <td>A0A015NFB9</td>\n",
       "      <td>homology</td>\n",
       "      <td>disorder</td>\n",
       "      <td>disprot</td>\n",
       "      <td>153</td>\n",
       "      <td>170</td>\n",
       "      <td>18</td>\n",
       "    </tr>\n",
       "  </tbody>\n",
       "</table>\n",
       "</div>"
      ],
      "text/plain": [
       "           acc  evidence   feature   source  start  end  length\n",
       "10  A0A010QT17  homology  disorder  disprot    117  130      14\n",
       "12  A0A010R0B5  homology  disorder  disprot      5  701     697\n",
       "15  A0A010RTY3  homology  disorder  disprot    225  235      11\n",
       "31  A0A015L8C2  homology  disorder  disprot    320  333      14\n",
       "33  A0A015NFB9  homology  disorder  disprot    153  170      18"
      ]
     },
     "execution_count": 17,
     "metadata": {},
     "output_type": "execute_result"
    }
   ],
   "source": [
    "# Create a dataframe with the only disordered regions\n",
    "\n",
    "df_dis = df[df['feature'] == 'disorder']\n",
    "df_dis.head()"
   ]
  },
  {
   "cell_type": "markdown",
   "id": "c1c2e276",
   "metadata": {},
   "source": [
    "We continue with the analysis of the newly created column *length* which is the difference between the end and the start positions. \n",
    "For this we creating a histogram, and due to the fact we have a heavy tail distribution, we apply the log-scale to the plot."
   ]
  },
  {
   "cell_type": "code",
   "execution_count": 18,
   "id": "956b2abd",
   "metadata": {},
   "outputs": [
    {
     "data": {
      "image/png": "[encoded data removed]",
      "text/plain": [
       "<Figure size 432x288 with 1 Axes>"
      ]
     },
     "metadata": {
      "needs_background": "light"
     },
     "output_type": "display_data"
    }
   ],
   "source": [
    "# Create a histogram of the length of disordered regions\n",
    "\n",
    "sns.histplot(data=df_dis, x='length', bins=30, kde=True, log_scale=True, color='skyblue'); "
   ]
  },
  {
   "cell_type": "markdown",
   "id": "a9d377ee",
   "metadata": {},
   "source": [
    "The highest "
   ]
  },
  {
   "cell_type": "code",
   "execution_count": null,
   "id": "c02ba77b",
   "metadata": {},
   "outputs": [],
   "source": []
  }
 ],
 "metadata": {
  "kernelspec": {
   "display_name": "Python 3 (ipykernel)",
   "language": "python",
   "name": "python3"
  },
  "language_info": {
   "codemirror_mode": {
    "name": "ipython",
    "version": 3
   },
   "file_extension": ".py",
   "mimetype": "text/x-python",
   "name": "python",
   "nbconvert_exporter": "python",
   "pygments_lexer": "ipython3",
   "version": "3.9.12"
  }
 },
 "nbformat": 4,
 "nbformat_minor": 5
}
