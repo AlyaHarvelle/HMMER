{
 "cells": [
  {
   "cell_type": "markdown",
   "id": "3da456ba",
   "metadata": {},
   "source": [
    "## Multiple Sequence Alignment\n",
    "\n",
    "The aim of this notebook is to conduct a multiple sequence alignment (henceforth MSA). MSA methods refer to a series of algorithmic solution for the alignment of evolutionarily related sequences, while taking into account evolutionary events such as mutations, insertions, deletions and rearrangements under certain conditions. These methods can be applied to DNA, RNA or protein sequences. (https://academic.oup.com/bib/article/17/6/1009/2606431)\n",
    "We will use the files of XML format (`curated_uniprot.fasta_`) with the information of hsp regions and the amino acid sequences."
   ]
  },
  {
   "cell_type": "code",
   "execution_count": 1,
   "id": "7f293e33",
   "metadata": {
    "ExecuteTime": {
     "end_time": "2023-06-08T08:14:03.540650Z",
     "start_time": "2023-06-08T08:14:03.532704Z"
    }
   },
   "outputs": [],
   "source": [
    "# Importing the libraries\n",
    "import pandas as pd\n",
    "import numpy as np\n",
    "import json\n",
    "import matplotlib.pyplot as plt\n",
    "from matplotlib.pyplot import figure\n",
    "import seaborn as sns\n",
    "from Bio import AlignIO, SeqIO\n",
    "import ipywidgets as widgets\n",
    "from functions import json_parser, blast_parser, get_fasta, stats_calculation, trim_dis_regions, get_seqs"
   ]
  },
  {
   "cell_type": "code",
   "execution_count": 2,
   "id": "19f41db8",
   "metadata": {
    "ExecuteTime": {
     "end_time": "2023-06-08T08:14:05.176956Z",
     "start_time": "2023-06-08T08:14:05.170119Z"
    }
   },
   "outputs": [],
   "source": [
    "directory = \"/Users/alina/HMM/\""
   ]
  },
  {
   "cell_type": "markdown",
   "id": "7d199ca9",
   "metadata": {},
   "source": [
    "### 1. Data Preparation\n",
    "\n",
    "We have defined a function that parses an XML file into a pandas dataframe. This function can be utilized to include any additional columns from the BLAST results."
   ]
  },
  {
   "cell_type": "code",
   "execution_count": 3,
   "id": "f8168ce5",
   "metadata": {
    "ExecuteTime": {
     "end_time": "2023-06-08T08:14:10.656762Z",
     "start_time": "2023-06-08T08:14:09.853723Z"
    }
   },
   "outputs": [
    {
     "data": {
      "text/html": [
       "<div>\n",
       "<style scoped>\n",
       "    .dataframe tbody tr th:only-of-type {\n",
       "        vertical-align: middle;\n",
       "    }\n",
       "\n",
       "    .dataframe tbody tr th {\n",
       "        vertical-align: top;\n",
       "    }\n",
       "\n",
       "    .dataframe thead th {\n",
       "        text-align: right;\n",
       "    }\n",
       "</style>\n",
       "<table border=\"1\" class=\"dataframe\">\n",
       "  <thead>\n",
       "    <tr style=\"text-align: right;\">\n",
       "      <th></th>\n",
       "      <th>query_id</th>\n",
       "      <th>subject_id</th>\n",
       "      <th>query_len</th>\n",
       "      <th>hsp_len</th>\n",
       "      <th>query_seq</th>\n",
       "      <th>match_seq</th>\n",
       "      <th>subject_seq</th>\n",
       "      <th>query_start</th>\n",
       "      <th>query_end</th>\n",
       "      <th>subject_start</th>\n",
       "      <th>subject_end</th>\n",
       "      <th>identity</th>\n",
       "      <th>positive</th>\n",
       "      <th>gaps</th>\n",
       "      <th>eval</th>\n",
       "      <th>bit_score</th>\n",
       "      <th>count</th>\n",
       "    </tr>\n",
       "  </thead>\n",
       "  <tbody>\n",
       "    <tr>\n",
       "      <th>0</th>\n",
       "      <td>Q16620</td>\n",
       "      <td>A0A2R9BM51</td>\n",
       "      <td>822</td>\n",
       "      <td>822</td>\n",
       "      <td>MSSWIRWHGPAMARLWGFCWLVVGFWRAAFACPTSCKCSASRIWCS...</td>\n",
       "      <td>MSSWIRWHGPAMARLWGFCWLVVGFWRAAFACPTSCKCSASRIWCS...</td>\n",
       "      <td>MSSWIRWHGPAMARLWGFCWLVVGFWRAAFACPTSCKCSASRIWCS...</td>\n",
       "      <td>1</td>\n",
       "      <td>822</td>\n",
       "      <td>1</td>\n",
       "      <td>822</td>\n",
       "      <td>822</td>\n",
       "      <td>822</td>\n",
       "      <td>0</td>\n",
       "      <td>0.00000</td>\n",
       "      <td>4458.0</td>\n",
       "      <td>200</td>\n",
       "    </tr>\n",
       "    <tr>\n",
       "      <th>1</th>\n",
       "      <td>Q16620</td>\n",
       "      <td>A0A4X2LP40</td>\n",
       "      <td>822</td>\n",
       "      <td>824</td>\n",
       "      <td>MSSWIRWHGPAMARLWGFCWLVVGFWRAAFACPTSCKCSASRIWCS...</td>\n",
       "      <td>M SW + HGP MARL GFCWLV+ FWR + ACPTSC CS +RIWCS...</td>\n",
       "      <td>MLSWKKCHGPGMARLLGFCWLVLIFWRGSQACPTSCTCSTTRIWCS...</td>\n",
       "      <td>1</td>\n",
       "      <td>822</td>\n",
       "      <td>1</td>\n",
       "      <td>824</td>\n",
       "      <td>689</td>\n",
       "      <td>745</td>\n",
       "      <td>2</td>\n",
       "      <td>0.00000</td>\n",
       "      <td>3749.0</td>\n",
       "      <td>200</td>\n",
       "    </tr>\n",
       "    <tr>\n",
       "      <th>2</th>\n",
       "      <td>Q16620</td>\n",
       "      <td>A0A4X2LDU8</td>\n",
       "      <td>822</td>\n",
       "      <td>822</td>\n",
       "      <td>MSSWIRWHGPAMARLWGFCWLVVGFWRAAFACPTSCKCSASRIWCS...</td>\n",
       "      <td>M SW + HGP MARL GFCWLV+ FWR + ACPTSC CS +RIWCS...</td>\n",
       "      <td>MLSWKKCHGPGMARLLGFCWLVLIFWRGSQACPTSCTCSTTRIWCS...</td>\n",
       "      <td>1</td>\n",
       "      <td>822</td>\n",
       "      <td>1</td>\n",
       "      <td>821</td>\n",
       "      <td>689</td>\n",
       "      <td>745</td>\n",
       "      <td>1</td>\n",
       "      <td>0.00000</td>\n",
       "      <td>3756.0</td>\n",
       "      <td>200</td>\n",
       "    </tr>\n",
       "    <tr>\n",
       "      <th>3</th>\n",
       "      <td>Q16620</td>\n",
       "      <td>A0A6P5IKH1</td>\n",
       "      <td>822</td>\n",
       "      <td>824</td>\n",
       "      <td>MSSWIRWHGPAMARLWGFCWLVVGFWRAAFACPTSCKCSASRIWCS...</td>\n",
       "      <td>M SW + HGP MARL GFCWLV+ FWR + ACPTSC CS +RIWCS...</td>\n",
       "      <td>MLSWKKCHGPGMARLLGFCWLVLIFWRGSQACPTSCTCSTTRIWCS...</td>\n",
       "      <td>1</td>\n",
       "      <td>822</td>\n",
       "      <td>1</td>\n",
       "      <td>824</td>\n",
       "      <td>691</td>\n",
       "      <td>745</td>\n",
       "      <td>2</td>\n",
       "      <td>0.00000</td>\n",
       "      <td>3764.0</td>\n",
       "      <td>200</td>\n",
       "    </tr>\n",
       "    <tr>\n",
       "      <th>4</th>\n",
       "      <td>Q16620</td>\n",
       "      <td>A0A7J7UQA2</td>\n",
       "      <td>822</td>\n",
       "      <td>741</td>\n",
       "      <td>TSCKCSASRIWCSDPSPGIVAFPRLEPNSVDPENITEIFIANQKRL...</td>\n",
       "      <td>+SCKCSASRIWCSDP PGI+AFPRLEPN++DPENITEI+IANQKRL...</td>\n",
       "      <td>SSCKCSASRIWCSDPIPGIMAFPRLEPNTIDPENITEIYIANQKRL...</td>\n",
       "      <td>34</td>\n",
       "      <td>774</td>\n",
       "      <td>2</td>\n",
       "      <td>739</td>\n",
       "      <td>710</td>\n",
       "      <td>724</td>\n",
       "      <td>3</td>\n",
       "      <td>0.00000</td>\n",
       "      <td>3776.0</td>\n",
       "      <td>200</td>\n",
       "    </tr>\n",
       "    <tr>\n",
       "      <th>...</th>\n",
       "      <td>...</td>\n",
       "      <td>...</td>\n",
       "      <td>...</td>\n",
       "      <td>...</td>\n",
       "      <td>...</td>\n",
       "      <td>...</td>\n",
       "      <td>...</td>\n",
       "      <td>...</td>\n",
       "      <td>...</td>\n",
       "      <td>...</td>\n",
       "      <td>...</td>\n",
       "      <td>...</td>\n",
       "      <td>...</td>\n",
       "      <td>...</td>\n",
       "      <td>...</td>\n",
       "      <td>...</td>\n",
       "      <td>...</td>\n",
       "    </tr>\n",
       "    <tr>\n",
       "      <th>8651</th>\n",
       "      <td>Q3E829</td>\n",
       "      <td>A0A8C4A1I8</td>\n",
       "      <td>80</td>\n",
       "      <td>79</td>\n",
       "      <td>LSKEALIKILSQNEGGNDMKIADEVVPMIQKYLDIFIDEAVLRSLQ...</td>\n",
       "      <td>KE + K+L+     N  K + + V ++ + L +F++EA  R+L+...</td>\n",
       "      <td>FKKETVSKLLTNFFKENKTKTSGDAVTLMTEMLKVFVEEAARRALE...</td>\n",
       "      <td>2</td>\n",
       "      <td>80</td>\n",
       "      <td>10</td>\n",
       "      <td>81</td>\n",
       "      <td>22</td>\n",
       "      <td>41</td>\n",
       "      <td>7</td>\n",
       "      <td>9.08399</td>\n",
       "      <td>76.0</td>\n",
       "      <td>169</td>\n",
       "    </tr>\n",
       "    <tr>\n",
       "      <th>8652</th>\n",
       "      <td>Q3E829</td>\n",
       "      <td>A0A2I0RLM6</td>\n",
       "      <td>80</td>\n",
       "      <td>76</td>\n",
       "      <td>LIKILSQNEGGNDMKIADEVVPMIQKYLDIFIDEAVLRSLQSHKDI...</td>\n",
       "      <td>L+++L       D KI  + + ++Q YL++F+ E + R     K+ ...</td>\n",
       "      <td>LLRLLHSGFAHQDTKIDTQALQIVQTYLEVFVRETIARCAAEKKEA...</td>\n",
       "      <td>7</td>\n",
       "      <td>77</td>\n",
       "      <td>170</td>\n",
       "      <td>243</td>\n",
       "      <td>24</td>\n",
       "      <td>41</td>\n",
       "      <td>7</td>\n",
       "      <td>9.35533</td>\n",
       "      <td>79.0</td>\n",
       "      <td>169</td>\n",
       "    </tr>\n",
       "    <tr>\n",
       "      <th>8653</th>\n",
       "      <td>Q3E829</td>\n",
       "      <td>A0A2S4PPX6</td>\n",
       "      <td>80</td>\n",
       "      <td>61</td>\n",
       "      <td>MKIADEVVPMIQKYLDIFIDEAVLRSLQSHKDINGERGDKSPLELS...</td>\n",
       "      <td>+++  + V  + KYLD F+ EAV R+  + +D+  ERG    LE+ ...</td>\n",
       "      <td>IRMTKQAVDAVGKYLDTFVKEAVARA--ACEDL--ERGGSGVLEV-...</td>\n",
       "      <td>20</td>\n",
       "      <td>80</td>\n",
       "      <td>254</td>\n",
       "      <td>308</td>\n",
       "      <td>22</td>\n",
       "      <td>37</td>\n",
       "      <td>6</td>\n",
       "      <td>9.47368</td>\n",
       "      <td>79.0</td>\n",
       "      <td>169</td>\n",
       "    </tr>\n",
       "    <tr>\n",
       "      <th>8654</th>\n",
       "      <td>Q3E829</td>\n",
       "      <td>A0A1W5D685</td>\n",
       "      <td>80</td>\n",
       "      <td>74</td>\n",
       "      <td>LIKILSQNEGGNDMKIADEVVPMIQKYLDIFIDEAVLRSLQSHKDI...</td>\n",
       "      <td>L K+L  +  G D +I  +   +++KY++ F+ EA+ R+     + ...</td>\n",
       "      <td>LTKLLHHHFSGPDTRIEKDANRVVEKYMETFVREALARAAFERAEA...</td>\n",
       "      <td>7</td>\n",
       "      <td>80</td>\n",
       "      <td>88</td>\n",
       "      <td>161</td>\n",
       "      <td>21</td>\n",
       "      <td>41</td>\n",
       "      <td>0</td>\n",
       "      <td>9.59905</td>\n",
       "      <td>79.0</td>\n",
       "      <td>169</td>\n",
       "    </tr>\n",
       "    <tr>\n",
       "      <th>8655</th>\n",
       "      <td>Q3E829</td>\n",
       "      <td>A0A3M6W5R0</td>\n",
       "      <td>80</td>\n",
       "      <td>78</td>\n",
       "      <td>KEALIKILSQNEGGNDMKIADEVVPMIQKYLDIFIDEAVLRSLQSH...</td>\n",
       "      <td>+  L+++L +N      +I    + ++ KY+++FI EA+ R+  S ...</td>\n",
       "      <td>RNLLVRLLHENLRDKKTQIDKNAIQVLDKYIEVFIREAIARTSLSK...</td>\n",
       "      <td>4</td>\n",
       "      <td>79</td>\n",
       "      <td>175</td>\n",
       "      <td>252</td>\n",
       "      <td>21</td>\n",
       "      <td>42</td>\n",
       "      <td>2</td>\n",
       "      <td>9.88222</td>\n",
       "      <td>79.0</td>\n",
       "      <td>169</td>\n",
       "    </tr>\n",
       "  </tbody>\n",
       "</table>\n",
       "<p>8656 rows × 17 columns</p>\n",
       "</div>"
      ],
      "text/plain": [
       "     query_id  subject_id  query_len  hsp_len  \\\n",
       "0      Q16620  A0A2R9BM51        822      822   \n",
       "1      Q16620  A0A4X2LP40        822      824   \n",
       "2      Q16620  A0A4X2LDU8        822      822   \n",
       "3      Q16620  A0A6P5IKH1        822      824   \n",
       "4      Q16620  A0A7J7UQA2        822      741   \n",
       "...       ...         ...        ...      ...   \n",
       "8651   Q3E829  A0A8C4A1I8         80       79   \n",
       "8652   Q3E829  A0A2I0RLM6         80       76   \n",
       "8653   Q3E829  A0A2S4PPX6         80       61   \n",
       "8654   Q3E829  A0A1W5D685         80       74   \n",
       "8655   Q3E829  A0A3M6W5R0         80       78   \n",
       "\n",
       "                                              query_seq  \\\n",
       "0     MSSWIRWHGPAMARLWGFCWLVVGFWRAAFACPTSCKCSASRIWCS...   \n",
       "1     MSSWIRWHGPAMARLWGFCWLVVGFWRAAFACPTSCKCSASRIWCS...   \n",
       "2     MSSWIRWHGPAMARLWGFCWLVVGFWRAAFACPTSCKCSASRIWCS...   \n",
       "3     MSSWIRWHGPAMARLWGFCWLVVGFWRAAFACPTSCKCSASRIWCS...   \n",
       "4     TSCKCSASRIWCSDPSPGIVAFPRLEPNSVDPENITEIFIANQKRL...   \n",
       "...                                                 ...   \n",
       "8651  LSKEALIKILSQNEGGNDMKIADEVVPMIQKYLDIFIDEAVLRSLQ...   \n",
       "8652  LIKILSQNEGGNDMKIADEVVPMIQKYLDIFIDEAVLRSLQSHKDI...   \n",
       "8653  MKIADEVVPMIQKYLDIFIDEAVLRSLQSHKDINGERGDKSPLELS...   \n",
       "8654  LIKILSQNEGGNDMKIADEVVPMIQKYLDIFIDEAVLRSLQSHKDI...   \n",
       "8655  KEALIKILSQNEGGNDMKIADEVVPMIQKYLDIFIDEAVLRSLQSH...   \n",
       "\n",
       "                                              match_seq  \\\n",
       "0     MSSWIRWHGPAMARLWGFCWLVVGFWRAAFACPTSCKCSASRIWCS...   \n",
       "1     M SW + HGP MARL GFCWLV+ FWR + ACPTSC CS +RIWCS...   \n",
       "2     M SW + HGP MARL GFCWLV+ FWR + ACPTSC CS +RIWCS...   \n",
       "3     M SW + HGP MARL GFCWLV+ FWR + ACPTSC CS +RIWCS...   \n",
       "4     +SCKCSASRIWCSDP PGI+AFPRLEPN++DPENITEI+IANQKRL...   \n",
       "...                                                 ...   \n",
       "8651    KE + K+L+     N  K + + V ++ + L +F++EA  R+L+...   \n",
       "8652  L+++L       D KI  + + ++Q YL++F+ E + R     K+ ...   \n",
       "8653  +++  + V  + KYLD F+ EAV R+  + +D+  ERG    LE+ ...   \n",
       "8654  L K+L  +  G D +I  +   +++KY++ F+ EA+ R+     + ...   \n",
       "8655  +  L+++L +N      +I    + ++ KY+++FI EA+ R+  S ...   \n",
       "\n",
       "                                            subject_seq  query_start  \\\n",
       "0     MSSWIRWHGPAMARLWGFCWLVVGFWRAAFACPTSCKCSASRIWCS...            1   \n",
       "1     MLSWKKCHGPGMARLLGFCWLVLIFWRGSQACPTSCTCSTTRIWCS...            1   \n",
       "2     MLSWKKCHGPGMARLLGFCWLVLIFWRGSQACPTSCTCSTTRIWCS...            1   \n",
       "3     MLSWKKCHGPGMARLLGFCWLVLIFWRGSQACPTSCTCSTTRIWCS...            1   \n",
       "4     SSCKCSASRIWCSDPIPGIMAFPRLEPNTIDPENITEIYIANQKRL...           34   \n",
       "...                                                 ...          ...   \n",
       "8651  FKKETVSKLLTNFFKENKTKTSGDAVTLMTEMLKVFVEEAARRALE...            2   \n",
       "8652  LLRLLHSGFAHQDTKIDTQALQIVQTYLEVFVRETIARCAAEKKEA...            7   \n",
       "8653  IRMTKQAVDAVGKYLDTFVKEAVARA--ACEDL--ERGGSGVLEV-...           20   \n",
       "8654  LTKLLHHHFSGPDTRIEKDANRVVEKYMETFVREALARAAFERAEA...            7   \n",
       "8655  RNLLVRLLHENLRDKKTQIDKNAIQVLDKYIEVFIREAIARTSLSK...            4   \n",
       "\n",
       "      query_end  subject_start  subject_end  identity  positive  gaps  \\\n",
       "0           822              1          822       822       822     0   \n",
       "1           822              1          824       689       745     2   \n",
       "2           822              1          821       689       745     1   \n",
       "3           822              1          824       691       745     2   \n",
       "4           774              2          739       710       724     3   \n",
       "...         ...            ...          ...       ...       ...   ...   \n",
       "8651         80             10           81        22        41     7   \n",
       "8652         77            170          243        24        41     7   \n",
       "8653         80            254          308        22        37     6   \n",
       "8654         80             88          161        21        41     0   \n",
       "8655         79            175          252        21        42     2   \n",
       "\n",
       "         eval  bit_score  count  \n",
       "0     0.00000     4458.0    200  \n",
       "1     0.00000     3749.0    200  \n",
       "2     0.00000     3756.0    200  \n",
       "3     0.00000     3764.0    200  \n",
       "4     0.00000     3776.0    200  \n",
       "...       ...        ...    ...  \n",
       "8651  9.08399       76.0    169  \n",
       "8652  9.35533       79.0    169  \n",
       "8653  9.47368       79.0    169  \n",
       "8654  9.59905       79.0    169  \n",
       "8655  9.88222       79.0    169  \n",
       "\n",
       "[8656 rows x 17 columns]"
      ]
     },
     "execution_count": 3,
     "metadata": {},
     "output_type": "execute_result"
    }
   ],
   "source": [
    "input_file = '{}/curated_uniprot.fasta_75'.format(directory)\n",
    "df = blast_parser(input_file)\n",
    "df"
   ]
  },
  {
   "cell_type": "markdown",
   "id": "cf64da85",
   "metadata": {
    "ExecuteTime": {
     "end_time": "2023-05-03T08:43:45.891228Z",
     "start_time": "2023-05-03T08:43:45.618716Z"
    }
   },
   "source": [
    "### 2. Query ID Analysis\n",
    "\n",
    "Next, we determine the count of subject IDs for each query ID. It's important to note that we need to summarize the data for all subject IDs that occurred for a particular query, rather than for each individual 'query-sequence' pair."
   ]
  },
  {
   "cell_type": "code",
   "execution_count": 4,
   "id": "6da723f6",
   "metadata": {
    "ExecuteTime": {
     "end_time": "2023-06-08T08:14:20.245779Z",
     "start_time": "2023-06-08T08:14:12.800210Z"
    }
   },
   "outputs": [
    {
     "data": {
      "image/png": "[encoded data removed]",
      "text/plain": [
       "<Figure size 720x576 with 1 Axes>"
      ]
     },
     "metadata": {
      "needs_background": "light"
     },
     "output_type": "display_data"
    }
   ],
   "source": [
    "# Plot subject IDs count\n",
    "figure(figsize=(10, 8))\n",
    "plt.barh(df['query_id'], df['count'])\n",
    "plt.xlabel('Counts')\n",
    "plt.ylabel('Query ID')\n",
    "plt.title('Subject IDs count')\n",
    "plt.show()"
   ]
  },
  {
   "cell_type": "code",
   "execution_count": 5,
   "id": "c42bf247",
   "metadata": {
    "ExecuteTime": {
     "end_time": "2023-06-08T08:14:20.461124Z",
     "start_time": "2023-06-08T08:14:20.246224Z"
    }
   },
   "outputs": [
    {
     "data": {
      "image/png": "[encoded data removed]",
      "text/plain": [
       "<Figure size 720x576 with 1 Axes>"
      ]
     },
     "metadata": {
      "needs_background": "light"
     },
     "output_type": "display_data"
    }
   ],
   "source": [
    "# Plot HSP length count\n",
    "figure(figsize=(10, 8))\n",
    "plt.scatter(df['hsp_len'], df['query_id'], alpha=0.4)\n",
    "plt.xlabel('HSP length')\n",
    "plt.ylabel('Query ID')\n",
    "plt.title('HSP lengths count')\n",
    "plt.show()"
   ]
  },
  {
   "cell_type": "markdown",
   "id": "6c113e39",
   "metadata": {
    "ExecuteTime": {
     "end_time": "2023-05-03T08:44:16.243547Z",
     "start_time": "2023-05-03T08:44:15.948136Z"
    }
   },
   "source": [
    "The scatterplot shows the positions of the sequences with the specific hsp length. The highest concentration represents the most frequent hsp length for a particular query ID.\n",
    "\n",
    "Previously, we presented the overall proportion of unique subjects for all query IDs, but now we intend to conduct a separate analysis for each query ID. To begin, we will create a dropdown list of the query ID."
   ]
  },
  {
   "cell_type": "code",
   "execution_count": 6,
   "id": "0dd8aa39",
   "metadata": {
    "ExecuteTime": {
     "end_time": "2023-06-08T08:14:20.472683Z",
     "start_time": "2023-06-08T08:14:20.461678Z"
    }
   },
   "outputs": [
    {
     "data": {
      "application/vnd.jupyter.widget-view+json": {
       "model_id": "004d0b0145434730a42c0e5e883d9d19",
       "version_major": 2,
       "version_minor": 0
      },
      "text/plain": [
       "Select(description='Query ID: ', layout=Layout(width='max-content'), options=('Q16620', 'Q9H832', 'Q92541', 'Q…"
      ]
     },
     "metadata": {},
     "output_type": "display_data"
    }
   ],
   "source": [
    "# Dropdown list of query IDs\n",
    "output = widgets.Select(\n",
    "    options=df[\"query_id\"].unique(),\n",
    "    rows=10,\n",
    "    description='Query ID: ',\n",
    "    layout={'width': 'max-content'},\n",
    "    disabled=False\n",
    ")\n",
    "display(output)"
   ]
  },
  {
   "cell_type": "markdown",
   "id": "0f9b7a9c",
   "metadata": {
    "ExecuteTime": {
     "end_time": "2023-05-03T12:51:44.952561Z",
     "start_time": "2023-05-03T12:51:44.901207Z"
    }
   },
   "source": [
    "Once the query ID list is generated, we need to select one of the IDs."
   ]
  },
  {
   "cell_type": "code",
   "execution_count": 7,
   "id": "836993a6",
   "metadata": {
    "ExecuteTime": {
     "end_time": "2023-06-08T08:14:25.152851Z",
     "start_time": "2023-06-08T08:14:24.799045Z"
    }
   },
   "outputs": [
    {
     "data": {
      "image/png": "[encoded data removed]",
      "text/plain": [
       "<Figure size 1296x432 with 3 Axes>"
      ]
     },
     "metadata": {
      "needs_background": "light"
     },
     "output_type": "display_data"
    }
   ],
   "source": [
    "# Select query ID and filter dataframe\n",
    "selected_id = output.value\n",
    "selected_init = df[df[\"query_id\"].isin([selected_id])]\n",
    "\n",
    "# Create bar plot for HSP hits of selected query ID\n",
    "fig, (ax1, ax2, ax3) = plt.subplots(1, 3, figsize=(18, 6))\n",
    "sns.histplot(selected_init['hsp_len'], kde = True, bins = 50, ax = ax1)\n",
    "sns.kdeplot(selected_init['hsp_len'], shade = True, ax = ax2)\n",
    "sns.violinplot(x = selected_init['hsp_len'], ax = ax3)\n",
    "plt.suptitle(f'HSP distribution for the {selected_id} query ID')\n",
    "plt.show()"
   ]
  },
  {
   "cell_type": "markdown",
   "id": "8240cef6",
   "metadata": {
    "ExecuteTime": {
     "end_time": "2023-05-03T12:23:58.692315Z",
     "start_time": "2023-05-03T12:23:58.684896Z"
    }
   },
   "source": [
    "The `histplot` shows the distribution of HSP lengths in the selected query ID by grouping the HSP lengths into bins or ranges along the x-axis and displaying the frequency of HSP lengths as the height of the corresponding bar on the y-axis.\n",
    "\n",
    "The height of the `kdeplot` curve represents the estimated probability density of the variable being plotted at each point on the x-axis. For example, in the case of the HSP length, the height of the curve at a particular value of x represents the estimated density of observations around that value. The area under the curve represents the total probability of all possible values of the variable, which is equal to 1.\n",
    "\n",
    "The `violinplot` provides the information about the interquartile range (thick gray line), median that is represented by a white dot and the rest of a distribution (thin gray line). The distribution's shape is presented on either side of the gray line through kernel density estimation. The wider sections of the violin plot represent a greater probability of the population taking on a specific value, while the narrower sections indicate a lower probability."
   ]
  },
  {
   "cell_type": "markdown",
   "id": "e280c871",
   "metadata": {
    "ExecuteTime": {
     "end_time": "2023-05-03T08:21:11.222059Z",
     "start_time": "2023-05-03T08:21:11.213547Z"
    }
   },
   "source": [
    "### 3. Multiple Sequence Alignment\n",
    "\n",
    "Within this framework, we will compare the MSA results obtained directly from the BLAST output with those generated from the ClustalOmega service.\n",
    "\n",
    "#### 3.1. MSA from the BLAST output\n",
    "This code iterates through each row of the dataframe for a previously selected query ID. If there is no gap, it maps the amino acid from the subject sequence to the corresponding position in the query sequence, starting from the beginning of the query sequence. The resulting mapped amino acids are then added to a new count. In the end we have a FASTA file with the subject IDs and the aligned sequences."
   ]
  },
  {
   "cell_type": "code",
   "execution_count": 8,
   "id": "dad84515",
   "metadata": {
    "ExecuteTime": {
     "end_time": "2023-06-08T08:14:29.579534Z",
     "start_time": "2023-06-08T08:14:27.128555Z"
    }
   },
   "outputs": [],
   "source": [
    "# Retrieve a query sequence from query id\n",
    "query_sequence = get_fasta(selected_id)\n",
    "query_lines = query_sequence.split(\"\\n\")\n",
    "query_sequence = \"\".join(query_lines[1:]) # its length will be used for building MSA"
   ]
  },
  {
   "cell_type": "code",
   "execution_count": 9,
   "id": "85994d6b",
   "metadata": {
    "ExecuteTime": {
     "end_time": "2023-06-08T08:14:29.586504Z",
     "start_time": "2023-06-08T08:14:29.580123Z"
    }
   },
   "outputs": [],
   "source": [
    "# # 1. Build the MSA from the BLAST\n",
    "# out_file = f'{directory}results/alignments/output_files/blast/{selected_id}_blast.fasta'\n",
    "\n",
    "# with open(out_file, \"w\") as fout:\n",
    "#     mapped_seq = [\"-\"] * len(query_sequence)\n",
    "\n",
    "#     # Write the header line for the query sequence\n",
    "#     fout.write(\">{}\\n\".format(selected_id))\n",
    "\n",
    "#     # Map the query sequence to the mapped_seq list\n",
    "#     c = 0\n",
    "#     for l_q in query_sequence:\n",
    "#         if l_q != \" \" and l_q != '-':\n",
    "#             mapped_seq[c] = l_q\n",
    "#             c += 1\n",
    "\n",
    "#     # Write the query_mapped_seq sequence to the output file\n",
    "#     fout.write(\"{}\\n\".format(\"\".join(mapped_seq)))\n",
    "\n",
    "#     # Map the subject sequences to the mapped_seq list and write to the output file\n",
    "#     for index, row in selected_init.iterrows():\n",
    "#         c = 0\n",
    "#         query_start = row[\"query_start\"]\n",
    "#         for l_q, l_s in zip(row['query_seq'], row['subject_seq']):\n",
    "#             if l_q != \" \" and l_q != '-': # if the initial aa from query is not empty or gapped\n",
    "#                 mapped_seq[query_start + c - 1] = l_s if l_s != \" \" else \"-\" # assign aa to subject\n",
    "#                 c += 1\n",
    "#             #if row['subject_id'] == selected_id:\n",
    "#                 #continue\n",
    "#         fout.write(\">{}\\n{}\\n\".format(row[\"subject_id\"], \"\".join(mapped_seq)))\n"
   ]
  },
  {
   "cell_type": "markdown",
   "id": "cfce448e",
   "metadata": {
    "ExecuteTime": {
     "end_time": "2023-05-03T12:51:58.298398Z",
     "start_time": "2023-05-03T12:51:58.071095Z"
    }
   },
   "source": [
    "#### 3.2. MSA from the ClustalOmega, MAFFT\n",
    "\n",
    "Initially, we need to preprocess the dataframe into a suitable input format file for ClustalOmega and MAFFT."
   ]
  },
  {
   "cell_type": "code",
   "execution_count": 10,
   "id": "0e9853c7",
   "metadata": {
    "ExecuteTime": {
     "end_time": "2023-06-08T08:14:29.602160Z",
     "start_time": "2023-06-08T08:14:29.580503Z"
    }
   },
   "outputs": [],
   "source": [
    "# 2. Retrieve the unaligned sequence from the local machine\n",
    "# input_file = f'{directory}results/alignments/input_files/{selected_id}_input.fasta'\n",
    "#\n",
    "# with open(input_file, 'w') as fout:\n",
    "#     # Write the query sequence to the output file as the first line\n",
    "#     fout.write(\">{}\\n{}\\n\".format(selected_id, query_sequence))\n",
    "#\n",
    "#     for index, row in selected.iterrows():\n",
    "#         accession = row['subject_id']\n",
    "#         sequence = get_fasta(accession)\n",
    "#         if selected_id == accession: # remove duplicates\n",
    "#             continue\n",
    "#         fout.write(sequence)"
   ]
  },
  {
   "cell_type": "markdown",
   "id": "0a44466a",
   "metadata": {
    "ExecuteTime": {
     "end_time": "2023-05-03T08:44:41.872851Z",
     "start_time": "2023-05-03T08:44:41.866422Z"
    }
   },
   "source": [
    "Next, we will be working with the newly generated file. It will be uploaded to ebi website, where we will select Pearson/FASTA as the output format. Once we have downloaded the aligned sequences, we can analyze the alignment using Jalview."
   ]
  },
  {
   "cell_type": "code",
   "execution_count": 11,
   "id": "b0721123",
   "metadata": {
    "ExecuteTime": {
     "end_time": "2023-06-08T08:14:42.162194Z",
     "start_time": "2023-06-08T08:14:42.084894Z"
    }
   },
   "outputs": [
    {
     "data": {
      "text/plain": [
       "((201, 354), (199, 354), (199, 354))"
      ]
     },
     "execution_count": 11,
     "metadata": {},
     "output_type": "execute_result"
    }
   ],
   "source": [
    "# Prepare all sequences for the following comparison\n",
    "al_blast = f'{directory}results/alignments/output_files/blast/{selected_id}_blast.fasta'\n",
    "al_clustal = f'{directory}results/alignments/output_files/clustal/{selected_id}_clustal.fasta'\n",
    "al_mafft = f'{directory}results/alignments/output_files/mafft/{selected_id}_mafft.fasta'\n",
    "\n",
    "blast_seqs = get_seqs(al_blast, 'blast', selected_id)\n",
    "clustal_seqs = get_seqs(al_clustal, 'clustal', selected_id)\n",
    "mafft_seqs = get_seqs(al_mafft, 'mafft', selected_id)\n",
    "\n",
    "# The number of sequences may differ\n",
    "blast_seqs.shape, clustal_seqs.shape, mafft_seqs.shape"
   ]
  },
  {
   "cell_type": "markdown",
   "id": "c096ca39",
   "metadata": {
    "ExecuteTime": {
     "end_time": "2023-05-03T12:24:02.785569Z",
     "start_time": "2023-05-03T12:24:02.780634Z"
    }
   },
   "source": [
    "For calculation of the `entropy` we use a probability distribution with 20 outcomes, where each outcome has an equal probability of 1/20. Entropy is a measure of the uncertainty or randomness associated with a probability distribution. In this case, since the probability distribution is uniform, the entropy is maximized, meaning that there is maximum uncertainty or randomness associated with the outcomes.\n",
    "\n",
    "With `occupancy` we define the proportion of non-missing (non-gap) values in the column."
   ]
  },
  {
   "cell_type": "code",
   "execution_count": 12,
   "id": "fd0dd143",
   "metadata": {
    "ExecuteTime": {
     "end_time": "2023-06-08T08:14:46.481839Z",
     "start_time": "2023-06-08T08:14:46.433455Z"
    }
   },
   "outputs": [],
   "source": [
    "# Calculate the occupancy and entropy for each type of MSA\n",
    "blast_calc = stats_calculation(blast_seqs)\n",
    "clustal_calc = stats_calculation(clustal_seqs)\n",
    "mafft_calc = stats_calculation(mafft_seqs)"
   ]
  },
  {
   "cell_type": "code",
   "execution_count": 13,
   "id": "0a60310c",
   "metadata": {
    "ExecuteTime": {
     "end_time": "2023-06-08T08:14:47.240039Z",
     "start_time": "2023-06-08T08:14:47.005465Z"
    }
   },
   "outputs": [
    {
     "data": {
      "image/png": "[encoded data removed]",
      "text/plain": [
       "<Figure size 1080x360 with 2 Axes>"
      ]
     },
     "metadata": {
      "needs_background": "light"
     },
     "output_type": "display_data"
    }
   ],
   "source": [
    "fig, (ax1, ax2) = plt.subplots(1, 2, figsize=(15, 5))\n",
    "\n",
    "sns.kdeplot(blast_calc['occupancy'], shade = True, ax = ax1)\n",
    "sns.kdeplot(clustal_calc['occupancy'], shade = True, ax = ax1)\n",
    "sns.kdeplot(mafft_calc['occupancy'], shade = True, ax = ax1)\n",
    "\n",
    "sns.kdeplot(blast_calc['entropy'], shade = True, ax = ax2)\n",
    "sns.kdeplot(clustal_calc['entropy'], shade = True, ax = ax2)\n",
    "sns.kdeplot(mafft_calc['entropy'], shade = True, ax = ax2)\n",
    "\n",
    "ax1.legend(['BLAST', 'ClustalOmega', 'MAFFT'])\n",
    "ax2.legend(['BLAST', 'ClustalOmega', 'MAFFT'])\n",
    "ax1.set_xlabel('Occupancy')\n",
    "ax2.set_xlabel('Entropy')\n",
    "plt.suptitle(f'KDE plot of occupancy and entropy distribution for {selected_id} query ID')\n",
    "plt.show()"
   ]
  },
  {
   "cell_type": "code",
   "execution_count": 14,
   "id": "c2a54015",
   "metadata": {
    "ExecuteTime": {
     "end_time": "2023-06-08T08:14:49.224701Z",
     "start_time": "2023-06-08T08:14:48.474623Z"
    }
   },
   "outputs": [
    {
     "data": {
      "image/png": "[encoded data removed]",
      "text/plain": [
       "<Figure size 1080x360 with 2 Axes>"
      ]
     },
     "metadata": {
      "needs_background": "light"
     },
     "output_type": "display_data"
    }
   ],
   "source": [
    "fig, (ax1, ax2) = plt.subplots(1, 2, figsize=(15, 5))\n",
    "\n",
    "ax1.hist([blast_calc['occupancy'], clustal_calc['occupancy'], mafft_calc['occupancy']])\n",
    "ax2.hist([blast_calc['entropy'], clustal_calc['entropy'], mafft_calc['entropy']])\n",
    "\n",
    "ax1.legend(['BLAST', 'ClustalOmega', 'MAFFT'])\n",
    "ax2.legend(['BLAST', 'ClustalOmega', 'MAFFT'])\n",
    "\n",
    "ax1.set_xlabel('Occupancy')\n",
    "ax2.set_xlabel('Entropy')\n",
    "\n",
    "plt.suptitle(f'Histogram of occupancy and entropy distribution for {selected_id} query ID')\n",
    "plt.show()"
   ]
  },
  {
   "cell_type": "code",
   "execution_count": 15,
   "id": "94bd0f4a",
   "metadata": {
    "ExecuteTime": {
     "end_time": "2023-06-08T08:14:50.355226Z",
     "start_time": "2023-06-08T08:14:50.105902Z"
    }
   },
   "outputs": [
    {
     "data": {
      "image/png": "[encoded data removed]",
      "text/plain": [
       "<Figure size 1080x360 with 2 Axes>"
      ]
     },
     "metadata": {
      "needs_background": "light"
     },
     "output_type": "display_data"
    }
   ],
   "source": [
    "fig, (ax1, ax2) = plt.subplots(1, 2, figsize=(15, 5))\n",
    "\n",
    "ax1.scatter(blast_calc['occupancy'], blast_calc['pos'])\n",
    "ax1.scatter(clustal_calc['occupancy'], clustal_calc['pos'])\n",
    "ax1.scatter(mafft_calc['occupancy'], mafft_calc['pos'])\n",
    "\n",
    "ax2.scatter(blast_calc['entropy'], blast_calc['pos'])\n",
    "ax2.scatter(clustal_calc['entropy'], clustal_calc['pos'])\n",
    "ax2.scatter(mafft_calc['entropy'], mafft_calc['pos'])\n",
    "\n",
    "ax1.legend(['BLAST', 'ClustalOmega', 'MAFFT'])\n",
    "ax2.legend(['BLAST', 'ClustalOmega', 'MAFFT'])\n",
    "ax1.set_xlabel('Occupancy')\n",
    "ax2.set_xlabel('Entropy')\n",
    "plt.suptitle(f'Scatterplot of occupancy and entropy distribution comparison for {selected_id} query ID')\n",
    "plt.show()"
   ]
  },
  {
   "cell_type": "markdown",
   "id": "ce1b0031",
   "metadata": {},
   "source": [
    "### 4. Defining disordered regions in MSA\n",
    "\n",
    "We convert the file `curated.mjson` to dataframe in order to retrieve the IDs and disordered regions."
   ]
  },
  {
   "cell_type": "code",
   "execution_count": 16,
   "id": "d7d3cd36",
   "metadata": {
    "ExecuteTime": {
     "end_time": "2023-06-08T08:14:53.260914Z",
     "start_time": "2023-06-08T08:14:53.223048Z"
    }
   },
   "outputs": [
    {
     "name": "stdout",
     "output_type": "stream",
     "text": [
      "3151\n"
     ]
    },
    {
     "data": {
      "text/html": [
       "<div>\n",
       "<style scoped>\n",
       "    .dataframe tbody tr th:only-of-type {\n",
       "        vertical-align: middle;\n",
       "    }\n",
       "\n",
       "    .dataframe tbody tr th {\n",
       "        vertical-align: top;\n",
       "    }\n",
       "\n",
       "    .dataframe thead th {\n",
       "        text-align: right;\n",
       "    }\n",
       "</style>\n",
       "<table border=\"1\" class=\"dataframe\">\n",
       "  <thead>\n",
       "    <tr style=\"text-align: right;\">\n",
       "      <th></th>\n",
       "      <th>acc</th>\n",
       "      <th>evidence</th>\n",
       "      <th>feature</th>\n",
       "      <th>source</th>\n",
       "      <th>start</th>\n",
       "      <th>end</th>\n",
       "      <th>length</th>\n",
       "    </tr>\n",
       "  </thead>\n",
       "  <tbody>\n",
       "    <tr>\n",
       "      <th>6927</th>\n",
       "      <td>P03265</td>\n",
       "      <td>curated</td>\n",
       "      <td>disorder</td>\n",
       "      <td>disprot</td>\n",
       "      <td>294</td>\n",
       "      <td>334</td>\n",
       "      <td>41</td>\n",
       "    </tr>\n",
       "    <tr>\n",
       "      <th>6928</th>\n",
       "      <td>P03265</td>\n",
       "      <td>curated</td>\n",
       "      <td>disorder</td>\n",
       "      <td>disprot</td>\n",
       "      <td>454</td>\n",
       "      <td>464</td>\n",
       "      <td>11</td>\n",
       "    </tr>\n",
       "    <tr>\n",
       "      <th>6929</th>\n",
       "      <td>P49913</td>\n",
       "      <td>curated</td>\n",
       "      <td>disorder</td>\n",
       "      <td>disprot</td>\n",
       "      <td>134</td>\n",
       "      <td>170</td>\n",
       "      <td>37</td>\n",
       "    </tr>\n",
       "    <tr>\n",
       "      <th>6930</th>\n",
       "      <td>P03045</td>\n",
       "      <td>curated</td>\n",
       "      <td>disorder</td>\n",
       "      <td>disprot</td>\n",
       "      <td>1</td>\n",
       "      <td>107</td>\n",
       "      <td>107</td>\n",
       "    </tr>\n",
       "    <tr>\n",
       "      <th>6931</th>\n",
       "      <td>P00004</td>\n",
       "      <td>curated</td>\n",
       "      <td>disorder</td>\n",
       "      <td>disprot</td>\n",
       "      <td>1</td>\n",
       "      <td>105</td>\n",
       "      <td>105</td>\n",
       "    </tr>\n",
       "    <tr>\n",
       "      <th>6932</th>\n",
       "      <td>P27695</td>\n",
       "      <td>curated</td>\n",
       "      <td>disorder</td>\n",
       "      <td>disprot</td>\n",
       "      <td>1</td>\n",
       "      <td>43</td>\n",
       "      <td>43</td>\n",
       "    </tr>\n",
       "    <tr>\n",
       "      <th>6933</th>\n",
       "      <td>Q64693</td>\n",
       "      <td>curated</td>\n",
       "      <td>disorder</td>\n",
       "      <td>disprot</td>\n",
       "      <td>1</td>\n",
       "      <td>256</td>\n",
       "      <td>256</td>\n",
       "    </tr>\n",
       "    <tr>\n",
       "      <th>6934</th>\n",
       "      <td>P32774</td>\n",
       "      <td>curated</td>\n",
       "      <td>disorder</td>\n",
       "      <td>disprot</td>\n",
       "      <td>89</td>\n",
       "      <td>104</td>\n",
       "      <td>16</td>\n",
       "    </tr>\n",
       "    <tr>\n",
       "      <th>6935</th>\n",
       "      <td>P0DMM9</td>\n",
       "      <td>curated</td>\n",
       "      <td>disorder</td>\n",
       "      <td>disprot</td>\n",
       "      <td>63</td>\n",
       "      <td>76</td>\n",
       "      <td>14</td>\n",
       "    </tr>\n",
       "    <tr>\n",
       "      <th>6936</th>\n",
       "      <td>P0DMM9</td>\n",
       "      <td>curated</td>\n",
       "      <td>disorder</td>\n",
       "      <td>disprot</td>\n",
       "      <td>215</td>\n",
       "      <td>260</td>\n",
       "      <td>46</td>\n",
       "    </tr>\n",
       "  </tbody>\n",
       "</table>\n",
       "</div>"
      ],
      "text/plain": [
       "         acc evidence   feature   source  start  end  length\n",
       "6927  P03265  curated  disorder  disprot    294  334      41\n",
       "6928  P03265  curated  disorder  disprot    454  464      11\n",
       "6929  P49913  curated  disorder  disprot    134  170      37\n",
       "6930  P03045  curated  disorder  disprot      1  107     107\n",
       "6931  P00004  curated  disorder  disprot      1  105     105\n",
       "6932  P27695  curated  disorder  disprot      1   43      43\n",
       "6933  Q64693  curated  disorder  disprot      1  256     256\n",
       "6934  P32774  curated  disorder  disprot     89  104      16\n",
       "6935  P0DMM9  curated  disorder  disprot     63   76      14\n",
       "6936  P0DMM9  curated  disorder  disprot    215  260      46"
      ]
     },
     "execution_count": 16,
     "metadata": {},
     "output_type": "execute_result"
    }
   ],
   "source": [
    "# Create a dataframe from curated.mjson\n",
    "data = list()\n",
    "\n",
    "with open('curated.mjson', 'r') as file:\n",
    "    for line in file:\n",
    "        obj = json.loads(line)\n",
    "        rows = json_parser(obj)\n",
    "        data.extend(rows)\n",
    "\n",
    "curated_disprot = pd.DataFrame(data)\n",
    "\n",
    "# Calculate the length of disordered regions\n",
    "curated_disprot['length'] = curated_disprot['end'] - curated_disprot['start'] + 1\n",
    "curated_disprot = curated_disprot[(curated_disprot['feature'] == 'disorder') & (curated_disprot['source'] == 'disprot')]\n",
    "\n",
    "print(len(curated_disprot))\n",
    "curated_disprot.head(10)"
   ]
  },
  {
   "cell_type": "markdown",
   "id": "c9e76303",
   "metadata": {},
   "source": [
    "After identifying the IDs and disordered regions, we can use these data to filter the initial dataframe."
   ]
  },
  {
   "cell_type": "code",
   "execution_count": 17,
   "id": "e4892ae4",
   "metadata": {
    "ExecuteTime": {
     "end_time": "2023-06-08T07:37:06.647941Z",
     "start_time": "2023-06-08T07:37:06.498856Z"
    }
   },
   "outputs": [
    {
     "name": "stdout",
     "output_type": "stream",
     "text": [
      "2887\n"
     ]
    },
    {
     "data": {
      "text/html": [
       "<div>\n",
       "<style scoped>\n",
       "    .dataframe tbody tr th:only-of-type {\n",
       "        vertical-align: middle;\n",
       "    }\n",
       "\n",
       "    .dataframe tbody tr th {\n",
       "        vertical-align: top;\n",
       "    }\n",
       "\n",
       "    .dataframe thead th {\n",
       "        text-align: right;\n",
       "    }\n",
       "</style>\n",
       "<table border=\"1\" class=\"dataframe\">\n",
       "  <thead>\n",
       "    <tr style=\"text-align: right;\">\n",
       "      <th></th>\n",
       "      <th>query_id</th>\n",
       "      <th>subject_id</th>\n",
       "      <th>query_len</th>\n",
       "      <th>hsp_len</th>\n",
       "      <th>query_seq</th>\n",
       "      <th>match_seq</th>\n",
       "      <th>subject_seq</th>\n",
       "      <th>query_start</th>\n",
       "      <th>query_end</th>\n",
       "      <th>subject_start</th>\n",
       "      <th>subject_end</th>\n",
       "      <th>identity</th>\n",
       "      <th>positive</th>\n",
       "      <th>gaps</th>\n",
       "      <th>eval</th>\n",
       "      <th>bit_score</th>\n",
       "      <th>count</th>\n",
       "    </tr>\n",
       "  </thead>\n",
       "  <tbody>\n",
       "    <tr>\n",
       "      <th>200</th>\n",
       "      <td>Q9H832</td>\n",
       "      <td>A0A6J2FM24</td>\n",
       "      <td>354</td>\n",
       "      <td>356</td>\n",
       "      <td>MAESPTEEAATA--GAGAAGPGASSVAGVVGVSGSGGGFGPPFLPD...</td>\n",
       "      <td>MAESPTEEAATA  GAGAAGPGAS V GVVGVSGSG  FGPPFLPD...</td>\n",
       "      <td>MAESPTEEAATATAGAGAAGPGASGVTGVVGVSGSG--FGPPFLPD...</td>\n",
       "      <td>1</td>\n",
       "      <td>354</td>\n",
       "      <td>1</td>\n",
       "      <td>354</td>\n",
       "      <td>350</td>\n",
       "      <td>350</td>\n",
       "      <td>4</td>\n",
       "      <td>0.0</td>\n",
       "      <td>1851.0</td>\n",
       "      <td>200</td>\n",
       "    </tr>\n",
       "    <tr>\n",
       "      <th>201</th>\n",
       "      <td>Q9H832</td>\n",
       "      <td>A0A3Q7W6Y2</td>\n",
       "      <td>354</td>\n",
       "      <td>356</td>\n",
       "      <td>MAESPTEEAATA--GAGAAGPGASSVAGVVGVSGSGGGFGPPFLPD...</td>\n",
       "      <td>MAESPTEEAATA  GAGA GPGAS VAGVVGVSGSG  FGPPFLPD...</td>\n",
       "      <td>MAESPTEEAATATAGAGATGPGASGVAGVVGVSGSG--FGPPFLPD...</td>\n",
       "      <td>1</td>\n",
       "      <td>354</td>\n",
       "      <td>1</td>\n",
       "      <td>354</td>\n",
       "      <td>350</td>\n",
       "      <td>350</td>\n",
       "      <td>4</td>\n",
       "      <td>0.0</td>\n",
       "      <td>1851.0</td>\n",
       "      <td>200</td>\n",
       "    </tr>\n",
       "    <tr>\n",
       "      <th>202</th>\n",
       "      <td>Q9H832</td>\n",
       "      <td>A0A2U3VK69</td>\n",
       "      <td>354</td>\n",
       "      <td>356</td>\n",
       "      <td>MAESPTEEAATA--GAGAAGPGASSVAGVVGVSGSGGGFGPPFLPD...</td>\n",
       "      <td>MAESPTEEAATA  GAGAAGPGAS V GVVGVSGSG  FGPPFLPD...</td>\n",
       "      <td>MAESPTEEAATATAGAGAAGPGASGVTGVVGVSGSG--FGPPFLPD...</td>\n",
       "      <td>1</td>\n",
       "      <td>354</td>\n",
       "      <td>1</td>\n",
       "      <td>354</td>\n",
       "      <td>350</td>\n",
       "      <td>350</td>\n",
       "      <td>4</td>\n",
       "      <td>0.0</td>\n",
       "      <td>1851.0</td>\n",
       "      <td>200</td>\n",
       "    </tr>\n",
       "    <tr>\n",
       "      <th>203</th>\n",
       "      <td>Q9H832</td>\n",
       "      <td>A0A2Y9JVH5</td>\n",
       "      <td>354</td>\n",
       "      <td>358</td>\n",
       "      <td>MAESPTEEAATA----GAGAAGPGASSVAGVVGVSGSGGGFGPPFL...</td>\n",
       "      <td>MAESPTEEAATA    GAGAAGPGAS VAGVVGVSGSG  FGPPFL...</td>\n",
       "      <td>MAESPTEEAATATATAGAGAAGPGASGVAGVVGVSGSG--FGPPFL...</td>\n",
       "      <td>1</td>\n",
       "      <td>354</td>\n",
       "      <td>1</td>\n",
       "      <td>356</td>\n",
       "      <td>351</td>\n",
       "      <td>351</td>\n",
       "      <td>6</td>\n",
       "      <td>0.0</td>\n",
       "      <td>1854.0</td>\n",
       "      <td>200</td>\n",
       "    </tr>\n",
       "    <tr>\n",
       "      <th>204</th>\n",
       "      <td>Q9H832</td>\n",
       "      <td>A0A8C7ALE4</td>\n",
       "      <td>354</td>\n",
       "      <td>358</td>\n",
       "      <td>MAESPTEEAATA----GAGAAGPGASSVAGVVGVSGSGGGFGPPFL...</td>\n",
       "      <td>MAESPTEEAATA    GAGAAGPGAS VAGVVGVSGSG  FGPPFL...</td>\n",
       "      <td>MAESPTEEAATATATAGAGAAGPGASGVAGVVGVSGSG--FGPPFL...</td>\n",
       "      <td>1</td>\n",
       "      <td>354</td>\n",
       "      <td>1</td>\n",
       "      <td>356</td>\n",
       "      <td>351</td>\n",
       "      <td>351</td>\n",
       "      <td>6</td>\n",
       "      <td>0.0</td>\n",
       "      <td>1854.0</td>\n",
       "      <td>200</td>\n",
       "    </tr>\n",
       "    <tr>\n",
       "      <th>205</th>\n",
       "      <td>Q9H832</td>\n",
       "      <td>A0A1S3A6C0</td>\n",
       "      <td>354</td>\n",
       "      <td>356</td>\n",
       "      <td>MAESPTEEAATA--GAGAAGPGASSVAGVVGVSGSGGGFGPPFLPD...</td>\n",
       "      <td>MAESPTEEAATA  G GA GPGAS VA VVGVS SGGGFGPPFLPD...</td>\n",
       "      <td>MAESPTEEAATATAGPGATGPGASGVASVVGVSSSGGGFGPPFLPD...</td>\n",
       "      <td>1</td>\n",
       "      <td>354</td>\n",
       "      <td>1</td>\n",
       "      <td>356</td>\n",
       "      <td>348</td>\n",
       "      <td>349</td>\n",
       "      <td>2</td>\n",
       "      <td>0.0</td>\n",
       "      <td>1854.0</td>\n",
       "      <td>200</td>\n",
       "    </tr>\n",
       "    <tr>\n",
       "      <th>206</th>\n",
       "      <td>Q9H832</td>\n",
       "      <td>A0A8C0Q5G0</td>\n",
       "      <td>354</td>\n",
       "      <td>356</td>\n",
       "      <td>MAESPTEEAATA--GAGAAGPGASSVAGVVGVSGSGGGFGPPFLPD...</td>\n",
       "      <td>MAESPTEEAATA  GAGAAGPGAS VAGVVGVSGSG  FGPPFLPD...</td>\n",
       "      <td>MAESPTEEAATATAGAGAAGPGASGVAGVVGVSGSG--FGPPFLPD...</td>\n",
       "      <td>1</td>\n",
       "      <td>354</td>\n",
       "      <td>1</td>\n",
       "      <td>354</td>\n",
       "      <td>351</td>\n",
       "      <td>351</td>\n",
       "      <td>4</td>\n",
       "      <td>0.0</td>\n",
       "      <td>1856.0</td>\n",
       "      <td>200</td>\n",
       "    </tr>\n",
       "    <tr>\n",
       "      <th>207</th>\n",
       "      <td>Q9H832</td>\n",
       "      <td>A0A6J1XBE4</td>\n",
       "      <td>354</td>\n",
       "      <td>356</td>\n",
       "      <td>MAESPTEEAATA--GAGAAGPGASSVAGVVGVSGSGGGFGPPFLPD...</td>\n",
       "      <td>MAESPTEEAATA  GAGAAGPGAS VAGVVGVSGSG  FGPPFLPD...</td>\n",
       "      <td>MAESPTEEAATATAGAGAAGPGASGVAGVVGVSGSG--FGPPFLPD...</td>\n",
       "      <td>1</td>\n",
       "      <td>354</td>\n",
       "      <td>1</td>\n",
       "      <td>354</td>\n",
       "      <td>351</td>\n",
       "      <td>351</td>\n",
       "      <td>4</td>\n",
       "      <td>0.0</td>\n",
       "      <td>1856.0</td>\n",
       "      <td>200</td>\n",
       "    </tr>\n",
       "    <tr>\n",
       "      <th>208</th>\n",
       "      <td>Q9H832</td>\n",
       "      <td>A0A8C8Y3L0</td>\n",
       "      <td>354</td>\n",
       "      <td>356</td>\n",
       "      <td>MAESPTEEAATA--GAGAAGPGASSVAGVVGVSGSGGGFGPPFLPD...</td>\n",
       "      <td>MAESPTEEAATA  GAGAAGPGAS VAGVVGVSGSG  FGPPFLPD...</td>\n",
       "      <td>MAESPTEEAATATAGAGAAGPGASGVAGVVGVSGSG--FGPPFLPD...</td>\n",
       "      <td>1</td>\n",
       "      <td>354</td>\n",
       "      <td>1</td>\n",
       "      <td>354</td>\n",
       "      <td>351</td>\n",
       "      <td>351</td>\n",
       "      <td>4</td>\n",
       "      <td>0.0</td>\n",
       "      <td>1856.0</td>\n",
       "      <td>200</td>\n",
       "    </tr>\n",
       "    <tr>\n",
       "      <th>209</th>\n",
       "      <td>Q9H832</td>\n",
       "      <td>A0A337SRE7</td>\n",
       "      <td>354</td>\n",
       "      <td>356</td>\n",
       "      <td>MAESPTEEAATA--GAGAAGPGASSVAGVVGVSGSGGGFGPPFLPD...</td>\n",
       "      <td>MAESPTEEAATA  GAGAAGPGAS VAGVVGVSGSG  FGPPFLPD...</td>\n",
       "      <td>MAESPTEEAATATAGAGAAGPGASGVAGVVGVSGSG--FGPPFLPD...</td>\n",
       "      <td>1</td>\n",
       "      <td>354</td>\n",
       "      <td>1</td>\n",
       "      <td>354</td>\n",
       "      <td>351</td>\n",
       "      <td>351</td>\n",
       "      <td>4</td>\n",
       "      <td>0.0</td>\n",
       "      <td>1856.0</td>\n",
       "      <td>200</td>\n",
       "    </tr>\n",
       "  </tbody>\n",
       "</table>\n",
       "</div>"
      ],
      "text/plain": [
       "    query_id  subject_id  query_len  hsp_len  \\\n",
       "200   Q9H832  A0A6J2FM24        354      356   \n",
       "201   Q9H832  A0A3Q7W6Y2        354      356   \n",
       "202   Q9H832  A0A2U3VK69        354      356   \n",
       "203   Q9H832  A0A2Y9JVH5        354      358   \n",
       "204   Q9H832  A0A8C7ALE4        354      358   \n",
       "205   Q9H832  A0A1S3A6C0        354      356   \n",
       "206   Q9H832  A0A8C0Q5G0        354      356   \n",
       "207   Q9H832  A0A6J1XBE4        354      356   \n",
       "208   Q9H832  A0A8C8Y3L0        354      356   \n",
       "209   Q9H832  A0A337SRE7        354      356   \n",
       "\n",
       "                                             query_seq  \\\n",
       "200  MAESPTEEAATA--GAGAAGPGASSVAGVVGVSGSGGGFGPPFLPD...   \n",
       "201  MAESPTEEAATA--GAGAAGPGASSVAGVVGVSGSGGGFGPPFLPD...   \n",
       "202  MAESPTEEAATA--GAGAAGPGASSVAGVVGVSGSGGGFGPPFLPD...   \n",
       "203  MAESPTEEAATA----GAGAAGPGASSVAGVVGVSGSGGGFGPPFL...   \n",
       "204  MAESPTEEAATA----GAGAAGPGASSVAGVVGVSGSGGGFGPPFL...   \n",
       "205  MAESPTEEAATA--GAGAAGPGASSVAGVVGVSGSGGGFGPPFLPD...   \n",
       "206  MAESPTEEAATA--GAGAAGPGASSVAGVVGVSGSGGGFGPPFLPD...   \n",
       "207  MAESPTEEAATA--GAGAAGPGASSVAGVVGVSGSGGGFGPPFLPD...   \n",
       "208  MAESPTEEAATA--GAGAAGPGASSVAGVVGVSGSGGGFGPPFLPD...   \n",
       "209  MAESPTEEAATA--GAGAAGPGASSVAGVVGVSGSGGGFGPPFLPD...   \n",
       "\n",
       "                                             match_seq  \\\n",
       "200  MAESPTEEAATA  GAGAAGPGAS V GVVGVSGSG  FGPPFLPD...   \n",
       "201  MAESPTEEAATA  GAGA GPGAS VAGVVGVSGSG  FGPPFLPD...   \n",
       "202  MAESPTEEAATA  GAGAAGPGAS V GVVGVSGSG  FGPPFLPD...   \n",
       "203  MAESPTEEAATA    GAGAAGPGAS VAGVVGVSGSG  FGPPFL...   \n",
       "204  MAESPTEEAATA    GAGAAGPGAS VAGVVGVSGSG  FGPPFL...   \n",
       "205  MAESPTEEAATA  G GA GPGAS VA VVGVS SGGGFGPPFLPD...   \n",
       "206  MAESPTEEAATA  GAGAAGPGAS VAGVVGVSGSG  FGPPFLPD...   \n",
       "207  MAESPTEEAATA  GAGAAGPGAS VAGVVGVSGSG  FGPPFLPD...   \n",
       "208  MAESPTEEAATA  GAGAAGPGAS VAGVVGVSGSG  FGPPFLPD...   \n",
       "209  MAESPTEEAATA  GAGAAGPGAS VAGVVGVSGSG  FGPPFLPD...   \n",
       "\n",
       "                                           subject_seq  query_start  \\\n",
       "200  MAESPTEEAATATAGAGAAGPGASGVTGVVGVSGSG--FGPPFLPD...            1   \n",
       "201  MAESPTEEAATATAGAGATGPGASGVAGVVGVSGSG--FGPPFLPD...            1   \n",
       "202  MAESPTEEAATATAGAGAAGPGASGVTGVVGVSGSG--FGPPFLPD...            1   \n",
       "203  MAESPTEEAATATATAGAGAAGPGASGVAGVVGVSGSG--FGPPFL...            1   \n",
       "204  MAESPTEEAATATATAGAGAAGPGASGVAGVVGVSGSG--FGPPFL...            1   \n",
       "205  MAESPTEEAATATAGPGATGPGASGVASVVGVSSSGGGFGPPFLPD...            1   \n",
       "206  MAESPTEEAATATAGAGAAGPGASGVAGVVGVSGSG--FGPPFLPD...            1   \n",
       "207  MAESPTEEAATATAGAGAAGPGASGVAGVVGVSGSG--FGPPFLPD...            1   \n",
       "208  MAESPTEEAATATAGAGAAGPGASGVAGVVGVSGSG--FGPPFLPD...            1   \n",
       "209  MAESPTEEAATATAGAGAAGPGASGVAGVVGVSGSG--FGPPFLPD...            1   \n",
       "\n",
       "     query_end  subject_start  subject_end  identity  positive  gaps  eval  \\\n",
       "200        354              1          354       350       350     4   0.0   \n",
       "201        354              1          354       350       350     4   0.0   \n",
       "202        354              1          354       350       350     4   0.0   \n",
       "203        354              1          356       351       351     6   0.0   \n",
       "204        354              1          356       351       351     6   0.0   \n",
       "205        354              1          356       348       349     2   0.0   \n",
       "206        354              1          354       351       351     4   0.0   \n",
       "207        354              1          354       351       351     4   0.0   \n",
       "208        354              1          354       351       351     4   0.0   \n",
       "209        354              1          354       351       351     4   0.0   \n",
       "\n",
       "     bit_score  count  \n",
       "200     1851.0    200  \n",
       "201     1851.0    200  \n",
       "202     1851.0    200  \n",
       "203     1854.0    200  \n",
       "204     1854.0    200  \n",
       "205     1854.0    200  \n",
       "206     1856.0    200  \n",
       "207     1856.0    200  \n",
       "208     1856.0    200  \n",
       "209     1856.0    200  "
      ]
     },
     "execution_count": 17,
     "metadata": {},
     "output_type": "execute_result"
    }
   ],
   "source": [
    "# Leaving only disordered regions in the initial dataframe\n",
    "disordered = df[df['query_id'].isin(curated_disprot['acc'])]\n",
    "disordered.to_csv(\"disordered_df.csv\", index=False)\n",
    "\n",
    "print(len(disordered))\n",
    "disordered.head(10)"
   ]
  },
  {
   "cell_type": "markdown",
   "id": "83079af5",
   "metadata": {},
   "source": [
    "We would like to determine if there are any disordered regions present for a specific query ID in the alignment."
   ]
  },
  {
   "cell_type": "code",
   "execution_count": 18,
   "id": "69ce5f70",
   "metadata": {
    "ExecuteTime": {
     "end_time": "2023-06-08T07:37:08.615565Z",
     "start_time": "2023-06-08T07:37:08.610255Z"
    }
   },
   "outputs": [
    {
     "data": {
      "text/html": [
       "<div>\n",
       "<style scoped>\n",
       "    .dataframe tbody tr th:only-of-type {\n",
       "        vertical-align: middle;\n",
       "    }\n",
       "\n",
       "    .dataframe tbody tr th {\n",
       "        vertical-align: top;\n",
       "    }\n",
       "\n",
       "    .dataframe thead th {\n",
       "        text-align: right;\n",
       "    }\n",
       "</style>\n",
       "<table border=\"1\" class=\"dataframe\">\n",
       "  <thead>\n",
       "    <tr style=\"text-align: right;\">\n",
       "      <th></th>\n",
       "      <th>query_id</th>\n",
       "      <th>subject_id</th>\n",
       "      <th>query_len</th>\n",
       "      <th>hsp_len</th>\n",
       "      <th>query_seq</th>\n",
       "      <th>match_seq</th>\n",
       "      <th>subject_seq</th>\n",
       "      <th>query_start</th>\n",
       "      <th>query_end</th>\n",
       "      <th>subject_start</th>\n",
       "      <th>subject_end</th>\n",
       "      <th>identity</th>\n",
       "      <th>positive</th>\n",
       "      <th>gaps</th>\n",
       "      <th>eval</th>\n",
       "      <th>bit_score</th>\n",
       "      <th>count</th>\n",
       "    </tr>\n",
       "  </thead>\n",
       "  <tbody>\n",
       "    <tr>\n",
       "      <th>200</th>\n",
       "      <td>Q9H832</td>\n",
       "      <td>A0A6J2FM24</td>\n",
       "      <td>354</td>\n",
       "      <td>356</td>\n",
       "      <td>MAESPTEEAATA--GAGAAGPGASSVAGVVGVSGSGGGFGPPFLPD...</td>\n",
       "      <td>MAESPTEEAATA  GAGAAGPGAS V GVVGVSGSG  FGPPFLPD...</td>\n",
       "      <td>MAESPTEEAATATAGAGAAGPGASGVTGVVGVSGSG--FGPPFLPD...</td>\n",
       "      <td>1</td>\n",
       "      <td>354</td>\n",
       "      <td>1</td>\n",
       "      <td>354</td>\n",
       "      <td>350</td>\n",
       "      <td>350</td>\n",
       "      <td>4</td>\n",
       "      <td>0.0</td>\n",
       "      <td>1851.0</td>\n",
       "      <td>200</td>\n",
       "    </tr>\n",
       "    <tr>\n",
       "      <th>201</th>\n",
       "      <td>Q9H832</td>\n",
       "      <td>A0A3Q7W6Y2</td>\n",
       "      <td>354</td>\n",
       "      <td>356</td>\n",
       "      <td>MAESPTEEAATA--GAGAAGPGASSVAGVVGVSGSGGGFGPPFLPD...</td>\n",
       "      <td>MAESPTEEAATA  GAGA GPGAS VAGVVGVSGSG  FGPPFLPD...</td>\n",
       "      <td>MAESPTEEAATATAGAGATGPGASGVAGVVGVSGSG--FGPPFLPD...</td>\n",
       "      <td>1</td>\n",
       "      <td>354</td>\n",
       "      <td>1</td>\n",
       "      <td>354</td>\n",
       "      <td>350</td>\n",
       "      <td>350</td>\n",
       "      <td>4</td>\n",
       "      <td>0.0</td>\n",
       "      <td>1851.0</td>\n",
       "      <td>200</td>\n",
       "    </tr>\n",
       "    <tr>\n",
       "      <th>202</th>\n",
       "      <td>Q9H832</td>\n",
       "      <td>A0A2U3VK69</td>\n",
       "      <td>354</td>\n",
       "      <td>356</td>\n",
       "      <td>MAESPTEEAATA--GAGAAGPGASSVAGVVGVSGSGGGFGPPFLPD...</td>\n",
       "      <td>MAESPTEEAATA  GAGAAGPGAS V GVVGVSGSG  FGPPFLPD...</td>\n",
       "      <td>MAESPTEEAATATAGAGAAGPGASGVTGVVGVSGSG--FGPPFLPD...</td>\n",
       "      <td>1</td>\n",
       "      <td>354</td>\n",
       "      <td>1</td>\n",
       "      <td>354</td>\n",
       "      <td>350</td>\n",
       "      <td>350</td>\n",
       "      <td>4</td>\n",
       "      <td>0.0</td>\n",
       "      <td>1851.0</td>\n",
       "      <td>200</td>\n",
       "    </tr>\n",
       "    <tr>\n",
       "      <th>203</th>\n",
       "      <td>Q9H832</td>\n",
       "      <td>A0A2Y9JVH5</td>\n",
       "      <td>354</td>\n",
       "      <td>358</td>\n",
       "      <td>MAESPTEEAATA----GAGAAGPGASSVAGVVGVSGSGGGFGPPFL...</td>\n",
       "      <td>MAESPTEEAATA    GAGAAGPGAS VAGVVGVSGSG  FGPPFL...</td>\n",
       "      <td>MAESPTEEAATATATAGAGAAGPGASGVAGVVGVSGSG--FGPPFL...</td>\n",
       "      <td>1</td>\n",
       "      <td>354</td>\n",
       "      <td>1</td>\n",
       "      <td>356</td>\n",
       "      <td>351</td>\n",
       "      <td>351</td>\n",
       "      <td>6</td>\n",
       "      <td>0.0</td>\n",
       "      <td>1854.0</td>\n",
       "      <td>200</td>\n",
       "    </tr>\n",
       "    <tr>\n",
       "      <th>204</th>\n",
       "      <td>Q9H832</td>\n",
       "      <td>A0A8C7ALE4</td>\n",
       "      <td>354</td>\n",
       "      <td>358</td>\n",
       "      <td>MAESPTEEAATA----GAGAAGPGASSVAGVVGVSGSGGGFGPPFL...</td>\n",
       "      <td>MAESPTEEAATA    GAGAAGPGAS VAGVVGVSGSG  FGPPFL...</td>\n",
       "      <td>MAESPTEEAATATATAGAGAAGPGASGVAGVVGVSGSG--FGPPFL...</td>\n",
       "      <td>1</td>\n",
       "      <td>354</td>\n",
       "      <td>1</td>\n",
       "      <td>356</td>\n",
       "      <td>351</td>\n",
       "      <td>351</td>\n",
       "      <td>6</td>\n",
       "      <td>0.0</td>\n",
       "      <td>1854.0</td>\n",
       "      <td>200</td>\n",
       "    </tr>\n",
       "  </tbody>\n",
       "</table>\n",
       "</div>"
      ],
      "text/plain": [
       "    query_id  subject_id  query_len  hsp_len  \\\n",
       "200   Q9H832  A0A6J2FM24        354      356   \n",
       "201   Q9H832  A0A3Q7W6Y2        354      356   \n",
       "202   Q9H832  A0A2U3VK69        354      356   \n",
       "203   Q9H832  A0A2Y9JVH5        354      358   \n",
       "204   Q9H832  A0A8C7ALE4        354      358   \n",
       "\n",
       "                                             query_seq  \\\n",
       "200  MAESPTEEAATA--GAGAAGPGASSVAGVVGVSGSGGGFGPPFLPD...   \n",
       "201  MAESPTEEAATA--GAGAAGPGASSVAGVVGVSGSGGGFGPPFLPD...   \n",
       "202  MAESPTEEAATA--GAGAAGPGASSVAGVVGVSGSGGGFGPPFLPD...   \n",
       "203  MAESPTEEAATA----GAGAAGPGASSVAGVVGVSGSGGGFGPPFL...   \n",
       "204  MAESPTEEAATA----GAGAAGPGASSVAGVVGVSGSGGGFGPPFL...   \n",
       "\n",
       "                                             match_seq  \\\n",
       "200  MAESPTEEAATA  GAGAAGPGAS V GVVGVSGSG  FGPPFLPD...   \n",
       "201  MAESPTEEAATA  GAGA GPGAS VAGVVGVSGSG  FGPPFLPD...   \n",
       "202  MAESPTEEAATA  GAGAAGPGAS V GVVGVSGSG  FGPPFLPD...   \n",
       "203  MAESPTEEAATA    GAGAAGPGAS VAGVVGVSGSG  FGPPFL...   \n",
       "204  MAESPTEEAATA    GAGAAGPGAS VAGVVGVSGSG  FGPPFL...   \n",
       "\n",
       "                                           subject_seq  query_start  \\\n",
       "200  MAESPTEEAATATAGAGAAGPGASGVTGVVGVSGSG--FGPPFLPD...            1   \n",
       "201  MAESPTEEAATATAGAGATGPGASGVAGVVGVSGSG--FGPPFLPD...            1   \n",
       "202  MAESPTEEAATATAGAGAAGPGASGVTGVVGVSGSG--FGPPFLPD...            1   \n",
       "203  MAESPTEEAATATATAGAGAAGPGASGVAGVVGVSGSG--FGPPFL...            1   \n",
       "204  MAESPTEEAATATATAGAGAAGPGASGVAGVVGVSGSG--FGPPFL...            1   \n",
       "\n",
       "     query_end  subject_start  subject_end  identity  positive  gaps  eval  \\\n",
       "200        354              1          354       350       350     4   0.0   \n",
       "201        354              1          354       350       350     4   0.0   \n",
       "202        354              1          354       350       350     4   0.0   \n",
       "203        354              1          356       351       351     6   0.0   \n",
       "204        354              1          356       351       351     6   0.0   \n",
       "\n",
       "     bit_score  count  \n",
       "200     1851.0    200  \n",
       "201     1851.0    200  \n",
       "202     1851.0    200  \n",
       "203     1854.0    200  \n",
       "204     1854.0    200  "
      ]
     },
     "execution_count": 18,
     "metadata": {},
     "output_type": "execute_result"
    }
   ],
   "source": [
    "# Check if there are disordered regions for a particular query ID\n",
    "selected_dis = disordered[disordered[\"query_id\"].isin([selected_id])]\n",
    "selected_dis.head()"
   ]
  },
  {
   "cell_type": "markdown",
   "id": "f47ff26a",
   "metadata": {},
   "source": [
    "We will extract the start-end information from the `curated_disprot` dataframe to identify the positions of disordered regions. This information will be used to trim the multiple sequence alignment (MSA), retaining only the sequences corresponding to the disordered regions."
   ]
  },
  {
   "cell_type": "code",
   "execution_count": 19,
   "id": "1ce9ca56",
   "metadata": {
    "ExecuteTime": {
     "end_time": "2023-06-08T07:37:10.019160Z",
     "start_time": "2023-06-08T07:37:10.009657Z"
    }
   },
   "outputs": [
    {
     "data": {
      "text/plain": [
       "([1, 327], [99, 354])"
      ]
     },
     "execution_count": 19,
     "metadata": {},
     "output_type": "execute_result"
    }
   ],
   "source": [
    "# Filter the curated_disprot dataframe based on selected_id\n",
    "filtered_curated = curated_disprot[curated_disprot['acc'] == selected_id]\n",
    "\n",
    "# Extract the lists of start and end regions\n",
    "start_regions = filtered_curated['start'].tolist()\n",
    "end_regions = filtered_curated['end'].tolist()\n",
    "start_regions, end_regions"
   ]
  },
  {
   "cell_type": "code",
   "execution_count": 20,
   "id": "6c157519",
   "metadata": {
    "ExecuteTime": {
     "end_time": "2023-06-08T07:37:12.953316Z",
     "start_time": "2023-06-08T07:37:12.942699Z"
    }
   },
   "outputs": [],
   "source": [
    "regs = trim_dis_regions(al_blast, selected_id, start_regions, end_regions)\n",
    "dis_msa = f\"{directory}results/disordered/fasta/{selected_id}_disordered.fasta\""
   ]
  },
  {
   "cell_type": "code",
   "execution_count": 21,
   "id": "59774518",
   "metadata": {
    "ExecuteTime": {
     "end_time": "2023-06-08T08:04:33.069515Z",
     "start_time": "2023-06-08T08:04:33.033877Z"
    }
   },
   "outputs": [
    {
     "data": {
      "text/plain": [
       "array([['M', 'A', 'E', ..., 'L', 'R', 'V'],\n",
       "       ['M', 'A', 'E', ..., 'L', 'R', 'V'],\n",
       "       ['M', 'A', 'E', ..., 'L', 'R', 'V'],\n",
       "       ...,\n",
       "       ['M', 'A', 'S', ..., 'I', 'K', 'I'],\n",
       "       ['M', 'A', 'S', ..., 'I', 'K', 'I'],\n",
       "       ['M', 'A', 'S', ..., 'I', 'K', 'I']], dtype='<U1')"
      ]
     },
     "execution_count": 21,
     "metadata": {},
     "output_type": "execute_result"
    }
   ],
   "source": [
    "# Look at the resulting regions\n",
    "get_seqs(dis_msa, 'disordered', selected_id)"
   ]
  }
 ],
 "metadata": {
  "kernelspec": {
   "display_name": "Python 3 (ipykernel)",
   "language": "python",
   "name": "python3"
  },
  "language_info": {
   "codemirror_mode": {
    "name": "ipython",
    "version": 3
   },
   "file_extension": ".py",
   "mimetype": "text/x-python",
   "name": "python",
   "nbconvert_exporter": "python",
   "pygments_lexer": "ipython3",
   "version": "3.9.12"
  }
 },
 "nbformat": 4,
 "nbformat_minor": 5
}
